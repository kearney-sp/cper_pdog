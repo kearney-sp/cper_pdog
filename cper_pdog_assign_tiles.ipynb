{
 "cells": [
  {
   "cell_type": "code",
   "execution_count": 33,
   "id": "eb203553-56f9-4f8f-8bdf-58a1e61d4d90",
   "metadata": {},
   "outputs": [],
   "source": [
    "import geopandas as gpd\n",
    "import pandas as pd\n",
    "import os"
   ]
  },
  {
   "cell_type": "code",
   "execution_count": 34,
   "id": "d8a1e935-2a02-4ccb-a3ee-6c377fe6c9cf",
   "metadata": {},
   "outputs": [],
   "source": [
    "cluster_loc = 'local'\n",
    "\n",
    "if cluster_loc == 'hpc':\n",
    "    os.chdir('/project/cper_neon_aop/cper_pdog_uas')\n",
    "elif cluster_loc == 'local':\n",
    "    os.chdir('./')"
   ]
  },
  {
   "cell_type": "code",
   "execution_count": 35,
   "id": "9a43d666-da2f-4eee-ac08-0b2ca6cb0974",
   "metadata": {},
   "outputs": [],
   "source": [
    "gdf_ground_points_all = gpd.read_file('ground_data/cper_pdog_points_2021Sept.shp')\n",
    "\n",
    "for idx, pasture in enumerate(['5W', '22W', '22E', '29-30', 'CN']):\n",
    "    if idx == 0:\n",
    "        df_bboxes = pd.read_csv('train_tiles/train_bboxes_' + pasture + '.csv')\n",
    "    else:\n",
    "        df_bboxes = pd.concat([df_bboxes, pd.read_csv('train_tiles/train_bboxes_' + pasture + '.csv')])"
   ]
  },
  {
   "cell_type": "code",
   "execution_count": 39,
   "id": "16853b59-4ac4-4dc4-9fe5-0c22b20c2dc2",
   "metadata": {},
   "outputs": [
    {
     "data": {
      "text/plain": [
       "Type\n",
       "random            110\n",
       "burrows_active     45\n",
       "non_burrows        35\n",
       "burrows_old        12\n",
       "dtype: int64"
      ]
     },
     "execution_count": 39,
     "metadata": {},
     "output_type": "execute_result"
    }
   ],
   "source": [
    "df_bboxes.value_counts('Type')"
   ]
  },
  {
   "cell_type": "code",
   "execution_count": 25,
   "id": "649a750e-180e-4b21-9ace-ab8b21283308",
   "metadata": {},
   "outputs": [],
   "source": [
    "df_bboxes = df_bboxes[df_bboxes['Digitize'] == 1].reset_index(drop=True)\n",
    "df_bboxes['path_pre'] = df_bboxes.apply(lambda x: os.path.join('train_tiles',\n",
    "                                                           x['Pasture'] + '_' + x['Type'],\n",
    "                                                           x['Pasture'] + '_' + x['Tile'] + '_'), axis=1)\n",
    "df_bboxes.loc[df_bboxes[df_bboxes['Type'] == 'random'].groupby(\n",
    "    'Pasture').sample(n=2, random_state=123).index, 'trainer'] = 'All'\n",
    "df_bboxes.loc[df_bboxes[df_bboxes['Type'] == 'burrows_active'].groupby(\n",
    "    'Pasture').sample(n=1, random_state=223).index, 'trainer'] = 'All'\n",
    "\n",
    "df_bboxes_sub = df_bboxes.loc[df_bboxes['trainer'] != 'All'].sample(frac=1, random_state=323)\n",
    "\n",
    "df_bboxes_sub.iloc[:30, df_bboxes_sub.columns.get_loc('trainer')] = 'Lauren'\n",
    "df_bboxes_sub.iloc[30:60, df_bboxes_sub.columns.get_loc('trainer')] = 'David'\n",
    "df_bboxes_sub.iloc[60:90, df_bboxes_sub.columns.get_loc('trainer')] = 'Sean'\n",
    "df_bboxes_sub.iloc[90:, df_bboxes_sub.columns.get_loc('trainer')] = 'Nick'\n",
    "\n",
    "df_bboxes_fnl = pd.concat([df_bboxes[df_bboxes['trainer'] == 'All'], df_bboxes_sub])\n",
    "df_bboxes_fnl.loc[df_bboxes_fnl['Poly_ID'].isnull(), 'Poly_ID'] = 'None'"
   ]
  },
  {
   "cell_type": "code",
   "execution_count": 26,
   "id": "f4172743-7bb5-4304-8a63-f1833304f567",
   "metadata": {},
   "outputs": [],
   "source": [
    "df_bboxes_fnl['Train_old'] = df_bboxes_fnl['Train']\n",
    "df_bboxes_fnl['Train'] = 0\n",
    "df_bboxes_fnl.loc[df_bboxes_fnl[df_bboxes_fnl['Type'] == 'random'].sample(\n",
    "    frac=0.80, axis=0, random_state=4321).index, 'Train'] = 1"
   ]
  },
  {
   "cell_type": "code",
   "execution_count": 27,
   "id": "9aa8d73b-4f11-4330-8433-d7b2be16a6c4",
   "metadata": {},
   "outputs": [],
   "source": [
    "#df_bboxes_fnl.loc[df_bboxes_fnl[df_bboxes_fnl['Type'] == 'random'].sample(\n",
    "#    frac=0.20, axis=0, random_state=4321).index]"
   ]
  },
  {
   "cell_type": "code",
   "execution_count": 28,
   "id": "dd650796-0a1c-445a-b765-50e022bf752d",
   "metadata": {},
   "outputs": [
    {
     "data": {
      "text/plain": [
       "Train\n",
       "1    88\n",
       "0    45\n",
       "dtype: int64"
      ]
     },
     "execution_count": 28,
     "metadata": {},
     "output_type": "execute_result"
    }
   ],
   "source": [
    "df_bboxes_fnl.value_counts('Train')"
   ]
  },
  {
   "cell_type": "code",
   "execution_count": 30,
   "id": "8b6b997b-78a0-40a6-95e1-ffd3a3c17760",
   "metadata": {},
   "outputs": [
    {
     "data": {
      "text/plain": [
       "Train\n",
       "1    88\n",
       "0    22\n",
       "dtype: int64"
      ]
     },
     "execution_count": 30,
     "metadata": {},
     "output_type": "execute_result"
    }
   ],
   "source": [
    "df_bboxes_fnl[df_bboxes_fnl['Type'] == 'random'].value_counts('Train')"
   ]
  },
  {
   "cell_type": "code",
   "execution_count": 31,
   "id": "2cf8540a-39ae-43a5-bd30-aa5ca03216bf",
   "metadata": {},
   "outputs": [
    {
     "data": {
      "text/plain": [
       "Train\n",
       "0    23\n",
       "dtype: int64"
      ]
     },
     "execution_count": 31,
     "metadata": {},
     "output_type": "execute_result"
    }
   ],
   "source": [
    "df_bboxes_fnl[df_bboxes_fnl['Type'] == 'burrows_active'].value_counts('Train')"
   ]
  },
  {
   "cell_type": "code",
   "execution_count": 32,
   "id": "409eb123-2bc8-43e8-ac7e-e0658c4f833a",
   "metadata": {},
   "outputs": [],
   "source": [
    "df_bboxes_fnl.to_csv('train_tiles/train_bboxes_all_assigned.csv')"
   ]
  },
  {
   "cell_type": "code",
   "execution_count": null,
   "id": "3f8ba8dc-6cd1-4c4d-b837-5ea32acfb328",
   "metadata": {},
   "outputs": [],
   "source": []
  }
 ],
 "metadata": {
  "kernelspec": {
   "display_name": "Python 3 (ipykernel)",
   "language": "python",
   "name": "python3"
  },
  "language_info": {
   "codemirror_mode": {
    "name": "ipython",
    "version": 3
   },
   "file_extension": ".py",
   "mimetype": "text/x-python",
   "name": "python",
   "nbconvert_exporter": "python",
   "pygments_lexer": "ipython3",
   "version": "3.9.13"
  }
 },
 "nbformat": 4,
 "nbformat_minor": 5
}
