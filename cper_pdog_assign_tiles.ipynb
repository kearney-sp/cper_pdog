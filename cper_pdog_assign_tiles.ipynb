{
 "cells": [
  {
   "cell_type": "code",
   "execution_count": 2,
   "id": "eb203553-56f9-4f8f-8bdf-58a1e61d4d90",
   "metadata": {},
   "outputs": [],
   "source": [
    "import geopandas as gpd\n",
    "import pandas as pd\n",
    "import os"
   ]
  },
  {
   "cell_type": "code",
   "execution_count": 3,
   "id": "d8a1e935-2a02-4ccb-a3ee-6c377fe6c9cf",
   "metadata": {},
   "outputs": [],
   "source": [
    "os.chdir('/project/cper_neon_aop/cper_pdog_uas')"
   ]
  },
  {
   "cell_type": "code",
   "execution_count": 4,
   "id": "08b2eaaa-9e16-43b7-80f8-b1f1975ecfd4",
   "metadata": {},
   "outputs": [],
   "source": [
    "gdf_ground_points_all = gpd.read_file('ground_data/cper_pdog_points_2021Sept.shp')\n",
    "\n",
    "for idx, pasture in enumerate(['5W', '22W', '22E', '29-30', 'CN']):\n",
    "    if idx == 0:\n",
    "        df_bboxes = pd.read_csv('train_tiles/train_bboxes_' + pasture + '.csv')\n",
    "    else:\n",
    "        df_bboxes = pd.concat([df_bboxes, pd.read_csv('train_tiles/train_bboxes_' + pasture + '.csv')])\n",
    "\n",
    "df_bboxes = df_bboxes[df_bboxes['Digitize'] == 1].reset_index(drop=True)\n",
    "df_bboxes['path_pre'] = df_bboxes.apply(lambda x: os.path.join('train_tiles',\n",
    "                                                           x['Pasture'] + '_' + x['Type'],\n",
    "                                                           x['Pasture'] + '_' + x['Tile'] + '_'), axis=1)\n",
    "df_bboxes.loc[df_bboxes[df_bboxes['Type'] == 'random'].groupby(\n",
    "    'Pasture').sample(n=2, random_state=123).index, 'trainer'] = 'All'\n",
    "df_bboxes.loc[df_bboxes[df_bboxes['Type'] == 'burrows_active'].groupby(\n",
    "    'Pasture').sample(n=1, random_state=223).index, 'trainer'] = 'All'\n",
    "\n",
    "df_bboxes_sub = df_bboxes.loc[df_bboxes['trainer'] != 'All'].sample(frac=1, random_state=323)\n",
    "\n",
    "df_bboxes_sub.iloc[:30, df_bboxes_sub.columns.get_loc('trainer')] = 'Lauren'\n",
    "df_bboxes_sub.iloc[30:60, df_bboxes_sub.columns.get_loc('trainer')] = 'David'\n",
    "df_bboxes_sub.iloc[60:90, df_bboxes_sub.columns.get_loc('trainer')] = 'Sean'\n",
    "df_bboxes_sub.iloc[90:, df_bboxes_sub.columns.get_loc('trainer')] = 'Nick'\n",
    "\n",
    "df_bboxes_fnl = pd.concat([df_bboxes[df_bboxes['trainer'] == 'All'], df_bboxes_sub])\n",
    "df_bboxes_fnl.loc[df_bboxes_fnl['Poly_ID'].isnull(), 'Poly_ID'] = 'None'\n",
    "type_dict = {'burrows_active': 0, 'random': 1}"
   ]
  },
  {
   "cell_type": "code",
   "execution_count": 6,
   "id": "409eb123-2bc8-43e8-ac7e-e0658c4f833a",
   "metadata": {},
   "outputs": [],
   "source": [
    "df_bboxes_fnl.to_csv('train_tiles/train_bboxes_all_assigned.csv')"
   ]
  },
  {
   "cell_type": "code",
   "execution_count": null,
   "id": "3f8ba8dc-6cd1-4c4d-b837-5ea32acfb328",
   "metadata": {},
   "outputs": [],
   "source": []
  }
 ],
 "metadata": {
  "kernelspec": {
   "display_name": "Python 3 (ipykernel)",
   "language": "python",
   "name": "python3"
  },
  "language_info": {
   "codemirror_mode": {
    "name": "ipython",
    "version": 3
   },
   "file_extension": ".py",
   "mimetype": "text/x-python",
   "name": "python",
   "nbconvert_exporter": "python",
   "pygments_lexer": "ipython3",
   "version": "3.9.13"
  }
 },
 "nbformat": 4,
 "nbformat_minor": 5
}
