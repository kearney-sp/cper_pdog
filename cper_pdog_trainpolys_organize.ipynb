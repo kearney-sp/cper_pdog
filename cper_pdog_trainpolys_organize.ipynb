{
 "cells": [
  {
   "cell_type": "code",
   "execution_count": null,
   "id": "66474fce-36f7-476f-9e7b-69228f08580d",
   "metadata": {},
   "outputs": [],
   "source": [
    "import pandas as pd\n",
    "import geopandas as gpd\n",
    "import rasterio as rio\n",
    "import matplotlib.pyplot as plt\n",
    "from rasterio.features import rasterize\n",
    "from rasterio.enums import Resampling\n",
    "import os\n",
    "import numpy as np\n",
    "import glob\n",
    "from rasterio.plot import show\n",
    "from shapely.geometry import Polygon\n",
    "import itertools\n",
    "from rasterio import mask\n",
    "import re\n",
    "import random\n",
    "import time\n",
    "from tqdm.notebook import tqdm"
   ]
  },
  {
   "cell_type": "code",
   "execution_count": null,
   "id": "2eeef052-93c2-46d2-ac71-3fff341e526f",
   "metadata": {},
   "outputs": [],
   "source": [
    "# set I/O directories\n",
    "train_poly_DIR = '/project/cper_neon_aop/cper_pdog_uas/train_polys'\n",
    "train_tiles_DIR = '/project/cper_neon_aop/cper_pdog_uas/train_tiles'\n",
    "outDIR_imgs = '/project/cper_neon_aop/cper_pdog_uas/cnn_train_images'\n",
    "outDIR_labs = '/project/cper_neon_aop/cper_pdog_uas/cnn_train_labels'\n",
    "\n",
    "# create output directories if necessary\n",
    "if not os.path.exists(outDIR_imgs):\n",
    "    os.mkdir(outDIR_imgs)\n",
    "if not os.path.exists(outDIR_labs):\n",
    "    os.mkdir(outDIR_labs)\n",
    "\n",
    "# set list of trainers and training tile groups\n",
    "trainer_list = ['Sean', 'Lauren', 'David']\n",
    "group_list = ['random', 'group', 'group2']"
   ]
  },
  {
   "cell_type": "code",
   "execution_count": null,
   "id": "8679a875-84b8-46b9-bd02-51c12d641b93",
   "metadata": {},
   "outputs": [],
   "source": [
    "# loop through all trainers and groups to create concatenated training dataset\n",
    "idx = 0\n",
    "for trainer in trainer_list:\n",
    "    for group in group_list:\n",
    "        if group != 'random' and trainer != 'Sean':\n",
    "            continue\n",
    "        else:\n",
    "            print('_'.join([trainer, group]))\n",
    "            inDIR = os.path.join(train_poly_DIR, '_'.join([trainer, group]))\n",
    "            poly_flist = list(filter(os.path.isfile, \n",
    "                                glob.glob(inDIR + '/delim_' + '_'.join([trainer, group]) + '*.shp')))\n",
    "            if len(poly_flist) > 0:\n",
    "                poly_flist.sort(key=lambda x: os.path.getctime(x))\n",
    "            else:\n",
    "                print('ERROR: No shapefiles found')\n",
    "                continue                            \n",
    "            poly_f = poly_flist[-1]\n",
    "            train_polys_tmp = gpd.read_file(poly_f)\n",
    "            train_polys_tmp['group'] = group\n",
    "            if idx == 0:\n",
    "                train_polys = train_polys_tmp\n",
    "            else:\n",
    "                train_polys = train_polys.append(train_polys_tmp)\n",
    "            idx += 1\n",
    "\n",
    "# set CRS of training dataset\n",
    "train_polys = train_polys.set_crs(32613).reset_index().rename(columns={'index':'orig_index'})"
   ]
  },
  {
   "cell_type": "code",
   "execution_count": null,
   "id": "d778036a-942f-41d6-9912-d1b35bc82455",
   "metadata": {},
   "outputs": [],
   "source": [
    "# drop bad polygon identified by David\n",
    "train_polys = train_polys[~((train_polys['Trainer'] == 'David') & (train_polys['Tile'] == '22W_0') & (train_polys['Comment'] == 'NoB'))].copy()"
   ]
  },
  {
   "cell_type": "code",
   "execution_count": null,
   "id": "ff9fd0e1-5a65-495f-a57e-05398cce9a98",
   "metadata": {},
   "outputs": [],
   "source": [
    "# get any duplicated tiles from group2\n",
    "rand_tile_list = train_polys[train_polys['group'] == 'random']['Tile'].unique()\n",
    "group_tile_list = train_polys[train_polys['group'] == 'group']['Tile'].unique()\n",
    "group2_tile_list = train_polys[train_polys['group'] == 'group2']['Tile'].unique()\n",
    "dup_tile_list = [item for item in group2_tile_list if item in rand_tile_list or item in group_tile_list]\n",
    "print('removing duplicated tiles: ')\n",
    "display(dup_tile_list)\n",
    "\n",
    "# drop any tiles from group2 if they also appear in random group\n",
    "train_polys = train_polys[~((train_polys['group'] == 'group2') &\n",
    "                            (train_polys['Tile'].isin(dup_tile_list)))]"
   ]
  },
  {
   "cell_type": "code",
   "execution_count": null,
   "id": "068dc6b2-a81e-4fe9-9c0c-bf7ac55535d2",
   "metadata": {},
   "outputs": [],
   "source": [
    "train_polys['Tile'].unique()"
   ]
  },
  {
   "cell_type": "code",
   "execution_count": null,
   "id": "c7a7f0cb-ce25-4ef4-bbd7-5d33c2c5b81f",
   "metadata": {},
   "outputs": [],
   "source": [
    "# read in list of training tiles\n",
    "df_tiles = pd.read_csv(os.path.join(train_tiles_DIR, 'train_bboxes_all_assigned.csv'))\n",
    "\n",
    "# get unique id's for each polygon within each tile\n",
    "train_polys['subID'] = train_polys.groupby('Tile').transform(lambda x: np.arange(len(x)))['Comment']\n",
    "\n",
    "# save concatenated training polygon dataset\n",
    "train_polys.to_csv('train_polys/train_polys_all.csv')"
   ]
  },
  {
   "cell_type": "code",
   "execution_count": null,
   "id": "09d7159f-8a1f-4a7a-835a-7987eb86628e",
   "metadata": {},
   "outputs": [],
   "source": [
    "def crop_and_save(rgb_path, label_polys, geom, prefix, win_size):\n",
    "    coords_x = np.array(geom.bounds)[[0, 2]]\n",
    "    coords_y = np.array(geom.bounds)[[1, 3]]\n",
    "    # get the box coordinate pairs\n",
    "    ll, ul, lr, ur = list(itertools.product(coords_x, coords_y))\n",
    "    with rio.open(rgb_path) as src_rgb:   \n",
    "        profile_rgb = src_rgb.meta\n",
    "        rgb_out, transform_out = mask.mask(src_rgb,\n",
    "                                           [geom],\n",
    "                                           crop=True)\n",
    "        rgb_out = rgb_out[:, -win_size:, :win_size]\n",
    "        ll_i = src_rgb.index(*ll)\n",
    "        ur_i = src_rgb.index(*ur)\n",
    "        if len(label_polys) > 0:\n",
    "            label = rasterize(label_polys.geometry, out_shape=src_rgb.shape, transform=src_rgb.transform)\n",
    "        else:\n",
    "            label = np.zeros(src_rgb.shape)\n",
    "        label = label[ll_i[0]-win_size:ll_i[0], ll_i[1]:ll_i[1] + win_size]\n",
    "        \n",
    "        profile_rgb.update({'dtype': 'int16',\n",
    "                            'width': win_size,\n",
    "                            'height': win_size,\n",
    "                            'transform': transform_out})\n",
    "        profile_single = profile_rgb.copy()\n",
    "        profile_single.update({'count': 1})\n",
    "        profile_single_float = profile_single.copy()\n",
    "        profile_single_float.update({'dtype': 'float64'})\n",
    "        tile_basename_rgb = os.path.basename(rgb_path)\n",
    "        with rio.open(os.path.join(outDIR_imgs, prefix + '_' + tile_basename_rgb), 'w', **profile_rgb) as dst:\n",
    "            dst.write(rgb_out)\n",
    "        with rio.open(os.path.join(outDIR_labs, prefix + '_' + re.sub('_rgb', '_labels', tile_basename_rgb)), 'w', **profile_single) as dst:\n",
    "            dst.write(label, 1)\n",
    "        for suffix in ['ndvi', 'dsm', 'shade', 'tpi']:\n",
    "            with rio.open(re.sub('rgb', suffix, rgb_path)) as src_i:\n",
    "                profile_i = src_i.profile\n",
    "                i_out = src_i.read(out_shape=(\n",
    "                    src_i.count,\n",
    "                    src_rgb.meta['width'],\n",
    "                    src_rgb.meta['height']),\n",
    "                                   resampling=Resampling.bilinear)\n",
    "                i_out = i_out[:, ll_i[0]-win_size:ll_i[0], ll_i[1]:ll_i[1] + win_size]\n",
    "                profile_i.update({'width': i_out.shape[2],\n",
    "                                  'height': i_out.shape[1],\n",
    "                                  'transform': transform_out})\n",
    "                with rio.open(os.path.join(outDIR_imgs, prefix + '_' + re.sub('rgb', suffix, tile_basename_rgb)), 'w', **profile_i) as dst:\n",
    "                    dst.write(i_out)"
   ]
  },
  {
   "cell_type": "code",
   "execution_count": null,
   "id": "aeae5bfc-1970-4709-9aff-6fa03686525b",
   "metadata": {},
   "outputs": [],
   "source": [
    "len(df_tiles['ID'][(df_tiles['trainer'] != 'Nick') &\n",
    "                         (df_tiles['Digitize'] == 1)])"
   ]
  },
  {
   "cell_type": "code",
   "execution_count": null,
   "id": "5d8dc60f-e5f8-4d11-a00e-0a5e3b4a6424",
   "metadata": {},
   "outputs": [],
   "source": [
    "df_tiles[(df_tiles['trainer'] != 'Nick') &\n",
    "         (df_tiles['Digitize'] == 1)].tail(5)"
   ]
  },
  {
   "cell_type": "code",
   "execution_count": null,
   "id": "de472e3d-f1c3-4187-84de-0a1ec3f26528",
   "metadata": {},
   "outputs": [],
   "source": [
    "# loop through all tiles, select 5 random windows and select 5 windows from \n",
    "for ID in df_tiles['ID'][(df_tiles['trainer'] != 'Nick') &\n",
    "                         (df_tiles['Digitize'] == 1)] :\n",
    "    print(ID)\n",
    "    # get unique ID of training tile from training dataset\n",
    "    #ID = train_polys.Tile.unique()[0]\n",
    "    # subset only the training polygons associated with the tile ID\n",
    "    #train_polys_sub = train_polys[train_polys['Tile'] == ID]\n",
    "\n",
    "    # get the path base to the imagery associated with the training tile\n",
    "    tilePATH = df_tiles[df_tiles['ID'] == ID]['path_pre'].iloc[0]\n",
    "    # get the x/y coordinates of the bounding box for the training polygon within the tile\n",
    "    box_coords_x = df_tiles[df_tiles['ID'] == ID][['min_x', 'max_x']].iloc[0].values\n",
    "    box_coords_y = df_tiles[df_tiles['ID'] == ID][['min_y', 'max_y']].iloc[0].values\n",
    "    # get the box coordinate pairs\n",
    "    ll, ul, lr, ur = list(itertools.product(box_coords_x, box_coords_y))\n",
    "    # create a polygon from the coordinate pairs\n",
    "    tile_geom = Polygon([ll, ul, ur, lr])\n",
    "    # create the full path to the RGB image of the training tile\n",
    "    tile_f = os.path.join(os.path.dirname(train_tiles_DIR), tilePATH + 'rgb.tif')\n",
    "\n",
    "    with rio.open(tile_f) as src_rgb_samp:   \n",
    "        res_samp = src_rgb_samp.transform[0]\n",
    "\n",
    "    # set window size\n",
    "    win_pix = 32 * 12\n",
    "    win_size = win_pix * res_samp\n",
    "    \n",
    "    fig, ax = plt.subplots()\n",
    "    \n",
    "    # get the subset of training polygons from the tile\n",
    "    train_polys_sub = train_polys[train_polys['Tile'] == ID]\n",
    "    \n",
    "    # remove any burrow polygons whose centroid is outside the training polygon\n",
    "    train_polys_sub = train_polys_sub[~train_polys_sub.apply(lambda x: any([x.geometry.centroid.coords[0][0] < ll[0],\n",
    "                                                                            x.geometry.centroid.coords[0][0] > ur[0],\n",
    "                                                                            x.geometry.centroid.coords[0][1] < ll[1],\n",
    "                                                                            x.geometry.centroid.coords[0][1] > ur[1]]),\n",
    "                                                             axis=1)]\n",
    "    for i in range(max(5, len(train_polys_sub))):\n",
    "        ll_rand = (random.uniform(ll[0], lr[0] - win_size), random.uniform(ll[1], ul[1] - win_size))\n",
    "        rand_geom = Polygon([ll_rand, (ll_rand[0], ll_rand[1] + win_size),\n",
    "                             tuple(map(lambda x: x+win_size, ll_rand)), (ll_rand[0] + win_size, ll_rand[1])])\n",
    "        crop_and_save(tile_f, train_polys_sub, rand_geom.buffer(0.02), 'rand_' + str(i), win_pix)\n",
    "\n",
    "        ax.plot(*tile_geom.exterior.xy, c='grey')\n",
    "        ax.plot(*rand_geom.exterior.xy, c='red')\n",
    "    for poly_id, poly in train_polys_sub.iterrows():\n",
    "        poly_coords_x = np.array(poly.geometry.bounds)[[0, 2]]\n",
    "        poly_coords_y = np.array(poly.geometry.bounds)[[1, 3]]\n",
    "        poly_coords_x[0] = (poly_coords_x[0] + poly_coords_x[1])/2 - win_size/2.0\n",
    "        poly_coords_y[0] = (poly_coords_y[0] + poly_coords_y[1])/2 - win_size/2.0\n",
    "        poly_coords_x[1] = poly_coords_x[0] + win_size\n",
    "        poly_coords_y[1] = poly_coords_y[0] + win_size\n",
    "        # get the box coordinate pairs\n",
    "        poly_ll, poly_ul, poly_lr, poly_ur = list(itertools.product(poly_coords_x, poly_coords_y))\n",
    "        # create a polygon from the coordinate pairs\n",
    "        poly_geom = Polygon([poly_ll, poly_ul, poly_ur, poly_lr])\n",
    "\n",
    "        crop_and_save(tile_f, train_polys_sub, poly_geom.buffer(0.05), 'poly_' + str(poly_id), win_pix)\n",
    "\n",
    "        ax.plot(*poly.geometry.exterior.xy, c='blue')\n",
    "        ax.plot(*poly_geom.exterior.xy, c='orange')\n",
    "    plt.show(block=False)\n",
    "    time.sleep(3)\n",
    "    plt.close(fig)"
   ]
  },
  {
   "cell_type": "code",
   "execution_count": null,
   "id": "0b786570-91ea-488e-809c-0c402e2ac193",
   "metadata": {},
   "outputs": [],
   "source": [
    "print(\"complete\")"
   ]
  },
  {
   "cell_type": "code",
   "execution_count": null,
   "id": "02e52f76-cd02-46a9-a61c-500142ae2afc",
   "metadata": {},
   "outputs": [],
   "source": [
    "ID = '22E_1'\n",
    "tilePATH = df_tiles[df_tiles['ID'] == ID]['path_pre'].iloc[0]\n",
    "tile_f = os.path.join(os.path.dirname(train_tiles_DIR), tilePATH + 'rgb.tif')\n",
    "tile_basename_rgb = os.path.basename(tile_f)\n",
    "prefix = 'poly_81_'"
   ]
  },
  {
   "cell_type": "code",
   "execution_count": null,
   "id": "1234c8d7-a79e-42f2-a230-af9bc2256b4a",
   "metadata": {},
   "outputs": [],
   "source": [
    "fig, ax = plt.subplots(figsize=(4, 4))\n",
    "with rio.open(os.path.join(outDIR_imgs, prefix + tile_basename_rgb)) as src:\n",
    "    show(src.read(), ax=ax)\n",
    "    with rio.open(os.path.join(outDIR_labs, prefix + re.sub('_rgb', '_labels', tile_basename_rgb))) as src_lab:\n",
    "        show(src_lab.read(), ax=ax, alpha=0.3)"
   ]
  },
  {
   "cell_type": "code",
   "execution_count": null,
   "id": "2ca2037d-0250-49e1-84c0-1915bac3a189",
   "metadata": {},
   "outputs": [],
   "source": [
    "with rio.open(os.path.join(outDIR_imgs, prefix + re.sub('_rgb', '_ndvi', tile_basename_rgb))) as src:\n",
    "    plt.figure(figsize=(4, 4))\n",
    "    show(src.read())"
   ]
  },
  {
   "cell_type": "code",
   "execution_count": null,
   "id": "bc2e5039-a771-47e6-9205-e27976762e84",
   "metadata": {},
   "outputs": [],
   "source": [
    "with rio.open(os.path.join(outDIR_imgs, prefix + re.sub('_rgb', '_dsm', tile_basename_rgb))) as src:\n",
    "    plt.figure(figsize=(4, 4))\n",
    "    show(src.read())"
   ]
  },
  {
   "cell_type": "code",
   "execution_count": null,
   "id": "91997691-59c2-47d8-83b4-a9ba69aa3191",
   "metadata": {},
   "outputs": [],
   "source": [
    "with rio.open(os.path.join(outDIR_imgs, prefix + re.sub('_rgb', '_shade', tile_basename_rgb))) as src:\n",
    "    plt.figure(figsize=(4, 4))\n",
    "    show(src.read())"
   ]
  },
  {
   "cell_type": "code",
   "execution_count": null,
   "id": "62eb8759-b0a1-40de-8973-933177d07c48",
   "metadata": {},
   "outputs": [],
   "source": [
    "with rio.open(os.path.join(outDIR_imgs, prefix + re.sub('_rgb', '_tpi', tile_basename_rgb))) as src:\n",
    "    plt.figure(figsize=(4, 4))\n",
    "    show(src.read())"
   ]
  },
  {
   "cell_type": "code",
   "execution_count": null,
   "id": "0b6f6dfb-d45a-42fc-95d6-03e1754ba4ca",
   "metadata": {},
   "outputs": [],
   "source": [
    "for ID, train_polys_sub in tqdm(train_polys.groupby('Tile')):\n",
    "    print(ID)\n",
    "    # get unique ID of training tile from training dataset\n",
    "    #ID = train_polys.Tile.unique()[0]\n",
    "    # subset only the training polygons associated with the tile ID\n",
    "    #train_polys_sub = train_polys[train_polys['Tile'] == ID]\n",
    "\n",
    "    # get the path base to the imagery associated with the training tile\n",
    "    tilePATH = df_tiles[df_tiles['ID'] == ID]['path_pre'].iloc[0]\n",
    "    # get the x/y coordinates of the bounding box for the training polygon within the tile\n",
    "    box_coords_x = df_tiles[df_tiles['ID'] == ID][['min_x', 'max_x']].iloc[0].values\n",
    "    box_coords_y = df_tiles[df_tiles['ID'] == ID][['min_y', 'max_y']].iloc[0].values\n",
    "    # get the box coordinate pairs\n",
    "    ll, ul, lr, ur = list(itertools.product(box_coords_x, box_coords_y))\n",
    "    # create a polygon from the coordinate pairs\n",
    "    tile_geom = Polygon([ll, ul, ur, lr])\n",
    "    # create the full path to the RGB image of the training tile\n",
    "    tile_f = os.path.join(os.path.dirname(train_tiles_DIR), tilePATH + 'rgb.tif')\n",
    "\n",
    "    with rio.open(tile_f) as src_rgb:\n",
    "        profile_rgb = src_rgb.meta\n",
    "        rgb_out, transform_out = mask.mask(src_rgb,\n",
    "                                           [tile_geom],\n",
    "                                           crop=True)\n",
    "        ll_i = src_rgb.index(*ll)\n",
    "        ur_i = src_rgb.index(*ur)\n",
    "        label = rasterize(train_polys_sub.geometry, out_shape=src_rgb.shape, transform=src_rgb.transform)\n",
    "        label = label[ll_i[1]:ur_i[1], ur_i[0]:ll_i[0]]\n",
    "        profile_rgb.update({'dtype': 'int16',\n",
    "                            'width': label.shape[1],\n",
    "                            'height': label.shape[0],\n",
    "                            'transform': transform_out})\n",
    "        profile_single = profile_rgb.copy()\n",
    "        profile_single.update({'count': 1})\n",
    "        profile_single_float = profile_single.copy()\n",
    "        profile_single_float.update({'dtype': 'float64'})\n",
    "        tile_basename_rgb = os.path.basename(tile_f)\n",
    "        with rio.open(os.path.join(outDIR_imgs, 'cnn_' + tile_basename_rgb), 'w', **profile_rgb) as dst:\n",
    "            dst.write(rgb_out)\n",
    "        with rio.open(os.path.join(outDIR_labs, 'cnn_' + re.sub('_rgb', '_labels', tile_basename_rgb)), 'w', **profile_single) as dst:\n",
    "            dst.write(label, 1)\n",
    "        for suffix in ['ndvi', 'dsm', 'shade', 'tpi']:\n",
    "            with rio.open(re.sub('rgb', suffix, tile_f)) as src_i:\n",
    "                profile_i = src_i.profile\n",
    "                i_out = src_i.read(out_shape=(\n",
    "                    src_i.count,\n",
    "                    src_rgb.meta['width'],\n",
    "                    src_rgb.meta['height']),\n",
    "                                   resampling=Resampling.bilinear)\n",
    "                i_out = i_out[:, ll_i[1]:ur_i[1], ur_i[0]:ll_i[0]]\n",
    "                profile_i.update({'width': i_out.shape[2],\n",
    "                                  'height': i_out.shape[1],\n",
    "                                  'transform': transform_out})\n",
    "                with rio.open(os.path.join(outDIR_imgs, 'cnn_' + re.sub('rgb', suffix, tile_basename_rgb)), 'w', **profile_i) as dst:\n",
    "                    dst.write(i_out)"
   ]
  },
  {
   "cell_type": "code",
   "execution_count": null,
   "id": "ff0aa37f-32f6-48a2-b362-f88714f4aeaa",
   "metadata": {},
   "outputs": [],
   "source": [
    "ID = 'CN_30'\n",
    "tilePATH = df_tiles[df_tiles['ID'] == ID]['path_pre'].iloc[0]\n",
    "tile_f = os.path.join(os.path.dirname(train_tiles_DIR), tilePATH + 'rgb.tif')\n",
    "tile_basename_rgb = os.path.basename(tile_f)"
   ]
  },
  {
   "cell_type": "code",
   "execution_count": null,
   "id": "71f228bd-00f6-4e84-98fa-7e6b12d237b2",
   "metadata": {},
   "outputs": [],
   "source": [
    "import matplotlib.pyplot as plt\n",
    "fig, ax = plt.subplots(figsize=(12, 12))\n",
    "with rio.open(os.path.join(outDIR_imgs, 'cnn_' + tile_basename_rgb)) as src:\n",
    "    show(src.read(), ax=ax)\n",
    "    with rio.open(os.path.join(outDIR_labs, 'cnn_' + re.sub('_rgb', '_labels', tile_basename_rgb))) as src_lab:\n",
    "        show(src_lab.read(), ax=ax, alpha=0.2)"
   ]
  },
  {
   "cell_type": "code",
   "execution_count": null,
   "id": "6df0e152-a38b-4559-8559-090b2ce82f2e",
   "metadata": {},
   "outputs": [],
   "source": [
    "with rio.open(os.path.join(outDIR_imgs, 'cnn_' + re.sub('_rgb', '_ndvi', tile_basename_rgb))) as src:\n",
    "    plt.figure(figsize=(12, 12))\n",
    "    show(src.read())"
   ]
  },
  {
   "cell_type": "code",
   "execution_count": null,
   "id": "d935c5b4-db48-4b33-b8c3-cfd5d7807322",
   "metadata": {},
   "outputs": [],
   "source": [
    "with rio.open(os.path.join(outDIR_imgs, 'cnn_' + re.sub('_rgb', '_dsm', tile_basename_rgb))) as src:\n",
    "    plt.figure(figsize=(12, 12))\n",
    "    show(src.read())"
   ]
  },
  {
   "cell_type": "code",
   "execution_count": null,
   "id": "cae7462a-2b27-4e05-917c-28a128fa6888",
   "metadata": {},
   "outputs": [],
   "source": [
    "with rio.open(os.path.join(outDIR_imgs, 'cnn_' + re.sub('_rgb', '_shade', tile_basename_rgb))) as src:\n",
    "    plt.figure(figsize=(12, 12))\n",
    "    show(src.read())"
   ]
  },
  {
   "cell_type": "code",
   "execution_count": null,
   "id": "d1be2f68-514b-469d-83cd-423d4133bcbc",
   "metadata": {},
   "outputs": [],
   "source": [
    "with rio.open(os.path.join(outDIR_imgs, 'cnn_' + re.sub('_rgb', '_tpi', tile_basename_rgb))) as src:\n",
    "    plt.figure(figsize=(12, 12))\n",
    "    show(src.read())"
   ]
  },
  {
   "cell_type": "code",
   "execution_count": null,
   "id": "e41af382-22c1-44ca-b41b-ea52d7c49672",
   "metadata": {},
   "outputs": [],
   "source": []
  }
 ],
 "metadata": {
  "kernelspec": {
   "display_name": "py_geo_env",
   "language": "python",
   "name": "py_geo_env"
  },
  "language_info": {
   "codemirror_mode": {
    "name": "ipython",
    "version": 3
   },
   "file_extension": ".py",
   "mimetype": "text/x-python",
   "name": "python",
   "nbconvert_exporter": "python",
   "pygments_lexer": "ipython3",
   "version": "3.9.9"
  }
 },
 "nbformat": 4,
 "nbformat_minor": 5
}
