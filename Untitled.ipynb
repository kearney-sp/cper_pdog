{
 "cells": [
  {
   "cell_type": "code",
   "execution_count": null,
   "id": "2945aed2-6de0-4f2f-b902-fe4ea08a2cdf",
   "metadata": {},
   "outputs": [],
   "source": [
    "import glob\n",
    "import os"
   ]
  },
  {
   "cell_type": "code",
   "execution_count": null,
   "id": "85595625-ba72-4f15-b8fa-b327d4e14c2b",
   "metadata": {},
   "outputs": [],
   "source": [
    "train_poly_dir = 'Sean_group'"
   ]
  },
  {
   "cell_type": "code",
   "execution_count": null,
   "id": "cd4399e5-fffb-4974-ad2b-d19117cd288e",
   "metadata": {},
   "outputs": [],
   "source": []
  },
  {
   "cell_type": "code",
   "execution_count": null,
   "id": "94e84dae-7d4a-4d66-a38a-7aac26cd6b27",
   "metadata": {},
   "outputs": [],
   "source": [
    "files = list(filter(os.path.isfile, \n",
    "                    glob.glob('/project/cper_neon_aop/cper_pdog_uas/train_polys/' + train_poly_dir + '/delim_' +\\\n",
    "                                       train_poly_dir + '_' + '*.shp')))\n",
    "files.sort(key=lambda x: os.path.getctime(x))"
   ]
  },
  {
   "cell_type": "code",
   "execution_count": null,
   "id": "52826013-dfcb-41ca-8886-0f7dddaedae6",
   "metadata": {},
   "outputs": [],
   "source": [
    "import geopandas as gpd\n",
    "polys = gpd.read_file(files[-1])"
   ]
  },
  {
   "cell_type": "code",
   "execution_count": null,
   "id": "f334a3b4-ec1e-471f-b38e-8341c5827ad9",
   "metadata": {},
   "outputs": [],
   "source": [
    "polys"
   ]
  },
  {
   "cell_type": "code",
   "execution_count": null,
   "id": "0e8bb4c3-9322-4d5a-bfe2-9f5f9a065222",
   "metadata": {},
   "outputs": [],
   "source": [
    "import holoviews as hv\n",
    "hv.extension('bokeh')\n",
    "#hv.Polygons(data={'xs': polys.geometry.x, 'ys': polys.geometry.y})"
   ]
  },
  {
   "cell_type": "code",
   "execution_count": null,
   "id": "7cac42bf-a8d8-4c84-ada0-3760e163309a",
   "metadata": {},
   "outputs": [],
   "source": [
    "polys"
   ]
  },
  {
   "cell_type": "code",
   "execution_count": null,
   "id": "d2f0ebde-dad9-4e51-9713-72b017119e19",
   "metadata": {},
   "outputs": [],
   "source": [
    "polys[polys['Tile'] == '5W_15'].count()[0]"
   ]
  },
  {
   "cell_type": "code",
   "execution_count": null,
   "id": "c09d14ed-1fad-413c-9a2f-06f4a97fae24",
   "metadata": {},
   "outputs": [],
   "source": [
    "test = hv.Polygons([])"
   ]
  },
  {
   "cell_type": "code",
   "execution_count": null,
   "id": "36a37c4e-b58d-4054-8085-121099125535",
   "metadata": {},
   "outputs": [],
   "source": [
    "d = [{'x': polys.geometry[i].exterior.coords.xy[0],\n",
    " 'y': polys.geometry[i].exterior.coords.xy[1],\n",
    " 'Comment': polys['Comment'][i],\n",
    " 'Tile': polys['Tile'][i],\n",
    " 'Trainer': polys['Trainer'][i]} for i in range(len(polys))]"
   ]
  },
  {
   "cell_type": "code",
   "execution_count": null,
   "id": "751c9a64-8ee6-4b33-8b54-19013bbe7e59",
   "metadata": {},
   "outputs": [],
   "source": [
    "d"
   ]
  },
  {
   "cell_type": "code",
   "execution_count": null,
   "id": "dfbe71cf-4405-4c69-964a-9cd68d731a2a",
   "metadata": {},
   "outputs": [],
   "source": [
    "import panel as pn\n",
    "pn.extension()\n",
    "pn.Pane(hv.Polygons(data=d))"
   ]
  },
  {
   "cell_type": "code",
   "execution_count": null,
   "id": "019fd83d-842e-4304-917f-57323f21e9ac",
   "metadata": {},
   "outputs": [],
   "source": [
    "polys.geometry[0].exterior.coords.xy"
   ]
  },
  {
   "cell_type": "code",
   "execution_count": null,
   "id": "8cf07f71-81ba-4394-8402-ee9011399b16",
   "metadata": {},
   "outputs": [],
   "source": [
    "polys.plot()"
   ]
  },
  {
   "cell_type": "code",
   "execution_count": null,
   "id": "f4c52fbb-d8f2-4486-9441-c45e1022a3bb",
   "metadata": {},
   "outputs": [],
   "source": []
  }
 ],
 "metadata": {
  "kernelspec": {
   "display_name": "hls_nrt_env",
   "language": "python",
   "name": "hls_nrt_env"
  },
  "language_info": {
   "codemirror_mode": {
    "name": "ipython",
    "version": 3
   },
   "file_extension": ".py",
   "mimetype": "text/x-python",
   "name": "python",
   "nbconvert_exporter": "python",
   "pygments_lexer": "ipython3",
   "version": "3.9.12"
  }
 },
 "nbformat": 4,
 "nbformat_minor": 5
}
