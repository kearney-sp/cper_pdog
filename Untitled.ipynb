{
 "cells": [
  {
   "cell_type": "code",
   "execution_count": 5,
   "id": "ae6dd8a5-8bc6-465b-a391-4530dba29eb4",
   "metadata": {},
   "outputs": [],
   "source": [
    "from torch.optim.lr_scheduler import CyclicLR\n",
    "import torch\n",
    "import segmentation_models_pytorch as smp"
   ]
  },
  {
   "cell_type": "code",
   "execution_count": 15,
   "id": "5563d4c3-0899-430f-b1a5-acc84095642b",
   "metadata": {},
   "outputs": [
    {
     "data": {
      "text/plain": [
       "'/home/spkearney/miniconda3/envs/py_seg_env/lib/python3.9/site-packages/segmentation_models_pytorch/__init__.py'"
      ]
     },
     "execution_count": 15,
     "metadata": {},
     "output_type": "execute_result"
    }
   ],
   "source": [
    "smp.__file__"
   ]
  },
  {
   "cell_type": "code",
   "execution_count": 14,
   "id": "50e8e7b5-fc3a-4db1-bc96-422361317d88",
   "metadata": {},
   "outputs": [
    {
     "ename": "ValueError",
     "evalue": "optimizer must support momentum with `cycle_momentum` option enabled",
     "output_type": "error",
     "traceback": [
      "\u001b[0;31m---------------------------------------------------------------------------\u001b[0m",
      "\u001b[0;31mValueError\u001b[0m                                Traceback (most recent call last)",
      "Input \u001b[0;32mIn [14]\u001b[0m, in \u001b[0;36m<cell line: 15>\u001b[0;34m()\u001b[0m\n\u001b[1;32m      5\u001b[0m model \u001b[38;5;241m=\u001b[39m smp\u001b[38;5;241m.\u001b[39mDeepLabV3Plus(\n\u001b[1;32m      6\u001b[0m                     encoder_name\u001b[38;5;241m=\u001b[39mENCODER, \n\u001b[1;32m      7\u001b[0m                     encoder_weights\u001b[38;5;241m=\u001b[39mENCODER_WEIGHTS, \n\u001b[0;32m   (...)\u001b[0m\n\u001b[1;32m     10\u001b[0m                     in_channels\u001b[38;5;241m=\u001b[39m\u001b[38;5;241m3\u001b[39m,\n\u001b[1;32m     11\u001b[0m                 )\n\u001b[1;32m     12\u001b[0m optimizer \u001b[38;5;241m=\u001b[39m torch\u001b[38;5;241m.\u001b[39moptim\u001b[38;5;241m.\u001b[39mAdagrad([ \n\u001b[1;32m     13\u001b[0m                 \u001b[38;5;28mdict\u001b[39m(params\u001b[38;5;241m=\u001b[39mmodel\u001b[38;5;241m.\u001b[39mparameters(), lr\u001b[38;5;241m=\u001b[39m\u001b[38;5;241m0.0001\u001b[39m),\n\u001b[1;32m     14\u001b[0m             ])\n\u001b[0;32m---> 15\u001b[0m lr_sched \u001b[38;5;241m=\u001b[39m \u001b[43mCyclicLR\u001b[49m\u001b[43m(\u001b[49m\u001b[43moptimizer\u001b[49m\u001b[43m,\u001b[49m\u001b[43m \u001b[49m\u001b[43mbase_lr\u001b[49m\u001b[43m \u001b[49m\u001b[38;5;241;43m=\u001b[39;49m\u001b[43m \u001b[49m\u001b[43moptimizer\u001b[49m\u001b[38;5;241;43m.\u001b[39;49m\u001b[43mparam_groups\u001b[49m\u001b[43m[\u001b[49m\u001b[38;5;241;43m0\u001b[39;49m\u001b[43m]\u001b[49m\u001b[43m[\u001b[49m\u001b[38;5;124;43m'\u001b[39;49m\u001b[38;5;124;43mlr\u001b[39;49m\u001b[38;5;124;43m'\u001b[39;49m\u001b[43m]\u001b[49m\u001b[43m,\u001b[49m\u001b[43m \u001b[49m\u001b[43mmax_lr\u001b[49m\u001b[43m \u001b[49m\u001b[38;5;241;43m=\u001b[39;49m\u001b[43m \u001b[49m\u001b[38;5;241;43m0.01\u001b[39;49m\u001b[43m)\u001b[49m\n",
      "File \u001b[0;32m~/miniconda3/envs/py_seg_env/lib/python3.9/site-packages/torch/optim/lr_scheduler.py:1151\u001b[0m, in \u001b[0;36mCyclicLR.__init__\u001b[0;34m(self, optimizer, base_lr, max_lr, step_size_up, step_size_down, mode, gamma, scale_fn, scale_mode, cycle_momentum, base_momentum, max_momentum, last_epoch, verbose)\u001b[0m\n\u001b[1;32m   1149\u001b[0m \u001b[38;5;28;01mif\u001b[39;00m cycle_momentum:\n\u001b[1;32m   1150\u001b[0m     \u001b[38;5;28;01mif\u001b[39;00m \u001b[38;5;124m'\u001b[39m\u001b[38;5;124mmomentum\u001b[39m\u001b[38;5;124m'\u001b[39m \u001b[38;5;129;01mnot\u001b[39;00m \u001b[38;5;129;01min\u001b[39;00m optimizer\u001b[38;5;241m.\u001b[39mdefaults:\n\u001b[0;32m-> 1151\u001b[0m         \u001b[38;5;28;01mraise\u001b[39;00m \u001b[38;5;167;01mValueError\u001b[39;00m(\u001b[38;5;124m'\u001b[39m\u001b[38;5;124moptimizer must support momentum with `cycle_momentum` option enabled\u001b[39m\u001b[38;5;124m'\u001b[39m)\n\u001b[1;32m   1153\u001b[0m     base_momentums \u001b[38;5;241m=\u001b[39m \u001b[38;5;28mself\u001b[39m\u001b[38;5;241m.\u001b[39m_format_param(\u001b[38;5;124m'\u001b[39m\u001b[38;5;124mbase_momentum\u001b[39m\u001b[38;5;124m'\u001b[39m, optimizer, base_momentum)\n\u001b[1;32m   1154\u001b[0m     \u001b[38;5;28;01mif\u001b[39;00m last_epoch \u001b[38;5;241m==\u001b[39m \u001b[38;5;241m-\u001b[39m\u001b[38;5;241m1\u001b[39m:\n",
      "\u001b[0;31mValueError\u001b[0m: optimizer must support momentum with `cycle_momentum` option enabled"
     ]
    }
   ],
   "source": [
    "ENCODER = 'resnet34'\n",
    "ENCODER_WEIGHTS = 'imagenet'\n",
    "ACTIVATION = 'sigmoid' # could be None for logits or 'softmax2d' for multiclass segmentation\n",
    "DEVICE = torch.device(\"cuda:0\" if torch.cuda.is_available() else \"cpu\") #'cuda'# 'cpu'# \n",
    "model = smp.DeepLabV3Plus(\n",
    "                    encoder_name=ENCODER, \n",
    "                    encoder_weights=ENCODER_WEIGHTS, \n",
    "                    classes=1, \n",
    "                    activation=ACTIVATION,\n",
    "                    in_channels=3,\n",
    "                )\n",
    "optimizer = torch.optim.SGD([ \n",
    "                dict(params=model.parameters(), lr=0.0001),\n",
    "            ])\n",
    "lr_sched = CyclicLR(optimizer, base_lr = optimizer.param_groups[0]['lr'], max_lr = 0.01)\n"
   ]
  },
  {
   "cell_type": "code",
   "execution_count": 18,
   "id": "232f1f5e-fc99-4616-9c54-85aaba9214e8",
   "metadata": {},
   "outputs": [
    {
     "name": "stdout",
     "output_type": "stream",
     "text": [
      "yep\n"
     ]
    }
   ],
   "source": [
    "test = 'y'\n",
    "if test is not None:\n",
    "    print('yep')"
   ]
  },
  {
   "cell_type": "code",
   "execution_count": null,
   "id": "91b3bf15-e715-4787-9eb2-ad1e57defbab",
   "metadata": {},
   "outputs": [],
   "source": []
  }
 ],
 "metadata": {
  "kernelspec": {
   "display_name": "Python 3 (ipykernel)",
   "language": "python",
   "name": "python3"
  },
  "language_info": {
   "codemirror_mode": {
    "name": "ipython",
    "version": 3
   },
   "file_extension": ".py",
   "mimetype": "text/x-python",
   "name": "python",
   "nbconvert_exporter": "python",
   "pygments_lexer": "ipython3",
   "version": "3.9.13"
  }
 },
 "nbformat": 4,
 "nbformat_minor": 5
}
