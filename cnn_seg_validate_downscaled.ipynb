{
 "cells": [
  {
   "cell_type": "code",
   "execution_count": 1,
   "id": "42a76e0b-2fb5-4aef-a45c-2ba3cb371b06",
   "metadata": {},
   "outputs": [],
   "source": [
    "import pandas as pd\n",
    "import os\n",
    "from glob import glob\n",
    "import json\n",
    "import re\n",
    "import numpy as np"
   ]
  },
  {
   "cell_type": "code",
   "execution_count": 2,
   "id": "2fbe4a55-82b2-48a9-ab8a-d72bc2afa9f6",
   "metadata": {},
   "outputs": [],
   "source": [
    "# set working directory\n",
    "#os.chdir('/project/cper_neon_aop/cper_pdog_uas')\n",
    "\n",
    "# set whether to pull full tiles from external disk\n",
    "#external_path = None\n",
    "external_path = '/mnt/d/202109'\n",
    "\n",
    "idx = 0\n",
    "for d in glob('./cnn_results_downscaled_unetplus'):\n",
    "    f_list = glob(d + '/best_model_*_validation.txt')\n",
    "    f_list = [f for f in f_list if 'downscaled' in f or 'minscaled' in f]\n",
    "    for f in f_list:\n",
    "        with open(f, 'r') as src:\n",
    "            val_dat = src.read()\n",
    "            val_dat_list = []\n",
    "            for i in val_dat.split(\"'\"):\n",
    "                if i == ': False, ':\n",
    "                    val_dat_list.append(': false, ')\n",
    "                elif i == ': True, ':\n",
    "                    val_dat_list.append(': true, ')\n",
    "                else:\n",
    "                    val_dat_list.append(i)\n",
    "            df_tmp = pd.DataFrame(json.loads(re.sub('nan', '\"nan\"', '\"'.join(val_dat_list))), index=[idx])\n",
    "            df_tmp['model'] = d.split('_')[-1]\n",
    "            df_tmp['inputs'] = ','.join(os.path.basename(f).split('_')[2:-2])\n",
    "            df_tmp['min_rp'] = df_tmp[['precision', 'recall']].min(axis=1)\n",
    "            if 'downscaled' in os.path.basename(f):\n",
    "                df_tmp['scaling'] = '_downscaled'\n",
    "            elif 'minscaled' in os.path.basename(f):\n",
    "                df_tmp['scaling'] = '_minscaled'\n",
    "            else:\n",
    "                df_tmp['scaling'] = ''\n",
    "            df_tmp['model_path'] = re.sub('_validation.txt', '.pth', f)\n",
    "            if idx == 0:\n",
    "                df_val = df_tmp\n",
    "            else:\n",
    "                df_val = pd.concat([df_val, df_tmp])\n",
    "            idx += 1"
   ]
  },
  {
   "cell_type": "code",
   "execution_count": 3,
   "id": "b85857db-2047-4eeb-aaa6-528326ab05cd",
   "metadata": {},
   "outputs": [],
   "source": [
    "for d in glob('./cnn_results_*'):\n",
    "    f_list = glob(d + '/best_model_*_validation.txt')\n",
    "    f_list = [f for f in f_list if not 'downscaled' in f and not 'minscaled' in f]\n",
    "    for f in f_list:\n",
    "        with open(f, 'r') as src:\n",
    "            val_dat = src.read()\n",
    "            val_dat_list = []\n",
    "            for i in val_dat.split(\"'\"):\n",
    "                if i == ': False, ':\n",
    "                    val_dat_list.append(': false, ')\n",
    "                elif i == ': True, ':\n",
    "                    val_dat_list.append(': true, ')\n",
    "                else:\n",
    "                    val_dat_list.append(i)\n",
    "            df_tmp = pd.DataFrame(json.loads(re.sub('nan', '\"nan\"', '\"'.join(val_dat_list))), index=[idx])\n",
    "            df_tmp['model'] = d.split('_')[-1]\n",
    "            df_tmp['inputs'] = ','.join(os.path.basename(f).split('_')[2:-1])\n",
    "            df_tmp['min_rp'] = df_tmp[['precision', 'recall']].min(axis=1)\n",
    "            df_tmp['scaling'] = ''\n",
    "            df_tmp['model_path'] = re.sub('_validation.txt', '.pth', f)\n",
    "            if df_tmp['model'][idx] == df_val['model'].unique() and df_tmp['inputs'][idx] in df_val['inputs'].unique():\n",
    "                df_val = pd.concat([df_val, df_tmp])\n",
    "            idx += 1"
   ]
  },
  {
   "cell_type": "code",
   "execution_count": 5,
   "id": "a373b647-cd4c-4add-9676-3475a01d5cae",
   "metadata": {},
   "outputs": [],
   "source": [
    "# recompute fscore-beta manually\n",
    "df_val['fscore_old'] = df_val['fscore']\n",
    "beta = 1.0\n",
    "df_val['fscore'] = df_val.apply(lambda x: ((1 + beta) * x['recall'] * x['precision']) / (x['recall'] + beta * x['precision']), axis=1)"
   ]
  },
  {
   "cell_type": "code",
   "execution_count": 6,
   "id": "d65c8eef-6f34-4a5e-8965-d429ea0977e9",
   "metadata": {},
   "outputs": [
    {
     "data": {
      "text/html": [
       "<div>\n",
       "<style scoped>\n",
       "    .dataframe tbody tr th:only-of-type {\n",
       "        vertical-align: middle;\n",
       "    }\n",
       "\n",
       "    .dataframe tbody tr th {\n",
       "        vertical-align: top;\n",
       "    }\n",
       "\n",
       "    .dataframe thead th {\n",
       "        text-align: right;\n",
       "    }\n",
       "</style>\n",
       "<table border=\"1\" class=\"dataframe\">\n",
       "  <thead>\n",
       "    <tr style=\"text-align: right;\">\n",
       "      <th></th>\n",
       "      <th>mccloss</th>\n",
       "      <th>iou_score</th>\n",
       "      <th>accuracy</th>\n",
       "      <th>precision</th>\n",
       "      <th>recall</th>\n",
       "      <th>fscore</th>\n",
       "      <th>best_epoch</th>\n",
       "      <th>downscaled</th>\n",
       "      <th>newsize</th>\n",
       "      <th>origsize</th>\n",
       "      <th>resolution</th>\n",
       "      <th>model</th>\n",
       "      <th>inputs</th>\n",
       "      <th>min_rp</th>\n",
       "      <th>scaling</th>\n",
       "      <th>model_path</th>\n",
       "      <th>fscore_old</th>\n",
       "    </tr>\n",
       "  </thead>\n",
       "  <tbody>\n",
       "    <tr>\n",
       "      <th>229</th>\n",
       "      <td>0.743204</td>\n",
       "      <td>0.877344</td>\n",
       "      <td>0.994782</td>\n",
       "      <td>0.923132</td>\n",
       "      <td>0.944633</td>\n",
       "      <td>0.933759</td>\n",
       "      <td>31</td>\n",
       "      <td>NaN</td>\n",
       "      <td>NaN</td>\n",
       "      <td>NaN</td>\n",
       "      <td>1.5</td>\n",
       "      <td>unetplus</td>\n",
       "      <td>rgb,tpi,shade,ndvi</td>\n",
       "      <td>0.923132</td>\n",
       "      <td></td>\n",
       "      <td>./cnn_results_unetplus/best_model_rgb_tpi_shad...</td>\n",
       "      <td>0.915198</td>\n",
       "    </tr>\n",
       "    <tr>\n",
       "      <th>25</th>\n",
       "      <td>0.765410</td>\n",
       "      <td>0.867703</td>\n",
       "      <td>0.994918</td>\n",
       "      <td>0.926879</td>\n",
       "      <td>0.932816</td>\n",
       "      <td>0.929838</td>\n",
       "      <td>25</td>\n",
       "      <td>False</td>\n",
       "      <td>192x192px</td>\n",
       "      <td>384x384px</td>\n",
       "      <td>3.0</td>\n",
       "      <td>unetplus</td>\n",
       "      <td>rgb,tpi,shade,ndvi</td>\n",
       "      <td>0.926879</td>\n",
       "      <td></td>\n",
       "      <td>./cnn_results_downscaled_unetplus/best_model_r...</td>\n",
       "      <td>0.905579</td>\n",
       "    </tr>\n",
       "    <tr>\n",
       "      <th>20</th>\n",
       "      <td>0.770214</td>\n",
       "      <td>0.853852</td>\n",
       "      <td>0.994620</td>\n",
       "      <td>0.927619</td>\n",
       "      <td>0.915126</td>\n",
       "      <td>0.921330</td>\n",
       "      <td>30</td>\n",
       "      <td>False</td>\n",
       "      <td>96x96px</td>\n",
       "      <td>384x384px</td>\n",
       "      <td>6.0</td>\n",
       "      <td>unetplus</td>\n",
       "      <td>rgb,tpi,shade,dsm</td>\n",
       "      <td>0.915126</td>\n",
       "      <td></td>\n",
       "      <td>./cnn_results_downscaled_unetplus/best_model_r...</td>\n",
       "      <td>0.892080</td>\n",
       "    </tr>\n",
       "    <tr>\n",
       "      <th>27</th>\n",
       "      <td>0.775280</td>\n",
       "      <td>0.853302</td>\n",
       "      <td>0.994747</td>\n",
       "      <td>0.930867</td>\n",
       "      <td>0.909468</td>\n",
       "      <td>0.920043</td>\n",
       "      <td>26</td>\n",
       "      <td>False</td>\n",
       "      <td>96x96px</td>\n",
       "      <td>384x384px</td>\n",
       "      <td>6.0</td>\n",
       "      <td>unetplus</td>\n",
       "      <td>rgb,tpi,shade,ndvi</td>\n",
       "      <td>0.909468</td>\n",
       "      <td></td>\n",
       "      <td>./cnn_results_downscaled_unetplus/best_model_r...</td>\n",
       "      <td>0.890404</td>\n",
       "    </tr>\n",
       "    <tr>\n",
       "      <th>18</th>\n",
       "      <td>0.776281</td>\n",
       "      <td>0.841605</td>\n",
       "      <td>0.994518</td>\n",
       "      <td>0.908792</td>\n",
       "      <td>0.926499</td>\n",
       "      <td>0.917560</td>\n",
       "      <td>22</td>\n",
       "      <td>False</td>\n",
       "      <td>192x192px</td>\n",
       "      <td>384x384px</td>\n",
       "      <td>3.0</td>\n",
       "      <td>unetplus</td>\n",
       "      <td>rgb,tpi,shade,dsm</td>\n",
       "      <td>0.908792</td>\n",
       "      <td></td>\n",
       "      <td>./cnn_results_downscaled_unetplus/best_model_r...</td>\n",
       "      <td>0.876792</td>\n",
       "    </tr>\n",
       "    <tr>\n",
       "      <th>227</th>\n",
       "      <td>0.793144</td>\n",
       "      <td>0.819653</td>\n",
       "      <td>0.993642</td>\n",
       "      <td>0.912143</td>\n",
       "      <td>0.896057</td>\n",
       "      <td>0.904028</td>\n",
       "      <td>12</td>\n",
       "      <td>NaN</td>\n",
       "      <td>NaN</td>\n",
       "      <td>NaN</td>\n",
       "      <td>1.5</td>\n",
       "      <td>unetplus</td>\n",
       "      <td>rgb,tpi,shade,dsm</td>\n",
       "      <td>0.896057</td>\n",
       "      <td></td>\n",
       "      <td>./cnn_results_unetplus/best_model_rgb_tpi_shad...</td>\n",
       "      <td>0.856847</td>\n",
       "    </tr>\n",
       "    <tr>\n",
       "      <th>232</th>\n",
       "      <td>0.802503</td>\n",
       "      <td>0.821513</td>\n",
       "      <td>0.992571</td>\n",
       "      <td>0.915948</td>\n",
       "      <td>0.889258</td>\n",
       "      <td>0.902406</td>\n",
       "      <td>47</td>\n",
       "      <td>NaN</td>\n",
       "      <td>NaN</td>\n",
       "      <td>NaN</td>\n",
       "      <td>1.5</td>\n",
       "      <td>unetplus</td>\n",
       "      <td>rgb</td>\n",
       "      <td>0.889258</td>\n",
       "      <td></td>\n",
       "      <td>./cnn_results_unetplus/best_model_rgb.pth</td>\n",
       "      <td>0.855353</td>\n",
       "    </tr>\n",
       "    <tr>\n",
       "      <th>8</th>\n",
       "      <td>0.812445</td>\n",
       "      <td>0.809434</td>\n",
       "      <td>0.992734</td>\n",
       "      <td>0.918496</td>\n",
       "      <td>0.879867</td>\n",
       "      <td>0.898767</td>\n",
       "      <td>16</td>\n",
       "      <td>False</td>\n",
       "      <td>192x192px</td>\n",
       "      <td>384x384px</td>\n",
       "      <td>3.0</td>\n",
       "      <td>unetplus</td>\n",
       "      <td>rgb,ndvi</td>\n",
       "      <td>0.879867</td>\n",
       "      <td></td>\n",
       "      <td>./cnn_results_downscaled_unetplus/best_model_r...</td>\n",
       "      <td>0.842955</td>\n",
       "    </tr>\n",
       "    <tr>\n",
       "      <th>26</th>\n",
       "      <td>0.812882</td>\n",
       "      <td>0.813408</td>\n",
       "      <td>0.993384</td>\n",
       "      <td>0.944264</td>\n",
       "      <td>0.856585</td>\n",
       "      <td>0.898290</td>\n",
       "      <td>16</td>\n",
       "      <td>False</td>\n",
       "      <td>64x64px</td>\n",
       "      <td>384x384px</td>\n",
       "      <td>9.0</td>\n",
       "      <td>unetplus</td>\n",
       "      <td>rgb,tpi,shade,ndvi</td>\n",
       "      <td>0.856585</td>\n",
       "      <td></td>\n",
       "      <td>./cnn_results_downscaled_unetplus/best_model_r...</td>\n",
       "      <td>0.846789</td>\n",
       "    </tr>\n",
       "    <tr>\n",
       "      <th>13</th>\n",
       "      <td>0.796425</td>\n",
       "      <td>0.800652</td>\n",
       "      <td>0.993596</td>\n",
       "      <td>0.916068</td>\n",
       "      <td>0.875579</td>\n",
       "      <td>0.895366</td>\n",
       "      <td>19</td>\n",
       "      <td>False</td>\n",
       "      <td>96x96px</td>\n",
       "      <td>384x384px</td>\n",
       "      <td>6.0</td>\n",
       "      <td>unetplus</td>\n",
       "      <td>rgb</td>\n",
       "      <td>0.875579</td>\n",
       "      <td></td>\n",
       "      <td>./cnn_results_downscaled_unetplus/best_model_r...</td>\n",
       "      <td>0.836249</td>\n",
       "    </tr>\n",
       "    <tr>\n",
       "      <th>19</th>\n",
       "      <td>0.820748</td>\n",
       "      <td>0.808781</td>\n",
       "      <td>0.993219</td>\n",
       "      <td>0.918530</td>\n",
       "      <td>0.865609</td>\n",
       "      <td>0.891285</td>\n",
       "      <td>21</td>\n",
       "      <td>False</td>\n",
       "      <td>64x64px</td>\n",
       "      <td>384x384px</td>\n",
       "      <td>9.0</td>\n",
       "      <td>unetplus</td>\n",
       "      <td>rgb,tpi,shade,dsm</td>\n",
       "      <td>0.865609</td>\n",
       "      <td></td>\n",
       "      <td>./cnn_results_downscaled_unetplus/best_model_r...</td>\n",
       "      <td>0.840929</td>\n",
       "    </tr>\n",
       "    <tr>\n",
       "      <th>10</th>\n",
       "      <td>0.811109</td>\n",
       "      <td>0.789868</td>\n",
       "      <td>0.993044</td>\n",
       "      <td>0.913756</td>\n",
       "      <td>0.860297</td>\n",
       "      <td>0.886221</td>\n",
       "      <td>30</td>\n",
       "      <td>False</td>\n",
       "      <td>96x96px</td>\n",
       "      <td>384x384px</td>\n",
       "      <td>6.0</td>\n",
       "      <td>unetplus</td>\n",
       "      <td>rgb,ndvi</td>\n",
       "      <td>0.860297</td>\n",
       "      <td></td>\n",
       "      <td>./cnn_results_downscaled_unetplus/best_model_r...</td>\n",
       "      <td>0.821513</td>\n",
       "    </tr>\n",
       "    <tr>\n",
       "      <th>11</th>\n",
       "      <td>0.804945</td>\n",
       "      <td>0.788340</td>\n",
       "      <td>0.992565</td>\n",
       "      <td>0.872319</td>\n",
       "      <td>0.899323</td>\n",
       "      <td>0.885615</td>\n",
       "      <td>18</td>\n",
       "      <td>False</td>\n",
       "      <td>192x192px</td>\n",
       "      <td>384x384px</td>\n",
       "      <td>3.0</td>\n",
       "      <td>unetplus</td>\n",
       "      <td>rgb</td>\n",
       "      <td>0.872319</td>\n",
       "      <td></td>\n",
       "      <td>./cnn_results_downscaled_unetplus/best_model_r...</td>\n",
       "      <td>0.823764</td>\n",
       "    </tr>\n",
       "    <tr>\n",
       "      <th>12</th>\n",
       "      <td>0.835803</td>\n",
       "      <td>0.748241</td>\n",
       "      <td>0.990864</td>\n",
       "      <td>0.864243</td>\n",
       "      <td>0.855678</td>\n",
       "      <td>0.859940</td>\n",
       "      <td>25</td>\n",
       "      <td>False</td>\n",
       "      <td>64x64px</td>\n",
       "      <td>384x384px</td>\n",
       "      <td>9.0</td>\n",
       "      <td>unetplus</td>\n",
       "      <td>rgb</td>\n",
       "      <td>0.855678</td>\n",
       "      <td></td>\n",
       "      <td>./cnn_results_downscaled_unetplus/best_model_r...</td>\n",
       "      <td>0.784198</td>\n",
       "    </tr>\n",
       "    <tr>\n",
       "      <th>9</th>\n",
       "      <td>0.860434</td>\n",
       "      <td>0.753606</td>\n",
       "      <td>0.991644</td>\n",
       "      <td>0.912055</td>\n",
       "      <td>0.810945</td>\n",
       "      <td>0.858533</td>\n",
       "      <td>18</td>\n",
       "      <td>False</td>\n",
       "      <td>64x64px</td>\n",
       "      <td>384x384px</td>\n",
       "      <td>9.0</td>\n",
       "      <td>unetplus</td>\n",
       "      <td>rgb,ndvi</td>\n",
       "      <td>0.810945</td>\n",
       "      <td></td>\n",
       "      <td>./cnn_results_downscaled_unetplus/best_model_r...</td>\n",
       "      <td>0.782119</td>\n",
       "    </tr>\n",
       "    <tr>\n",
       "      <th>219</th>\n",
       "      <td>0.840565</td>\n",
       "      <td>0.737783</td>\n",
       "      <td>0.990846</td>\n",
       "      <td>0.846293</td>\n",
       "      <td>0.866995</td>\n",
       "      <td>0.856519</td>\n",
       "      <td>12</td>\n",
       "      <td>NaN</td>\n",
       "      <td>NaN</td>\n",
       "      <td>NaN</td>\n",
       "      <td>1.5</td>\n",
       "      <td>unetplus</td>\n",
       "      <td>rgb,ndvi</td>\n",
       "      <td>0.846293</td>\n",
       "      <td></td>\n",
       "      <td>./cnn_results_unetplus/best_model_rgb_ndvi.pth</td>\n",
       "      <td>0.773309</td>\n",
       "    </tr>\n",
       "    <tr>\n",
       "      <th>21</th>\n",
       "      <td>0.746555</td>\n",
       "      <td>0.722621</td>\n",
       "      <td>0.997746</td>\n",
       "      <td>0.906980</td>\n",
       "      <td>0.785528</td>\n",
       "      <td>0.841896</td>\n",
       "      <td>19</td>\n",
       "      <td>True</td>\n",
       "      <td>128x128px</td>\n",
       "      <td>128x128px</td>\n",
       "      <td>15.0</td>\n",
       "      <td>unetplus</td>\n",
       "      <td>rgb,tpi,shade,ndvi</td>\n",
       "      <td>0.785528</td>\n",
       "      <td>_downscaled</td>\n",
       "      <td>./cnn_results_downscaled_unetplus/best_model_r...</td>\n",
       "      <td>0.771268</td>\n",
       "    </tr>\n",
       "    <tr>\n",
       "      <th>14</th>\n",
       "      <td>0.730974</td>\n",
       "      <td>0.692715</td>\n",
       "      <td>0.997645</td>\n",
       "      <td>0.825746</td>\n",
       "      <td>0.826938</td>\n",
       "      <td>0.826341</td>\n",
       "      <td>20</td>\n",
       "      <td>True</td>\n",
       "      <td>128x128px</td>\n",
       "      <td>128x128px</td>\n",
       "      <td>15.0</td>\n",
       "      <td>unetplus</td>\n",
       "      <td>rgb,tpi,shade,dsm</td>\n",
       "      <td>0.825746</td>\n",
       "      <td>_downscaled</td>\n",
       "      <td>./cnn_results_downscaled_unetplus/best_model_r...</td>\n",
       "      <td>0.744958</td>\n",
       "    </tr>\n",
       "    <tr>\n",
       "      <th>4</th>\n",
       "      <td>0.784154</td>\n",
       "      <td>0.679903</td>\n",
       "      <td>0.997271</td>\n",
       "      <td>0.881239</td>\n",
       "      <td>0.755344</td>\n",
       "      <td>0.813449</td>\n",
       "      <td>29</td>\n",
       "      <td>True</td>\n",
       "      <td>128x128px</td>\n",
       "      <td>128x128px</td>\n",
       "      <td>15.0</td>\n",
       "      <td>unetplus</td>\n",
       "      <td>rgb,ndvi</td>\n",
       "      <td>0.755344</td>\n",
       "      <td>_downscaled</td>\n",
       "      <td>./cnn_results_downscaled_unetplus/best_model_r...</td>\n",
       "      <td>0.724832</td>\n",
       "    </tr>\n",
       "    <tr>\n",
       "      <th>0</th>\n",
       "      <td>0.782651</td>\n",
       "      <td>0.649759</td>\n",
       "      <td>0.997429</td>\n",
       "      <td>0.852916</td>\n",
       "      <td>0.759601</td>\n",
       "      <td>0.803559</td>\n",
       "      <td>32</td>\n",
       "      <td>True</td>\n",
       "      <td>128x128px</td>\n",
       "      <td>128x128px</td>\n",
       "      <td>15.0</td>\n",
       "      <td>unetplus</td>\n",
       "      <td>rgb</td>\n",
       "      <td>0.759601</td>\n",
       "      <td>_downscaled</td>\n",
       "      <td>./cnn_results_downscaled_unetplus/best_model_r...</td>\n",
       "      <td>0.692258</td>\n",
       "    </tr>\n",
       "  </tbody>\n",
       "</table>\n",
       "</div>"
      ],
      "text/plain": [
       "      mccloss  iou_score  accuracy  precision    recall    fscore  best_epoch  \\\n",
       "229  0.743204   0.877344  0.994782   0.923132  0.944633  0.933759          31   \n",
       "25   0.765410   0.867703  0.994918   0.926879  0.932816  0.929838          25   \n",
       "20   0.770214   0.853852  0.994620   0.927619  0.915126  0.921330          30   \n",
       "27   0.775280   0.853302  0.994747   0.930867  0.909468  0.920043          26   \n",
       "18   0.776281   0.841605  0.994518   0.908792  0.926499  0.917560          22   \n",
       "227  0.793144   0.819653  0.993642   0.912143  0.896057  0.904028          12   \n",
       "232  0.802503   0.821513  0.992571   0.915948  0.889258  0.902406          47   \n",
       "8    0.812445   0.809434  0.992734   0.918496  0.879867  0.898767          16   \n",
       "26   0.812882   0.813408  0.993384   0.944264  0.856585  0.898290          16   \n",
       "13   0.796425   0.800652  0.993596   0.916068  0.875579  0.895366          19   \n",
       "19   0.820748   0.808781  0.993219   0.918530  0.865609  0.891285          21   \n",
       "10   0.811109   0.789868  0.993044   0.913756  0.860297  0.886221          30   \n",
       "11   0.804945   0.788340  0.992565   0.872319  0.899323  0.885615          18   \n",
       "12   0.835803   0.748241  0.990864   0.864243  0.855678  0.859940          25   \n",
       "9    0.860434   0.753606  0.991644   0.912055  0.810945  0.858533          18   \n",
       "219  0.840565   0.737783  0.990846   0.846293  0.866995  0.856519          12   \n",
       "21   0.746555   0.722621  0.997746   0.906980  0.785528  0.841896          19   \n",
       "14   0.730974   0.692715  0.997645   0.825746  0.826938  0.826341          20   \n",
       "4    0.784154   0.679903  0.997271   0.881239  0.755344  0.813449          29   \n",
       "0    0.782651   0.649759  0.997429   0.852916  0.759601  0.803559          32   \n",
       "\n",
       "    downscaled    newsize   origsize  resolution     model  \\\n",
       "229        NaN        NaN        NaN         1.5  unetplus   \n",
       "25       False  192x192px  384x384px         3.0  unetplus   \n",
       "20       False    96x96px  384x384px         6.0  unetplus   \n",
       "27       False    96x96px  384x384px         6.0  unetplus   \n",
       "18       False  192x192px  384x384px         3.0  unetplus   \n",
       "227        NaN        NaN        NaN         1.5  unetplus   \n",
       "232        NaN        NaN        NaN         1.5  unetplus   \n",
       "8        False  192x192px  384x384px         3.0  unetplus   \n",
       "26       False    64x64px  384x384px         9.0  unetplus   \n",
       "13       False    96x96px  384x384px         6.0  unetplus   \n",
       "19       False    64x64px  384x384px         9.0  unetplus   \n",
       "10       False    96x96px  384x384px         6.0  unetplus   \n",
       "11       False  192x192px  384x384px         3.0  unetplus   \n",
       "12       False    64x64px  384x384px         9.0  unetplus   \n",
       "9        False    64x64px  384x384px         9.0  unetplus   \n",
       "219        NaN        NaN        NaN         1.5  unetplus   \n",
       "21        True  128x128px  128x128px        15.0  unetplus   \n",
       "14        True  128x128px  128x128px        15.0  unetplus   \n",
       "4         True  128x128px  128x128px        15.0  unetplus   \n",
       "0         True  128x128px  128x128px        15.0  unetplus   \n",
       "\n",
       "                 inputs    min_rp      scaling  \\\n",
       "229  rgb,tpi,shade,ndvi  0.923132                \n",
       "25   rgb,tpi,shade,ndvi  0.926879                \n",
       "20    rgb,tpi,shade,dsm  0.915126                \n",
       "27   rgb,tpi,shade,ndvi  0.909468                \n",
       "18    rgb,tpi,shade,dsm  0.908792                \n",
       "227   rgb,tpi,shade,dsm  0.896057                \n",
       "232                 rgb  0.889258                \n",
       "8              rgb,ndvi  0.879867                \n",
       "26   rgb,tpi,shade,ndvi  0.856585                \n",
       "13                  rgb  0.875579                \n",
       "19    rgb,tpi,shade,dsm  0.865609                \n",
       "10             rgb,ndvi  0.860297                \n",
       "11                  rgb  0.872319                \n",
       "12                  rgb  0.855678                \n",
       "9              rgb,ndvi  0.810945                \n",
       "219            rgb,ndvi  0.846293                \n",
       "21   rgb,tpi,shade,ndvi  0.785528  _downscaled   \n",
       "14    rgb,tpi,shade,dsm  0.825746  _downscaled   \n",
       "4              rgb,ndvi  0.755344  _downscaled   \n",
       "0                   rgb  0.759601  _downscaled   \n",
       "\n",
       "                                            model_path  fscore_old  \n",
       "229  ./cnn_results_unetplus/best_model_rgb_tpi_shad...    0.915198  \n",
       "25   ./cnn_results_downscaled_unetplus/best_model_r...    0.905579  \n",
       "20   ./cnn_results_downscaled_unetplus/best_model_r...    0.892080  \n",
       "27   ./cnn_results_downscaled_unetplus/best_model_r...    0.890404  \n",
       "18   ./cnn_results_downscaled_unetplus/best_model_r...    0.876792  \n",
       "227  ./cnn_results_unetplus/best_model_rgb_tpi_shad...    0.856847  \n",
       "232          ./cnn_results_unetplus/best_model_rgb.pth    0.855353  \n",
       "8    ./cnn_results_downscaled_unetplus/best_model_r...    0.842955  \n",
       "26   ./cnn_results_downscaled_unetplus/best_model_r...    0.846789  \n",
       "13   ./cnn_results_downscaled_unetplus/best_model_r...    0.836249  \n",
       "19   ./cnn_results_downscaled_unetplus/best_model_r...    0.840929  \n",
       "10   ./cnn_results_downscaled_unetplus/best_model_r...    0.821513  \n",
       "11   ./cnn_results_downscaled_unetplus/best_model_r...    0.823764  \n",
       "12   ./cnn_results_downscaled_unetplus/best_model_r...    0.784198  \n",
       "9    ./cnn_results_downscaled_unetplus/best_model_r...    0.782119  \n",
       "219     ./cnn_results_unetplus/best_model_rgb_ndvi.pth    0.773309  \n",
       "21   ./cnn_results_downscaled_unetplus/best_model_r...    0.771268  \n",
       "14   ./cnn_results_downscaled_unetplus/best_model_r...    0.744958  \n",
       "4    ./cnn_results_downscaled_unetplus/best_model_r...    0.724832  \n",
       "0    ./cnn_results_downscaled_unetplus/best_model_r...    0.692258  "
      ]
     },
     "execution_count": 6,
     "metadata": {},
     "output_type": "execute_result"
    }
   ],
   "source": [
    "df_val.sort_values('fscore', ascending=False).head(20)"
   ]
  },
  {
   "cell_type": "markdown",
   "id": "fb00865a-c4bd-4df1-9891-dd3fab68b81c",
   "metadata": {},
   "source": [
    "### Plot validation results"
   ]
  },
  {
   "cell_type": "code",
   "execution_count": 7,
   "id": "c565eba2-3f3a-4087-8e3d-0c813b076f42",
   "metadata": {},
   "outputs": [],
   "source": [
    "import seaborn as sns\n",
    "import matplotlib.pyplot as plt"
   ]
  },
  {
   "cell_type": "code",
   "execution_count": 8,
   "id": "7a8762e5-c454-4f07-b6cd-c898022c7943",
   "metadata": {},
   "outputs": [
    {
     "data": {
      "text/plain": [
       "<AxesSubplot:xlabel='resolution', ylabel='fscore'>"
      ]
     },
     "execution_count": 8,
     "metadata": {},
     "output_type": "execute_result"
    },
    {
     "data": {
      "image/png": "[encoded data removed]",
      "text/plain": [
       "<Figure size 1800x600 with 1 Axes>"
      ]
     },
     "metadata": {},
     "output_type": "display_data"
    }
   ],
   "source": [
    "fig, ax = plt.subplots(figsize=(18, 6))\n",
    "sns.pointplot(x='resolution', y='fscore', \n",
    "            hue='inputs',\n",
    "            data=df_val.sort_values('resolution'),\n",
    "            ci=None,\n",
    "            ax=ax)"
   ]
  },
  {
   "cell_type": "markdown",
   "id": "57eeb974-a7bd-425a-b571-f5bf20d7d749",
   "metadata": {},
   "source": [
    "## Test best model"
   ]
  },
  {
   "cell_type": "markdown",
   "id": "1955bdad-fde7-4bd2-8e1b-9a3a9a6f9dec",
   "metadata": {},
   "source": [
    "### Set parameters and datasets"
   ]
  },
  {
   "cell_type": "code",
   "execution_count": 18,
   "id": "f26caf3e-3067-4099-b795-03607119a910",
   "metadata": {},
   "outputs": [],
   "source": [
    "from torch.utils.data import DataLoader\n",
    "from torch.utils.data import Dataset as BaseDataset\n",
    "from skimage import io\n",
    "import torch\n",
    "import segmentation_models_pytorch as smp\n",
    "from segmentation_models_pytorch import utils"
   ]
  },
  {
   "cell_type": "code",
   "execution_count": 19,
   "id": "64e4f694-222a-483f-a356-6a24a5da69d0",
   "metadata": {},
   "outputs": [],
   "source": [
    "# read in csvs with training information\n",
    "df_tiles = pd.read_csv('train_tiles/train_bboxes_all_assigned.csv')\n",
    "df_polys = pd.read_csv('train_polys/train_polys_all.csv')"
   ]
  },
  {
   "cell_type": "code",
   "execution_count": 20,
   "id": "280d2a8e-45fe-4cf2-a961-a4d3ddd6ab0e",
   "metadata": {},
   "outputs": [],
   "source": [
    "ENCODER = 'resnet34'\n",
    "ENCODER_WEIGHTS = 'imagenet'\n",
    "CLASSES = ['burrow']\n",
    "ACTIVATION = 'sigmoid' # could be None for logits or 'softmax2d' for multiclass segmentation\n",
    "DEVICE = 'cuda'# 'cpu'# "
   ]
  },
  {
   "cell_type": "markdown",
   "id": "b8bc376c-63ff-433d-bdb6-8e74dee0b54a",
   "metadata": {},
   "source": [
    "### Dataloader\n",
    "Writing helper class for data extraction, tranformation and preprocessing"
   ]
  },
  {
   "cell_type": "code",
   "execution_count": 21,
   "id": "4eca565b-b837-4fc8-a613-293327bf07fc",
   "metadata": {},
   "outputs": [],
   "source": [
    "class Dataset(BaseDataset):\n",
    "    \"\"\"Read images, apply augmentation and preprocessing transformations.\n",
    "    \n",
    "    Args:\n",
    "        ids (list): list of unique ids for all images\n",
    "        images_path (str): path to data images\n",
    "        masks_path (str): path to label masks\n",
    "        class_values (list): values of classes to extract from segmentation mask\n",
    "        augmentation (albumentations.Compose): data transfromation pipeline \n",
    "            (e.g. flip, scale, etc.)\n",
    "        preprocessing (albumentations.Compose): data preprocessing \n",
    "            (e.g. noralization, shape manipulation, etc.)\n",
    "    \n",
    "    \"\"\"\n",
    "    \n",
    "    \n",
    "    CLASSES = ['other', 'burrow']\n",
    "    \n",
    "    def __init__(\n",
    "            self, \n",
    "            ids,\n",
    "            suffix_list,\n",
    "            images_path,\n",
    "            masks_path, \n",
    "            classes=None, \n",
    "            augmentation=None, \n",
    "            preprocessing=None,\n",
    "            suffix_dict = {\n",
    "        'rgb': {'channels': 3,\n",
    "                'dtype': 'uint8'},\n",
    "        'tpi': {'channels': 1,\n",
    "                'dtype': 'float32'},\n",
    "        'dsm': {'channels': 1,\n",
    "                'dtype': 'float32'},\n",
    "        'shade': {'channels': 1,\n",
    "                  'dtype': 'float32'},\n",
    "        'ndvi': {'channels': 1,\n",
    "                  'dtype': 'float32'}\n",
    "    }\n",
    "    ):\n",
    "        # get IDs as attribute\n",
    "        self.ids = ids\n",
    "        \n",
    "        # get suffix info\n",
    "        self.suffix_dict = suffix_dict\n",
    "        \n",
    "        # get list of suffixes as attribute\n",
    "        self.suffix_list = suffix_list\n",
    "        \n",
    "        # List of files\n",
    "        self.images_fps = []\n",
    "        self.masks_fps = [masks_path.format(id) for id in ids]\n",
    "        for id in ids:\n",
    "            self.images_fps.append({s: images_path.format(id, s) for s in suffix_list})\n",
    "            \n",
    "        \n",
    "        # convert str names to class values on masks\n",
    "        self.class_values = [self.CLASSES.index(cls.lower()) for cls in classes]\n",
    "        \n",
    "        self.augmentation = augmentation\n",
    "        self.preprocessing = preprocessing\n",
    "    \n",
    "    def __getitem__(self, i):\n",
    "        \n",
    "        # read data\n",
    "        image_list = []\n",
    "        self.image_dict = {}\n",
    "        for s in self.suffix_list:\n",
    "            image_s = np.asarray(io.imread(self.images_fps[i][s]), dtype=self.suffix_dict[s]['dtype'])\n",
    "            if len(image_s.shape) == 2:\n",
    "                image_s = np.expand_dims(image_s, axis=-1)\n",
    "            image_s[np.isnan(image_s)] = 0\n",
    "            if s == 'ndvi':\n",
    "                image_s[image_s < 0] = 0\n",
    "            if self.preprocessing:\n",
    "                image_s = normalize_fn(image_s, s, image_stats)\n",
    "            image_list.append(image_s)\n",
    "            self.image_dict[s] = image_s\n",
    "        if len(image_list) == 1:\n",
    "            image = image_list[0]\n",
    "        else:\n",
    "            image = np.concatenate(image_list, axis=-1)\n",
    "        mask = np.asarray(io.imread(self.masks_fps[i]), dtype='float32')\n",
    "        #image = cv2.cvtColor(image, cv2.COLOR_BGR2RGB)\n",
    "        #mask = cv2.imread(self.masks_fps[i], 0)\n",
    "        \n",
    "        # extract certain classes from mask (e.g. cars)\n",
    "        masks = [(mask == v) for v in self.class_values]\n",
    "        mask = np.stack(masks, axis=-1)#.astype('float32')\n",
    "        #print('fetched: ', self.ids[i])\n",
    "        # apply augmentations\n",
    "        if self.augmentation:\n",
    "            sample = self.augmentation(image=image, mask=mask)\n",
    "            image, mask = sample['image'], sample['mask']\n",
    "\n",
    "        # convert final image arrays to tensors\n",
    "        image = torch.from_numpy(image.transpose(2, 0, 1).astype('float32'))\n",
    "        mask = torch.from_numpy(mask.transpose(2, 0, 1).astype('float32'))\n",
    "        return image, mask\n",
    "        \n",
    "    def __len__(self):\n",
    "        return len(self.ids)\n",
    "\n",
    "\n"
   ]
  },
  {
   "cell_type": "code",
   "execution_count": 22,
   "id": "01d40e79-7400-4513-a69c-6704209b8faf",
   "metadata": {},
   "outputs": [],
   "source": [
    "# create function to normalize all data in range 0-1\n",
    "def normalize_fn(image, image_suffix, stats_dict):\n",
    "    if image_suffix in stats_dict.keys():\n",
    "        min_tmp = stats_dict[image_suffix]['min']\n",
    "        max_tmp = stats_dict[image_suffix]['max']\n",
    "    else:\n",
    "        # normalize to individual image if min/max stats not specified in dictionary\n",
    "        min_tmp = np.min(image)\n",
    "        max_tmp = np.max(image)\n",
    "    return (image - min_tmp) / (max_tmp - min_tmp)\n",
    "    \n",
    "        "
   ]
  },
  {
   "cell_type": "markdown",
   "id": "756b302a-c603-4cd5-9623-a03a2604b11e",
   "metadata": {},
   "source": [
    "### Quantify and Visualize Test Data Predictions"
   ]
  },
  {
   "cell_type": "code",
   "execution_count": 23,
   "id": "3ad73e15-35f2-4548-84f6-b9b8c27695b9",
   "metadata": {},
   "outputs": [],
   "source": [
    "import itertools\n",
    "from shapely.geometry import Polygon, MultiPolygon\n",
    "import geopandas as gpd\n",
    "import rasterio as rio\n",
    "from rasterio.features import rasterize\n",
    "from rasterio import mask\n",
    "from rasterio.plot import show\n",
    "import shapely.wkt as wkt\n",
    "from rasterio.enums import Resampling\n",
    "import matplotlib.pyplot as plt\n",
    "from skimage.measure import label, regionprops\n",
    "import torch.nn as nn\n",
    "from skimage.transform import resize"
   ]
  },
  {
   "cell_type": "code",
   "execution_count": 24,
   "id": "5cc06873-e6c5-4fd0-b6ec-f8ca34b127f9",
   "metadata": {},
   "outputs": [],
   "source": [
    "# helper function for data visualization\n",
    "def visualize(show=True, write=False, path=None, **images):\n",
    "    \"\"\"PLot images in one row.\"\"\"\n",
    "    n = len(images)\n",
    "    plt.figure(figsize=(16, 5))\n",
    "    for i, (name, image) in enumerate(images.items()):\n",
    "        plt.subplot(1, n, i + 1)\n",
    "        plt.xticks([])\n",
    "        plt.yticks([])\n",
    "        plt.title(' '.join(name.split('_')).title())\n",
    "        plt.imshow(image)\n",
    "    if show:\n",
    "        plt.show()\n",
    "    if write:\n",
    "        plt.savefig(path)\n",
    "    if not show and write:\n",
    "        plt.close()"
   ]
  },
  {
   "cell_type": "code",
   "execution_count": 25,
   "id": "d1146c33-934c-4ec5-86f1-0e07f802bcfd",
   "metadata": {},
   "outputs": [],
   "source": [
    "df_polys['geometry'] = df_polys.geometry.apply(lambda x: Polygon(wkt.loads(x)))\n",
    "gdf_polys = gpd.GeoDataFrame(df_polys, geometry='geometry')\n",
    "gdf_polys = gdf_polys.set_crs(32613)"
   ]
  },
  {
   "cell_type": "code",
   "execution_count": 26,
   "id": "612fd8c4-bf33-4ad4-93b1-5e420d60884b",
   "metadata": {},
   "outputs": [],
   "source": [
    "df_test_out = pd.DataFrame(columns=['model', 'scaling', 'model_resolution', 'inputs',\n",
    "                                    'test_resolution', 'precision', 'recall', 'fscore', 'correlation'])"
   ]
  },
  {
   "cell_type": "code",
   "execution_count": 27,
   "id": "e942af4e-5faa-451b-9163-8913cee4bb69",
   "metadata": {
    "scrolled": true,
    "tags": []
   },
   "outputs": [
    {
     "name": "stdout",
     "output_type": "stream",
     "text": [
      "scaling       _downscaled\n",
      "resolution           15.0\n",
      "inputs                rgb\n",
      "Name: 0, dtype: object\n",
      "5W_9\n",
      "5W_14\n",
      "22W_10\n",
      "22E_5\n",
      "22E_13\n",
      "29-30_40\n",
      "CN_5\n",
      "CN_14\n",
      "22W_7\n",
      "CN_54\n"
     ]
    },
    {
     "name": "stderr",
     "output_type": "stream",
     "text": [
      "/home/spkearney/miniconda3/envs/py_seg_env/lib/python3.9/site-packages/skimage/transform/_warps.py:725: RuntimeWarning: All-NaN slice encountered\n",
      "  min_val = min_func(input_image)\n",
      "/home/spkearney/miniconda3/envs/py_seg_env/lib/python3.9/site-packages/skimage/transform/_warps.py:729: RuntimeWarning: All-NaN slice encountered\n",
      "  max_val = max_func(input_image)\n"
     ]
    },
    {
     "name": "stdout",
     "output_type": "stream",
     "text": [
      "CN_35\n",
      "CN_6\n",
      "CN_26\n",
      "22E_9\n",
      "29-30_8\n",
      "CN_52\n",
      "CN_49\n",
      "29-30_46\n",
      "29-30_10\n",
      "CN_10\n",
      "CN_18\n",
      "CN_46\n",
      "22E_12\n",
      "CN_43\n",
      "22W_5\n",
      "29-30_32\n",
      "22W_11\n",
      "CN_38\n"
     ]
    },
    {
     "name": "stderr",
     "output_type": "stream",
     "text": [
      "/home/spkearney/miniconda3/envs/py_seg_env/lib/python3.9/site-packages/skimage/transform/_warps.py:725: RuntimeWarning: All-NaN slice encountered\n",
      "  min_val = min_func(input_image)\n",
      "/home/spkearney/miniconda3/envs/py_seg_env/lib/python3.9/site-packages/skimage/transform/_warps.py:729: RuntimeWarning: All-NaN slice encountered\n",
      "  max_val = max_func(input_image)\n"
     ]
    },
    {
     "name": "stdout",
     "output_type": "stream",
     "text": [
      "22E_7\n",
      "5W_6\n",
      "29-30_42\n",
      "CN_29\n",
      "29-30_30\n",
      "22W_15\n",
      "22E_1\n",
      "CN_12\n",
      "CN_0\n",
      "29-30_44\n",
      "29-30_14\n",
      "CN_59\n",
      "CN_50\n",
      "CN_44\n",
      "22W_1\n",
      "CN_16\n",
      "scaling       _downscaled\n",
      "resolution           60.0\n",
      "inputs                rgb\n",
      "Name: 1, dtype: object\n",
      "5W_9\n",
      "5W_14\n",
      "22W_10\n",
      "22E_5\n",
      "22E_13\n",
      "29-30_40\n",
      "CN_5\n",
      "CN_14\n",
      "22W_7\n",
      "CN_54\n"
     ]
    },
    {
     "name": "stderr",
     "output_type": "stream",
     "text": [
      "/home/spkearney/miniconda3/envs/py_seg_env/lib/python3.9/site-packages/skimage/transform/_warps.py:725: RuntimeWarning: All-NaN slice encountered\n",
      "  min_val = min_func(input_image)\n",
      "/home/spkearney/miniconda3/envs/py_seg_env/lib/python3.9/site-packages/skimage/transform/_warps.py:729: RuntimeWarning: All-NaN slice encountered\n",
      "  max_val = max_func(input_image)\n"
     ]
    },
    {
     "name": "stdout",
     "output_type": "stream",
     "text": [
      "CN_35\n",
      "CN_6\n",
      "CN_26\n",
      "22E_9\n",
      "29-30_8\n",
      "CN_52\n",
      "CN_49\n",
      "29-30_46\n",
      "29-30_10\n",
      "CN_10\n",
      "CN_18\n",
      "CN_46\n",
      "22E_12\n",
      "CN_43\n",
      "22W_5\n",
      "29-30_32\n",
      "22W_11\n",
      "CN_38\n"
     ]
    },
    {
     "name": "stderr",
     "output_type": "stream",
     "text": [
      "/home/spkearney/miniconda3/envs/py_seg_env/lib/python3.9/site-packages/skimage/transform/_warps.py:725: RuntimeWarning: All-NaN slice encountered\n",
      "  min_val = min_func(input_image)\n",
      "/home/spkearney/miniconda3/envs/py_seg_env/lib/python3.9/site-packages/skimage/transform/_warps.py:729: RuntimeWarning: All-NaN slice encountered\n",
      "  max_val = max_func(input_image)\n"
     ]
    },
    {
     "name": "stdout",
     "output_type": "stream",
     "text": [
      "22E_7\n",
      "5W_6\n",
      "29-30_42\n",
      "CN_29\n",
      "29-30_30\n",
      "22W_15\n",
      "22E_1\n",
      "CN_12\n",
      "CN_0\n",
      "29-30_44\n",
      "29-30_14\n",
      "CN_59\n",
      "CN_50\n",
      "CN_44\n",
      "22W_1\n",
      "CN_16\n",
      "scaling       _downscaled\n",
      "resolution           30.0\n",
      "inputs                rgb\n",
      "Name: 2, dtype: object\n",
      "5W_9\n",
      "5W_14\n",
      "22W_10\n",
      "22E_5\n",
      "22E_13\n",
      "29-30_40\n",
      "CN_5\n",
      "CN_14\n",
      "22W_7\n",
      "CN_54\n"
     ]
    },
    {
     "name": "stderr",
     "output_type": "stream",
     "text": [
      "/home/spkearney/miniconda3/envs/py_seg_env/lib/python3.9/site-packages/skimage/transform/_warps.py:725: RuntimeWarning: All-NaN slice encountered\n",
      "  min_val = min_func(input_image)\n",
      "/home/spkearney/miniconda3/envs/py_seg_env/lib/python3.9/site-packages/skimage/transform/_warps.py:729: RuntimeWarning: All-NaN slice encountered\n",
      "  max_val = max_func(input_image)\n"
     ]
    },
    {
     "name": "stdout",
     "output_type": "stream",
     "text": [
      "CN_35\n",
      "CN_6\n",
      "CN_26\n",
      "22E_9\n",
      "29-30_8\n",
      "CN_52\n",
      "CN_49\n",
      "29-30_46\n",
      "29-30_10\n",
      "CN_10\n",
      "CN_18\n",
      "CN_46\n",
      "22E_12\n",
      "CN_43\n",
      "22W_5\n",
      "29-30_32\n",
      "22W_11\n",
      "CN_38\n"
     ]
    },
    {
     "name": "stderr",
     "output_type": "stream",
     "text": [
      "/home/spkearney/miniconda3/envs/py_seg_env/lib/python3.9/site-packages/skimage/transform/_warps.py:725: RuntimeWarning: All-NaN slice encountered\n",
      "  min_val = min_func(input_image)\n",
      "/home/spkearney/miniconda3/envs/py_seg_env/lib/python3.9/site-packages/skimage/transform/_warps.py:729: RuntimeWarning: All-NaN slice encountered\n",
      "  max_val = max_func(input_image)\n"
     ]
    },
    {
     "name": "stdout",
     "output_type": "stream",
     "text": [
      "22E_7\n",
      "5W_6\n",
      "29-30_42\n",
      "CN_29\n",
      "29-30_30\n",
      "22W_15\n",
      "22E_1\n",
      "CN_12\n",
      "CN_0\n",
      "29-30_44\n",
      "29-30_14\n",
      "CN_59\n",
      "CN_50\n",
      "CN_44\n",
      "22W_1\n",
      "CN_16\n",
      "scaling       _minscaled\n",
      "resolution          93.0\n",
      "inputs               rgb\n",
      "Name: 3, dtype: object\n",
      "5W_9\n",
      "5W_14\n",
      "22W_10\n",
      "22E_5\n",
      "22E_13\n",
      "29-30_40\n",
      "CN_5\n",
      "CN_14\n",
      "22W_7\n",
      "CN_54\n"
     ]
    },
    {
     "name": "stderr",
     "output_type": "stream",
     "text": [
      "/home/spkearney/miniconda3/envs/py_seg_env/lib/python3.9/site-packages/skimage/transform/_warps.py:725: RuntimeWarning: All-NaN slice encountered\n",
      "  min_val = min_func(input_image)\n",
      "/home/spkearney/miniconda3/envs/py_seg_env/lib/python3.9/site-packages/skimage/transform/_warps.py:729: RuntimeWarning: All-NaN slice encountered\n",
      "  max_val = max_func(input_image)\n"
     ]
    },
    {
     "name": "stdout",
     "output_type": "stream",
     "text": [
      "CN_35\n",
      "CN_6\n",
      "CN_26\n",
      "22E_9\n",
      "29-30_8\n",
      "CN_52\n",
      "CN_49\n",
      "29-30_46\n",
      "29-30_10\n",
      "CN_10\n",
      "CN_18\n",
      "CN_46\n",
      "22E_12\n",
      "CN_43\n",
      "22W_5\n",
      "29-30_32\n",
      "22W_11\n",
      "CN_38\n"
     ]
    },
    {
     "name": "stderr",
     "output_type": "stream",
     "text": [
      "/home/spkearney/miniconda3/envs/py_seg_env/lib/python3.9/site-packages/skimage/transform/_warps.py:725: RuntimeWarning: All-NaN slice encountered\n",
      "  min_val = min_func(input_image)\n",
      "/home/spkearney/miniconda3/envs/py_seg_env/lib/python3.9/site-packages/skimage/transform/_warps.py:729: RuntimeWarning: All-NaN slice encountered\n",
      "  max_val = max_func(input_image)\n"
     ]
    },
    {
     "name": "stdout",
     "output_type": "stream",
     "text": [
      "22E_7\n",
      "5W_6\n",
      "29-30_42\n",
      "CN_29\n",
      "29-30_30\n",
      "22W_15\n",
      "22E_1\n",
      "CN_12\n",
      "CN_0\n",
      "29-30_44\n",
      "29-30_14\n",
      "CN_59\n",
      "CN_50\n",
      "CN_44\n",
      "22W_1\n",
      "CN_16\n",
      "scaling       _downscaled\n",
      "resolution           15.0\n",
      "inputs           rgb,ndvi\n",
      "Name: 4, dtype: object\n",
      "5W_9\n"
     ]
    },
    {
     "name": "stderr",
     "output_type": "stream",
     "text": [
      "/home/spkearney/miniconda3/envs/py_seg_env/lib/python3.9/site-packages/skimage/transform/_warps.py:725: RuntimeWarning: All-NaN slice encountered\n",
      "  min_val = min_func(input_image)\n",
      "/home/spkearney/miniconda3/envs/py_seg_env/lib/python3.9/site-packages/skimage/transform/_warps.py:729: RuntimeWarning: All-NaN slice encountered\n",
      "  max_val = max_func(input_image)\n"
     ]
    },
    {
     "name": "stdout",
     "output_type": "stream",
     "text": [
      "5W_14\n",
      "22W_10\n",
      "22E_5\n",
      "22E_13\n",
      "29-30_40\n",
      "CN_5\n",
      "CN_14\n",
      "22W_7\n",
      "CN_54\n"
     ]
    },
    {
     "name": "stderr",
     "output_type": "stream",
     "text": [
      "/home/spkearney/miniconda3/envs/py_seg_env/lib/python3.9/site-packages/skimage/transform/_warps.py:725: RuntimeWarning: All-NaN slice encountered\n",
      "  min_val = min_func(input_image)\n",
      "/home/spkearney/miniconda3/envs/py_seg_env/lib/python3.9/site-packages/skimage/transform/_warps.py:729: RuntimeWarning: All-NaN slice encountered\n",
      "  max_val = max_func(input_image)\n"
     ]
    },
    {
     "name": "stdout",
     "output_type": "stream",
     "text": [
      "CN_35\n",
      "CN_6\n",
      "CN_26\n",
      "22E_9\n",
      "29-30_8\n",
      "CN_52\n",
      "CN_49\n",
      "29-30_46\n",
      "29-30_10\n",
      "CN_10\n",
      "CN_18\n",
      "CN_46\n",
      "22E_12\n",
      "CN_43\n",
      "22W_5\n",
      "29-30_32\n",
      "22W_11\n",
      "CN_38\n"
     ]
    },
    {
     "name": "stderr",
     "output_type": "stream",
     "text": [
      "/home/spkearney/miniconda3/envs/py_seg_env/lib/python3.9/site-packages/skimage/transform/_warps.py:725: RuntimeWarning: All-NaN slice encountered\n",
      "  min_val = min_func(input_image)\n",
      "/home/spkearney/miniconda3/envs/py_seg_env/lib/python3.9/site-packages/skimage/transform/_warps.py:729: RuntimeWarning: All-NaN slice encountered\n",
      "  max_val = max_func(input_image)\n"
     ]
    },
    {
     "name": "stdout",
     "output_type": "stream",
     "text": [
      "22E_7\n",
      "5W_6\n"
     ]
    },
    {
     "name": "stderr",
     "output_type": "stream",
     "text": [
      "/home/spkearney/miniconda3/envs/py_seg_env/lib/python3.9/site-packages/skimage/transform/_warps.py:725: RuntimeWarning: All-NaN slice encountered\n",
      "  min_val = min_func(input_image)\n",
      "/home/spkearney/miniconda3/envs/py_seg_env/lib/python3.9/site-packages/skimage/transform/_warps.py:729: RuntimeWarning: All-NaN slice encountered\n",
      "  max_val = max_func(input_image)\n"
     ]
    },
    {
     "name": "stdout",
     "output_type": "stream",
     "text": [
      "29-30_42\n",
      "CN_29\n",
      "29-30_30\n",
      "22W_15\n",
      "22E_1\n",
      "CN_12\n",
      "CN_0\n",
      "29-30_44\n",
      "29-30_14\n",
      "CN_59\n",
      "CN_50\n",
      "CN_44\n",
      "22W_1\n",
      "CN_16\n",
      "scaling       _downscaled\n",
      "resolution           60.0\n",
      "inputs           rgb,ndvi\n",
      "Name: 5, dtype: object\n",
      "5W_9\n"
     ]
    },
    {
     "name": "stderr",
     "output_type": "stream",
     "text": [
      "/home/spkearney/miniconda3/envs/py_seg_env/lib/python3.9/site-packages/skimage/transform/_warps.py:725: RuntimeWarning: All-NaN slice encountered\n",
      "  min_val = min_func(input_image)\n",
      "/home/spkearney/miniconda3/envs/py_seg_env/lib/python3.9/site-packages/skimage/transform/_warps.py:729: RuntimeWarning: All-NaN slice encountered\n",
      "  max_val = max_func(input_image)\n"
     ]
    },
    {
     "name": "stdout",
     "output_type": "stream",
     "text": [
      "5W_14\n",
      "22W_10\n",
      "22E_5\n",
      "22E_13\n",
      "29-30_40\n",
      "CN_5\n",
      "CN_14\n",
      "22W_7\n",
      "CN_54\n"
     ]
    },
    {
     "name": "stderr",
     "output_type": "stream",
     "text": [
      "/home/spkearney/miniconda3/envs/py_seg_env/lib/python3.9/site-packages/skimage/transform/_warps.py:725: RuntimeWarning: All-NaN slice encountered\n",
      "  min_val = min_func(input_image)\n",
      "/home/spkearney/miniconda3/envs/py_seg_env/lib/python3.9/site-packages/skimage/transform/_warps.py:729: RuntimeWarning: All-NaN slice encountered\n",
      "  max_val = max_func(input_image)\n"
     ]
    },
    {
     "name": "stdout",
     "output_type": "stream",
     "text": [
      "CN_35\n",
      "CN_6\n",
      "CN_26\n",
      "22E_9\n",
      "29-30_8\n",
      "CN_52\n",
      "CN_49\n",
      "29-30_46\n",
      "29-30_10\n",
      "CN_10\n",
      "CN_18\n",
      "CN_46\n",
      "22E_12\n",
      "CN_43\n",
      "22W_5\n",
      "29-30_32\n",
      "22W_11\n",
      "CN_38\n"
     ]
    },
    {
     "name": "stderr",
     "output_type": "stream",
     "text": [
      "/home/spkearney/miniconda3/envs/py_seg_env/lib/python3.9/site-packages/skimage/transform/_warps.py:725: RuntimeWarning: All-NaN slice encountered\n",
      "  min_val = min_func(input_image)\n",
      "/home/spkearney/miniconda3/envs/py_seg_env/lib/python3.9/site-packages/skimage/transform/_warps.py:729: RuntimeWarning: All-NaN slice encountered\n",
      "  max_val = max_func(input_image)\n"
     ]
    },
    {
     "name": "stdout",
     "output_type": "stream",
     "text": [
      "22E_7\n",
      "5W_6\n"
     ]
    },
    {
     "name": "stderr",
     "output_type": "stream",
     "text": [
      "/home/spkearney/miniconda3/envs/py_seg_env/lib/python3.9/site-packages/skimage/transform/_warps.py:725: RuntimeWarning: All-NaN slice encountered\n",
      "  min_val = min_func(input_image)\n",
      "/home/spkearney/miniconda3/envs/py_seg_env/lib/python3.9/site-packages/skimage/transform/_warps.py:729: RuntimeWarning: All-NaN slice encountered\n",
      "  max_val = max_func(input_image)\n"
     ]
    },
    {
     "name": "stdout",
     "output_type": "stream",
     "text": [
      "29-30_42\n",
      "CN_29\n",
      "29-30_30\n",
      "22W_15\n",
      "22E_1\n",
      "CN_12\n",
      "CN_0\n",
      "29-30_44\n",
      "29-30_14\n",
      "CN_59\n",
      "CN_50\n",
      "CN_44\n",
      "22W_1\n",
      "CN_16\n",
      "scaling       _downscaled\n",
      "resolution           30.0\n",
      "inputs           rgb,ndvi\n",
      "Name: 6, dtype: object\n",
      "5W_9\n"
     ]
    },
    {
     "name": "stderr",
     "output_type": "stream",
     "text": [
      "/home/spkearney/miniconda3/envs/py_seg_env/lib/python3.9/site-packages/skimage/transform/_warps.py:725: RuntimeWarning: All-NaN slice encountered\n",
      "  min_val = min_func(input_image)\n",
      "/home/spkearney/miniconda3/envs/py_seg_env/lib/python3.9/site-packages/skimage/transform/_warps.py:729: RuntimeWarning: All-NaN slice encountered\n",
      "  max_val = max_func(input_image)\n"
     ]
    },
    {
     "name": "stdout",
     "output_type": "stream",
     "text": [
      "5W_14\n",
      "22W_10\n",
      "22E_5\n",
      "22E_13\n",
      "29-30_40\n",
      "CN_5\n",
      "CN_14\n",
      "22W_7\n",
      "CN_54\n"
     ]
    },
    {
     "name": "stderr",
     "output_type": "stream",
     "text": [
      "/home/spkearney/miniconda3/envs/py_seg_env/lib/python3.9/site-packages/skimage/transform/_warps.py:725: RuntimeWarning: All-NaN slice encountered\n",
      "  min_val = min_func(input_image)\n",
      "/home/spkearney/miniconda3/envs/py_seg_env/lib/python3.9/site-packages/skimage/transform/_warps.py:729: RuntimeWarning: All-NaN slice encountered\n",
      "  max_val = max_func(input_image)\n"
     ]
    },
    {
     "name": "stdout",
     "output_type": "stream",
     "text": [
      "CN_35\n",
      "CN_6\n",
      "CN_26\n",
      "22E_9\n",
      "29-30_8\n",
      "CN_52\n",
      "CN_49\n",
      "29-30_46\n",
      "29-30_10\n",
      "CN_10\n",
      "CN_18\n",
      "CN_46\n",
      "22E_12\n",
      "CN_43\n",
      "22W_5\n",
      "29-30_32\n",
      "22W_11\n",
      "CN_38\n"
     ]
    },
    {
     "name": "stderr",
     "output_type": "stream",
     "text": [
      "/home/spkearney/miniconda3/envs/py_seg_env/lib/python3.9/site-packages/skimage/transform/_warps.py:725: RuntimeWarning: All-NaN slice encountered\n",
      "  min_val = min_func(input_image)\n",
      "/home/spkearney/miniconda3/envs/py_seg_env/lib/python3.9/site-packages/skimage/transform/_warps.py:729: RuntimeWarning: All-NaN slice encountered\n",
      "  max_val = max_func(input_image)\n"
     ]
    },
    {
     "name": "stdout",
     "output_type": "stream",
     "text": [
      "22E_7\n",
      "5W_6\n"
     ]
    },
    {
     "name": "stderr",
     "output_type": "stream",
     "text": [
      "/home/spkearney/miniconda3/envs/py_seg_env/lib/python3.9/site-packages/skimage/transform/_warps.py:725: RuntimeWarning: All-NaN slice encountered\n",
      "  min_val = min_func(input_image)\n",
      "/home/spkearney/miniconda3/envs/py_seg_env/lib/python3.9/site-packages/skimage/transform/_warps.py:729: RuntimeWarning: All-NaN slice encountered\n",
      "  max_val = max_func(input_image)\n"
     ]
    },
    {
     "name": "stdout",
     "output_type": "stream",
     "text": [
      "29-30_42\n",
      "CN_29\n",
      "29-30_30\n",
      "22W_15\n",
      "22E_1\n",
      "CN_12\n",
      "CN_0\n",
      "29-30_44\n",
      "29-30_14\n",
      "CN_59\n",
      "CN_50\n",
      "CN_44\n",
      "22W_1\n",
      "CN_16\n",
      "scaling       _minscaled\n",
      "resolution          93.0\n",
      "inputs          rgb,ndvi\n",
      "Name: 7, dtype: object\n",
      "5W_9\n"
     ]
    },
    {
     "name": "stderr",
     "output_type": "stream",
     "text": [
      "/home/spkearney/miniconda3/envs/py_seg_env/lib/python3.9/site-packages/skimage/transform/_warps.py:725: RuntimeWarning: All-NaN slice encountered\n",
      "  min_val = min_func(input_image)\n",
      "/home/spkearney/miniconda3/envs/py_seg_env/lib/python3.9/site-packages/skimage/transform/_warps.py:729: RuntimeWarning: All-NaN slice encountered\n",
      "  max_val = max_func(input_image)\n"
     ]
    },
    {
     "name": "stdout",
     "output_type": "stream",
     "text": [
      "5W_14\n",
      "22W_10\n",
      "22E_5\n",
      "22E_13\n",
      "29-30_40\n",
      "CN_5\n",
      "CN_14\n",
      "22W_7\n",
      "CN_54\n"
     ]
    },
    {
     "name": "stderr",
     "output_type": "stream",
     "text": [
      "/home/spkearney/miniconda3/envs/py_seg_env/lib/python3.9/site-packages/skimage/transform/_warps.py:725: RuntimeWarning: All-NaN slice encountered\n",
      "  min_val = min_func(input_image)\n",
      "/home/spkearney/miniconda3/envs/py_seg_env/lib/python3.9/site-packages/skimage/transform/_warps.py:729: RuntimeWarning: All-NaN slice encountered\n",
      "  max_val = max_func(input_image)\n"
     ]
    },
    {
     "name": "stdout",
     "output_type": "stream",
     "text": [
      "CN_35\n",
      "CN_6\n",
      "CN_26\n",
      "22E_9\n",
      "29-30_8\n",
      "CN_52\n",
      "CN_49\n",
      "29-30_46\n",
      "29-30_10\n",
      "CN_10\n",
      "CN_18\n",
      "CN_46\n",
      "22E_12\n",
      "CN_43\n",
      "22W_5\n",
      "29-30_32\n",
      "22W_11\n",
      "CN_38\n"
     ]
    },
    {
     "name": "stderr",
     "output_type": "stream",
     "text": [
      "/home/spkearney/miniconda3/envs/py_seg_env/lib/python3.9/site-packages/skimage/transform/_warps.py:725: RuntimeWarning: All-NaN slice encountered\n",
      "  min_val = min_func(input_image)\n",
      "/home/spkearney/miniconda3/envs/py_seg_env/lib/python3.9/site-packages/skimage/transform/_warps.py:729: RuntimeWarning: All-NaN slice encountered\n",
      "  max_val = max_func(input_image)\n"
     ]
    },
    {
     "name": "stdout",
     "output_type": "stream",
     "text": [
      "22E_7\n",
      "5W_6\n"
     ]
    },
    {
     "name": "stderr",
     "output_type": "stream",
     "text": [
      "/home/spkearney/miniconda3/envs/py_seg_env/lib/python3.9/site-packages/skimage/transform/_warps.py:725: RuntimeWarning: All-NaN slice encountered\n",
      "  min_val = min_func(input_image)\n",
      "/home/spkearney/miniconda3/envs/py_seg_env/lib/python3.9/site-packages/skimage/transform/_warps.py:729: RuntimeWarning: All-NaN slice encountered\n",
      "  max_val = max_func(input_image)\n"
     ]
    },
    {
     "name": "stdout",
     "output_type": "stream",
     "text": [
      "29-30_42\n",
      "CN_29\n",
      "29-30_30\n",
      "22W_15\n",
      "22E_1\n",
      "CN_12\n",
      "CN_0\n",
      "29-30_44\n",
      "29-30_14\n",
      "CN_59\n",
      "CN_50\n",
      "CN_44\n",
      "22W_1\n",
      "CN_16\n",
      "scaling               \n",
      "resolution         3.0\n",
      "inputs        rgb,ndvi\n",
      "Name: 8, dtype: object\n",
      "5W_9\n"
     ]
    },
    {
     "name": "stderr",
     "output_type": "stream",
     "text": [
      "/home/spkearney/miniconda3/envs/py_seg_env/lib/python3.9/site-packages/skimage/transform/_warps.py:725: RuntimeWarning: All-NaN slice encountered\n",
      "  min_val = min_func(input_image)\n",
      "/home/spkearney/miniconda3/envs/py_seg_env/lib/python3.9/site-packages/skimage/transform/_warps.py:729: RuntimeWarning: All-NaN slice encountered\n",
      "  max_val = max_func(input_image)\n"
     ]
    },
    {
     "name": "stdout",
     "output_type": "stream",
     "text": [
      "5W_14\n",
      "22W_10\n",
      "22E_5\n",
      "22E_13\n",
      "29-30_40\n",
      "CN_5\n",
      "CN_14\n",
      "22W_7\n",
      "CN_54\n"
     ]
    },
    {
     "name": "stderr",
     "output_type": "stream",
     "text": [
      "/home/spkearney/miniconda3/envs/py_seg_env/lib/python3.9/site-packages/skimage/transform/_warps.py:725: RuntimeWarning: All-NaN slice encountered\n",
      "  min_val = min_func(input_image)\n",
      "/home/spkearney/miniconda3/envs/py_seg_env/lib/python3.9/site-packages/skimage/transform/_warps.py:729: RuntimeWarning: All-NaN slice encountered\n",
      "  max_val = max_func(input_image)\n"
     ]
    },
    {
     "name": "stdout",
     "output_type": "stream",
     "text": [
      "CN_35\n",
      "CN_6\n",
      "CN_26\n",
      "22E_9\n",
      "29-30_8\n",
      "CN_52\n",
      "CN_49\n",
      "29-30_46\n",
      "29-30_10\n",
      "CN_10\n",
      "CN_18\n",
      "CN_46\n",
      "22E_12\n",
      "CN_43\n",
      "22W_5\n",
      "29-30_32\n",
      "22W_11\n",
      "CN_38\n"
     ]
    },
    {
     "name": "stderr",
     "output_type": "stream",
     "text": [
      "/home/spkearney/miniconda3/envs/py_seg_env/lib/python3.9/site-packages/skimage/transform/_warps.py:725: RuntimeWarning: All-NaN slice encountered\n",
      "  min_val = min_func(input_image)\n",
      "/home/spkearney/miniconda3/envs/py_seg_env/lib/python3.9/site-packages/skimage/transform/_warps.py:729: RuntimeWarning: All-NaN slice encountered\n",
      "  max_val = max_func(input_image)\n"
     ]
    },
    {
     "name": "stdout",
     "output_type": "stream",
     "text": [
      "22E_7\n",
      "5W_6\n"
     ]
    },
    {
     "name": "stderr",
     "output_type": "stream",
     "text": [
      "/home/spkearney/miniconda3/envs/py_seg_env/lib/python3.9/site-packages/skimage/transform/_warps.py:725: RuntimeWarning: All-NaN slice encountered\n",
      "  min_val = min_func(input_image)\n",
      "/home/spkearney/miniconda3/envs/py_seg_env/lib/python3.9/site-packages/skimage/transform/_warps.py:729: RuntimeWarning: All-NaN slice encountered\n",
      "  max_val = max_func(input_image)\n"
     ]
    },
    {
     "name": "stdout",
     "output_type": "stream",
     "text": [
      "29-30_42\n",
      "CN_29\n",
      "29-30_30\n",
      "22W_15\n",
      "22E_1\n",
      "CN_12\n",
      "CN_0\n",
      "29-30_44\n",
      "29-30_14\n",
      "CN_59\n",
      "CN_50\n",
      "CN_44\n",
      "22W_1\n",
      "CN_16\n",
      "scaling               \n",
      "resolution         9.0\n",
      "inputs        rgb,ndvi\n",
      "Name: 9, dtype: object\n",
      "5W_9\n"
     ]
    },
    {
     "name": "stderr",
     "output_type": "stream",
     "text": [
      "/home/spkearney/miniconda3/envs/py_seg_env/lib/python3.9/site-packages/skimage/transform/_warps.py:725: RuntimeWarning: All-NaN slice encountered\n",
      "  min_val = min_func(input_image)\n",
      "/home/spkearney/miniconda3/envs/py_seg_env/lib/python3.9/site-packages/skimage/transform/_warps.py:729: RuntimeWarning: All-NaN slice encountered\n",
      "  max_val = max_func(input_image)\n"
     ]
    },
    {
     "name": "stdout",
     "output_type": "stream",
     "text": [
      "5W_14\n",
      "22W_10\n",
      "22E_5\n",
      "22E_13\n",
      "29-30_40\n",
      "CN_5\n",
      "CN_14\n",
      "22W_7\n",
      "CN_54\n"
     ]
    },
    {
     "name": "stderr",
     "output_type": "stream",
     "text": [
      "/home/spkearney/miniconda3/envs/py_seg_env/lib/python3.9/site-packages/skimage/transform/_warps.py:725: RuntimeWarning: All-NaN slice encountered\n",
      "  min_val = min_func(input_image)\n",
      "/home/spkearney/miniconda3/envs/py_seg_env/lib/python3.9/site-packages/skimage/transform/_warps.py:729: RuntimeWarning: All-NaN slice encountered\n",
      "  max_val = max_func(input_image)\n"
     ]
    },
    {
     "name": "stdout",
     "output_type": "stream",
     "text": [
      "CN_35\n",
      "CN_6\n",
      "CN_26\n",
      "22E_9\n",
      "29-30_8\n",
      "CN_52\n",
      "CN_49\n",
      "29-30_46\n",
      "29-30_10\n",
      "CN_10\n",
      "CN_18\n",
      "CN_46\n",
      "22E_12\n",
      "CN_43\n",
      "22W_5\n",
      "29-30_32\n",
      "22W_11\n",
      "CN_38\n"
     ]
    },
    {
     "name": "stderr",
     "output_type": "stream",
     "text": [
      "/home/spkearney/miniconda3/envs/py_seg_env/lib/python3.9/site-packages/skimage/transform/_warps.py:725: RuntimeWarning: All-NaN slice encountered\n",
      "  min_val = min_func(input_image)\n",
      "/home/spkearney/miniconda3/envs/py_seg_env/lib/python3.9/site-packages/skimage/transform/_warps.py:729: RuntimeWarning: All-NaN slice encountered\n",
      "  max_val = max_func(input_image)\n"
     ]
    },
    {
     "name": "stdout",
     "output_type": "stream",
     "text": [
      "22E_7\n",
      "5W_6\n"
     ]
    },
    {
     "name": "stderr",
     "output_type": "stream",
     "text": [
      "/home/spkearney/miniconda3/envs/py_seg_env/lib/python3.9/site-packages/skimage/transform/_warps.py:725: RuntimeWarning: All-NaN slice encountered\n",
      "  min_val = min_func(input_image)\n",
      "/home/spkearney/miniconda3/envs/py_seg_env/lib/python3.9/site-packages/skimage/transform/_warps.py:729: RuntimeWarning: All-NaN slice encountered\n",
      "  max_val = max_func(input_image)\n"
     ]
    },
    {
     "name": "stdout",
     "output_type": "stream",
     "text": [
      "29-30_42\n",
      "CN_29\n",
      "29-30_30\n",
      "22W_15\n",
      "22E_1\n",
      "CN_12\n",
      "CN_0\n",
      "29-30_44\n",
      "29-30_14\n",
      "CN_59\n",
      "CN_50\n",
      "CN_44\n",
      "22W_1\n",
      "CN_16\n",
      "scaling               \n",
      "resolution         6.0\n",
      "inputs        rgb,ndvi\n",
      "Name: 10, dtype: object\n",
      "5W_9\n"
     ]
    },
    {
     "name": "stderr",
     "output_type": "stream",
     "text": [
      "/home/spkearney/miniconda3/envs/py_seg_env/lib/python3.9/site-packages/skimage/transform/_warps.py:725: RuntimeWarning: All-NaN slice encountered\n",
      "  min_val = min_func(input_image)\n",
      "/home/spkearney/miniconda3/envs/py_seg_env/lib/python3.9/site-packages/skimage/transform/_warps.py:729: RuntimeWarning: All-NaN slice encountered\n",
      "  max_val = max_func(input_image)\n"
     ]
    },
    {
     "name": "stdout",
     "output_type": "stream",
     "text": [
      "5W_14\n",
      "22W_10\n",
      "22E_5\n",
      "22E_13\n",
      "29-30_40\n",
      "CN_5\n",
      "CN_14\n",
      "22W_7\n",
      "CN_54\n"
     ]
    },
    {
     "name": "stderr",
     "output_type": "stream",
     "text": [
      "/home/spkearney/miniconda3/envs/py_seg_env/lib/python3.9/site-packages/skimage/transform/_warps.py:725: RuntimeWarning: All-NaN slice encountered\n",
      "  min_val = min_func(input_image)\n",
      "/home/spkearney/miniconda3/envs/py_seg_env/lib/python3.9/site-packages/skimage/transform/_warps.py:729: RuntimeWarning: All-NaN slice encountered\n",
      "  max_val = max_func(input_image)\n"
     ]
    },
    {
     "name": "stdout",
     "output_type": "stream",
     "text": [
      "CN_35\n",
      "CN_6\n",
      "CN_26\n",
      "22E_9\n",
      "29-30_8\n",
      "CN_52\n",
      "CN_49\n",
      "29-30_46\n",
      "29-30_10\n",
      "CN_10\n",
      "CN_18\n",
      "CN_46\n",
      "22E_12\n",
      "CN_43\n",
      "22W_5\n",
      "29-30_32\n",
      "22W_11\n",
      "CN_38\n"
     ]
    },
    {
     "name": "stderr",
     "output_type": "stream",
     "text": [
      "/home/spkearney/miniconda3/envs/py_seg_env/lib/python3.9/site-packages/skimage/transform/_warps.py:725: RuntimeWarning: All-NaN slice encountered\n",
      "  min_val = min_func(input_image)\n",
      "/home/spkearney/miniconda3/envs/py_seg_env/lib/python3.9/site-packages/skimage/transform/_warps.py:729: RuntimeWarning: All-NaN slice encountered\n",
      "  max_val = max_func(input_image)\n"
     ]
    },
    {
     "name": "stdout",
     "output_type": "stream",
     "text": [
      "22E_7\n",
      "5W_6\n"
     ]
    },
    {
     "name": "stderr",
     "output_type": "stream",
     "text": [
      "/home/spkearney/miniconda3/envs/py_seg_env/lib/python3.9/site-packages/skimage/transform/_warps.py:725: RuntimeWarning: All-NaN slice encountered\n",
      "  min_val = min_func(input_image)\n",
      "/home/spkearney/miniconda3/envs/py_seg_env/lib/python3.9/site-packages/skimage/transform/_warps.py:729: RuntimeWarning: All-NaN slice encountered\n",
      "  max_val = max_func(input_image)\n"
     ]
    },
    {
     "name": "stdout",
     "output_type": "stream",
     "text": [
      "29-30_42\n",
      "CN_29\n",
      "29-30_30\n",
      "22W_15\n",
      "22E_1\n",
      "CN_12\n",
      "CN_0\n",
      "29-30_44\n",
      "29-30_14\n",
      "CN_59\n",
      "CN_50\n",
      "CN_44\n",
      "22W_1\n",
      "CN_16\n",
      "scaling          \n",
      "resolution    3.0\n",
      "inputs        rgb\n",
      "Name: 11, dtype: object\n",
      "5W_9\n",
      "5W_14\n",
      "22W_10\n",
      "22E_5\n",
      "22E_13\n",
      "29-30_40\n",
      "CN_5\n",
      "CN_14\n",
      "22W_7\n",
      "CN_54\n"
     ]
    },
    {
     "name": "stderr",
     "output_type": "stream",
     "text": [
      "/home/spkearney/miniconda3/envs/py_seg_env/lib/python3.9/site-packages/skimage/transform/_warps.py:725: RuntimeWarning: All-NaN slice encountered\n",
      "  min_val = min_func(input_image)\n",
      "/home/spkearney/miniconda3/envs/py_seg_env/lib/python3.9/site-packages/skimage/transform/_warps.py:729: RuntimeWarning: All-NaN slice encountered\n",
      "  max_val = max_func(input_image)\n"
     ]
    },
    {
     "name": "stdout",
     "output_type": "stream",
     "text": [
      "CN_35\n",
      "CN_6\n",
      "CN_26\n",
      "22E_9\n",
      "29-30_8\n",
      "CN_52\n",
      "CN_49\n",
      "29-30_46\n",
      "29-30_10\n",
      "CN_10\n",
      "CN_18\n",
      "CN_46\n",
      "22E_12\n",
      "CN_43\n",
      "22W_5\n",
      "29-30_32\n",
      "22W_11\n",
      "CN_38\n"
     ]
    },
    {
     "name": "stderr",
     "output_type": "stream",
     "text": [
      "/home/spkearney/miniconda3/envs/py_seg_env/lib/python3.9/site-packages/skimage/transform/_warps.py:725: RuntimeWarning: All-NaN slice encountered\n",
      "  min_val = min_func(input_image)\n",
      "/home/spkearney/miniconda3/envs/py_seg_env/lib/python3.9/site-packages/skimage/transform/_warps.py:729: RuntimeWarning: All-NaN slice encountered\n",
      "  max_val = max_func(input_image)\n"
     ]
    },
    {
     "name": "stdout",
     "output_type": "stream",
     "text": [
      "22E_7\n",
      "5W_6\n",
      "29-30_42\n",
      "CN_29\n",
      "29-30_30\n",
      "22W_15\n",
      "22E_1\n",
      "CN_12\n",
      "CN_0\n",
      "29-30_44\n",
      "29-30_14\n",
      "CN_59\n",
      "CN_50\n",
      "CN_44\n",
      "22W_1\n",
      "CN_16\n",
      "scaling          \n",
      "resolution    9.0\n",
      "inputs        rgb\n",
      "Name: 12, dtype: object\n",
      "5W_9\n",
      "5W_14\n",
      "22W_10\n",
      "22E_5\n",
      "22E_13\n",
      "29-30_40\n",
      "CN_5\n",
      "CN_14\n",
      "22W_7\n",
      "CN_54\n"
     ]
    },
    {
     "name": "stderr",
     "output_type": "stream",
     "text": [
      "/home/spkearney/miniconda3/envs/py_seg_env/lib/python3.9/site-packages/skimage/transform/_warps.py:725: RuntimeWarning: All-NaN slice encountered\n",
      "  min_val = min_func(input_image)\n",
      "/home/spkearney/miniconda3/envs/py_seg_env/lib/python3.9/site-packages/skimage/transform/_warps.py:729: RuntimeWarning: All-NaN slice encountered\n",
      "  max_val = max_func(input_image)\n"
     ]
    },
    {
     "name": "stdout",
     "output_type": "stream",
     "text": [
      "CN_35\n",
      "CN_6\n",
      "CN_26\n",
      "22E_9\n",
      "29-30_8\n",
      "CN_52\n",
      "CN_49\n",
      "29-30_46\n",
      "29-30_10\n",
      "CN_10\n",
      "CN_18\n",
      "CN_46\n",
      "22E_12\n",
      "CN_43\n",
      "22W_5\n",
      "29-30_32\n",
      "22W_11\n",
      "CN_38\n"
     ]
    },
    {
     "name": "stderr",
     "output_type": "stream",
     "text": [
      "/home/spkearney/miniconda3/envs/py_seg_env/lib/python3.9/site-packages/skimage/transform/_warps.py:725: RuntimeWarning: All-NaN slice encountered\n",
      "  min_val = min_func(input_image)\n",
      "/home/spkearney/miniconda3/envs/py_seg_env/lib/python3.9/site-packages/skimage/transform/_warps.py:729: RuntimeWarning: All-NaN slice encountered\n",
      "  max_val = max_func(input_image)\n"
     ]
    },
    {
     "name": "stdout",
     "output_type": "stream",
     "text": [
      "22E_7\n",
      "5W_6\n",
      "29-30_42\n",
      "CN_29\n",
      "29-30_30\n",
      "22W_15\n",
      "22E_1\n",
      "CN_12\n",
      "CN_0\n",
      "29-30_44\n",
      "29-30_14\n",
      "CN_59\n",
      "CN_50\n",
      "CN_44\n",
      "22W_1\n",
      "CN_16\n",
      "scaling          \n",
      "resolution    6.0\n",
      "inputs        rgb\n",
      "Name: 13, dtype: object\n",
      "5W_9\n",
      "5W_14\n",
      "22W_10\n",
      "22E_5\n",
      "22E_13\n",
      "29-30_40\n",
      "CN_5\n",
      "CN_14\n",
      "22W_7\n",
      "CN_54\n"
     ]
    },
    {
     "name": "stderr",
     "output_type": "stream",
     "text": [
      "/home/spkearney/miniconda3/envs/py_seg_env/lib/python3.9/site-packages/skimage/transform/_warps.py:725: RuntimeWarning: All-NaN slice encountered\n",
      "  min_val = min_func(input_image)\n",
      "/home/spkearney/miniconda3/envs/py_seg_env/lib/python3.9/site-packages/skimage/transform/_warps.py:729: RuntimeWarning: All-NaN slice encountered\n",
      "  max_val = max_func(input_image)\n"
     ]
    },
    {
     "name": "stdout",
     "output_type": "stream",
     "text": [
      "CN_35\n",
      "CN_6\n",
      "CN_26\n",
      "22E_9\n",
      "29-30_8\n",
      "CN_52\n",
      "CN_49\n",
      "29-30_46\n",
      "29-30_10\n",
      "CN_10\n",
      "CN_18\n",
      "CN_46\n",
      "22E_12\n",
      "CN_43\n",
      "22W_5\n",
      "29-30_32\n",
      "22W_11\n",
      "CN_38\n"
     ]
    },
    {
     "name": "stderr",
     "output_type": "stream",
     "text": [
      "/home/spkearney/miniconda3/envs/py_seg_env/lib/python3.9/site-packages/skimage/transform/_warps.py:725: RuntimeWarning: All-NaN slice encountered\n",
      "  min_val = min_func(input_image)\n",
      "/home/spkearney/miniconda3/envs/py_seg_env/lib/python3.9/site-packages/skimage/transform/_warps.py:729: RuntimeWarning: All-NaN slice encountered\n",
      "  max_val = max_func(input_image)\n"
     ]
    },
    {
     "name": "stdout",
     "output_type": "stream",
     "text": [
      "22E_7\n",
      "5W_6\n",
      "29-30_42\n",
      "CN_29\n",
      "29-30_30\n",
      "22W_15\n",
      "22E_1\n",
      "CN_12\n",
      "CN_0\n",
      "29-30_44\n",
      "29-30_14\n",
      "CN_59\n",
      "CN_50\n",
      "CN_44\n",
      "22W_1\n",
      "CN_16\n",
      "scaling             _downscaled\n",
      "resolution                 15.0\n",
      "inputs        rgb,tpi,shade,dsm\n",
      "Name: 14, dtype: object\n",
      "5W_9\n",
      "5W_14\n",
      "22W_10\n",
      "22E_5\n",
      "22E_13\n",
      "29-30_40\n",
      "CN_5\n",
      "CN_14\n",
      "22W_7\n",
      "CN_54\n"
     ]
    },
    {
     "name": "stderr",
     "output_type": "stream",
     "text": [
      "/home/spkearney/miniconda3/envs/py_seg_env/lib/python3.9/site-packages/skimage/transform/_warps.py:725: RuntimeWarning: All-NaN slice encountered\n",
      "  min_val = min_func(input_image)\n",
      "/home/spkearney/miniconda3/envs/py_seg_env/lib/python3.9/site-packages/skimage/transform/_warps.py:729: RuntimeWarning: All-NaN slice encountered\n",
      "  max_val = max_func(input_image)\n"
     ]
    },
    {
     "name": "stdout",
     "output_type": "stream",
     "text": [
      "CN_35\n",
      "CN_6\n",
      "CN_26\n",
      "22E_9\n",
      "29-30_8\n",
      "CN_52\n",
      "CN_49\n",
      "29-30_46\n",
      "29-30_10\n",
      "CN_10\n",
      "CN_18\n",
      "CN_46\n",
      "22E_12\n",
      "CN_43\n",
      "22W_5\n",
      "29-30_32\n",
      "22W_11\n",
      "CN_38\n"
     ]
    },
    {
     "name": "stderr",
     "output_type": "stream",
     "text": [
      "/home/spkearney/miniconda3/envs/py_seg_env/lib/python3.9/site-packages/skimage/transform/_warps.py:725: RuntimeWarning: All-NaN slice encountered\n",
      "  min_val = min_func(input_image)\n",
      "/home/spkearney/miniconda3/envs/py_seg_env/lib/python3.9/site-packages/skimage/transform/_warps.py:729: RuntimeWarning: All-NaN slice encountered\n",
      "  max_val = max_func(input_image)\n"
     ]
    },
    {
     "name": "stdout",
     "output_type": "stream",
     "text": [
      "22E_7\n",
      "5W_6\n",
      "29-30_42\n",
      "CN_29\n",
      "29-30_30\n",
      "22W_15\n",
      "22E_1\n",
      "CN_12\n",
      "CN_0\n",
      "29-30_44\n",
      "29-30_14\n",
      "CN_59\n",
      "CN_50\n",
      "CN_44\n",
      "22W_1\n",
      "CN_16\n",
      "scaling             _downscaled\n",
      "resolution                 60.0\n",
      "inputs        rgb,tpi,shade,dsm\n",
      "Name: 15, dtype: object\n",
      "5W_9\n",
      "5W_14\n",
      "22W_10\n",
      "22E_5\n",
      "22E_13\n",
      "29-30_40\n",
      "CN_5\n",
      "CN_14\n",
      "22W_7\n",
      "CN_54\n"
     ]
    },
    {
     "name": "stderr",
     "output_type": "stream",
     "text": [
      "/home/spkearney/miniconda3/envs/py_seg_env/lib/python3.9/site-packages/skimage/transform/_warps.py:725: RuntimeWarning: All-NaN slice encountered\n",
      "  min_val = min_func(input_image)\n",
      "/home/spkearney/miniconda3/envs/py_seg_env/lib/python3.9/site-packages/skimage/transform/_warps.py:729: RuntimeWarning: All-NaN slice encountered\n",
      "  max_val = max_func(input_image)\n"
     ]
    },
    {
     "name": "stdout",
     "output_type": "stream",
     "text": [
      "CN_35\n",
      "CN_6\n",
      "CN_26\n",
      "22E_9\n",
      "29-30_8\n",
      "CN_52\n",
      "CN_49\n",
      "29-30_46\n",
      "29-30_10\n",
      "CN_10\n",
      "CN_18\n",
      "CN_46\n",
      "22E_12\n",
      "CN_43\n",
      "22W_5\n",
      "29-30_32\n",
      "22W_11\n",
      "CN_38\n"
     ]
    },
    {
     "name": "stderr",
     "output_type": "stream",
     "text": [
      "/home/spkearney/miniconda3/envs/py_seg_env/lib/python3.9/site-packages/skimage/transform/_warps.py:725: RuntimeWarning: All-NaN slice encountered\n",
      "  min_val = min_func(input_image)\n",
      "/home/spkearney/miniconda3/envs/py_seg_env/lib/python3.9/site-packages/skimage/transform/_warps.py:729: RuntimeWarning: All-NaN slice encountered\n",
      "  max_val = max_func(input_image)\n"
     ]
    },
    {
     "name": "stdout",
     "output_type": "stream",
     "text": [
      "22E_7\n",
      "5W_6\n",
      "29-30_42\n",
      "CN_29\n",
      "29-30_30\n",
      "22W_15\n",
      "22E_1\n",
      "CN_12\n",
      "CN_0\n",
      "29-30_44\n",
      "29-30_14\n",
      "CN_59\n",
      "CN_50\n",
      "CN_44\n",
      "22W_1\n",
      "CN_16\n",
      "scaling             _downscaled\n",
      "resolution                 30.0\n",
      "inputs        rgb,tpi,shade,dsm\n",
      "Name: 16, dtype: object\n",
      "5W_9\n",
      "5W_14\n",
      "22W_10\n",
      "22E_5\n",
      "22E_13\n",
      "29-30_40\n",
      "CN_5\n",
      "CN_14\n",
      "22W_7\n",
      "CN_54\n"
     ]
    },
    {
     "name": "stderr",
     "output_type": "stream",
     "text": [
      "/home/spkearney/miniconda3/envs/py_seg_env/lib/python3.9/site-packages/skimage/transform/_warps.py:725: RuntimeWarning: All-NaN slice encountered\n",
      "  min_val = min_func(input_image)\n",
      "/home/spkearney/miniconda3/envs/py_seg_env/lib/python3.9/site-packages/skimage/transform/_warps.py:729: RuntimeWarning: All-NaN slice encountered\n",
      "  max_val = max_func(input_image)\n"
     ]
    },
    {
     "name": "stdout",
     "output_type": "stream",
     "text": [
      "CN_35\n",
      "CN_6\n",
      "CN_26\n",
      "22E_9\n",
      "29-30_8\n",
      "CN_52\n",
      "CN_49\n",
      "29-30_46\n",
      "29-30_10\n",
      "CN_10\n",
      "CN_18\n",
      "CN_46\n",
      "22E_12\n",
      "CN_43\n",
      "22W_5\n",
      "29-30_32\n",
      "22W_11\n",
      "CN_38\n"
     ]
    },
    {
     "name": "stderr",
     "output_type": "stream",
     "text": [
      "/home/spkearney/miniconda3/envs/py_seg_env/lib/python3.9/site-packages/skimage/transform/_warps.py:725: RuntimeWarning: All-NaN slice encountered\n",
      "  min_val = min_func(input_image)\n",
      "/home/spkearney/miniconda3/envs/py_seg_env/lib/python3.9/site-packages/skimage/transform/_warps.py:729: RuntimeWarning: All-NaN slice encountered\n",
      "  max_val = max_func(input_image)\n"
     ]
    },
    {
     "name": "stdout",
     "output_type": "stream",
     "text": [
      "22E_7\n",
      "5W_6\n",
      "29-30_42\n",
      "CN_29\n",
      "29-30_30\n",
      "22W_15\n",
      "22E_1\n",
      "CN_12\n",
      "CN_0\n",
      "29-30_44\n",
      "29-30_14\n",
      "CN_59\n",
      "CN_50\n",
      "CN_44\n",
      "22W_1\n",
      "CN_16\n",
      "scaling              _minscaled\n",
      "resolution                 93.0\n",
      "inputs        rgb,tpi,shade,dsm\n",
      "Name: 17, dtype: object\n",
      "5W_9\n",
      "5W_14\n",
      "22W_10\n",
      "22E_5\n",
      "22E_13\n",
      "29-30_40\n",
      "CN_5\n",
      "CN_14\n",
      "22W_7\n",
      "CN_54\n"
     ]
    },
    {
     "name": "stderr",
     "output_type": "stream",
     "text": [
      "/home/spkearney/miniconda3/envs/py_seg_env/lib/python3.9/site-packages/skimage/transform/_warps.py:725: RuntimeWarning: All-NaN slice encountered\n",
      "  min_val = min_func(input_image)\n",
      "/home/spkearney/miniconda3/envs/py_seg_env/lib/python3.9/site-packages/skimage/transform/_warps.py:729: RuntimeWarning: All-NaN slice encountered\n",
      "  max_val = max_func(input_image)\n"
     ]
    },
    {
     "name": "stdout",
     "output_type": "stream",
     "text": [
      "CN_35\n",
      "CN_6\n",
      "CN_26\n",
      "22E_9\n",
      "29-30_8\n",
      "CN_52\n",
      "CN_49\n",
      "29-30_46\n",
      "29-30_10\n",
      "CN_10\n",
      "CN_18\n",
      "CN_46\n",
      "22E_12\n",
      "CN_43\n",
      "22W_5\n",
      "29-30_32\n",
      "22W_11\n",
      "CN_38\n"
     ]
    },
    {
     "name": "stderr",
     "output_type": "stream",
     "text": [
      "/home/spkearney/miniconda3/envs/py_seg_env/lib/python3.9/site-packages/skimage/transform/_warps.py:725: RuntimeWarning: All-NaN slice encountered\n",
      "  min_val = min_func(input_image)\n",
      "/home/spkearney/miniconda3/envs/py_seg_env/lib/python3.9/site-packages/skimage/transform/_warps.py:729: RuntimeWarning: All-NaN slice encountered\n",
      "  max_val = max_func(input_image)\n"
     ]
    },
    {
     "name": "stdout",
     "output_type": "stream",
     "text": [
      "22E_7\n",
      "5W_6\n",
      "29-30_42\n",
      "CN_29\n",
      "29-30_30\n",
      "22W_15\n",
      "22E_1\n",
      "CN_12\n",
      "CN_0\n",
      "29-30_44\n",
      "29-30_14\n",
      "CN_59\n",
      "CN_50\n",
      "CN_44\n",
      "22W_1\n",
      "CN_16\n",
      "scaling                        \n",
      "resolution                  3.0\n",
      "inputs        rgb,tpi,shade,dsm\n",
      "Name: 18, dtype: object\n",
      "5W_9\n",
      "5W_14\n",
      "22W_10\n",
      "22E_5\n",
      "22E_13\n",
      "29-30_40\n",
      "CN_5\n",
      "CN_14\n",
      "22W_7\n",
      "CN_54\n"
     ]
    },
    {
     "name": "stderr",
     "output_type": "stream",
     "text": [
      "/home/spkearney/miniconda3/envs/py_seg_env/lib/python3.9/site-packages/skimage/transform/_warps.py:725: RuntimeWarning: All-NaN slice encountered\n",
      "  min_val = min_func(input_image)\n",
      "/home/spkearney/miniconda3/envs/py_seg_env/lib/python3.9/site-packages/skimage/transform/_warps.py:729: RuntimeWarning: All-NaN slice encountered\n",
      "  max_val = max_func(input_image)\n"
     ]
    },
    {
     "name": "stdout",
     "output_type": "stream",
     "text": [
      "CN_35\n",
      "CN_6\n",
      "CN_26\n",
      "22E_9\n",
      "29-30_8\n",
      "CN_52\n",
      "CN_49\n",
      "29-30_46\n",
      "29-30_10\n",
      "CN_10\n",
      "CN_18\n",
      "CN_46\n",
      "22E_12\n",
      "CN_43\n",
      "22W_5\n",
      "29-30_32\n",
      "22W_11\n",
      "CN_38\n"
     ]
    },
    {
     "name": "stderr",
     "output_type": "stream",
     "text": [
      "/home/spkearney/miniconda3/envs/py_seg_env/lib/python3.9/site-packages/skimage/transform/_warps.py:725: RuntimeWarning: All-NaN slice encountered\n",
      "  min_val = min_func(input_image)\n",
      "/home/spkearney/miniconda3/envs/py_seg_env/lib/python3.9/site-packages/skimage/transform/_warps.py:729: RuntimeWarning: All-NaN slice encountered\n",
      "  max_val = max_func(input_image)\n"
     ]
    },
    {
     "name": "stdout",
     "output_type": "stream",
     "text": [
      "22E_7\n",
      "5W_6\n",
      "29-30_42\n",
      "CN_29\n",
      "29-30_30\n",
      "22W_15\n",
      "22E_1\n",
      "CN_12\n",
      "CN_0\n",
      "29-30_44\n",
      "29-30_14\n",
      "CN_59\n",
      "CN_50\n",
      "CN_44\n",
      "22W_1\n",
      "CN_16\n",
      "scaling                        \n",
      "resolution                  9.0\n",
      "inputs        rgb,tpi,shade,dsm\n",
      "Name: 19, dtype: object\n",
      "5W_9\n",
      "5W_14\n",
      "22W_10\n",
      "22E_5\n",
      "22E_13\n",
      "29-30_40\n",
      "CN_5\n",
      "CN_14\n",
      "22W_7\n",
      "CN_54\n"
     ]
    },
    {
     "name": "stderr",
     "output_type": "stream",
     "text": [
      "/home/spkearney/miniconda3/envs/py_seg_env/lib/python3.9/site-packages/skimage/transform/_warps.py:725: RuntimeWarning: All-NaN slice encountered\n",
      "  min_val = min_func(input_image)\n",
      "/home/spkearney/miniconda3/envs/py_seg_env/lib/python3.9/site-packages/skimage/transform/_warps.py:729: RuntimeWarning: All-NaN slice encountered\n",
      "  max_val = max_func(input_image)\n"
     ]
    },
    {
     "name": "stdout",
     "output_type": "stream",
     "text": [
      "CN_35\n",
      "CN_6\n",
      "CN_26\n",
      "22E_9\n",
      "29-30_8\n",
      "CN_52\n",
      "CN_49\n",
      "29-30_46\n",
      "29-30_10\n",
      "CN_10\n",
      "CN_18\n",
      "CN_46\n",
      "22E_12\n",
      "CN_43\n",
      "22W_5\n",
      "29-30_32\n",
      "22W_11\n",
      "CN_38\n"
     ]
    },
    {
     "name": "stderr",
     "output_type": "stream",
     "text": [
      "/home/spkearney/miniconda3/envs/py_seg_env/lib/python3.9/site-packages/skimage/transform/_warps.py:725: RuntimeWarning: All-NaN slice encountered\n",
      "  min_val = min_func(input_image)\n",
      "/home/spkearney/miniconda3/envs/py_seg_env/lib/python3.9/site-packages/skimage/transform/_warps.py:729: RuntimeWarning: All-NaN slice encountered\n",
      "  max_val = max_func(input_image)\n"
     ]
    },
    {
     "name": "stdout",
     "output_type": "stream",
     "text": [
      "22E_7\n",
      "5W_6\n",
      "29-30_42\n",
      "CN_29\n",
      "29-30_30\n",
      "22W_15\n",
      "22E_1\n",
      "CN_12\n",
      "CN_0\n",
      "29-30_44\n",
      "29-30_14\n",
      "CN_59\n",
      "CN_50\n",
      "CN_44\n",
      "22W_1\n",
      "CN_16\n",
      "scaling                        \n",
      "resolution                  6.0\n",
      "inputs        rgb,tpi,shade,dsm\n",
      "Name: 20, dtype: object\n",
      "5W_9\n",
      "5W_14\n",
      "22W_10\n",
      "22E_5\n",
      "22E_13\n",
      "29-30_40\n",
      "CN_5\n",
      "CN_14\n",
      "22W_7\n",
      "CN_54\n"
     ]
    },
    {
     "name": "stderr",
     "output_type": "stream",
     "text": [
      "/home/spkearney/miniconda3/envs/py_seg_env/lib/python3.9/site-packages/skimage/transform/_warps.py:725: RuntimeWarning: All-NaN slice encountered\n",
      "  min_val = min_func(input_image)\n",
      "/home/spkearney/miniconda3/envs/py_seg_env/lib/python3.9/site-packages/skimage/transform/_warps.py:729: RuntimeWarning: All-NaN slice encountered\n",
      "  max_val = max_func(input_image)\n"
     ]
    },
    {
     "name": "stdout",
     "output_type": "stream",
     "text": [
      "CN_35\n",
      "CN_6\n",
      "CN_26\n",
      "22E_9\n",
      "29-30_8\n",
      "CN_52\n",
      "CN_49\n",
      "29-30_46\n",
      "29-30_10\n",
      "CN_10\n",
      "CN_18\n",
      "CN_46\n",
      "22E_12\n",
      "CN_43\n",
      "22W_5\n",
      "29-30_32\n",
      "22W_11\n",
      "CN_38\n"
     ]
    },
    {
     "name": "stderr",
     "output_type": "stream",
     "text": [
      "/home/spkearney/miniconda3/envs/py_seg_env/lib/python3.9/site-packages/skimage/transform/_warps.py:725: RuntimeWarning: All-NaN slice encountered\n",
      "  min_val = min_func(input_image)\n",
      "/home/spkearney/miniconda3/envs/py_seg_env/lib/python3.9/site-packages/skimage/transform/_warps.py:729: RuntimeWarning: All-NaN slice encountered\n",
      "  max_val = max_func(input_image)\n"
     ]
    },
    {
     "name": "stdout",
     "output_type": "stream",
     "text": [
      "22E_7\n",
      "5W_6\n",
      "29-30_42\n",
      "CN_29\n",
      "29-30_30\n",
      "22W_15\n",
      "22E_1\n",
      "CN_12\n",
      "CN_0\n",
      "29-30_44\n",
      "29-30_14\n",
      "CN_59\n",
      "CN_50\n",
      "CN_44\n",
      "22W_1\n",
      "CN_16\n",
      "scaling              _downscaled\n",
      "resolution                  15.0\n",
      "inputs        rgb,tpi,shade,ndvi\n",
      "Name: 21, dtype: object\n",
      "5W_9\n"
     ]
    },
    {
     "name": "stderr",
     "output_type": "stream",
     "text": [
      "/home/spkearney/miniconda3/envs/py_seg_env/lib/python3.9/site-packages/skimage/transform/_warps.py:725: RuntimeWarning: All-NaN slice encountered\n",
      "  min_val = min_func(input_image)\n",
      "/home/spkearney/miniconda3/envs/py_seg_env/lib/python3.9/site-packages/skimage/transform/_warps.py:729: RuntimeWarning: All-NaN slice encountered\n",
      "  max_val = max_func(input_image)\n"
     ]
    },
    {
     "name": "stdout",
     "output_type": "stream",
     "text": [
      "5W_14\n",
      "22W_10\n",
      "22E_5\n",
      "22E_13\n",
      "29-30_40\n",
      "CN_5\n",
      "CN_14\n",
      "22W_7\n",
      "CN_54\n"
     ]
    },
    {
     "name": "stderr",
     "output_type": "stream",
     "text": [
      "/home/spkearney/miniconda3/envs/py_seg_env/lib/python3.9/site-packages/skimage/transform/_warps.py:725: RuntimeWarning: All-NaN slice encountered\n",
      "  min_val = min_func(input_image)\n",
      "/home/spkearney/miniconda3/envs/py_seg_env/lib/python3.9/site-packages/skimage/transform/_warps.py:729: RuntimeWarning: All-NaN slice encountered\n",
      "  max_val = max_func(input_image)\n"
     ]
    },
    {
     "name": "stdout",
     "output_type": "stream",
     "text": [
      "CN_35\n",
      "CN_6\n",
      "CN_26\n",
      "22E_9\n",
      "29-30_8\n",
      "CN_52\n",
      "CN_49\n",
      "29-30_46\n",
      "29-30_10\n",
      "CN_10\n",
      "CN_18\n",
      "CN_46\n",
      "22E_12\n",
      "CN_43\n",
      "22W_5\n",
      "29-30_32\n",
      "22W_11\n",
      "CN_38\n"
     ]
    },
    {
     "name": "stderr",
     "output_type": "stream",
     "text": [
      "/home/spkearney/miniconda3/envs/py_seg_env/lib/python3.9/site-packages/skimage/transform/_warps.py:725: RuntimeWarning: All-NaN slice encountered\n",
      "  min_val = min_func(input_image)\n",
      "/home/spkearney/miniconda3/envs/py_seg_env/lib/python3.9/site-packages/skimage/transform/_warps.py:729: RuntimeWarning: All-NaN slice encountered\n",
      "  max_val = max_func(input_image)\n"
     ]
    },
    {
     "name": "stdout",
     "output_type": "stream",
     "text": [
      "22E_7\n",
      "5W_6\n"
     ]
    },
    {
     "name": "stderr",
     "output_type": "stream",
     "text": [
      "/home/spkearney/miniconda3/envs/py_seg_env/lib/python3.9/site-packages/skimage/transform/_warps.py:725: RuntimeWarning: All-NaN slice encountered\n",
      "  min_val = min_func(input_image)\n",
      "/home/spkearney/miniconda3/envs/py_seg_env/lib/python3.9/site-packages/skimage/transform/_warps.py:729: RuntimeWarning: All-NaN slice encountered\n",
      "  max_val = max_func(input_image)\n"
     ]
    },
    {
     "name": "stdout",
     "output_type": "stream",
     "text": [
      "29-30_42\n",
      "CN_29\n",
      "29-30_30\n",
      "22W_15\n",
      "22E_1\n",
      "CN_12\n",
      "CN_0\n",
      "29-30_44\n",
      "29-30_14\n",
      "CN_59\n",
      "CN_50\n",
      "CN_44\n",
      "22W_1\n",
      "CN_16\n",
      "scaling              _downscaled\n",
      "resolution                  60.0\n",
      "inputs        rgb,tpi,shade,ndvi\n",
      "Name: 22, dtype: object\n",
      "5W_9\n"
     ]
    },
    {
     "name": "stderr",
     "output_type": "stream",
     "text": [
      "/home/spkearney/miniconda3/envs/py_seg_env/lib/python3.9/site-packages/skimage/transform/_warps.py:725: RuntimeWarning: All-NaN slice encountered\n",
      "  min_val = min_func(input_image)\n",
      "/home/spkearney/miniconda3/envs/py_seg_env/lib/python3.9/site-packages/skimage/transform/_warps.py:729: RuntimeWarning: All-NaN slice encountered\n",
      "  max_val = max_func(input_image)\n"
     ]
    },
    {
     "name": "stdout",
     "output_type": "stream",
     "text": [
      "5W_14\n",
      "22W_10\n",
      "22E_5\n",
      "22E_13\n",
      "29-30_40\n",
      "CN_5\n",
      "CN_14\n",
      "22W_7\n",
      "CN_54\n"
     ]
    },
    {
     "name": "stderr",
     "output_type": "stream",
     "text": [
      "/home/spkearney/miniconda3/envs/py_seg_env/lib/python3.9/site-packages/skimage/transform/_warps.py:725: RuntimeWarning: All-NaN slice encountered\n",
      "  min_val = min_func(input_image)\n",
      "/home/spkearney/miniconda3/envs/py_seg_env/lib/python3.9/site-packages/skimage/transform/_warps.py:729: RuntimeWarning: All-NaN slice encountered\n",
      "  max_val = max_func(input_image)\n"
     ]
    },
    {
     "name": "stdout",
     "output_type": "stream",
     "text": [
      "CN_35\n",
      "CN_6\n",
      "CN_26\n",
      "22E_9\n",
      "29-30_8\n",
      "CN_52\n",
      "CN_49\n",
      "29-30_46\n",
      "29-30_10\n",
      "CN_10\n",
      "CN_18\n",
      "CN_46\n",
      "22E_12\n",
      "CN_43\n",
      "22W_5\n",
      "29-30_32\n",
      "22W_11\n",
      "CN_38\n"
     ]
    },
    {
     "name": "stderr",
     "output_type": "stream",
     "text": [
      "/home/spkearney/miniconda3/envs/py_seg_env/lib/python3.9/site-packages/skimage/transform/_warps.py:725: RuntimeWarning: All-NaN slice encountered\n",
      "  min_val = min_func(input_image)\n",
      "/home/spkearney/miniconda3/envs/py_seg_env/lib/python3.9/site-packages/skimage/transform/_warps.py:729: RuntimeWarning: All-NaN slice encountered\n",
      "  max_val = max_func(input_image)\n"
     ]
    },
    {
     "name": "stdout",
     "output_type": "stream",
     "text": [
      "22E_7\n",
      "5W_6\n"
     ]
    },
    {
     "name": "stderr",
     "output_type": "stream",
     "text": [
      "/home/spkearney/miniconda3/envs/py_seg_env/lib/python3.9/site-packages/skimage/transform/_warps.py:725: RuntimeWarning: All-NaN slice encountered\n",
      "  min_val = min_func(input_image)\n",
      "/home/spkearney/miniconda3/envs/py_seg_env/lib/python3.9/site-packages/skimage/transform/_warps.py:729: RuntimeWarning: All-NaN slice encountered\n",
      "  max_val = max_func(input_image)\n"
     ]
    },
    {
     "name": "stdout",
     "output_type": "stream",
     "text": [
      "29-30_42\n",
      "CN_29\n",
      "29-30_30\n",
      "22W_15\n",
      "22E_1\n",
      "CN_12\n",
      "CN_0\n",
      "29-30_44\n",
      "29-30_14\n",
      "CN_59\n",
      "CN_50\n",
      "CN_44\n",
      "22W_1\n",
      "CN_16\n",
      "scaling              _downscaled\n",
      "resolution                  30.0\n",
      "inputs        rgb,tpi,shade,ndvi\n",
      "Name: 23, dtype: object\n",
      "5W_9\n"
     ]
    },
    {
     "name": "stderr",
     "output_type": "stream",
     "text": [
      "/home/spkearney/miniconda3/envs/py_seg_env/lib/python3.9/site-packages/skimage/transform/_warps.py:725: RuntimeWarning: All-NaN slice encountered\n",
      "  min_val = min_func(input_image)\n",
      "/home/spkearney/miniconda3/envs/py_seg_env/lib/python3.9/site-packages/skimage/transform/_warps.py:729: RuntimeWarning: All-NaN slice encountered\n",
      "  max_val = max_func(input_image)\n"
     ]
    },
    {
     "name": "stdout",
     "output_type": "stream",
     "text": [
      "5W_14\n",
      "22W_10\n",
      "22E_5\n",
      "22E_13\n",
      "29-30_40\n",
      "CN_5\n",
      "CN_14\n",
      "22W_7\n",
      "CN_54\n"
     ]
    },
    {
     "name": "stderr",
     "output_type": "stream",
     "text": [
      "/home/spkearney/miniconda3/envs/py_seg_env/lib/python3.9/site-packages/skimage/transform/_warps.py:725: RuntimeWarning: All-NaN slice encountered\n",
      "  min_val = min_func(input_image)\n",
      "/home/spkearney/miniconda3/envs/py_seg_env/lib/python3.9/site-packages/skimage/transform/_warps.py:729: RuntimeWarning: All-NaN slice encountered\n",
      "  max_val = max_func(input_image)\n"
     ]
    },
    {
     "name": "stdout",
     "output_type": "stream",
     "text": [
      "CN_35\n",
      "CN_6\n",
      "CN_26\n",
      "22E_9\n",
      "29-30_8\n",
      "CN_52\n",
      "CN_49\n",
      "29-30_46\n",
      "29-30_10\n",
      "CN_10\n",
      "CN_18\n",
      "CN_46\n",
      "22E_12\n",
      "CN_43\n",
      "22W_5\n",
      "29-30_32\n",
      "22W_11\n",
      "CN_38\n"
     ]
    },
    {
     "name": "stderr",
     "output_type": "stream",
     "text": [
      "/home/spkearney/miniconda3/envs/py_seg_env/lib/python3.9/site-packages/skimage/transform/_warps.py:725: RuntimeWarning: All-NaN slice encountered\n",
      "  min_val = min_func(input_image)\n",
      "/home/spkearney/miniconda3/envs/py_seg_env/lib/python3.9/site-packages/skimage/transform/_warps.py:729: RuntimeWarning: All-NaN slice encountered\n",
      "  max_val = max_func(input_image)\n"
     ]
    },
    {
     "name": "stdout",
     "output_type": "stream",
     "text": [
      "22E_7\n",
      "5W_6\n"
     ]
    },
    {
     "name": "stderr",
     "output_type": "stream",
     "text": [
      "/home/spkearney/miniconda3/envs/py_seg_env/lib/python3.9/site-packages/skimage/transform/_warps.py:725: RuntimeWarning: All-NaN slice encountered\n",
      "  min_val = min_func(input_image)\n",
      "/home/spkearney/miniconda3/envs/py_seg_env/lib/python3.9/site-packages/skimage/transform/_warps.py:729: RuntimeWarning: All-NaN slice encountered\n",
      "  max_val = max_func(input_image)\n"
     ]
    },
    {
     "name": "stdout",
     "output_type": "stream",
     "text": [
      "29-30_42\n",
      "CN_29\n",
      "29-30_30\n",
      "22W_15\n",
      "22E_1\n",
      "CN_12\n",
      "CN_0\n",
      "29-30_44\n",
      "29-30_14\n",
      "CN_59\n",
      "CN_50\n",
      "CN_44\n",
      "22W_1\n",
      "CN_16\n",
      "scaling               _minscaled\n",
      "resolution                  93.0\n",
      "inputs        rgb,tpi,shade,ndvi\n",
      "Name: 24, dtype: object\n",
      "5W_9\n"
     ]
    },
    {
     "name": "stderr",
     "output_type": "stream",
     "text": [
      "/home/spkearney/miniconda3/envs/py_seg_env/lib/python3.9/site-packages/skimage/transform/_warps.py:725: RuntimeWarning: All-NaN slice encountered\n",
      "  min_val = min_func(input_image)\n",
      "/home/spkearney/miniconda3/envs/py_seg_env/lib/python3.9/site-packages/skimage/transform/_warps.py:729: RuntimeWarning: All-NaN slice encountered\n",
      "  max_val = max_func(input_image)\n"
     ]
    },
    {
     "name": "stdout",
     "output_type": "stream",
     "text": [
      "5W_14\n",
      "22W_10\n",
      "22E_5\n",
      "22E_13\n",
      "29-30_40\n",
      "CN_5\n",
      "CN_14\n",
      "22W_7\n",
      "CN_54\n"
     ]
    },
    {
     "name": "stderr",
     "output_type": "stream",
     "text": [
      "/home/spkearney/miniconda3/envs/py_seg_env/lib/python3.9/site-packages/skimage/transform/_warps.py:725: RuntimeWarning: All-NaN slice encountered\n",
      "  min_val = min_func(input_image)\n",
      "/home/spkearney/miniconda3/envs/py_seg_env/lib/python3.9/site-packages/skimage/transform/_warps.py:729: RuntimeWarning: All-NaN slice encountered\n",
      "  max_val = max_func(input_image)\n"
     ]
    },
    {
     "name": "stdout",
     "output_type": "stream",
     "text": [
      "CN_35\n",
      "CN_6\n",
      "CN_26\n",
      "22E_9\n",
      "29-30_8\n",
      "CN_52\n",
      "CN_49\n",
      "29-30_46\n",
      "29-30_10\n",
      "CN_10\n",
      "CN_18\n",
      "CN_46\n",
      "22E_12\n",
      "CN_43\n",
      "22W_5\n",
      "29-30_32\n",
      "22W_11\n",
      "CN_38\n"
     ]
    },
    {
     "name": "stderr",
     "output_type": "stream",
     "text": [
      "/home/spkearney/miniconda3/envs/py_seg_env/lib/python3.9/site-packages/skimage/transform/_warps.py:725: RuntimeWarning: All-NaN slice encountered\n",
      "  min_val = min_func(input_image)\n",
      "/home/spkearney/miniconda3/envs/py_seg_env/lib/python3.9/site-packages/skimage/transform/_warps.py:729: RuntimeWarning: All-NaN slice encountered\n",
      "  max_val = max_func(input_image)\n"
     ]
    },
    {
     "name": "stdout",
     "output_type": "stream",
     "text": [
      "22E_7\n",
      "5W_6\n"
     ]
    },
    {
     "name": "stderr",
     "output_type": "stream",
     "text": [
      "/home/spkearney/miniconda3/envs/py_seg_env/lib/python3.9/site-packages/skimage/transform/_warps.py:725: RuntimeWarning: All-NaN slice encountered\n",
      "  min_val = min_func(input_image)\n",
      "/home/spkearney/miniconda3/envs/py_seg_env/lib/python3.9/site-packages/skimage/transform/_warps.py:729: RuntimeWarning: All-NaN slice encountered\n",
      "  max_val = max_func(input_image)\n"
     ]
    },
    {
     "name": "stdout",
     "output_type": "stream",
     "text": [
      "29-30_42\n",
      "CN_29\n",
      "29-30_30\n",
      "22W_15\n",
      "22E_1\n",
      "CN_12\n",
      "CN_0\n",
      "29-30_44\n",
      "29-30_14\n",
      "CN_59\n",
      "CN_50\n",
      "CN_44\n",
      "22W_1\n",
      "CN_16\n",
      "scaling                         \n",
      "resolution                   3.0\n",
      "inputs        rgb,tpi,shade,ndvi\n",
      "Name: 25, dtype: object\n",
      "5W_9\n"
     ]
    },
    {
     "name": "stderr",
     "output_type": "stream",
     "text": [
      "/home/spkearney/miniconda3/envs/py_seg_env/lib/python3.9/site-packages/skimage/transform/_warps.py:725: RuntimeWarning: All-NaN slice encountered\n",
      "  min_val = min_func(input_image)\n",
      "/home/spkearney/miniconda3/envs/py_seg_env/lib/python3.9/site-packages/skimage/transform/_warps.py:729: RuntimeWarning: All-NaN slice encountered\n",
      "  max_val = max_func(input_image)\n"
     ]
    },
    {
     "name": "stdout",
     "output_type": "stream",
     "text": [
      "5W_14\n",
      "22W_10\n",
      "22E_5\n",
      "22E_13\n",
      "29-30_40\n",
      "CN_5\n",
      "CN_14\n",
      "22W_7\n",
      "CN_54\n"
     ]
    },
    {
     "name": "stderr",
     "output_type": "stream",
     "text": [
      "/home/spkearney/miniconda3/envs/py_seg_env/lib/python3.9/site-packages/skimage/transform/_warps.py:725: RuntimeWarning: All-NaN slice encountered\n",
      "  min_val = min_func(input_image)\n",
      "/home/spkearney/miniconda3/envs/py_seg_env/lib/python3.9/site-packages/skimage/transform/_warps.py:729: RuntimeWarning: All-NaN slice encountered\n",
      "  max_val = max_func(input_image)\n"
     ]
    },
    {
     "name": "stdout",
     "output_type": "stream",
     "text": [
      "CN_35\n",
      "CN_6\n",
      "CN_26\n",
      "22E_9\n",
      "29-30_8\n",
      "CN_52\n",
      "CN_49\n",
      "29-30_46\n",
      "29-30_10\n",
      "CN_10\n",
      "CN_18\n",
      "CN_46\n",
      "22E_12\n",
      "CN_43\n",
      "22W_5\n",
      "29-30_32\n",
      "22W_11\n",
      "CN_38\n"
     ]
    },
    {
     "name": "stderr",
     "output_type": "stream",
     "text": [
      "/home/spkearney/miniconda3/envs/py_seg_env/lib/python3.9/site-packages/skimage/transform/_warps.py:725: RuntimeWarning: All-NaN slice encountered\n",
      "  min_val = min_func(input_image)\n",
      "/home/spkearney/miniconda3/envs/py_seg_env/lib/python3.9/site-packages/skimage/transform/_warps.py:729: RuntimeWarning: All-NaN slice encountered\n",
      "  max_val = max_func(input_image)\n"
     ]
    },
    {
     "name": "stdout",
     "output_type": "stream",
     "text": [
      "22E_7\n",
      "5W_6\n"
     ]
    },
    {
     "name": "stderr",
     "output_type": "stream",
     "text": [
      "/home/spkearney/miniconda3/envs/py_seg_env/lib/python3.9/site-packages/skimage/transform/_warps.py:725: RuntimeWarning: All-NaN slice encountered\n",
      "  min_val = min_func(input_image)\n",
      "/home/spkearney/miniconda3/envs/py_seg_env/lib/python3.9/site-packages/skimage/transform/_warps.py:729: RuntimeWarning: All-NaN slice encountered\n",
      "  max_val = max_func(input_image)\n"
     ]
    },
    {
     "name": "stdout",
     "output_type": "stream",
     "text": [
      "29-30_42\n",
      "CN_29\n",
      "29-30_30\n",
      "22W_15\n",
      "22E_1\n",
      "CN_12\n",
      "CN_0\n",
      "29-30_44\n",
      "29-30_14\n",
      "CN_59\n",
      "CN_50\n",
      "CN_44\n",
      "22W_1\n",
      "CN_16\n",
      "scaling                         \n",
      "resolution                   9.0\n",
      "inputs        rgb,tpi,shade,ndvi\n",
      "Name: 26, dtype: object\n",
      "5W_9\n"
     ]
    },
    {
     "name": "stderr",
     "output_type": "stream",
     "text": [
      "/home/spkearney/miniconda3/envs/py_seg_env/lib/python3.9/site-packages/skimage/transform/_warps.py:725: RuntimeWarning: All-NaN slice encountered\n",
      "  min_val = min_func(input_image)\n",
      "/home/spkearney/miniconda3/envs/py_seg_env/lib/python3.9/site-packages/skimage/transform/_warps.py:729: RuntimeWarning: All-NaN slice encountered\n",
      "  max_val = max_func(input_image)\n"
     ]
    },
    {
     "name": "stdout",
     "output_type": "stream",
     "text": [
      "5W_14\n",
      "22W_10\n",
      "22E_5\n",
      "22E_13\n",
      "29-30_40\n",
      "CN_5\n",
      "CN_14\n",
      "22W_7\n",
      "CN_54\n"
     ]
    },
    {
     "name": "stderr",
     "output_type": "stream",
     "text": [
      "/home/spkearney/miniconda3/envs/py_seg_env/lib/python3.9/site-packages/skimage/transform/_warps.py:725: RuntimeWarning: All-NaN slice encountered\n",
      "  min_val = min_func(input_image)\n",
      "/home/spkearney/miniconda3/envs/py_seg_env/lib/python3.9/site-packages/skimage/transform/_warps.py:729: RuntimeWarning: All-NaN slice encountered\n",
      "  max_val = max_func(input_image)\n"
     ]
    },
    {
     "name": "stdout",
     "output_type": "stream",
     "text": [
      "CN_35\n",
      "CN_6\n",
      "CN_26\n",
      "22E_9\n",
      "29-30_8\n",
      "CN_52\n",
      "CN_49\n",
      "29-30_46\n",
      "29-30_10\n",
      "CN_10\n",
      "CN_18\n",
      "CN_46\n",
      "22E_12\n",
      "CN_43\n",
      "22W_5\n",
      "29-30_32\n",
      "22W_11\n",
      "CN_38\n"
     ]
    },
    {
     "name": "stderr",
     "output_type": "stream",
     "text": [
      "/home/spkearney/miniconda3/envs/py_seg_env/lib/python3.9/site-packages/skimage/transform/_warps.py:725: RuntimeWarning: All-NaN slice encountered\n",
      "  min_val = min_func(input_image)\n",
      "/home/spkearney/miniconda3/envs/py_seg_env/lib/python3.9/site-packages/skimage/transform/_warps.py:729: RuntimeWarning: All-NaN slice encountered\n",
      "  max_val = max_func(input_image)\n"
     ]
    },
    {
     "name": "stdout",
     "output_type": "stream",
     "text": [
      "22E_7\n",
      "5W_6\n"
     ]
    },
    {
     "name": "stderr",
     "output_type": "stream",
     "text": [
      "/home/spkearney/miniconda3/envs/py_seg_env/lib/python3.9/site-packages/skimage/transform/_warps.py:725: RuntimeWarning: All-NaN slice encountered\n",
      "  min_val = min_func(input_image)\n",
      "/home/spkearney/miniconda3/envs/py_seg_env/lib/python3.9/site-packages/skimage/transform/_warps.py:729: RuntimeWarning: All-NaN slice encountered\n",
      "  max_val = max_func(input_image)\n"
     ]
    },
    {
     "name": "stdout",
     "output_type": "stream",
     "text": [
      "29-30_42\n",
      "CN_29\n",
      "29-30_30\n",
      "22W_15\n",
      "22E_1\n",
      "CN_12\n",
      "CN_0\n",
      "29-30_44\n",
      "29-30_14\n",
      "CN_59\n",
      "CN_50\n",
      "CN_44\n",
      "22W_1\n",
      "CN_16\n",
      "scaling                         \n",
      "resolution                   6.0\n",
      "inputs        rgb,tpi,shade,ndvi\n",
      "Name: 27, dtype: object\n",
      "5W_9\n"
     ]
    },
    {
     "name": "stderr",
     "output_type": "stream",
     "text": [
      "/home/spkearney/miniconda3/envs/py_seg_env/lib/python3.9/site-packages/skimage/transform/_warps.py:725: RuntimeWarning: All-NaN slice encountered\n",
      "  min_val = min_func(input_image)\n",
      "/home/spkearney/miniconda3/envs/py_seg_env/lib/python3.9/site-packages/skimage/transform/_warps.py:729: RuntimeWarning: All-NaN slice encountered\n",
      "  max_val = max_func(input_image)\n"
     ]
    },
    {
     "name": "stdout",
     "output_type": "stream",
     "text": [
      "5W_14\n",
      "22W_10\n",
      "22E_5\n",
      "22E_13\n",
      "29-30_40\n",
      "CN_5\n",
      "CN_14\n",
      "22W_7\n",
      "CN_54\n"
     ]
    },
    {
     "name": "stderr",
     "output_type": "stream",
     "text": [
      "/home/spkearney/miniconda3/envs/py_seg_env/lib/python3.9/site-packages/skimage/transform/_warps.py:725: RuntimeWarning: All-NaN slice encountered\n",
      "  min_val = min_func(input_image)\n",
      "/home/spkearney/miniconda3/envs/py_seg_env/lib/python3.9/site-packages/skimage/transform/_warps.py:729: RuntimeWarning: All-NaN slice encountered\n",
      "  max_val = max_func(input_image)\n"
     ]
    },
    {
     "name": "stdout",
     "output_type": "stream",
     "text": [
      "CN_35\n",
      "CN_6\n",
      "CN_26\n",
      "22E_9\n",
      "29-30_8\n",
      "CN_52\n",
      "CN_49\n",
      "29-30_46\n",
      "29-30_10\n",
      "CN_10\n",
      "CN_18\n",
      "CN_46\n",
      "22E_12\n",
      "CN_43\n",
      "22W_5\n",
      "29-30_32\n",
      "22W_11\n",
      "CN_38\n"
     ]
    },
    {
     "name": "stderr",
     "output_type": "stream",
     "text": [
      "/home/spkearney/miniconda3/envs/py_seg_env/lib/python3.9/site-packages/skimage/transform/_warps.py:725: RuntimeWarning: All-NaN slice encountered\n",
      "  min_val = min_func(input_image)\n",
      "/home/spkearney/miniconda3/envs/py_seg_env/lib/python3.9/site-packages/skimage/transform/_warps.py:729: RuntimeWarning: All-NaN slice encountered\n",
      "  max_val = max_func(input_image)\n"
     ]
    },
    {
     "name": "stdout",
     "output_type": "stream",
     "text": [
      "22E_7\n",
      "5W_6\n"
     ]
    },
    {
     "name": "stderr",
     "output_type": "stream",
     "text": [
      "/home/spkearney/miniconda3/envs/py_seg_env/lib/python3.9/site-packages/skimage/transform/_warps.py:725: RuntimeWarning: All-NaN slice encountered\n",
      "  min_val = min_func(input_image)\n",
      "/home/spkearney/miniconda3/envs/py_seg_env/lib/python3.9/site-packages/skimage/transform/_warps.py:729: RuntimeWarning: All-NaN slice encountered\n",
      "  max_val = max_func(input_image)\n"
     ]
    },
    {
     "name": "stdout",
     "output_type": "stream",
     "text": [
      "29-30_42\n",
      "CN_29\n",
      "29-30_30\n",
      "22W_15\n",
      "22E_1\n",
      "CN_12\n",
      "CN_0\n",
      "29-30_44\n",
      "29-30_14\n",
      "CN_59\n",
      "CN_50\n",
      "CN_44\n",
      "22W_1\n",
      "CN_16\n",
      "scaling               \n",
      "resolution         1.5\n",
      "inputs        rgb,ndvi\n",
      "Name: 219, dtype: object\n",
      "5W_9\n"
     ]
    },
    {
     "name": "stderr",
     "output_type": "stream",
     "text": [
      "/home/spkearney/miniconda3/envs/py_seg_env/lib/python3.9/site-packages/skimage/transform/_warps.py:725: RuntimeWarning: All-NaN slice encountered\n",
      "  min_val = min_func(input_image)\n",
      "/home/spkearney/miniconda3/envs/py_seg_env/lib/python3.9/site-packages/skimage/transform/_warps.py:729: RuntimeWarning: All-NaN slice encountered\n",
      "  max_val = max_func(input_image)\n"
     ]
    },
    {
     "name": "stdout",
     "output_type": "stream",
     "text": [
      "5W_14\n",
      "22W_10\n",
      "22E_5\n",
      "22E_13\n",
      "29-30_40\n",
      "CN_5\n",
      "CN_14\n",
      "22W_7\n",
      "CN_54\n"
     ]
    },
    {
     "name": "stderr",
     "output_type": "stream",
     "text": [
      "/home/spkearney/miniconda3/envs/py_seg_env/lib/python3.9/site-packages/skimage/transform/_warps.py:725: RuntimeWarning: All-NaN slice encountered\n",
      "  min_val = min_func(input_image)\n",
      "/home/spkearney/miniconda3/envs/py_seg_env/lib/python3.9/site-packages/skimage/transform/_warps.py:729: RuntimeWarning: All-NaN slice encountered\n",
      "  max_val = max_func(input_image)\n"
     ]
    },
    {
     "name": "stdout",
     "output_type": "stream",
     "text": [
      "CN_35\n",
      "CN_6\n",
      "CN_26\n",
      "22E_9\n",
      "29-30_8\n",
      "CN_52\n",
      "CN_49\n",
      "29-30_46\n",
      "29-30_10\n",
      "CN_10\n",
      "CN_18\n",
      "CN_46\n",
      "22E_12\n",
      "CN_43\n",
      "22W_5\n",
      "29-30_32\n",
      "22W_11\n",
      "CN_38\n"
     ]
    },
    {
     "name": "stderr",
     "output_type": "stream",
     "text": [
      "/home/spkearney/miniconda3/envs/py_seg_env/lib/python3.9/site-packages/skimage/transform/_warps.py:725: RuntimeWarning: All-NaN slice encountered\n",
      "  min_val = min_func(input_image)\n",
      "/home/spkearney/miniconda3/envs/py_seg_env/lib/python3.9/site-packages/skimage/transform/_warps.py:729: RuntimeWarning: All-NaN slice encountered\n",
      "  max_val = max_func(input_image)\n"
     ]
    },
    {
     "name": "stdout",
     "output_type": "stream",
     "text": [
      "22E_7\n",
      "5W_6\n"
     ]
    },
    {
     "name": "stderr",
     "output_type": "stream",
     "text": [
      "/home/spkearney/miniconda3/envs/py_seg_env/lib/python3.9/site-packages/skimage/transform/_warps.py:725: RuntimeWarning: All-NaN slice encountered\n",
      "  min_val = min_func(input_image)\n",
      "/home/spkearney/miniconda3/envs/py_seg_env/lib/python3.9/site-packages/skimage/transform/_warps.py:729: RuntimeWarning: All-NaN slice encountered\n",
      "  max_val = max_func(input_image)\n"
     ]
    },
    {
     "name": "stdout",
     "output_type": "stream",
     "text": [
      "29-30_42\n",
      "CN_29\n",
      "29-30_30\n",
      "22W_15\n",
      "22E_1\n",
      "CN_12\n",
      "CN_0\n",
      "29-30_44\n",
      "29-30_14\n",
      "CN_59\n",
      "CN_50\n",
      "CN_44\n",
      "22W_1\n",
      "CN_16\n",
      "scaling                        \n",
      "resolution                  1.5\n",
      "inputs        rgb,tpi,shade,dsm\n",
      "Name: 227, dtype: object\n",
      "5W_9\n",
      "5W_14\n",
      "22W_10\n",
      "22E_5\n",
      "22E_13\n",
      "29-30_40\n",
      "CN_5\n",
      "CN_14\n",
      "22W_7\n",
      "CN_54\n"
     ]
    },
    {
     "name": "stderr",
     "output_type": "stream",
     "text": [
      "/home/spkearney/miniconda3/envs/py_seg_env/lib/python3.9/site-packages/skimage/transform/_warps.py:725: RuntimeWarning: All-NaN slice encountered\n",
      "  min_val = min_func(input_image)\n",
      "/home/spkearney/miniconda3/envs/py_seg_env/lib/python3.9/site-packages/skimage/transform/_warps.py:729: RuntimeWarning: All-NaN slice encountered\n",
      "  max_val = max_func(input_image)\n"
     ]
    },
    {
     "name": "stdout",
     "output_type": "stream",
     "text": [
      "CN_35\n",
      "CN_6\n",
      "CN_26\n",
      "22E_9\n",
      "29-30_8\n",
      "CN_52\n",
      "CN_49\n",
      "29-30_46\n",
      "29-30_10\n",
      "CN_10\n",
      "CN_18\n",
      "CN_46\n",
      "22E_12\n",
      "CN_43\n",
      "22W_5\n",
      "29-30_32\n",
      "22W_11\n",
      "CN_38\n"
     ]
    },
    {
     "name": "stderr",
     "output_type": "stream",
     "text": [
      "/home/spkearney/miniconda3/envs/py_seg_env/lib/python3.9/site-packages/skimage/transform/_warps.py:725: RuntimeWarning: All-NaN slice encountered\n",
      "  min_val = min_func(input_image)\n",
      "/home/spkearney/miniconda3/envs/py_seg_env/lib/python3.9/site-packages/skimage/transform/_warps.py:729: RuntimeWarning: All-NaN slice encountered\n",
      "  max_val = max_func(input_image)\n"
     ]
    },
    {
     "name": "stdout",
     "output_type": "stream",
     "text": [
      "22E_7\n",
      "5W_6\n",
      "29-30_42\n",
      "CN_29\n",
      "29-30_30\n",
      "22W_15\n",
      "22E_1\n",
      "CN_12\n",
      "CN_0\n",
      "29-30_44\n",
      "29-30_14\n",
      "CN_59\n",
      "CN_50\n",
      "CN_44\n",
      "22W_1\n",
      "CN_16\n",
      "scaling                         \n",
      "resolution                   1.5\n",
      "inputs        rgb,tpi,shade,ndvi\n",
      "Name: 229, dtype: object\n",
      "5W_9\n"
     ]
    },
    {
     "name": "stderr",
     "output_type": "stream",
     "text": [
      "/home/spkearney/miniconda3/envs/py_seg_env/lib/python3.9/site-packages/skimage/transform/_warps.py:725: RuntimeWarning: All-NaN slice encountered\n",
      "  min_val = min_func(input_image)\n",
      "/home/spkearney/miniconda3/envs/py_seg_env/lib/python3.9/site-packages/skimage/transform/_warps.py:729: RuntimeWarning: All-NaN slice encountered\n",
      "  max_val = max_func(input_image)\n"
     ]
    },
    {
     "name": "stdout",
     "output_type": "stream",
     "text": [
      "5W_14\n",
      "22W_10\n",
      "22E_5\n",
      "22E_13\n",
      "29-30_40\n",
      "CN_5\n",
      "CN_14\n",
      "22W_7\n",
      "CN_54\n"
     ]
    },
    {
     "name": "stderr",
     "output_type": "stream",
     "text": [
      "/home/spkearney/miniconda3/envs/py_seg_env/lib/python3.9/site-packages/skimage/transform/_warps.py:725: RuntimeWarning: All-NaN slice encountered\n",
      "  min_val = min_func(input_image)\n",
      "/home/spkearney/miniconda3/envs/py_seg_env/lib/python3.9/site-packages/skimage/transform/_warps.py:729: RuntimeWarning: All-NaN slice encountered\n",
      "  max_val = max_func(input_image)\n"
     ]
    },
    {
     "name": "stdout",
     "output_type": "stream",
     "text": [
      "CN_35\n",
      "CN_6\n",
      "CN_26\n",
      "22E_9\n",
      "29-30_8\n",
      "CN_52\n",
      "CN_49\n",
      "29-30_46\n",
      "29-30_10\n",
      "CN_10\n",
      "CN_18\n",
      "CN_46\n",
      "22E_12\n",
      "CN_43\n",
      "22W_5\n",
      "29-30_32\n",
      "22W_11\n",
      "CN_38\n"
     ]
    },
    {
     "name": "stderr",
     "output_type": "stream",
     "text": [
      "/home/spkearney/miniconda3/envs/py_seg_env/lib/python3.9/site-packages/skimage/transform/_warps.py:725: RuntimeWarning: All-NaN slice encountered\n",
      "  min_val = min_func(input_image)\n",
      "/home/spkearney/miniconda3/envs/py_seg_env/lib/python3.9/site-packages/skimage/transform/_warps.py:729: RuntimeWarning: All-NaN slice encountered\n",
      "  max_val = max_func(input_image)\n"
     ]
    },
    {
     "name": "stdout",
     "output_type": "stream",
     "text": [
      "22E_7\n",
      "5W_6\n"
     ]
    },
    {
     "name": "stderr",
     "output_type": "stream",
     "text": [
      "/home/spkearney/miniconda3/envs/py_seg_env/lib/python3.9/site-packages/skimage/transform/_warps.py:725: RuntimeWarning: All-NaN slice encountered\n",
      "  min_val = min_func(input_image)\n",
      "/home/spkearney/miniconda3/envs/py_seg_env/lib/python3.9/site-packages/skimage/transform/_warps.py:729: RuntimeWarning: All-NaN slice encountered\n",
      "  max_val = max_func(input_image)\n"
     ]
    },
    {
     "name": "stdout",
     "output_type": "stream",
     "text": [
      "29-30_42\n",
      "CN_29\n",
      "29-30_30\n",
      "22W_15\n",
      "22E_1\n",
      "CN_12\n",
      "CN_0\n",
      "29-30_44\n",
      "29-30_14\n",
      "CN_59\n",
      "CN_50\n",
      "CN_44\n",
      "22W_1\n",
      "CN_16\n",
      "scaling          \n",
      "resolution    1.5\n",
      "inputs        rgb\n",
      "Name: 232, dtype: object\n",
      "5W_9\n",
      "5W_14\n",
      "22W_10\n",
      "22E_5\n",
      "22E_13\n",
      "29-30_40\n",
      "CN_5\n",
      "CN_14\n",
      "22W_7\n",
      "CN_54\n"
     ]
    },
    {
     "name": "stderr",
     "output_type": "stream",
     "text": [
      "/home/spkearney/miniconda3/envs/py_seg_env/lib/python3.9/site-packages/skimage/transform/_warps.py:725: RuntimeWarning: All-NaN slice encountered\n",
      "  min_val = min_func(input_image)\n",
      "/home/spkearney/miniconda3/envs/py_seg_env/lib/python3.9/site-packages/skimage/transform/_warps.py:729: RuntimeWarning: All-NaN slice encountered\n",
      "  max_val = max_func(input_image)\n"
     ]
    },
    {
     "name": "stdout",
     "output_type": "stream",
     "text": [
      "CN_35\n",
      "CN_6\n",
      "CN_26\n",
      "22E_9\n",
      "29-30_8\n",
      "CN_52\n",
      "CN_49\n",
      "29-30_46\n",
      "29-30_10\n",
      "CN_10\n",
      "CN_18\n",
      "CN_46\n",
      "22E_12\n",
      "CN_43\n",
      "22W_5\n",
      "29-30_32\n",
      "22W_11\n",
      "CN_38\n"
     ]
    },
    {
     "name": "stderr",
     "output_type": "stream",
     "text": [
      "/home/spkearney/miniconda3/envs/py_seg_env/lib/python3.9/site-packages/skimage/transform/_warps.py:725: RuntimeWarning: All-NaN slice encountered\n",
      "  min_val = min_func(input_image)\n",
      "/home/spkearney/miniconda3/envs/py_seg_env/lib/python3.9/site-packages/skimage/transform/_warps.py:729: RuntimeWarning: All-NaN slice encountered\n",
      "  max_val = max_func(input_image)\n"
     ]
    },
    {
     "name": "stdout",
     "output_type": "stream",
     "text": [
      "22E_7\n",
      "5W_6\n",
      "29-30_42\n",
      "CN_29\n",
      "29-30_30\n",
      "22W_15\n",
      "22E_1\n",
      "CN_12\n",
      "CN_0\n",
      "29-30_44\n",
      "29-30_14\n",
      "CN_59\n",
      "CN_50\n",
      "CN_44\n",
      "22W_1\n",
      "CN_16\n"
     ]
    }
   ],
   "source": [
    "preprocess = True\n",
    "for idx, row in df_val.iterrows():\n",
    "    print(row[['scaling', 'resolution', 'inputs']])\n",
    "    res = row['resolution']\n",
    "    scaling = row['scaling']\n",
    "    inputs_fnl = row['inputs'].split(',')\n",
    "    # load best saved checkpoint\n",
    "    best_model = torch.load(row['model_path'])\n",
    "    best_model.eval()\n",
    "\n",
    "    newsize = int(round((3000 / res) / 32, 0)) * 32\n",
    "    if newsize > 256:\n",
    "        newsize = int((3000 / res) / 256) * 256\n",
    "\n",
    "    # load the image stats from the training data\n",
    "    df_image_stats = pd.read_csv('./_utils/image_stats' + scaling + '.csv').set_index('stat')\n",
    "\n",
    "    # convert image stats dictionary to dataframe\n",
    "    image_stats = {i: {'min': df_image_stats.loc['min', i],\n",
    "                       'max': df_image_stats.loc['max', i]} for i in [x for x in inputs_fnl if x != 'dsm']}\n",
    "\n",
    "    precision_list = []\n",
    "    recall_list = []\n",
    "\n",
    "    burrow_ct_gt = []\n",
    "    burrow_ct_pred = []\n",
    "    tile_id_list = []\n",
    "\n",
    "    for ID in df_tiles['ID'][(df_tiles['Train'] == 0) &\n",
    "                             (df_tiles['Digitize'] == 1) &\n",
    "                             (df_tiles['trainer'] != 'Nick')]:\n",
    "        if all(df_tiles[df_tiles['ID'] == ID]['Train'] == 1):\n",
    "            continue\n",
    "        else:\n",
    "            print(ID)\n",
    "            # get the path base to the imagery associated with the training tile\n",
    "            if external_path is None:\n",
    "                tilePATH = df_tiles[df_tiles['ID'] == ID]['path_pre'].iloc[0]\n",
    "            else:\n",
    "                tilePATH = os.path.join(external_path,\n",
    "                                        df_tiles[df_tiles['ID'] == ID]['path_pre'].iloc[0])\n",
    "            # get the x/y coordinates of the bounding box for the training polygon within the tile\n",
    "            box_coords_x = df_tiles[df_tiles['ID'] == ID][['min_x', 'max_x']].iloc[0].values\n",
    "            box_coords_y = df_tiles[df_tiles['ID'] == ID][['min_y', 'max_y']].iloc[0].values\n",
    "            # get the box coordinate pairs\n",
    "            ll, ul, lr, ur = list(itertools.product(box_coords_x, box_coords_y))\n",
    "            # create a polygon from the coordinate pairs\n",
    "            tile_geom = Polygon([ll, ul, ur, lr])\n",
    "            # create the full path to the RGB image of the training tile\n",
    "            rgb_path = tilePATH + 'rgb.tif'\n",
    "            with rio.open(rgb_path) as src_rgb:   \n",
    "                profile_rgb = src_rgb.meta\n",
    "                rgb_out, transform_out = mask.mask(src_rgb,\n",
    "                                                   [tile_geom],\n",
    "                                                   crop=True)\n",
    "                #rgb_out = rgb_out[:, -win_size:, :win_size]\n",
    "                #show(rgb_out)\n",
    "                ll_i = src_rgb.index(*ll)\n",
    "                ur_i = src_rgb.index(*ur)\n",
    "                gdf_polys_sub = gdf_polys[gdf_polys['Tile'] == ID]\n",
    "                if len(gdf_polys_sub) > 0:\n",
    "                    label_mask = rasterize(gdf_polys_sub.geometry, \n",
    "                                           out_shape=rgb_out.shape[1:], \n",
    "                                           transform=transform_out,\n",
    "                                           default_value=1)\n",
    "                else:\n",
    "                     label_mask = np.zeros_like(rgb_out[0, :, :]) \n",
    "                rgb_out = resize(rgb_out.transpose((1, 2, 0)),\n",
    "                                 (newsize, newsize),\n",
    "                                 order=1).transpose((2, 0, 1)).astype('int')\n",
    "                label_mask = resize(label_mask.astype('float32'), (newsize, newsize), anti_aliasing=True, order=1) > 0.5\n",
    "                label_mask = label_mask.astype('int')\n",
    "                #label = label[ll_i[0]:ur_i[0], ll_i[1]:ur_i[1]]\n",
    "                profile_rgb.update({'dtype': 'int16',\n",
    "                                    'width': rgb_out.shape[1],\n",
    "                                    'height': rgb_out.shape[0],\n",
    "                                    'transform': transform_out})\n",
    "                profile_single = profile_rgb.copy()\n",
    "                profile_single.update({'count': 1})\n",
    "                profile_single_float = profile_single.copy()\n",
    "                profile_single_float.update({'dtype': 'float64'})\n",
    "                #show(label)\n",
    "\n",
    "            pr_mask = np.empty_like(rgb_out[0, :, :])\n",
    "            image_dict = {}\n",
    "            for suffix in inputs_fnl:\n",
    "                with rio.open(re.sub('rgb', suffix, rgb_path)) as src_i:\n",
    "                    i_out = src_i.read(out_shape=(\n",
    "                        src_i.count,\n",
    "                        src_rgb.meta['height'],\n",
    "                        src_rgb.meta['width']),\n",
    "                                       resampling=Resampling.bilinear)\n",
    "                    image_dict[suffix] = resize(i_out[:, ll_i[1]-1:ur_i[1]+1, ur_i[0]-1:ll_i[0]+1].transpose((1, 2, 0)),\n",
    "                                                (newsize, newsize),\n",
    "                                                order=1).transpose((2, 0, 1))\n",
    "            if 'rgb' in inputs_fnl:\n",
    "                image_dict['rgb'] = rgb_out\n",
    "            if preprocess:\n",
    "                for i in image_dict:\n",
    "                    image_dict[i] = normalize_fn(image_dict[i], i, image_stats)\n",
    "            image_list = [image_dict[i].astype('float32') for i in inputs_fnl]\n",
    "            image_out = np.concatenate(image_list, axis=0)\n",
    "\n",
    "            chunksize = 256\n",
    "            if newsize > 256:\n",
    "                pr_mask = np.empty_like(rgb_out[0, :, :])\n",
    "                n_row_chunks = int(np.ceil(rgb_out.shape[1]/chunksize))\n",
    "                n_col_chunks = int(np.ceil(rgb_out.shape[2]/chunksize))\n",
    "                image_sub_dict = {}\n",
    "                for r in range(n_row_chunks):\n",
    "                    if (r + 1) * chunksize > rgb_out.shape[1]:\n",
    "                        r_min = rgb_out.shape[1] - chunksize\n",
    "                        r_max = rgb_out.shape[1]\n",
    "                    else:\n",
    "                        r_min = r * chunksize\n",
    "                        r_max = (r + 1) * chunksize\n",
    "                    for c in range(n_col_chunks):\n",
    "                        if (c + 1) * chunksize > rgb_out.shape[2]:\n",
    "                            c_min = rgb_out.shape[2] - chunksize\n",
    "                            c_max = rgb_out.shape[2]\n",
    "                        else:\n",
    "                            c_min = c * chunksize\n",
    "                            c_max = (c + 1) * chunksize\n",
    "                        image_out_sub = image_out[:, r_min:r_max, c_min:c_max]\n",
    "                        x_tensor = torch.from_numpy(image_out_sub).to(DEVICE).unsqueeze(0)\n",
    "                        if type(best_model) == nn.DataParallel:\n",
    "                            pr_mask[r_min:r_max, c_min:c_max] = best_model.module.predict(x_tensor).cpu().detach().numpy().squeeze() > 0.5\n",
    "                        else:\n",
    "                            pr_mask[r_min:r_max, c_min:c_max] = best_model.predict(x_tensor).cpu().detach().numpy().squeeze() > 0.5\n",
    "            else:\n",
    "                x_tensor = torch.from_numpy(image_out).to(DEVICE).unsqueeze(0)\n",
    "                if type(best_model) == nn.DataParallel:\n",
    "                    pr_mask = best_model.module.predict(x_tensor).cpu().detach().numpy().squeeze() > 0.5\n",
    "                else:\n",
    "                    pr_mask = best_model.predict(x_tensor).cpu().detach().numpy().squeeze() > 0.5\n",
    "\n",
    "            # get regions and properties of the ground truth and predictions\n",
    "            label_labels = label(label_mask)\n",
    "            label_regions = regionprops(label_labels)\n",
    "            pr_labels = label(pr_mask)\n",
    "            pr_regions = regionprops(pr_labels)\n",
    "\n",
    "            r_ct_pred = 0\n",
    "            for r in pr_regions:\n",
    "                if r.area*(res/100)**2 > 0.05:\n",
    "                    y_pr, x_pr = r.centroid\n",
    "                    precision_list.append(label_mask[int(y_pr), int(x_pr)])\n",
    "                    r_ct_pred += 1\n",
    "\n",
    "            r_ct_gt = 0\n",
    "            for r in label_regions:\n",
    "                y_label, x_label = r.centroid\n",
    "                recall_list.append(pr_mask[int(y_label), int(x_label)])\n",
    "                r_ct_gt += 1\n",
    "            burrow_ct_gt.append(r_ct_gt)\n",
    "            burrow_ct_pred.append(r_ct_pred)\n",
    "            tile_id_list.append(ID)\n",
    "\n",
    "    precision = np.sum(precision_list) / len(precision_list)\n",
    "    recall = np.sum(recall_list) / len(recall_list)\n",
    "    fscore = (2 * precision * recall) / (precision + recall)\n",
    "    corr = np.corrcoef(burrow_ct_gt, burrow_ct_pred)[0, 1]\n",
    "\n",
    "    df_tmp = pd.DataFrame({\n",
    "        'model': row['model'],\n",
    "        'scaling': re.sub('_', '', scaling),\n",
    "        'model_resolution': row['resolution'],\n",
    "        'inputs': row['inputs'],\n",
    "        'test_resolution': res,\n",
    "        'precision': precision,\n",
    "        'recall': recall,\n",
    "        'fscore': fscore,\n",
    "        'correlation': corr\n",
    "    }, index=[idx])\n",
    "\n",
    "    df_test_out = pd.concat([df_test_out, df_tmp])\n",
    "    df_test_out.to_csv('./cnn_test_results/downscaled_model_test_validation.csv')"
   ]
  },
  {
   "cell_type": "code",
   "execution_count": 28,
   "id": "417c3087-7e39-4dba-a596-5a796623a9bd",
   "metadata": {},
   "outputs": [],
   "source": [
    "df_test_out = pd.DataFrame(columns=['model', 'scaling', 'model_resolution', 'inputs',\n",
    "                                    'test_resolution', 'precision', 'recall', 'fscore', 'correlation'])"
   ]
  },
  {
   "cell_type": "code",
   "execution_count": 29,
   "id": "396c3263-466e-4e9e-9a3f-b0f54a8812bf",
   "metadata": {
    "scrolled": true,
    "tags": []
   },
   "outputs": [
    {
     "name": "stdout",
     "output_type": "stream",
     "text": [
      "1.5\n",
      "scaling               \n",
      "resolution         1.5\n",
      "inputs        rgb,ndvi\n",
      "Name: 219, dtype: object\n",
      "5W_9\n"
     ]
    },
    {
     "name": "stderr",
     "output_type": "stream",
     "text": [
      "/home/spkearney/miniconda3/envs/py_seg_env/lib/python3.9/site-packages/skimage/transform/_warps.py:725: RuntimeWarning: All-NaN slice encountered\n",
      "  min_val = min_func(input_image)\n",
      "/home/spkearney/miniconda3/envs/py_seg_env/lib/python3.9/site-packages/skimage/transform/_warps.py:729: RuntimeWarning: All-NaN slice encountered\n",
      "  max_val = max_func(input_image)\n"
     ]
    },
    {
     "name": "stdout",
     "output_type": "stream",
     "text": [
      "5W_14\n",
      "22W_10\n",
      "22E_5\n",
      "22E_13\n",
      "29-30_40\n",
      "CN_5\n",
      "CN_14\n",
      "22W_7\n",
      "CN_54\n"
     ]
    },
    {
     "name": "stderr",
     "output_type": "stream",
     "text": [
      "/home/spkearney/miniconda3/envs/py_seg_env/lib/python3.9/site-packages/skimage/transform/_warps.py:725: RuntimeWarning: All-NaN slice encountered\n",
      "  min_val = min_func(input_image)\n",
      "/home/spkearney/miniconda3/envs/py_seg_env/lib/python3.9/site-packages/skimage/transform/_warps.py:729: RuntimeWarning: All-NaN slice encountered\n",
      "  max_val = max_func(input_image)\n"
     ]
    },
    {
     "name": "stdout",
     "output_type": "stream",
     "text": [
      "CN_35\n",
      "CN_6\n",
      "CN_26\n",
      "22E_9\n",
      "29-30_8\n",
      "CN_52\n",
      "CN_49\n",
      "29-30_46\n",
      "29-30_10\n",
      "CN_10\n",
      "CN_18\n",
      "CN_46\n",
      "22E_12\n",
      "CN_43\n",
      "22W_5\n",
      "29-30_32\n",
      "22W_11\n",
      "CN_38\n"
     ]
    },
    {
     "name": "stderr",
     "output_type": "stream",
     "text": [
      "/home/spkearney/miniconda3/envs/py_seg_env/lib/python3.9/site-packages/skimage/transform/_warps.py:725: RuntimeWarning: All-NaN slice encountered\n",
      "  min_val = min_func(input_image)\n",
      "/home/spkearney/miniconda3/envs/py_seg_env/lib/python3.9/site-packages/skimage/transform/_warps.py:729: RuntimeWarning: All-NaN slice encountered\n",
      "  max_val = max_func(input_image)\n"
     ]
    },
    {
     "name": "stdout",
     "output_type": "stream",
     "text": [
      "22E_7\n",
      "5W_6\n"
     ]
    },
    {
     "name": "stderr",
     "output_type": "stream",
     "text": [
      "/home/spkearney/miniconda3/envs/py_seg_env/lib/python3.9/site-packages/skimage/transform/_warps.py:725: RuntimeWarning: All-NaN slice encountered\n",
      "  min_val = min_func(input_image)\n",
      "/home/spkearney/miniconda3/envs/py_seg_env/lib/python3.9/site-packages/skimage/transform/_warps.py:729: RuntimeWarning: All-NaN slice encountered\n",
      "  max_val = max_func(input_image)\n"
     ]
    },
    {
     "name": "stdout",
     "output_type": "stream",
     "text": [
      "29-30_42\n",
      "CN_29\n",
      "29-30_30\n",
      "22W_15\n",
      "22E_1\n",
      "CN_12\n",
      "CN_0\n",
      "29-30_44\n",
      "29-30_14\n",
      "CN_59\n",
      "CN_50\n",
      "CN_44\n",
      "22W_1\n",
      "CN_16\n",
      "scaling                        \n",
      "resolution                  1.5\n",
      "inputs        rgb,tpi,shade,dsm\n",
      "Name: 227, dtype: object\n",
      "5W_9\n",
      "5W_14\n",
      "22W_10\n",
      "22E_5\n",
      "22E_13\n",
      "29-30_40\n",
      "CN_5\n",
      "CN_14\n",
      "22W_7\n",
      "CN_54\n"
     ]
    },
    {
     "name": "stderr",
     "output_type": "stream",
     "text": [
      "/home/spkearney/miniconda3/envs/py_seg_env/lib/python3.9/site-packages/skimage/transform/_warps.py:725: RuntimeWarning: All-NaN slice encountered\n",
      "  min_val = min_func(input_image)\n",
      "/home/spkearney/miniconda3/envs/py_seg_env/lib/python3.9/site-packages/skimage/transform/_warps.py:729: RuntimeWarning: All-NaN slice encountered\n",
      "  max_val = max_func(input_image)\n"
     ]
    },
    {
     "name": "stdout",
     "output_type": "stream",
     "text": [
      "CN_35\n",
      "CN_6\n",
      "CN_26\n",
      "22E_9\n",
      "29-30_8\n",
      "CN_52\n",
      "CN_49\n",
      "29-30_46\n",
      "29-30_10\n",
      "CN_10\n",
      "CN_18\n",
      "CN_46\n",
      "22E_12\n",
      "CN_43\n",
      "22W_5\n",
      "29-30_32\n",
      "22W_11\n",
      "CN_38\n"
     ]
    },
    {
     "name": "stderr",
     "output_type": "stream",
     "text": [
      "/home/spkearney/miniconda3/envs/py_seg_env/lib/python3.9/site-packages/skimage/transform/_warps.py:725: RuntimeWarning: All-NaN slice encountered\n",
      "  min_val = min_func(input_image)\n",
      "/home/spkearney/miniconda3/envs/py_seg_env/lib/python3.9/site-packages/skimage/transform/_warps.py:729: RuntimeWarning: All-NaN slice encountered\n",
      "  max_val = max_func(input_image)\n"
     ]
    },
    {
     "name": "stdout",
     "output_type": "stream",
     "text": [
      "22E_7\n",
      "5W_6\n",
      "29-30_42\n",
      "CN_29\n"
     ]
    },
    {
     "ename": "KeyboardInterrupt",
     "evalue": "",
     "output_type": "error",
     "traceback": [
      "\u001b[0;31m---------------------------------------------------------------------------\u001b[0m",
      "\u001b[0;31mKeyboardInterrupt\u001b[0m                         Traceback (most recent call last)",
      "Input \u001b[0;32mIn [29]\u001b[0m, in \u001b[0;36m<cell line: 2>\u001b[0;34m()\u001b[0m\n\u001b[1;32m     66\u001b[0m \u001b[38;5;28;01melse\u001b[39;00m:\n\u001b[1;32m     67\u001b[0m      label_mask \u001b[38;5;241m=\u001b[39m np\u001b[38;5;241m.\u001b[39mzeros_like(rgb_out[\u001b[38;5;241m0\u001b[39m, :, :]) \n\u001b[0;32m---> 68\u001b[0m rgb_out \u001b[38;5;241m=\u001b[39m \u001b[43mresize\u001b[49m\u001b[43m(\u001b[49m\u001b[43mrgb_out\u001b[49m\u001b[38;5;241;43m.\u001b[39;49m\u001b[43mtranspose\u001b[49m\u001b[43m(\u001b[49m\u001b[43m(\u001b[49m\u001b[38;5;241;43m1\u001b[39;49m\u001b[43m,\u001b[49m\u001b[43m \u001b[49m\u001b[38;5;241;43m2\u001b[39;49m\u001b[43m,\u001b[49m\u001b[43m \u001b[49m\u001b[38;5;241;43m0\u001b[39;49m\u001b[43m)\u001b[49m\u001b[43m)\u001b[49m\u001b[43m,\u001b[49m\n\u001b[1;32m     69\u001b[0m \u001b[43m                 \u001b[49m\u001b[43m(\u001b[49m\u001b[43mnewsize\u001b[49m\u001b[43m,\u001b[49m\u001b[43m \u001b[49m\u001b[43mnewsize\u001b[49m\u001b[43m)\u001b[49m\u001b[43m,\u001b[49m\n\u001b[1;32m     70\u001b[0m \u001b[43m                 \u001b[49m\u001b[43morder\u001b[49m\u001b[38;5;241;43m=\u001b[39;49m\u001b[38;5;241;43m1\u001b[39;49m\u001b[43m)\u001b[49m\u001b[38;5;241m.\u001b[39mtranspose((\u001b[38;5;241m2\u001b[39m, \u001b[38;5;241m0\u001b[39m, \u001b[38;5;241m1\u001b[39m))\u001b[38;5;241m.\u001b[39mastype(\u001b[38;5;124m'\u001b[39m\u001b[38;5;124mint\u001b[39m\u001b[38;5;124m'\u001b[39m)\n\u001b[1;32m     71\u001b[0m label_mask \u001b[38;5;241m=\u001b[39m resize(label_mask\u001b[38;5;241m.\u001b[39mastype(\u001b[38;5;124m'\u001b[39m\u001b[38;5;124mfloat32\u001b[39m\u001b[38;5;124m'\u001b[39m), (newsize, newsize), anti_aliasing\u001b[38;5;241m=\u001b[39m\u001b[38;5;28;01mTrue\u001b[39;00m, order\u001b[38;5;241m=\u001b[39m\u001b[38;5;241m1\u001b[39m) \u001b[38;5;241m>\u001b[39m \u001b[38;5;241m0.5\u001b[39m\n\u001b[1;32m     72\u001b[0m label_mask \u001b[38;5;241m=\u001b[39m label_mask\u001b[38;5;241m.\u001b[39mastype(\u001b[38;5;124m'\u001b[39m\u001b[38;5;124mint\u001b[39m\u001b[38;5;124m'\u001b[39m)\n",
      "File \u001b[0;32m~/miniconda3/envs/py_seg_env/lib/python3.9/site-packages/skimage/transform/_warps.py:187\u001b[0m, in \u001b[0;36mresize\u001b[0;34m(image, output_shape, order, mode, cval, clip, preserve_range, anti_aliasing, anti_aliasing_sigma)\u001b[0m\n\u001b[1;32m    184\u001b[0m \u001b[38;5;28;01mif\u001b[39;00m NumpyVersion(scipy\u001b[38;5;241m.\u001b[39m__version__) \u001b[38;5;241m>\u001b[39m\u001b[38;5;241m=\u001b[39m \u001b[38;5;124m'\u001b[39m\u001b[38;5;124m1.6.0\u001b[39m\u001b[38;5;124m'\u001b[39m:\n\u001b[1;32m    185\u001b[0m     \u001b[38;5;66;03m# The grid_mode kwarg was introduced in SciPy 1.6.0\u001b[39;00m\n\u001b[1;32m    186\u001b[0m     zoom_factors \u001b[38;5;241m=\u001b[39m [\u001b[38;5;241m1\u001b[39m \u001b[38;5;241m/\u001b[39m f \u001b[38;5;28;01mfor\u001b[39;00m f \u001b[38;5;129;01min\u001b[39;00m factors]\n\u001b[0;32m--> 187\u001b[0m     out \u001b[38;5;241m=\u001b[39m \u001b[43mndi\u001b[49m\u001b[38;5;241;43m.\u001b[39;49m\u001b[43mzoom\u001b[49m\u001b[43m(\u001b[49m\u001b[43mimage\u001b[49m\u001b[43m,\u001b[49m\u001b[43m \u001b[49m\u001b[43mzoom_factors\u001b[49m\u001b[43m,\u001b[49m\u001b[43m \u001b[49m\u001b[43morder\u001b[49m\u001b[38;5;241;43m=\u001b[39;49m\u001b[43morder\u001b[49m\u001b[43m,\u001b[49m\u001b[43m \u001b[49m\u001b[43mmode\u001b[49m\u001b[38;5;241;43m=\u001b[39;49m\u001b[43mndi_mode\u001b[49m\u001b[43m,\u001b[49m\n\u001b[1;32m    188\u001b[0m \u001b[43m                   \u001b[49m\u001b[43mcval\u001b[49m\u001b[38;5;241;43m=\u001b[39;49m\u001b[43mcval\u001b[49m\u001b[43m,\u001b[49m\u001b[43m \u001b[49m\u001b[43mgrid_mode\u001b[49m\u001b[38;5;241;43m=\u001b[39;49m\u001b[38;5;28;43;01mTrue\u001b[39;49;00m\u001b[43m)\u001b[49m\n\u001b[1;32m    190\u001b[0m \u001b[38;5;66;03m# TODO: Remove the fallback code below once SciPy >= 1.6.0 is required.\u001b[39;00m\n\u001b[1;32m    191\u001b[0m \n\u001b[1;32m    192\u001b[0m \u001b[38;5;66;03m# 2-dimensional interpolation\u001b[39;00m\n\u001b[1;32m    193\u001b[0m \u001b[38;5;28;01melif\u001b[39;00m \u001b[38;5;28mlen\u001b[39m(output_shape) \u001b[38;5;241m==\u001b[39m \u001b[38;5;241m2\u001b[39m \u001b[38;5;129;01mor\u001b[39;00m (\u001b[38;5;28mlen\u001b[39m(output_shape) \u001b[38;5;241m==\u001b[39m \u001b[38;5;241m3\u001b[39m \u001b[38;5;129;01mand\u001b[39;00m\n\u001b[1;32m    194\u001b[0m                                 output_shape[\u001b[38;5;241m2\u001b[39m] \u001b[38;5;241m==\u001b[39m input_shape[\u001b[38;5;241m2\u001b[39m]):\n",
      "File \u001b[0;32m~/miniconda3/envs/py_seg_env/lib/python3.9/site-packages/scipy/ndimage/_interpolation.py:816\u001b[0m, in \u001b[0;36mzoom\u001b[0;34m(input, zoom, output, order, mode, cval, prefilter, grid_mode)\u001b[0m\n\u001b[1;32m    812\u001b[0m zoom \u001b[38;5;241m=\u001b[39m numpy\u001b[38;5;241m.\u001b[39mdivide(zoom_nominator, zoom_div,\n\u001b[1;32m    813\u001b[0m                     out\u001b[38;5;241m=\u001b[39mnumpy\u001b[38;5;241m.\u001b[39mones_like(\u001b[38;5;28minput\u001b[39m\u001b[38;5;241m.\u001b[39mshape, dtype\u001b[38;5;241m=\u001b[39mnumpy\u001b[38;5;241m.\u001b[39mfloat64),\n\u001b[1;32m    814\u001b[0m                     where\u001b[38;5;241m=\u001b[39mzoom_div \u001b[38;5;241m!=\u001b[39m \u001b[38;5;241m0\u001b[39m)\n\u001b[1;32m    815\u001b[0m zoom \u001b[38;5;241m=\u001b[39m numpy\u001b[38;5;241m.\u001b[39mascontiguousarray(zoom)\n\u001b[0;32m--> 816\u001b[0m \u001b[43m_nd_image\u001b[49m\u001b[38;5;241;43m.\u001b[39;49m\u001b[43mzoom_shift\u001b[49m\u001b[43m(\u001b[49m\u001b[43mfiltered\u001b[49m\u001b[43m,\u001b[49m\u001b[43m \u001b[49m\u001b[43mzoom\u001b[49m\u001b[43m,\u001b[49m\u001b[43m \u001b[49m\u001b[38;5;28;43;01mNone\u001b[39;49;00m\u001b[43m,\u001b[49m\u001b[43m \u001b[49m\u001b[43moutput\u001b[49m\u001b[43m,\u001b[49m\u001b[43m \u001b[49m\u001b[43morder\u001b[49m\u001b[43m,\u001b[49m\u001b[43m \u001b[49m\u001b[43mmode\u001b[49m\u001b[43m,\u001b[49m\u001b[43m \u001b[49m\u001b[43mcval\u001b[49m\u001b[43m,\u001b[49m\u001b[43m \u001b[49m\u001b[43mnpad\u001b[49m\u001b[43m,\u001b[49m\n\u001b[1;32m    817\u001b[0m \u001b[43m                     \u001b[49m\u001b[43mgrid_mode\u001b[49m\u001b[43m)\u001b[49m\n\u001b[1;32m    818\u001b[0m \u001b[38;5;28;01mreturn\u001b[39;00m output\n",
      "\u001b[0;31mKeyboardInterrupt\u001b[0m: "
     ]
    }
   ],
   "source": [
    "preprocess = True\n",
    "for res in df_val['resolution'].sort_values().unique():\n",
    "    print(res)\n",
    "    newsize = int(round((3000 / res) / 32, 0)) * 32\n",
    "    if newsize > 256:\n",
    "        newsize = int((3000 / res) / 256) * 256\n",
    "    for idx, row in df_val[df_val['resolution'] == 1.5].iterrows():\n",
    "        print(row[['scaling', 'resolution', 'inputs']])\n",
    "        scaling = row['scaling']\n",
    "        inputs_fnl = row['inputs'].split(',')\n",
    "        # load best saved checkpoint\n",
    "        best_model = torch.load(row['model_path'])\n",
    "        best_model.eval()\n",
    "\n",
    "        # load the image stats from the training data\n",
    "        df_image_stats = pd.read_csv('./_utils/image_stats' + scaling + '.csv').set_index('stat')\n",
    "\n",
    "        # convert image stats dictionary to dataframe\n",
    "        image_stats = {i: {'min': df_image_stats.loc['min', i],\n",
    "                           'max': df_image_stats.loc['max', i]} for i in [x for x in inputs_fnl if x != 'dsm']}\n",
    "\n",
    "        precision_list = []\n",
    "        recall_list = []\n",
    "\n",
    "        burrow_ct_gt = []\n",
    "        burrow_ct_pred = []\n",
    "        tile_id_list = []\n",
    "\n",
    "        for ID in df_tiles['ID'][(df_tiles['Train'] == 0) &\n",
    "                             (df_tiles['Digitize'] == 1) &\n",
    "                             (df_tiles['trainer'] != 'Nick')]:\n",
    "            if all(df_tiles[df_tiles['ID'] == ID]['Train'] == 1):\n",
    "                continue\n",
    "            else:\n",
    "                print(ID)\n",
    "                # get the path base to the imagery associated with the training tile\n",
    "                if external_path is None:\n",
    "                    tilePATH = df_tiles[df_tiles['ID'] == ID]['path_pre'].iloc[0]\n",
    "                else:\n",
    "                    tilePATH = os.path.join(external_path,\n",
    "                                            df_tiles[df_tiles['ID'] == ID]['path_pre'].iloc[0])\n",
    "                # get the x/y coordinates of the bounding box for the training polygon within the tile\n",
    "                box_coords_x = df_tiles[df_tiles['ID'] == ID][['min_x', 'max_x']].iloc[0].values\n",
    "                box_coords_y = df_tiles[df_tiles['ID'] == ID][['min_y', 'max_y']].iloc[0].values\n",
    "                # get the box coordinate pairs\n",
    "                ll, ul, lr, ur = list(itertools.product(box_coords_x, box_coords_y))\n",
    "                # create a polygon from the coordinate pairs\n",
    "                tile_geom = Polygon([ll, ul, ur, lr])\n",
    "                # create the full path to the RGB image of the training tile\n",
    "                rgb_path = tilePATH + 'rgb.tif'\n",
    "                with rio.open(rgb_path) as src_rgb:   \n",
    "                    profile_rgb = src_rgb.meta\n",
    "                    rgb_out, transform_out = mask.mask(src_rgb,\n",
    "                                                       [tile_geom],\n",
    "                                                       crop=True)\n",
    "                    #rgb_out = rgb_out[:, -win_size:, :win_size]\n",
    "                    #show(rgb_out)\n",
    "                    ll_i = src_rgb.index(*ll)\n",
    "                    ur_i = src_rgb.index(*ur)\n",
    "                    gdf_polys_sub = gdf_polys[gdf_polys['Tile'] == ID]\n",
    "                    if len(gdf_polys_sub) > 0:\n",
    "                        label_mask = rasterize(gdf_polys_sub.geometry, \n",
    "                                               out_shape=rgb_out.shape[1:], \n",
    "                                               transform=transform_out,\n",
    "                                               default_value=1)\n",
    "                    else:\n",
    "                         label_mask = np.zeros_like(rgb_out[0, :, :]) \n",
    "                    rgb_out = resize(rgb_out.transpose((1, 2, 0)),\n",
    "                                     (newsize, newsize),\n",
    "                                     order=1).transpose((2, 0, 1)).astype('int')\n",
    "                    label_mask = resize(label_mask.astype('float32'), (newsize, newsize), anti_aliasing=True, order=1) > 0.5\n",
    "                    label_mask = label_mask.astype('int')\n",
    "                    #label = label[ll_i[0]:ur_i[0], ll_i[1]:ur_i[1]]\n",
    "                    profile_rgb.update({'dtype': 'int16',\n",
    "                                        'width': rgb_out.shape[1],\n",
    "                                        'height': rgb_out.shape[0],\n",
    "                                        'transform': transform_out})\n",
    "                    profile_single = profile_rgb.copy()\n",
    "                    profile_single.update({'count': 1})\n",
    "                    profile_single_float = profile_single.copy()\n",
    "                    profile_single_float.update({'dtype': 'float64'})\n",
    "                    #show(label)\n",
    "\n",
    "                pr_mask = np.empty_like(rgb_out[0, :, :])\n",
    "                image_dict = {}\n",
    "                for suffix in inputs_fnl:\n",
    "                    with rio.open(re.sub('rgb', suffix, rgb_path)) as src_i:\n",
    "                        i_out = src_i.read(out_shape=(\n",
    "                            src_i.count,\n",
    "                            src_rgb.meta['height'],\n",
    "                            src_rgb.meta['width']),\n",
    "                                           resampling=Resampling.bilinear)\n",
    "                        image_dict[suffix] = resize(i_out[:, ll_i[1]-1:ur_i[1]+1, ur_i[0]-1:ll_i[0]+1].transpose((1, 2, 0)),\n",
    "                                                    (newsize, newsize),\n",
    "                                                    order=1).transpose((2, 0, 1))\n",
    "                if 'rgb' in inputs_fnl:\n",
    "                    image_dict['rgb'] = rgb_out\n",
    "                if preprocess:\n",
    "                    for i in image_dict:\n",
    "                        image_dict[i] = normalize_fn(image_dict[i], i, image_stats)\n",
    "                image_list = [image_dict[i].astype('float32') for i in inputs_fnl]\n",
    "                image_out = np.concatenate(image_list, axis=0)\n",
    "\n",
    "                chunksize = 256\n",
    "                if newsize > 256:\n",
    "                    pr_mask = np.empty_like(rgb_out[0, :, :])\n",
    "                    n_row_chunks = int(np.ceil(rgb_out.shape[1]/chunksize))\n",
    "                    n_col_chunks = int(np.ceil(rgb_out.shape[2]/chunksize))\n",
    "                    image_sub_dict = {}\n",
    "                    for r in range(n_row_chunks):\n",
    "                        if (r + 1) * chunksize > rgb_out.shape[1]:\n",
    "                            r_min = rgb_out.shape[1] - chunksize\n",
    "                            r_max = rgb_out.shape[1]\n",
    "                        else:\n",
    "                            r_min = r * chunksize\n",
    "                            r_max = (r + 1) * chunksize\n",
    "                        for c in range(n_col_chunks):\n",
    "                            if (c + 1) * chunksize > rgb_out.shape[2]:\n",
    "                                c_min = rgb_out.shape[2] - chunksize\n",
    "                                c_max = rgb_out.shape[2]\n",
    "                            else:\n",
    "                                c_min = c * chunksize\n",
    "                                c_max = (c + 1) * chunksize\n",
    "                            image_out_sub = image_out[:, r_min:r_max, c_min:c_max]\n",
    "                            x_tensor = torch.from_numpy(image_out_sub).to(DEVICE).unsqueeze(0)\n",
    "                            if type(best_model) == nn.DataParallel:\n",
    "                                pr_mask[r_min:r_max, c_min:c_max] = best_model.module.predict(x_tensor).cpu().detach().numpy().squeeze() > 0.5\n",
    "                            else:\n",
    "                                pr_mask[r_min:r_max, c_min:c_max] = best_model.predict(x_tensor).cpu().detach().numpy().squeeze() > 0.5\n",
    "                else:\n",
    "                    x_tensor = torch.from_numpy(image_out).to(DEVICE).unsqueeze(0)\n",
    "                    if type(best_model) == nn.DataParallel:\n",
    "                        pr_mask = best_model.module.predict(x_tensor).cpu().detach().numpy().squeeze() > 0.5\n",
    "                    else:\n",
    "                        pr_mask = best_model.predict(x_tensor).cpu().detach().numpy().squeeze() > 0.5\n",
    "\n",
    "                # get regions and properties of the ground truth and predictions\n",
    "                label_labels = label(label_mask)\n",
    "                label_regions = regionprops(label_labels)\n",
    "                pr_labels = label(pr_mask)\n",
    "                pr_regions = regionprops(pr_labels)\n",
    "\n",
    "                r_ct_pred = 0\n",
    "                for r in pr_regions:\n",
    "                    if r.area*(res/100)**2 > 0.05:\n",
    "                        y_pr, x_pr = r.centroid\n",
    "                        precision_list.append(label_mask[int(y_pr), int(x_pr)])\n",
    "                        r_ct_pred += 1\n",
    "\n",
    "                r_ct_gt = 0\n",
    "                for r in label_regions:\n",
    "                    y_label, x_label = r.centroid\n",
    "                    recall_list.append(pr_mask[int(y_label), int(x_label)])\n",
    "                    r_ct_gt += 1\n",
    "                burrow_ct_gt.append(r_ct_gt)\n",
    "                burrow_ct_pred.append(r_ct_pred)\n",
    "                tile_id_list.append(ID)\n",
    "\n",
    "        precision = np.sum(precision_list) / len(precision_list)\n",
    "        recall = np.sum(recall_list) / len(recall_list)\n",
    "        fscore = (2 * precision * recall) / (precision + recall)\n",
    "        corr = np.corrcoef(burrow_ct_gt, burrow_ct_pred)[0, 1]\n",
    "\n",
    "        df_tmp = pd.DataFrame({\n",
    "            'model': row['model'],\n",
    "            'scaling': re.sub('_', '', scaling),\n",
    "            'model_resolution': row['resolution'],\n",
    "            'inputs': row['inputs'],\n",
    "            'test_resolution': res,\n",
    "            'precision': precision,\n",
    "            'recall': recall,\n",
    "            'fscore': fscore,\n",
    "            'correlation': corr\n",
    "        }, index=[idx])\n",
    "\n",
    "        df_test_out = pd.concat([df_test_out, df_tmp])\n",
    "        df_test_out.to_csv('./cnn_test_results/best_model_downscaled_test_validation.csv')"
   ]
  },
  {
   "cell_type": "code",
   "execution_count": 24,
   "id": "2e871394-7da5-47dc-9c29-2261e6963193",
   "metadata": {},
   "outputs": [
    {
     "data": {
      "image/png": "[encoded data removed]",
      "text/plain": [
       "<Figure size 1200x600 with 4 Axes>"
      ]
     },
     "metadata": {},
     "output_type": "display_data"
    }
   ],
   "source": [
    "plt.close()\n",
    "fig, axs = plt.subplots(figsize=(12, 6), nrows=1, ncols=4)\n",
    "axs[0].imshow(image_dict['tpi'].squeeze(), cmap='viridis')\n",
    "axs[1].imshow(rgb_out.transpose((1, 2, 0)))\n",
    "axs[2].imshow(pr_mask, cmap='viridis', clim=(0,1))\n",
    "axs[3].imshow(label_mask, cmap='viridis', clim=(0,1))\n",
    "plt.show()"
   ]
  },
  {
   "cell_type": "code",
   "execution_count": 30,
   "id": "50e95e79-c3a6-4488-834f-24f25ef3ed16",
   "metadata": {},
   "outputs": [],
   "source": [
    "df_downscaled_test = pd.read_csv('./cnn_test_results/downscaled_model_test_validation.csv')\n",
    "df_best_downscaled_test = pd.read_csv('./cnn_test_results/best_model_downscaled_test_validation.csv')"
   ]
  },
  {
   "cell_type": "code",
   "execution_count": 31,
   "id": "b6ce9995-5d2e-4cce-8ee3-65e4ce7949b7",
   "metadata": {},
   "outputs": [
    {
     "data": {
      "image/png": "[encoded data removed]",
      "text/plain": [
       "<Figure size 1800x600 with 2 Axes>"
      ]
     },
     "metadata": {},
     "output_type": "display_data"
    }
   ],
   "source": [
    "fig, axs = plt.subplots(figsize=(18, 6), ncols=2)\n",
    "sns.pointplot(x='test_resolution', y='fscore', \n",
    "            hue='inputs',\n",
    "            data=df_downscaled_test.sort_values('model_resolution'),\n",
    "            ci=None,\n",
    "            ax=axs[0], show_legend=False)\n",
    "#sns.pointplot(x='test_resolution', y='fscore', \n",
    "#            hue='inputs',\n",
    "#            data=df_best_downscaled_test.sort_values('test_resolution'),\n",
    "#            ci=None,\n",
    "#            ax=axs[0], show_legend=False,\n",
    "#            linestyles='dotted')\n",
    "axs[0].set_title('F-score')\n",
    "axs[0].set_ylabel('F-score')\n",
    "\n",
    "sns.pointplot(x='test_resolution', y='correlation', \n",
    "            hue='inputs',\n",
    "            data=df_downscaled_test.sort_values('test_resolution'),\n",
    "            ci=None,\n",
    "            ax=axs[1], show_legend=False)\n",
    "#sns.pointplot(x='test_resolution', y='correlation', \n",
    "#            hue='inputs',\n",
    "#            data=df_best_downscaled_test.sort_values('test_resolution'),\n",
    "#            ci=None,\n",
    "#            ax=axs[1], show_legend=False,\n",
    "#            linestyles='dotted')\n",
    "axs[1].set_title('Burrow count correlation')\n",
    "axs[1].set_ylabel('Correlation coefficient')\n",
    "for ax in axs:\n",
    "    ax.set_xlabel('Resolution (cm)')\n",
    "    ax.legend().remove()\n",
    "handles, labels = axs[0].get_legend_handles_labels()\n",
    "fig.legend(handles, labels, loc='upper center', bbox_to_anchor=(0, 0, 1, 1), ncol=2)\n",
    "plt.savefig('/mnt/c/Users/TBGPEA-Sean/Desktop/cnn_results_downscaled_test_validation.png',\n",
    "            dpi=600, bbox_inches='tight', pad_inches=0.1)"
   ]
  },
  {
   "cell_type": "code",
   "execution_count": 46,
   "id": "8df33ea7-ae72-4e96-aa14-180df6edf3cd",
   "metadata": {},
   "outputs": [
    {
     "name": "stdout",
     "output_type": "stream",
     "text": [
      "scaling              _downscaled\n",
      "resolution                  15.0\n",
      "inputs        rgb,tpi,shade,ndvi\n",
      "Name: 7, dtype: object\n",
      "5W_14\n"
     ]
    }
   ],
   "source": [
    "test_idx = 1\n",
    "row = df_val[(df_val['inputs'] == 'rgb,tpi,shade,ndvi') & (df_val['resolution'] == 15.0)].iloc[0]\n",
    "\n",
    "preprocess = True\n",
    "print(row[['scaling', 'resolution', 'inputs']])\n",
    "res = row['resolution']\n",
    "scaling = row['scaling']\n",
    "inputs_fnl = row['inputs'].split(',')\n",
    "# load best saved checkpoint\n",
    "best_model = torch.load(row['model_path'])\n",
    "best_model.eval()\n",
    "\n",
    "newsize = int(round((3000 / res) / 32, 0)) * 32\n",
    "if newsize > 256:\n",
    "    newsize = int((3000 / res) / 256) * 256\n",
    "\n",
    "# load the image stats from the training data\n",
    "df_image_stats = pd.read_csv('./_utils/image_stats' + scaling + '.csv').set_index('stat')\n",
    "\n",
    "# convert image stats dictionary to dataframe\n",
    "image_stats = {i: {'min': df_image_stats.loc['min', i],\n",
    "                   'max': df_image_stats.loc['max', i]} for i in [x for x in inputs_fnl if x != 'dsm']}\n",
    "\n",
    "precision_list = []\n",
    "recall_list = []\n",
    "\n",
    "burrow_ct_gt = []\n",
    "burrow_ct_pred = []\n",
    "tile_id_list = []\n",
    "\n",
    "ID = df_tiles['ID'][(df_tiles['Train'] == 0) &\n",
    "                         (df_tiles['Digitize'] == 1) &\n",
    "                         (df_tiles['trainer'] != 'Nick')].iloc[test_idx]\n",
    "print(ID)\n",
    "# get the path base to the imagery associated with the training tile\n",
    "if external_path is None:\n",
    "    tilePATH = df_tiles[df_tiles['ID'] == ID]['path_pre'].iloc[0]\n",
    "else:\n",
    "    tilePATH = os.path.join(external_path,\n",
    "                            df_tiles[df_tiles['ID'] == ID]['path_pre'].iloc[0])\n",
    "# get the x/y coordinates of the bounding box for the training polygon within the tile\n",
    "box_coords_x = df_tiles[df_tiles['ID'] == ID][['min_x', 'max_x']].iloc[0].values\n",
    "box_coords_y = df_tiles[df_tiles['ID'] == ID][['min_y', 'max_y']].iloc[0].values\n",
    "# get the box coordinate pairs\n",
    "ll, ul, lr, ur = list(itertools.product(box_coords_x, box_coords_y))\n",
    "# create a polygon from the coordinate pairs\n",
    "tile_geom = Polygon([ll, ul, ur, lr])\n",
    "# create the full path to the RGB image of the training tile\n",
    "rgb_path = tilePATH + 'rgb.tif'\n",
    "with rio.open(rgb_path) as src_rgb:   \n",
    "    profile_rgb = src_rgb.meta\n",
    "    rgb_out, transform_out = mask.mask(src_rgb,\n",
    "                                       [tile_geom],\n",
    "                                       crop=True)\n",
    "    #rgb_out = rgb_out[:, -win_size:, :win_size]\n",
    "    #show(rgb_out)\n",
    "    ll_i = src_rgb.index(*ll)\n",
    "    ur_i = src_rgb.index(*ur)\n",
    "    gdf_polys_sub = gdf_polys[gdf_polys['Tile'] == ID]\n",
    "    if len(gdf_polys_sub) > 0:\n",
    "        label_mask = rasterize(gdf_polys_sub.geometry, \n",
    "                               out_shape=rgb_out.shape[1:], \n",
    "                               transform=transform_out,\n",
    "                               default_value=1)\n",
    "    else:\n",
    "         label_mask = np.zeros_like(rgb_out[0, :, :]) \n",
    "    rgb_out = resize(rgb_out.transpose((1, 2, 0)),\n",
    "                     (newsize, newsize),\n",
    "                     order=1).transpose((2, 0, 1)).astype('int')\n",
    "    label_mask = resize(label_mask.astype('float32'), (newsize, newsize), anti_aliasing=True, order=1) > 0.5\n",
    "    label_mask = label_mask.astype('int')\n",
    "    #label = label[ll_i[0]:ur_i[0], ll_i[1]:ur_i[1]]\n",
    "    profile_rgb.update({'dtype': 'int16',\n",
    "                        'width': rgb_out.shape[0],\n",
    "                        'height': rgb_out.shape[1],\n",
    "                        'transform': transform_out})\n",
    "    profile_single = profile_rgb.copy()\n",
    "    profile_single.update({'count': 1})\n",
    "    profile_single_float = profile_single.copy()\n",
    "    profile_single_float.update({'dtype': 'float64'})\n",
    "    #show(label)\n",
    "\n",
    "pr_mask = np.empty_like(rgb_out[0, :, :])\n",
    "image_dict = {}\n",
    "for suffix in inputs_fnl:\n",
    "    with rio.open(re.sub('rgb', suffix, rgb_path)) as src_i:\n",
    "        i_out = src_i.read(out_shape=(\n",
    "            src_i.count,\n",
    "            src_rgb.meta['height'],\n",
    "            src_rgb.meta['width']),\n",
    "                           resampling=Resampling.bilinear)\n",
    "        image_dict[suffix] = resize(i_out[:, ll_i[1]-1:ur_i[1]+1, ur_i[0]-1:ll_i[0]+1].transpose((1, 2, 0)),\n",
    "                                    (newsize, newsize),\n",
    "                                    order=1).transpose((2, 0, 1))\n",
    "if 'rgb' in inputs_fnl:\n",
    "    image_dict['rgb'] = rgb_out\n",
    "if preprocess:\n",
    "    for i in image_dict:\n",
    "        image_dict[i] = normalize_fn(image_dict[i], i, image_stats)\n",
    "image_list = [image_dict[i].astype('float32') for i in inputs_fnl]\n",
    "image_out = np.concatenate(image_list, axis=0)\n",
    "\n",
    "chunksize = 256\n",
    "if newsize > 256:\n",
    "    pr_mask = np.empty_like(rgb_out[0, :, :])\n",
    "    n_row_chunks = int(np.ceil(rgb_out.shape[1]/chunksize))\n",
    "    n_col_chunks = int(np.ceil(rgb_out.shape[2]/chunksize))\n",
    "    image_sub_dict = {}\n",
    "    for r in range(n_row_chunks):\n",
    "        if (r + 1) * chunksize > rgb_out.shape[1]:\n",
    "            r_min = rgb_out.shape[1] - chunksize\n",
    "            r_max = rgb_out.shape[1]\n",
    "        else:\n",
    "            r_min = r * chunksize\n",
    "            r_max = (r + 1) * chunksize\n",
    "        for c in range(n_col_chunks):\n",
    "            if (c + 1) * chunksize > rgb_out.shape[2]:\n",
    "                c_min = rgb_out.shape[2] - chunksize\n",
    "                c_max = rgb_out.shape[2]\n",
    "            else:\n",
    "                c_min = c * chunksize\n",
    "                c_max = (c + 1) * chunksize\n",
    "            image_out_sub = image_out[:, r_min:r_max, c_min:c_max]\n",
    "            x_tensor = torch.from_numpy(image_out_sub).to(DEVICE).unsqueeze(0)\n",
    "            if type(best_model) == nn.DataParallel:\n",
    "                pr_mask[r_min:r_max, c_min:c_max] = best_model.module.predict(x_tensor).cpu().detach().numpy().squeeze() > 0.5\n",
    "            else:\n",
    "                pr_mask[r_min:r_max, c_min:c_max] = best_model.predict(x_tensor).cpu().detach().numpy().squeeze() > 0.5\n",
    "else:\n",
    "    x_tensor = torch.from_numpy(image_out).to(DEVICE).unsqueeze(0)\n",
    "    if type(best_model) == nn.DataParallel:\n",
    "        pr_mask = best_model.module.predict(x_tensor).cpu().detach().numpy().squeeze() > 0.5\n",
    "    else:\n",
    "        pr_mask = best_model.predict(x_tensor).cpu().detach().numpy().squeeze() > 0.5\n",
    "\n",
    "# get regions and properties of the ground truth and predictions\n",
    "label_labels = label(label_mask)\n",
    "label_regions = regionprops(label_labels)\n",
    "pr_labels = label(pr_mask)\n",
    "pr_regions = regionprops(pr_labels)\n",
    "\n",
    "r_ct_pred = 0\n",
    "for r in pr_regions:\n",
    "    if r.area*(res/100)**2 > 0.05:\n",
    "        y_pr, x_pr = r.centroid\n",
    "        precision_list.append(label_mask[int(y_pr), int(x_pr)])\n",
    "        r_ct_pred += 1\n",
    "\n",
    "r_ct_gt = 0\n",
    "for r in label_regions:\n",
    "    y_label, x_label = r.centroid\n",
    "    recall_list.append(pr_mask[int(y_label), int(x_label)])\n",
    "    r_ct_gt += 1\n",
    "burrow_ct_gt.append(r_ct_gt)\n",
    "burrow_ct_pred.append(r_ct_pred)\n",
    "tile_id_list.append(ID)"
   ]
  },
  {
   "cell_type": "code",
   "execution_count": 47,
   "id": "6c1c18d1-259a-402c-8d2a-92e653146076",
   "metadata": {},
   "outputs": [
    {
     "data": {
      "text/plain": [
       "[1, 1, 0, 1, 1]"
      ]
     },
     "execution_count": 47,
     "metadata": {},
     "output_type": "execute_result"
    }
   ],
   "source": [
    "precision_list"
   ]
  },
  {
   "cell_type": "code",
   "execution_count": 40,
   "id": "8ceb3899-cc81-4e2a-a6f9-337ce702267c",
   "metadata": {},
   "outputs": [
    {
     "data": {
      "text/plain": [
       "<matplotlib.image.AxesImage at 0x7f862d79dd60>"
      ]
     },
     "execution_count": 40,
     "metadata": {},
     "output_type": "execute_result"
    },
    {
     "data": {
      "image/png": "[encoded data removed]",
      "text/plain": [
       "<Figure size 1800x800 with 4 Axes>"
      ]
     },
     "metadata": {},
     "output_type": "display_data"
    }
   ],
   "source": [
    "fig, axs = plt.subplots(figsize=(18, 8), ncols=4)\n",
    "axs[0].imshow(label_mask)\n",
    "axs[1].imshow(pr_mask)\n",
    "axs[2].imshow(rgb_out.transpose((1, 2, 0)))\n",
    "axs[3].imshow(image_dict['tpi'].squeeze())"
   ]
  },
  {
   "cell_type": "code",
   "execution_count": 34,
   "id": "34830592-b8e9-412f-a54d-09631b91e1d5",
   "metadata": {},
   "outputs": [
    {
     "data": {
      "text/html": [
       "<div>\n",
       "<style scoped>\n",
       "    .dataframe tbody tr th:only-of-type {\n",
       "        vertical-align: middle;\n",
       "    }\n",
       "\n",
       "    .dataframe tbody tr th {\n",
       "        vertical-align: top;\n",
       "    }\n",
       "\n",
       "    .dataframe thead th {\n",
       "        text-align: right;\n",
       "    }\n",
       "</style>\n",
       "<table border=\"1\" class=\"dataframe\">\n",
       "  <thead>\n",
       "    <tr style=\"text-align: right;\">\n",
       "      <th></th>\n",
       "      <th>Unnamed: 0</th>\n",
       "      <th>orig_index</th>\n",
       "      <th>Comment</th>\n",
       "      <th>Tile</th>\n",
       "      <th>Trainer</th>\n",
       "      <th>geometry</th>\n",
       "      <th>group</th>\n",
       "      <th>subID</th>\n",
       "    </tr>\n",
       "  </thead>\n",
       "  <tbody>\n",
       "  </tbody>\n",
       "</table>\n",
       "</div>"
      ],
      "text/plain": [
       "Empty GeoDataFrame\n",
       "Columns: [Unnamed: 0, orig_index, Comment, Tile, Trainer, geometry, group, subID]\n",
       "Index: []"
      ]
     },
     "execution_count": 34,
     "metadata": {},
     "output_type": "execute_result"
    }
   ],
   "source": [
    "gdf_polys_sub"
   ]
  },
  {
   "cell_type": "code",
   "execution_count": null,
   "id": "09d36efb-d597-4f41-ab8d-868d26087208",
   "metadata": {},
   "outputs": [],
   "source": []
  }
 ],
 "metadata": {
  "kernelspec": {
   "display_name": "Python 3 (ipykernel)",
   "language": "python",
   "name": "python3"
  },
  "language_info": {
   "codemirror_mode": {
    "name": "ipython",
    "version": 3
   },
   "file_extension": ".py",
   "mimetype": "text/x-python",
   "name": "python",
   "nbconvert_exporter": "python",
   "pygments_lexer": "ipython3",
   "version": "3.9.13"
  }
 },
 "nbformat": 4,
 "nbformat_minor": 5
}
