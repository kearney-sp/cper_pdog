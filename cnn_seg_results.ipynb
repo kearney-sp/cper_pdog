{
 "cells": [
  {
   "cell_type": "code",
   "execution_count": 1,
   "id": "d0e7d66c-5dad-44d0-9ecc-1a0c7cb2390f",
   "metadata": {},
   "outputs": [],
   "source": [
    "import pandas as pd\n",
    "import seaborn as sns\n",
    "import matplotlib.pyplot as plt\n",
    "import numpy as np\n",
    "import glob\n",
    "import os\n",
    "import json\n",
    "from tqdm import tqdm"
   ]
  },
  {
   "cell_type": "code",
   "execution_count": 2,
   "id": "ebeaef6c-972a-4067-b16d-e75bf5e0261a",
   "metadata": {},
   "outputs": [],
   "source": [
    "inDIR = './cnn_test_results_2cm/'\n",
    "model_prefix = 'deeplabplus_*'"
   ]
  },
  {
   "cell_type": "code",
   "execution_count": 3,
   "id": "cb630824-af0b-4b4f-a6b0-37006a564e76",
   "metadata": {},
   "outputs": [],
   "source": [
    "for idx, d in enumerate(glob.glob(os.path.join(inDIR, model_prefix))):\n",
    "    inputs_tmp = '_'.join(os.path.basename(d).split('_')[1:])\n",
    "    if idx == 0:\n",
    "        df_bbox_gt = pd.read_csv(os.path.join(d, 'test_valid_bbox_gt.csv'))\n",
    "        \n",
    "        with open(os.path.join(d, 'test_valid_burrow.json'), 'r') as src:\n",
    "            burrow_valid = json.load(src)\n",
    "            burrow_valid['inputs'] = '_'.join(burrow_valid['inputs'])\n",
    "            df_valid_burrow = pd.DataFrame(burrow_valid, index=[idx])\n",
    "        \n",
    "        with open(os.path.join(d, 'test_valid_pixel.json'), 'r') as src:\n",
    "            pixel_valid = json.load(src)\n",
    "            pixel_valid['inputs'] = '_'.join(pixel_valid['inputs'])\n",
    "            df_valid_pixel = pd.DataFrame(pixel_valid, index=[idx])\n",
    "            \n",
    "        df_burrow_gt = pd.read_csv(os.path.join(d, 'test_valid_burrow_gt.csv'))\n",
    "        df_burrow_ct = pd.read_csv(os.path.join(d, 'test_valid_burrow_count.csv'))\n",
    "        df_burrow_ct.insert(0, 'inputs', inputs_tmp)\n",
    "            \n",
    "    else:\n",
    "        df_bbox_gt_tmp = pd.read_csv(os.path.join(d, 'test_valid_bbox_gt.csv'))\n",
    "        df_bbox_gt = pd.concat([df_bbox_gt, df_bbox_gt_tmp])\n",
    "        \n",
    "        with open(os.path.join(d, 'test_valid_burrow.json'), 'r') as src:\n",
    "            burrow_valid = json.load(src)\n",
    "            burrow_valid['inputs'] = '_'.join(burrow_valid['inputs'])\n",
    "            df_valid_burrow_tmp = pd.DataFrame(burrow_valid, index=[idx])\n",
    "            df_valid_burrow = pd.concat([df_valid_burrow, df_valid_burrow_tmp])\n",
    "        \n",
    "        with open(os.path.join(d, 'test_valid_pixel.json'), 'r') as src:\n",
    "            pixel_valid = json.load(src)\n",
    "            pixel_valid['inputs'] = '_'.join(pixel_valid['inputs'])\n",
    "            df_valid_pixel_tmp = pd.DataFrame(pixel_valid, index=[idx])\n",
    "            df_valid_pixel = pd.concat([df_valid_pixel, df_valid_pixel_tmp])\n",
    "            \n",
    "        df_burrow_gt_tmp = pd.read_csv(os.path.join(d, 'test_valid_burrow_gt.csv'))\n",
    "        df_burrow_gt = pd.concat([df_burrow_gt, df_burrow_gt_tmp])\n",
    "        \n",
    "        df_burrow_ct_tmp = pd.read_csv(os.path.join(d, 'test_valid_burrow_count.csv'))\n",
    "        df_burrow_ct_tmp.insert(0, 'inputs', inputs_tmp)\n",
    "        df_burrow_ct = pd.concat([df_burrow_ct, df_burrow_ct_tmp])"
   ]
  },
  {
   "cell_type": "code",
   "execution_count": 4,
   "id": "3ceb37db-e26a-41f5-be16-667021818991",
   "metadata": {},
   "outputs": [],
   "source": [
    "df_valid_pixel = df_valid_pixel[['model', 'inputs', 'accuracy', 'precision', 'recall', 'fscore']]\n",
    "df_valid_pixel.insert(2, 'n_inputs', df_valid_pixel['inputs'].apply(lambda x: len(x.split('_'))))\n",
    "df_valid_burrow.insert(2, 'n_inputs', df_valid_burrow['inputs'].apply(lambda x: len(x.split('_'))))\n",
    "df_burrow_ct.insert(1, 'n_inputs', df_burrow_ct['inputs'].apply(lambda x: len(x.split('_'))))"
   ]
  },
  {
   "cell_type": "code",
   "execution_count": 5,
   "id": "122ec43e-08a4-4dd2-815d-426096d4970c",
   "metadata": {},
   "outputs": [],
   "source": [
    "# subset results to only the combos to be evaluated\n",
    "#input_list = ['rgb', # RGB only\n",
    "#              'rgb_ndvi', # RGB+Mutli-spectral\n",
    "#              'dsm_tpi', # DSM only\n",
    "#              'rgb_dsm_tpi', # RGB+DSM\n",
    "#              'rgb_dsm_ndvi_tpi', # RGB+DSM+Multi-spectral\n",
    "#             ]\n",
    "#df_valid_pixel = df_valid_pixel[df_valid_pixel['inputs'].isin(input_list)] \n",
    "#df_valid_burrow = df_valid_burrow[df_valid_burrow['inputs'].isin(input_list)] \n",
    "#df_burrow_ct = df_burrow_ct[df_burrow_ct['inputs'].isin(input_list)] \n",
    "#df_burrow_gt = df_burrow_gt[df_burrow_gt['inputs'].isin(input_list)] \n",
    "#df_bbox_gt = df_bbox_gt[df_bbox_gt['inputs'].isin(input_list)] "
   ]
  },
  {
   "cell_type": "code",
   "execution_count": 6,
   "id": "60f1f057-8084-4119-a378-96d141f85503",
   "metadata": {},
   "outputs": [
    {
     "data": {
      "text/html": [
       "<div>\n",
       "<style scoped>\n",
       "    .dataframe tbody tr th:only-of-type {\n",
       "        vertical-align: middle;\n",
       "    }\n",
       "\n",
       "    .dataframe tbody tr th {\n",
       "        vertical-align: top;\n",
       "    }\n",
       "\n",
       "    .dataframe thead th {\n",
       "        text-align: right;\n",
       "    }\n",
       "</style>\n",
       "<table border=\"1\" class=\"dataframe\">\n",
       "  <thead>\n",
       "    <tr style=\"text-align: right;\">\n",
       "      <th></th>\n",
       "      <th>inputs</th>\n",
       "      <th>n_inputs</th>\n",
       "      <th>accuracy</th>\n",
       "      <th>precision</th>\n",
       "      <th>recall</th>\n",
       "      <th>fscore</th>\n",
       "    </tr>\n",
       "  </thead>\n",
       "  <tbody>\n",
       "    <tr>\n",
       "      <th>1</th>\n",
       "      <td>rgb</td>\n",
       "      <td>1</td>\n",
       "      <td>0.99</td>\n",
       "      <td>0.81</td>\n",
       "      <td>0.75</td>\n",
       "      <td>0.67</td>\n",
       "    </tr>\n",
       "    <tr>\n",
       "      <th>0</th>\n",
       "      <td>dsm_tpi</td>\n",
       "      <td>2</td>\n",
       "      <td>0.99</td>\n",
       "      <td>0.89</td>\n",
       "      <td>0.72</td>\n",
       "      <td>0.71</td>\n",
       "    </tr>\n",
       "    <tr>\n",
       "      <th>2</th>\n",
       "      <td>rgb_dsm</td>\n",
       "      <td>2</td>\n",
       "      <td>0.99</td>\n",
       "      <td>0.85</td>\n",
       "      <td>0.80</td>\n",
       "      <td>0.76</td>\n",
       "    </tr>\n",
       "    <tr>\n",
       "      <th>4</th>\n",
       "      <td>rgb_ndvi</td>\n",
       "      <td>2</td>\n",
       "      <td>0.99</td>\n",
       "      <td>0.86</td>\n",
       "      <td>0.75</td>\n",
       "      <td>0.71</td>\n",
       "    </tr>\n",
       "    <tr>\n",
       "      <th>3</th>\n",
       "      <td>rgb_dsm_ndvi</td>\n",
       "      <td>3</td>\n",
       "      <td>0.99</td>\n",
       "      <td>0.88</td>\n",
       "      <td>0.77</td>\n",
       "      <td>0.75</td>\n",
       "    </tr>\n",
       "  </tbody>\n",
       "</table>\n",
       "</div>"
      ],
      "text/plain": [
       "         inputs  n_inputs  accuracy  precision  recall  fscore\n",
       "1           rgb         1      0.99       0.81    0.75    0.67\n",
       "0       dsm_tpi         2      0.99       0.89    0.72    0.71\n",
       "2       rgb_dsm         2      0.99       0.85    0.80    0.76\n",
       "4      rgb_ndvi         2      0.99       0.86    0.75    0.71\n",
       "3  rgb_dsm_ndvi         3      0.99       0.88    0.77    0.75"
      ]
     },
     "execution_count": 6,
     "metadata": {},
     "output_type": "execute_result"
    }
   ],
   "source": [
    "df_valid_pixel.sort_values(['n_inputs', 'inputs']).round(2).drop(columns=['model'])"
   ]
  },
  {
   "cell_type": "code",
   "execution_count": 7,
   "id": "e0328596-9f09-470d-8407-52ee9ad79210",
   "metadata": {},
   "outputs": [
    {
     "data": {
      "text/html": [
       "<div>\n",
       "<style scoped>\n",
       "    .dataframe tbody tr th:only-of-type {\n",
       "        vertical-align: middle;\n",
       "    }\n",
       "\n",
       "    .dataframe tbody tr th {\n",
       "        vertical-align: top;\n",
       "    }\n",
       "\n",
       "    .dataframe thead th {\n",
       "        text-align: right;\n",
       "    }\n",
       "</style>\n",
       "<table border=\"1\" class=\"dataframe\">\n",
       "  <thead>\n",
       "    <tr style=\"text-align: right;\">\n",
       "      <th></th>\n",
       "      <th>inputs</th>\n",
       "      <th>n_inputs</th>\n",
       "      <th>precision</th>\n",
       "      <th>recall</th>\n",
       "      <th>fscore</th>\n",
       "      <th>corr</th>\n",
       "    </tr>\n",
       "  </thead>\n",
       "  <tbody>\n",
       "    <tr>\n",
       "      <th>1</th>\n",
       "      <td>rgb</td>\n",
       "      <td>1</td>\n",
       "      <td>0.71</td>\n",
       "      <td>0.68</td>\n",
       "      <td>0.69</td>\n",
       "      <td>0.81</td>\n",
       "    </tr>\n",
       "    <tr>\n",
       "      <th>0</th>\n",
       "      <td>dsm_tpi</td>\n",
       "      <td>2</td>\n",
       "      <td>0.84</td>\n",
       "      <td>0.70</td>\n",
       "      <td>0.77</td>\n",
       "      <td>0.87</td>\n",
       "    </tr>\n",
       "    <tr>\n",
       "      <th>2</th>\n",
       "      <td>rgb_dsm</td>\n",
       "      <td>2</td>\n",
       "      <td>0.84</td>\n",
       "      <td>0.85</td>\n",
       "      <td>0.85</td>\n",
       "      <td>0.96</td>\n",
       "    </tr>\n",
       "    <tr>\n",
       "      <th>4</th>\n",
       "      <td>rgb_ndvi</td>\n",
       "      <td>2</td>\n",
       "      <td>0.77</td>\n",
       "      <td>0.64</td>\n",
       "      <td>0.70</td>\n",
       "      <td>0.86</td>\n",
       "    </tr>\n",
       "    <tr>\n",
       "      <th>3</th>\n",
       "      <td>rgb_dsm_ndvi</td>\n",
       "      <td>3</td>\n",
       "      <td>0.85</td>\n",
       "      <td>0.74</td>\n",
       "      <td>0.79</td>\n",
       "      <td>0.92</td>\n",
       "    </tr>\n",
       "  </tbody>\n",
       "</table>\n",
       "</div>"
      ],
      "text/plain": [
       "         inputs  n_inputs  precision  recall  fscore  corr\n",
       "1           rgb         1       0.71    0.68    0.69  0.81\n",
       "0       dsm_tpi         2       0.84    0.70    0.77  0.87\n",
       "2       rgb_dsm         2       0.84    0.85    0.85  0.96\n",
       "4      rgb_ndvi         2       0.77    0.64    0.70  0.86\n",
       "3  rgb_dsm_ndvi         3       0.85    0.74    0.79  0.92"
      ]
     },
     "execution_count": 7,
     "metadata": {},
     "output_type": "execute_result"
    }
   ],
   "source": [
    "df_valid_burrow.sort_values(['n_inputs', 'inputs']).round(2).drop(columns=['model'])"
   ]
  },
  {
   "cell_type": "code",
   "execution_count": 8,
   "id": "a1e059db-fe55-4093-b42d-079e6c1620ef",
   "metadata": {},
   "outputs": [],
   "source": [
    "import scipy as sp\n",
    "sns.set(font_scale = 1.3)\n",
    "sns.set_style(\"ticks\")\n",
    "g = sns.lmplot(x='burrow_ct_gt', y='burrow_ct_pred', data=df_burrow_ct.sort_values(['n_inputs', 'inputs']),\n",
    "               col='inputs', col_wrap=3, \n",
    "               scatter_kws={'color': 'black', 's': 10},\n",
    "               line_kws={'color': 'black', 'linestyle': 'solid', 'linewidth': 1})\n",
    "\n",
    "def annotate(data, **kws):\n",
    "    r, p = sp.stats.pearsonr(data['burrow_ct_gt'], data['burrow_ct_pred'])\n",
    "    mpe = np.mean((data['burrow_ct_pred'] - data['burrow_ct_gt']) / (data['burrow_ct_gt'].apply(lambda x: max(1, x))))\n",
    "    ax = plt.gca()\n",
    "    ax.text(.05, .8, 'r={:.2f}, p={:.2g}'.format(r, p),\n",
    "            transform=ax.transAxes, fontsize=12)\n",
    "    ax.text(.05, .74, 'MPE={:.2f}'.format(mpe),\n",
    "            transform=ax.transAxes, fontsize=12)\n",
    "    \n",
    "g.map_dataframe(annotate)\n",
    "for ax in g.axes:\n",
    "    ax.plot(np.arange(0, 20), np.arange(0, 20), c='black', linestyle='dashed', linewidth=1)\n",
    "    ax.set_ylabel('Burrow count (predicted)')\n",
    "    ax.set_xlabel('Burrow count (observed)')\n",
    "    ax.set_xticks(np.arange(0, 21, 5))\n",
    "    ax.set_yticks(np.arange(0, 21, 5))\n",
    "\n",
    "plt.savefig('./results_figs/burrow_ct_corr.png', dpi=300, bbox_inches='tight', pad_inches=0.1)\n",
    "plt.close()"
   ]
  },
  {
   "cell_type": "code",
   "execution_count": 9,
   "id": "99facd8f-3540-4e41-91d6-7ffa6bef81be",
   "metadata": {},
   "outputs": [],
   "source": [
    "df_burrow_gt['n_inputs'] = df_burrow_gt['inputs'].apply(lambda x: len(x.split('_')))"
   ]
  },
  {
   "cell_type": "code",
   "execution_count": 10,
   "id": "917b0c0d-abce-41d5-a9f0-e7641af75fc4",
   "metadata": {},
   "outputs": [
    {
     "data": {
      "text/plain": [
       "67"
      ]
     },
     "execution_count": 10,
     "metadata": {},
     "output_type": "execute_result"
    }
   ],
   "source": [
    "len(df_bbox_gt.Tile.unique())"
   ]
  },
  {
   "cell_type": "code",
   "execution_count": 11,
   "id": "b3c02229-423c-43c5-8e49-4109b3de0e92",
   "metadata": {},
   "outputs": [
    {
     "data": {
      "text/plain": [
       "282"
      ]
     },
     "execution_count": 11,
     "metadata": {},
     "output_type": "execute_result"
    }
   ],
   "source": [
    "len(df_burrow_gt[df_burrow_gt['is_burrow'] == 1].geometry.unique())"
   ]
  },
  {
   "cell_type": "code",
   "execution_count": 12,
   "id": "e828fc66-acc1-4ef1-a61d-f3694870c517",
   "metadata": {},
   "outputs": [
    {
     "data": {
      "text/plain": [
       "218"
      ]
     },
     "execution_count": 12,
     "metadata": {},
     "output_type": "execute_result"
    }
   ],
   "source": [
    "len(df_burrow_gt[(df_burrow_gt['is_burrow'] == 1) & (df_burrow_gt['activity'] > 0)].geometry.unique())"
   ]
  },
  {
   "cell_type": "code",
   "execution_count": 13,
   "id": "ffb02cb4-a84f-4887-84fa-424eca08a74a",
   "metadata": {},
   "outputs": [],
   "source": [
    "df_burrow_gt_recall = df_burrow_gt.groupby(['inputs', 'n_inputs']).apply(lambda x: ((x['is_burrow'] == 1) & (x['pred'] == 1)).sum() / \n",
    "                                                                       (x['is_burrow'] == 1).sum())\n",
    "\n",
    "df_burrow_gt_recall.name = 'Recall'\n",
    "df_burrow_gt_precision = df_burrow_gt.groupby(['inputs', 'n_inputs']).apply(lambda x: ((x['is_burrow'] == 1) & (x['pred'] == 1)).sum() / \n",
    "                                                                       (x['pred'] == 1).sum())\n",
    "\n",
    "df_burrow_gt_precision.name = 'Precision'\n",
    "df_burrow_gt_recall_a0 = df_burrow_gt[df_burrow_gt['activity'] != 0].groupby(['inputs', 'n_inputs']).apply(lambda x: ((x['is_burrow'] == 1) & (x['pred'] == 1)).sum() / \n",
    "                                                                       (x['is_burrow'] == 1).sum())#.reset_index(level).rename(columns={0: 'Recall'})\n",
    "\n",
    "df_burrow_gt_recall_a0.name = 'Recall active'\n",
    "df_burrow_gt_precision_a0 = df_burrow_gt[df_burrow_gt['activity'] != 0].groupby(['inputs', 'n_inputs']).apply(lambda x: ((x['is_burrow'] == 1) & (x['pred'] == 1)).sum() / \n",
    "                                                                       (x['pred'] == 1).sum())#.reset_index(level).rename(columns={0: 'Recall'})\n",
    "\n",
    "df_burrow_gt_precision_a0.name = 'Precision active'"
   ]
  },
  {
   "cell_type": "code",
   "execution_count": 14,
   "id": "ee0a718f-ff28-49f2-abbb-5e182b055743",
   "metadata": {},
   "outputs": [],
   "source": [
    "df_burrow_gt_smry = pd.merge(df_burrow_gt_precision, pd.merge(df_burrow_gt_recall,\n",
    "                                       pd.merge(df_burrow_gt_precision_a0, df_burrow_gt_recall_a0, left_index=True, right_index=True),\n",
    "                                       left_index=True, right_index=True),\n",
    "         left_index=True, right_index=True).sort_values(['n_inputs', 'inputs'])\n",
    "df_burrow_gt_smry.insert(2, 'F-score', (2 * df_burrow_gt_smry['Recall'] * df_burrow_gt_smry['Precision']) / (df_burrow_gt_smry['Recall'] + df_burrow_gt_smry['Precision']))\n",
    "df_burrow_gt_smry['F-score active'] = (2 * df_burrow_gt_smry['Recall active'] * df_burrow_gt_smry['Precision active']) / \\\n",
    "                         (df_burrow_gt_smry['Recall active'] + df_burrow_gt_smry['Precision active'])"
   ]
  },
  {
   "cell_type": "code",
   "execution_count": 15,
   "id": "6456d39c-3893-457c-8c52-ece785bcda59",
   "metadata": {},
   "outputs": [
    {
     "data": {
      "text/html": [
       "<div>\n",
       "<style scoped>\n",
       "    .dataframe tbody tr th:only-of-type {\n",
       "        vertical-align: middle;\n",
       "    }\n",
       "\n",
       "    .dataframe tbody tr th {\n",
       "        vertical-align: top;\n",
       "    }\n",
       "\n",
       "    .dataframe thead th {\n",
       "        text-align: right;\n",
       "    }\n",
       "</style>\n",
       "<table border=\"1\" class=\"dataframe\">\n",
       "  <thead>\n",
       "    <tr style=\"text-align: right;\">\n",
       "      <th></th>\n",
       "      <th></th>\n",
       "      <th>Precision</th>\n",
       "      <th>Recall</th>\n",
       "      <th>F-score</th>\n",
       "      <th>Precision active</th>\n",
       "      <th>Recall active</th>\n",
       "      <th>F-score active</th>\n",
       "    </tr>\n",
       "    <tr>\n",
       "      <th>inputs</th>\n",
       "      <th>n_inputs</th>\n",
       "      <th></th>\n",
       "      <th></th>\n",
       "      <th></th>\n",
       "      <th></th>\n",
       "      <th></th>\n",
       "      <th></th>\n",
       "    </tr>\n",
       "  </thead>\n",
       "  <tbody>\n",
       "    <tr>\n",
       "      <th>rgb</th>\n",
       "      <th>1</th>\n",
       "      <td>0.86</td>\n",
       "      <td>0.56</td>\n",
       "      <td>0.68</td>\n",
       "      <td>0.85</td>\n",
       "      <td>0.64</td>\n",
       "      <td>0.73</td>\n",
       "    </tr>\n",
       "    <tr>\n",
       "      <th>dsm_tpi</th>\n",
       "      <th>2</th>\n",
       "      <td>0.93</td>\n",
       "      <td>0.60</td>\n",
       "      <td>0.73</td>\n",
       "      <td>0.92</td>\n",
       "      <td>0.63</td>\n",
       "      <td>0.75</td>\n",
       "    </tr>\n",
       "    <tr>\n",
       "      <th>rgb_dsm</th>\n",
       "      <th>2</th>\n",
       "      <td>0.94</td>\n",
       "      <td>0.69</td>\n",
       "      <td>0.79</td>\n",
       "      <td>0.93</td>\n",
       "      <td>0.74</td>\n",
       "      <td>0.82</td>\n",
       "    </tr>\n",
       "    <tr>\n",
       "      <th>rgb_ndvi</th>\n",
       "      <th>2</th>\n",
       "      <td>0.91</td>\n",
       "      <td>0.52</td>\n",
       "      <td>0.66</td>\n",
       "      <td>0.90</td>\n",
       "      <td>0.60</td>\n",
       "      <td>0.72</td>\n",
       "    </tr>\n",
       "    <tr>\n",
       "      <th>rgb_dsm_ndvi</th>\n",
       "      <th>3</th>\n",
       "      <td>0.96</td>\n",
       "      <td>0.62</td>\n",
       "      <td>0.75</td>\n",
       "      <td>0.95</td>\n",
       "      <td>0.66</td>\n",
       "      <td>0.78</td>\n",
       "    </tr>\n",
       "  </tbody>\n",
       "</table>\n",
       "</div>"
      ],
      "text/plain": [
       "                       Precision  Recall  F-score  Precision active  \\\n",
       "inputs       n_inputs                                                 \n",
       "rgb          1              0.86    0.56     0.68              0.85   \n",
       "dsm_tpi      2              0.93    0.60     0.73              0.92   \n",
       "rgb_dsm      2              0.94    0.69     0.79              0.93   \n",
       "rgb_ndvi     2              0.91    0.52     0.66              0.90   \n",
       "rgb_dsm_ndvi 3              0.96    0.62     0.75              0.95   \n",
       "\n",
       "                       Recall active  F-score active  \n",
       "inputs       n_inputs                                 \n",
       "rgb          1                  0.64            0.73  \n",
       "dsm_tpi      2                  0.63            0.75  \n",
       "rgb_dsm      2                  0.74            0.82  \n",
       "rgb_ndvi     2                  0.60            0.72  \n",
       "rgb_dsm_ndvi 3                  0.66            0.78  "
      ]
     },
     "execution_count": 15,
     "metadata": {},
     "output_type": "execute_result"
    }
   ],
   "source": [
    "df_burrow_gt_smry.round(2)"
   ]
  },
  {
   "cell_type": "code",
   "execution_count": 16,
   "id": "895b11e9-6703-4455-800e-f7c55271a303",
   "metadata": {},
   "outputs": [],
   "source": [
    "df_burrow_gt_error = df_burrow_gt.groupby(['n_inputs', 'inputs']).apply(lambda x: ((x['is_burrow'] == 0) & (x['pred'] == 1)).sum() / (x['pred'] == 1).sum())\n",
    "df_burrow_gt_error.name = 'Error rate'\n",
    "df_burrow_gt_error = df_burrow_gt_error.reset_index().sort_values(['n_inputs', 'inputs'])\n",
    "df_burrow_gt_error['Comment'] = 'Overall'\n",
    "df_burrow_gt_error = pd.pivot(df_burrow_gt_error, index='Comment', columns=['n_inputs', 'inputs'], values='Error rate')\n",
    "df_burrow_gt_error = df_burrow_gt_error.droplevel(0, axis=1)"
   ]
  },
  {
   "cell_type": "code",
   "execution_count": 17,
   "id": "a8d95118-9274-4a76-b59e-60b3c3bc244f",
   "metadata": {},
   "outputs": [],
   "source": [
    "df_burrow_gt_nb_error = df_burrow_gt[df_burrow_gt['is_burrow'] == 0].groupby(['inputs', \n",
    "                                                                              'n_inputs', \n",
    "                                                                              'Comment']).apply(lambda x: ((x['pred'] == 1)).sum() / len(x['pred']))\n",
    "df_burrow_gt_nb_error.name = 'Error rate'\n",
    "df_burrow_gt_nb_error = df_burrow_gt_nb_error.reset_index().sort_values(['n_inputs', 'inputs'])\n",
    "df_burrow_gt_nb_error = pd.pivot(df_burrow_gt_nb_error, index='Comment', columns=['n_inputs', 'inputs'], values='Error rate')\n",
    "df_burrow_gt_nb_error = df_burrow_gt_nb_error.droplevel(0, axis=1)\n",
    "df_burrow_gt_nb_error.insert(0, 'n', df_burrow_gt[df_burrow_gt['is_burrow'] == 0]['Comment'].value_counts() // len(df_burrow_gt['inputs'].unique()))"
   ]
  },
  {
   "cell_type": "code",
   "execution_count": 18,
   "id": "c8d5b01f-be42-4f26-a4d1-5d8af89a2972",
   "metadata": {},
   "outputs": [],
   "source": [
    "df_burrow_gt_error.insert(0, 'n', df_burrow_gt_nb_error['n'].sum())"
   ]
  },
  {
   "cell_type": "code",
   "execution_count": 19,
   "id": "ee62bb49-06fb-4c11-b241-f2cd2accadaf",
   "metadata": {},
   "outputs": [
    {
     "data": {
      "text/html": [
       "<div>\n",
       "<style scoped>\n",
       "    .dataframe tbody tr th:only-of-type {\n",
       "        vertical-align: middle;\n",
       "    }\n",
       "\n",
       "    .dataframe tbody tr th {\n",
       "        vertical-align: top;\n",
       "    }\n",
       "\n",
       "    .dataframe thead th {\n",
       "        text-align: right;\n",
       "    }\n",
       "</style>\n",
       "<table border=\"1\" class=\"dataframe\">\n",
       "  <thead>\n",
       "    <tr style=\"text-align: right;\">\n",
       "      <th>inputs</th>\n",
       "      <th>n</th>\n",
       "      <th>rgb</th>\n",
       "      <th>dsm_tpi</th>\n",
       "      <th>rgb_dsm</th>\n",
       "      <th>rgb_ndvi</th>\n",
       "      <th>rgb_dsm_ndvi</th>\n",
       "    </tr>\n",
       "    <tr>\n",
       "      <th>Comment</th>\n",
       "      <th></th>\n",
       "      <th></th>\n",
       "      <th></th>\n",
       "      <th></th>\n",
       "      <th></th>\n",
       "      <th></th>\n",
       "    </tr>\n",
       "  </thead>\n",
       "  <tbody>\n",
       "    <tr>\n",
       "      <th>ant</th>\n",
       "      <td>67</td>\n",
       "      <td>0.28</td>\n",
       "      <td>0.03</td>\n",
       "      <td>0.06</td>\n",
       "      <td>0.12</td>\n",
       "      <td>0.01</td>\n",
       "    </tr>\n",
       "    <tr>\n",
       "      <th>den</th>\n",
       "      <td>8</td>\n",
       "      <td>0.38</td>\n",
       "      <td>0.25</td>\n",
       "      <td>0.38</td>\n",
       "      <td>0.38</td>\n",
       "      <td>0.38</td>\n",
       "    </tr>\n",
       "    <tr>\n",
       "      <th>dig</th>\n",
       "      <td>6</td>\n",
       "      <td>0.17</td>\n",
       "      <td>0.17</td>\n",
       "      <td>0.17</td>\n",
       "      <td>0.33</td>\n",
       "      <td>0.17</td>\n",
       "    </tr>\n",
       "    <tr>\n",
       "      <th>old</th>\n",
       "      <td>27</td>\n",
       "      <td>0.07</td>\n",
       "      <td>0.26</td>\n",
       "      <td>0.19</td>\n",
       "      <td>0.04</td>\n",
       "      <td>0.11</td>\n",
       "    </tr>\n",
       "    <tr>\n",
       "      <th>Overall</th>\n",
       "      <td>108</td>\n",
       "      <td>0.14</td>\n",
       "      <td>0.07</td>\n",
       "      <td>0.06</td>\n",
       "      <td>0.09</td>\n",
       "      <td>0.04</td>\n",
       "    </tr>\n",
       "  </tbody>\n",
       "</table>\n",
       "</div>"
      ],
      "text/plain": [
       "inputs     n   rgb  dsm_tpi  rgb_dsm  rgb_ndvi  rgb_dsm_ndvi\n",
       "Comment                                                     \n",
       "ant       67  0.28     0.03     0.06      0.12          0.01\n",
       "den        8  0.38     0.25     0.38      0.38          0.38\n",
       "dig        6  0.17     0.17     0.17      0.33          0.17\n",
       "old       27  0.07     0.26     0.19      0.04          0.11\n",
       "Overall  108  0.14     0.07     0.06      0.09          0.04"
      ]
     },
     "execution_count": 19,
     "metadata": {},
     "output_type": "execute_result"
    }
   ],
   "source": [
    "df_error_fnl = pd.concat([df_burrow_gt_nb_error, df_burrow_gt_error]).round(2)\n",
    "df_error_fnl"
   ]
  },
  {
   "cell_type": "code",
   "execution_count": 20,
   "id": "670415f8-e8d9-413a-9d77-cc12c888dfef",
   "metadata": {},
   "outputs": [
    {
     "data": {
      "image/png": "[encoded data removed]",
      "text/plain": [
       "<Figure size 1500x1000 with 5 Axes>"
      ]
     },
     "metadata": {},
     "output_type": "display_data"
    }
   ],
   "source": [
    "plt.close()\n",
    "from matplotlib.lines import Line2D\n",
    "from scipy import stats\n",
    "sns.set(font_scale = 1.3)\n",
    "sns.set_style(\"ticks\")\n",
    "df_burrow_gt_std = df_burrow_gt[df_burrow_gt['is_burrow'] == 1].copy()\n",
    "df_burrow_gt_std['height'] = stats.zscore(df_burrow_gt_std['height'])\n",
    "df_burrow_gt_std['size'] = stats.zscore(df_burrow_gt_std['size'])\n",
    "df_burrow_gt_std['activity'] = stats.zscore(df_burrow_gt_std['activity'])\n",
    "df_burrow_gt_std['vegetation'] = stats.zscore(df_burrow_gt_std['vegetation'])\n",
    "df_burrow_gt_long = pd.melt(df_burrow_gt_std,\n",
    "                               id_vars=['n_inputs', 'inputs', 'Pasture', 'is_burrow', 'pred', 'label'],\n",
    "                               value_vars=['height', 'size', 'activity', 'vegetation'])\n",
    "#df_burrow_gt_long.loc[df_burrow_gt_long['variable'] == 'vegetation', 'value'] = 3.0 - df_burrow_gt_long.loc[df_burrow_gt_long['variable'] == 'vegetation', 'value']\n",
    "g=sns.catplot(x='variable', y='value', data=df_burrow_gt_long.sort_values(['n_inputs', 'inputs']), kind='point',\n",
    "                hue='pred', col='inputs', col_wrap=3,\n",
    "                join=False, dodge=0.15, markers='o', scale=1.1, \n",
    "              palette={0.0: 'black', 1.0: 'black'}, ec=['black', 'none'], legend=False)\n",
    "for ax in g.axes:\n",
    "    #ax.set_ylim(0, 3)\n",
    "    ax.legend().remove()\n",
    "    p1=ax.get_children()[4]\n",
    "    p1.set_facecolor('white')\n",
    "    p1.set_linewidth(1)\n",
    "    ax.set_xlabel('Burrow characteristic', fontsize=12)\n",
    "    ax.set_ylabel('Observed value z-score', fontsize=12)\n",
    "    ax.axhline(y=0, linestyle='dotted', color='black')\n",
    "    ax.grid(True, axis='y', alpha=0.5)\n",
    "\n",
    "legend_elements = [Line2D([0], [0], marker='o', color='black', label='Missed',\n",
    "                          markerfacecolor='white', markersize=10),\n",
    "                  Line2D([0], [0], marker='o', color='black', label='Detected',\n",
    "                          markerfacecolor='black', markersize=10)]\n",
    "\n",
    "g.fig.legend(handles=legend_elements, loc='upper left', bbox_to_anchor=(0.75, 0.0, 0.25, 0.35), fontsize=20)\n",
    "plt.savefig('./results_figs/missed_burrow_characteristics_zscore.png', dpi=300, bbox_inches='tight', pad_inches=0.1)\n",
    "plt.show()\n",
    "plt.close()"
   ]
  },
  {
   "cell_type": "code",
   "execution_count": 21,
   "id": "279cff91-0b9a-4e89-90e5-a0cc07f5fc56",
   "metadata": {},
   "outputs": [
    {
     "data": {
      "image/png": "[encoded data removed]",
      "text/plain": [
       "<Figure size 800x500 with 1 Axes>"
      ]
     },
     "metadata": {},
     "output_type": "display_data"
    }
   ],
   "source": [
    "fig, ax = plt.subplots(figsize=(8, 5))\n",
    "df_burrow_gt_std['score'] = df_burrow_gt_std.apply(lambda x: x['height'] + x['size'] + x['activity'] + (-1.0 * x['vegetation']), axis=1)\n",
    "sns.pointplot(x='inputs', y='score', data=df_burrow_gt_std.sort_values(['n_inputs', 'inputs']),\n",
    "            hue='pred', ax=ax, dodge=0.2, join=False, ci=99, markers='o', scale=1.1, \n",
    "              palette={0.0: 'black', 1.0: 'black'}, fc=['white', 'black'], ec=['black', 'none'])\n",
    "ax.legend().remove()\n",
    "ax.axhline(y=0, linestyle='dotted', color='black')\n",
    "p1=ax.get_children()[5]\n",
    "p1.set_facecolor('white')\n",
    "p1.set_linewidth(1)\n",
    "plt.setp(ax.get_xticklabels(), rotation=45, ha=\"right\", rotation_mode=\"anchor\", fontsize=15)\n",
    "legend_elements = [Line2D([0], [0], marker='o', color='black', label='Missed',\n",
    "                          markerfacecolor='white', markersize=10),\n",
    "                  Line2D([0], [0], marker='o', color='black', label='Detected',\n",
    "                          markerfacecolor='black', markersize=10)]\n",
    "ax.set_ylabel('Combined z-score', fontsize=12)\n",
    "fig.legend(handles=legend_elements, loc='upper left', bbox_to_anchor=(0.9, 0.0, 0.5, 0.5))\n",
    "ax.grid(True, axis='y', alpha=0.5)\n",
    "plt.savefig('./results_figs/missed_burrow_characteristics_zscore_comb.png', dpi=300, bbox_inches='tight', pad_inches=0.1)\n",
    "plt.show()\n",
    "plt.close()"
   ]
  },
  {
   "cell_type": "code",
   "execution_count": 22,
   "id": "00d263e7-bf70-4250-991d-358645ec330d",
   "metadata": {},
   "outputs": [],
   "source": [
    "df_bbox_gt = df_bbox_gt[df_bbox_gt['Type'] != 'non_burrows'].copy()"
   ]
  },
  {
   "cell_type": "code",
   "execution_count": 23,
   "id": "b43cc283-7449-47f9-8435-0008b9690240",
   "metadata": {},
   "outputs": [],
   "source": [
    "def val_metrics(df, prefix='pred'):\n",
    "    #(group_label, df) = grouping\n",
    "    precision = df[prefix + '_correct_ct'].sum() / df[prefix + '_ct'].sum()\n",
    "    recall = df[prefix + '_correct_ct'].sum() / df['gt_ct'].sum()\n",
    "    fscore = (2 * precision * recall) / (precision + recall)\n",
    "    return pd.DataFrame({'Precision': precision,\n",
    "                         'Recall': recall,\n",
    "                         'F-score': fscore},\n",
    "                        index=[len(df.name.split('_'))])\n",
    "#df_bbox.groupby('inputs').apply(val_metrics)"
   ]
  },
  {
   "cell_type": "code",
   "execution_count": 24,
   "id": "6216ece3-d2d0-45bd-9750-1ea6ff9d43ac",
   "metadata": {},
   "outputs": [],
   "source": [
    "df_bbox_gt_pred_smry = df_bbox_gt[df_bbox_gt['Digitize'] == 1].groupby('inputs').apply(val_metrics).reset_index().rename(columns={'level_1': 'n_inputs'}).sort_values('n_inputs')\n",
    "df_bbox_gt_label_smry = df_bbox_gt[df_bbox_gt['Digitize'] == 1].groupby('inputs').apply(val_metrics, prefix='label').reset_index().rename(columns={'level_1': 'n_inputs'}).sort_values('n_inputs')"
   ]
  },
  {
   "cell_type": "code",
   "execution_count": 25,
   "id": "bc7b029e-e1e2-44a2-b435-135c48fbed2a",
   "metadata": {},
   "outputs": [
    {
     "data": {
      "text/html": [
       "<div>\n",
       "<style scoped>\n",
       "    .dataframe tbody tr th:only-of-type {\n",
       "        vertical-align: middle;\n",
       "    }\n",
       "\n",
       "    .dataframe tbody tr th {\n",
       "        vertical-align: top;\n",
       "    }\n",
       "\n",
       "    .dataframe thead th {\n",
       "        text-align: right;\n",
       "    }\n",
       "</style>\n",
       "<table border=\"1\" class=\"dataframe\">\n",
       "  <thead>\n",
       "    <tr style=\"text-align: right;\">\n",
       "      <th></th>\n",
       "      <th>inputs</th>\n",
       "      <th>n_inputs</th>\n",
       "      <th>Precision</th>\n",
       "      <th>Recall</th>\n",
       "      <th>F-score</th>\n",
       "    </tr>\n",
       "  </thead>\n",
       "  <tbody>\n",
       "    <tr>\n",
       "      <th>1</th>\n",
       "      <td>rgb</td>\n",
       "      <td>1</td>\n",
       "      <td>0.81</td>\n",
       "      <td>0.74</td>\n",
       "      <td>0.77</td>\n",
       "    </tr>\n",
       "    <tr>\n",
       "      <th>0</th>\n",
       "      <td>dsm_tpi</td>\n",
       "      <td>2</td>\n",
       "      <td>0.81</td>\n",
       "      <td>0.74</td>\n",
       "      <td>0.77</td>\n",
       "    </tr>\n",
       "    <tr>\n",
       "      <th>2</th>\n",
       "      <td>rgb_dsm</td>\n",
       "      <td>2</td>\n",
       "      <td>0.81</td>\n",
       "      <td>0.74</td>\n",
       "      <td>0.77</td>\n",
       "    </tr>\n",
       "    <tr>\n",
       "      <th>4</th>\n",
       "      <td>rgb_ndvi</td>\n",
       "      <td>2</td>\n",
       "      <td>0.81</td>\n",
       "      <td>0.74</td>\n",
       "      <td>0.77</td>\n",
       "    </tr>\n",
       "    <tr>\n",
       "      <th>3</th>\n",
       "      <td>rgb_dsm_ndvi</td>\n",
       "      <td>3</td>\n",
       "      <td>0.81</td>\n",
       "      <td>0.74</td>\n",
       "      <td>0.77</td>\n",
       "    </tr>\n",
       "  </tbody>\n",
       "</table>\n",
       "</div>"
      ],
      "text/plain": [
       "         inputs  n_inputs  Precision  Recall  F-score\n",
       "1           rgb         1       0.81    0.74     0.77\n",
       "0       dsm_tpi         2       0.81    0.74     0.77\n",
       "2       rgb_dsm         2       0.81    0.74     0.77\n",
       "4      rgb_ndvi         2       0.81    0.74     0.77\n",
       "3  rgb_dsm_ndvi         3       0.81    0.74     0.77"
      ]
     },
     "execution_count": 25,
     "metadata": {},
     "output_type": "execute_result"
    }
   ],
   "source": [
    "df_bbox_gt_label_smry.round(2)"
   ]
  },
  {
   "cell_type": "code",
   "execution_count": 26,
   "id": "575f09c0-d8bb-43dc-b35c-ccd9c1be5e47",
   "metadata": {},
   "outputs": [
    {
     "data": {
      "text/plain": [
       "13"
      ]
     },
     "execution_count": 26,
     "metadata": {},
     "output_type": "execute_result"
    }
   ],
   "source": [
    "len(df_bbox_gt[df_bbox_gt['Digitize'] == 1]['Tile'].unique())"
   ]
  },
  {
   "cell_type": "code",
   "execution_count": 27,
   "id": "7f1fcb7b-d822-4ce8-af04-89526d0918eb",
   "metadata": {},
   "outputs": [
    {
     "data": {
      "text/html": [
       "<div>\n",
       "<style scoped>\n",
       "    .dataframe tbody tr th:only-of-type {\n",
       "        vertical-align: middle;\n",
       "    }\n",
       "\n",
       "    .dataframe tbody tr th {\n",
       "        vertical-align: top;\n",
       "    }\n",
       "\n",
       "    .dataframe thead th {\n",
       "        text-align: right;\n",
       "    }\n",
       "</style>\n",
       "<table border=\"1\" class=\"dataframe\">\n",
       "  <thead>\n",
       "    <tr style=\"text-align: right;\">\n",
       "      <th></th>\n",
       "      <th>inputs</th>\n",
       "      <th>n_inputs</th>\n",
       "      <th>Precision</th>\n",
       "      <th>Recall</th>\n",
       "      <th>F-score</th>\n",
       "    </tr>\n",
       "  </thead>\n",
       "  <tbody>\n",
       "    <tr>\n",
       "      <th>1</th>\n",
       "      <td>rgb</td>\n",
       "      <td>1</td>\n",
       "      <td>0.72</td>\n",
       "      <td>0.63</td>\n",
       "      <td>0.67</td>\n",
       "    </tr>\n",
       "    <tr>\n",
       "      <th>0</th>\n",
       "      <td>dsm_tpi</td>\n",
       "      <td>2</td>\n",
       "      <td>0.79</td>\n",
       "      <td>0.66</td>\n",
       "      <td>0.72</td>\n",
       "    </tr>\n",
       "    <tr>\n",
       "      <th>2</th>\n",
       "      <td>rgb_dsm</td>\n",
       "      <td>2</td>\n",
       "      <td>0.82</td>\n",
       "      <td>0.80</td>\n",
       "      <td>0.81</td>\n",
       "    </tr>\n",
       "    <tr>\n",
       "      <th>4</th>\n",
       "      <td>rgb_ndvi</td>\n",
       "      <td>2</td>\n",
       "      <td>0.71</td>\n",
       "      <td>0.57</td>\n",
       "      <td>0.64</td>\n",
       "    </tr>\n",
       "    <tr>\n",
       "      <th>3</th>\n",
       "      <td>rgb_dsm_ndvi</td>\n",
       "      <td>3</td>\n",
       "      <td>0.78</td>\n",
       "      <td>0.67</td>\n",
       "      <td>0.72</td>\n",
       "    </tr>\n",
       "  </tbody>\n",
       "</table>\n",
       "</div>"
      ],
      "text/plain": [
       "         inputs  n_inputs  Precision  Recall  F-score\n",
       "1           rgb         1       0.72    0.63     0.67\n",
       "0       dsm_tpi         2       0.79    0.66     0.72\n",
       "2       rgb_dsm         2       0.82    0.80     0.81\n",
       "4      rgb_ndvi         2       0.71    0.57     0.64\n",
       "3  rgb_dsm_ndvi         3       0.78    0.67     0.72"
      ]
     },
     "execution_count": 27,
     "metadata": {},
     "output_type": "execute_result"
    }
   ],
   "source": [
    "df_bbox_gt_pred_smry.round(2)"
   ]
  },
  {
   "cell_type": "code",
   "execution_count": null,
   "id": "6124adf0-fc44-44cf-83f0-66ec115dfc31",
   "metadata": {},
   "outputs": [],
   "source": []
  }
 ],
 "metadata": {
  "kernelspec": {
   "display_name": "Python 3 (ipykernel)",
   "language": "python",
   "name": "python3"
  },
  "language_info": {
   "codemirror_mode": {
    "name": "ipython",
    "version": 3
   },
   "file_extension": ".py",
   "mimetype": "text/x-python",
   "name": "python",
   "nbconvert_exporter": "python",
   "pygments_lexer": "ipython3",
   "version": "3.9.13"
  }
 },
 "nbformat": 4,
 "nbformat_minor": 5
}
