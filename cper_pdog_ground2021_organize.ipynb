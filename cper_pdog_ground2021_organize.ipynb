{
 "cells": [
  {
   "cell_type": "code",
   "execution_count": 1,
   "id": "c2c87139-91f5-4fd8-bcb4-a89ec5137383",
   "metadata": {},
   "outputs": [],
   "source": [
    "import geopandas as gpd\n",
    "import os\n",
    "import re\n",
    "from shapely.geometry import Polygon\n",
    "import numpy as np"
   ]
  },
  {
   "cell_type": "code",
   "execution_count": 2,
   "id": "6f59d41c-7048-4477-a315-62c8a0cbc724",
   "metadata": {},
   "outputs": [],
   "source": [
    "#inDIR = os.path.join('D:\\data\\ground\\pdog_UAS_2021\\Export')\n",
    "inDIR = '/mnt/d/CPER/data/vectors/Pdogs_UAS/'\n",
    "dirLIST = filter(os.path.isdir, [os.path.join(inDIR, f) for f in os.listdir(inDIR) if not 'OLD' in f and not 'NON' in f])\n",
    "dirLIST_old = filter(os.path.isdir, [os.path.join(inDIR, f) for f in os.listdir(inDIR) if 'OLD' in f and not 'NON' in f])\n",
    "dirLIST_non = filter(os.path.isdir, [os.path.join(inDIR, f) for f in os.listdir(inDIR) if 'NON' in f])\n",
    "pastLIST = ['22E', '22W', 'CN', '29-30', '5W']"
   ]
  },
  {
   "cell_type": "code",
   "execution_count": 3,
   "id": "2ab6f64e-1ed9-4748-94b3-6febd20fae36",
   "metadata": {},
   "outputs": [
    {
     "name": "stdout",
     "output_type": "stream",
     "text": [
      "/mnt/d/CPER/data/vectors/Pdogs_UAS/PDOG22E\n",
      "22E\n",
      "/mnt/d/CPER/data/vectors/Pdogs_UAS/PDOG22W\n",
      "22W\n",
      "/mnt/d/CPER/data/vectors/Pdogs_UAS/PDOG29-30A\n",
      "29-30\n",
      "/mnt/d/CPER/data/vectors/Pdogs_UAS/PDOG5W\n",
      "5W\n",
      "/mnt/d/CPER/data/vectors/Pdogs_UAS/PDOGCN1\n",
      "CN\n",
      "/mnt/d/CPER/data/vectors/Pdogs_UAS/PDOGCN2\n",
      "CN\n",
      "/mnt/d/CPER/data/vectors/Pdogs_UAS/PDOGCN3\n",
      "CN\n"
     ]
    }
   ],
   "source": [
    "for idx, f in enumerate(dirLIST):\n",
    "    cur_past = list(filter(lambda pasture: pasture in os.path.basename(f), pastLIST))[0]\n",
    "    print(f)\n",
    "    print(cur_past)\n",
    "    tmp_plys = gpd.read_file(os.path.join(f, 'Area_gen.shp'))\n",
    "    tmp_plys['Pasture'] = cur_past\n",
    "    tmp_pts = gpd.read_file(os.path.join(f, 'Point_ge.shp'))\n",
    "    tmp_pts['Pasture'] = cur_past\n",
    "    if idx == 0:\n",
    "        pdog_plys = tmp_plys\n",
    "        pdog_pts = tmp_pts\n",
    "    else:\n",
    "        pdog_plys = pdog_plys.append(tmp_plys)\n",
    "        pdog_pts = pdog_pts.append(tmp_pts)\n",
    "        \n",
    "pdog_pts['height'] = pdog_pts.apply(lambda x: next(iter(re.findall(r'(?<=h)\\d+', \n",
    "                                                                   str(x['Comment']))), None), axis=1).astype('float')\n",
    "pdog_pts['size'] = pdog_pts.apply(lambda x: next(iter(re.findall(r'(?<=s)\\d+', \n",
    "                                                                   str(x['Comment']))), None), axis=1).astype('float')\n",
    "pdog_pts['activity'] = pdog_pts.apply(lambda x: next(iter(re.findall(r'(?<=a)\\d+', \n",
    "                                                                   str(x['Comment']))), None), axis=1).astype('float')\n",
    "pdog_pts['vegetation'] = pdog_pts.apply(lambda x: next(iter(re.findall(r'(?<=v)\\d+', \n",
    "                                                                   str(x['Comment']))), None), axis=1).astype('float')\n",
    "pdog_pts['is_burrow'] = pdog_pts[['height', 'size', 'activity', 'vegetation']].notnull().all(axis=1).astype('int')\n",
    "\n",
    "pdog_plys.to_file(os.path.join(inDIR, 'cper_pdog_polys_2021Sept.shp'))\n",
    "pdog_pts.to_file(os.path.join(inDIR, 'cper_pdog_points_2021Sept.shp'))\n",
    "del(pdog_plys, pdog_pts)"
   ]
  },
  {
   "cell_type": "code",
   "execution_count": 4,
   "id": "ebe78eb4-a6eb-43fb-9c2c-8f6e8b47cb83",
   "metadata": {},
   "outputs": [
    {
     "name": "stdout",
     "output_type": "stream",
     "text": [
      "/mnt/d/CPER/data/vectors/Pdogs_UAS/OLD29-30\n",
      "29-30\n",
      "/mnt/d/CPER/data/vectors/Pdogs_UAS/OLD29-30B\n",
      "29-30\n",
      "/mnt/d/CPER/data/vectors/Pdogs_UAS/OLD5W\n",
      "5W\n"
     ]
    }
   ],
   "source": [
    "for idx, f in enumerate(dirLIST_old):\n",
    "    cur_past = list(filter(lambda pasture: pasture in os.path.basename(f), pastLIST))[0]\n",
    "    print(f)\n",
    "    print(cur_past)\n",
    "    tmp_plys = gpd.read_file(os.path.join(f, 'Area_gen.shp'))\n",
    "    tmp_plys['Pasture'] = cur_past\n",
    "    tmp_pts = gpd.read_file(os.path.join(f, 'Point_ge.shp'))\n",
    "    tmp_pts['Pasture'] = cur_past\n",
    "    if idx == 0:\n",
    "        pdog_plys = tmp_plys\n",
    "        pdog_pts = tmp_pts\n",
    "    else:\n",
    "        pdog_plys = pdog_plys.append(tmp_plys)\n",
    "        pdog_pts = pdog_pts.append(tmp_pts)\n",
    "        \n",
    "pdog_pts['height'] = pdog_pts.apply(lambda x: next(iter(re.findall(r'(?<=h)\\d+', \n",
    "                                                                   str(x['Comment']))), None), axis=1).astype('float')\n",
    "pdog_pts['size'] = pdog_pts.apply(lambda x: next(iter(re.findall(r'(?<=s)\\d+', \n",
    "                                                                   str(x['Comment']))), None), axis=1).astype('float')\n",
    "pdog_pts['activity'] = pdog_pts.apply(lambda x: next(iter(re.findall(r'(?<=a)\\d+', \n",
    "                                                                   str(x['Comment']))), None), axis=1).astype('float')\n",
    "pdog_pts['vegetation'] = pdog_pts.apply(lambda x: next(iter(re.findall(r'(?<=v)\\d+', \n",
    "                                                                   str(x['Comment']))), None), axis=1).astype('float')\n",
    "pdog_pts['is_burrow'] = pdog_pts[['height', 'size', 'activity', 'vegetation']].notnull().all(axis=1).astype('int')\n",
    "\n",
    "pdog_plys.to_file(os.path.join(inDIR, 'cper_pdog_polys_old_2021Sept.shp'))\n",
    "pdog_pts.to_file(os.path.join(inDIR, 'cper_pdog_points_old_2021Sept.shp'))\n",
    "del(pdog_plys, pdog_pts)"
   ]
  },
  {
   "cell_type": "code",
   "execution_count": 5,
   "id": "a9a33f69-81b9-4f91-bcbe-c84a6bb5ec83",
   "metadata": {},
   "outputs": [
    {
     "name": "stdout",
     "output_type": "stream",
     "text": [
      "/mnt/d/CPER/data/vectors/Pdogs_UAS/NONPDOG5W\n",
      "5W\n"
     ]
    }
   ],
   "source": [
    "for idx, f in enumerate(dirLIST_non):\n",
    "    cur_past = list(filter(lambda pasture: pasture in os.path.basename(f), pastLIST))[0]\n",
    "    print(f)\n",
    "    print(cur_past)\n",
    "    #tmp_plys = gpd.read_file(os.path.join(f, 'Area_gen.shp'))\n",
    "    #tmp_plys['Pasture'] = cur_past\n",
    "    tmp_pts = gpd.read_file(os.path.join(f, 'Point_ge.shp'))\n",
    "    tmp_pts['Pasture'] = cur_past\n",
    "    if idx == 0:\n",
    "        pdog_pts = tmp_pts\n",
    "        bbox = pdog_pts.total_bounds\n",
    "        pdog_plys = gpd.GeoDataFrame(data=dict(Comment=cur_past + '_non', Pasture=cur_past),\n",
    "                                     geometry=np.array([Polygon(((bbox[0], bbox[1]), (bbox[0], bbox[3]), \n",
    "                                                       (bbox[2], bbox[3]), (bbox[2], bbox[1])))]), index=[idx], crs=pdog_pts.crs)\n",
    "    else:\n",
    "        pdog_plys = pdog_plys.append(gpd.GeoDataFrame(data=dict(Comment=cur_past + '_non', Pasture=cur_past),\n",
    "                                     geometry=np.array([Polygon(((bbox[0], bbox[1]), (bbox[0], bbox[3]), \n",
    "                                                       (bbox[2], bbox[3]), (bbox[2], bbox[1])))]), index=[idx], crs=pdog_pts.crs))\n",
    "        pdog_pts = pdog_pts.append(tmp_pts)\n",
    "        \n",
    "pdog_pts['height'] = pdog_pts.apply(lambda x: next(iter(re.findall(r'(?<=h)\\d+', \n",
    "                                                                   str(x['Comment']))), None), axis=1).astype('float')\n",
    "pdog_pts['size'] = pdog_pts.apply(lambda x: next(iter(re.findall(r'(?<=s)\\d+', \n",
    "                                                                   str(x['Comment']))), None), axis=1).astype('float')\n",
    "pdog_pts['activity'] = pdog_pts.apply(lambda x: next(iter(re.findall(r'(?<=a)\\d+', \n",
    "                                                                   str(x['Comment']))), None), axis=1).astype('float')\n",
    "pdog_pts['vegetation'] = pdog_pts.apply(lambda x: next(iter(re.findall(r'(?<=v)\\d+', \n",
    "                                                                   str(x['Comment']))), None), axis=1).astype('float')\n",
    "pdog_pts['is_burrow'] = pdog_pts[['height', 'size', 'activity', 'vegetation']].notnull().all(axis=1).astype('int')\n",
    "\n",
    "\n",
    "\n",
    "pdog_plys.to_file(os.path.join(inDIR, 'cper_pdog_polys_non_2021Sept.shp'))\n",
    "pdog_pts.to_file(os.path.join(inDIR, 'cper_pdog_points_non_2021Sept.shp'))\n",
    "del(pdog_pts, pdog_plys)"
   ]
  },
  {
   "cell_type": "code",
   "execution_count": 27,
   "id": "a5f35b1e-13bb-49a5-8959-a24d75f81300",
   "metadata": {},
   "outputs": [],
   "source": [
    "\n"
   ]
  },
  {
   "cell_type": "code",
   "execution_count": 29,
   "id": "d355cdea-e053-40ce-a6dc-e5997f07237e",
   "metadata": {},
   "outputs": [
    {
     "data": {
      "text/plain": [
       "<Derived Projected CRS: EPSG:32613>\n",
       "Name: WGS 84 / UTM zone 13N\n",
       "Axis Info [cartesian]:\n",
       "- E[east]: Easting (metre)\n",
       "- N[north]: Northing (metre)\n",
       "Area of Use:\n",
       "- name: Between 108°W and 102°W, northern hemisphere between equator and 84°N, onshore and offshore. Canada - Northwest Territories (NWT); Nunavut; Saskatchewan. Mexico. United States (USA).\n",
       "- bounds: (-108.0, 0.0, -102.0, 84.0)\n",
       "Coordinate Operation:\n",
       "- name: UTM zone 13N\n",
       "- method: Transverse Mercator\n",
       "Datum: World Geodetic System 1984 ensemble\n",
       "- Ellipsoid: WGS 84\n",
       "- Prime Meridian: Greenwich"
      ]
     },
     "execution_count": 29,
     "metadata": {},
     "output_type": "execute_result"
    }
   ],
   "source": [
    "pdog_plys.crs"
   ]
  },
  {
   "cell_type": "code",
   "execution_count": 20,
   "id": "06edf64c-7db7-4a94-86b5-60cf554ae25f",
   "metadata": {},
   "outputs": [
    {
     "data": {
      "text/plain": [
       "['0', '1', '2', '2']"
      ]
     },
     "execution_count": 20,
     "metadata": {},
     "output_type": "execute_result"
    }
   ],
   "source": [
    "test = 'h0s1a2v2'\n",
    "re.findall(r'(?<=h)\\d+', test)"
   ]
  },
  {
   "cell_type": "code",
   "execution_count": 27,
   "id": "1cf1c1dd-727d-402f-b7f7-f1e849665b7b",
   "metadata": {},
   "outputs": [],
   "source": [
    "test = gpd.read_file(os.path.join(t, 'Area_gen.shp'))"
   ]
  },
  {
   "cell_type": "code",
   "execution_count": 53,
   "id": "4a08115e-5d5c-4744-8bbe-99a917b27152",
   "metadata": {},
   "outputs": [
    {
     "data": {
      "text/html": [
       "<div>\n",
       "<style scoped>\n",
       "    .dataframe tbody tr th:only-of-type {\n",
       "        vertical-align: middle;\n",
       "    }\n",
       "\n",
       "    .dataframe tbody tr th {\n",
       "        vertical-align: top;\n",
       "    }\n",
       "\n",
       "    .dataframe thead th {\n",
       "        text-align: right;\n",
       "    }\n",
       "</style>\n",
       "<table border=\"1\" class=\"dataframe\">\n",
       "  <thead>\n",
       "    <tr style=\"text-align: right;\">\n",
       "      <th></th>\n",
       "      <th>Comment</th>\n",
       "      <th>geometry</th>\n",
       "      <th>Pasture</th>\n",
       "      <th>height</th>\n",
       "      <th>size</th>\n",
       "      <th>activity</th>\n",
       "      <th>vegetation</th>\n",
       "      <th>pdog_burrow</th>\n",
       "    </tr>\n",
       "  </thead>\n",
       "  <tbody>\n",
       "    <tr>\n",
       "      <th>0</th>\n",
       "      <td>h0s1a2v2</td>\n",
       "      <td>POINT Z (520461.553 4518295.570 1620.810)</td>\n",
       "      <td>22E</td>\n",
       "      <td>0</td>\n",
       "      <td>1</td>\n",
       "      <td>2</td>\n",
       "      <td>2</td>\n",
       "      <td>1</td>\n",
       "    </tr>\n",
       "    <tr>\n",
       "      <th>1</th>\n",
       "      <td>h2s1a3v1</td>\n",
       "      <td>POINT Z (520452.430 4518297.281 1620.839)</td>\n",
       "      <td>22E</td>\n",
       "      <td>2</td>\n",
       "      <td>1</td>\n",
       "      <td>3</td>\n",
       "      <td>1</td>\n",
       "      <td>1</td>\n",
       "    </tr>\n",
       "    <tr>\n",
       "      <th>2</th>\n",
       "      <td>h0s0a1v2</td>\n",
       "      <td>POINT Z (520450.601 4518299.095 1620.966)</td>\n",
       "      <td>22E</td>\n",
       "      <td>0</td>\n",
       "      <td>0</td>\n",
       "      <td>1</td>\n",
       "      <td>2</td>\n",
       "      <td>1</td>\n",
       "    </tr>\n",
       "    <tr>\n",
       "      <th>3</th>\n",
       "      <td>h1s1a2v2</td>\n",
       "      <td>POINT Z (520443.890 4518293.633 1619.823)</td>\n",
       "      <td>22E</td>\n",
       "      <td>1</td>\n",
       "      <td>1</td>\n",
       "      <td>2</td>\n",
       "      <td>2</td>\n",
       "      <td>1</td>\n",
       "    </tr>\n",
       "    <tr>\n",
       "      <th>4</th>\n",
       "      <td>ant</td>\n",
       "      <td>POINT Z (520443.434 4518298.755 1620.893)</td>\n",
       "      <td>22E</td>\n",
       "      <td>None</td>\n",
       "      <td>None</td>\n",
       "      <td>None</td>\n",
       "      <td>None</td>\n",
       "      <td>0</td>\n",
       "    </tr>\n",
       "    <tr>\n",
       "      <th>...</th>\n",
       "      <td>...</td>\n",
       "      <td>...</td>\n",
       "      <td>...</td>\n",
       "      <td>...</td>\n",
       "      <td>...</td>\n",
       "      <td>...</td>\n",
       "      <td>...</td>\n",
       "      <td>...</td>\n",
       "    </tr>\n",
       "    <tr>\n",
       "      <th>35</th>\n",
       "      <td>h1s3a3v1</td>\n",
       "      <td>POINT Z (520075.050 4517535.015 1616.374)</td>\n",
       "      <td>CN</td>\n",
       "      <td>1</td>\n",
       "      <td>3</td>\n",
       "      <td>3</td>\n",
       "      <td>1</td>\n",
       "      <td>1</td>\n",
       "    </tr>\n",
       "    <tr>\n",
       "      <th>36</th>\n",
       "      <td>h1s2a2v1</td>\n",
       "      <td>POINT Z (520075.911 4517535.364 1616.321)</td>\n",
       "      <td>CN</td>\n",
       "      <td>1</td>\n",
       "      <td>2</td>\n",
       "      <td>2</td>\n",
       "      <td>1</td>\n",
       "      <td>1</td>\n",
       "    </tr>\n",
       "    <tr>\n",
       "      <th>37</th>\n",
       "      <td>h0s1a3v1</td>\n",
       "      <td>POINT Z (520066.330 4517525.920 1616.307)</td>\n",
       "      <td>CN</td>\n",
       "      <td>0</td>\n",
       "      <td>1</td>\n",
       "      <td>3</td>\n",
       "      <td>1</td>\n",
       "      <td>1</td>\n",
       "    </tr>\n",
       "    <tr>\n",
       "      <th>38</th>\n",
       "      <td>old</td>\n",
       "      <td>POINT Z (520065.516 4517513.276 1616.206)</td>\n",
       "      <td>CN</td>\n",
       "      <td>None</td>\n",
       "      <td>None</td>\n",
       "      <td>None</td>\n",
       "      <td>None</td>\n",
       "      <td>0</td>\n",
       "    </tr>\n",
       "    <tr>\n",
       "      <th>39</th>\n",
       "      <td>old</td>\n",
       "      <td>POINT Z (520066.413 4517505.406 1616.050)</td>\n",
       "      <td>CN</td>\n",
       "      <td>None</td>\n",
       "      <td>None</td>\n",
       "      <td>None</td>\n",
       "      <td>None</td>\n",
       "      <td>0</td>\n",
       "    </tr>\n",
       "  </tbody>\n",
       "</table>\n",
       "<p>260 rows × 8 columns</p>\n",
       "</div>"
      ],
      "text/plain": [
       "     Comment                                   geometry Pasture height  size  \\\n",
       "0   h0s1a2v2  POINT Z (520461.553 4518295.570 1620.810)     22E      0     1   \n",
       "1   h2s1a3v1  POINT Z (520452.430 4518297.281 1620.839)     22E      2     1   \n",
       "2   h0s0a1v2  POINT Z (520450.601 4518299.095 1620.966)     22E      0     0   \n",
       "3   h1s1a2v2  POINT Z (520443.890 4518293.633 1619.823)     22E      1     1   \n",
       "4        ant  POINT Z (520443.434 4518298.755 1620.893)     22E   None  None   \n",
       "..       ...                                        ...     ...    ...   ...   \n",
       "35  h1s3a3v1  POINT Z (520075.050 4517535.015 1616.374)      CN      1     3   \n",
       "36  h1s2a2v1  POINT Z (520075.911 4517535.364 1616.321)      CN      1     2   \n",
       "37  h0s1a3v1  POINT Z (520066.330 4517525.920 1616.307)      CN      0     1   \n",
       "38       old  POINT Z (520065.516 4517513.276 1616.206)      CN   None  None   \n",
       "39       old  POINT Z (520066.413 4517505.406 1616.050)      CN   None  None   \n",
       "\n",
       "   activity vegetation  pdog_burrow  \n",
       "0         2          2            1  \n",
       "1         3          1            1  \n",
       "2         1          2            1  \n",
       "3         2          2            1  \n",
       "4      None       None            0  \n",
       "..      ...        ...          ...  \n",
       "35        3          1            1  \n",
       "36        2          1            1  \n",
       "37        3          1            1  \n",
       "38     None       None            0  \n",
       "39     None       None            0  \n",
       "\n",
       "[260 rows x 8 columns]"
      ]
     },
     "execution_count": 53,
     "metadata": {},
     "output_type": "execute_result"
    }
   ],
   "source": [
    "pdog_pts"
   ]
  },
  {
   "cell_type": "code",
   "execution_count": 38,
   "id": "8cb047d6-18e2-4502-8a23-abc7ca451490",
   "metadata": {},
   "outputs": [
    {
     "data": {
      "text/plain": [
       "'CN'"
      ]
     },
     "execution_count": 38,
     "metadata": {},
     "output_type": "execute_result"
    }
   ],
   "source": [
    "next(filter(lambda pasture: pasture in os.path.basename(t), pastLIST))"
   ]
  },
  {
   "cell_type": "code",
   "execution_count": null,
   "id": "2a769111-eba2-43b3-9ccf-f0c0a899b9bc",
   "metadata": {},
   "outputs": [],
   "source": []
  }
 ],
 "metadata": {
  "kernelspec": {
   "display_name": "Python 3 (ipykernel)",
   "language": "python",
   "name": "python3"
  },
  "language_info": {
   "codemirror_mode": {
    "name": "ipython",
    "version": 3
   },
   "file_extension": ".py",
   "mimetype": "text/x-python",
   "name": "python",
   "nbconvert_exporter": "python",
   "pygments_lexer": "ipython3",
   "version": "3.9.9"
  }
 },
 "nbformat": 4,
 "nbformat_minor": 5
}
