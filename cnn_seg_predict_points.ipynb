{
 "cells": [
  {
   "cell_type": "code",
   "execution_count": 1,
   "id": "9e2bd11b-adb7-44d3-a1a9-137a83606ab5",
   "metadata": {},
   "outputs": [],
   "source": [
    "from shapely.geometry import Polygon, Point\n",
    "import itertools\n",
    "import geopandas as gpd\n",
    "import pandas as pd\n",
    "import rasterio as rio\n",
    "from rasterio.features import rasterize\n",
    "from rasterio import mask\n",
    "from rasterio.plot import show\n",
    "from rasterio.enums import Resampling\n",
    "import matplotlib.pyplot as plt\n",
    "from skimage.measure import label, regionprops\n",
    "import torch.nn as nn\n",
    "import numpy as np\n",
    "import shapely.wkt as wkt\n",
    "import torch\n",
    "import segmentation_models_pytorch as smp\n",
    "from segmentation_models_pytorch import utils\n",
    "from tqdm import tqdm\n",
    "from skimage.measure import label, regionprops\n",
    "import os\n",
    "import dask\n",
    "import time\n",
    "import gc\n",
    "import re\n",
    "from rioxarray.exceptions import NoDataInBounds\n",
    "from rioxarray.merge import merge_arrays\n",
    "from scipy.interpolate import NearestNDInterpolator"
   ]
  },
  {
   "cell_type": "code",
   "execution_count": 2,
   "id": "aa0f21d8-4da6-493f-8aef-c6deed579977",
   "metadata": {},
   "outputs": [
    {
     "data": {
      "text/plain": [
       "<dask.config.set at 0x7fea68511880>"
      ]
     },
     "execution_count": 2,
     "metadata": {},
     "output_type": "execute_result"
    }
   ],
   "source": [
    "import distributed\n",
    "dask.config.set({\"distributed.nanny.environ.MALLOC_TRIM_THRESHOLD_\": 0})\n",
    "dask.config.set(scheduler='processes')"
   ]
  },
  {
   "cell_type": "code",
   "execution_count": 3,
   "id": "2e85d291-0187-49a8-8933-6b50f0dad9a5",
   "metadata": {},
   "outputs": [
    {
     "name": "stdout",
     "output_type": "stream",
     "text": [
      "0\n"
     ]
    }
   ],
   "source": [
    "import ctypes\n",
    "\n",
    "def trim_memory() -> int:\n",
    "    libc = ctypes.CDLL(\"libc.so.6\")\n",
    "    return libc.malloc_trim(0)\n",
    "\n",
    "os.environ[\"MALLOC_TRIM_THRESHOLD_\"] = str(dask.config.get(\"distributed.nanny.environ.MALLOC_TRIM_THRESHOLD_\"))\n",
    "\n",
    "print(os.environ[\"MALLOC_TRIM_THRESHOLD_\"])\n",
    "\n",
    "#os.environ[\"MALLOC_TRIM_THRESHOLD_\"] = '0'"
   ]
  },
  {
   "cell_type": "code",
   "execution_count": 4,
   "id": "ea00fa48-5d5e-4a18-a5f5-a5f4c338d448",
   "metadata": {},
   "outputs": [],
   "source": [
    "import xarray as xr\n",
    "import rioxarray as riox\n",
    "from xrspatial import convolution, focal, hillshade\n",
    "from skimage.transform import resize\n",
    "from dask.distributed import LocalCluster, Client"
   ]
  },
  {
   "cell_type": "code",
   "execution_count": 5,
   "id": "f0d6c4e7-b288-4279-826d-39975e5db58c",
   "metadata": {},
   "outputs": [
    {
     "name": "stderr",
     "output_type": "stream",
     "text": [
      "distributed.diskutils - INFO - Found stale lock file and directory '/mnt/c/Users/TBGPEA-Sean/git_repos/cper_pdog_uas/dask-worker-space/worker-2gy_72u4', purging\n",
      "distributed.diskutils - INFO - Found stale lock file and directory '/mnt/c/Users/TBGPEA-Sean/git_repos/cper_pdog_uas/dask-worker-space/worker-by_xte4m', purging\n",
      "distributed.diskutils - INFO - Found stale lock file and directory '/mnt/c/Users/TBGPEA-Sean/git_repos/cper_pdog_uas/dask-worker-space/worker-cqeem8vm', purging\n",
      "distributed.diskutils - INFO - Found stale lock file and directory '/mnt/c/Users/TBGPEA-Sean/git_repos/cper_pdog_uas/dask-worker-space/worker-ehp6i884', purging\n",
      "distributed.diskutils - INFO - Found stale lock file and directory '/mnt/c/Users/TBGPEA-Sean/git_repos/cper_pdog_uas/dask-worker-space/worker-fu2p0ghh', purging\n",
      "distributed.diskutils - INFO - Found stale lock file and directory '/mnt/c/Users/TBGPEA-Sean/git_repos/cper_pdog_uas/dask-worker-space/worker-j9uk7scn', purging\n",
      "distributed.diskutils - INFO - Found stale lock file and directory '/mnt/c/Users/TBGPEA-Sean/git_repos/cper_pdog_uas/dask-worker-space/worker-zyixshgs', purging\n"
     ]
    },
    {
     "data": {
      "text/html": [
       "<div>\n",
       "    <div style=\"width: 24px; height: 24px; background-color: #e1e1e1; border: 3px solid #9D9D9D; border-radius: 5px; position: absolute;\"> </div>\n",
       "    <div style=\"margin-left: 48px;\">\n",
       "        <h3 style=\"margin-bottom: 0px;\">Client</h3>\n",
       "        <p style=\"color: #9D9D9D; margin-bottom: 0px;\">Client-2495ab09-43f6-11ed-b35c-00155d709d7c</p>\n",
       "        <table style=\"width: 100%; text-align: left;\">\n",
       "\n",
       "        <tr>\n",
       "        \n",
       "            <td style=\"text-align: left;\"><strong>Connection method:</strong> Cluster object</td>\n",
       "            <td style=\"text-align: left;\"><strong>Cluster type:</strong> distributed.LocalCluster</td>\n",
       "        \n",
       "        </tr>\n",
       "\n",
       "        \n",
       "            <tr>\n",
       "                <td style=\"text-align: left;\">\n",
       "                    <strong>Dashboard: </strong> <a href=\"http://127.0.0.1:8787/status\" target=\"_blank\">http://127.0.0.1:8787/status</a>\n",
       "                </td>\n",
       "                <td style=\"text-align: left;\"></td>\n",
       "            </tr>\n",
       "        \n",
       "\n",
       "        </table>\n",
       "\n",
       "        \n",
       "            <details>\n",
       "            <summary style=\"margin-bottom: 20px;\"><h3 style=\"display: inline;\">Cluster Info</h3></summary>\n",
       "            <div class=\"jp-RenderedHTMLCommon jp-RenderedHTML jp-mod-trusted jp-OutputArea-output\">\n",
       "    <div style=\"width: 24px; height: 24px; background-color: #e1e1e1; border: 3px solid #9D9D9D; border-radius: 5px; position: absolute;\">\n",
       "    </div>\n",
       "    <div style=\"margin-left: 48px;\">\n",
       "        <h3 style=\"margin-bottom: 0px; margin-top: 0px;\">LocalCluster</h3>\n",
       "        <p style=\"color: #9D9D9D; margin-bottom: 0px;\">380d5e99</p>\n",
       "        <table style=\"width: 100%; text-align: left;\">\n",
       "            <tr>\n",
       "                <td style=\"text-align: left;\">\n",
       "                    <strong>Dashboard:</strong> <a href=\"http://127.0.0.1:8787/status\" target=\"_blank\">http://127.0.0.1:8787/status</a>\n",
       "                </td>\n",
       "                <td style=\"text-align: left;\">\n",
       "                    <strong>Workers:</strong> 8\n",
       "                </td>\n",
       "            </tr>\n",
       "            <tr>\n",
       "                <td style=\"text-align: left;\">\n",
       "                    <strong>Total threads:</strong> 16\n",
       "                </td>\n",
       "                <td style=\"text-align: left;\">\n",
       "                    <strong>Total memory:</strong> 15.49 GiB\n",
       "                </td>\n",
       "            </tr>\n",
       "            \n",
       "            <tr>\n",
       "    <td style=\"text-align: left;\"><strong>Status:</strong> running</td>\n",
       "    <td style=\"text-align: left;\"><strong>Using processes:</strong> True</td>\n",
       "</tr>\n",
       "\n",
       "            \n",
       "        </table>\n",
       "\n",
       "        <details>\n",
       "            <summary style=\"margin-bottom: 20px;\">\n",
       "                <h3 style=\"display: inline;\">Scheduler Info</h3>\n",
       "            </summary>\n",
       "\n",
       "            <div style=\"\">\n",
       "    <div>\n",
       "        <div style=\"width: 24px; height: 24px; background-color: #FFF7E5; border: 3px solid #FF6132; border-radius: 5px; position: absolute;\"> </div>\n",
       "        <div style=\"margin-left: 48px;\">\n",
       "            <h3 style=\"margin-bottom: 0px;\">Scheduler</h3>\n",
       "            <p style=\"color: #9D9D9D; margin-bottom: 0px;\">Scheduler-ed8cd19c-1c7e-421f-bf71-2cc33bc3f8ff</p>\n",
       "            <table style=\"width: 100%; text-align: left;\">\n",
       "                <tr>\n",
       "                    <td style=\"text-align: left;\">\n",
       "                        <strong>Comm:</strong> tcp://127.0.0.1:36333\n",
       "                    </td>\n",
       "                    <td style=\"text-align: left;\">\n",
       "                        <strong>Workers:</strong> 8\n",
       "                    </td>\n",
       "                </tr>\n",
       "                <tr>\n",
       "                    <td style=\"text-align: left;\">\n",
       "                        <strong>Dashboard:</strong> <a href=\"http://127.0.0.1:8787/status\" target=\"_blank\">http://127.0.0.1:8787/status</a>\n",
       "                    </td>\n",
       "                    <td style=\"text-align: left;\">\n",
       "                        <strong>Total threads:</strong> 16\n",
       "                    </td>\n",
       "                </tr>\n",
       "                <tr>\n",
       "                    <td style=\"text-align: left;\">\n",
       "                        <strong>Started:</strong> Just now\n",
       "                    </td>\n",
       "                    <td style=\"text-align: left;\">\n",
       "                        <strong>Total memory:</strong> 15.49 GiB\n",
       "                    </td>\n",
       "                </tr>\n",
       "            </table>\n",
       "        </div>\n",
       "    </div>\n",
       "\n",
       "    <details style=\"margin-left: 48px;\">\n",
       "        <summary style=\"margin-bottom: 20px;\">\n",
       "            <h3 style=\"display: inline;\">Workers</h3>\n",
       "        </summary>\n",
       "\n",
       "        \n",
       "        <div style=\"margin-bottom: 20px;\">\n",
       "            <div style=\"width: 24px; height: 24px; background-color: #DBF5FF; border: 3px solid #4CC9FF; border-radius: 5px; position: absolute;\"> </div>\n",
       "            <div style=\"margin-left: 48px;\">\n",
       "            <details>\n",
       "                <summary>\n",
       "                    <h4 style=\"margin-bottom: 0px; display: inline;\">Worker: 0</h4>\n",
       "                </summary>\n",
       "                <table style=\"width: 100%; text-align: left;\">\n",
       "                    <tr>\n",
       "                        <td style=\"text-align: left;\">\n",
       "                            <strong>Comm: </strong> tcp://127.0.0.1:33637\n",
       "                        </td>\n",
       "                        <td style=\"text-align: left;\">\n",
       "                            <strong>Total threads: </strong> 2\n",
       "                        </td>\n",
       "                    </tr>\n",
       "                    <tr>\n",
       "                        <td style=\"text-align: left;\">\n",
       "                            <strong>Dashboard: </strong> <a href=\"http://127.0.0.1:35317/status\" target=\"_blank\">http://127.0.0.1:35317/status</a>\n",
       "                        </td>\n",
       "                        <td style=\"text-align: left;\">\n",
       "                            <strong>Memory: </strong> 1.94 GiB\n",
       "                        </td>\n",
       "                    </tr>\n",
       "                    <tr>\n",
       "                        <td style=\"text-align: left;\">\n",
       "                            <strong>Nanny: </strong> tcp://127.0.0.1:44005\n",
       "                        </td>\n",
       "                        <td style=\"text-align: left;\"></td>\n",
       "                    </tr>\n",
       "                    <tr>\n",
       "                        <td colspan=\"2\" style=\"text-align: left;\">\n",
       "                            <strong>Local directory: </strong> /mnt/c/Users/TBGPEA-Sean/git_repos/cper_pdog_uas/dask-worker-space/worker-jrdwt24k\n",
       "                        </td>\n",
       "                    </tr>\n",
       "\n",
       "                    \n",
       "\n",
       "                    \n",
       "\n",
       "                </table>\n",
       "            </details>\n",
       "            </div>\n",
       "        </div>\n",
       "        \n",
       "        <div style=\"margin-bottom: 20px;\">\n",
       "            <div style=\"width: 24px; height: 24px; background-color: #DBF5FF; border: 3px solid #4CC9FF; border-radius: 5px; position: absolute;\"> </div>\n",
       "            <div style=\"margin-left: 48px;\">\n",
       "            <details>\n",
       "                <summary>\n",
       "                    <h4 style=\"margin-bottom: 0px; display: inline;\">Worker: 1</h4>\n",
       "                </summary>\n",
       "                <table style=\"width: 100%; text-align: left;\">\n",
       "                    <tr>\n",
       "                        <td style=\"text-align: left;\">\n",
       "                            <strong>Comm: </strong> tcp://127.0.0.1:34509\n",
       "                        </td>\n",
       "                        <td style=\"text-align: left;\">\n",
       "                            <strong>Total threads: </strong> 2\n",
       "                        </td>\n",
       "                    </tr>\n",
       "                    <tr>\n",
       "                        <td style=\"text-align: left;\">\n",
       "                            <strong>Dashboard: </strong> <a href=\"http://127.0.0.1:38617/status\" target=\"_blank\">http://127.0.0.1:38617/status</a>\n",
       "                        </td>\n",
       "                        <td style=\"text-align: left;\">\n",
       "                            <strong>Memory: </strong> 1.94 GiB\n",
       "                        </td>\n",
       "                    </tr>\n",
       "                    <tr>\n",
       "                        <td style=\"text-align: left;\">\n",
       "                            <strong>Nanny: </strong> tcp://127.0.0.1:35345\n",
       "                        </td>\n",
       "                        <td style=\"text-align: left;\"></td>\n",
       "                    </tr>\n",
       "                    <tr>\n",
       "                        <td colspan=\"2\" style=\"text-align: left;\">\n",
       "                            <strong>Local directory: </strong> /mnt/c/Users/TBGPEA-Sean/git_repos/cper_pdog_uas/dask-worker-space/worker-vajce9_e\n",
       "                        </td>\n",
       "                    </tr>\n",
       "\n",
       "                    \n",
       "\n",
       "                    \n",
       "\n",
       "                </table>\n",
       "            </details>\n",
       "            </div>\n",
       "        </div>\n",
       "        \n",
       "        <div style=\"margin-bottom: 20px;\">\n",
       "            <div style=\"width: 24px; height: 24px; background-color: #DBF5FF; border: 3px solid #4CC9FF; border-radius: 5px; position: absolute;\"> </div>\n",
       "            <div style=\"margin-left: 48px;\">\n",
       "            <details>\n",
       "                <summary>\n",
       "                    <h4 style=\"margin-bottom: 0px; display: inline;\">Worker: 2</h4>\n",
       "                </summary>\n",
       "                <table style=\"width: 100%; text-align: left;\">\n",
       "                    <tr>\n",
       "                        <td style=\"text-align: left;\">\n",
       "                            <strong>Comm: </strong> tcp://127.0.0.1:41501\n",
       "                        </td>\n",
       "                        <td style=\"text-align: left;\">\n",
       "                            <strong>Total threads: </strong> 2\n",
       "                        </td>\n",
       "                    </tr>\n",
       "                    <tr>\n",
       "                        <td style=\"text-align: left;\">\n",
       "                            <strong>Dashboard: </strong> <a href=\"http://127.0.0.1:45007/status\" target=\"_blank\">http://127.0.0.1:45007/status</a>\n",
       "                        </td>\n",
       "                        <td style=\"text-align: left;\">\n",
       "                            <strong>Memory: </strong> 1.94 GiB\n",
       "                        </td>\n",
       "                    </tr>\n",
       "                    <tr>\n",
       "                        <td style=\"text-align: left;\">\n",
       "                            <strong>Nanny: </strong> tcp://127.0.0.1:43095\n",
       "                        </td>\n",
       "                        <td style=\"text-align: left;\"></td>\n",
       "                    </tr>\n",
       "                    <tr>\n",
       "                        <td colspan=\"2\" style=\"text-align: left;\">\n",
       "                            <strong>Local directory: </strong> /mnt/c/Users/TBGPEA-Sean/git_repos/cper_pdog_uas/dask-worker-space/worker-fntm27ux\n",
       "                        </td>\n",
       "                    </tr>\n",
       "\n",
       "                    \n",
       "\n",
       "                    \n",
       "\n",
       "                </table>\n",
       "            </details>\n",
       "            </div>\n",
       "        </div>\n",
       "        \n",
       "        <div style=\"margin-bottom: 20px;\">\n",
       "            <div style=\"width: 24px; height: 24px; background-color: #DBF5FF; border: 3px solid #4CC9FF; border-radius: 5px; position: absolute;\"> </div>\n",
       "            <div style=\"margin-left: 48px;\">\n",
       "            <details>\n",
       "                <summary>\n",
       "                    <h4 style=\"margin-bottom: 0px; display: inline;\">Worker: 3</h4>\n",
       "                </summary>\n",
       "                <table style=\"width: 100%; text-align: left;\">\n",
       "                    <tr>\n",
       "                        <td style=\"text-align: left;\">\n",
       "                            <strong>Comm: </strong> tcp://127.0.0.1:45743\n",
       "                        </td>\n",
       "                        <td style=\"text-align: left;\">\n",
       "                            <strong>Total threads: </strong> 2\n",
       "                        </td>\n",
       "                    </tr>\n",
       "                    <tr>\n",
       "                        <td style=\"text-align: left;\">\n",
       "                            <strong>Dashboard: </strong> <a href=\"http://127.0.0.1:35855/status\" target=\"_blank\">http://127.0.0.1:35855/status</a>\n",
       "                        </td>\n",
       "                        <td style=\"text-align: left;\">\n",
       "                            <strong>Memory: </strong> 1.94 GiB\n",
       "                        </td>\n",
       "                    </tr>\n",
       "                    <tr>\n",
       "                        <td style=\"text-align: left;\">\n",
       "                            <strong>Nanny: </strong> tcp://127.0.0.1:42081\n",
       "                        </td>\n",
       "                        <td style=\"text-align: left;\"></td>\n",
       "                    </tr>\n",
       "                    <tr>\n",
       "                        <td colspan=\"2\" style=\"text-align: left;\">\n",
       "                            <strong>Local directory: </strong> /mnt/c/Users/TBGPEA-Sean/git_repos/cper_pdog_uas/dask-worker-space/worker-ljvsfkqr\n",
       "                        </td>\n",
       "                    </tr>\n",
       "\n",
       "                    \n",
       "\n",
       "                    \n",
       "\n",
       "                </table>\n",
       "            </details>\n",
       "            </div>\n",
       "        </div>\n",
       "        \n",
       "        <div style=\"margin-bottom: 20px;\">\n",
       "            <div style=\"width: 24px; height: 24px; background-color: #DBF5FF; border: 3px solid #4CC9FF; border-radius: 5px; position: absolute;\"> </div>\n",
       "            <div style=\"margin-left: 48px;\">\n",
       "            <details>\n",
       "                <summary>\n",
       "                    <h4 style=\"margin-bottom: 0px; display: inline;\">Worker: 4</h4>\n",
       "                </summary>\n",
       "                <table style=\"width: 100%; text-align: left;\">\n",
       "                    <tr>\n",
       "                        <td style=\"text-align: left;\">\n",
       "                            <strong>Comm: </strong> tcp://127.0.0.1:44633\n",
       "                        </td>\n",
       "                        <td style=\"text-align: left;\">\n",
       "                            <strong>Total threads: </strong> 2\n",
       "                        </td>\n",
       "                    </tr>\n",
       "                    <tr>\n",
       "                        <td style=\"text-align: left;\">\n",
       "                            <strong>Dashboard: </strong> <a href=\"http://127.0.0.1:42971/status\" target=\"_blank\">http://127.0.0.1:42971/status</a>\n",
       "                        </td>\n",
       "                        <td style=\"text-align: left;\">\n",
       "                            <strong>Memory: </strong> 1.94 GiB\n",
       "                        </td>\n",
       "                    </tr>\n",
       "                    <tr>\n",
       "                        <td style=\"text-align: left;\">\n",
       "                            <strong>Nanny: </strong> tcp://127.0.0.1:33545\n",
       "                        </td>\n",
       "                        <td style=\"text-align: left;\"></td>\n",
       "                    </tr>\n",
       "                    <tr>\n",
       "                        <td colspan=\"2\" style=\"text-align: left;\">\n",
       "                            <strong>Local directory: </strong> /mnt/c/Users/TBGPEA-Sean/git_repos/cper_pdog_uas/dask-worker-space/worker-z23dg2mk\n",
       "                        </td>\n",
       "                    </tr>\n",
       "\n",
       "                    \n",
       "\n",
       "                    \n",
       "\n",
       "                </table>\n",
       "            </details>\n",
       "            </div>\n",
       "        </div>\n",
       "        \n",
       "        <div style=\"margin-bottom: 20px;\">\n",
       "            <div style=\"width: 24px; height: 24px; background-color: #DBF5FF; border: 3px solid #4CC9FF; border-radius: 5px; position: absolute;\"> </div>\n",
       "            <div style=\"margin-left: 48px;\">\n",
       "            <details>\n",
       "                <summary>\n",
       "                    <h4 style=\"margin-bottom: 0px; display: inline;\">Worker: 5</h4>\n",
       "                </summary>\n",
       "                <table style=\"width: 100%; text-align: left;\">\n",
       "                    <tr>\n",
       "                        <td style=\"text-align: left;\">\n",
       "                            <strong>Comm: </strong> tcp://127.0.0.1:46323\n",
       "                        </td>\n",
       "                        <td style=\"text-align: left;\">\n",
       "                            <strong>Total threads: </strong> 2\n",
       "                        </td>\n",
       "                    </tr>\n",
       "                    <tr>\n",
       "                        <td style=\"text-align: left;\">\n",
       "                            <strong>Dashboard: </strong> <a href=\"http://127.0.0.1:42233/status\" target=\"_blank\">http://127.0.0.1:42233/status</a>\n",
       "                        </td>\n",
       "                        <td style=\"text-align: left;\">\n",
       "                            <strong>Memory: </strong> 1.94 GiB\n",
       "                        </td>\n",
       "                    </tr>\n",
       "                    <tr>\n",
       "                        <td style=\"text-align: left;\">\n",
       "                            <strong>Nanny: </strong> tcp://127.0.0.1:38085\n",
       "                        </td>\n",
       "                        <td style=\"text-align: left;\"></td>\n",
       "                    </tr>\n",
       "                    <tr>\n",
       "                        <td colspan=\"2\" style=\"text-align: left;\">\n",
       "                            <strong>Local directory: </strong> /mnt/c/Users/TBGPEA-Sean/git_repos/cper_pdog_uas/dask-worker-space/worker-q2q720ys\n",
       "                        </td>\n",
       "                    </tr>\n",
       "\n",
       "                    \n",
       "\n",
       "                    \n",
       "\n",
       "                </table>\n",
       "            </details>\n",
       "            </div>\n",
       "        </div>\n",
       "        \n",
       "        <div style=\"margin-bottom: 20px;\">\n",
       "            <div style=\"width: 24px; height: 24px; background-color: #DBF5FF; border: 3px solid #4CC9FF; border-radius: 5px; position: absolute;\"> </div>\n",
       "            <div style=\"margin-left: 48px;\">\n",
       "            <details>\n",
       "                <summary>\n",
       "                    <h4 style=\"margin-bottom: 0px; display: inline;\">Worker: 6</h4>\n",
       "                </summary>\n",
       "                <table style=\"width: 100%; text-align: left;\">\n",
       "                    <tr>\n",
       "                        <td style=\"text-align: left;\">\n",
       "                            <strong>Comm: </strong> tcp://127.0.0.1:45899\n",
       "                        </td>\n",
       "                        <td style=\"text-align: left;\">\n",
       "                            <strong>Total threads: </strong> 2\n",
       "                        </td>\n",
       "                    </tr>\n",
       "                    <tr>\n",
       "                        <td style=\"text-align: left;\">\n",
       "                            <strong>Dashboard: </strong> <a href=\"http://127.0.0.1:35585/status\" target=\"_blank\">http://127.0.0.1:35585/status</a>\n",
       "                        </td>\n",
       "                        <td style=\"text-align: left;\">\n",
       "                            <strong>Memory: </strong> 1.94 GiB\n",
       "                        </td>\n",
       "                    </tr>\n",
       "                    <tr>\n",
       "                        <td style=\"text-align: left;\">\n",
       "                            <strong>Nanny: </strong> tcp://127.0.0.1:37703\n",
       "                        </td>\n",
       "                        <td style=\"text-align: left;\"></td>\n",
       "                    </tr>\n",
       "                    <tr>\n",
       "                        <td colspan=\"2\" style=\"text-align: left;\">\n",
       "                            <strong>Local directory: </strong> /mnt/c/Users/TBGPEA-Sean/git_repos/cper_pdog_uas/dask-worker-space/worker-rmv6xgwz\n",
       "                        </td>\n",
       "                    </tr>\n",
       "\n",
       "                    \n",
       "\n",
       "                    \n",
       "\n",
       "                </table>\n",
       "            </details>\n",
       "            </div>\n",
       "        </div>\n",
       "        \n",
       "        <div style=\"margin-bottom: 20px;\">\n",
       "            <div style=\"width: 24px; height: 24px; background-color: #DBF5FF; border: 3px solid #4CC9FF; border-radius: 5px; position: absolute;\"> </div>\n",
       "            <div style=\"margin-left: 48px;\">\n",
       "            <details>\n",
       "                <summary>\n",
       "                    <h4 style=\"margin-bottom: 0px; display: inline;\">Worker: 7</h4>\n",
       "                </summary>\n",
       "                <table style=\"width: 100%; text-align: left;\">\n",
       "                    <tr>\n",
       "                        <td style=\"text-align: left;\">\n",
       "                            <strong>Comm: </strong> tcp://127.0.0.1:34795\n",
       "                        </td>\n",
       "                        <td style=\"text-align: left;\">\n",
       "                            <strong>Total threads: </strong> 2\n",
       "                        </td>\n",
       "                    </tr>\n",
       "                    <tr>\n",
       "                        <td style=\"text-align: left;\">\n",
       "                            <strong>Dashboard: </strong> <a href=\"http://127.0.0.1:34707/status\" target=\"_blank\">http://127.0.0.1:34707/status</a>\n",
       "                        </td>\n",
       "                        <td style=\"text-align: left;\">\n",
       "                            <strong>Memory: </strong> 1.94 GiB\n",
       "                        </td>\n",
       "                    </tr>\n",
       "                    <tr>\n",
       "                        <td style=\"text-align: left;\">\n",
       "                            <strong>Nanny: </strong> tcp://127.0.0.1:43195\n",
       "                        </td>\n",
       "                        <td style=\"text-align: left;\"></td>\n",
       "                    </tr>\n",
       "                    <tr>\n",
       "                        <td colspan=\"2\" style=\"text-align: left;\">\n",
       "                            <strong>Local directory: </strong> /mnt/c/Users/TBGPEA-Sean/git_repos/cper_pdog_uas/dask-worker-space/worker-az90kn18\n",
       "                        </td>\n",
       "                    </tr>\n",
       "\n",
       "                    \n",
       "\n",
       "                    \n",
       "\n",
       "                </table>\n",
       "            </details>\n",
       "            </div>\n",
       "        </div>\n",
       "        \n",
       "\n",
       "    </details>\n",
       "</div>\n",
       "\n",
       "        </details>\n",
       "    </div>\n",
       "</div>\n",
       "            </details>\n",
       "        \n",
       "\n",
       "    </div>\n",
       "</div>"
      ],
      "text/plain": [
       "<Client: 'tcp://127.0.0.1:36333' processes=8 threads=16, memory=15.49 GiB>"
      ]
     },
     "metadata": {},
     "output_type": "display_data"
    }
   ],
   "source": [
    "cluster = LocalCluster(n_workers=8, threads_per_worker=2, processes=True)\n",
    "client = Client(cluster)\n",
    "client.amm.start()\n",
    "display(client)"
   ]
  },
  {
   "cell_type": "code",
   "execution_count": 6,
   "id": "8f525e70-71fa-4741-985d-96ff430aeb82",
   "metadata": {},
   "outputs": [],
   "source": [
    "# create function to normalize all data in range 0-1\n",
    "def normalize_fn(image, image_suffix, stats_dict):\n",
    "    if image_suffix in stats_dict.keys():\n",
    "        min_tmp = stats_dict[image_suffix]['min']\n",
    "        max_tmp = stats_dict[image_suffix]['max']\n",
    "    else:\n",
    "        # normalize to individual image if min/max stats not specified in dictionary\n",
    "        min_tmp = np.min(image)\n",
    "        max_tmp = np.max(image)\n",
    "    return (image - min_tmp) / (max_tmp - min_tmp)\n",
    "\n",
    "def calc_tpi(dtm, inner_r, outer_r, interpolate=True, values=True, bounds=(-2.0, 2.0)):\n",
    "    cellsize_x, cellsize_y = convolution.calc_cellsize(dtm)\n",
    "    kernel = convolution.annulus_kernel(cellsize_x, cellsize_y, outer_r, inner_r)\n",
    "    tpi = dtm - focal.apply(dtm, kernel)\n",
    "    tpi = tpi.rio.write_nodata(-9999.)\n",
    "    tpi = tpi.where((tpi > bounds[0]) & (tpi < bounds[1]))\n",
    "    if interpolate:\n",
    "        if tpi.isnull().any().values:\n",
    "            tpi = tpi.rio.interpolate_na(method='nearest')\n",
    "    if values:\n",
    "        return tpi.values\n",
    "    else:\n",
    "        return tpi\n",
    "\n",
    "def calc_ndvi(ms, interpolate=True, values=True):\n",
    "    ndvi = (ms.sel(band=4).astype('float32') - ms.sel(band=3).astype('float32'))\\\n",
    "            / (ms.sel(band=4).astype('float32') + ms.sel(band=3).astype('float32'))\n",
    "    if interpolate:\n",
    "        if ndvi.isnull().any().values:\n",
    "            ndvi = ndvi.rio.interpolate_na(method='nearest')\n",
    "    if values:\n",
    "        return ndvi.values\n",
    "    else:\n",
    "        return ndvi"
   ]
  },
  {
   "cell_type": "code",
   "execution_count": 7,
   "id": "a1f35503-1a23-405a-b4db-0ccd6bf58e62",
   "metadata": {},
   "outputs": [],
   "source": [
    "from collections import namedtuple\n",
    "from operator import mul\n",
    "\n",
    "try:\n",
    "    reduce = reduce\n",
    "except NameError:\n",
    "    from functools import reduce # py3k\n",
    "\n",
    "Info = namedtuple('Info', 'start height')\n",
    "\n",
    "def max_size(mat, value=0):\n",
    "    \"\"\"Find height, width of the largest rectangle containing all `value`'s.\n",
    "    For each row solve \"Largest Rectangle in a Histrogram\" problem [1]:\n",
    "    [1]: http://blog.csdn.net/arbuckle/archive/2006/05/06/710988.aspx\n",
    "    \"\"\"\n",
    "    it = iter(mat)\n",
    "    hist = [(el==value) for el in next(it, [])]\n",
    "    max_size = max_rectangle_size(hist)\n",
    "    for row in it:\n",
    "        hist = [(1+h) if el == value else 0 for h, el in zip(hist, row)]\n",
    "        max_size = max(max_size, max_rectangle_size(hist), key=area)\n",
    "    return max_size\n",
    "\n",
    "def max_rectangle_size(histogram):\n",
    "    \"\"\"Find height, width of the largest rectangle that fits entirely under\n",
    "    the histogram.\n",
    "    >>> f = max_rectangle_size\n",
    "    >>> f([5,3,1])\n",
    "    (3, 2)\n",
    "    >>> f([1,3,5])\n",
    "    (3, 2)\n",
    "    >>> f([3,1,5])\n",
    "    (5, 1)\n",
    "    >>> f([4,8,3,2,0])\n",
    "    (3, 3)\n",
    "    >>> f([4,8,3,1,1,0])\n",
    "    (3, 3)\n",
    "    >>> f([1,2,1])\n",
    "    (1, 3)\n",
    "    Algorithm is \"Linear search using a stack of incomplete subproblems\" [1].\n",
    "    [1]: http://blog.csdn.net/arbuckle/archive/2006/05/06/710988.aspx\n",
    "    \"\"\"\n",
    "    stack = []\n",
    "    top = lambda: stack[-1]\n",
    "    max_size = (0, 0) # height, width of the largest rectangle\n",
    "    pos = 0 # current position in the histogram\n",
    "    for pos, height in enumerate(histogram):\n",
    "        start = pos # position where rectangle starts\n",
    "        while True:\n",
    "            if not stack or height > top().height:\n",
    "                stack.append(Info(start, height)) # push\n",
    "            elif stack and height < top().height:\n",
    "                max_size = max(max_size, (top().height, (pos - top().start)),\n",
    "                               key=area)\n",
    "                start, _ = stack.pop()\n",
    "                continue\n",
    "            break # height == top().height goes here\n",
    "\n",
    "    pos += 1\n",
    "    for start, height in stack:\n",
    "        max_size = max(max_size, (height, (pos - start)), key=area)\n",
    "\n",
    "    return max_size\n",
    "\n",
    "def area(size):\n",
    "    return reduce(mul, size)"
   ]
  },
  {
   "cell_type": "code",
   "execution_count": 8,
   "id": "8e63c3c8-46cd-4c0b-adda-d02fd9219f5e",
   "metadata": {},
   "outputs": [],
   "source": [
    "outDIR = './cnn_pred_results/'\n",
    "if not os.path.exists(outDIR):\n",
    "    os.mkdir(outDIR)"
   ]
  },
  {
   "cell_type": "code",
   "execution_count": 9,
   "id": "464c6224-dea0-47b1-80eb-45b6b6a4df16",
   "metadata": {},
   "outputs": [],
   "source": [
    "ENCODER = 'resnet34'\n",
    "ENCODER_WEIGHTS = 'imagenet'\n",
    "CLASSES = ['burrow']\n",
    "ACTIVATION = 'sigmoid' # could be None for logits or 'softmax2d' for multiclass segmentation\n",
    "DEVICE = 'cuda' #'cuda'# 'cpu'# \n",
    "model_fnl = 'deeplabplus'\n",
    "res_fnl = 5\n",
    "inputs_fnl = ['rgb', 'tpi', 'ndvi'] \n",
    "preprocess = True\n",
    "prob_thresh = 0.5"
   ]
  },
  {
   "cell_type": "code",
   "execution_count": 10,
   "id": "ef26cdc0-afc6-4b9e-9f92-36793028623f",
   "metadata": {},
   "outputs": [],
   "source": [
    "size_dict = {\n",
    "    2: {'tile_size': 256,\n",
    "        'buff_size': 64},\n",
    "    5: {'tile_size': 192,\n",
    "        'buff_size': 48},\n",
    "    10: {'tile_size': 128,\n",
    "         'buff_size': 32},\n",
    "    15: {'tile_size': 96,\n",
    "         'buff_size': 16},\n",
    "    30: {'tile_size': 64,\n",
    "         'buff_size': 16}\n",
    "}"
   ]
  },
  {
   "cell_type": "code",
   "execution_count": 11,
   "id": "67df3061-2ae6-445d-8a2f-2224a273dcfa",
   "metadata": {},
   "outputs": [],
   "source": [
    "past_subset = None\n",
    "#past_subset = ['22E', 'CN']\n",
    "\n",
    "img_f_dict = {\n",
    "    '5W': {\n",
    "        'rgb': ['/mnt/d/202109/outputs/202109_5W_RGB/CPER_202109_5W_RGB_ortho.tif'],\n",
    "        'ms': ['/mnt/d/202109/outputs/202109_5W_MS/CPER_202109_5W_MS_ortho.tif'],\n",
    "        'dsm': ['/mnt/d/202109/outputs/202109_5W_RGB/CPER_202109_5W_RGB_dsm.tif']\n",
    "    },\n",
    "    '29-30': {\n",
    "        'rgb': ['/mnt/d/202109/outputs/202109_29_30_RGB/CPER_202109_29_30_RGB_ortho.tif',\n",
    "                '/mnt/d/202109/outputs/202109_29_30_RGB/CPER_202109_29_30_RGB_ortho.tif'],\n",
    "        'ms': ['/mnt/d/202109/outputs/202109_29_30_MS/CPER_202109_29_30_North_MS_ortho.tif',\n",
    "              '/mnt/d/202109/outputs/202109_29_30_MS/CPER_202109_29_30_South_MS_ortho.tif'],\n",
    "        'dsm': ['/mnt/d/202109/outputs/202109_29_30_RGB/CPER_202109_29_30_RGB_DSM.tif',\n",
    "               '/mnt/d/202109/outputs/202109_29_30_RGB/CPER_202109_29_30_RGB_DSM.tif']\n",
    "    },\n",
    "    '22W': {\n",
    "        'rgb': ['/mnt/d/202109/outputs/202109_22EW/CPER_202109_22EW_Flight1_RGB_ortho.tif',\n",
    "               '/mnt/d/202109/outputs/202109_22EW/CPER_202109_22EW_Flight2_RGB_ortho.tif'],\n",
    "        'ms': ['/mnt/d/202109/outputs/202109_22EW/CPER_202109_22EW_Flight1_MS_ortho.tif',\n",
    "               '/mnt/d/202109/outputs/202109_22EW/CPER_202109_22EW_Flight2_MS_ortho.tif'],\n",
    "        'dsm': ['/mnt/d/202109/outputs/202109_22EW/CPER_202109_22EW_Flight1_RGB_DSM.tif',\n",
    "                '/mnt/d/202109/outputs/202109_22EW/CPER_202109_22EW_Flight2_RGB_DSM.tif']\n",
    "    },\n",
    "    '22E': {\n",
    "        'rgb': ['/mnt/d/202109/outputs/202109_22EW/CPER_202109_22EW_Flight1_RGB_ortho.tif',\n",
    "               '/mnt/d/202109/outputs/202109_22EW/CPER_202109_22EW_Flight2_RGB_ortho.tif',\n",
    "               '/mnt/d/202109/outputs/202109_22EW/CPER_202109_22EW_Flight3_RGB_ortho.tif'],\n",
    "        'ms': ['/mnt/d/202109/outputs/202109_22EW/CPER_202109_22EW_Flight1_MS_ortho.tif',\n",
    "               '/mnt/d/202109/outputs/202109_22EW/CPER_202109_22EW_Flight2_MS_ortho.tif',\n",
    "              '/mnt/d/202109/outputs/202109_22EW/CPER_202109_22EW_Flight2_MS_ortho.tif'],\n",
    "        'dsm': ['/mnt/d/202109/outputs/202109_22EW/CPER_202109_22EW_Flight1_RGB_DSM.tif',\n",
    "               '/mnt/d/202109/outputs/202109_22EW/CPER_202109_22EW_Flight2_RGB_DSM.tif',\n",
    "               '/mnt/d/202109/outputs/202109_22EW/CPER_202109_22EW_Flight3_RGB_DSM.tif']\n",
    "    },\n",
    "    'CN': {\n",
    "        'rgb': ['/mnt/d/202109/outputs/202109_CN_RGB/Orthos/CPER_CN_Flight2_202109_RGB_ortho.tif',\n",
    "               '/mnt/d/202109/outputs/202109_CN_RGB/Orthos/CPER_CN_Flight3_202109_RGB_ortho.tif',\n",
    "               '/mnt/d/202109/outputs/202109_CN_RGB/Orthos/CPER_CN_Flight4_202109_RGB_ortho.tif',\n",
    "               '/mnt/d/202109/outputs/202109_CN_RGB/Orthos/CPER_CN_Flight5_202109_RGB_ortho.tif',\n",
    "               '/mnt/d/202109/outputs/202109_CN_RGB/Orthos/CPER_CN_Flight5_202109_RGB_ortho.tif'],\n",
    "        'ms': ['/mnt/d/202109/outputs/202109_CN_MS/CPER_202109_CN_Flight2_MS_ortho.tif',\n",
    "              '/mnt/d/202109/outputs/202109_CN_MS/CPER_202109_CN_Flight2_MS_ortho.tif',\n",
    "              '/mnt/d/202109/outputs/202109_CN_MS/CPER_202109_CN_Flight3_MS_ortho.tif',\n",
    "              '/mnt/d/202109/outputs/202109_CN_MS/CPER_202109_CN_Flight3_MS_ortho.tif',\n",
    "              '/mnt/d/202109/outputs/202109_CN_MS/CPER_202109_CN_Flight4_MS_ortho.tif',],\n",
    "        'dsm': ['/mnt/d/202109/outputs/202109_CN_RGB/DSMs/CPER_CN_Flight2_202109_RGB_DSM.tif',\n",
    "               '/mnt/d/202109/outputs/202109_CN_RGB/DSMs/CPER_CN_Flight3_202109_RGB_DSM.tif',\n",
    "               '/mnt/d/202109/outputs/202109_CN_RGB/DSMs/CPER_CN_Flight4_202109_RGB_DSM.tif',\n",
    "               '/mnt/d/202109/outputs/202109_CN_RGB/DSMs/CPER_CN_Flight5_202109_RGB_DSM.tif',\n",
    "                '/mnt/d/202109/outputs/202109_CN_RGB/DSMs/CPER_CN_Flight5_202109_RGB_DSM.tif']\n",
    "    }\n",
    "}\n",
    "\n",
    "if past_subset is not None:\n",
    "    img_f_dict_tmp = img_f_dict.copy()\n",
    "    img_f_dict = {}\n",
    "    for k in img_f_dict_tmp:\n",
    "         if k in past_subset:\n",
    "                img_f_dict[k] = img_f_dict_tmp[k]\n",
    "\n",
    "cper_f = '/mnt/c/Users/TBGPEA-Sean/Desktop/Pdogs_UAS/cper_pdog_pastures_2017_clip.shp'"
   ]
  },
  {
   "cell_type": "code",
   "execution_count": 12,
   "id": "d75f0f45-d52c-48f8-853b-7404abd75ec1",
   "metadata": {},
   "outputs": [],
   "source": [
    "full_buff_size = 10\n",
    "full_tile_size = 100\n",
    "tile_size = size_dict[res_fnl]['tile_size']\n",
    "buff_size = size_dict[res_fnl]['buff_size']\n",
    "chunk_size = 500\n",
    "buff_size_m = np.ceil(buff_size * res_fnl * 0.01)"
   ]
  },
  {
   "cell_type": "code",
   "execution_count": 13,
   "id": "001cb02e-10b7-4fd3-bc0d-10832aff67aa",
   "metadata": {},
   "outputs": [],
   "source": [
    "# load best saved checkpoint\n",
    "if res_fnl == 2:\n",
    "    best_model = torch.load('./cnn_results_' + model_fnl + '_' + str(res_fnl) + 'cm/best_model_' + '_'.join(inputs_fnl) + '.pth')\n",
    "else:\n",
    "    best_model = torch.load('./cnn_results_' + model_fnl + '_' + str(res_fnl) + 'cm/best_model_' + '_'.join(inputs_fnl) + '_' + str(res_fnl) + 'cm.pth')\n",
    "\n",
    "if DEVICE == 'cpu':\n",
    "    best_model = best_model.cpu()\n",
    "best_model.eval()\n",
    "\n",
    "# load the image stats from the training data\n",
    "df_image_stats = pd.read_csv('./_utils/image_stats_2cm.csv').set_index('stat')\n",
    "\n",
    "# convert image stats dictionary to dataframe\n",
    "image_stats = {i: {'min': df_image_stats.loc['min', i],\n",
    "                   'max': df_image_stats.loc['max', i]} for i in df_image_stats.columns}"
   ]
  },
  {
   "cell_type": "code",
   "execution_count": null,
   "id": "d5e43d7a-2fa6-4585-a712-7144e6a41d92",
   "metadata": {
    "scrolled": true,
    "tags": []
   },
   "outputs": [
    {
     "name": "stderr",
     "output_type": "stream",
     "text": [
      "  0%|                                                                                     | 0/5 [00:00<?, ?it/s]"
     ]
    },
    {
     "name": "stdout",
     "output_type": "stream",
     "text": [
      "\n",
      "\n",
      "----------\n",
      "Pasture: 5W\n",
      "running row: 0 of 17\n"
     ]
    },
    {
     "name": "stderr",
     "output_type": "stream",
     "text": [
      "\n",
      "100%|██████████████████████████████████████████████████████████████████████████| 9/9 [00:00<00:00, 49734.83it/s]\u001b[A\n"
     ]
    },
    {
     "name": "stdout",
     "output_type": "stream",
     "text": [
      "running row: 1 of 17\n"
     ]
    },
    {
     "name": "stderr",
     "output_type": "stream",
     "text": [
      "\n",
      "100%|██████████████████████████████████████████████████████████████████████████| 9/9 [00:00<00:00, 77353.97it/s]\u001b[A\n"
     ]
    },
    {
     "name": "stdout",
     "output_type": "stream",
     "text": [
      "running row: 2 of 17\n"
     ]
    },
    {
     "name": "stderr",
     "output_type": "stream",
     "text": [
      "\n",
      "100%|██████████████████████████████████████████████████████████████████████████| 9/9 [00:00<00:00, 69263.74it/s]\u001b[A\n"
     ]
    },
    {
     "name": "stdout",
     "output_type": "stream",
     "text": [
      "running row: 3 of 17\n"
     ]
    },
    {
     "name": "stderr",
     "output_type": "stream",
     "text": [
      "\n",
      "100%|██████████████████████████████████████████████████████████████████████████| 9/9 [00:00<00:00, 69518.85it/s]\u001b[A\n"
     ]
    },
    {
     "name": "stdout",
     "output_type": "stream",
     "text": [
      "running row: 4 of 17\n"
     ]
    },
    {
     "name": "stderr",
     "output_type": "stream",
     "text": [
      "\n",
      "100%|██████████████████████████████████████████████████████████████████████████| 9/9 [00:00<00:00, 73014.96it/s]\u001b[A\n"
     ]
    },
    {
     "name": "stdout",
     "output_type": "stream",
     "text": [
      "running row: 5 of 17\n"
     ]
    },
    {
     "name": "stderr",
     "output_type": "stream",
     "text": [
      "\n",
      "100%|██████████████████████████████████████████████████████████████████████████| 9/9 [00:00<00:00, 65536.00it/s]\u001b[A\n"
     ]
    },
    {
     "name": "stdout",
     "output_type": "stream",
     "text": [
      "running row: 6 of 17\n"
     ]
    },
    {
     "name": "stderr",
     "output_type": "stream",
     "text": [
      "\n",
      "100%|██████████████████████████████████████████████████████████████████████████| 9/9 [00:00<00:00, 73441.12it/s]\u001b[A\n"
     ]
    },
    {
     "name": "stdout",
     "output_type": "stream",
     "text": [
      "running row: 7 of 17\n"
     ]
    },
    {
     "name": "stderr",
     "output_type": "stream",
     "text": [
      "\n",
      "100%|██████████████████████████████████████████████████████████████████████████| 9/9 [00:00<00:00, 74898.29it/s]\u001b[A\n"
     ]
    },
    {
     "name": "stdout",
     "output_type": "stream",
     "text": [
      "running row: 8 of 17\n"
     ]
    },
    {
     "name": "stderr",
     "output_type": "stream",
     "text": [
      "\n",
      "100%|██████████████████████████████████████████████████████████████████████████| 9/9 [00:00<00:00, 75648.77it/s]\u001b[A\n"
     ]
    },
    {
     "name": "stdout",
     "output_type": "stream",
     "text": [
      "running row: 9 of 17\n"
     ]
    },
    {
     "name": "stderr",
     "output_type": "stream",
     "text": [
      "\n",
      "100%|██████████████████████████████████████████████████████████████████████████| 9/9 [00:00<00:00, 73014.96it/s]\u001b[A\n"
     ]
    },
    {
     "name": "stdout",
     "output_type": "stream",
     "text": [
      "running row: 10 of 17\n"
     ]
    },
    {
     "name": "stderr",
     "output_type": "stream",
     "text": [
      "\n",
      "100%|██████████████████████████████████████████████████████████████████████████| 9/9 [00:00<00:00, 77832.45it/s]\u001b[A\n"
     ]
    },
    {
     "name": "stdout",
     "output_type": "stream",
     "text": [
      "running row: 11 of 17\n"
     ]
    },
    {
     "name": "stderr",
     "output_type": "stream",
     "text": [
      "\n",
      "100%|██████████████████████████████████████████████████████████████████████████| 9/9 [00:00<00:00, 64527.75it/s]\u001b[A\n"
     ]
    },
    {
     "name": "stdout",
     "output_type": "stream",
     "text": [
      "running row: 12 of 17\n"
     ]
    },
    {
     "name": "stderr",
     "output_type": "stream",
     "text": [
      "\n",
      "100%|███████████████████████████████████████████████████████████████████████████| 9/9 [00:00<00:00, 7710.12it/s]\u001b[A\n"
     ]
    },
    {
     "name": "stdout",
     "output_type": "stream",
     "text": [
      "running row: 13 of 17\n"
     ]
    },
    {
     "name": "stderr",
     "output_type": "stream",
     "text": [
      "\n",
      "100%|██████████████████████████████████████████████████████████████████████████| 9/9 [00:00<00:00, 74308.54it/s]\u001b[A\n"
     ]
    },
    {
     "name": "stdout",
     "output_type": "stream",
     "text": [
      "running row: 14 of 17\n"
     ]
    },
    {
     "name": "stderr",
     "output_type": "stream",
     "text": [
      "\n",
      "100%|██████████████████████████████████████████████████████████████████████████| 9/9 [00:00<00:00, 51852.66it/s]\u001b[A\n"
     ]
    },
    {
     "name": "stdout",
     "output_type": "stream",
     "text": [
      "running row: 15 of 17\n"
     ]
    },
    {
     "name": "stderr",
     "output_type": "stream",
     "text": [
      "\n",
      "100%|██████████████████████████████████████████████████████████████████████████| 9/9 [00:00<00:00, 61380.06it/s]\u001b[A\n"
     ]
    },
    {
     "name": "stdout",
     "output_type": "stream",
     "text": [
      "running row: 16 of 17\n"
     ]
    },
    {
     "name": "stderr",
     "output_type": "stream",
     "text": [
      "\n",
      "100%|██████████████████████████████████████████████████████████████████████████| 9/9 [00:00<00:00, 62705.54it/s]\u001b[A"
     ]
    },
    {
     "name": "stdout",
     "output_type": "stream",
     "text": [
      "Pasture-group finished!\n"
     ]
    },
    {
     "name": "stderr",
     "output_type": "stream",
     "text": [
      "\n",
      "distributed.nanny - WARNING - Worker exceeded 95% memory budget. Restarting\n",
      "distributed.client - ERROR - Restart timed out after 9.00 seconds\n",
      " 20%|███████████████▍                                                             | 1/5 [00:19<01:19, 19.97s/it]"
     ]
    },
    {
     "name": "stdout",
     "output_type": "stream",
     "text": [
      "\n",
      "\n",
      "----------\n",
      "Pasture: 29-30\n",
      "running row: 0 of 17\n"
     ]
    },
    {
     "name": "stderr",
     "output_type": "stream",
     "text": [
      "\n",
      "  0%|                                                                                    | 0/25 [00:00<?, ?it/s]\u001b[A\n",
      "100%|███████████████████████████████████████████████████████████████████████████| 25/25 [00:01<00:00, 19.74it/s]\u001b[A\n"
     ]
    },
    {
     "name": "stdout",
     "output_type": "stream",
     "text": [
      "running row: 1 of 17\n"
     ]
    },
    {
     "name": "stderr",
     "output_type": "stream",
     "text": [
      "\n",
      "100%|████████████████████████████████████████████████████████████████████████| 25/25 [00:00<00:00, 63053.28it/s]\u001b[A\n"
     ]
    },
    {
     "name": "stdout",
     "output_type": "stream",
     "text": [
      "running row: 2 of 17\n"
     ]
    },
    {
     "name": "stderr",
     "output_type": "stream",
     "text": [
      "\n",
      "100%|████████████████████████████████████████████████████████████████████████| 25/25 [00:00<00:00, 82565.04it/s]\u001b[A\n"
     ]
    },
    {
     "name": "stdout",
     "output_type": "stream",
     "text": [
      "running row: 3 of 17\n"
     ]
    },
    {
     "name": "stderr",
     "output_type": "stream",
     "text": [
      "\n",
      "100%|████████████████████████████████████████████████████████████████████████| 25/25 [00:00<00:00, 83220.32it/s]\u001b[A\n"
     ]
    },
    {
     "name": "stdout",
     "output_type": "stream",
     "text": [
      "running row: 4 of 17\n"
     ]
    },
    {
     "name": "stderr",
     "output_type": "stream",
     "text": [
      "\n",
      "100%|████████████████████████████████████████████████████████████████████████| 25/25 [00:00<00:00, 72116.64it/s]\u001b[A\n"
     ]
    },
    {
     "name": "stdout",
     "output_type": "stream",
     "text": [
      "running row: 5 of 17\n"
     ]
    },
    {
     "name": "stderr",
     "output_type": "stream",
     "text": [
      "\n",
      "100%|████████████████████████████████████████████████████████████████████████| 25/25 [00:00<00:00, 96553.96it/s]\u001b[A\n"
     ]
    },
    {
     "name": "stdout",
     "output_type": "stream",
     "text": [
      "running row: 6 of 17\n"
     ]
    },
    {
     "name": "stderr",
     "output_type": "stream",
     "text": [
      "\n",
      "100%|████████████████████████████████████████████████████████████████████████| 25/25 [00:00<00:00, 94042.69it/s]\u001b[A\n"
     ]
    },
    {
     "name": "stdout",
     "output_type": "stream",
     "text": [
      "running row: 7 of 17\n"
     ]
    },
    {
     "name": "stderr",
     "output_type": "stream",
     "text": [
      "\n",
      "100%|████████████████████████████████████████████████████████████████████████| 25/25 [00:00<00:00, 89088.87it/s]\u001b[A\n"
     ]
    },
    {
     "name": "stdout",
     "output_type": "stream",
     "text": [
      "running row: 8 of 17\n"
     ]
    },
    {
     "name": "stderr",
     "output_type": "stream",
     "text": [
      "\n",
      "100%|████████████████████████████████████████████████████████████████████████| 25/25 [00:00<00:00, 96465.13it/s]\u001b[A\n"
     ]
    },
    {
     "name": "stdout",
     "output_type": "stream",
     "text": [
      "running row: 9 of 17\n"
     ]
    },
    {
     "name": "stderr",
     "output_type": "stream",
     "text": [
      "\n",
      "100%|████████████████████████████████████████████████████████████████████████| 25/25 [00:00<00:00, 83418.93it/s]\u001b[A\n"
     ]
    },
    {
     "name": "stdout",
     "output_type": "stream",
     "text": [
      "running row: 10 of 17\n"
     ]
    },
    {
     "name": "stderr",
     "output_type": "stream",
     "text": [
      "\n",
      "100%|████████████████████████████████████████████████████████████████████████| 25/25 [00:00<00:00, 88412.82it/s]\u001b[A\n"
     ]
    },
    {
     "name": "stdout",
     "output_type": "stream",
     "text": [
      "running row: 11 of 17\n"
     ]
    },
    {
     "name": "stderr",
     "output_type": "stream",
     "text": [
      "\n",
      "100%|████████████████████████████████████████████████████████████████████████| 25/25 [00:00<00:00, 88338.33it/s]\u001b[A\n"
     ]
    },
    {
     "name": "stdout",
     "output_type": "stream",
     "text": [
      "running row: 12 of 17\n"
     ]
    },
    {
     "name": "stderr",
     "output_type": "stream",
     "text": [
      "\n",
      "100%|████████████████████████████████████████████████████████████████████████| 25/25 [00:00<00:00, 98550.38it/s]\u001b[A\n"
     ]
    },
    {
     "name": "stdout",
     "output_type": "stream",
     "text": [
      "running row: 13 of 17\n"
     ]
    },
    {
     "name": "stderr",
     "output_type": "stream",
     "text": [
      "\n",
      "100%|████████████████████████████████████████████████████████████████████████| 25/25 [00:00<00:00, 82891.38it/s]\u001b[A\n"
     ]
    },
    {
     "name": "stdout",
     "output_type": "stream",
     "text": [
      "running row: 14 of 17\n"
     ]
    },
    {
     "name": "stderr",
     "output_type": "stream",
     "text": [
      "\n",
      "100%|████████████████████████████████████████████████████████████████████████| 25/25 [00:00<00:00, 89545.35it/s]\u001b[A\n"
     ]
    },
    {
     "name": "stdout",
     "output_type": "stream",
     "text": [
      "running row: 15 of 17\n"
     ]
    },
    {
     "name": "stderr",
     "output_type": "stream",
     "text": [
      "\n",
      "100%|████████████████████████████████████████████████████████████████████████| 25/25 [00:00<00:00, 93372.75it/s]\u001b[A\n"
     ]
    },
    {
     "name": "stdout",
     "output_type": "stream",
     "text": [
      "running row: 16 of 17\n"
     ]
    },
    {
     "name": "stderr",
     "output_type": "stream",
     "text": [
      "\n",
      "100%|████████████████████████████████████████████████████████████████████████| 25/25 [00:00<00:00, 75220.66it/s]\u001b[A\n"
     ]
    },
    {
     "name": "stdout",
     "output_type": "stream",
     "text": [
      "Pasture-group finished!\n"
     ]
    },
    {
     "name": "stderr",
     "output_type": "stream",
     "text": [
      "distributed.nanny - WARNING - Worker exceeded 95% memory budget. Restarting\n",
      "distributed.client - ERROR - Restart timed out after 9.00 seconds\n",
      " 40%|██████████████████████████████▊                                              | 2/5 [00:41<01:02, 20.72s/it]"
     ]
    },
    {
     "name": "stdout",
     "output_type": "stream",
     "text": [
      "\n",
      "\n",
      "----------\n",
      "Pasture: 22W\n",
      "running row: 0 of 17\n"
     ]
    },
    {
     "name": "stderr",
     "output_type": "stream",
     "text": [
      "\n",
      "  0%|                                                                                     | 0/9 [00:00<?, ?it/s]\u001b[A\n",
      "100%|█████████████████████████████████████████████████████████████████████████████| 9/9 [00:01<00:00,  6.12it/s]\u001b[A\n"
     ]
    },
    {
     "name": "stdout",
     "output_type": "stream",
     "text": [
      "running row: 1 of 17\n"
     ]
    },
    {
     "name": "stderr",
     "output_type": "stream",
     "text": [
      "\n",
      "100%|██████████████████████████████████████████████████████████████████████████| 9/9 [00:00<00:00, 72733.60it/s]\u001b[A\n"
     ]
    },
    {
     "name": "stdout",
     "output_type": "stream",
     "text": [
      "running row: 2 of 17\n"
     ]
    },
    {
     "name": "stderr",
     "output_type": "stream",
     "text": [
      "\n",
      "100%|██████████████████████████████████████████████████████████████████████████| 9/9 [00:00<00:00, 86978.65it/s]\u001b[A\n"
     ]
    },
    {
     "name": "stdout",
     "output_type": "stream",
     "text": [
      "running row: 3 of 17\n"
     ]
    },
    {
     "name": "stderr",
     "output_type": "stream",
     "text": [
      "\n",
      "100%|██████████████████████████████████████████████████████████████████████████| 9/9 [00:00<00:00, 76414.45it/s]\u001b[A\n"
     ]
    },
    {
     "name": "stdout",
     "output_type": "stream",
     "text": [
      "running row: 4 of 17\n"
     ]
    },
    {
     "name": "stderr",
     "output_type": "stream",
     "text": [
      "\n",
      "100%|██████████████████████████████████████████████████████████████████████████| 9/9 [00:00<00:00, 71629.48it/s]\u001b[A\n"
     ]
    },
    {
     "name": "stdout",
     "output_type": "stream",
     "text": [
      "running row: 5 of 17\n"
     ]
    },
    {
     "name": "stderr",
     "output_type": "stream",
     "text": [
      "\n",
      "100%|██████████████████████████████████████████████████████████████████████████| 9/9 [00:00<00:00, 69263.74it/s]\u001b[A\n"
     ]
    },
    {
     "name": "stdout",
     "output_type": "stream",
     "text": [
      "running row: 6 of 17\n"
     ]
    },
    {
     "name": "stderr",
     "output_type": "stream",
     "text": [
      "\n",
      "100%|██████████████████████████████████████████████████████████████████████████| 9/9 [00:00<00:00, 75953.19it/s]\u001b[A\n"
     ]
    },
    {
     "name": "stdout",
     "output_type": "stream",
     "text": [
      "running row: 7 of 17\n"
     ]
    },
    {
     "name": "stderr",
     "output_type": "stream",
     "text": [
      "\n",
      "100%|██████████████████████████████████████████████████████████████████████████| 9/9 [00:00<00:00, 78154.73it/s]\u001b[A\n"
     ]
    },
    {
     "name": "stdout",
     "output_type": "stream",
     "text": [
      "running row: 8 of 17\n"
     ]
    },
    {
     "name": "stderr",
     "output_type": "stream",
     "text": [
      "\n",
      "100%|██████████████████████████████████████████████████████████████████████████| 9/9 [00:00<00:00, 82964.25it/s]\u001b[A\n"
     ]
    },
    {
     "name": "stdout",
     "output_type": "stream",
     "text": [
      "running row: 9 of 17\n"
     ]
    },
    {
     "name": "stderr",
     "output_type": "stream",
     "text": [
      "\n",
      "100%|██████████████████████████████████████████████████████████████████████████| 9/9 [00:00<00:00, 84638.42it/s]\u001b[A\n"
     ]
    },
    {
     "name": "stdout",
     "output_type": "stream",
     "text": [
      "running row: 10 of 17\n"
     ]
    },
    {
     "name": "stderr",
     "output_type": "stream",
     "text": [
      "\n",
      "100%|██████████████████████████████████████████████████████████████████████████| 9/9 [00:00<00:00, 64417.64it/s]\u001b[A\n"
     ]
    },
    {
     "name": "stdout",
     "output_type": "stream",
     "text": [
      "running row: 11 of 17\n"
     ]
    },
    {
     "name": "stderr",
     "output_type": "stream",
     "text": [
      "\n",
      "100%|██████████████████████████████████████████████████████████████████████████| 9/9 [00:00<00:00, 80487.71it/s]\u001b[A\n"
     ]
    },
    {
     "name": "stdout",
     "output_type": "stream",
     "text": [
      "running row: 12 of 17\n"
     ]
    },
    {
     "name": "stderr",
     "output_type": "stream",
     "text": [
      "\n",
      "100%|██████████████████████████████████████████████████████████████████████████| 9/9 [00:00<00:00, 36331.80it/s]\u001b[A\n"
     ]
    },
    {
     "name": "stdout",
     "output_type": "stream",
     "text": [
      "running row: 13 of 17\n"
     ]
    },
    {
     "name": "stderr",
     "output_type": "stream",
     "text": [
      "\n",
      "100%|██████████████████████████████████████████████████████████████████████████| 9/9 [00:00<00:00, 76260.07it/s]\u001b[A\n"
     ]
    },
    {
     "name": "stdout",
     "output_type": "stream",
     "text": [
      "running row: 14 of 17\n"
     ]
    },
    {
     "name": "stderr",
     "output_type": "stream",
     "text": [
      "\n",
      "100%|██████████████████████████████████████████████████████████████████████████| 9/9 [00:00<00:00, 74455.10it/s]\u001b[A\n"
     ]
    },
    {
     "name": "stdout",
     "output_type": "stream",
     "text": [
      "running row: 15 of 17\n"
     ]
    },
    {
     "name": "stderr",
     "output_type": "stream",
     "text": [
      "\n",
      "100%|██████████████████████████████████████████████████████████████████████████| 9/9 [00:00<00:00, 60983.42it/s]\u001b[A\n"
     ]
    },
    {
     "name": "stdout",
     "output_type": "stream",
     "text": [
      "running row: 16 of 17\n"
     ]
    },
    {
     "name": "stderr",
     "output_type": "stream",
     "text": [
      "\n",
      "100%|██████████████████████████████████████████████████████████████████████████| 9/9 [00:00<00:00, 37862.32it/s]\u001b[A\n"
     ]
    },
    {
     "name": "stdout",
     "output_type": "stream",
     "text": [
      "Pasture-group finished!\n"
     ]
    },
    {
     "name": "stderr",
     "output_type": "stream",
     "text": [
      " 60%|██████████████████████████████████████████████▏                              | 3/5 [00:55<00:35, 17.59s/it]"
     ]
    },
    {
     "name": "stdout",
     "output_type": "stream",
     "text": [
      "\n",
      "\n",
      "----------\n",
      "Pasture: 22E\n",
      "running row: 0 of 17\n"
     ]
    },
    {
     "name": "stderr",
     "output_type": "stream",
     "text": [
      "\n",
      "100%|██████████████████████████████████████████████████████████████████████████| 9/9 [00:00<00:00, 51011.81it/s]\u001b[A\n"
     ]
    },
    {
     "name": "stdout",
     "output_type": "stream",
     "text": [
      "running row: 1 of 17\n"
     ]
    },
    {
     "name": "stderr",
     "output_type": "stream",
     "text": [
      "\n",
      "100%|██████████████████████████████████████████████████████████████████████████| 9/9 [00:00<00:00, 69518.85it/s]\u001b[A\n"
     ]
    },
    {
     "name": "stdout",
     "output_type": "stream",
     "text": [
      "running row: 2 of 17\n"
     ]
    },
    {
     "name": "stderr",
     "output_type": "stream",
     "text": [
      "\n",
      "100%|██████████████████████████████████████████████████████████████████████████| 9/9 [00:00<00:00, 65536.00it/s]\u001b[A\n"
     ]
    },
    {
     "name": "stdout",
     "output_type": "stream",
     "text": [
      "running row: 3 of 17\n"
     ]
    },
    {
     "name": "stderr",
     "output_type": "stream",
     "text": [
      "\n",
      "100%|██████████████████████████████████████████████████████████████████████████| 9/9 [00:00<00:00, 64860.37it/s]\u001b[A\n"
     ]
    },
    {
     "name": "stdout",
     "output_type": "stream",
     "text": [
      "running row: 4 of 17\n"
     ]
    },
    {
     "name": "stderr",
     "output_type": "stream",
     "text": [
      "\n",
      "100%|██████████████████████████████████████████████████████████████████████████| 9/9 [00:00<00:00, 74017.13it/s]\u001b[A\n"
     ]
    },
    {
     "name": "stdout",
     "output_type": "stream",
     "text": [
      "running row: 5 of 17\n"
     ]
    },
    {
     "name": "stderr",
     "output_type": "stream",
     "text": [
      "\n",
      "100%|██████████████████████████████████████████████████████████████████████████| 9/9 [00:00<00:00, 58890.38it/s]\u001b[A\n"
     ]
    },
    {
     "name": "stdout",
     "output_type": "stream",
     "text": [
      "running row: 6 of 17\n"
     ]
    },
    {
     "name": "stderr",
     "output_type": "stream",
     "text": [
      "\n",
      "100%|██████████████████████████████████████████████████████████████████████████| 9/9 [00:00<00:00, 81180.08it/s]\u001b[A\n"
     ]
    },
    {
     "name": "stdout",
     "output_type": "stream",
     "text": [
      "running row: 7 of 17\n"
     ]
    },
    {
     "name": "stderr",
     "output_type": "stream",
     "text": [
      "\n",
      "100%|██████████████████████████████████████████████████████████████████████████| 9/9 [00:00<00:00, 78154.73it/s]\u001b[A\n"
     ]
    },
    {
     "name": "stdout",
     "output_type": "stream",
     "text": [
      "running row: 8 of 17\n"
     ]
    },
    {
     "name": "stderr",
     "output_type": "stream",
     "text": [
      "\n",
      "100%|██████████████████████████████████████████████████████████████████████████| 9/9 [00:00<00:00, 58798.65it/s]\u001b[A\n"
     ]
    },
    {
     "name": "stdout",
     "output_type": "stream",
     "text": [
      "running row: 9 of 17\n"
     ]
    },
    {
     "name": "stderr",
     "output_type": "stream",
     "text": [
      "\n",
      "100%|██████████████████████████████████████████████████████████████████████████| 9/9 [00:00<00:00, 62086.74it/s]\u001b[A\n"
     ]
    },
    {
     "name": "stdout",
     "output_type": "stream",
     "text": [
      "running row: 10 of 17\n"
     ]
    },
    {
     "name": "stderr",
     "output_type": "stream",
     "text": [
      "\n",
      "100%|██████████████████████████████████████████████████████████████████████████| 9/9 [00:00<00:00, 71765.66it/s]\u001b[A\n"
     ]
    },
    {
     "name": "stdout",
     "output_type": "stream",
     "text": [
      "running row: 11 of 17\n"
     ]
    },
    {
     "name": "stderr",
     "output_type": "stream",
     "text": [
      "\n",
      "100%|██████████████████████████████████████████████████████████████████████████| 9/9 [00:00<00:00, 79976.14it/s]\u001b[A\n"
     ]
    },
    {
     "name": "stdout",
     "output_type": "stream",
     "text": [
      "running row: 12 of 17\n"
     ]
    },
    {
     "name": "stderr",
     "output_type": "stream",
     "text": [
      "\n",
      "100%|██████████████████████████████████████████████████████████████████████████| 9/9 [00:00<00:00, 69263.74it/s]\u001b[A\n"
     ]
    },
    {
     "name": "stdout",
     "output_type": "stream",
     "text": [
      "running row: 13 of 17\n"
     ]
    },
    {
     "name": "stderr",
     "output_type": "stream",
     "text": [
      "\n",
      "100%|██████████████████████████████████████████████████████████████████████████| 9/9 [00:00<00:00, 83700.08it/s]\u001b[A\n"
     ]
    },
    {
     "name": "stdout",
     "output_type": "stream",
     "text": [
      "running row: 14 of 17\n"
     ]
    },
    {
     "name": "stderr",
     "output_type": "stream",
     "text": [
      "\n",
      "100%|██████████████████████████████████████████████████████████████████████████| 9/9 [00:00<00:00, 80316.46it/s]\u001b[A\n"
     ]
    },
    {
     "name": "stdout",
     "output_type": "stream",
     "text": [
      "running row: 15 of 17\n"
     ]
    },
    {
     "name": "stderr",
     "output_type": "stream",
     "text": [
      "\n",
      "100%|██████████████████████████████████████████████████████████████████████████| 9/9 [00:00<00:00, 86184.33it/s]\u001b[A\n"
     ]
    },
    {
     "name": "stdout",
     "output_type": "stream",
     "text": [
      "running row: 16 of 17\n"
     ]
    },
    {
     "name": "stderr",
     "output_type": "stream",
     "text": [
      "\n",
      "100%|██████████████████████████████████████████████████████████████████████████| 9/9 [00:00<00:00, 64749.12it/s]\u001b[A"
     ]
    },
    {
     "name": "stdout",
     "output_type": "stream",
     "text": [
      "Pasture-group finished!\n"
     ]
    },
    {
     "name": "stderr",
     "output_type": "stream",
     "text": [
      "\n",
      "distributed.nanny - WARNING - Worker exceeded 95% memory budget. Restarting\n",
      "distributed.client - ERROR - Restart timed out after 9.00 seconds\n",
      " 80%|█████████████████████████████████████████████████████████████▌               | 4/5 [01:15<00:18, 18.54s/it]"
     ]
    },
    {
     "name": "stdout",
     "output_type": "stream",
     "text": [
      "\n",
      "\n",
      "----------\n",
      "Pasture: CN\n",
      "running row: 0 of 25\n"
     ]
    },
    {
     "name": "stderr",
     "output_type": "stream",
     "text": [
      "\n",
      "  0%|                                                                                    | 0/17 [00:00<?, ?it/s]\u001b[A\n",
      "100%|███████████████████████████████████████████████████████████████████████████| 17/17 [00:01<00:00, 13.08it/s]\u001b[A\n"
     ]
    },
    {
     "name": "stdout",
     "output_type": "stream",
     "text": [
      "running row: 1 of 25\n"
     ]
    },
    {
     "name": "stderr",
     "output_type": "stream",
     "text": [
      "\n",
      "100%|████████████████████████████████████████████████████████████████████████| 17/17 [00:00<00:00, 94566.54it/s]\u001b[A\n"
     ]
    },
    {
     "name": "stdout",
     "output_type": "stream",
     "text": [
      "running row: 2 of 25\n"
     ]
    },
    {
     "name": "stderr",
     "output_type": "stream",
     "text": [
      "\n",
      "100%|███████████████████████████████████████████████████████████████████████| 17/17 [00:00<00:00, 104703.62it/s]\u001b[A\n"
     ]
    },
    {
     "name": "stdout",
     "output_type": "stream",
     "text": [
      "running row: 3 of 25\n"
     ]
    },
    {
     "name": "stderr",
     "output_type": "stream",
     "text": [
      "\n",
      "100%|████████████████████████████████████████████████████████████████████████| 17/17 [00:00<00:00, 95837.59it/s]\u001b[A\n"
     ]
    },
    {
     "name": "stdout",
     "output_type": "stream",
     "text": [
      "running row: 4 of 25\n"
     ]
    },
    {
     "name": "stderr",
     "output_type": "stream",
     "text": [
      "\n",
      "100%|████████████████████████████████████████████████████████████████████████| 17/17 [00:00<00:00, 90486.25it/s]\u001b[A\n"
     ]
    },
    {
     "name": "stdout",
     "output_type": "stream",
     "text": [
      "running row: 5 of 25\n"
     ]
    },
    {
     "name": "stderr",
     "output_type": "stream",
     "text": [
      "\n",
      "100%|████████████████████████████████████████████████████████████████████████| 17/17 [00:00<00:00, 79936.29it/s]\u001b[A\n"
     ]
    },
    {
     "name": "stdout",
     "output_type": "stream",
     "text": [
      "running row: 6 of 25\n"
     ]
    },
    {
     "name": "stderr",
     "output_type": "stream",
     "text": [
      "\n",
      "100%|████████████████████████████████████████████████████████████████████████| 17/17 [00:00<00:00, 92242.13it/s]\u001b[A\n"
     ]
    },
    {
     "name": "stdout",
     "output_type": "stream",
     "text": [
      "running row: 7 of 25\n"
     ]
    },
    {
     "name": "stderr",
     "output_type": "stream",
     "text": [
      "\n",
      "100%|████████████████████████████████████████████████████████████████████████| 17/17 [00:00<00:00, 97541.95it/s]\u001b[A\n"
     ]
    },
    {
     "name": "stdout",
     "output_type": "stream",
     "text": [
      "running row: 8 of 25\n"
     ]
    },
    {
     "name": "stderr",
     "output_type": "stream",
     "text": [
      "\n",
      "100%|████████████████████████████████████████████████████████████████████████| 17/17 [00:00<00:00, 91767.27it/s]\u001b[A\n"
     ]
    },
    {
     "name": "stdout",
     "output_type": "stream",
     "text": [
      "running row: 9 of 25\n"
     ]
    },
    {
     "name": "stderr",
     "output_type": "stream",
     "text": [
      "\n",
      "100%|████████████████████████████████████████████████████████████████████████| 17/17 [00:00<00:00, 93206.76it/s]\u001b[A\n"
     ]
    },
    {
     "name": "stdout",
     "output_type": "stream",
     "text": [
      "running row: 10 of 25\n"
     ]
    },
    {
     "name": "stderr",
     "output_type": "stream",
     "text": [
      "\n",
      "100%|████████████████████████████████████████████████████████████████████████| 17/17 [00:00<00:00, 93328.75it/s]\u001b[A\n"
     ]
    },
    {
     "name": "stdout",
     "output_type": "stream",
     "text": [
      "running row: 11 of 25\n"
     ]
    },
    {
     "name": "stderr",
     "output_type": "stream",
     "text": [
      "\n",
      "100%|████████████████████████████████████████████████████████████████████████| 17/17 [00:00<00:00, 90029.25it/s]\u001b[A\n"
     ]
    },
    {
     "name": "stdout",
     "output_type": "stream",
     "text": [
      "running row: 12 of 25\n"
     ]
    },
    {
     "name": "stderr",
     "output_type": "stream",
     "text": [
      "\n",
      "100%|████████████████████████████████████████████████████████████████████████| 17/17 [00:00<00:00, 79757.46it/s]\u001b[A\n"
     ]
    },
    {
     "name": "stdout",
     "output_type": "stream",
     "text": [
      "running row: 13 of 25\n"
     ]
    },
    {
     "name": "stderr",
     "output_type": "stream",
     "text": [
      "\n",
      "100%|████████████████████████████████████████████████████████████████████████| 17/17 [00:00<00:00, 79402.19it/s]\u001b[A\n"
     ]
    },
    {
     "name": "stdout",
     "output_type": "stream",
     "text": [
      "running row: 14 of 25\n"
     ]
    },
    {
     "name": "stderr",
     "output_type": "stream",
     "text": [
      "\n",
      "100%|████████████████████████████████████████████████████████████████████████| 17/17 [00:00<00:00, 86532.97it/s]\u001b[A\n"
     ]
    },
    {
     "name": "stdout",
     "output_type": "stream",
     "text": [
      "running row: 15 of 25\n"
     ]
    },
    {
     "name": "stderr",
     "output_type": "stream",
     "text": [
      "\n",
      "  0%|                                                                                    | 0/17 [00:00<?, ?it/s]\u001b[A\n",
      " 41%|███████████████████████████████▎                                            | 7/17 [00:35<00:50,  5.02s/it]\u001b[A\n",
      " 47%|███████████████████████████████████▊                                        | 8/17 [00:57<01:10,  7.88s/it]\u001b[A\n",
      " 53%|████████████████████████████████████████▏                                   | 9/17 [01:18<01:24, 10.53s/it]\u001b[A\n",
      " 59%|████████████████████████████████████████████                               | 10/17 [01:39<01:29, 12.85s/it]\u001b[A\n",
      " 65%|████████████████████████████████████████████████▌                          | 11/17 [02:02<01:31, 15.29s/it]\u001b[A\n",
      " 71%|████████████████████████████████████████████████████▉                      | 12/17 [03:00<02:09, 25.90s/it]\u001b[A\n",
      " 76%|█████████████████████████████████████████████████████████▎                 | 13/17 [03:30<01:48, 27.11s/it]\u001b[A\n",
      " 82%|█████████████████████████████████████████████████████████████▊             | 14/17 [04:10<01:31, 30.55s/it]\u001b[A\n",
      " 88%|██████████████████████████████████████████████████████████████████▏        | 15/17 [04:45<01:03, 31.85s/it]\u001b[A\n",
      " 94%|██████████████████████████████████████████████████████████████████████▌    | 16/17 [05:54<00:42, 42.74s/it]\u001b[A\n",
      "100%|███████████████████████████████████████████████████████████████████████████| 17/17 [06:27<00:00, 22.78s/it]\u001b[A\n"
     ]
    },
    {
     "name": "stdout",
     "output_type": "stream",
     "text": [
      "running row: 16 of 25\n"
     ]
    },
    {
     "name": "stderr",
     "output_type": "stream",
     "text": [
      "\n",
      "  0%|                                                                                    | 0/17 [00:00<?, ?it/s]\u001b[A\n",
      "  6%|████▍                                                                       | 1/17 [00:31<08:18, 31.14s/it]\u001b[A\n",
      " 12%|████████▉                                                                   | 2/17 [01:00<07:28, 29.90s/it]\u001b[A\n",
      " 18%|█████████████▍                                                              | 3/17 [01:42<08:19, 35.69s/it]\u001b[A\n",
      " 24%|█████████████████▉                                                          | 4/17 [02:27<08:32, 39.43s/it]\u001b[A\n",
      " 29%|██████████████████████▎                                                     | 5/17 [02:58<07:12, 36.08s/it]\u001b[A\n",
      " 35%|██████████████████████████▊                                                 | 6/17 [03:28<06:14, 34.04s/it]\u001b[A\n",
      " 41%|███████████████████████████████▎                                            | 7/17 [04:05<05:50, 35.03s/it]\u001b[A\n",
      " 47%|███████████████████████████████████▊                                        | 8/17 [04:42<05:21, 35.75s/it]\u001b[A\n",
      " 53%|████████████████████████████████████████▏                                   | 9/17 [05:14<04:36, 34.54s/it]\u001b[A\n",
      " 59%|████████████████████████████████████████████                               | 10/17 [06:05<04:37, 39.68s/it]\u001b[A\n",
      " 65%|████████████████████████████████████████████████▌                          | 11/17 [06:37<03:44, 37.46s/it]\u001b[A\n",
      " 71%|████████████████████████████████████████████████████▉                      | 12/17 [07:06<02:53, 34.74s/it]\u001b[A\n",
      " 76%|█████████████████████████████████████████████████████████▎                 | 13/17 [07:33<02:10, 32.53s/it]\u001b[A\n",
      " 82%|█████████████████████████████████████████████████████████████▊             | 14/17 [08:04<01:35, 31.84s/it]\u001b[A\n",
      " 88%|██████████████████████████████████████████████████████████████████▏        | 15/17 [08:38<01:05, 32.67s/it]\u001b[A\n",
      " 94%|██████████████████████████████████████████████████████████████████████▌    | 16/17 [09:11<00:32, 32.80s/it]\u001b[A\n",
      "100%|███████████████████████████████████████████████████████████████████████████| 17/17 [09:43<00:00, 34.32s/it]\u001b[A\n"
     ]
    },
    {
     "name": "stdout",
     "output_type": "stream",
     "text": [
      "running row: 17 of 25\n"
     ]
    },
    {
     "name": "stderr",
     "output_type": "stream",
     "text": [
      "\n",
      "  0%|                                                                                    | 0/17 [00:00<?, ?it/s]\u001b[A\n",
      "  6%|████▍                                                                       | 1/17 [00:20<05:21, 20.11s/it]\u001b[A\n",
      " 12%|████████▉                                                                   | 2/17 [00:38<04:46, 19.07s/it]\u001b[A\n",
      " 18%|█████████████▍                                                              | 3/17 [00:57<04:29, 19.23s/it]\u001b[A\n",
      " 24%|█████████████████▉                                                          | 4/17 [01:17<04:10, 19.23s/it]\u001b[A\n",
      " 29%|██████████████████████▎                                                     | 5/17 [01:36<03:51, 19.33s/it]\u001b[A\n",
      " 35%|██████████████████████████▊                                                 | 6/17 [02:06<04:10, 22.76s/it]\u001b[A\n",
      " 41%|███████████████████████████████▎                                            | 7/17 [02:39<04:21, 26.19s/it]\u001b[A\n",
      " 47%|███████████████████████████████████▊                                        | 8/17 [03:08<04:04, 27.13s/it]\u001b[A\n",
      " 53%|████████████████████████████████████████▏                                   | 9/17 [03:37<03:41, 27.65s/it]\u001b[A\n",
      " 59%|████████████████████████████████████████████                               | 10/17 [03:59<03:02, 26.13s/it]\u001b[A\n",
      " 65%|████████████████████████████████████████████████▌                          | 11/17 [04:24<02:33, 25.60s/it]\u001b[A\n",
      " 71%|████████████████████████████████████████████████████▉                      | 12/17 [04:49<02:07, 25.59s/it]\u001b[A\n",
      " 76%|█████████████████████████████████████████████████████████▎                 | 13/17 [05:25<01:54, 28.54s/it]\u001b[A\n",
      " 82%|█████████████████████████████████████████████████████████████▊             | 14/17 [06:02<01:33, 31.28s/it]\u001b[A\n",
      " 88%|██████████████████████████████████████████████████████████████████▏        | 15/17 [06:37<01:04, 32.39s/it]\u001b[A\n",
      " 94%|██████████████████████████████████████████████████████████████████████▌    | 16/17 [07:08<00:31, 31.88s/it]\u001b[A"
     ]
    }
   ],
   "source": [
    "cper_gdf = gpd.read_file(cper_f)\n",
    "\n",
    "for pasture in tqdm(img_f_dict):\n",
    "    print('\\n\\n----------\\nPasture: ' + pasture)\n",
    "\n",
    "    # get the bounding box of the pasture\n",
    "    past_bbox = cper_gdf[cper_gdf['Past_Name_'] == pasture].buffer(\n",
    "        full_buff_size).bounds.apply(lambda x: int(x))\n",
    "\n",
    "    total_bounds = {'xmin': past_bbox['minx'],\n",
    "                    'xmax': past_bbox['maxx'],\n",
    "                    'ymin': past_bbox['miny'],\n",
    "                    'ymax': past_bbox['maxy']}\n",
    "\n",
    "    n_row_tiles = int(np.ceil((total_bounds['ymax'] - total_bounds['ymin'])/full_tile_size))\n",
    "    n_col_tiles = int(np.ceil((total_bounds['xmax'] - total_bounds['xmin'])/full_tile_size))\n",
    "\n",
    "    outSHP = os.path.join(outDIR, 'burrow_pts_pred_' + '_'.join([pasture] + inputs_fnl + [str(res_fnl)]) + 'cm.shp')\n",
    "    if os.path.exists(outSHP):\n",
    "        gdf_out = gpd.read_file(outSHP)\n",
    "        r_ct_pred = len(gdf_out)\n",
    "        rc_completed = gdf_out.apply(lambda x: '_'.join([str(x.tile_row), str(x.tile_col)]), axis=1).unique()\n",
    "    elif os.path.exists(re.sub('.shp', '.csv', outSHP)):\n",
    "        gdf_out = pd.read_csv(re.sub('.shp', '.csv', outSHP))\n",
    "        r_ct_pred = len(gdf_out)\n",
    "        rc_completed = gdf_out.apply(lambda x: '_'.join([str(x.tile_row), str(x.tile_col)]), axis=1).unique()\n",
    "    else:\n",
    "        r_ct_pred = 0\n",
    "        gdf_out = gpd.GeoDataFrame()\n",
    "        rc_completed = []\n",
    "    tile_ct = 0\n",
    "    for full_r in range(n_row_tiles):\n",
    "        print('running row: ' + str(full_r) + ' of ' + str(n_row_tiles))\n",
    "        for full_c in tqdm(range(n_col_tiles)):\n",
    "            if len(client.cluster.workers) < 8:\n",
    "                client.shutdown()\n",
    "                client.close()\n",
    "                cluster = LocalCluster(n_workers=8, threads_per_worker=2, processes=True)\n",
    "                client = Client(cluster)\n",
    "                client.amm.start()\n",
    "            if '_'.join([str(full_r), str(full_c)]) in rc_completed:\n",
    "                #print('skipping row/column combination, already in shapefile!')\n",
    "                continue\n",
    "            else:\n",
    "                try:\n",
    "                    t0=time.time()\n",
    "\n",
    "                    ll_tile = [full_c * full_tile_size + total_bounds['xmin'],\n",
    "                               full_r * full_tile_size + total_bounds['ymin']]\n",
    "                    ul_tile = [ll_tile[0], ll_tile[1] + full_tile_size]\n",
    "                    ur_tile = [x + full_tile_size for x in ll_tile]\n",
    "                    lr_tile = [ll_tile[0] + full_tile_size, ll_tile[1]]\n",
    "                    tile_poly = Polygon([ll_tile, ul_tile, ur_tile, lr_tile])\n",
    "\n",
    "                    ll = [full_c * full_tile_size + total_bounds['xmin'] - buff_size_m,\n",
    "                          full_r * full_tile_size + total_bounds['ymin'] - buff_size_m]\n",
    "                    ul = [ll[0], ll[1] + full_tile_size + (buff_size_m * 2.0)]\n",
    "                    ur = [x + full_tile_size + (buff_size_m * 2.0) for x in ll]\n",
    "                    lr = [ll[0] + full_tile_size + (buff_size_m * 2.0), ll[1]]\n",
    "\n",
    "                    image_dict = {}\n",
    "                    newsize_r = int(round((ul[1] - ll[1]) / (res_fnl * 0.01), 0))\n",
    "                    newsize_c = int(round((lr[0] - ll[0]) / (res_fnl * 0.01), 0))\n",
    "                    if 'rgb' in inputs_fnl:\n",
    "                        #print('getting RGB')\n",
    "                        t1=time.time()\n",
    "\n",
    "                        rgb_xr_list = []\n",
    "                        for rgb_f in img_f_dict[pasture]['rgb']:\n",
    "                            with riox.open_rasterio(rgb_f, masked=True) as rgb_src:\n",
    "                                rgb_xr_list.append(rgb_src.sel(band=slice(0, 3),\n",
    "                                                               x=slice(ll[0], lr[0]),\n",
    "                                                               y=slice(ul[1], ll[1]), \n",
    "                                                               drop=True))\n",
    "                        rgb_xr_list = [x.astype('float32').where(x != 255., drop=True) for x in rgb_xr_list if not any([s == 0 for s in x.shape])]\n",
    "                        rgb_xr_list = [x.rio.write_nodata(3.4028234663852886e+38) for x in rgb_xr_list]\n",
    "\n",
    "                        rgb_xr = merge_arrays(rgb_xr_list,\n",
    "                                              bounds=(ll[0], ll[1], lr[0], ur[1]), \n",
    "                                              res=res_fnl*0.01, \n",
    "                                              crs=rio.CRS.from_epsg(32613),\n",
    "                                              method='max',\n",
    "                                              nodata=3.4028234663852886e+38)\n",
    "                        rgb_xr = rgb_xr.where(rgb_xr != 3.4028234663852886e+38)\n",
    "                        if rgb_xr.isnull().any().values:\n",
    "                            rgb_xr = rgb_xr.rio.interpolate_na(method='nearest')\n",
    "\n",
    "                        image_dict['rgb'] = rgb_xr.values\n",
    "                        #rgb_xr.close()\n",
    "                        t2=time.time()\n",
    "                        #print('... completed in', round(t2 - t1, 1), 'secs')\n",
    "                        del rgb_xr, rgb_xr_list\n",
    "                    if 'dsm' in inputs_fnl or 'tpi' in inputs_fnl:\n",
    "                        t1 = time.time()\n",
    "                        #print('getting DSM')\n",
    "                        dsm_xr_list = []\n",
    "                        for dsm_f in img_f_dict[pasture]['dsm']:\n",
    "                            with riox.open_rasterio(dsm_f, masked=True) as dsm_src:\n",
    "                                dsm_xr_list.append(dsm_src.sel(x=slice(ll[0], lr[0]),\n",
    "                                                               y=slice(ul[1], ll[1]), \n",
    "                                                               drop=True))\n",
    "\n",
    "                        dsm_xr_list = [x.where(x > 0, drop=True) for x in dsm_xr_list]\n",
    "                        dsm_xr_list = [x.squeeze() for x in dsm_xr_list if not any([s == 0 for s in x.shape])]\n",
    "                        dsm_xr_list = [x.rio.write_nodata(3.4028234663852886e+38) for x in dsm_xr_list]\n",
    "\n",
    "                        dsm_xr = merge_arrays(dsm_xr_list,\n",
    "                                              bounds=(ll[0], ll[1], lr[0], ur[1]), \n",
    "                                              res=res_fnl*0.01, \n",
    "                                              crs=rio.CRS.from_epsg(32613),\n",
    "                                              method='max',\n",
    "                                              nodata=3.4028234663852886e+38)\n",
    "                        dsm_xr = dsm_xr.where(dsm_xr > 0)\n",
    "                        dsm_xr = dsm_xr.where(dsm_xr != 3.4028234663852886e+38)\n",
    "                        \n",
    "                        if dsm_xr.isnull().any().values:\n",
    "                            dsm_xr = dsm_xr.rio.interpolate_na(method='nearest')\n",
    "                        \n",
    "                        if 'dsm' in inputs_fnl:\n",
    "                            image_dict['dsm'] = dsm_xr.values\n",
    "                        #dsm_xr.close()\n",
    "                        t2=time.time()\n",
    "                        #print('... completed in', round(t2 - t1, 1), 'secs')\n",
    "                    if 'tpi' in inputs_fnl: \n",
    "                        t1 = time.time()\n",
    "                        #print('computing TPI')\n",
    "                        # prepare an annulus kernel with a ring at a distance from 5-10 cells away from focal point\n",
    "                        outer_radius = \"0.75m\"\n",
    "                        inner_radius = \"0.25m\"\n",
    "                        image_dict['tpi'] = calc_tpi(dsm_xr.chunk({'x': chunk_size,\n",
    "                                                                   'y': chunk_size}), \n",
    "                                                     inner_r=inner_radius, \n",
    "                                                     outer_r=outer_radius, \n",
    "                                                     interpolate=True,\n",
    "                                                     values=True)\n",
    "                        #dsm_xr.close()\n",
    "                        t2=time.time()\n",
    "                        #print('... completed in', round(t2 - t1, 1), 'secs')\n",
    "                        del dsm_xr, dsm_xr_list\n",
    "                    if 'ndvi' in inputs_fnl:\n",
    "                        t1 = time.time()\n",
    "                        #print('computing NDVI')\n",
    "                        ms_xr_list = []\n",
    "                        for ms_f in img_f_dict[pasture]['ms']:\n",
    "                            with riox.open_rasterio(ms_f, masked=True) as ms_src:\n",
    "                                ms_xr_list.append(ms_src.sel(band=[4, 3],\n",
    "                                                               x=slice(ll[0], lr[0]),\n",
    "                                                               y=slice(ul[1], ll[1]), \n",
    "                                                               drop=True))\n",
    "\n",
    "                        #ms_xr_list = [x.where(x != 65535, drop=True) for x in ms_xr_list]\n",
    "                        ms_xr_list = [x.where(x != 65535, drop=True) for x in ms_xr_list if not any([s == 0 for s in x.shape])]\n",
    "                        ms_xr_list = [x.rio.write_nodata(3.4028234663852886e+38) for x in ms_xr_list]\n",
    "\n",
    "                        ms_xr = merge_arrays(ms_xr_list,\n",
    "                                              bounds=(ll[0], ll[1], lr[0], ur[1]), \n",
    "                                              res=res_fnl*0.01, \n",
    "                                              crs=rio.CRS.from_epsg(32613),\n",
    "                                              method='max',\n",
    "                                              nodata=3.4028234663852886e+38)\n",
    "                        ms_xr = ms_xr.where(ms_xr != 3.4028234663852886e+38)\n",
    "\n",
    "                        image_dict['ndvi'] = calc_ndvi(ms_xr, values=True)\n",
    "                        #ms_xr.close()\n",
    "                        t2=time.time()\n",
    "                        #print('... completed in', round(t2 - t1, 1), 'secs')\n",
    "                        del ms_xr, ms_xr_list\n",
    "\n",
    "                    if 'rgb' in image_dict:\n",
    "                        tshape = image_dict['rgb'].shape[1:]\n",
    "                    else:\n",
    "                        tshape = image_dict[inputs_fnl[0]].shape\n",
    "\n",
    "                    n_row_chunks = int(np.ceil(tshape[0]/tile_size))\n",
    "                    n_col_chunks = int(np.ceil(tshape[1]/tile_size))\n",
    "\n",
    "                    pr_mask = np.empty(tshape)\n",
    "                    t1 = time.time()\n",
    "                    #print('predicting binary burrow image')\n",
    "                    for r in range(n_row_chunks):\n",
    "                        if (r + 1) * tile_size > tshape[0]:\n",
    "                            r_min = tshape[0] - tile_size\n",
    "                            r_max = tshape[0]\n",
    "                            r_max_comp = tshape[0]\n",
    "                        elif (r + 1) * tile_size + buff_size > tshape[0]:\n",
    "                            r_min = r * tile_size\n",
    "                            r_max = (r + 1) * tile_size\n",
    "                            r_max_comp = r_max\n",
    "                        else:\n",
    "                            r_min = r * tile_size\n",
    "                            r_max = (r + 1) * tile_size\n",
    "                            r_max_comp = r_max + buff_size\n",
    "                        for c in range(n_col_chunks):\n",
    "                            image_sub_dict = {}\n",
    "                            if (c + 1) * tile_size > tshape[1]:\n",
    "                                c_min = tshape[1] - tile_size\n",
    "                                c_max = tshape[1]\n",
    "                                c_max_comp = tshape[1]\n",
    "                            elif (c + 1) * tile_size + buff_size > tshape[1]:\n",
    "                                c_min = c * tile_size\n",
    "                                c_max = (c + 1) * tile_size\n",
    "                                c_max_comp = c_max\n",
    "                            else:\n",
    "                                c_min = c * tile_size\n",
    "                                c_max = (c + 1) * tile_size\n",
    "                                c_max_comp = c_max + buff_size\n",
    "                            for k in image_dict:\n",
    "                                if k == 'rgb':\n",
    "                                    image_sub_dict[k] = image_dict[k][:,\n",
    "                                                                      slice(max(0, r_min-buff_size), r_max_comp),\n",
    "                                                                      slice(max(0, c_min-buff_size), c_max_comp)].astype('float32')\n",
    "                                else:\n",
    "                                    image_sub_dict[k] = image_dict[k][slice(max(0, r_min-buff_size), r_max_comp),\n",
    "                                                                      slice(max(0, c_min-buff_size), c_max_comp)].astype('float32')\n",
    "                                if len(image_sub_dict[k].shape) == 2:\n",
    "                                    image_sub_dict[k] = np.expand_dims(image_sub_dict[k], 0)\n",
    "                                if np.all(np.isnan(image_sub_dict[k])):\n",
    "                                    continue\n",
    "                                elif np.any(np.isnan(image_sub_dict[k])):\n",
    "                                    for i in range(image_sub_dict[k].shape[0]):\n",
    "                                        if np.any(np.isnan(image_sub_dict[k][i, :, :])):\n",
    "                                            data = image_sub_dict[k][i, :, :].copy()\n",
    "                                            mask = np.where(~np.isnan(data))\n",
    "                                            interp = NearestNDInterpolator(np.transpose(mask), data[mask])\n",
    "                                            image_sub_dict[k][i, :, :] = interp(*np.indices(data.shape))\n",
    "                                            del data, mask, interp\n",
    "    \n",
    "                            if np.any([np.all(np.isnan(image_sub_dict[k])) for k in image_sub_dict]):\n",
    "                                pr_mask[r_min:r_max, c_min:c_max] = np.nan\n",
    "                                gdf_tmp = gpd.GeoDataFrame(data=pd.DataFrame({'area': ''}, index=[r_ct_pred]))\n",
    "                                gdf_tmp['tile_row'] = full_r\n",
    "                                gdf_tmp['tile_col'] =  full_c\n",
    "                                gdf_tmp['tile_size'] = full_tile_size\n",
    "                                gdf_out = pd.concat([gdf_out, gdf_tmp])\n",
    "                                del gdf_tmp\n",
    "                                r_ct_pred += 1\n",
    "                                continue\n",
    "                            else:\n",
    "                                if preprocess:\n",
    "                                    for i in image_sub_dict:\n",
    "                                        image_sub_dict[i] = normalize_fn(image_sub_dict[i], i, image_stats)\n",
    "                                image_list = [image_sub_dict[i] for i in inputs_fnl]\n",
    "                                image_out = np.concatenate(image_list, axis=0)\n",
    "                                x_tensor = torch.from_numpy(image_out).to(DEVICE).unsqueeze(0)\n",
    "                                if type(best_model) == nn.DataParallel:\n",
    "                                    pred_tmp = best_model.module.predict(x_tensor).cpu().detach().numpy().squeeze() >= prob_thresh\n",
    "                                    buff_r_min = buff_size * int(r_min-buff_size > 0)\n",
    "                                    buff_r_max = buff_size * int(r_max+buff_size < tshape[0])\n",
    "                                    buff_c_min = buff_size * int(c_min-buff_size > 0)\n",
    "                                    buff_c_max = buff_size * int(c_max+buff_size < tshape[1])\n",
    "                                    if pred_tmp.shape[1] > tile_size:\n",
    "                                        pr_mask[r_min:r_max, c_min:c_max] = pred_tmp[buff_r_min:pred_tmp.shape[0]-buff_r_max,\n",
    "                                                                                     buff_c_min:pred_tmp.shape[1]-buff_c_max]\n",
    "                                    else:\n",
    "                                        pr_mask[r_min:r_max, c_min:c_max] = pred_tmp\n",
    "                                else:\n",
    "                                    pred_tmp = best_model.predict(x_tensor).cpu().detach().numpy().squeeze() >= prob_thresh\n",
    "                                    buff_r_min = buff_size * int(r_min-buff_size > 0)\n",
    "                                    buff_r_max = buff_size * int(r_max+buff_size < tshape[0])\n",
    "                                    buff_c_min = buff_size * int(c_min-buff_size > 0)\n",
    "                                    buff_c_max = buff_size * int(c_max+buff_size < tshape[1])\n",
    "                                    if pred_tmp.shape[1] > tile_size:\n",
    "                                        pr_mask[r_min:r_max, c_min:c_max] = pred_tmp[buff_r_min:pred_tmp.shape[0]-buff_r_max,\n",
    "                                                                                     buff_c_min:pred_tmp.shape[1]-buff_c_max]\n",
    "                                    else:\n",
    "                                        pr_mask[r_min:r_max, c_min:c_max] = pred_tmp\n",
    "                    t2=time.time()\n",
    "                    #print('... completed in', round(t2 - t1, 1), 'secs')\n",
    "                    t1 = time.time()\n",
    "                    #print('getting burrow locations')\n",
    "                    if np.all(pr_mask == 0):\n",
    "                        gdf_tmp = gpd.GeoDataFrame(data=pd.DataFrame({'area': ''}, index=[r_ct_pred]))\n",
    "                        gdf_tmp['tile_row'] = full_r\n",
    "                        gdf_tmp['tile_col'] =  full_c\n",
    "                        gdf_tmp['tile_size'] = full_tile_size\n",
    "                        gdf_out = pd.concat([gdf_out, gdf_tmp])\n",
    "                        del gdf_tmp\n",
    "                        r_ct_pred += 1\n",
    "                    else:\n",
    "                        pr_labels = label(pr_mask)\n",
    "                        pr_regions = regionprops(pr_labels)\n",
    "                        pr_regions = [r for r in pr_regions if (r.area*(res_fnl/100)**2 > 0.05) & (r.area*(res_fnl/100)**2 < 5.0)]\n",
    "                        if len(pr_regions) == 0:\n",
    "                            #print('no burrow locations found!')\n",
    "                            gdf_tmp = gpd.GeoDataFrame(data=pd.DataFrame({'area': ''}, index=[r_ct_pred]))\n",
    "                            gdf_tmp['tile_row'] = full_r\n",
    "                            gdf_tmp['tile_col'] =  full_c\n",
    "                            gdf_tmp['tile_size'] = full_tile_size\n",
    "                            gdf_out = pd.concat([gdf_out, gdf_tmp])\n",
    "                            del gdf_tmp\n",
    "                            r_ct_pred += 1\n",
    "                        else:\n",
    "                            r_ct_tile = 0\n",
    "                            for r in pr_regions:\n",
    "                                gdf_tmp = gpd.GeoDataFrame(data=pd.DataFrame({'area': r.area}, \n",
    "                                                                             index=[r_ct_pred]), \n",
    "                                                           geometry=[Point([ll[0] + r.centroid[1]*(res_fnl*0.01),\n",
    "                                                                            ul[1] - r.centroid[0]*(res_fnl*0.01)])], \n",
    "                                                           crs='EPSG:32613')\n",
    "                                if gdf_tmp.geometry.within(tile_poly).values[0]:\n",
    "                                    gdf_tmp['tile_row'] = full_r\n",
    "                                    gdf_tmp['tile_col'] =  full_c\n",
    "                                    gdf_tmp['tile_size'] = full_tile_size\n",
    "                                    gdf_out = pd.concat([gdf_out, gdf_tmp])\n",
    "                                    r_ct_tile += 1\n",
    "                                if type(gdf_out) is pd.core.frame.DataFrame:\n",
    "                                    gdf_out = gpd.GeoDataFrame(gdf_out, geometry = gdf_out['geometry'])\n",
    "                                del gdf_tmp\n",
    "                                r_ct_pred += 1\n",
    "                            if r_ct_tile == 0:\n",
    "                                gdf_tmp = gpd.GeoDataFrame(data=pd.DataFrame({'area': ''}, index=[r_ct_pred]))\n",
    "                                gdf_tmp['tile_row'] = full_r\n",
    "                                gdf_tmp['tile_col'] =  full_c\n",
    "                                gdf_tmp['tile_size'] = full_tile_size\n",
    "                                gdf_out = pd.concat([gdf_out, gdf_tmp])\n",
    "                                del gdf_tmp\n",
    "                                r_ct_pred += 1\n",
    "                        t2=time.time()\n",
    "                        #print('... completed in', round(t2 - t1, 1), 'secs')\n",
    "                    if type(gdf_out) is pd.core.frame.DataFrame:\n",
    "                        gdf_out.to_csv(re.sub('.shp', '.csv', outSHP), index=False)\n",
    "                    else:\n",
    "                        gdf_out.to_file(outSHP)\n",
    "                    try:\n",
    "                        del pr_mask, pred_tmp, pr_labels, pr_regions, image_dict, image_sub_dict, image_list, image_out\n",
    "                    except NameError:\n",
    "                        pass\n",
    "                    gc.collect()\n",
    "                    client.run(gc.collect)\n",
    "                    client.run(trim_memory)\n",
    "                    if (tile_ct > 0) & (tile_ct % 20 == 0):\n",
    "                        try:\n",
    "                            client.restart(timeout=9)\n",
    "                            time.sleep(10)\n",
    "                        except TimeoutError:\n",
    "                            client.shutdown()\n",
    "                            client.close()\n",
    "                            cluster = LocalCluster(n_workers=8, threads_per_worker=2, processes=True)\n",
    "                            client = Client(cluster)\n",
    "                            client.amm.start()\n",
    "\n",
    "                    #client.restart()\n",
    "                except NoDataInBounds:\n",
    "                    gdf_tmp = gpd.GeoDataFrame(data=pd.DataFrame({'area': ''}, index=[r_ct_pred]))\n",
    "                    gdf_tmp['tile_row'] = full_r\n",
    "                    gdf_tmp['tile_col'] =  full_c\n",
    "                    gdf_tmp['tile_size'] = full_tile_size\n",
    "                    gdf_out = pd.concat([gdf_out, gdf_tmp])\n",
    "                    del gdf_tmp\n",
    "                    r_ct_pred += 1\n",
    "                    if type(gdf_out) is pd.core.frame.DataFrame:\n",
    "                        gdf_out.to_csv(re.sub('.shp', '.csv', outSHP), index=False)\n",
    "                    else:\n",
    "                        gdf_out.to_file(outSHP)\n",
    "                    continue\n",
    "                    #print('No data in bounds. Skipping row/column.')\n",
    "            tile_ct += 1\n",
    "        #if not '_'.join([str(full_r), str(full_c)]) in rc_completed:\n",
    "    print('Pasture-group finished!')\n",
    "    try:\n",
    "        client.restart(timeout=9)\n",
    "        time.sleep(10)\n",
    "    except TimeoutError:\n",
    "        client.shutdown()\n",
    "        client.close()\n",
    "        cluster = LocalCluster(n_workers=8, threads_per_worker=2, processes=True)\n",
    "        client = Client(cluster)\n",
    "        client.amm.start()\n"
   ]
  },
  {
   "cell_type": "code",
   "execution_count": null,
   "id": "d60b4a4a-31e2-41ad-ad7f-49b49d76047e",
   "metadata": {},
   "outputs": [],
   "source": []
  }
 ],
 "metadata": {
  "kernelspec": {
   "display_name": "Python 3 (ipykernel)",
   "language": "python",
   "name": "python3"
  },
  "language_info": {
   "codemirror_mode": {
    "name": "ipython",
    "version": 3
   },
   "file_extension": ".py",
   "mimetype": "text/x-python",
   "name": "python",
   "nbconvert_exporter": "python",
   "pygments_lexer": "ipython3",
   "version": "3.9.13"
  }
 },
 "nbformat": 4,
 "nbformat_minor": 5
}
