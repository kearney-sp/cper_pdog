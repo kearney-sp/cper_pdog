{
 "cells": [
  {
   "cell_type": "code",
   "execution_count": 1,
   "id": "9e2bd11b-adb7-44d3-a1a9-137a83606ab5",
   "metadata": {},
   "outputs": [],
   "source": [
    "from shapely.geometry import Polygon, Point\n",
    "import itertools\n",
    "import geopandas as gpd\n",
    "import pandas as pd\n",
    "import rasterio as rio\n",
    "from rasterio.features import rasterize\n",
    "from rasterio import mask\n",
    "from rasterio.plot import show\n",
    "from rasterio.enums import Resampling\n",
    "import matplotlib.pyplot as plt\n",
    "from skimage.measure import label, regionprops\n",
    "import torch.nn as nn\n",
    "import numpy as np\n",
    "import shapely.wkt as wkt\n",
    "import torch\n",
    "import segmentation_models_pytorch as smp\n",
    "from segmentation_models_pytorch import utils\n",
    "from tqdm import tqdm\n",
    "from skimage.measure import label, regionprops\n",
    "import os\n",
    "import dask\n",
    "import time\n",
    "import gc\n",
    "import re\n",
    "from rioxarray.exceptions import NoDataInBounds\n",
    "from rioxarray.merge import merge_arrays\n",
    "from scipy.interpolate import NearestNDInterpolator"
   ]
  },
  {
   "cell_type": "code",
   "execution_count": 2,
   "id": "aa0f21d8-4da6-493f-8aef-c6deed579977",
   "metadata": {},
   "outputs": [
    {
     "data": {
      "text/plain": [
       "<dask.config.set at 0x7f42844fa070>"
      ]
     },
     "execution_count": 2,
     "metadata": {},
     "output_type": "execute_result"
    }
   ],
   "source": [
    "import distributed\n",
    "dask.config.set({\"distributed.nanny.environ.MALLOC_TRIM_THRESHOLD_\": 0})\n",
    "dask.config.set(scheduler='processes')"
   ]
  },
  {
   "cell_type": "code",
   "execution_count": 3,
   "id": "2e85d291-0187-49a8-8933-6b50f0dad9a5",
   "metadata": {},
   "outputs": [
    {
     "name": "stdout",
     "output_type": "stream",
     "text": [
      "0\n"
     ]
    }
   ],
   "source": [
    "import ctypes\n",
    "\n",
    "def trim_memory() -> int:\n",
    "    libc = ctypes.CDLL(\"libc.so.6\")\n",
    "    return libc.malloc_trim(0)\n",
    "\n",
    "os.environ[\"MALLOC_TRIM_THRESHOLD_\"] = str(dask.config.get(\"distributed.nanny.environ.MALLOC_TRIM_THRESHOLD_\"))\n",
    "\n",
    "print(os.environ[\"MALLOC_TRIM_THRESHOLD_\"])\n",
    "\n",
    "#os.environ[\"MALLOC_TRIM_THRESHOLD_\"] = '0'"
   ]
  },
  {
   "cell_type": "code",
   "execution_count": 4,
   "id": "ea00fa48-5d5e-4a18-a5f5-a5f4c338d448",
   "metadata": {},
   "outputs": [],
   "source": [
    "import xarray as xr\n",
    "import rioxarray as riox\n",
    "from xrspatial import convolution, focal, hillshade\n",
    "from skimage.transform import resize\n",
    "from dask.distributed import LocalCluster, Client"
   ]
  },
  {
   "cell_type": "code",
   "execution_count": 5,
   "id": "f0d6c4e7-b288-4279-826d-39975e5db58c",
   "metadata": {},
   "outputs": [
    {
     "name": "stderr",
     "output_type": "stream",
     "text": [
      "distributed.diskutils - INFO - Found stale lock file and directory '/mnt/c/Users/TBGPEA-Sean/git_repos/cper_pdog_uas/dask-worker-space/worker-663j4l21', purging\n",
      "distributed.diskutils - INFO - Found stale lock file and directory '/mnt/c/Users/TBGPEA-Sean/git_repos/cper_pdog_uas/dask-worker-space/worker-6qusabkv', purging\n",
      "distributed.diskutils - INFO - Found stale lock file and directory '/mnt/c/Users/TBGPEA-Sean/git_repos/cper_pdog_uas/dask-worker-space/worker-b7ibfl7n', purging\n",
      "distributed.diskutils - INFO - Found stale lock file and directory '/mnt/c/Users/TBGPEA-Sean/git_repos/cper_pdog_uas/dask-worker-space/worker-d2sgdzdc', purging\n",
      "distributed.diskutils - INFO - Found stale lock file and directory '/mnt/c/Users/TBGPEA-Sean/git_repos/cper_pdog_uas/dask-worker-space/worker-hjom7mcn', purging\n",
      "distributed.diskutils - INFO - Found stale lock file and directory '/mnt/c/Users/TBGPEA-Sean/git_repos/cper_pdog_uas/dask-worker-space/worker-i7p1sbvn', purging\n",
      "distributed.diskutils - INFO - Found stale lock file and directory '/mnt/c/Users/TBGPEA-Sean/git_repos/cper_pdog_uas/dask-worker-space/worker-i82cqqu6', purging\n",
      "distributed.diskutils - INFO - Found stale lock file and directory '/mnt/c/Users/TBGPEA-Sean/git_repos/cper_pdog_uas/dask-worker-space/worker-ro9921l6', purging\n"
     ]
    },
    {
     "data": {
      "text/html": [
       "<div>\n",
       "    <div style=\"width: 24px; height: 24px; background-color: #e1e1e1; border: 3px solid #9D9D9D; border-radius: 5px; position: absolute;\"> </div>\n",
       "    <div style=\"margin-left: 48px;\">\n",
       "        <h3 style=\"margin-bottom: 0px;\">Client</h3>\n",
       "        <p style=\"color: #9D9D9D; margin-bottom: 0px;\">Client-9b159538-42d9-11ed-96f3-00155d709e91</p>\n",
       "        <table style=\"width: 100%; text-align: left;\">\n",
       "\n",
       "        <tr>\n",
       "        \n",
       "            <td style=\"text-align: left;\"><strong>Connection method:</strong> Cluster object</td>\n",
       "            <td style=\"text-align: left;\"><strong>Cluster type:</strong> distributed.LocalCluster</td>\n",
       "        \n",
       "        </tr>\n",
       "\n",
       "        \n",
       "            <tr>\n",
       "                <td style=\"text-align: left;\">\n",
       "                    <strong>Dashboard: </strong> <a href=\"http://127.0.0.1:8787/status\" target=\"_blank\">http://127.0.0.1:8787/status</a>\n",
       "                </td>\n",
       "                <td style=\"text-align: left;\"></td>\n",
       "            </tr>\n",
       "        \n",
       "\n",
       "        </table>\n",
       "\n",
       "        \n",
       "            <details>\n",
       "            <summary style=\"margin-bottom: 20px;\"><h3 style=\"display: inline;\">Cluster Info</h3></summary>\n",
       "            <div class=\"jp-RenderedHTMLCommon jp-RenderedHTML jp-mod-trusted jp-OutputArea-output\">\n",
       "    <div style=\"width: 24px; height: 24px; background-color: #e1e1e1; border: 3px solid #9D9D9D; border-radius: 5px; position: absolute;\">\n",
       "    </div>\n",
       "    <div style=\"margin-left: 48px;\">\n",
       "        <h3 style=\"margin-bottom: 0px; margin-top: 0px;\">LocalCluster</h3>\n",
       "        <p style=\"color: #9D9D9D; margin-bottom: 0px;\">e1126979</p>\n",
       "        <table style=\"width: 100%; text-align: left;\">\n",
       "            <tr>\n",
       "                <td style=\"text-align: left;\">\n",
       "                    <strong>Dashboard:</strong> <a href=\"http://127.0.0.1:8787/status\" target=\"_blank\">http://127.0.0.1:8787/status</a>\n",
       "                </td>\n",
       "                <td style=\"text-align: left;\">\n",
       "                    <strong>Workers:</strong> 8\n",
       "                </td>\n",
       "            </tr>\n",
       "            <tr>\n",
       "                <td style=\"text-align: left;\">\n",
       "                    <strong>Total threads:</strong> 16\n",
       "                </td>\n",
       "                <td style=\"text-align: left;\">\n",
       "                    <strong>Total memory:</strong> 15.49 GiB\n",
       "                </td>\n",
       "            </tr>\n",
       "            \n",
       "            <tr>\n",
       "    <td style=\"text-align: left;\"><strong>Status:</strong> running</td>\n",
       "    <td style=\"text-align: left;\"><strong>Using processes:</strong> True</td>\n",
       "</tr>\n",
       "\n",
       "            \n",
       "        </table>\n",
       "\n",
       "        <details>\n",
       "            <summary style=\"margin-bottom: 20px;\">\n",
       "                <h3 style=\"display: inline;\">Scheduler Info</h3>\n",
       "            </summary>\n",
       "\n",
       "            <div style=\"\">\n",
       "    <div>\n",
       "        <div style=\"width: 24px; height: 24px; background-color: #FFF7E5; border: 3px solid #FF6132; border-radius: 5px; position: absolute;\"> </div>\n",
       "        <div style=\"margin-left: 48px;\">\n",
       "            <h3 style=\"margin-bottom: 0px;\">Scheduler</h3>\n",
       "            <p style=\"color: #9D9D9D; margin-bottom: 0px;\">Scheduler-7cd56730-7f17-4834-b7f4-14cdf9d0b295</p>\n",
       "            <table style=\"width: 100%; text-align: left;\">\n",
       "                <tr>\n",
       "                    <td style=\"text-align: left;\">\n",
       "                        <strong>Comm:</strong> tcp://127.0.0.1:38757\n",
       "                    </td>\n",
       "                    <td style=\"text-align: left;\">\n",
       "                        <strong>Workers:</strong> 8\n",
       "                    </td>\n",
       "                </tr>\n",
       "                <tr>\n",
       "                    <td style=\"text-align: left;\">\n",
       "                        <strong>Dashboard:</strong> <a href=\"http://127.0.0.1:8787/status\" target=\"_blank\">http://127.0.0.1:8787/status</a>\n",
       "                    </td>\n",
       "                    <td style=\"text-align: left;\">\n",
       "                        <strong>Total threads:</strong> 16\n",
       "                    </td>\n",
       "                </tr>\n",
       "                <tr>\n",
       "                    <td style=\"text-align: left;\">\n",
       "                        <strong>Started:</strong> Just now\n",
       "                    </td>\n",
       "                    <td style=\"text-align: left;\">\n",
       "                        <strong>Total memory:</strong> 15.49 GiB\n",
       "                    </td>\n",
       "                </tr>\n",
       "            </table>\n",
       "        </div>\n",
       "    </div>\n",
       "\n",
       "    <details style=\"margin-left: 48px;\">\n",
       "        <summary style=\"margin-bottom: 20px;\">\n",
       "            <h3 style=\"display: inline;\">Workers</h3>\n",
       "        </summary>\n",
       "\n",
       "        \n",
       "        <div style=\"margin-bottom: 20px;\">\n",
       "            <div style=\"width: 24px; height: 24px; background-color: #DBF5FF; border: 3px solid #4CC9FF; border-radius: 5px; position: absolute;\"> </div>\n",
       "            <div style=\"margin-left: 48px;\">\n",
       "            <details>\n",
       "                <summary>\n",
       "                    <h4 style=\"margin-bottom: 0px; display: inline;\">Worker: 0</h4>\n",
       "                </summary>\n",
       "                <table style=\"width: 100%; text-align: left;\">\n",
       "                    <tr>\n",
       "                        <td style=\"text-align: left;\">\n",
       "                            <strong>Comm: </strong> tcp://127.0.0.1:38511\n",
       "                        </td>\n",
       "                        <td style=\"text-align: left;\">\n",
       "                            <strong>Total threads: </strong> 2\n",
       "                        </td>\n",
       "                    </tr>\n",
       "                    <tr>\n",
       "                        <td style=\"text-align: left;\">\n",
       "                            <strong>Dashboard: </strong> <a href=\"http://127.0.0.1:33715/status\" target=\"_blank\">http://127.0.0.1:33715/status</a>\n",
       "                        </td>\n",
       "                        <td style=\"text-align: left;\">\n",
       "                            <strong>Memory: </strong> 1.94 GiB\n",
       "                        </td>\n",
       "                    </tr>\n",
       "                    <tr>\n",
       "                        <td style=\"text-align: left;\">\n",
       "                            <strong>Nanny: </strong> tcp://127.0.0.1:44307\n",
       "                        </td>\n",
       "                        <td style=\"text-align: left;\"></td>\n",
       "                    </tr>\n",
       "                    <tr>\n",
       "                        <td colspan=\"2\" style=\"text-align: left;\">\n",
       "                            <strong>Local directory: </strong> /mnt/c/Users/TBGPEA-Sean/git_repos/cper_pdog_uas/dask-worker-space/worker-fr0svypx\n",
       "                        </td>\n",
       "                    </tr>\n",
       "\n",
       "                    \n",
       "\n",
       "                    \n",
       "\n",
       "                </table>\n",
       "            </details>\n",
       "            </div>\n",
       "        </div>\n",
       "        \n",
       "        <div style=\"margin-bottom: 20px;\">\n",
       "            <div style=\"width: 24px; height: 24px; background-color: #DBF5FF; border: 3px solid #4CC9FF; border-radius: 5px; position: absolute;\"> </div>\n",
       "            <div style=\"margin-left: 48px;\">\n",
       "            <details>\n",
       "                <summary>\n",
       "                    <h4 style=\"margin-bottom: 0px; display: inline;\">Worker: 1</h4>\n",
       "                </summary>\n",
       "                <table style=\"width: 100%; text-align: left;\">\n",
       "                    <tr>\n",
       "                        <td style=\"text-align: left;\">\n",
       "                            <strong>Comm: </strong> tcp://127.0.0.1:41329\n",
       "                        </td>\n",
       "                        <td style=\"text-align: left;\">\n",
       "                            <strong>Total threads: </strong> 2\n",
       "                        </td>\n",
       "                    </tr>\n",
       "                    <tr>\n",
       "                        <td style=\"text-align: left;\">\n",
       "                            <strong>Dashboard: </strong> <a href=\"http://127.0.0.1:35521/status\" target=\"_blank\">http://127.0.0.1:35521/status</a>\n",
       "                        </td>\n",
       "                        <td style=\"text-align: left;\">\n",
       "                            <strong>Memory: </strong> 1.94 GiB\n",
       "                        </td>\n",
       "                    </tr>\n",
       "                    <tr>\n",
       "                        <td style=\"text-align: left;\">\n",
       "                            <strong>Nanny: </strong> tcp://127.0.0.1:42565\n",
       "                        </td>\n",
       "                        <td style=\"text-align: left;\"></td>\n",
       "                    </tr>\n",
       "                    <tr>\n",
       "                        <td colspan=\"2\" style=\"text-align: left;\">\n",
       "                            <strong>Local directory: </strong> /mnt/c/Users/TBGPEA-Sean/git_repos/cper_pdog_uas/dask-worker-space/worker-is06s34n\n",
       "                        </td>\n",
       "                    </tr>\n",
       "\n",
       "                    \n",
       "\n",
       "                    \n",
       "\n",
       "                </table>\n",
       "            </details>\n",
       "            </div>\n",
       "        </div>\n",
       "        \n",
       "        <div style=\"margin-bottom: 20px;\">\n",
       "            <div style=\"width: 24px; height: 24px; background-color: #DBF5FF; border: 3px solid #4CC9FF; border-radius: 5px; position: absolute;\"> </div>\n",
       "            <div style=\"margin-left: 48px;\">\n",
       "            <details>\n",
       "                <summary>\n",
       "                    <h4 style=\"margin-bottom: 0px; display: inline;\">Worker: 2</h4>\n",
       "                </summary>\n",
       "                <table style=\"width: 100%; text-align: left;\">\n",
       "                    <tr>\n",
       "                        <td style=\"text-align: left;\">\n",
       "                            <strong>Comm: </strong> tcp://127.0.0.1:40907\n",
       "                        </td>\n",
       "                        <td style=\"text-align: left;\">\n",
       "                            <strong>Total threads: </strong> 2\n",
       "                        </td>\n",
       "                    </tr>\n",
       "                    <tr>\n",
       "                        <td style=\"text-align: left;\">\n",
       "                            <strong>Dashboard: </strong> <a href=\"http://127.0.0.1:43023/status\" target=\"_blank\">http://127.0.0.1:43023/status</a>\n",
       "                        </td>\n",
       "                        <td style=\"text-align: left;\">\n",
       "                            <strong>Memory: </strong> 1.94 GiB\n",
       "                        </td>\n",
       "                    </tr>\n",
       "                    <tr>\n",
       "                        <td style=\"text-align: left;\">\n",
       "                            <strong>Nanny: </strong> tcp://127.0.0.1:37903\n",
       "                        </td>\n",
       "                        <td style=\"text-align: left;\"></td>\n",
       "                    </tr>\n",
       "                    <tr>\n",
       "                        <td colspan=\"2\" style=\"text-align: left;\">\n",
       "                            <strong>Local directory: </strong> /mnt/c/Users/TBGPEA-Sean/git_repos/cper_pdog_uas/dask-worker-space/worker-l4u94b0r\n",
       "                        </td>\n",
       "                    </tr>\n",
       "\n",
       "                    \n",
       "\n",
       "                    \n",
       "\n",
       "                </table>\n",
       "            </details>\n",
       "            </div>\n",
       "        </div>\n",
       "        \n",
       "        <div style=\"margin-bottom: 20px;\">\n",
       "            <div style=\"width: 24px; height: 24px; background-color: #DBF5FF; border: 3px solid #4CC9FF; border-radius: 5px; position: absolute;\"> </div>\n",
       "            <div style=\"margin-left: 48px;\">\n",
       "            <details>\n",
       "                <summary>\n",
       "                    <h4 style=\"margin-bottom: 0px; display: inline;\">Worker: 3</h4>\n",
       "                </summary>\n",
       "                <table style=\"width: 100%; text-align: left;\">\n",
       "                    <tr>\n",
       "                        <td style=\"text-align: left;\">\n",
       "                            <strong>Comm: </strong> tcp://127.0.0.1:45991\n",
       "                        </td>\n",
       "                        <td style=\"text-align: left;\">\n",
       "                            <strong>Total threads: </strong> 2\n",
       "                        </td>\n",
       "                    </tr>\n",
       "                    <tr>\n",
       "                        <td style=\"text-align: left;\">\n",
       "                            <strong>Dashboard: </strong> <a href=\"http://127.0.0.1:41229/status\" target=\"_blank\">http://127.0.0.1:41229/status</a>\n",
       "                        </td>\n",
       "                        <td style=\"text-align: left;\">\n",
       "                            <strong>Memory: </strong> 1.94 GiB\n",
       "                        </td>\n",
       "                    </tr>\n",
       "                    <tr>\n",
       "                        <td style=\"text-align: left;\">\n",
       "                            <strong>Nanny: </strong> tcp://127.0.0.1:36741\n",
       "                        </td>\n",
       "                        <td style=\"text-align: left;\"></td>\n",
       "                    </tr>\n",
       "                    <tr>\n",
       "                        <td colspan=\"2\" style=\"text-align: left;\">\n",
       "                            <strong>Local directory: </strong> /mnt/c/Users/TBGPEA-Sean/git_repos/cper_pdog_uas/dask-worker-space/worker-x7hsc2fg\n",
       "                        </td>\n",
       "                    </tr>\n",
       "\n",
       "                    \n",
       "\n",
       "                    \n",
       "\n",
       "                </table>\n",
       "            </details>\n",
       "            </div>\n",
       "        </div>\n",
       "        \n",
       "        <div style=\"margin-bottom: 20px;\">\n",
       "            <div style=\"width: 24px; height: 24px; background-color: #DBF5FF; border: 3px solid #4CC9FF; border-radius: 5px; position: absolute;\"> </div>\n",
       "            <div style=\"margin-left: 48px;\">\n",
       "            <details>\n",
       "                <summary>\n",
       "                    <h4 style=\"margin-bottom: 0px; display: inline;\">Worker: 4</h4>\n",
       "                </summary>\n",
       "                <table style=\"width: 100%; text-align: left;\">\n",
       "                    <tr>\n",
       "                        <td style=\"text-align: left;\">\n",
       "                            <strong>Comm: </strong> tcp://127.0.0.1:36043\n",
       "                        </td>\n",
       "                        <td style=\"text-align: left;\">\n",
       "                            <strong>Total threads: </strong> 2\n",
       "                        </td>\n",
       "                    </tr>\n",
       "                    <tr>\n",
       "                        <td style=\"text-align: left;\">\n",
       "                            <strong>Dashboard: </strong> <a href=\"http://127.0.0.1:35425/status\" target=\"_blank\">http://127.0.0.1:35425/status</a>\n",
       "                        </td>\n",
       "                        <td style=\"text-align: left;\">\n",
       "                            <strong>Memory: </strong> 1.94 GiB\n",
       "                        </td>\n",
       "                    </tr>\n",
       "                    <tr>\n",
       "                        <td style=\"text-align: left;\">\n",
       "                            <strong>Nanny: </strong> tcp://127.0.0.1:35387\n",
       "                        </td>\n",
       "                        <td style=\"text-align: left;\"></td>\n",
       "                    </tr>\n",
       "                    <tr>\n",
       "                        <td colspan=\"2\" style=\"text-align: left;\">\n",
       "                            <strong>Local directory: </strong> /mnt/c/Users/TBGPEA-Sean/git_repos/cper_pdog_uas/dask-worker-space/worker-zwp_t7la\n",
       "                        </td>\n",
       "                    </tr>\n",
       "\n",
       "                    \n",
       "\n",
       "                    \n",
       "\n",
       "                </table>\n",
       "            </details>\n",
       "            </div>\n",
       "        </div>\n",
       "        \n",
       "        <div style=\"margin-bottom: 20px;\">\n",
       "            <div style=\"width: 24px; height: 24px; background-color: #DBF5FF; border: 3px solid #4CC9FF; border-radius: 5px; position: absolute;\"> </div>\n",
       "            <div style=\"margin-left: 48px;\">\n",
       "            <details>\n",
       "                <summary>\n",
       "                    <h4 style=\"margin-bottom: 0px; display: inline;\">Worker: 5</h4>\n",
       "                </summary>\n",
       "                <table style=\"width: 100%; text-align: left;\">\n",
       "                    <tr>\n",
       "                        <td style=\"text-align: left;\">\n",
       "                            <strong>Comm: </strong> tcp://127.0.0.1:42533\n",
       "                        </td>\n",
       "                        <td style=\"text-align: left;\">\n",
       "                            <strong>Total threads: </strong> 2\n",
       "                        </td>\n",
       "                    </tr>\n",
       "                    <tr>\n",
       "                        <td style=\"text-align: left;\">\n",
       "                            <strong>Dashboard: </strong> <a href=\"http://127.0.0.1:43947/status\" target=\"_blank\">http://127.0.0.1:43947/status</a>\n",
       "                        </td>\n",
       "                        <td style=\"text-align: left;\">\n",
       "                            <strong>Memory: </strong> 1.94 GiB\n",
       "                        </td>\n",
       "                    </tr>\n",
       "                    <tr>\n",
       "                        <td style=\"text-align: left;\">\n",
       "                            <strong>Nanny: </strong> tcp://127.0.0.1:43713\n",
       "                        </td>\n",
       "                        <td style=\"text-align: left;\"></td>\n",
       "                    </tr>\n",
       "                    <tr>\n",
       "                        <td colspan=\"2\" style=\"text-align: left;\">\n",
       "                            <strong>Local directory: </strong> /mnt/c/Users/TBGPEA-Sean/git_repos/cper_pdog_uas/dask-worker-space/worker-xz7q4l22\n",
       "                        </td>\n",
       "                    </tr>\n",
       "\n",
       "                    \n",
       "\n",
       "                    \n",
       "\n",
       "                </table>\n",
       "            </details>\n",
       "            </div>\n",
       "        </div>\n",
       "        \n",
       "        <div style=\"margin-bottom: 20px;\">\n",
       "            <div style=\"width: 24px; height: 24px; background-color: #DBF5FF; border: 3px solid #4CC9FF; border-radius: 5px; position: absolute;\"> </div>\n",
       "            <div style=\"margin-left: 48px;\">\n",
       "            <details>\n",
       "                <summary>\n",
       "                    <h4 style=\"margin-bottom: 0px; display: inline;\">Worker: 6</h4>\n",
       "                </summary>\n",
       "                <table style=\"width: 100%; text-align: left;\">\n",
       "                    <tr>\n",
       "                        <td style=\"text-align: left;\">\n",
       "                            <strong>Comm: </strong> tcp://127.0.0.1:44465\n",
       "                        </td>\n",
       "                        <td style=\"text-align: left;\">\n",
       "                            <strong>Total threads: </strong> 2\n",
       "                        </td>\n",
       "                    </tr>\n",
       "                    <tr>\n",
       "                        <td style=\"text-align: left;\">\n",
       "                            <strong>Dashboard: </strong> <a href=\"http://127.0.0.1:34577/status\" target=\"_blank\">http://127.0.0.1:34577/status</a>\n",
       "                        </td>\n",
       "                        <td style=\"text-align: left;\">\n",
       "                            <strong>Memory: </strong> 1.94 GiB\n",
       "                        </td>\n",
       "                    </tr>\n",
       "                    <tr>\n",
       "                        <td style=\"text-align: left;\">\n",
       "                            <strong>Nanny: </strong> tcp://127.0.0.1:39907\n",
       "                        </td>\n",
       "                        <td style=\"text-align: left;\"></td>\n",
       "                    </tr>\n",
       "                    <tr>\n",
       "                        <td colspan=\"2\" style=\"text-align: left;\">\n",
       "                            <strong>Local directory: </strong> /mnt/c/Users/TBGPEA-Sean/git_repos/cper_pdog_uas/dask-worker-space/worker-nk5en9oy\n",
       "                        </td>\n",
       "                    </tr>\n",
       "\n",
       "                    \n",
       "\n",
       "                    \n",
       "\n",
       "                </table>\n",
       "            </details>\n",
       "            </div>\n",
       "        </div>\n",
       "        \n",
       "        <div style=\"margin-bottom: 20px;\">\n",
       "            <div style=\"width: 24px; height: 24px; background-color: #DBF5FF; border: 3px solid #4CC9FF; border-radius: 5px; position: absolute;\"> </div>\n",
       "            <div style=\"margin-left: 48px;\">\n",
       "            <details>\n",
       "                <summary>\n",
       "                    <h4 style=\"margin-bottom: 0px; display: inline;\">Worker: 7</h4>\n",
       "                </summary>\n",
       "                <table style=\"width: 100%; text-align: left;\">\n",
       "                    <tr>\n",
       "                        <td style=\"text-align: left;\">\n",
       "                            <strong>Comm: </strong> tcp://127.0.0.1:37457\n",
       "                        </td>\n",
       "                        <td style=\"text-align: left;\">\n",
       "                            <strong>Total threads: </strong> 2\n",
       "                        </td>\n",
       "                    </tr>\n",
       "                    <tr>\n",
       "                        <td style=\"text-align: left;\">\n",
       "                            <strong>Dashboard: </strong> <a href=\"http://127.0.0.1:36883/status\" target=\"_blank\">http://127.0.0.1:36883/status</a>\n",
       "                        </td>\n",
       "                        <td style=\"text-align: left;\">\n",
       "                            <strong>Memory: </strong> 1.94 GiB\n",
       "                        </td>\n",
       "                    </tr>\n",
       "                    <tr>\n",
       "                        <td style=\"text-align: left;\">\n",
       "                            <strong>Nanny: </strong> tcp://127.0.0.1:38145\n",
       "                        </td>\n",
       "                        <td style=\"text-align: left;\"></td>\n",
       "                    </tr>\n",
       "                    <tr>\n",
       "                        <td colspan=\"2\" style=\"text-align: left;\">\n",
       "                            <strong>Local directory: </strong> /mnt/c/Users/TBGPEA-Sean/git_repos/cper_pdog_uas/dask-worker-space/worker-3a5kvk28\n",
       "                        </td>\n",
       "                    </tr>\n",
       "\n",
       "                    \n",
       "\n",
       "                    \n",
       "\n",
       "                </table>\n",
       "            </details>\n",
       "            </div>\n",
       "        </div>\n",
       "        \n",
       "\n",
       "    </details>\n",
       "</div>\n",
       "\n",
       "        </details>\n",
       "    </div>\n",
       "</div>\n",
       "            </details>\n",
       "        \n",
       "\n",
       "    </div>\n",
       "</div>"
      ],
      "text/plain": [
       "<Client: 'tcp://127.0.0.1:38757' processes=8 threads=16, memory=15.49 GiB>"
      ]
     },
     "metadata": {},
     "output_type": "display_data"
    }
   ],
   "source": [
    "cluster = LocalCluster(n_workers=8, threads_per_worker=2, processes=True)\n",
    "client = Client(cluster)\n",
    "client.amm.start()\n",
    "display(client)"
   ]
  },
  {
   "cell_type": "code",
   "execution_count": 6,
   "id": "8f525e70-71fa-4741-985d-96ff430aeb82",
   "metadata": {},
   "outputs": [],
   "source": [
    "# create function to normalize all data in range 0-1\n",
    "def normalize_fn(image, image_suffix, stats_dict):\n",
    "    if image_suffix in stats_dict.keys():\n",
    "        min_tmp = stats_dict[image_suffix]['min']\n",
    "        max_tmp = stats_dict[image_suffix]['max']\n",
    "    else:\n",
    "        # normalize to individual image if min/max stats not specified in dictionary\n",
    "        min_tmp = np.min(image)\n",
    "        max_tmp = np.max(image)\n",
    "    return (image - min_tmp) / (max_tmp - min_tmp)\n",
    "\n",
    "def calc_tpi(dtm, inner_r, outer_r, interpolate=True, values=True, bounds=(-2.0, 2.0)):\n",
    "    cellsize_x, cellsize_y = convolution.calc_cellsize(dtm)\n",
    "    kernel = convolution.annulus_kernel(cellsize_x, cellsize_y, outer_r, inner_r)\n",
    "    tpi = dtm - focal.apply(dtm, kernel)\n",
    "    tpi = tpi.rio.write_nodata(-9999.)\n",
    "    tpi = tpi.where((tpi > bounds[0]) & (tpi < bounds[1]))\n",
    "    if interpolate:\n",
    "        if tpi.isnull().any().values:\n",
    "            tpi = tpi.rio.interpolate_na(method='nearest')\n",
    "    if values:\n",
    "        return tpi.values\n",
    "    else:\n",
    "        return tpi\n",
    "\n",
    "def calc_ndvi(ms, interpolate=True, values=True):\n",
    "    ndvi = (ms.sel(band=4).astype('float32') - ms.sel(band=3).astype('float32'))\\\n",
    "            / (ms.sel(band=4).astype('float32') + ms.sel(band=3).astype('float32'))\n",
    "    if interpolate:\n",
    "        if ndvi.isnull().any().values:\n",
    "            ndvi = ndvi.rio.interpolate_na(method='nearest')\n",
    "    if values:\n",
    "        return ndvi.values\n",
    "    else:\n",
    "        return ndvi"
   ]
  },
  {
   "cell_type": "code",
   "execution_count": 7,
   "id": "a1f35503-1a23-405a-b4db-0ccd6bf58e62",
   "metadata": {},
   "outputs": [],
   "source": [
    "from collections import namedtuple\n",
    "from operator import mul\n",
    "\n",
    "try:\n",
    "    reduce = reduce\n",
    "except NameError:\n",
    "    from functools import reduce # py3k\n",
    "\n",
    "Info = namedtuple('Info', 'start height')\n",
    "\n",
    "def max_size(mat, value=0):\n",
    "    \"\"\"Find height, width of the largest rectangle containing all `value`'s.\n",
    "    For each row solve \"Largest Rectangle in a Histrogram\" problem [1]:\n",
    "    [1]: http://blog.csdn.net/arbuckle/archive/2006/05/06/710988.aspx\n",
    "    \"\"\"\n",
    "    it = iter(mat)\n",
    "    hist = [(el==value) for el in next(it, [])]\n",
    "    max_size = max_rectangle_size(hist)\n",
    "    for row in it:\n",
    "        hist = [(1+h) if el == value else 0 for h, el in zip(hist, row)]\n",
    "        max_size = max(max_size, max_rectangle_size(hist), key=area)\n",
    "    return max_size\n",
    "\n",
    "def max_rectangle_size(histogram):\n",
    "    \"\"\"Find height, width of the largest rectangle that fits entirely under\n",
    "    the histogram.\n",
    "    >>> f = max_rectangle_size\n",
    "    >>> f([5,3,1])\n",
    "    (3, 2)\n",
    "    >>> f([1,3,5])\n",
    "    (3, 2)\n",
    "    >>> f([3,1,5])\n",
    "    (5, 1)\n",
    "    >>> f([4,8,3,2,0])\n",
    "    (3, 3)\n",
    "    >>> f([4,8,3,1,1,0])\n",
    "    (3, 3)\n",
    "    >>> f([1,2,1])\n",
    "    (1, 3)\n",
    "    Algorithm is \"Linear search using a stack of incomplete subproblems\" [1].\n",
    "    [1]: http://blog.csdn.net/arbuckle/archive/2006/05/06/710988.aspx\n",
    "    \"\"\"\n",
    "    stack = []\n",
    "    top = lambda: stack[-1]\n",
    "    max_size = (0, 0) # height, width of the largest rectangle\n",
    "    pos = 0 # current position in the histogram\n",
    "    for pos, height in enumerate(histogram):\n",
    "        start = pos # position where rectangle starts\n",
    "        while True:\n",
    "            if not stack or height > top().height:\n",
    "                stack.append(Info(start, height)) # push\n",
    "            elif stack and height < top().height:\n",
    "                max_size = max(max_size, (top().height, (pos - top().start)),\n",
    "                               key=area)\n",
    "                start, _ = stack.pop()\n",
    "                continue\n",
    "            break # height == top().height goes here\n",
    "\n",
    "    pos += 1\n",
    "    for start, height in stack:\n",
    "        max_size = max(max_size, (height, (pos - start)), key=area)\n",
    "\n",
    "    return max_size\n",
    "\n",
    "def area(size):\n",
    "    return reduce(mul, size)"
   ]
  },
  {
   "cell_type": "code",
   "execution_count": 8,
   "id": "8e63c3c8-46cd-4c0b-adda-d02fd9219f5e",
   "metadata": {},
   "outputs": [],
   "source": [
    "outDIR = './cnn_pred_results/'\n",
    "if not os.path.exists(outDIR):\n",
    "    os.mkdir(outDIR)"
   ]
  },
  {
   "cell_type": "code",
   "execution_count": 9,
   "id": "464c6224-dea0-47b1-80eb-45b6b6a4df16",
   "metadata": {},
   "outputs": [],
   "source": [
    "ENCODER = 'resnet34'\n",
    "ENCODER_WEIGHTS = 'imagenet'\n",
    "CLASSES = ['burrow']\n",
    "ACTIVATION = 'sigmoid' # could be None for logits or 'softmax2d' for multiclass segmentation\n",
    "DEVICE = 'cuda' #'cuda'# 'cpu'# \n",
    "model_fnl = 'deeplabplus'\n",
    "res_fnl = 5\n",
    "inputs_fnl = ['rgb', 'tpi'] \n",
    "preprocess = True\n",
    "prob_thresh = 0.5"
   ]
  },
  {
   "cell_type": "code",
   "execution_count": 10,
   "id": "67df3061-2ae6-445d-8a2f-2224a273dcfa",
   "metadata": {},
   "outputs": [],
   "source": [
    "past_subset = None\n",
    "#past_subset = ['22E', 'CN']\n",
    "\n",
    "img_f_dict = {\n",
    "    '5W': {\n",
    "        'rgb': ['/mnt/d/202109/outputs/202109_5W_RGB/CPER_202109_5W_RGB_ortho.tif'],\n",
    "        'ms': ['/mnt/d/202109/outputs/202109_5W_MS/CPER_202109_5W_MS_ortho.tif'],\n",
    "        'dsm': ['/mnt/d/202109/outputs/202109_5W_RGB/CPER_202109_5W_RGB_dsm.tif']\n",
    "    },\n",
    "    '29-30': {\n",
    "        'rgb': ['/mnt/d/202109/outputs/202109_29_30_RGB/CPER_202109_29_30_RGB_ortho.tif',\n",
    "                '/mnt/d/202109/outputs/202109_29_30_RGB/CPER_202109_29_30_RGB_ortho.tif'],\n",
    "        'ms': ['/mnt/d/202109/outputs/202109_29_30_MS/CPER_202109_29_30_North_MS_ortho.tif',\n",
    "              '/mnt/d/202109/outputs/202109_29_30_MS/CPER_202109_29_30_South_MS_ortho.tif'],\n",
    "        'dsm': ['/mnt/d/202109/outputs/202109_29_30_RGB/CPER_202109_29_30_RGB_DSM.tif',\n",
    "               '/mnt/d/202109/outputs/202109_29_30_RGB/CPER_202109_29_30_RGB_DSM.tif']\n",
    "    },\n",
    "    '22W': {\n",
    "        'rgb': ['/mnt/d/202109/outputs/202109_22EW/CPER_202109_22EW_Flight1_RGB_ortho.tif',\n",
    "               '/mnt/d/202109/outputs/202109_22EW/CPER_202109_22EW_Flight2_RGB_ortho.tif'],\n",
    "        'ms': ['/mnt/d/202109/outputs/202109_22EW/CPER_202109_22EW_Flight1_MS_ortho.tif',\n",
    "               '/mnt/d/202109/outputs/202109_22EW/CPER_202109_22EW_Flight2_MS_ortho.tif'],\n",
    "        'dsm': ['/mnt/d/202109/outputs/202109_22EW/CPER_202109_22EW_Flight1_RGB_DSM.tif',\n",
    "                '/mnt/d/202109/outputs/202109_22EW/CPER_202109_22EW_Flight2_RGB_DSM.tif']\n",
    "    },\n",
    "    '22E': {\n",
    "        'rgb': ['/mnt/d/202109/outputs/202109_22EW/CPER_202109_22EW_Flight1_RGB_ortho.tif',\n",
    "               '/mnt/d/202109/outputs/202109_22EW/CPER_202109_22EW_Flight2_RGB_ortho.tif',\n",
    "               '/mnt/d/202109/outputs/202109_22EW/CPER_202109_22EW_Flight3_RGB_ortho.tif'],\n",
    "        'ms': ['/mnt/d/202109/outputs/202109_22EW/CPER_202109_22EW_Flight1_MS_ortho.tif',\n",
    "               '/mnt/d/202109/outputs/202109_22EW/CPER_202109_22EW_Flight2_MS_ortho.tif',\n",
    "              '/mnt/d/202109/outputs/202109_22EW/CPER_202109_22EW_Flight2_MS_ortho.tif'],\n",
    "        'dsm': ['/mnt/d/202109/outputs/202109_22EW/CPER_202109_22EW_Flight1_RGB_DSM.tif',\n",
    "               '/mnt/d/202109/outputs/202109_22EW/CPER_202109_22EW_Flight2_RGB_DSM.tif',\n",
    "               '/mnt/d/202109/outputs/202109_22EW/CPER_202109_22EW_Flight3_RGB_DSM.tif']\n",
    "    },\n",
    "    'CN': {\n",
    "        'rgb': ['/mnt/d/202109/outputs/202109_CN_RGB/Orthos/CPER_CN_Flight2_202109_RGB_ortho.tif',\n",
    "               '/mnt/d/202109/outputs/202109_CN_RGB/Orthos/CPER_CN_Flight3_202109_RGB_ortho.tif',\n",
    "               '/mnt/d/202109/outputs/202109_CN_RGB/Orthos/CPER_CN_Flight4_202109_RGB_ortho.tif',\n",
    "               '/mnt/d/202109/outputs/202109_CN_RGB/Orthos/CPER_CN_Flight5_202109_RGB_ortho.tif',\n",
    "               '/mnt/d/202109/outputs/202109_CN_RGB/Orthos/CPER_CN_Flight5_202109_RGB_ortho.tif'],\n",
    "        'ms': ['/mnt/d/202109/outputs/202109_CN_MS/CPER_202109_CN_Flight2_MS_ortho.tif',\n",
    "              '/mnt/d/202109/outputs/202109_CN_MS/CPER_202109_CN_Flight2_MS_ortho.tif',\n",
    "              '/mnt/d/202109/outputs/202109_CN_MS/CPER_202109_CN_Flight3_MS_ortho.tif',\n",
    "              '/mnt/d/202109/outputs/202109_CN_MS/CPER_202109_CN_Flight3_MS_ortho.tif',\n",
    "              '/mnt/d/202109/outputs/202109_CN_MS/CPER_202109_CN_Flight4_MS_ortho.tif',],\n",
    "        'dsm': ['/mnt/d/202109/outputs/202109_CN_RGB/DSMs/CPER_CN_Flight2_202109_RGB_DSM.tif',\n",
    "               '/mnt/d/202109/outputs/202109_CN_RGB/DSMs/CPER_CN_Flight3_202109_RGB_DSM.tif',\n",
    "               '/mnt/d/202109/outputs/202109_CN_RGB/DSMs/CPER_CN_Flight4_202109_RGB_DSM.tif',\n",
    "               '/mnt/d/202109/outputs/202109_CN_RGB/DSMs/CPER_CN_Flight5_202109_RGB_DSM.tif',\n",
    "                '/mnt/d/202109/outputs/202109_CN_RGB/DSMs/CPER_CN_Flight5_202109_RGB_DSM.tif']\n",
    "    }\n",
    "}\n",
    "\n",
    "if past_subset is not None:\n",
    "    img_f_dict_tmp = img_f_dict.copy()\n",
    "    img_f_dict = {}\n",
    "    for k in img_f_dict_tmp:\n",
    "         if k in past_subset:\n",
    "                img_f_dict[k] = img_f_dict_tmp[k]\n",
    "\n",
    "cper_f = '/mnt/c/Users/TBGPEA-Sean/Desktop/Pdogs_UAS/cper_pdog_pastures_2017_clip.shp'"
   ]
  },
  {
   "cell_type": "code",
   "execution_count": 11,
   "id": "d75f0f45-d52c-48f8-853b-7404abd75ec1",
   "metadata": {},
   "outputs": [],
   "source": [
    "full_buff_size = 10\n",
    "full_tile_size = 100\n",
    "tile_size = 256\n",
    "buff_size = 64\n",
    "chunk_size = 500\n",
    "buff_size_m = np.ceil(buff_size * res_fnl * 0.01)"
   ]
  },
  {
   "cell_type": "code",
   "execution_count": 12,
   "id": "001cb02e-10b7-4fd3-bc0d-10832aff67aa",
   "metadata": {},
   "outputs": [],
   "source": [
    "# load best saved checkpoint\n",
    "if res_fnl == 2:\n",
    "    best_model = torch.load('./cnn_results_' + model_fnl + '_' + str(res_fnl) + 'cm/best_model_' + '_'.join(inputs_fnl) + '.pth')\n",
    "else:\n",
    "    best_model = torch.load('./cnn_results_' + model_fnl + '_' + str(res_fnl) + 'cm/best_model_' + '_'.join(inputs_fnl) + '_' + str(res_fnl) + 'cm.pth')\n",
    "\n",
    "if DEVICE == 'cpu':\n",
    "    best_model = best_model.cpu()\n",
    "best_model.eval()\n",
    "\n",
    "# load the image stats from the training data\n",
    "df_image_stats = pd.read_csv('./_utils/image_stats_2cm.csv').set_index('stat')\n",
    "\n",
    "# convert image stats dictionary to dataframe\n",
    "image_stats = {i: {'min': df_image_stats.loc['min', i],\n",
    "                   'max': df_image_stats.loc['max', i]} for i in df_image_stats.columns}"
   ]
  },
  {
   "cell_type": "code",
   "execution_count": 13,
   "id": "d5e43d7a-2fa6-4585-a712-7144e6a41d92",
   "metadata": {
    "scrolled": true,
    "tags": []
   },
   "outputs": [
    {
     "name": "stderr",
     "output_type": "stream",
     "text": [
      "  0%|                                                                                             | 0/5 [00:00<?, ?it/s]"
     ]
    },
    {
     "name": "stdout",
     "output_type": "stream",
     "text": [
      "\n",
      "\n",
      "----------\n",
      "Pasture: 5W\n",
      "running row: 0 of 17\n"
     ]
    },
    {
     "name": "stderr",
     "output_type": "stream",
     "text": [
      "\n",
      "100%|██████████████████████████████████████████████████████████████████████████████████| 9/9 [00:00<00:00, 62291.64it/s]\u001b[A\n"
     ]
    },
    {
     "name": "stdout",
     "output_type": "stream",
     "text": [
      "running row: 1 of 17\n"
     ]
    },
    {
     "name": "stderr",
     "output_type": "stream",
     "text": [
      "\n",
      "100%|██████████████████████████████████████████████████████████████████████████████████| 9/9 [00:00<00:00, 64638.25it/s]\u001b[A\n"
     ]
    },
    {
     "name": "stdout",
     "output_type": "stream",
     "text": [
      "running row: 2 of 17\n"
     ]
    },
    {
     "name": "stderr",
     "output_type": "stream",
     "text": [
      "\n",
      "100%|██████████████████████████████████████████████████████████████████████████████████| 9/9 [00:00<00:00, 56510.08it/s]\u001b[A\n"
     ]
    },
    {
     "name": "stdout",
     "output_type": "stream",
     "text": [
      "running row: 3 of 17\n"
     ]
    },
    {
     "name": "stderr",
     "output_type": "stream",
     "text": [
      "\n",
      "100%|██████████████████████████████████████████████████████████████████████████████████| 9/9 [00:00<00:00, 60494.77it/s]\u001b[A\n"
     ]
    },
    {
     "name": "stdout",
     "output_type": "stream",
     "text": [
      "running row: 4 of 17\n"
     ]
    },
    {
     "name": "stderr",
     "output_type": "stream",
     "text": [
      "\n",
      "100%|██████████████████████████████████████████████████████████████████████████████████| 9/9 [00:00<00:00, 69518.85it/s]\u001b[A\n"
     ]
    },
    {
     "name": "stdout",
     "output_type": "stream",
     "text": [
      "running row: 5 of 17\n"
     ]
    },
    {
     "name": "stderr",
     "output_type": "stream",
     "text": [
      "\n",
      "100%|██████████████████████████████████████████████████████████████████████████████████| 9/9 [00:00<00:00, 66693.88it/s]\u001b[A\n"
     ]
    },
    {
     "name": "stdout",
     "output_type": "stream",
     "text": [
      "running row: 6 of 17\n"
     ]
    },
    {
     "name": "stderr",
     "output_type": "stream",
     "text": [
      "\n",
      "100%|██████████████████████████████████████████████████████████████████████████████████| 9/9 [00:00<00:00, 60205.32it/s]\u001b[A\n"
     ]
    },
    {
     "name": "stdout",
     "output_type": "stream",
     "text": [
      "running row: 7 of 17\n"
     ]
    },
    {
     "name": "stderr",
     "output_type": "stream",
     "text": [
      "\n",
      "100%|██████████████████████████████████████████████████████████████████████████████████| 9/9 [00:00<00:00, 77195.78it/s]\u001b[A\n"
     ]
    },
    {
     "name": "stdout",
     "output_type": "stream",
     "text": [
      "running row: 8 of 17\n"
     ]
    },
    {
     "name": "stderr",
     "output_type": "stream",
     "text": [
      "\n",
      "100%|██████████████████████████████████████████████████████████████████████████████████| 9/9 [00:00<00:00, 75648.77it/s]\u001b[A\n"
     ]
    },
    {
     "name": "stdout",
     "output_type": "stream",
     "text": [
      "running row: 9 of 17\n"
     ]
    },
    {
     "name": "stderr",
     "output_type": "stream",
     "text": [
      "\n",
      "100%|██████████████████████████████████████████████████████████████████████████████████| 9/9 [00:00<00:00, 64198.53it/s]\u001b[A\n"
     ]
    },
    {
     "name": "stdout",
     "output_type": "stream",
     "text": [
      "running row: 10 of 17\n"
     ]
    },
    {
     "name": "stderr",
     "output_type": "stream",
     "text": [
      "\n",
      "100%|██████████████████████████████████████████████████████████████████████████████████| 9/9 [00:00<00:00, 65196.44it/s]\u001b[A\n"
     ]
    },
    {
     "name": "stdout",
     "output_type": "stream",
     "text": [
      "running row: 11 of 17\n"
     ]
    },
    {
     "name": "stderr",
     "output_type": "stream",
     "text": [
      "\n",
      "100%|██████████████████████████████████████████████████████████████████████████████████| 9/9 [00:00<00:00, 35049.89it/s]\u001b[A\n"
     ]
    },
    {
     "name": "stdout",
     "output_type": "stream",
     "text": [
      "running row: 12 of 17\n"
     ]
    },
    {
     "name": "stderr",
     "output_type": "stream",
     "text": [
      "\n",
      "100%|██████████████████████████████████████████████████████████████████████████████████| 9/9 [00:00<00:00, 63657.23it/s]\u001b[A\n"
     ]
    },
    {
     "name": "stdout",
     "output_type": "stream",
     "text": [
      "running row: 13 of 17\n"
     ]
    },
    {
     "name": "stderr",
     "output_type": "stream",
     "text": [
      "\n",
      "100%|██████████████████████████████████████████████████████████████████████████████████| 9/9 [00:00<00:00, 63336.81it/s]\u001b[A\n"
     ]
    },
    {
     "name": "stdout",
     "output_type": "stream",
     "text": [
      "running row: 14 of 17\n"
     ]
    },
    {
     "name": "stderr",
     "output_type": "stream",
     "text": [
      "\n",
      "100%|██████████████████████████████████████████████████████████████████████████████████| 9/9 [00:00<00:00, 67893.41it/s]\u001b[A\n"
     ]
    },
    {
     "name": "stdout",
     "output_type": "stream",
     "text": [
      "running row: 15 of 17\n"
     ]
    },
    {
     "name": "stderr",
     "output_type": "stream",
     "text": [
      "\n",
      "100%|██████████████████████████████████████████████████████████████████████████████████| 9/9 [00:00<00:00, 62705.54it/s]\u001b[A\n"
     ]
    },
    {
     "name": "stdout",
     "output_type": "stream",
     "text": [
      "running row: 16 of 17\n"
     ]
    },
    {
     "name": "stderr",
     "output_type": "stream",
     "text": [
      "\n",
      "100%|██████████████████████████████████████████████████████████████████████████████████| 9/9 [00:00<00:00, 72315.59it/s]\u001b[A"
     ]
    },
    {
     "name": "stdout",
     "output_type": "stream",
     "text": [
      "Pasture-group finished!\n"
     ]
    },
    {
     "name": "stderr",
     "output_type": "stream",
     "text": [
      "\n",
      "distributed.nanny - WARNING - Worker exceeded 95% memory budget. Restarting\n",
      "distributed.client - ERROR - Restart timed out after 9.00 seconds\n",
      " 20%|█████████████████                                                                    | 1/5 [00:20<01:20, 20.23s/it]"
     ]
    },
    {
     "name": "stdout",
     "output_type": "stream",
     "text": [
      "\n",
      "\n",
      "----------\n",
      "Pasture: 29-30\n",
      "running row: 0 of 17\n"
     ]
    },
    {
     "name": "stderr",
     "output_type": "stream",
     "text": [
      "\n",
      "  0%|                                                                                            | 0/25 [00:00<?, ?it/s]\u001b[A\n",
      "100%|███████████████████████████████████████████████████████████████████████████████████| 25/25 [00:01<00:00, 21.94it/s]\u001b[A\n"
     ]
    },
    {
     "name": "stdout",
     "output_type": "stream",
     "text": [
      "running row: 1 of 17\n"
     ]
    },
    {
     "name": "stderr",
     "output_type": "stream",
     "text": [
      "\n",
      "100%|████████████████████████████████████████████████████████████████████████████████| 25/25 [00:00<00:00, 94381.28it/s]\u001b[A\n"
     ]
    },
    {
     "name": "stdout",
     "output_type": "stream",
     "text": [
      "running row: 2 of 17\n"
     ]
    },
    {
     "name": "stderr",
     "output_type": "stream",
     "text": [
      "\n",
      "100%|████████████████████████████████████████████████████████████████████████████████| 25/25 [00:00<00:00, 95847.90it/s]\u001b[A\n"
     ]
    },
    {
     "name": "stdout",
     "output_type": "stream",
     "text": [
      "running row: 3 of 17\n"
     ]
    },
    {
     "name": "stderr",
     "output_type": "stream",
     "text": [
      "\n",
      "100%|████████████████████████████████████████████████████████████████████████████████| 25/25 [00:00<00:00, 99015.68it/s]\u001b[A\n"
     ]
    },
    {
     "name": "stdout",
     "output_type": "stream",
     "text": [
      "running row: 4 of 17\n"
     ]
    },
    {
     "name": "stderr",
     "output_type": "stream",
     "text": [
      "\n",
      "100%|███████████████████████████████████████████████████████████████████████████████| 25/25 [00:00<00:00, 104543.97it/s]\u001b[A\n"
     ]
    },
    {
     "name": "stdout",
     "output_type": "stream",
     "text": [
      "running row: 5 of 17\n"
     ]
    },
    {
     "name": "stderr",
     "output_type": "stream",
     "text": [
      "\n",
      "100%|███████████████████████████████████████████████████████████████████████████████| 25/25 [00:00<00:00, 103614.23it/s]\u001b[A\n"
     ]
    },
    {
     "name": "stdout",
     "output_type": "stream",
     "text": [
      "running row: 6 of 17\n"
     ]
    },
    {
     "name": "stderr",
     "output_type": "stream",
     "text": [
      "\n",
      "100%|███████████████████████████████████████████████████████████████████████████████| 25/25 [00:00<00:00, 106779.63it/s]\u001b[A\n"
     ]
    },
    {
     "name": "stdout",
     "output_type": "stream",
     "text": [
      "running row: 7 of 17\n"
     ]
    },
    {
     "name": "stderr",
     "output_type": "stream",
     "text": [
      "\n",
      "100%|████████████████████████████████████████████████████████████████████████████████| 25/25 [00:00<00:00, 92061.11it/s]\u001b[A\n"
     ]
    },
    {
     "name": "stdout",
     "output_type": "stream",
     "text": [
      "running row: 8 of 17\n"
     ]
    },
    {
     "name": "stderr",
     "output_type": "stream",
     "text": [
      "\n",
      "100%|████████████████████████████████████████████████████████████████████████████████| 25/25 [00:00<00:00, 96910.91it/s]\u001b[A\n"
     ]
    },
    {
     "name": "stdout",
     "output_type": "stream",
     "text": [
      "running row: 9 of 17\n"
     ]
    },
    {
     "name": "stderr",
     "output_type": "stream",
     "text": [
      "\n",
      "100%|████████████████████████████████████████████████████████████████████████████████| 25/25 [00:00<00:00, 74314.39it/s]\u001b[A\n"
     ]
    },
    {
     "name": "stdout",
     "output_type": "stream",
     "text": [
      "running row: 10 of 17\n"
     ]
    },
    {
     "name": "stderr",
     "output_type": "stream",
     "text": [
      "\n",
      "100%|████████████████████████████████████████████████████████████████████████████████| 25/25 [00:00<00:00, 97997.76it/s]\u001b[A\n"
     ]
    },
    {
     "name": "stdout",
     "output_type": "stream",
     "text": [
      "running row: 11 of 17\n"
     ]
    },
    {
     "name": "stderr",
     "output_type": "stream",
     "text": [
      "\n",
      "100%|███████████████████████████████████████████████████████████████████████████████| 25/25 [00:00<00:00, 102001.56it/s]\u001b[A\n"
     ]
    },
    {
     "name": "stdout",
     "output_type": "stream",
     "text": [
      "running row: 12 of 17\n"
     ]
    },
    {
     "name": "stderr",
     "output_type": "stream",
     "text": [
      "\n",
      "100%|███████████████████████████████████████████████████████████████████████████████| 25/25 [00:00<00:00, 101409.67it/s]\u001b[A\n"
     ]
    },
    {
     "name": "stdout",
     "output_type": "stream",
     "text": [
      "running row: 13 of 17\n"
     ]
    },
    {
     "name": "stderr",
     "output_type": "stream",
     "text": [
      "\n",
      "100%|███████████████████████████████████████████████████████████████████████████████| 25/25 [00:00<00:00, 101803.50it/s]\u001b[A\n"
     ]
    },
    {
     "name": "stdout",
     "output_type": "stream",
     "text": [
      "running row: 14 of 17\n"
     ]
    },
    {
     "name": "stderr",
     "output_type": "stream",
     "text": [
      "\n",
      "100%|████████████████████████████████████████████████████████████████████████████████| 25/25 [00:00<00:00, 99864.38it/s]\u001b[A\n"
     ]
    },
    {
     "name": "stdout",
     "output_type": "stream",
     "text": [
      "running row: 15 of 17\n"
     ]
    },
    {
     "name": "stderr",
     "output_type": "stream",
     "text": [
      "\n",
      "100%|███████████████████████████████████████████████████████████████████████████████| 25/25 [00:00<00:00, 103922.30it/s]\u001b[A\n"
     ]
    },
    {
     "name": "stdout",
     "output_type": "stream",
     "text": [
      "running row: 16 of 17\n"
     ]
    },
    {
     "name": "stderr",
     "output_type": "stream",
     "text": [
      "\n",
      "100%|████████████████████████████████████████████████████████████████████████████████| 25/25 [00:00<00:00, 82241.25it/s]\u001b[A\n"
     ]
    },
    {
     "name": "stdout",
     "output_type": "stream",
     "text": [
      "Pasture-group finished!\n"
     ]
    },
    {
     "name": "stderr",
     "output_type": "stream",
     "text": [
      " 40%|██████████████████████████████████                                                   | 2/5 [00:34<00:49, 16.60s/it]"
     ]
    },
    {
     "name": "stdout",
     "output_type": "stream",
     "text": [
      "\n",
      "\n",
      "----------\n",
      "Pasture: 22W\n",
      "running row: 0 of 17\n"
     ]
    },
    {
     "name": "stderr",
     "output_type": "stream",
     "text": [
      "\n",
      "100%|██████████████████████████████████████████████████████████████████████████████████| 9/9 [00:00<00:00, 41850.04it/s]\u001b[A\n"
     ]
    },
    {
     "name": "stdout",
     "output_type": "stream",
     "text": [
      "running row: 1 of 17\n"
     ]
    },
    {
     "name": "stderr",
     "output_type": "stream",
     "text": [
      "\n",
      "100%|██████████████████████████████████████████████████████████████████████████████████| 9/9 [00:00<00:00, 58074.98it/s]\u001b[A\n"
     ]
    },
    {
     "name": "stdout",
     "output_type": "stream",
     "text": [
      "running row: 2 of 17\n"
     ]
    },
    {
     "name": "stderr",
     "output_type": "stream",
     "text": [
      "\n",
      "100%|██████████████████████████████████████████████████████████████████████████████████| 9/9 [00:00<00:00, 58982.40it/s]\u001b[A\n"
     ]
    },
    {
     "name": "stdout",
     "output_type": "stream",
     "text": [
      "running row: 3 of 17\n"
     ]
    },
    {
     "name": "stderr",
     "output_type": "stream",
     "text": [
      "\n",
      "100%|██████████████████████████████████████████████████████████████████████████████████| 9/9 [00:00<00:00, 71224.03it/s]\u001b[A\n"
     ]
    },
    {
     "name": "stdout",
     "output_type": "stream",
     "text": [
      "running row: 4 of 17\n"
     ]
    },
    {
     "name": "stderr",
     "output_type": "stream",
     "text": [
      "\n",
      "100%|██████████████████████████████████████████████████████████████████████████████████| 9/9 [00:00<00:00, 66225.85it/s]\u001b[A\n"
     ]
    },
    {
     "name": "stdout",
     "output_type": "stream",
     "text": [
      "running row: 5 of 17\n"
     ]
    },
    {
     "name": "stderr",
     "output_type": "stream",
     "text": [
      "\n",
      "100%|██████████████████████████████████████████████████████████████████████████████████| 9/9 [00:00<00:00, 55758.84it/s]\u001b[A\n"
     ]
    },
    {
     "name": "stdout",
     "output_type": "stream",
     "text": [
      "running row: 6 of 17\n"
     ]
    },
    {
     "name": "stderr",
     "output_type": "stream",
     "text": [
      "\n",
      "100%|██████████████████████████████████████████████████████████████████████████████████| 9/9 [00:00<00:00, 63336.81it/s]\u001b[A\n"
     ]
    },
    {
     "name": "stdout",
     "output_type": "stream",
     "text": [
      "running row: 7 of 17\n"
     ]
    },
    {
     "name": "stderr",
     "output_type": "stream",
     "text": [
      "\n",
      "100%|██████████████████████████████████████████████████████████████████████████████████| 9/9 [00:00<00:00, 72039.57it/s]\u001b[A\n"
     ]
    },
    {
     "name": "stdout",
     "output_type": "stream",
     "text": [
      "running row: 8 of 17\n"
     ]
    },
    {
     "name": "stderr",
     "output_type": "stream",
     "text": [
      "\n",
      "100%|██████████████████████████████████████████████████████████████████████████████████| 9/9 [00:00<00:00, 77832.45it/s]\u001b[A\n"
     ]
    },
    {
     "name": "stdout",
     "output_type": "stream",
     "text": [
      "running row: 9 of 17\n"
     ]
    },
    {
     "name": "stderr",
     "output_type": "stream",
     "text": [
      "\n",
      "100%|██████████████████████████████████████████████████████████████████████████████████| 9/9 [00:00<00:00, 37486.33it/s]\u001b[A\n"
     ]
    },
    {
     "name": "stdout",
     "output_type": "stream",
     "text": [
      "running row: 10 of 17\n"
     ]
    },
    {
     "name": "stderr",
     "output_type": "stream",
     "text": [
      "\n",
      "100%|██████████████████████████████████████████████████████████████████████████████████| 9/9 [00:00<00:00, 70426.75it/s]\u001b[A\n"
     ]
    },
    {
     "name": "stdout",
     "output_type": "stream",
     "text": [
      "running row: 11 of 17\n"
     ]
    },
    {
     "name": "stderr",
     "output_type": "stream",
     "text": [
      "\n",
      "100%|██████████████████████████████████████████████████████████████████████████████████| 9/9 [00:00<00:00, 59260.18it/s]\u001b[A\n"
     ]
    },
    {
     "name": "stdout",
     "output_type": "stream",
     "text": [
      "running row: 12 of 17\n"
     ]
    },
    {
     "name": "stderr",
     "output_type": "stream",
     "text": [
      "\n",
      "100%|██████████████████████████████████████████████████████████████████████████████████| 9/9 [00:00<00:00, 77038.24it/s]\u001b[A\n"
     ]
    },
    {
     "name": "stdout",
     "output_type": "stream",
     "text": [
      "running row: 13 of 17\n"
     ]
    },
    {
     "name": "stderr",
     "output_type": "stream",
     "text": [
      "\n",
      "100%|██████████████████████████████████████████████████████████████████████████████████| 9/9 [00:00<00:00, 71902.35it/s]\u001b[A\n"
     ]
    },
    {
     "name": "stdout",
     "output_type": "stream",
     "text": [
      "running row: 14 of 17\n"
     ]
    },
    {
     "name": "stderr",
     "output_type": "stream",
     "text": [
      "\n",
      "100%|██████████████████████████████████████████████████████████████████████████████████| 9/9 [00:00<00:00, 73728.00it/s]\u001b[A\n"
     ]
    },
    {
     "name": "stdout",
     "output_type": "stream",
     "text": [
      "running row: 15 of 17\n"
     ]
    },
    {
     "name": "stderr",
     "output_type": "stream",
     "text": [
      "\n",
      "100%|██████████████████████████████████████████████████████████████████████████████████| 9/9 [00:00<00:00, 71765.66it/s]\u001b[A\n"
     ]
    },
    {
     "name": "stdout",
     "output_type": "stream",
     "text": [
      "running row: 16 of 17\n"
     ]
    },
    {
     "name": "stderr",
     "output_type": "stream",
     "text": [
      "\n",
      "100%|██████████████████████████████████████████████████████████████████████████████████| 9/9 [00:00<00:00, 73298.52it/s]\u001b[A"
     ]
    },
    {
     "name": "stdout",
     "output_type": "stream",
     "text": [
      "Pasture-group finished!\n"
     ]
    },
    {
     "name": "stderr",
     "output_type": "stream",
     "text": [
      "\n",
      " 60%|███████████████████████████████████████████████████                                  | 3/5 [00:46<00:29, 14.75s/it]"
     ]
    },
    {
     "name": "stdout",
     "output_type": "stream",
     "text": [
      "\n",
      "\n",
      "----------\n",
      "Pasture: 22E\n",
      "running row: 0 of 17\n"
     ]
    },
    {
     "name": "stderr",
     "output_type": "stream",
     "text": [
      "\n",
      "100%|██████████████████████████████████████████████████████████████████████████████████| 9/9 [00:00<00:00, 13996.57it/s]\u001b[A\n"
     ]
    },
    {
     "name": "stdout",
     "output_type": "stream",
     "text": [
      "running row: 1 of 17\n"
     ]
    },
    {
     "name": "stderr",
     "output_type": "stream",
     "text": [
      "\n",
      "100%|██████████████████████████████████████████████████████████████████████████████████| 9/9 [00:00<00:00, 82420.82it/s]\u001b[A\n"
     ]
    },
    {
     "name": "stdout",
     "output_type": "stream",
     "text": [
      "running row: 2 of 17\n"
     ]
    },
    {
     "name": "stderr",
     "output_type": "stream",
     "text": [
      "\n",
      "  0%|                                                                                             | 0/9 [00:00<?, ?it/s]\u001b[A\n",
      "100%|█████████████████████████████████████████████████████████████████████████████████████| 9/9 [01:23<00:00,  9.32s/it]\u001b[A\n"
     ]
    },
    {
     "name": "stdout",
     "output_type": "stream",
     "text": [
      "running row: 3 of 17\n"
     ]
    },
    {
     "name": "stderr",
     "output_type": "stream",
     "text": [
      "\n",
      "  0%|                                                                                             | 0/9 [00:00<?, ?it/s]\u001b[A\n",
      " 11%|█████████▍                                                                           | 1/9 [00:56<07:28, 56.05s/it]\u001b[A\n",
      " 22%|██████████████████▉                                                                  | 2/9 [01:31<05:08, 44.08s/it]\u001b[A\n",
      " 33%|████████████████████████████▎                                                        | 3/9 [02:06<03:59, 39.93s/it]\u001b[A\n",
      " 44%|█████████████████████████████████████▊                                               | 4/9 [02:42<03:11, 38.28s/it]\u001b[A\n",
      " 56%|███████████████████████████████████████████████▏                                     | 5/9 [03:19<02:30, 37.66s/it]\u001b[A\n",
      " 67%|████████████████████████████████████████████████████████▋                            | 6/9 [04:38<02:36, 52.03s/it]\u001b[A\n",
      " 78%|██████████████████████████████████████████████████████████████████                   | 7/9 [06:00<02:03, 61.55s/it]\u001b[A\n",
      " 89%|███████████████████████████████████████████████████████████████████████████▌         | 8/9 [06:58<01:00, 60.66s/it]\u001b[A\n",
      "100%|█████████████████████████████████████████████████████████████████████████████████████| 9/9 [08:11<00:00, 54.62s/it]\u001b[A\n"
     ]
    },
    {
     "name": "stdout",
     "output_type": "stream",
     "text": [
      "running row: 4 of 17\n"
     ]
    },
    {
     "name": "stderr",
     "output_type": "stream",
     "text": [
      "\n",
      "  0%|                                                                                             | 0/9 [00:00<?, ?it/s]\u001b[A\n",
      " 11%|█████████▍                                                                           | 1/9 [01:23<11:11, 83.88s/it]\u001b[A\n",
      " 22%|██████████████████▉                                                                  | 2/9 [02:36<09:02, 77.48s/it]\u001b[A\n",
      " 33%|████████████████████████████▎                                                        | 3/9 [03:50<07:34, 75.70s/it]\u001b[A\n",
      " 44%|█████████████████████████████████████▊                                               | 4/9 [04:55<05:58, 71.66s/it]\u001b[A\n",
      " 56%|███████████████████████████████████████████████▏                                     | 5/9 [06:02<04:39, 69.85s/it]\u001b[A\n",
      " 67%|████████████████████████████████████████████████████████▋                            | 6/9 [07:21<03:39, 73.10s/it]\u001b[A\n",
      " 78%|██████████████████████████████████████████████████████████████████                   | 7/9 [08:51<02:36, 78.30s/it]\u001b[A\n",
      " 89%|███████████████████████████████████████████████████████████████████████████▌         | 8/9 [10:09<01:18, 78.45s/it]\u001b[A\n",
      "100%|█████████████████████████████████████████████████████████████████████████████████████| 9/9 [11:40<00:00, 77.79s/it]\u001b[A\n"
     ]
    },
    {
     "name": "stdout",
     "output_type": "stream",
     "text": [
      "running row: 5 of 17\n"
     ]
    },
    {
     "name": "stderr",
     "output_type": "stream",
     "text": [
      "\n",
      "  0%|                                                                                             | 0/9 [00:00<?, ?it/s]\u001b[A\n",
      " 11%|█████████▍                                                                           | 1/9 [00:34<04:33, 34.15s/it]\u001b[A\n",
      " 22%|██████████████████▉                                                                  | 2/9 [01:12<04:14, 36.41s/it]\u001b[A\n",
      " 33%|████████████████████████████▎                                                        | 3/9 [01:42<03:22, 33.74s/it]\u001b[A\n",
      " 44%|█████████████████████████████████████▊                                               | 4/9 [02:13<02:42, 32.53s/it]\u001b[A\n",
      " 56%|███████████████████████████████████████████████▏                                     | 5/9 [02:39<02:00, 30.17s/it]\u001b[A\n",
      " 67%|████████████████████████████████████████████████████████▋                            | 6/9 [03:12<01:33, 31.31s/it]\u001b[A\n",
      " 78%|██████████████████████████████████████████████████████████████████                   | 7/9 [03:49<01:06, 33.15s/it]\u001b[A\n",
      " 89%|███████████████████████████████████████████████████████████████████████████▌         | 8/9 [04:20<00:32, 32.48s/it]\u001b[A\n",
      "100%|█████████████████████████████████████████████████████████████████████████████████████| 9/9 [05:04<00:00, 33.79s/it]\u001b[A\n"
     ]
    },
    {
     "name": "stdout",
     "output_type": "stream",
     "text": [
      "running row: 6 of 17\n"
     ]
    },
    {
     "name": "stderr",
     "output_type": "stream",
     "text": [
      "\n",
      "  0%|                                                                                             | 0/9 [00:00<?, ?it/s]\u001b[A\n",
      " 11%|█████████▍                                                                           | 1/9 [00:17<02:18, 17.35s/it]\u001b[A\n",
      " 22%|██████████████████▉                                                                  | 2/9 [00:31<01:46, 15.27s/it]\u001b[A\n",
      " 33%|████████████████████████████▎                                                        | 3/9 [00:44<01:27, 14.59s/it]\u001b[A\n",
      " 44%|█████████████████████████████████████▊                                               | 4/9 [01:02<01:18, 15.70s/it]\u001b[A\n",
      " 56%|███████████████████████████████████████████████▏                                     | 5/9 [01:16<01:01, 15.31s/it]\u001b[A\n",
      " 67%|████████████████████████████████████████████████████████▋                            | 6/9 [01:31<00:45, 15.07s/it]\u001b[A\n",
      " 78%|██████████████████████████████████████████████████████████████████                   | 7/9 [01:49<00:32, 16.07s/it]\u001b[A\n",
      " 89%|███████████████████████████████████████████████████████████████████████████▌         | 8/9 [02:04<00:15, 15.52s/it]\u001b[A\n",
      "100%|█████████████████████████████████████████████████████████████████████████████████████| 9/9 [02:27<00:00, 16.34s/it]\u001b[A\n"
     ]
    },
    {
     "name": "stdout",
     "output_type": "stream",
     "text": [
      "running row: 7 of 17\n"
     ]
    },
    {
     "name": "stderr",
     "output_type": "stream",
     "text": [
      "\n",
      "  0%|                                                                                             | 0/9 [00:00<?, ?it/s]\u001b[A\n",
      " 11%|█████████▍                                                                           | 1/9 [00:19<02:35, 19.43s/it]\u001b[A\n",
      " 22%|██████████████████▉                                                                  | 2/9 [00:38<02:15, 19.30s/it]\u001b[A\n",
      " 33%|████████████████████████████▎                                                        | 3/9 [00:57<01:54, 19.13s/it]\u001b[Adistributed.nanny - WARNING - Worker exceeded 95% memory budget. Restarting\n",
      "distributed.client - ERROR - Restart timed out after 9.00 seconds\n",
      "\n",
      " 44%|█████████████████████████████████████▊                                               | 4/9 [01:36<02:13, 26.78s/it]\u001b[A\n",
      " 56%|███████████████████████████████████████████████▏                                     | 5/9 [02:03<01:47, 26.86s/it]\u001b[A\n",
      " 67%|████████████████████████████████████████████████████████▋                            | 6/9 [02:21<01:12, 24.13s/it]\u001b[A\n",
      " 78%|██████████████████████████████████████████████████████████████████                   | 7/9 [02:41<00:45, 22.61s/it]\u001b[A\n",
      " 89%|███████████████████████████████████████████████████████████████████████████▌         | 8/9 [02:59<00:21, 21.33s/it]\u001b[A\n",
      "100%|█████████████████████████████████████████████████████████████████████████████████████| 9/9 [03:24<00:00, 22.78s/it]\u001b[A\n"
     ]
    },
    {
     "name": "stdout",
     "output_type": "stream",
     "text": [
      "running row: 8 of 17\n"
     ]
    },
    {
     "name": "stderr",
     "output_type": "stream",
     "text": [
      "\n",
      "  0%|                                                                                             | 0/9 [00:00<?, ?it/s]\u001b[A\n",
      " 11%|█████████▍                                                                           | 1/9 [00:19<02:38, 19.82s/it]\u001b[A\n",
      " 22%|██████████████████▉                                                                  | 2/9 [00:35<01:59, 17.09s/it]\u001b[A\n",
      " 33%|████████████████████████████▎                                                        | 3/9 [00:50<01:38, 16.39s/it]\u001b[A\n",
      " 44%|█████████████████████████████████████▊                                               | 4/9 [01:10<01:28, 17.66s/it]\u001b[A\n",
      " 56%|███████████████████████████████████████████████▏                                     | 5/9 [01:25<01:07, 16.96s/it]\u001b[A\n",
      " 67%|████████████████████████████████████████████████████████▋                            | 6/9 [01:41<00:49, 16.54s/it]\u001b[A\n",
      " 78%|██████████████████████████████████████████████████████████████████                   | 7/9 [02:01<00:35, 17.70s/it]\u001b[A\n",
      " 89%|███████████████████████████████████████████████████████████████████████████▌         | 8/9 [02:16<00:16, 16.85s/it]\u001b[A\n",
      "100%|█████████████████████████████████████████████████████████████████████████████████████| 9/9 [02:41<00:00, 17.91s/it]\u001b[A\n"
     ]
    },
    {
     "name": "stdout",
     "output_type": "stream",
     "text": [
      "running row: 9 of 17\n"
     ]
    },
    {
     "name": "stderr",
     "output_type": "stream",
     "text": [
      "\n",
      "  0%|                                                                                             | 0/9 [00:00<?, ?it/s]\u001b[A\n",
      " 11%|█████████▍                                                                           | 1/9 [00:20<02:41, 20.20s/it]\u001b[A\n",
      " 22%|██████████████████▉                                                                  | 2/9 [00:35<02:02, 17.45s/it]\u001b[A\n",
      " 33%|████████████████████████████▎                                                        | 3/9 [00:51<01:40, 16.67s/it]\u001b[A\n",
      " 44%|█████████████████████████████████████▊                                               | 4/9 [01:11<01:29, 17.90s/it]\u001b[A\n",
      " 56%|███████████████████████████████████████████████▏                                     | 5/9 [01:26<01:08, 17.00s/it]\u001b[A\n",
      " 67%|████████████████████████████████████████████████████████▋                            | 6/9 [01:54<01:01, 20.63s/it]\u001b[A\n",
      " 78%|██████████████████████████████████████████████████████████████████                   | 7/9 [02:17<00:43, 21.58s/it]\u001b[A\n",
      " 89%|███████████████████████████████████████████████████████████████████████████▌         | 8/9 [02:33<00:19, 19.59s/it]\u001b[A\n",
      "100%|█████████████████████████████████████████████████████████████████████████████████████| 9/9 [02:58<00:00, 19.86s/it]\u001b[A\n"
     ]
    },
    {
     "name": "stdout",
     "output_type": "stream",
     "text": [
      "running row: 10 of 17\n"
     ]
    },
    {
     "name": "stderr",
     "output_type": "stream",
     "text": [
      "\n",
      "  0%|                                                                                             | 0/9 [00:00<?, ?it/s]\u001b[A\n",
      " 11%|█████████▍                                                                           | 1/9 [00:20<02:47, 20.98s/it]\u001b[A\n",
      " 22%|██████████████████▉                                                                  | 2/9 [00:40<02:22, 20.30s/it]\u001b[A\n",
      " 33%|████████████████████████████▎                                                        | 3/9 [01:01<02:01, 20.30s/it]\u001b[A\n",
      " 44%|█████████████████████████████████████▊                                               | 4/9 [01:22<01:43, 20.72s/it]\u001b[A\n",
      " 56%|███████████████████████████████████████████████▏                                     | 5/9 [01:42<01:22, 20.56s/it]\u001b[A\n",
      " 67%|████████████████████████████████████████████████████████▋                            | 6/9 [02:02<01:01, 20.39s/it]\u001b[A\n",
      " 78%|██████████████████████████████████████████████████████████████████                   | 7/9 [02:23<00:41, 20.63s/it]\u001b[A\n",
      " 89%|███████████████████████████████████████████████████████████████████████████▌         | 8/9 [02:43<00:20, 20.42s/it]\u001b[A\n",
      "100%|█████████████████████████████████████████████████████████████████████████████████████| 9/9 [03:07<00:00, 20.79s/it]\u001b[A\n"
     ]
    },
    {
     "name": "stdout",
     "output_type": "stream",
     "text": [
      "running row: 11 of 17\n"
     ]
    },
    {
     "name": "stderr",
     "output_type": "stream",
     "text": [
      "\n",
      "  0%|                                                                                             | 0/9 [00:00<?, ?it/s]\u001b[A\n",
      " 11%|█████████▍                                                                           | 1/9 [00:20<02:43, 20.41s/it]\u001b[A\n",
      " 22%|██████████████████▉                                                                  | 2/9 [00:36<02:04, 17.84s/it]\u001b[A\n",
      " 33%|████████████████████████████▎                                                        | 3/9 [00:52<01:43, 17.20s/it]\u001b[A\n",
      " 44%|█████████████████████████████████████▊                                               | 4/9 [01:13<01:32, 18.48s/it]\u001b[A\n",
      " 56%|███████████████████████████████████████████████▏                                     | 5/9 [01:29<01:09, 17.47s/it]\u001b[A\n",
      " 67%|████████████████████████████████████████████████████████▋                            | 6/9 [01:44<00:50, 16.97s/it]\u001b[A\n",
      " 78%|██████████████████████████████████████████████████████████████████                   | 7/9 [02:05<00:36, 18.02s/it]\u001b[A\n",
      " 89%|███████████████████████████████████████████████████████████████████████████▌         | 8/9 [02:33<00:21, 21.27s/it]\u001b[A\n",
      "100%|█████████████████████████████████████████████████████████████████████████████████████| 9/9 [03:04<00:00, 20.50s/it]\u001b[A\n"
     ]
    },
    {
     "name": "stdout",
     "output_type": "stream",
     "text": [
      "running row: 12 of 17\n"
     ]
    },
    {
     "name": "stderr",
     "output_type": "stream",
     "text": [
      "\n",
      "  0%|                                                                                             | 0/9 [00:00<?, ?it/s]\u001b[A\n",
      " 11%|█████████▍                                                                           | 1/9 [00:20<02:45, 20.65s/it]\u001b[A\n",
      " 22%|██████████████████▉                                                                  | 2/9 [00:37<02:07, 18.26s/it]\u001b[A\n",
      " 33%|████████████████████████████▎                                                        | 3/9 [00:53<01:44, 17.34s/it]\u001b[A\n",
      " 44%|█████████████████████████████████████▊                                               | 4/9 [01:14<01:33, 18.71s/it]\u001b[A\n",
      " 56%|███████████████████████████████████████████████▏                                     | 5/9 [01:30<01:10, 17.72s/it]\u001b[A\n",
      " 67%|████████████████████████████████████████████████████████▋                            | 6/9 [01:46<00:51, 17.33s/it]\u001b[A\n",
      " 78%|██████████████████████████████████████████████████████████████████                   | 7/9 [02:07<00:37, 18.53s/it]\u001b[A\n",
      " 89%|███████████████████████████████████████████████████████████████████████████▌         | 8/9 [02:23<00:17, 17.75s/it]\u001b[A\n",
      "100%|█████████████████████████████████████████████████████████████████████████████████████| 9/9 [02:47<00:00, 18.62s/it]\u001b[A\n"
     ]
    },
    {
     "name": "stdout",
     "output_type": "stream",
     "text": [
      "running row: 13 of 17\n"
     ]
    },
    {
     "name": "stderr",
     "output_type": "stream",
     "text": [
      "\n",
      "  0%|                                                                                             | 0/9 [00:00<?, ?it/s]\u001b[A\n",
      " 11%|█████████▍                                                                           | 1/9 [00:20<02:46, 20.77s/it]\u001b[A\n",
      " 22%|██████████████████▉                                                                  | 2/9 [00:37<02:08, 18.35s/it]\u001b[A\n",
      " 33%|████████████████████████████▎                                                        | 3/9 [00:53<01:44, 17.43s/it]\u001b[A\n",
      " 44%|█████████████████████████████████████▊                                               | 4/9 [01:14<01:33, 18.72s/it]\u001b[A\n",
      " 56%|███████████████████████████████████████████████▏                                     | 5/9 [01:30<01:11, 17.93s/it]\u001b[A\n",
      " 67%|████████████████████████████████████████████████████████▋                            | 6/9 [01:48<00:53, 17.68s/it]\u001b[A\n",
      " 78%|██████████████████████████████████████████████████████████████████                   | 7/9 [02:08<00:37, 18.59s/it]\u001b[A\n",
      " 89%|███████████████████████████████████████████████████████████████████████████▌         | 8/9 [02:25<00:18, 18.08s/it]\u001b[A\n",
      "100%|█████████████████████████████████████████████████████████████████████████████████████| 9/9 [02:53<00:00, 19.31s/it]\u001b[A\n"
     ]
    },
    {
     "name": "stdout",
     "output_type": "stream",
     "text": [
      "running row: 14 of 17\n"
     ]
    },
    {
     "name": "stderr",
     "output_type": "stream",
     "text": [
      "\n",
      "  0%|                                                                                             | 0/9 [00:00<?, ?it/s]\u001b[Adistributed.nanny - WARNING - Worker exceeded 95% memory budget. Restarting\n",
      "distributed.client - ERROR - Restart timed out after 9.00 seconds\n",
      "\n",
      " 11%|█████████▍                                                                           | 1/9 [00:40<05:21, 40.13s/it]\u001b[A\n",
      " 22%|██████████████████▉                                                                  | 2/9 [01:05<03:39, 31.32s/it]\u001b[A\n",
      " 33%|████████████████████████████▎                                                        | 3/9 [01:21<02:27, 24.65s/it]\u001b[A\n",
      " 44%|█████████████████████████████████████▊                                               | 4/9 [01:42<01:55, 23.14s/it]\u001b[A\n",
      " 56%|███████████████████████████████████████████████▏                                     | 5/9 [01:59<01:23, 20.83s/it]\u001b[A\n",
      " 67%|████████████████████████████████████████████████████████▋                            | 6/9 [02:16<00:58, 19.57s/it]\u001b[A\n",
      " 78%|██████████████████████████████████████████████████████████████████                   | 7/9 [02:37<00:39, 19.98s/it]\u001b[A\n",
      " 89%|███████████████████████████████████████████████████████████████████████████▌         | 8/9 [02:54<00:18, 18.94s/it]\u001b[A\n",
      "100%|█████████████████████████████████████████████████████████████████████████████████████| 9/9 [03:21<00:00, 22.37s/it]\u001b[A\n"
     ]
    },
    {
     "name": "stdout",
     "output_type": "stream",
     "text": [
      "running row: 15 of 17\n"
     ]
    },
    {
     "name": "stderr",
     "output_type": "stream",
     "text": [
      "\n",
      "  0%|                                                                                             | 0/9 [00:00<?, ?it/s]\u001b[A\n",
      " 11%|█████████▍                                                                           | 1/9 [00:21<02:53, 21.65s/it]\u001b[A\n",
      " 22%|██████████████████▉                                                                  | 2/9 [00:38<02:11, 18.74s/it]\u001b[A\n",
      " 33%|████████████████████████████▎                                                        | 3/9 [00:55<01:47, 17.94s/it]\u001b[A\n",
      " 44%|█████████████████████████████████████▊                                               | 4/9 [01:17<01:37, 19.46s/it]\u001b[A\n",
      " 56%|███████████████████████████████████████████████▏                                     | 5/9 [01:34<01:15, 18.79s/it]\u001b[A\n",
      " 67%|████████████████████████████████████████████████████████▋                            | 6/9 [01:51<00:54, 18.17s/it]\u001b[A\n",
      " 78%|██████████████████████████████████████████████████████████████████                   | 7/9 [02:12<00:38, 19.05s/it]\u001b[A\n",
      " 89%|███████████████████████████████████████████████████████████████████████████▌         | 8/9 [02:29<00:18, 18.48s/it]\u001b[A\n",
      "100%|█████████████████████████████████████████████████████████████████████████████████████| 9/9 [02:59<00:00, 19.91s/it]\u001b[A\n"
     ]
    },
    {
     "name": "stdout",
     "output_type": "stream",
     "text": [
      "running row: 16 of 17\n"
     ]
    },
    {
     "name": "stderr",
     "output_type": "stream",
     "text": [
      "\n",
      "  0%|                                                                                             | 0/9 [00:00<?, ?it/s]\u001b[A\n",
      " 11%|█████████▍                                                                           | 1/9 [00:27<03:41, 27.66s/it]\u001b[A\n",
      " 22%|██████████████████▉                                                                  | 2/9 [00:54<03:12, 27.44s/it]\u001b[A\n",
      " 33%|████████████████████████████▎                                                        | 3/9 [01:35<03:19, 33.31s/it]\u001b[A\n",
      " 44%|█████████████████████████████████████▊                                               | 4/9 [02:09<02:47, 33.54s/it]\u001b[A\n",
      " 56%|███████████████████████████████████████████████▏                                     | 5/9 [02:36<02:05, 31.29s/it]\u001b[A\n",
      " 67%|████████████████████████████████████████████████████████▋                            | 6/9 [03:03<01:29, 29.92s/it]\u001b[A\n",
      " 78%|██████████████████████████████████████████████████████████████████                   | 7/9 [03:31<00:58, 29.28s/it]\u001b[A\n",
      " 89%|███████████████████████████████████████████████████████████████████████████▌         | 8/9 [03:59<00:28, 28.87s/it]\u001b[A\n",
      "100%|█████████████████████████████████████████████████████████████████████████████████████| 9/9 [04:28<00:00, 29.80s/it]\u001b[A\n"
     ]
    },
    {
     "name": "stdout",
     "output_type": "stream",
     "text": [
      "Pasture-group finished!\n"
     ]
    },
    {
     "name": "stderr",
     "output_type": "stream",
     "text": [
      " 80%|████████████████████████████████████████████████████████████████▊                | 4/5 [1:01:32<24:08, 1448.09s/it]"
     ]
    },
    {
     "name": "stdout",
     "output_type": "stream",
     "text": [
      "\n",
      "\n",
      "----------\n",
      "Pasture: CN\n",
      "running row: 0 of 25\n"
     ]
    },
    {
     "name": "stderr",
     "output_type": "stream",
     "text": [
      "\n",
      "  0%|                                                                                            | 0/17 [00:00<?, ?it/s]\u001b[A\n",
      "  6%|████▉                                                                               | 1/17 [00:24<06:37, 24.86s/it]\u001b[A\n",
      " 12%|█████████▉                                                                          | 2/17 [00:43<05:14, 20.96s/it]\u001b[A\n",
      " 18%|██████████████▊                                                                     | 3/17 [01:00<04:30, 19.29s/it]\u001b[A\n",
      " 24%|███████████████████▊                                                                | 4/17 [01:18<04:06, 18.99s/it]\u001b[A\n",
      " 29%|████████████████████████▋                                                           | 5/17 [01:35<03:38, 18.21s/it]\u001b[A\n",
      " 35%|█████████████████████████████▋                                                      | 6/17 [01:54<03:24, 18.55s/it]\u001b[A\n",
      " 41%|██████████████████████████████████▌                                                 | 7/17 [02:13<03:05, 18.58s/it]\u001b[A\n",
      " 47%|███████████████████████████████████████▌                                            | 8/17 [02:30<02:43, 18.20s/it]\u001b[A\n",
      " 53%|████████████████████████████████████████████▍                                       | 9/17 [02:49<02:27, 18.45s/it]\u001b[A\n",
      " 59%|████████████████████████████████████████████████▊                                  | 10/17 [03:07<02:07, 18.23s/it]\u001b[A\n",
      " 65%|█████████████████████████████████████████████████████▋                             | 11/17 [03:28<01:53, 18.98s/it]\u001b[A\n",
      " 71%|██████████████████████████████████████████████████████████▌                        | 12/17 [03:46<01:33, 18.74s/it]\u001b[A\n",
      " 76%|███████████████████████████████████████████████████████████████▍                   | 13/17 [04:03<01:13, 18.27s/it]\u001b[A\n",
      " 82%|████████████████████████████████████████████████████████████████████▎              | 14/17 [04:22<00:54, 18.27s/it]\u001b[A\n",
      " 88%|█████████████████████████████████████████████████████████████████████████▏         | 15/17 [04:40<00:36, 18.19s/it]\u001b[A\n",
      " 94%|██████████████████████████████████████████████████████████████████████████████     | 16/17 [04:59<00:18, 18.49s/it]\u001b[A\n",
      "100%|███████████████████████████████████████████████████████████████████████████████████| 17/17 [05:17<00:00, 18.65s/it]\u001b[A\n"
     ]
    },
    {
     "name": "stdout",
     "output_type": "stream",
     "text": [
      "running row: 1 of 25\n"
     ]
    },
    {
     "name": "stderr",
     "output_type": "stream",
     "text": [
      "\n",
      "  0%|                                                                                            | 0/17 [00:00<?, ?it/s]\u001b[A\n",
      "  6%|████▉                                                                               | 1/17 [00:15<04:03, 15.20s/it]\u001b[A\n",
      " 12%|█████████▉                                                                          | 2/17 [00:32<04:10, 16.67s/it]\u001b[A\n",
      " 18%|██████████████▊                                                                     | 3/17 [00:45<03:30, 15.02s/it]\u001b[A\n",
      " 24%|███████████████████▊                                                                | 4/17 [01:15<04:29, 20.76s/it]\u001b[A\n",
      " 29%|████████████████████████▋                                                           | 5/17 [01:32<03:54, 19.57s/it]\u001b[A\n",
      " 35%|█████████████████████████████▋                                                      | 6/17 [01:46<03:12, 17.48s/it]\u001b[A\n",
      " 41%|██████████████████████████████████▌                                                 | 7/17 [02:00<02:43, 16.31s/it]\u001b[A\n",
      " 47%|███████████████████████████████████████▌                                            | 8/17 [02:13<02:18, 15.37s/it]\u001b[A\n",
      " 53%|████████████████████████████████████████████▍                                       | 9/17 [02:32<02:11, 16.45s/it]\u001b[A\n",
      " 59%|████████████████████████████████████████████████▊                                  | 10/17 [02:45<01:48, 15.52s/it]\u001b[A\n",
      " 65%|█████████████████████████████████████████████████████▋                             | 11/17 [03:05<01:39, 16.66s/it]\u001b[A\n",
      " 71%|██████████████████████████████████████████████████████████▌                        | 12/17 [03:19<01:19, 15.93s/it]\u001b[A\n",
      " 76%|███████████████████████████████████████████████████████████████▍                   | 13/17 [03:33<01:01, 15.47s/it]\u001b[A\n",
      " 82%|████████████████████████████████████████████████████████████████████▎              | 14/17 [03:51<00:48, 16.26s/it]\u001b[A\n",
      " 88%|█████████████████████████████████████████████████████████████████████████▏         | 15/17 [04:07<00:31, 15.93s/it]\u001b[A\n",
      " 94%|██████████████████████████████████████████████████████████████████████████████     | 16/17 [04:25<00:16, 16.71s/it]\u001b[A\n",
      "100%|███████████████████████████████████████████████████████████████████████████████████| 17/17 [04:39<00:00, 16.43s/it]\u001b[A\n"
     ]
    },
    {
     "name": "stdout",
     "output_type": "stream",
     "text": [
      "running row: 2 of 25\n"
     ]
    },
    {
     "name": "stderr",
     "output_type": "stream",
     "text": [
      "\n",
      "  0%|                                                                                            | 0/17 [00:00<?, ?it/s]\u001b[A\n",
      "  6%|████▉                                                                               | 1/17 [00:14<03:49, 14.34s/it]\u001b[A\n",
      " 12%|█████████▉                                                                          | 2/17 [00:31<04:03, 16.21s/it]\u001b[A\n",
      " 18%|██████████████▊                                                                     | 3/17 [00:45<03:29, 14.99s/it]\u001b[A\n",
      " 24%|███████████████████▊                                                                | 4/17 [01:02<03:27, 15.95s/it]\u001b[A\n",
      " 29%|████████████████████████▋                                                           | 5/17 [01:15<02:59, 14.94s/it]\u001b[A\n",
      " 35%|█████████████████████████████▋                                                      | 6/17 [01:29<02:40, 14.59s/it]\u001b[Adistributed.nanny - WARNING - Worker exceeded 95% memory budget. Restarting\n",
      "distributed.client - ERROR - Restart timed out after 9.00 seconds\n",
      "\n",
      " 41%|██████████████████████████████████▌                                                 | 7/17 [02:02<03:24, 20.48s/it]\u001b[A\n",
      " 47%|███████████████████████████████████████▌                                            | 8/17 [02:21<03:00, 20.05s/it]\u001b[A\n",
      " 53%|████████████████████████████████████████████▍                                       | 9/17 [02:38<02:32, 19.07s/it]\u001b[A\n",
      " 59%|████████████████████████████████████████████████▊                                  | 10/17 [02:51<02:00, 17.20s/it]\u001b[A\n",
      " 65%|█████████████████████████████████████████████████████▋                             | 11/17 [03:09<01:44, 17.41s/it]\u001b[A\n",
      " 71%|██████████████████████████████████████████████████████████▌                        | 12/17 [03:22<01:20, 16.04s/it]\u001b[A\n",
      " 76%|███████████████████████████████████████████████████████████████▍                   | 13/17 [03:36<01:01, 15.41s/it]\u001b[A\n",
      " 82%|████████████████████████████████████████████████████████████████████▎              | 14/17 [03:54<00:48, 16.23s/it]\u001b[A\n",
      " 88%|█████████████████████████████████████████████████████████████████████████▏         | 15/17 [04:09<00:32, 16.02s/it]\u001b[A\n",
      " 94%|██████████████████████████████████████████████████████████████████████████████     | 16/17 [04:28<00:16, 16.84s/it]\u001b[A\n",
      "100%|███████████████████████████████████████████████████████████████████████████████████| 17/17 [04:43<00:00, 16.66s/it]\u001b[A\n"
     ]
    },
    {
     "name": "stdout",
     "output_type": "stream",
     "text": [
      "running row: 3 of 25\n"
     ]
    },
    {
     "name": "stderr",
     "output_type": "stream",
     "text": [
      "\n",
      "  0%|                                                                                            | 0/17 [00:00<?, ?it/s]\u001b[A\n",
      "  6%|████▉                                                                               | 1/17 [00:20<05:20, 20.03s/it]\u001b[A\n",
      " 12%|█████████▉                                                                          | 2/17 [00:37<04:41, 18.74s/it]\u001b[A\n",
      " 18%|██████████████▊                                                                     | 3/17 [00:57<04:27, 19.13s/it]\u001b[A\n",
      " 24%|███████████████████▊                                                                | 4/17 [01:17<04:12, 19.43s/it]\u001b[A\n",
      " 29%|████████████████████████▋                                                           | 5/17 [01:34<03:45, 18.75s/it]\u001b[A\n",
      " 35%|█████████████████████████████▋                                                      | 6/17 [01:52<03:22, 18.37s/it]\u001b[A\n",
      " 41%|██████████████████████████████████▌                                                 | 7/17 [02:10<03:02, 18.26s/it]\u001b[A\n",
      " 47%|███████████████████████████████████████▌                                            | 8/17 [02:28<02:43, 18.20s/it]\u001b[A\n",
      " 53%|████████████████████████████████████████████▍                                       | 9/17 [02:47<02:26, 18.32s/it]\u001b[A\n",
      " 59%|████████████████████████████████████████████████▊                                  | 10/17 [03:17<02:34, 22.05s/it]\u001b[A\n",
      " 65%|█████████████████████████████████████████████████████▋                             | 11/17 [03:41<02:15, 22.59s/it]\u001b[A\n",
      " 71%|██████████████████████████████████████████████████████████▌                        | 12/17 [03:59<01:45, 21.14s/it]\u001b[A\n",
      " 76%|███████████████████████████████████████████████████████████████▍                   | 13/17 [04:16<01:20, 20.05s/it]\u001b[A\n",
      " 82%|████████████████████████████████████████████████████████████████████▎              | 14/17 [04:34<00:58, 19.47s/it]\u001b[A\n",
      " 88%|█████████████████████████████████████████████████████████████████████████▏         | 15/17 [04:52<00:37, 18.81s/it]\u001b[A\n",
      " 94%|██████████████████████████████████████████████████████████████████████████████     | 16/17 [05:10<00:18, 18.64s/it]\u001b[A\n",
      "100%|███████████████████████████████████████████████████████████████████████████████████| 17/17 [05:28<00:00, 19.31s/it]\u001b[A\n"
     ]
    },
    {
     "name": "stdout",
     "output_type": "stream",
     "text": [
      "running row: 4 of 25\n"
     ]
    },
    {
     "name": "stderr",
     "output_type": "stream",
     "text": [
      "\n",
      "  0%|                                                                                            | 0/17 [00:00<?, ?it/s]\u001b[A\n",
      "  6%|████▉                                                                               | 1/17 [00:27<07:14, 27.18s/it]\u001b[A\n",
      " 12%|█████████▉                                                                          | 2/17 [00:48<05:59, 23.98s/it]\u001b[A\n",
      " 18%|██████████████▊                                                                     | 3/17 [01:11<05:26, 23.32s/it]\u001b[A\n",
      " 24%|███████████████████▊                                                                | 4/17 [01:34<05:02, 23.26s/it]\u001b[A\n",
      " 29%|████████████████████████▋                                                           | 5/17 [01:56<04:34, 22.86s/it]\u001b[A\n",
      " 35%|█████████████████████████████▋                                                      | 6/17 [02:20<04:16, 23.31s/it]\u001b[A\n",
      " 41%|██████████████████████████████████▌                                                 | 7/17 [02:44<03:52, 23.26s/it]\u001b[A\n",
      " 47%|███████████████████████████████████████▌                                            | 8/17 [03:09<03:36, 24.06s/it]\u001b[A\n",
      " 53%|████████████████████████████████████████████▍                                       | 9/17 [03:35<03:15, 24.47s/it]\u001b[A\n",
      " 59%|████████████████████████████████████████████████▊                                  | 10/17 [04:01<02:56, 25.17s/it]\u001b[A\n",
      " 65%|█████████████████████████████████████████████████████▋                             | 11/17 [04:28<02:33, 25.63s/it]\u001b[A\n",
      " 71%|██████████████████████████████████████████████████████████▌                        | 12/17 [04:56<02:12, 26.41s/it]\u001b[Adistributed.nanny - WARNING - Worker exceeded 95% memory budget. Restarting\n",
      "distributed.nanny - WARNING - Worker exceeded 95% memory budget. Restarting\n",
      "distributed.nanny - WARNING - Worker exceeded 95% memory budget. Restarting\n",
      "distributed.client - ERROR - Restart timed out after 9.00 seconds\n",
      "\n",
      " 76%|███████████████████████████████████████████████████████████████▍                   | 13/17 [05:43<02:09, 32.40s/it]\u001b[A\n",
      " 82%|████████████████████████████████████████████████████████████████████▎              | 14/17 [06:17<01:39, 33.14s/it]\u001b[A\n",
      " 88%|█████████████████████████████████████████████████████████████████████████▏         | 15/17 [06:44<01:02, 31.30s/it]\u001b[A\n",
      " 94%|██████████████████████████████████████████████████████████████████████████████     | 16/17 [07:12<00:30, 30.22s/it]\u001b[A\n",
      "100%|███████████████████████████████████████████████████████████████████████████████████| 17/17 [07:41<00:00, 27.12s/it]\u001b[A\n"
     ]
    },
    {
     "name": "stdout",
     "output_type": "stream",
     "text": [
      "running row: 5 of 25\n"
     ]
    },
    {
     "name": "stderr",
     "output_type": "stream",
     "text": [
      "\n",
      "  0%|                                                                                            | 0/17 [00:00<?, ?it/s]\u001b[A\n",
      "  6%|████▉                                                                               | 1/17 [00:26<06:56, 26.02s/it]\u001b[A\n",
      " 12%|█████████▉                                                                          | 2/17 [00:55<06:59, 27.94s/it]\u001b[A\n",
      " 18%|██████████████▊                                                                     | 3/17 [01:24<06:36, 28.33s/it]\u001b[A\n",
      " 24%|███████████████████▊                                                                | 4/17 [01:52<06:09, 28.46s/it]\u001b[A\n",
      " 29%|████████████████████████▋                                                           | 5/17 [02:22<05:48, 29.06s/it]\u001b[A\n",
      " 35%|█████████████████████████████▋                                                      | 6/17 [02:51<05:19, 29.03s/it]\u001b[A\n",
      " 41%|██████████████████████████████████▌                                                 | 7/17 [03:22<04:56, 29.62s/it]\u001b[A\n",
      " 47%|███████████████████████████████████████▌                                            | 8/17 [03:48<04:16, 28.52s/it]\u001b[A\n",
      " 53%|████████████████████████████████████████████▍                                       | 9/17 [04:08<03:25, 25.73s/it]\u001b[A\n",
      " 59%|████████████████████████████████████████████████▊                                  | 10/17 [04:27<02:45, 23.68s/it]\u001b[A\n",
      " 65%|█████████████████████████████████████████████████████▋                             | 11/17 [04:47<02:14, 22.48s/it]\u001b[A\n",
      " 71%|██████████████████████████████████████████████████████████▌                        | 12/17 [05:15<02:01, 24.21s/it]\u001b[A\n",
      " 76%|███████████████████████████████████████████████████████████████▍                   | 13/17 [05:41<01:39, 24.85s/it]\u001b[A\n",
      " 82%|████████████████████████████████████████████████████████████████████▎              | 14/17 [06:06<01:14, 24.88s/it]\u001b[A\n",
      " 88%|█████████████████████████████████████████████████████████████████████████▏         | 15/17 [06:32<00:50, 25.18s/it]\u001b[Adistributed.nanny - WARNING - Worker exceeded 95% memory budget. Restarting\n",
      "distributed.nanny - WARNING - Worker exceeded 95% memory budget. Restarting\n",
      "distributed.client - ERROR - Restart timed out after 9.00 seconds\n",
      "\n",
      " 94%|██████████████████████████████████████████████████████████████████████████████     | 16/17 [07:18<00:31, 31.29s/it]\u001b[A\n",
      "100%|███████████████████████████████████████████████████████████████████████████████████| 17/17 [07:53<00:00, 27.86s/it]\u001b[A\n"
     ]
    },
    {
     "name": "stdout",
     "output_type": "stream",
     "text": [
      "running row: 6 of 25\n"
     ]
    },
    {
     "name": "stderr",
     "output_type": "stream",
     "text": [
      "\n",
      "  0%|                                                                                            | 0/17 [00:00<?, ?it/s]\u001b[A\n",
      "  6%|████▉                                                                               | 1/17 [00:26<07:08, 26.80s/it]\u001b[A\n",
      " 12%|█████████▉                                                                          | 2/17 [00:54<06:47, 27.17s/it]\u001b[A\n",
      " 18%|██████████████▊                                                                     | 3/17 [01:19<06:10, 26.50s/it]\u001b[A\n",
      " 24%|███████████████████▊                                                                | 4/17 [01:45<05:41, 26.24s/it]\u001b[A\n",
      " 29%|████████████████████████▋                                                           | 5/17 [02:12<05:15, 26.30s/it]\u001b[A\n",
      " 35%|█████████████████████████████▋                                                      | 6/17 [02:40<04:57, 27.03s/it]\u001b[A\n",
      " 41%|██████████████████████████████████▌                                                 | 7/17 [03:06<04:27, 26.75s/it]\u001b[A\n",
      " 47%|███████████████████████████████████████▌                                            | 8/17 [03:33<04:01, 26.78s/it]\u001b[A\n",
      " 53%|████████████████████████████████████████████▍                                       | 9/17 [04:01<03:36, 27.05s/it]\u001b[A\n",
      " 59%|████████████████████████████████████████████████▊                                  | 10/17 [04:28<03:10, 27.24s/it]\u001b[A\n",
      " 65%|█████████████████████████████████████████████████████▋                             | 11/17 [04:55<02:41, 26.88s/it]\u001b[A\n",
      " 71%|██████████████████████████████████████████████████████████▌                        | 12/17 [05:21<02:13, 26.76s/it]\u001b[A\n",
      " 76%|███████████████████████████████████████████████████████████████▍                   | 13/17 [05:48<01:46, 26.70s/it]\u001b[A\n",
      " 82%|████████████████████████████████████████████████████████████████████▎              | 14/17 [06:14<01:19, 26.64s/it]\u001b[A\n",
      " 88%|█████████████████████████████████████████████████████████████████████████▏         | 15/17 [06:41<00:53, 26.77s/it]\u001b[A\n",
      " 94%|██████████████████████████████████████████████████████████████████████████████     | 16/17 [07:07<00:26, 26.37s/it]\u001b[A\n",
      "100%|███████████████████████████████████████████████████████████████████████████████████| 17/17 [07:31<00:00, 26.54s/it]\u001b[A\n"
     ]
    },
    {
     "name": "stdout",
     "output_type": "stream",
     "text": [
      "running row: 7 of 25\n"
     ]
    },
    {
     "name": "stderr",
     "output_type": "stream",
     "text": [
      "\n",
      "  0%|                                                                                            | 0/17 [00:00<?, ?it/s]\u001b[A\n",
      "  6%|████▉                                                                               | 1/17 [00:17<04:34, 17.19s/it]\u001b[Adistributed.nanny - WARNING - Worker exceeded 95% memory budget. Restarting\n",
      "distributed.client - ERROR - Restart timed out after 9.00 seconds\n",
      "\n",
      " 12%|█████████▉                                                                          | 2/17 [00:49<06:33, 26.20s/it]\u001b[A\n",
      " 18%|██████████████▊                                                                     | 3/17 [01:08<05:18, 22.74s/it]\u001b[A\n",
      " 24%|███████████████████▊                                                                | 4/17 [01:20<04:03, 18.76s/it]\u001b[A\n",
      " 29%|████████████████████████▋                                                           | 5/17 [01:33<03:20, 16.69s/it]\u001b[A\n",
      " 35%|█████████████████████████████▋                                                      | 6/17 [01:46<02:48, 15.28s/it]\u001b[A\n",
      " 41%|██████████████████████████████████▌                                                 | 7/17 [01:59<02:26, 14.61s/it]\u001b[A\n",
      " 47%|███████████████████████████████████████▌                                            | 8/17 [02:11<02:04, 13.83s/it]\u001b[A\n",
      " 53%|████████████████████████████████████████████▍                                       | 9/17 [02:24<01:48, 13.53s/it]\u001b[A\n",
      " 59%|████████████████████████████████████████████████▊                                  | 10/17 [02:37<01:32, 13.27s/it]\u001b[A\n",
      " 65%|█████████████████████████████████████████████████████▋                             | 11/17 [02:49<01:17, 12.98s/it]\u001b[A\n",
      " 71%|██████████████████████████████████████████████████████████▌                        | 12/17 [03:03<01:05, 13.18s/it]\u001b[A\n",
      " 76%|███████████████████████████████████████████████████████████████▍                   | 13/17 [03:16<00:52, 13.20s/it]\u001b[A\n",
      " 82%|████████████████████████████████████████████████████████████████████▎              | 14/17 [03:30<00:39, 13.30s/it]\u001b[A\n",
      " 88%|█████████████████████████████████████████████████████████████████████████▏         | 15/17 [03:42<00:25, 12.95s/it]\u001b[A\n",
      " 94%|██████████████████████████████████████████████████████████████████████████████     | 16/17 [03:55<00:13, 13.01s/it]\u001b[A\n",
      "100%|███████████████████████████████████████████████████████████████████████████████████| 17/17 [04:12<00:00, 14.84s/it]\u001b[A\n"
     ]
    },
    {
     "name": "stdout",
     "output_type": "stream",
     "text": [
      "running row: 8 of 25\n"
     ]
    },
    {
     "name": "stderr",
     "output_type": "stream",
     "text": [
      "\n",
      "  0%|                                                                                            | 0/17 [00:00<?, ?it/s]\u001b[A\n",
      "  6%|████▉                                                                               | 1/17 [00:17<04:39, 17.46s/it]\u001b[A\n",
      " 12%|█████████▉                                                                          | 2/17 [00:30<03:39, 14.61s/it]\u001b[A\n",
      " 18%|██████████████▊                                                                     | 3/17 [00:43<03:14, 13.91s/it]\u001b[A\n",
      " 24%|███████████████████▊                                                                | 4/17 [00:55<02:53, 13.34s/it]\u001b[Adistributed.nanny - WARNING - Worker exceeded 95% memory budget. Restarting\n",
      "distributed.client - ERROR - Restart timed out after 9.00 seconds\n",
      "\n",
      " 29%|████████████████████████▋                                                           | 5/17 [01:27<04:00, 20.05s/it]\u001b[A\n",
      " 35%|█████████████████████████████▋                                                      | 6/17 [01:46<03:35, 19.63s/it]\u001b[A\n",
      " 41%|██████████████████████████████████▌                                                 | 7/17 [01:58<02:52, 17.29s/it]\u001b[A\n",
      " 47%|███████████████████████████████████████▌                                            | 8/17 [02:11<02:23, 15.91s/it]\u001b[A\n",
      " 53%|████████████████████████████████████████████▍                                       | 9/17 [02:25<02:01, 15.22s/it]\u001b[A\n",
      " 59%|████████████████████████████████████████████████▊                                  | 10/17 [02:38<01:41, 14.47s/it]\u001b[A\n",
      " 65%|█████████████████████████████████████████████████████▋                             | 11/17 [02:51<01:25, 14.22s/it]\u001b[A\n",
      " 71%|██████████████████████████████████████████████████████████▌                        | 12/17 [03:04<01:08, 13.72s/it]\u001b[A\n",
      " 76%|███████████████████████████████████████████████████████████████▍                   | 13/17 [03:17<00:54, 13.54s/it]\u001b[A\n",
      " 82%|████████████████████████████████████████████████████████████████████▎              | 14/17 [03:30<00:39, 13.27s/it]\u001b[A\n",
      " 88%|█████████████████████████████████████████████████████████████████████████▏         | 15/17 [03:43<00:26, 13.17s/it]\u001b[A\n",
      " 94%|██████████████████████████████████████████████████████████████████████████████     | 16/17 [03:57<00:13, 13.49s/it]\u001b[A\n",
      "100%|███████████████████████████████████████████████████████████████████████████████████| 17/17 [04:10<00:00, 14.74s/it]\u001b[A\n"
     ]
    },
    {
     "name": "stdout",
     "output_type": "stream",
     "text": [
      "running row: 9 of 25\n"
     ]
    },
    {
     "name": "stderr",
     "output_type": "stream",
     "text": [
      "\n",
      "  0%|                                                                                            | 0/17 [00:00<?, ?it/s]\u001b[A\n",
      "  6%|████▉                                                                               | 1/17 [00:19<05:06, 19.14s/it]\u001b[A\n",
      " 12%|█████████▉                                                                          | 2/17 [00:32<03:56, 15.79s/it]\u001b[A\n",
      " 18%|██████████████▊                                                                     | 3/17 [00:46<03:31, 15.13s/it]\u001b[A\n",
      " 24%|███████████████████▊                                                                | 4/17 [01:00<03:09, 14.58s/it]\u001b[A\n",
      " 29%|████████████████████████▋                                                           | 5/17 [01:15<02:56, 14.71s/it]\u001b[A\n",
      " 35%|█████████████████████████████▋                                                      | 6/17 [01:29<02:38, 14.37s/it]\u001b[A\n",
      " 41%|██████████████████████████████████▌                                                 | 7/17 [01:44<02:25, 14.52s/it]\u001b[Adistributed.nanny - WARNING - Worker exceeded 95% memory budget. Restarting\n",
      "distributed.client - ERROR - Restart timed out after 9.00 seconds\n",
      "\n",
      " 47%|███████████████████████████████████████▌                                            | 8/17 [02:16<03:02, 20.23s/it]\u001b[A\n",
      " 53%|████████████████████████████████████████████▍                                       | 9/17 [02:36<02:40, 20.01s/it]\u001b[A\n",
      " 59%|████████████████████████████████████████████████▊                                  | 10/17 [02:48<02:04, 17.74s/it]\u001b[A\n",
      " 65%|█████████████████████████████████████████████████████▋                             | 11/17 [03:01<01:37, 16.22s/it]\u001b[A\n",
      " 71%|██████████████████████████████████████████████████████████▌                        | 12/17 [03:15<01:17, 15.49s/it]\u001b[A\n",
      " 76%|███████████████████████████████████████████████████████████████▍                   | 13/17 [03:28<00:58, 14.73s/it]\u001b[A\n",
      " 82%|████████████████████████████████████████████████████████████████████▎              | 14/17 [03:42<00:43, 14.47s/it]\u001b[A\n",
      " 88%|█████████████████████████████████████████████████████████████████████████▏         | 15/17 [03:55<00:28, 14.07s/it]\u001b[A\n",
      " 94%|██████████████████████████████████████████████████████████████████████████████     | 16/17 [04:08<00:13, 13.83s/it]\u001b[A\n",
      "100%|███████████████████████████████████████████████████████████████████████████████████| 17/17 [04:22<00:00, 15.43s/it]\u001b[A\n"
     ]
    },
    {
     "name": "stdout",
     "output_type": "stream",
     "text": [
      "running row: 10 of 25\n"
     ]
    },
    {
     "name": "stderr",
     "output_type": "stream",
     "text": [
      "\n",
      "  0%|                                                                                            | 0/17 [00:00<?, ?it/s]\u001b[A\n",
      "  6%|████▉                                                                               | 1/17 [00:18<04:48, 18.05s/it]\u001b[A\n",
      " 12%|█████████▉                                                                          | 2/17 [00:31<03:54, 15.63s/it]\u001b[A\n",
      " 18%|██████████████▊                                                                     | 3/17 [00:46<03:34, 15.33s/it]\u001b[A\n",
      " 24%|███████████████████▊                                                                | 4/17 [01:00<03:09, 14.55s/it]\u001b[A\n",
      " 29%|████████████████████████▋                                                           | 5/17 [01:14<02:53, 14.42s/it]\u001b[A\n",
      " 35%|█████████████████████████████▋                                                      | 6/17 [01:29<02:40, 14.55s/it]\u001b[A\n",
      " 41%|██████████████████████████████████▌                                                 | 7/17 [01:43<02:24, 14.48s/it]\u001b[A\n",
      " 47%|███████████████████████████████████████▌                                            | 8/17 [01:58<02:12, 14.70s/it]\u001b[A\n",
      " 53%|████████████████████████████████████████████▍                                       | 9/17 [02:12<01:55, 14.43s/it]\u001b[A\n",
      " 59%|████████████████████████████████████████████████▊                                  | 10/17 [02:31<01:50, 15.82s/it]\u001b[Adistributed.nanny - WARNING - Worker exceeded 95% memory budget. Restarting\n",
      "distributed.client - ERROR - Restart timed out after 9.00 seconds\n",
      "\n",
      " 65%|█████████████████████████████████████████████████████▋                             | 11/17 [03:04<02:06, 21.08s/it]\u001b[A\n",
      " 71%|██████████████████████████████████████████████████████████▌                        | 12/17 [03:23<01:42, 20.52s/it]\u001b[A\n",
      " 76%|███████████████████████████████████████████████████████████████▍                   | 13/17 [03:37<01:13, 18.44s/it]\u001b[A\n",
      " 82%|████████████████████████████████████████████████████████████████████▎              | 14/17 [03:51<00:50, 17.00s/it]\u001b[A\n",
      " 88%|█████████████████████████████████████████████████████████████████████████▏         | 15/17 [04:04<00:31, 15.90s/it]\u001b[A\n",
      " 94%|██████████████████████████████████████████████████████████████████████████████     | 16/17 [04:18<00:15, 15.28s/it]\u001b[A\n",
      "100%|███████████████████████████████████████████████████████████████████████████████████| 17/17 [04:32<00:00, 16.04s/it]\u001b[A\n"
     ]
    },
    {
     "name": "stdout",
     "output_type": "stream",
     "text": [
      "running row: 11 of 25\n"
     ]
    },
    {
     "name": "stderr",
     "output_type": "stream",
     "text": [
      "\n",
      "  0%|                                                                                            | 0/17 [00:00<?, ?it/s]\u001b[A\n",
      "  6%|████▉                                                                               | 1/17 [00:19<05:04, 19.06s/it]\u001b[A\n",
      " 12%|█████████▉                                                                          | 2/17 [00:33<04:04, 16.33s/it]\u001b[A\n",
      " 18%|██████████████▊                                                                     | 3/17 [00:48<03:40, 15.72s/it]\u001b[A\n",
      " 24%|███████████████████▊                                                                | 4/17 [01:02<03:17, 15.17s/it]\u001b[A\n",
      " 29%|████████████████████████▋                                                           | 5/17 [01:17<02:59, 14.93s/it]\u001b[A\n",
      " 35%|█████████████████████████████▋                                                      | 6/17 [01:31<02:42, 14.73s/it]\u001b[A\n",
      " 41%|██████████████████████████████████▌                                                 | 7/17 [01:46<02:27, 14.72s/it]\u001b[A\n",
      " 47%|███████████████████████████████████████▌                                            | 8/17 [02:00<02:11, 14.61s/it]\u001b[A\n",
      " 53%|████████████████████████████████████████████▍                                       | 9/17 [02:15<01:56, 14.56s/it]\u001b[A\n",
      " 59%|████████████████████████████████████████████████▊                                  | 10/17 [02:30<01:43, 14.79s/it]\u001b[A\n",
      " 65%|█████████████████████████████████████████████████████▋                             | 11/17 [02:45<01:28, 14.76s/it]\u001b[A\n",
      " 71%|██████████████████████████████████████████████████████████▌                        | 12/17 [03:01<01:15, 15.09s/it]\u001b[A\n",
      " 76%|███████████████████████████████████████████████████████████████▍                   | 13/17 [03:15<01:00, 15.02s/it]\u001b[Adistributed.nanny - WARNING - Worker exceeded 95% memory budget. Restarting\n",
      "distributed.client - ERROR - Restart timed out after 9.00 seconds\n",
      "\n",
      " 82%|████████████████████████████████████████████████████████████████████▎              | 14/17 [03:50<01:02, 20.86s/it]\u001b[A\n",
      " 88%|█████████████████████████████████████████████████████████████████████████▏         | 15/17 [04:11<00:41, 20.99s/it]\u001b[A\n",
      " 94%|██████████████████████████████████████████████████████████████████████████████     | 16/17 [04:25<00:18, 19.00s/it]\u001b[A\n",
      "100%|███████████████████████████████████████████████████████████████████████████████████| 17/17 [04:40<00:00, 16.49s/it]\u001b[A\n"
     ]
    },
    {
     "name": "stdout",
     "output_type": "stream",
     "text": [
      "running row: 12 of 25\n"
     ]
    },
    {
     "name": "stderr",
     "output_type": "stream",
     "text": [
      "\n",
      "  0%|                                                                                            | 0/17 [00:00<?, ?it/s]\u001b[A\n",
      "  6%|████▉                                                                               | 1/17 [00:19<05:15, 19.72s/it]\u001b[A\n",
      " 12%|█████████▉                                                                          | 2/17 [00:34<04:15, 17.02s/it]\u001b[A\n",
      " 18%|██████████████▊                                                                     | 3/17 [00:49<03:46, 16.15s/it]\u001b[A\n",
      " 24%|███████████████████▊                                                                | 4/17 [01:05<03:25, 15.79s/it]\u001b[A\n",
      " 29%|████████████████████████▋                                                           | 5/17 [01:20<03:08, 15.73s/it]\u001b[A\n",
      " 35%|█████████████████████████████▋                                                      | 6/17 [01:36<02:52, 15.64s/it]\u001b[A\n",
      " 41%|██████████████████████████████████▌                                                 | 7/17 [01:52<02:38, 15.83s/it]\u001b[A\n",
      " 47%|███████████████████████████████████████▌                                            | 8/17 [02:08<02:21, 15.74s/it]\u001b[A\n",
      " 53%|████████████████████████████████████████████▍                                       | 9/17 [02:24<02:06, 15.82s/it]\u001b[A\n",
      " 59%|████████████████████████████████████████████████▊                                  | 10/17 [02:39<01:49, 15.66s/it]\u001b[A\n",
      " 65%|█████████████████████████████████████████████████████▋                             | 11/17 [02:55<01:34, 15.73s/it]\u001b[A\n",
      " 71%|██████████████████████████████████████████████████████████▌                        | 12/17 [03:10<01:18, 15.67s/it]\u001b[A\n",
      " 76%|███████████████████████████████████████████████████████████████▍                   | 13/17 [03:27<01:03, 15.84s/it]\u001b[A\n",
      " 82%|████████████████████████████████████████████████████████████████████▎              | 14/17 [03:43<00:47, 15.92s/it]\u001b[A\n",
      " 88%|█████████████████████████████████████████████████████████████████████████▏         | 15/17 [03:58<00:31, 15.82s/it]\u001b[A\n",
      " 94%|██████████████████████████████████████████████████████████████████████████████     | 16/17 [04:14<00:15, 15.84s/it]\u001b[A\n",
      "100%|███████████████████████████████████████████████████████████████████████████████████| 17/17 [04:41<00:00, 16.58s/it]\u001b[A\n"
     ]
    },
    {
     "name": "stdout",
     "output_type": "stream",
     "text": [
      "running row: 13 of 25\n"
     ]
    },
    {
     "name": "stderr",
     "output_type": "stream",
     "text": [
      "\n",
      "  0%|                                                                                            | 0/17 [00:00<?, ?it/s]\u001b[A\n",
      "  6%|████▉                                                                               | 1/17 [00:24<06:26, 24.14s/it]\u001b[A\n",
      " 12%|█████████▉                                                                          | 2/17 [00:39<04:42, 18.86s/it]\u001b[A\n",
      " 18%|██████████████▊                                                                     | 3/17 [00:54<04:02, 17.32s/it]\u001b[A\n",
      " 24%|███████████████████▊                                                                | 4/17 [01:10<03:36, 16.66s/it]\u001b[A\n",
      " 29%|████████████████████████▋                                                           | 5/17 [01:25<03:14, 16.20s/it]\u001b[A\n",
      " 35%|█████████████████████████████▋                                                      | 6/17 [01:41<02:57, 16.09s/it]\u001b[A\n",
      " 41%|██████████████████████████████████▌                                                 | 7/17 [01:57<02:39, 15.92s/it]\u001b[A\n",
      " 47%|███████████████████████████████████████▌                                            | 8/17 [02:13<02:25, 16.15s/it]\u001b[A\n",
      " 53%|████████████████████████████████████████████▍                                       | 9/17 [02:29<02:06, 15.86s/it]\u001b[A\n",
      " 59%|████████████████████████████████████████████████▊                                  | 10/17 [02:45<01:52, 16.09s/it]\u001b[A\n",
      " 65%|█████████████████████████████████████████████████████▋                             | 11/17 [03:01<01:36, 16.05s/it]\u001b[A\n",
      " 71%|██████████████████████████████████████████████████████████▌                        | 12/17 [03:19<01:22, 16.54s/it]\u001b[A\n",
      " 76%|███████████████████████████████████████████████████████████████▍                   | 13/17 [03:35<01:06, 16.54s/it]\u001b[A\n",
      " 82%|████████████████████████████████████████████████████████████████████▎              | 14/17 [03:51<00:48, 16.22s/it]\u001b[A\n",
      " 88%|█████████████████████████████████████████████████████████████████████████▏         | 15/17 [04:07<00:32, 16.33s/it]\u001b[A\n",
      " 94%|██████████████████████████████████████████████████████████████████████████████     | 16/17 [04:23<00:16, 16.06s/it]\u001b[A\n",
      "100%|███████████████████████████████████████████████████████████████████████████████████| 17/17 [04:39<00:00, 16.45s/it]\u001b[A\n"
     ]
    },
    {
     "name": "stdout",
     "output_type": "stream",
     "text": [
      "running row: 14 of 25\n"
     ]
    },
    {
     "name": "stderr",
     "output_type": "stream",
     "text": [
      "\n",
      "  0%|                                                                                            | 0/17 [00:00<?, ?it/s]\u001b[A\n",
      "  6%|████▉                                                                               | 1/17 [00:32<08:37, 32.35s/it]\u001b[A\n",
      " 12%|█████████▉                                                                          | 2/17 [01:00<07:31, 30.10s/it]\u001b[A\n",
      " 18%|██████████████▊                                                                     | 3/17 [01:42<08:12, 35.21s/it]\u001b[A\n",
      " 24%|███████████████████▊                                                                | 4/17 [02:18<07:41, 35.50s/it]\u001b[A\n",
      " 29%|████████████████████████▋                                                           | 5/17 [02:50<06:51, 34.31s/it]\u001b[A\n",
      " 35%|█████████████████████████████▋                                                      | 6/17 [03:21<06:04, 33.11s/it]\u001b[A\n",
      " 41%|██████████████████████████████████▌                                                 | 7/17 [03:51<05:22, 32.25s/it]\u001b[A\n",
      " 47%|███████████████████████████████████████▌                                            | 8/17 [04:21<04:43, 31.54s/it]\u001b[A\n",
      " 53%|████████████████████████████████████████████▍                                       | 9/17 [04:53<04:13, 31.68s/it]\u001b[A\n",
      " 59%|████████████████████████████████████████████████▊                                  | 10/17 [05:23<03:38, 31.15s/it]\u001b[A\n",
      " 65%|█████████████████████████████████████████████████████▋                             | 11/17 [05:53<03:04, 30.79s/it]\u001b[A\n",
      " 71%|██████████████████████████████████████████████████████████▌                        | 12/17 [06:25<02:36, 31.27s/it]\u001b[A\n",
      " 76%|███████████████████████████████████████████████████████████████▍                   | 13/17 [06:58<02:06, 31.60s/it]\u001b[A\n",
      " 82%|████████████████████████████████████████████████████████████████████▎              | 14/17 [07:29<01:34, 31.65s/it]\u001b[A\n",
      " 88%|█████████████████████████████████████████████████████████████████████████▏         | 15/17 [08:02<01:03, 31.86s/it]\u001b[A\n",
      " 94%|██████████████████████████████████████████████████████████████████████████████     | 16/17 [08:30<00:30, 30.84s/it]\u001b[A\n",
      "100%|███████████████████████████████████████████████████████████████████████████████████| 17/17 [08:59<00:00, 31.74s/it]\u001b[A\n"
     ]
    },
    {
     "name": "stdout",
     "output_type": "stream",
     "text": [
      "running row: 15 of 25\n"
     ]
    },
    {
     "name": "stderr",
     "output_type": "stream",
     "text": [
      "\n",
      "  0%|                                                                                            | 0/17 [00:00<?, ?it/s]\u001b[A\n",
      "  6%|████▉                                                                               | 1/17 [00:23<06:22, 23.90s/it]\u001b[A\n",
      " 12%|█████████▉                                                                          | 2/17 [00:47<05:55, 23.73s/it]\u001b[A\n",
      " 18%|██████████████▊                                                                     | 3/17 [01:09<05:21, 22.94s/it]\u001b[A\n",
      " 24%|███████████████████▊                                                                | 4/17 [01:31<04:53, 22.55s/it]\u001b[A\n",
      " 29%|████████████████████████▋                                                           | 5/17 [01:55<04:37, 23.10s/it]\u001b[Adistributed.nanny - WARNING - Worker exceeded 95% memory budget. Restarting\n",
      "distributed.client - ERROR - Restart timed out after 9.00 seconds\n",
      "\n",
      " 35%|█████████████████████████████▋                                                      | 6/17 [02:36<05:22, 29.30s/it]\u001b[A\n",
      " 41%|██████████████████████████████████▌                                                 | 7/17 [03:06<04:55, 29.54s/it]\u001b[A\n",
      " 47%|███████████████████████████████████████▌                                            | 8/17 [03:29<04:07, 27.47s/it]\u001b[A\n",
      " 53%|████████████████████████████████████████████▍                                       | 9/17 [03:53<03:28, 26.09s/it]\u001b[A\n",
      " 59%|████████████████████████████████████████████████▊                                  | 10/17 [04:17<02:58, 25.55s/it]\u001b[A\n",
      " 65%|█████████████████████████████████████████████████████▋                             | 11/17 [04:39<02:27, 24.61s/it]\u001b[A\n",
      " 71%|██████████████████████████████████████████████████████████▌                        | 12/17 [05:02<02:00, 24.13s/it]\u001b[A\n",
      " 76%|███████████████████████████████████████████████████████████████▍                   | 13/17 [05:26<01:35, 23.88s/it]\u001b[A\n",
      " 82%|████████████████████████████████████████████████████████████████████▎              | 14/17 [06:01<01:22, 27.39s/it]\u001b[A\n",
      " 88%|█████████████████████████████████████████████████████████████████████████▏         | 15/17 [06:39<01:01, 30.58s/it]\u001b[A\n",
      " 94%|██████████████████████████████████████████████████████████████████████████████     | 16/17 [07:12<00:31, 31.30s/it]\u001b[A\n",
      "100%|███████████████████████████████████████████████████████████████████████████████████| 17/17 [07:46<00:00, 27.43s/it]\u001b[A\n"
     ]
    },
    {
     "name": "stdout",
     "output_type": "stream",
     "text": [
      "running row: 16 of 25\n"
     ]
    },
    {
     "name": "stderr",
     "output_type": "stream",
     "text": [
      "\n",
      "  0%|                                                                                            | 0/17 [00:00<?, ?it/s]\u001b[A\n",
      "  6%|████▉                                                                               | 1/17 [00:31<08:27, 31.70s/it]\u001b[A\n",
      " 12%|█████████▉                                                                          | 2/17 [01:00<07:33, 30.27s/it]\u001b[A\n",
      " 18%|██████████████▊                                                                     | 3/17 [01:30<07:01, 30.12s/it]\u001b[A\n",
      " 24%|███████████████████▊                                                                | 4/17 [02:00<06:27, 29.77s/it]\u001b[A\n",
      " 29%|████████████████████████▋                                                           | 5/17 [02:31<06:02, 30.24s/it]\u001b[A\n",
      " 35%|█████████████████████████████▋                                                      | 6/17 [03:01<05:33, 30.34s/it]\u001b[A\n",
      " 41%|██████████████████████████████████▌                                                 | 7/17 [03:33<05:08, 30.80s/it]\u001b[A\n",
      " 47%|███████████████████████████████████████▌                                            | 8/17 [04:05<04:40, 31.19s/it]\u001b[Adistributed.nanny - WARNING - Worker exceeded 95% memory budget. Restarting\n",
      "distributed.client - ERROR - Restart timed out after 9.00 seconds\n",
      "\n",
      " 53%|████████████████████████████████████████████▍                                       | 9/17 [04:55<04:57, 37.19s/it]\u001b[A\n",
      " 59%|████████████████████████████████████████████████▊                                  | 10/17 [05:35<04:24, 37.82s/it]\u001b[A\n",
      " 65%|█████████████████████████████████████████████████████▋                             | 11/17 [06:04<03:31, 35.27s/it]\u001b[A\n",
      " 71%|██████████████████████████████████████████████████████████▌                        | 12/17 [06:34<02:48, 33.63s/it]\u001b[A\n",
      " 76%|███████████████████████████████████████████████████████████████▍                   | 13/17 [07:04<02:10, 32.57s/it]\u001b[A\n",
      " 82%|████████████████████████████████████████████████████████████████████▎              | 14/17 [07:38<01:38, 32.98s/it]\u001b[A\n",
      " 88%|█████████████████████████████████████████████████████████████████████████▏         | 15/17 [08:17<01:09, 34.72s/it]\u001b[A\n",
      " 94%|██████████████████████████████████████████████████████████████████████████████     | 16/17 [08:52<00:34, 34.85s/it]\u001b[A\n",
      "100%|███████████████████████████████████████████████████████████████████████████████████| 17/17 [09:24<00:00, 33.22s/it]\u001b[A\n"
     ]
    },
    {
     "name": "stdout",
     "output_type": "stream",
     "text": [
      "running row: 17 of 25\n"
     ]
    },
    {
     "name": "stderr",
     "output_type": "stream",
     "text": [
      "\n",
      "  0%|                                                                                            | 0/17 [00:00<?, ?it/s]\u001b[A\n",
      "  6%|████▉                                                                               | 1/17 [00:19<05:09, 19.34s/it]\u001b[A\n",
      " 12%|█████████▉                                                                          | 2/17 [00:38<04:49, 19.29s/it]\u001b[A\n",
      " 18%|██████████████▊                                                                     | 3/17 [00:57<04:24, 18.92s/it]\u001b[A\n",
      " 24%|███████████████████▊                                                                | 4/17 [01:16<04:06, 18.93s/it]\u001b[A\n",
      " 29%|████████████████████████▋                                                           | 5/17 [01:35<03:47, 18.95s/it]\u001b[A\n",
      " 35%|█████████████████████████████▋                                                      | 6/17 [01:58<03:46, 20.56s/it]\u001b[A\n",
      " 41%|██████████████████████████████████▌                                                 | 7/17 [02:18<03:23, 20.36s/it]\u001b[A\n",
      " 47%|███████████████████████████████████████▌                                            | 8/17 [02:38<03:00, 20.04s/it]\u001b[A\n",
      " 53%|████████████████████████████████████████████▍                                       | 9/17 [02:58<02:41, 20.19s/it]\u001b[A\n",
      " 59%|████████████████████████████████████████████████▊                                  | 10/17 [03:18<02:20, 20.02s/it]\u001b[A\n",
      " 65%|█████████████████████████████████████████████████████▋                             | 11/17 [03:37<01:59, 19.92s/it]\u001b[A\n",
      " 71%|██████████████████████████████████████████████████████████▌                        | 12/17 [04:10<01:58, 23.74s/it]\u001b[A\n",
      " 76%|███████████████████████████████████████████████████████████████▍                   | 13/17 [04:34<01:35, 23.80s/it]\u001b[A\n",
      " 82%|████████████████████████████████████████████████████████████████████▎              | 14/17 [05:06<01:19, 26.38s/it]\u001b[A\n",
      " 88%|█████████████████████████████████████████████████████████████████████████▏         | 15/17 [05:41<00:57, 28.89s/it]\u001b[A\n",
      " 94%|██████████████████████████████████████████████████████████████████████████████     | 16/17 [06:09<00:28, 28.62s/it]\u001b[A\n",
      "100%|███████████████████████████████████████████████████████████████████████████████████| 17/17 [06:37<00:00, 23.40s/it]\u001b[A\n"
     ]
    },
    {
     "name": "stdout",
     "output_type": "stream",
     "text": [
      "running row: 18 of 25\n"
     ]
    },
    {
     "name": "stderr",
     "output_type": "stream",
     "text": [
      "\n",
      "  0%|                                                                                            | 0/17 [00:00<?, ?it/s]\u001b[A\n",
      "  6%|████▉                                                                               | 1/17 [00:20<05:26, 20.38s/it]\u001b[A\n",
      " 12%|█████████▉                                                                          | 2/17 [00:40<05:02, 20.14s/it]\u001b[A\n",
      " 18%|██████████████▊                                                                     | 3/17 [01:00<04:44, 20.32s/it]\u001b[A\n",
      " 24%|███████████████████▊                                                                | 4/17 [01:21<04:25, 20.40s/it]\u001b[A\n",
      " 29%|████████████████████████▋                                                           | 5/17 [01:42<04:05, 20.48s/it]\u001b[A\n",
      " 35%|█████████████████████████████▋                                                      | 6/17 [02:07<04:05, 22.31s/it]\u001b[A\n",
      " 41%|██████████████████████████████████▌                                                 | 7/17 [02:28<03:37, 21.72s/it]\u001b[A\n",
      " 47%|███████████████████████████████████████▌                                            | 8/17 [02:49<03:13, 21.48s/it]\u001b[A\n",
      " 53%|████████████████████████████████████████████▍                                       | 9/17 [03:11<02:52, 21.60s/it]\u001b[A\n",
      " 59%|████████████████████████████████████████████████▊                                  | 10/17 [03:32<02:29, 21.34s/it]\u001b[A\n",
      " 65%|█████████████████████████████████████████████████████▋                             | 11/17 [03:52<02:07, 21.17s/it]\u001b[A\n",
      " 71%|██████████████████████████████████████████████████████████▌                        | 12/17 [04:13<01:45, 21.17s/it]\u001b[A\n",
      " 76%|███████████████████████████████████████████████████████████████▍                   | 13/17 [04:35<01:24, 21.20s/it]\u001b[A\n",
      " 82%|████████████████████████████████████████████████████████████████████▎              | 14/17 [05:08<01:14, 24.94s/it]\u001b[A\n",
      " 88%|█████████████████████████████████████████████████████████████████████████▏         | 15/17 [05:58<01:04, 32.26s/it]\u001b[A\n",
      " 94%|██████████████████████████████████████████████████████████████████████████████     | 16/17 [06:31<00:32, 32.56s/it]\u001b[A\n",
      "100%|███████████████████████████████████████████████████████████████████████████████████| 17/17 [07:02<00:00, 24.83s/it]\u001b[A\n"
     ]
    },
    {
     "name": "stdout",
     "output_type": "stream",
     "text": [
      "running row: 19 of 25\n"
     ]
    },
    {
     "name": "stderr",
     "output_type": "stream",
     "text": [
      "\n",
      "  0%|                                                                                            | 0/17 [00:00<?, ?it/s]\u001b[A\n",
      "  6%|████▉                                                                               | 1/17 [00:21<05:36, 21.02s/it]\u001b[A\n",
      " 12%|█████████▉                                                                          | 2/17 [00:42<05:16, 21.08s/it]\u001b[A\n",
      " 18%|██████████████▊                                                                     | 3/17 [01:02<04:52, 20.90s/it]\u001b[A\n",
      " 24%|███████████████████▊                                                                | 4/17 [01:23<04:28, 20.68s/it]\u001b[A\n",
      " 29%|████████████████████████▋                                                           | 5/17 [01:44<04:09, 20.77s/it]\u001b[A\n",
      " 35%|█████████████████████████████▋                                                      | 6/17 [02:09<04:06, 22.38s/it]\u001b[A\n",
      " 41%|██████████████████████████████████▌                                                 | 7/17 [02:31<03:41, 22.19s/it]\u001b[A\n",
      " 47%|███████████████████████████████████████▌                                            | 8/17 [02:51<03:15, 21.68s/it]\u001b[A\n",
      " 53%|████████████████████████████████████████████▍                                       | 9/17 [03:13<02:52, 21.57s/it]\u001b[A\n",
      " 59%|████████████████████████████████████████████████▊                                  | 10/17 [03:34<02:30, 21.52s/it]\u001b[A\n",
      " 65%|█████████████████████████████████████████████████████▋                             | 11/17 [03:55<02:08, 21.37s/it]\u001b[A\n",
      " 71%|██████████████████████████████████████████████████████████▌                        | 12/17 [04:17<01:47, 21.53s/it]\u001b[A\n",
      " 76%|███████████████████████████████████████████████████████████████▍                   | 13/17 [04:39<01:26, 21.52s/it]\u001b[A\n",
      " 82%|████████████████████████████████████████████████████████████████████▎              | 14/17 [05:13<01:15, 25.31s/it]\u001b[A\n",
      " 88%|█████████████████████████████████████████████████████████████████████████▏         | 15/17 [05:50<00:57, 28.94s/it]\u001b[A\n",
      " 94%|██████████████████████████████████████████████████████████████████████████████     | 16/17 [06:11<00:26, 26.58s/it]\u001b[A\n",
      "100%|███████████████████████████████████████████████████████████████████████████████████| 17/17 [06:40<00:00, 23.56s/it]\u001b[A\n"
     ]
    },
    {
     "name": "stdout",
     "output_type": "stream",
     "text": [
      "running row: 20 of 25\n"
     ]
    },
    {
     "name": "stderr",
     "output_type": "stream",
     "text": [
      "\n",
      "  0%|                                                                                            | 0/17 [00:00<?, ?it/s]\u001b[Adistributed.nanny - WARNING - Worker exceeded 95% memory budget. Restarting\n",
      "distributed.client - ERROR - Restart timed out after 9.00 seconds\n",
      "\n",
      "  6%|████▉                                                                               | 1/17 [00:40<10:45, 40.32s/it]\u001b[A\n",
      " 12%|█████████▉                                                                          | 2/17 [01:09<08:30, 34.03s/it]\u001b[A\n",
      " 18%|██████████████▊                                                                     | 3/17 [01:30<06:31, 27.97s/it]\u001b[A\n",
      " 24%|███████████████████▊                                                                | 4/17 [01:51<05:27, 25.17s/it]\u001b[A\n",
      " 29%|████████████████████████▋                                                           | 5/17 [02:12<04:43, 23.60s/it]\u001b[A\n",
      " 35%|█████████████████████████████▋                                                      | 6/17 [02:37<04:24, 24.02s/it]\u001b[A\n",
      " 41%|██████████████████████████████████▌                                                 | 7/17 [02:59<03:54, 23.43s/it]\u001b[A\n",
      " 47%|███████████████████████████████████████▌                                            | 8/17 [03:20<03:23, 22.59s/it]\u001b[A\n",
      " 53%|████████████████████████████████████████████▍                                       | 9/17 [03:42<02:59, 22.44s/it]\u001b[A\n",
      " 59%|████████████████████████████████████████████████▊                                  | 10/17 [04:03<02:35, 22.17s/it]\u001b[A\n",
      " 65%|█████████████████████████████████████████████████████▋                             | 11/17 [04:25<02:11, 21.89s/it]\u001b[A\n",
      " 71%|██████████████████████████████████████████████████████████▌                        | 12/17 [04:46<01:48, 21.79s/it]\u001b[A\n",
      " 76%|███████████████████████████████████████████████████████████████▍                   | 13/17 [05:08<01:27, 21.90s/it]\u001b[A\n",
      " 82%|████████████████████████████████████████████████████████████████████▎              | 14/17 [05:42<01:16, 25.45s/it]\u001b[A\n",
      " 88%|█████████████████████████████████████████████████████████████████████████▏         | 15/17 [06:18<00:57, 28.60s/it]\u001b[A\n",
      " 94%|██████████████████████████████████████████████████████████████████████████████     | 16/17 [06:40<00:26, 26.59s/it]\u001b[A\n",
      "100%|███████████████████████████████████████████████████████████████████████████████████| 17/17 [07:12<00:00, 25.42s/it]\u001b[A\n"
     ]
    },
    {
     "name": "stdout",
     "output_type": "stream",
     "text": [
      "running row: 21 of 25\n"
     ]
    },
    {
     "name": "stderr",
     "output_type": "stream",
     "text": [
      "\n",
      "  0%|                                                                                            | 0/17 [00:00<?, ?it/s]\u001b[A\n",
      "  6%|████▉                                                                               | 1/17 [00:22<05:59, 22.50s/it]\u001b[A\n",
      " 12%|█████████▉                                                                          | 2/17 [00:43<05:26, 21.78s/it]\u001b[A\n",
      " 18%|██████████████▊                                                                     | 3/17 [01:05<05:05, 21.84s/it]\u001b[Adistributed.nanny - WARNING - Worker exceeded 95% memory budget. Restarting\n",
      "distributed.client - ERROR - Restart timed out after 9.00 seconds\n",
      "\n",
      " 24%|███████████████████▊                                                                | 4/17 [01:47<06:26, 29.74s/it]\u001b[A\n",
      " 29%|████████████████████████▋                                                           | 5/17 [02:18<06:01, 30.14s/it]\u001b[A\n",
      " 35%|█████████████████████████████▋                                                      | 6/17 [02:45<05:21, 29.20s/it]\u001b[A\n",
      " 41%|██████████████████████████████████▌                                                 | 7/17 [03:08<04:31, 27.14s/it]\u001b[A\n",
      " 47%|███████████████████████████████████████▌                                            | 8/17 [03:31<03:51, 25.76s/it]\u001b[A\n",
      " 53%|████████████████████████████████████████████▍                                       | 9/17 [03:54<03:18, 24.87s/it]\u001b[A\n",
      " 59%|████████████████████████████████████████████████▊                                  | 10/17 [04:16<02:49, 24.16s/it]\u001b[A\n",
      " 65%|█████████████████████████████████████████████████████▋                             | 11/17 [04:40<02:23, 23.87s/it]\u001b[A\n",
      " 71%|██████████████████████████████████████████████████████████▌                        | 12/17 [05:02<01:57, 23.54s/it]\u001b[A\n",
      " 76%|███████████████████████████████████████████████████████████████▍                   | 13/17 [05:25<01:32, 23.21s/it]\u001b[A\n",
      " 82%|████████████████████████████████████████████████████████████████████▎              | 14/17 [05:59<01:19, 26.52s/it]\u001b[A\n",
      " 88%|█████████████████████████████████████████████████████████████████████████▏         | 15/17 [06:36<00:59, 29.52s/it]\u001b[A\n",
      " 94%|██████████████████████████████████████████████████████████████████████████████     | 16/17 [06:59<00:27, 27.57s/it]\u001b[A\n",
      "100%|███████████████████████████████████████████████████████████████████████████████████| 17/17 [07:28<00:00, 26.41s/it]\u001b[A\n"
     ]
    },
    {
     "name": "stdout",
     "output_type": "stream",
     "text": [
      "running row: 22 of 25\n"
     ]
    },
    {
     "name": "stderr",
     "output_type": "stream",
     "text": [
      "\n",
      "  0%|                                                                                            | 0/17 [00:00<?, ?it/s]\u001b[A\n",
      "  6%|████▉                                                                               | 1/17 [00:22<06:00, 22.50s/it]\u001b[A\n",
      " 12%|█████████▉                                                                          | 2/17 [00:44<05:35, 22.38s/it]\u001b[A\n",
      " 18%|██████████████▊                                                                     | 3/17 [01:07<05:18, 22.72s/it]\u001b[A\n",
      " 24%|███████████████████▊                                                                | 4/17 [01:31<05:00, 23.15s/it]\u001b[A\n",
      " 29%|████████████████████████▋                                                           | 5/17 [01:55<04:39, 23.26s/it]\u001b[A\n",
      " 35%|█████████████████████████████▋                                                      | 6/17 [02:21<04:29, 24.47s/it]\u001b[Adistributed.nanny - WARNING - Worker exceeded 95% memory budget. Restarting\n",
      "distributed.client - ERROR - Restart timed out after 9.00 seconds\n",
      "\n",
      " 41%|██████████████████████████████████▌                                                 | 7/17 [03:05<05:07, 30.74s/it]\u001b[A\n",
      " 47%|███████████████████████████████████████▌                                            | 8/17 [03:37<04:38, 30.97s/it]\u001b[A\n",
      " 53%|████████████████████████████████████████████▍                                       | 9/17 [04:00<03:48, 28.60s/it]\u001b[A\n",
      " 59%|████████████████████████████████████████████████▊                                  | 10/17 [04:23<03:07, 26.78s/it]\u001b[A\n",
      " 65%|█████████████████████████████████████████████████████▋                             | 11/17 [04:46<02:34, 25.72s/it]\u001b[A\n",
      " 71%|██████████████████████████████████████████████████████████▌                        | 12/17 [05:09<02:04, 24.93s/it]\u001b[A\n",
      " 76%|███████████████████████████████████████████████████████████████▍                   | 13/17 [05:32<01:37, 24.32s/it]\u001b[A\n",
      " 82%|████████████████████████████████████████████████████████████████████▎              | 14/17 [06:07<01:22, 27.57s/it]\u001b[A\n",
      " 88%|█████████████████████████████████████████████████████████████████████████▏         | 15/17 [06:45<01:01, 30.67s/it]\u001b[A\n",
      " 94%|██████████████████████████████████████████████████████████████████████████████     | 16/17 [07:08<00:28, 28.39s/it]\u001b[A\n",
      "100%|███████████████████████████████████████████████████████████████████████████████████| 17/17 [07:38<00:00, 26.95s/it]\u001b[A\n"
     ]
    },
    {
     "name": "stdout",
     "output_type": "stream",
     "text": [
      "running row: 23 of 25\n"
     ]
    },
    {
     "name": "stderr",
     "output_type": "stream",
     "text": [
      "\n",
      "  0%|                                                                                            | 0/17 [00:00<?, ?it/s]\u001b[A\n",
      "  6%|████▉                                                                               | 1/17 [00:23<06:20, 23.78s/it]\u001b[A\n",
      " 12%|█████████▉                                                                          | 2/17 [00:46<05:51, 23.43s/it]\u001b[A\n",
      " 18%|██████████████▊                                                                     | 3/17 [01:11<05:32, 23.77s/it]\u001b[A\n",
      " 24%|███████████████████▊                                                                | 4/17 [01:35<05:09, 23.82s/it]\u001b[A\n",
      " 29%|████████████████████████▋                                                           | 5/17 [01:57<04:41, 23.48s/it]\u001b[A\n",
      " 35%|█████████████████████████████▋                                                      | 6/17 [02:25<04:33, 24.87s/it]\u001b[A\n",
      " 41%|██████████████████████████████████▌                                                 | 7/17 [02:49<04:06, 24.70s/it]\u001b[A\n",
      " 47%|███████████████████████████████████████▌                                            | 8/17 [03:15<03:43, 24.88s/it]\u001b[A\n",
      " 53%|████████████████████████████████████████████▍                                       | 9/17 [03:39<03:18, 24.75s/it]\u001b[A\n",
      " 59%|████████████████████████████████████████████████▊                                  | 10/17 [04:15<03:17, 28.26s/it]\u001b[A\n",
      " 65%|█████████████████████████████████████████████████████▋                             | 11/17 [04:43<02:49, 28.20s/it]\u001b[A\n",
      " 71%|██████████████████████████████████████████████████████████▌                        | 12/17 [05:07<02:14, 26.82s/it]\u001b[A\n",
      " 76%|███████████████████████████████████████████████████████████████▍                   | 13/17 [05:31<01:43, 25.87s/it]\u001b[A\n",
      " 82%|████████████████████████████████████████████████████████████████████▎              | 14/17 [06:05<01:25, 28.54s/it]\u001b[A\n",
      " 88%|█████████████████████████████████████████████████████████████████████████▏         | 15/17 [06:42<01:01, 30.85s/it]\u001b[A\n",
      " 94%|██████████████████████████████████████████████████████████████████████████████     | 16/17 [07:06<00:28, 28.85s/it]\u001b[A\n",
      "100%|███████████████████████████████████████████████████████████████████████████████████| 17/17 [07:39<00:00, 27.02s/it]\u001b[A\n"
     ]
    },
    {
     "name": "stdout",
     "output_type": "stream",
     "text": [
      "running row: 24 of 25\n"
     ]
    },
    {
     "name": "stderr",
     "output_type": "stream",
     "text": [
      "\n",
      "  0%|                                                                                            | 0/17 [00:00<?, ?it/s]\u001b[A\n",
      "  6%|████▉                                                                               | 1/17 [00:24<06:27, 24.21s/it]\u001b[A\n",
      " 12%|█████████▉                                                                          | 2/17 [00:48<06:03, 24.25s/it]\u001b[A\n",
      " 18%|██████████████▊                                                                     | 3/17 [01:16<06:03, 25.93s/it]\u001b[A\n",
      " 24%|███████████████████▊                                                                | 4/17 [01:44<05:48, 26.77s/it]\u001b[A\n",
      " 29%|████████████████████████▋                                                           | 5/17 [02:09<05:11, 26.00s/it]\u001b[A\n",
      " 35%|█████████████████████████████▋                                                      | 6/17 [02:37<04:53, 26.70s/it]\u001b[A\n",
      " 41%|██████████████████████████████████▌                                                 | 7/17 [03:04<04:30, 27.01s/it]\u001b[A\n",
      " 47%|███████████████████████████████████████▌                                            | 8/17 [03:28<03:54, 26.04s/it]\u001b[A\n",
      " 53%|████████████████████████████████████████████▍                                       | 9/17 [03:52<03:23, 25.41s/it]\u001b[A\n",
      " 59%|████████████████████████████████████████████████▊                                  | 10/17 [04:18<02:59, 25.58s/it]\u001b[A\n",
      " 65%|█████████████████████████████████████████████████████▋                             | 11/17 [04:43<02:32, 25.42s/it]\u001b[A\n",
      " 71%|██████████████████████████████████████████████████████████▌                        | 12/17 [05:08<02:05, 25.14s/it]\u001b[Adistributed.nanny - WARNING - Worker exceeded 95% memory budget. Restarting\n",
      "distributed.nanny - WARNING - Worker exceeded 95% memory budget. Restarting\n",
      "distributed.client - ERROR - Restart timed out after 9.00 seconds\n",
      "\n",
      " 76%|███████████████████████████████████████████████████████████████▍                   | 13/17 [05:51<02:02, 30.59s/it]\u001b[A\n",
      " 82%|████████████████████████████████████████████████████████████████████▎              | 14/17 [06:34<01:43, 34.35s/it]\u001b[A\n",
      " 88%|█████████████████████████████████████████████████████████████████████████▏         | 15/17 [07:15<01:12, 36.30s/it]\u001b[A\n",
      " 94%|██████████████████████████████████████████████████████████████████████████████     | 16/17 [07:41<00:33, 33.22s/it]\u001b[A\n",
      "100%|███████████████████████████████████████████████████████████████████████████████████| 17/17 [08:17<00:00, 29.27s/it]\u001b[A\n"
     ]
    },
    {
     "name": "stdout",
     "output_type": "stream",
     "text": [
      "Pasture-group finished!\n"
     ]
    },
    {
     "name": "stderr",
     "output_type": "stream",
     "text": [
      "distributed.nanny - WARNING - Worker exceeded 95% memory budget. Restarting\n",
      "distributed.client - ERROR - Restart timed out after 9.00 seconds\n",
      "100%|█████████████████████████████████████████████████████████████████████████████████| 5/5 [3:41:12<00:00, 2654.42s/it]\n"
     ]
    }
   ],
   "source": [
    "cper_gdf = gpd.read_file(cper_f)\n",
    "\n",
    "for pasture in tqdm(img_f_dict):\n",
    "    print('\\n\\n----------\\nPasture: ' + pasture)\n",
    "\n",
    "    # get the bounding box of the pasture\n",
    "    past_bbox = cper_gdf[cper_gdf['Past_Name_'] == pasture].buffer(\n",
    "        full_buff_size).bounds.apply(lambda x: int(x))\n",
    "\n",
    "    total_bounds = {'xmin': past_bbox['minx'],\n",
    "                    'xmax': past_bbox['maxx'],\n",
    "                    'ymin': past_bbox['miny'],\n",
    "                    'ymax': past_bbox['maxy']}\n",
    "\n",
    "    n_row_tiles = int(np.ceil((total_bounds['ymax'] - total_bounds['ymin'])/full_tile_size))\n",
    "    n_col_tiles = int(np.ceil((total_bounds['xmax'] - total_bounds['xmin'])/full_tile_size))\n",
    "\n",
    "    outSHP = os.path.join(outDIR, 'burrow_pts_pred_' + '_'.join([pasture] + inputs_fnl + [str(res_fnl)]) + 'cm.shp')\n",
    "    if os.path.exists(outSHP):\n",
    "        gdf_out = gpd.read_file(outSHP)\n",
    "        r_ct_pred = len(gdf_out)\n",
    "        rc_completed = gdf_out.apply(lambda x: '_'.join([str(x.tile_row), str(x.tile_col)]), axis=1).unique()\n",
    "    elif os.path.exists(re.sub('.shp', '.csv', outSHP)):\n",
    "        gdf_out = pd.read_csv(re.sub('.shp', '.csv', outSHP))\n",
    "        r_ct_pred = len(gdf_out)\n",
    "        rc_completed = gdf_out.apply(lambda x: '_'.join([str(x.tile_row), str(x.tile_col)]), axis=1).unique()\n",
    "    else:\n",
    "        r_ct_pred = 0\n",
    "        gdf_out = gpd.GeoDataFrame()\n",
    "        rc_completed = []\n",
    "    tile_ct = 0\n",
    "    for full_r in range(n_row_tiles):\n",
    "        print('running row: ' + str(full_r) + ' of ' + str(n_row_tiles))\n",
    "        for full_c in tqdm(range(n_col_tiles)):\n",
    "            if len(client.cluster.workers) < 8:\n",
    "                client.shutdown()\n",
    "                client.close()\n",
    "                cluster = LocalCluster(n_workers=8, threads_per_worker=2, processes=True)\n",
    "                client = Client(cluster)\n",
    "                client.amm.start()\n",
    "            if '_'.join([str(full_r), str(full_c)]) in rc_completed:\n",
    "                #print('skipping row/column combination, already in shapefile!')\n",
    "                continue\n",
    "            else:\n",
    "                try:\n",
    "                    t0=time.time()\n",
    "\n",
    "                    ll_tile = [full_c * full_tile_size + total_bounds['xmin'],\n",
    "                               full_r * full_tile_size + total_bounds['ymin']]\n",
    "                    ul_tile = [ll_tile[0], ll_tile[1] + full_tile_size]\n",
    "                    ur_tile = [x + full_tile_size for x in ll_tile]\n",
    "                    lr_tile = [ll_tile[0] + full_tile_size, ll_tile[1]]\n",
    "                    tile_poly = Polygon([ll_tile, ul_tile, ur_tile, lr_tile])\n",
    "\n",
    "                    ll = [full_c * full_tile_size + total_bounds['xmin'] - buff_size_m,\n",
    "                          full_r * full_tile_size + total_bounds['ymin'] - buff_size_m]\n",
    "                    ul = [ll[0], ll[1] + full_tile_size + (buff_size_m * 2.0)]\n",
    "                    ur = [x + full_tile_size + (buff_size_m * 2.0) for x in ll]\n",
    "                    lr = [ll[0] + full_tile_size + (buff_size_m * 2.0), ll[1]]\n",
    "\n",
    "                    image_dict = {}\n",
    "                    newsize_r = int(round((ul[1] - ll[1]) / (res_fnl * 0.01), 0))\n",
    "                    newsize_c = int(round((lr[0] - ll[0]) / (res_fnl * 0.01), 0))\n",
    "                    if 'rgb' in inputs_fnl:\n",
    "                        #print('getting RGB')\n",
    "                        t1=time.time()\n",
    "\n",
    "                        rgb_xr_list = []\n",
    "                        for rgb_f in img_f_dict[pasture]['rgb']:\n",
    "                            with riox.open_rasterio(rgb_f, masked=True) as rgb_src:\n",
    "                                rgb_xr_list.append(rgb_src.sel(band=slice(0, 3),\n",
    "                                                               x=slice(ll[0], lr[0]),\n",
    "                                                               y=slice(ul[1], ll[1]), \n",
    "                                                               drop=True))\n",
    "                        rgb_xr_list = [x.astype('float32') for x in rgb_xr_list if not any([s == 0 for s in x.shape])]\n",
    "                        rgb_xr_list = [x.rio.write_nodata(3.4028234663852886e+38) for x in rgb_xr_list]\n",
    "\n",
    "                        rgb_xr = merge_arrays(rgb_xr_list,\n",
    "                                              bounds=(ll[0], ll[1], lr[0], ur[1]), \n",
    "                                              res=res_fnl*0.01, \n",
    "                                              crs=rio.CRS.from_epsg(32613),\n",
    "                                              method='max',\n",
    "                                              nodata=3.4028234663852886e+38)\n",
    "                        if rgb_xr.isnull().any().values:\n",
    "                            rgb_xr = rgb_xr.rio.interpolate_na(method='nearest')\n",
    "\n",
    "                        image_dict['rgb'] = rgb_xr.values\n",
    "                        #rgb_xr.close()\n",
    "                        t2=time.time()\n",
    "                        #print('... completed in', round(t2 - t1, 1), 'secs')\n",
    "                        del rgb_xr, rgb_xr_list\n",
    "                    if 'dsm' in inputs_fnl or 'tpi' in inputs_fnl:\n",
    "                        t1 = time.time()\n",
    "                        #print('getting DSM')\n",
    "                        dsm_xr_list = []\n",
    "                        for dsm_f in img_f_dict[pasture]['dsm']:\n",
    "                            with riox.open_rasterio(dsm_f, masked=True) as dsm_src:\n",
    "                                dsm_xr_list.append(dsm_src.sel(x=slice(ll[0], lr[0]),\n",
    "                                                               y=slice(ul[1], ll[1]), \n",
    "                                                               drop=True))\n",
    "\n",
    "                        dsm_xr_list = [x.where(x > 0, drop=True) for x in dsm_xr_list]\n",
    "                        dsm_xr_list = [x.squeeze() for x in dsm_xr_list if not any([s == 0 for s in x.shape])]\n",
    "                        dsm_xr_list = [x.rio.write_nodata(3.4028234663852886e+38) for x in dsm_xr_list]\n",
    "\n",
    "                        dsm_xr = merge_arrays(dsm_xr_list,\n",
    "                                              bounds=(ll[0], ll[1], lr[0], ur[1]), \n",
    "                                              res=res_fnl*0.01, \n",
    "                                              crs=rio.CRS.from_epsg(32613),\n",
    "                                              method='max',\n",
    "                                              nodata=3.4028234663852886e+38)\n",
    "                        dsm_xr = dsm_xr.where(dsm_xr > 0)\n",
    "                        \n",
    "                        if dsm_xr.isnull().any().values:\n",
    "                            dsm_xr = dsm_xr.rio.interpolate_na(method='nearest')\n",
    "                        \n",
    "                        if 'dsm' in inputs_fnl:\n",
    "                            image_dict['dsm'] = dsm_xr.values\n",
    "                        #dsm_xr.close()\n",
    "                        t2=time.time()\n",
    "                        #print('... completed in', round(t2 - t1, 1), 'secs')\n",
    "                    if 'tpi' in inputs_fnl: \n",
    "                        t1 = time.time()\n",
    "                        #print('computing TPI')\n",
    "                        # prepare an annulus kernel with a ring at a distance from 5-10 cells away from focal point\n",
    "                        outer_radius = \"0.75m\"\n",
    "                        inner_radius = \"0.25m\"\n",
    "                        image_dict['tpi'] = calc_tpi(dsm_xr.chunk({'x': chunk_size,\n",
    "                                                                   'y': chunk_size}), \n",
    "                                                     inner_r=inner_radius, \n",
    "                                                     outer_r=outer_radius, \n",
    "                                                     interpolate=True,\n",
    "                                                     values=True)\n",
    "                        #dsm_xr.close()\n",
    "                        t2=time.time()\n",
    "                        #print('... completed in', round(t2 - t1, 1), 'secs')\n",
    "                        del dsm_xr, dsm_xr_list\n",
    "                    if 'ndvi' in inputs_fnl:\n",
    "                        t1 = time.time()\n",
    "                        #print('computing NDVI')\n",
    "                        ms_xr_list = []\n",
    "                        for ms_f in img_f_dict[pasture]['ms']:\n",
    "                            with riox.open_rasterio(ms_f, masked=True) as ms_src:\n",
    "                                ms_xr_list.append(ms_src.sel(band=[4, 3],\n",
    "                                                               x=slice(ll[0], lr[0]),\n",
    "                                                               y=slice(ul[1], ll[1]), \n",
    "                                                               drop=True))\n",
    "\n",
    "                        #ms_xr_list = [x.where(x != 65535, drop=True) for x in ms_xr_list]\n",
    "                        ms_xr_list = [x for x in ms_xr_list if not any([s == 0 for s in x.shape])]\n",
    "                        ms_xr_list = [x.rio.write_nodata(3.4028234663852886e+38) for x in ms_xr_list]\n",
    "\n",
    "                        ms_xr = merge_arrays(ms_xr_list,\n",
    "                                              bounds=(ll[0], ll[1], lr[0], ur[1]), \n",
    "                                              res=res_fnl*0.01, \n",
    "                                              crs=rio.CRS.from_epsg(32613),\n",
    "                                              method='max',\n",
    "                                              nodata=3.4028234663852886e+38)\n",
    "\n",
    "                        image_dict['ndvi'] = calc_ndvi(ms_xr, values=True)\n",
    "                        #ms_xr.close()\n",
    "                        t2=time.time()\n",
    "                        #print('... completed in', round(t2 - t1, 1), 'secs')\n",
    "                        del ms_xr, ms_xr_list\n",
    "\n",
    "                    if 'rgb' in image_dict:\n",
    "                        tshape = image_dict['rgb'].shape[1:]\n",
    "                    else:\n",
    "                        tshape = image_dict[inputs_fnl[0]].shape\n",
    "\n",
    "                    n_row_chunks = int(np.ceil(tshape[0]/tile_size))\n",
    "                    n_col_chunks = int(np.ceil(tshape[1]/tile_size))\n",
    "\n",
    "                    pr_mask = np.empty(tshape)\n",
    "                    t1 = time.time()\n",
    "                    #print('predicting binary burrow image')\n",
    "                    for r in range(n_row_chunks):\n",
    "                        if (r + 1) * tile_size > tshape[0]:\n",
    "                            r_min = tshape[0] - tile_size\n",
    "                            r_max = tshape[0]\n",
    "                            r_max_comp = tshape[0]\n",
    "                        elif (r + 1) * tile_size + buff_size > tshape[0]:\n",
    "                            r_min = r * tile_size\n",
    "                            r_max = (r + 1) * tile_size\n",
    "                            r_max_comp = r_max\n",
    "                        else:\n",
    "                            r_min = r * tile_size\n",
    "                            r_max = (r + 1) * tile_size\n",
    "                            r_max_comp = r_max + buff_size\n",
    "                        for c in range(n_col_chunks):\n",
    "                            image_sub_dict = {}\n",
    "                            if (c + 1) * tile_size > tshape[1]:\n",
    "                                c_min = tshape[1] - tile_size\n",
    "                                c_max = tshape[1]\n",
    "                                c_max_comp = tshape[1]\n",
    "                            elif (c + 1) * tile_size + buff_size > tshape[1]:\n",
    "                                c_min = c * tile_size\n",
    "                                c_max = (c + 1) * tile_size\n",
    "                                c_max_comp = c_max\n",
    "                            else:\n",
    "                                c_min = c * tile_size\n",
    "                                c_max = (c + 1) * tile_size\n",
    "                                c_max_comp = c_max + buff_size\n",
    "                            for k in image_dict:\n",
    "                                if k == 'rgb':\n",
    "                                    image_sub_dict[k] = image_dict[k][:,\n",
    "                                                                      slice(max(0, r_min-buff_size), r_max_comp),\n",
    "                                                                      slice(max(0, c_min-buff_size), c_max_comp)].astype('float32')\n",
    "                                else:\n",
    "                                    image_sub_dict[k] = image_dict[k][slice(max(0, r_min-buff_size), r_max_comp),\n",
    "                                                                      slice(max(0, c_min-buff_size), c_max_comp)].astype('float32')\n",
    "                                if len(image_sub_dict[k].shape) == 2:\n",
    "                                    image_sub_dict[k] = np.expand_dims(image_sub_dict[k], 0)\n",
    "                                if np.all(np.isnan(image_sub_dict[k])):\n",
    "                                    continue\n",
    "                                elif np.any(np.isnan(image_sub_dict[k])):\n",
    "                                    for i in range(image_sub_dict[k].shape[0]):\n",
    "                                        if np.any(np.isnan(image_sub_dict[k][i, :, :])):\n",
    "                                            data = image_sub_dict[k][i, :, :].copy()\n",
    "                                            mask = np.where(~np.isnan(data))\n",
    "                                            interp = NearestNDInterpolator(np.transpose(mask), data[mask])\n",
    "                                            image_sub_dict[k][i, :, :] = interp(*np.indices(data.shape))\n",
    "                                            del data, mask, interp\n",
    "    \n",
    "                            if np.any([np.all(np.isnan(image_sub_dict[k])) for k in image_sub_dict]):\n",
    "                                pr_mask[r_min:r_max, c_min:c_max] = np.nan\n",
    "                                gdf_tmp = gpd.GeoDataFrame(data=pd.DataFrame({'area': ''}, index=[r_ct_pred]))\n",
    "                                gdf_tmp['tile_row'] = full_r\n",
    "                                gdf_tmp['tile_col'] =  full_c\n",
    "                                gdf_tmp['tile_size'] = full_tile_size\n",
    "                                gdf_out = pd.concat([gdf_out, gdf_tmp])\n",
    "                                del gdf_tmp\n",
    "                                r_ct_pred += 1\n",
    "                                continue\n",
    "                            else:\n",
    "                                if preprocess:\n",
    "                                    for i in image_sub_dict:\n",
    "                                        image_sub_dict[i] = normalize_fn(image_sub_dict[i], i, image_stats)\n",
    "                                image_list = [image_sub_dict[i] for i in inputs_fnl]\n",
    "                                image_out = np.concatenate(image_list, axis=0)\n",
    "                                x_tensor = torch.from_numpy(image_out).to(DEVICE).unsqueeze(0)\n",
    "                                if type(best_model) == nn.DataParallel:\n",
    "                                    pred_tmp = best_model.module.predict(x_tensor).cpu().detach().numpy().squeeze() >= prob_thresh\n",
    "                                    buff_r_min = buff_size * int(r_min-buff_size > 0)\n",
    "                                    buff_r_max = buff_size * int(r_max+buff_size < tshape[0])\n",
    "                                    buff_c_min = buff_size * int(c_min-buff_size > 0)\n",
    "                                    buff_c_max = buff_size * int(c_max+buff_size < tshape[1])\n",
    "                                    if pred_tmp.shape[1] > tile_size:\n",
    "                                        pr_mask[r_min:r_max, c_min:c_max] = pred_tmp[buff_r_min:pred_tmp.shape[0]-buff_r_max,\n",
    "                                                                                     buff_c_min:pred_tmp.shape[1]-buff_c_max]\n",
    "                                    else:\n",
    "                                        pr_mask[r_min:r_max, c_min:c_max] = pred_tmp\n",
    "                                else:\n",
    "                                    pred_tmp = best_model.predict(x_tensor).cpu().detach().numpy().squeeze() >= prob_thresh\n",
    "                                    buff_r_min = buff_size * int(r_min-buff_size > 0)\n",
    "                                    buff_r_max = buff_size * int(r_max+buff_size < tshape[0])\n",
    "                                    buff_c_min = buff_size * int(c_min-buff_size > 0)\n",
    "                                    buff_c_max = buff_size * int(c_max+buff_size < tshape[1])\n",
    "                                    if pred_tmp.shape[1] > tile_size:\n",
    "                                        pr_mask[r_min:r_max, c_min:c_max] = pred_tmp[buff_r_min:pred_tmp.shape[0]-buff_r_max,\n",
    "                                                                                     buff_c_min:pred_tmp.shape[1]-buff_c_max]\n",
    "                                    else:\n",
    "                                        pr_mask[r_min:r_max, c_min:c_max] = pred_tmp\n",
    "                    t2=time.time()\n",
    "                    #print('... completed in', round(t2 - t1, 1), 'secs')\n",
    "                    t1 = time.time()\n",
    "                    #print('getting burrow locations')\n",
    "                    if np.all(pr_mask == 0):\n",
    "                        gdf_tmp = gpd.GeoDataFrame(data=pd.DataFrame({'area': ''}, index=[r_ct_pred]))\n",
    "                        gdf_tmp['tile_row'] = full_r\n",
    "                        gdf_tmp['tile_col'] =  full_c\n",
    "                        gdf_tmp['tile_size'] = full_tile_size\n",
    "                        gdf_out = pd.concat([gdf_out, gdf_tmp])\n",
    "                        del gdf_tmp\n",
    "                        r_ct_pred += 1\n",
    "                    else:\n",
    "                        pr_labels = label(pr_mask)\n",
    "                        pr_regions = regionprops(pr_labels)\n",
    "                        pr_regions = [r for r in pr_regions if (r.area*(res_fnl/100)**2 > 0.05) & (r.area*(res_fnl/100)**2 < 5.0)]\n",
    "                        if len(pr_regions) == 0:\n",
    "                            #print('no burrow locations found!')\n",
    "                            gdf_tmp = gpd.GeoDataFrame(data=pd.DataFrame({'area': ''}, index=[r_ct_pred]))\n",
    "                            gdf_tmp['tile_row'] = full_r\n",
    "                            gdf_tmp['tile_col'] =  full_c\n",
    "                            gdf_tmp['tile_size'] = full_tile_size\n",
    "                            gdf_out = pd.concat([gdf_out, gdf_tmp])\n",
    "                            del gdf_tmp\n",
    "                            r_ct_pred += 1\n",
    "                        else:\n",
    "                            r_ct_tile = 0\n",
    "                            for r in pr_regions:\n",
    "                                gdf_tmp = gpd.GeoDataFrame(data=pd.DataFrame({'area': r.area}, \n",
    "                                                                             index=[r_ct_pred]), \n",
    "                                                           geometry=[Point([ll[0] + r.centroid[1]*(res_fnl*0.01),\n",
    "                                                                            ul[1] - r.centroid[0]*(res_fnl*0.01)])], \n",
    "                                                           crs='EPSG:32613')\n",
    "                                if gdf_tmp.geometry.within(tile_poly).values[0]:\n",
    "                                    gdf_tmp['tile_row'] = full_r\n",
    "                                    gdf_tmp['tile_col'] =  full_c\n",
    "                                    gdf_tmp['tile_size'] = full_tile_size\n",
    "                                    gdf_out = pd.concat([gdf_out, gdf_tmp])\n",
    "                                    r_ct_tile += 1\n",
    "                                if type(gdf_out) is pd.core.frame.DataFrame:\n",
    "                                    gdf_out = gpd.GeoDataFrame(gdf_out, geometry = gdf_out['geometry'])\n",
    "                                del gdf_tmp\n",
    "                                r_ct_pred += 1\n",
    "                            if r_ct_tile == 0:\n",
    "                                gdf_tmp = gpd.GeoDataFrame(data=pd.DataFrame({'area': ''}, index=[r_ct_pred]))\n",
    "                                gdf_tmp['tile_row'] = full_r\n",
    "                                gdf_tmp['tile_col'] =  full_c\n",
    "                                gdf_tmp['tile_size'] = full_tile_size\n",
    "                                gdf_out = pd.concat([gdf_out, gdf_tmp])\n",
    "                                del gdf_tmp\n",
    "                                r_ct_pred += 1\n",
    "                        t2=time.time()\n",
    "                        #print('... completed in', round(t2 - t1, 1), 'secs')\n",
    "                    if type(gdf_out) is pd.core.frame.DataFrame:\n",
    "                        gdf_out.to_csv(re.sub('.shp', '.csv', outSHP), index=False)\n",
    "                    else:\n",
    "                        gdf_out.to_file(outSHP)\n",
    "                    try:\n",
    "                        del pr_mask, pred_tmp, pr_labels, pr_regions, image_dict, image_sub_dict, image_list, image_out\n",
    "                    except NameError:\n",
    "                        pass\n",
    "                    client.run(gc.collect)\n",
    "                    client.run(trim_memory)\n",
    "                    if (tile_ct > 0) & (tile_ct % 20 == 0):\n",
    "                        try:\n",
    "                            client.restart(timeout=9)\n",
    "                            time.sleep(10)\n",
    "                        except TimeoutError:\n",
    "                            client.shutdown()\n",
    "                            client.close()\n",
    "                            cluster = LocalCluster(n_workers=8, threads_per_worker=2, processes=True)\n",
    "                            client = Client(cluster)\n",
    "                            client.amm.start()\n",
    "\n",
    "                    #client.restart()\n",
    "                except NoDataInBounds:\n",
    "                    gdf_tmp = gpd.GeoDataFrame(data=pd.DataFrame({'area': ''}, index=[r_ct_pred]))\n",
    "                    gdf_tmp['tile_row'] = full_r\n",
    "                    gdf_tmp['tile_col'] =  full_c\n",
    "                    gdf_tmp['tile_size'] = full_tile_size\n",
    "                    gdf_out = pd.concat([gdf_out, gdf_tmp])\n",
    "                    del gdf_tmp\n",
    "                    r_ct_pred += 1\n",
    "                    if type(gdf_out) is pd.core.frame.DataFrame:\n",
    "                        gdf_out.to_csv(re.sub('.shp', '.csv', outSHP), index=False)\n",
    "                    else:\n",
    "                        gdf_out.to_file(outSHP)\n",
    "                    continue\n",
    "                    #print('No data in bounds. Skipping row/column.')\n",
    "            tile_ct += 1\n",
    "        #if not '_'.join([str(full_r), str(full_c)]) in rc_completed:\n",
    "    print('Pasture-group finished!')\n",
    "    try:\n",
    "        client.restart(timeout=9)\n",
    "        time.sleep(10)\n",
    "    except TimeoutError:\n",
    "        client.shutdown()\n",
    "        client.close()\n",
    "        cluster = LocalCluster(n_workers=8, threads_per_worker=2, processes=True)\n",
    "        client = Client(cluster)\n",
    "        client.amm.start()\n"
   ]
  },
  {
   "cell_type": "code",
   "execution_count": null,
   "id": "d60b4a4a-31e2-41ad-ad7f-49b49d76047e",
   "metadata": {},
   "outputs": [],
   "source": []
  }
 ],
 "metadata": {
  "kernelspec": {
   "display_name": "Python 3 (ipykernel)",
   "language": "python",
   "name": "python3"
  },
  "language_info": {
   "codemirror_mode": {
    "name": "ipython",
    "version": 3
   },
   "file_extension": ".py",
   "mimetype": "text/x-python",
   "name": "python",
   "nbconvert_exporter": "python",
   "pygments_lexer": "ipython3",
   "version": "3.9.13"
  }
 },
 "nbformat": 4,
 "nbformat_minor": 5
}
