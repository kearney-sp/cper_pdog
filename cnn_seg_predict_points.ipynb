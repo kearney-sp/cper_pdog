{
 "cells": [
  {
   "cell_type": "code",
   "execution_count": 1,
   "id": "9e2bd11b-adb7-44d3-a1a9-137a83606ab5",
   "metadata": {},
   "outputs": [],
   "source": [
    "from shapely.geometry import Polygon, Point\n",
    "import itertools\n",
    "import geopandas as gpd\n",
    "import pandas as pd\n",
    "import rasterio as rio\n",
    "from rasterio.features import rasterize\n",
    "from rasterio import mask\n",
    "from rasterio.plot import show\n",
    "from rasterio.enums import Resampling\n",
    "import matplotlib.pyplot as plt\n",
    "from skimage.measure import label, regionprops\n",
    "import torch.nn as nn\n",
    "import numpy as np\n",
    "import shapely.wkt as wkt\n",
    "import torch\n",
    "import segmentation_models_pytorch as smp\n",
    "from segmentation_models_pytorch import utils\n",
    "from tqdm import tqdm\n",
    "from skimage.measure import label, regionprops\n",
    "import os\n",
    "import dask\n",
    "import time\n",
    "import gc\n",
    "import re\n",
    "from rioxarray.exceptions import NoDataInBounds\n",
    "from rioxarray.merge import merge_arrays\n",
    "from scipy.interpolate import NearestNDInterpolator"
   ]
  },
  {
   "cell_type": "code",
   "execution_count": 2,
   "id": "aa0f21d8-4da6-493f-8aef-c6deed579977",
   "metadata": {},
   "outputs": [
    {
     "data": {
      "text/plain": [
       "<dask.config.set at 0x7ff38860b400>"
      ]
     },
     "execution_count": 2,
     "metadata": {},
     "output_type": "execute_result"
    }
   ],
   "source": [
    "import distributed\n",
    "dask.config.set({\"distributed.nanny.environ.MALLOC_TRIM_THRESHOLD_\": 0})\n",
    "dask.config.set(scheduler='processes')"
   ]
  },
  {
   "cell_type": "code",
   "execution_count": 3,
   "id": "2e85d291-0187-49a8-8933-6b50f0dad9a5",
   "metadata": {},
   "outputs": [
    {
     "name": "stdout",
     "output_type": "stream",
     "text": [
      "0\n"
     ]
    }
   ],
   "source": [
    "import ctypes\n",
    "\n",
    "def trim_memory() -> int:\n",
    "    libc = ctypes.CDLL(\"libc.so.6\")\n",
    "    return libc.malloc_trim(0)\n",
    "\n",
    "os.environ[\"MALLOC_TRIM_THRESHOLD_\"] = str(dask.config.get(\"distributed.nanny.environ.MALLOC_TRIM_THRESHOLD_\"))\n",
    "\n",
    "print(os.environ[\"MALLOC_TRIM_THRESHOLD_\"])\n",
    "\n",
    "#os.environ[\"MALLOC_TRIM_THRESHOLD_\"] = '0'"
   ]
  },
  {
   "cell_type": "code",
   "execution_count": 4,
   "id": "ea00fa48-5d5e-4a18-a5f5-a5f4c338d448",
   "metadata": {},
   "outputs": [],
   "source": [
    "import xarray as xr\n",
    "import rioxarray as riox\n",
    "from xrspatial import convolution, focal, hillshade\n",
    "from skimage.transform import resize\n",
    "from dask.distributed import LocalCluster, Client"
   ]
  },
  {
   "cell_type": "code",
   "execution_count": 5,
   "id": "464c6224-dea0-47b1-80eb-45b6b6a4df16",
   "metadata": {},
   "outputs": [],
   "source": [
    "ENCODER = 'resnet34'\n",
    "ENCODER_WEIGHTS = 'imagenet'\n",
    "CLASSES = ['burrow']\n",
    "ACTIVATION = 'sigmoid' # could be None for logits or 'softmax2d' for multiclass segmentation\n",
    "DEVICE = 'cuda' #'cuda'# 'cpu'# \n",
    "model_fnl = 'deeplabplus'\n",
    "res_fnl = 15\n",
    "inputs_fnl = ['tpi'] \n",
    "preprocess = True\n",
    "prob_thresh = 0.5"
   ]
  },
  {
   "cell_type": "code",
   "execution_count": 6,
   "id": "f0d6c4e7-b288-4279-826d-39975e5db58c",
   "metadata": {},
   "outputs": [
    {
     "data": {
      "text/html": [
       "<div>\n",
       "    <div style=\"width: 24px; height: 24px; background-color: #e1e1e1; border: 3px solid #9D9D9D; border-radius: 5px; position: absolute;\"> </div>\n",
       "    <div style=\"margin-left: 48px;\">\n",
       "        <h3 style=\"margin-bottom: 0px;\">Client</h3>\n",
       "        <p style=\"color: #9D9D9D; margin-bottom: 0px;\">Client-4c1cf8a6-6ac7-11ed-a851-00155d7fe4e8</p>\n",
       "        <table style=\"width: 100%; text-align: left;\">\n",
       "\n",
       "        <tr>\n",
       "        \n",
       "            <td style=\"text-align: left;\"><strong>Connection method:</strong> Cluster object</td>\n",
       "            <td style=\"text-align: left;\"><strong>Cluster type:</strong> distributed.LocalCluster</td>\n",
       "        \n",
       "        </tr>\n",
       "\n",
       "        \n",
       "            <tr>\n",
       "                <td style=\"text-align: left;\">\n",
       "                    <strong>Dashboard: </strong> <a href=\"http://127.0.0.1:8787/status\" target=\"_blank\">http://127.0.0.1:8787/status</a>\n",
       "                </td>\n",
       "                <td style=\"text-align: left;\"></td>\n",
       "            </tr>\n",
       "        \n",
       "\n",
       "        </table>\n",
       "\n",
       "        \n",
       "            <details>\n",
       "            <summary style=\"margin-bottom: 20px;\"><h3 style=\"display: inline;\">Cluster Info</h3></summary>\n",
       "            <div class=\"jp-RenderedHTMLCommon jp-RenderedHTML jp-mod-trusted jp-OutputArea-output\">\n",
       "    <div style=\"width: 24px; height: 24px; background-color: #e1e1e1; border: 3px solid #9D9D9D; border-radius: 5px; position: absolute;\">\n",
       "    </div>\n",
       "    <div style=\"margin-left: 48px;\">\n",
       "        <h3 style=\"margin-bottom: 0px; margin-top: 0px;\">LocalCluster</h3>\n",
       "        <p style=\"color: #9D9D9D; margin-bottom: 0px;\">707bbcd8</p>\n",
       "        <table style=\"width: 100%; text-align: left;\">\n",
       "            <tr>\n",
       "                <td style=\"text-align: left;\">\n",
       "                    <strong>Dashboard:</strong> <a href=\"http://127.0.0.1:8787/status\" target=\"_blank\">http://127.0.0.1:8787/status</a>\n",
       "                </td>\n",
       "                <td style=\"text-align: left;\">\n",
       "                    <strong>Workers:</strong> 8\n",
       "                </td>\n",
       "            </tr>\n",
       "            <tr>\n",
       "                <td style=\"text-align: left;\">\n",
       "                    <strong>Total threads:</strong> 16\n",
       "                </td>\n",
       "                <td style=\"text-align: left;\">\n",
       "                    <strong>Total memory:</strong> 15.49 GiB\n",
       "                </td>\n",
       "            </tr>\n",
       "            \n",
       "            <tr>\n",
       "    <td style=\"text-align: left;\"><strong>Status:</strong> running</td>\n",
       "    <td style=\"text-align: left;\"><strong>Using processes:</strong> True</td>\n",
       "</tr>\n",
       "\n",
       "            \n",
       "        </table>\n",
       "\n",
       "        <details>\n",
       "            <summary style=\"margin-bottom: 20px;\">\n",
       "                <h3 style=\"display: inline;\">Scheduler Info</h3>\n",
       "            </summary>\n",
       "\n",
       "            <div style=\"\">\n",
       "    <div>\n",
       "        <div style=\"width: 24px; height: 24px; background-color: #FFF7E5; border: 3px solid #FF6132; border-radius: 5px; position: absolute;\"> </div>\n",
       "        <div style=\"margin-left: 48px;\">\n",
       "            <h3 style=\"margin-bottom: 0px;\">Scheduler</h3>\n",
       "            <p style=\"color: #9D9D9D; margin-bottom: 0px;\">Scheduler-0e0229e7-3f64-42e0-b39e-bdadd90737bd</p>\n",
       "            <table style=\"width: 100%; text-align: left;\">\n",
       "                <tr>\n",
       "                    <td style=\"text-align: left;\">\n",
       "                        <strong>Comm:</strong> tcp://127.0.0.1:40689\n",
       "                    </td>\n",
       "                    <td style=\"text-align: left;\">\n",
       "                        <strong>Workers:</strong> 8\n",
       "                    </td>\n",
       "                </tr>\n",
       "                <tr>\n",
       "                    <td style=\"text-align: left;\">\n",
       "                        <strong>Dashboard:</strong> <a href=\"http://127.0.0.1:8787/status\" target=\"_blank\">http://127.0.0.1:8787/status</a>\n",
       "                    </td>\n",
       "                    <td style=\"text-align: left;\">\n",
       "                        <strong>Total threads:</strong> 16\n",
       "                    </td>\n",
       "                </tr>\n",
       "                <tr>\n",
       "                    <td style=\"text-align: left;\">\n",
       "                        <strong>Started:</strong> Just now\n",
       "                    </td>\n",
       "                    <td style=\"text-align: left;\">\n",
       "                        <strong>Total memory:</strong> 15.49 GiB\n",
       "                    </td>\n",
       "                </tr>\n",
       "            </table>\n",
       "        </div>\n",
       "    </div>\n",
       "\n",
       "    <details style=\"margin-left: 48px;\">\n",
       "        <summary style=\"margin-bottom: 20px;\">\n",
       "            <h3 style=\"display: inline;\">Workers</h3>\n",
       "        </summary>\n",
       "\n",
       "        \n",
       "        <div style=\"margin-bottom: 20px;\">\n",
       "            <div style=\"width: 24px; height: 24px; background-color: #DBF5FF; border: 3px solid #4CC9FF; border-radius: 5px; position: absolute;\"> </div>\n",
       "            <div style=\"margin-left: 48px;\">\n",
       "            <details>\n",
       "                <summary>\n",
       "                    <h4 style=\"margin-bottom: 0px; display: inline;\">Worker: 0</h4>\n",
       "                </summary>\n",
       "                <table style=\"width: 100%; text-align: left;\">\n",
       "                    <tr>\n",
       "                        <td style=\"text-align: left;\">\n",
       "                            <strong>Comm: </strong> tcp://127.0.0.1:46667\n",
       "                        </td>\n",
       "                        <td style=\"text-align: left;\">\n",
       "                            <strong>Total threads: </strong> 2\n",
       "                        </td>\n",
       "                    </tr>\n",
       "                    <tr>\n",
       "                        <td style=\"text-align: left;\">\n",
       "                            <strong>Dashboard: </strong> <a href=\"http://127.0.0.1:33639/status\" target=\"_blank\">http://127.0.0.1:33639/status</a>\n",
       "                        </td>\n",
       "                        <td style=\"text-align: left;\">\n",
       "                            <strong>Memory: </strong> 1.94 GiB\n",
       "                        </td>\n",
       "                    </tr>\n",
       "                    <tr>\n",
       "                        <td style=\"text-align: left;\">\n",
       "                            <strong>Nanny: </strong> tcp://127.0.0.1:36159\n",
       "                        </td>\n",
       "                        <td style=\"text-align: left;\"></td>\n",
       "                    </tr>\n",
       "                    <tr>\n",
       "                        <td colspan=\"2\" style=\"text-align: left;\">\n",
       "                            <strong>Local directory: </strong> /mnt/c/Users/TBGPEA-Sean/git_repos/cper_pdog_uas/dask-worker-space/worker-va0ji53m\n",
       "                        </td>\n",
       "                    </tr>\n",
       "\n",
       "                    \n",
       "\n",
       "                    \n",
       "\n",
       "                </table>\n",
       "            </details>\n",
       "            </div>\n",
       "        </div>\n",
       "        \n",
       "        <div style=\"margin-bottom: 20px;\">\n",
       "            <div style=\"width: 24px; height: 24px; background-color: #DBF5FF; border: 3px solid #4CC9FF; border-radius: 5px; position: absolute;\"> </div>\n",
       "            <div style=\"margin-left: 48px;\">\n",
       "            <details>\n",
       "                <summary>\n",
       "                    <h4 style=\"margin-bottom: 0px; display: inline;\">Worker: 1</h4>\n",
       "                </summary>\n",
       "                <table style=\"width: 100%; text-align: left;\">\n",
       "                    <tr>\n",
       "                        <td style=\"text-align: left;\">\n",
       "                            <strong>Comm: </strong> tcp://127.0.0.1:34543\n",
       "                        </td>\n",
       "                        <td style=\"text-align: left;\">\n",
       "                            <strong>Total threads: </strong> 2\n",
       "                        </td>\n",
       "                    </tr>\n",
       "                    <tr>\n",
       "                        <td style=\"text-align: left;\">\n",
       "                            <strong>Dashboard: </strong> <a href=\"http://127.0.0.1:37091/status\" target=\"_blank\">http://127.0.0.1:37091/status</a>\n",
       "                        </td>\n",
       "                        <td style=\"text-align: left;\">\n",
       "                            <strong>Memory: </strong> 1.94 GiB\n",
       "                        </td>\n",
       "                    </tr>\n",
       "                    <tr>\n",
       "                        <td style=\"text-align: left;\">\n",
       "                            <strong>Nanny: </strong> tcp://127.0.0.1:37135\n",
       "                        </td>\n",
       "                        <td style=\"text-align: left;\"></td>\n",
       "                    </tr>\n",
       "                    <tr>\n",
       "                        <td colspan=\"2\" style=\"text-align: left;\">\n",
       "                            <strong>Local directory: </strong> /mnt/c/Users/TBGPEA-Sean/git_repos/cper_pdog_uas/dask-worker-space/worker-4m76hhov\n",
       "                        </td>\n",
       "                    </tr>\n",
       "\n",
       "                    \n",
       "\n",
       "                    \n",
       "\n",
       "                </table>\n",
       "            </details>\n",
       "            </div>\n",
       "        </div>\n",
       "        \n",
       "        <div style=\"margin-bottom: 20px;\">\n",
       "            <div style=\"width: 24px; height: 24px; background-color: #DBF5FF; border: 3px solid #4CC9FF; border-radius: 5px; position: absolute;\"> </div>\n",
       "            <div style=\"margin-left: 48px;\">\n",
       "            <details>\n",
       "                <summary>\n",
       "                    <h4 style=\"margin-bottom: 0px; display: inline;\">Worker: 2</h4>\n",
       "                </summary>\n",
       "                <table style=\"width: 100%; text-align: left;\">\n",
       "                    <tr>\n",
       "                        <td style=\"text-align: left;\">\n",
       "                            <strong>Comm: </strong> tcp://127.0.0.1:38089\n",
       "                        </td>\n",
       "                        <td style=\"text-align: left;\">\n",
       "                            <strong>Total threads: </strong> 2\n",
       "                        </td>\n",
       "                    </tr>\n",
       "                    <tr>\n",
       "                        <td style=\"text-align: left;\">\n",
       "                            <strong>Dashboard: </strong> <a href=\"http://127.0.0.1:33371/status\" target=\"_blank\">http://127.0.0.1:33371/status</a>\n",
       "                        </td>\n",
       "                        <td style=\"text-align: left;\">\n",
       "                            <strong>Memory: </strong> 1.94 GiB\n",
       "                        </td>\n",
       "                    </tr>\n",
       "                    <tr>\n",
       "                        <td style=\"text-align: left;\">\n",
       "                            <strong>Nanny: </strong> tcp://127.0.0.1:46083\n",
       "                        </td>\n",
       "                        <td style=\"text-align: left;\"></td>\n",
       "                    </tr>\n",
       "                    <tr>\n",
       "                        <td colspan=\"2\" style=\"text-align: left;\">\n",
       "                            <strong>Local directory: </strong> /mnt/c/Users/TBGPEA-Sean/git_repos/cper_pdog_uas/dask-worker-space/worker-42iuj__i\n",
       "                        </td>\n",
       "                    </tr>\n",
       "\n",
       "                    \n",
       "\n",
       "                    \n",
       "\n",
       "                </table>\n",
       "            </details>\n",
       "            </div>\n",
       "        </div>\n",
       "        \n",
       "        <div style=\"margin-bottom: 20px;\">\n",
       "            <div style=\"width: 24px; height: 24px; background-color: #DBF5FF; border: 3px solid #4CC9FF; border-radius: 5px; position: absolute;\"> </div>\n",
       "            <div style=\"margin-left: 48px;\">\n",
       "            <details>\n",
       "                <summary>\n",
       "                    <h4 style=\"margin-bottom: 0px; display: inline;\">Worker: 3</h4>\n",
       "                </summary>\n",
       "                <table style=\"width: 100%; text-align: left;\">\n",
       "                    <tr>\n",
       "                        <td style=\"text-align: left;\">\n",
       "                            <strong>Comm: </strong> tcp://127.0.0.1:35521\n",
       "                        </td>\n",
       "                        <td style=\"text-align: left;\">\n",
       "                            <strong>Total threads: </strong> 2\n",
       "                        </td>\n",
       "                    </tr>\n",
       "                    <tr>\n",
       "                        <td style=\"text-align: left;\">\n",
       "                            <strong>Dashboard: </strong> <a href=\"http://127.0.0.1:45249/status\" target=\"_blank\">http://127.0.0.1:45249/status</a>\n",
       "                        </td>\n",
       "                        <td style=\"text-align: left;\">\n",
       "                            <strong>Memory: </strong> 1.94 GiB\n",
       "                        </td>\n",
       "                    </tr>\n",
       "                    <tr>\n",
       "                        <td style=\"text-align: left;\">\n",
       "                            <strong>Nanny: </strong> tcp://127.0.0.1:35289\n",
       "                        </td>\n",
       "                        <td style=\"text-align: left;\"></td>\n",
       "                    </tr>\n",
       "                    <tr>\n",
       "                        <td colspan=\"2\" style=\"text-align: left;\">\n",
       "                            <strong>Local directory: </strong> /mnt/c/Users/TBGPEA-Sean/git_repos/cper_pdog_uas/dask-worker-space/worker-_e687jk6\n",
       "                        </td>\n",
       "                    </tr>\n",
       "\n",
       "                    \n",
       "\n",
       "                    \n",
       "\n",
       "                </table>\n",
       "            </details>\n",
       "            </div>\n",
       "        </div>\n",
       "        \n",
       "        <div style=\"margin-bottom: 20px;\">\n",
       "            <div style=\"width: 24px; height: 24px; background-color: #DBF5FF; border: 3px solid #4CC9FF; border-radius: 5px; position: absolute;\"> </div>\n",
       "            <div style=\"margin-left: 48px;\">\n",
       "            <details>\n",
       "                <summary>\n",
       "                    <h4 style=\"margin-bottom: 0px; display: inline;\">Worker: 4</h4>\n",
       "                </summary>\n",
       "                <table style=\"width: 100%; text-align: left;\">\n",
       "                    <tr>\n",
       "                        <td style=\"text-align: left;\">\n",
       "                            <strong>Comm: </strong> tcp://127.0.0.1:34651\n",
       "                        </td>\n",
       "                        <td style=\"text-align: left;\">\n",
       "                            <strong>Total threads: </strong> 2\n",
       "                        </td>\n",
       "                    </tr>\n",
       "                    <tr>\n",
       "                        <td style=\"text-align: left;\">\n",
       "                            <strong>Dashboard: </strong> <a href=\"http://127.0.0.1:41387/status\" target=\"_blank\">http://127.0.0.1:41387/status</a>\n",
       "                        </td>\n",
       "                        <td style=\"text-align: left;\">\n",
       "                            <strong>Memory: </strong> 1.94 GiB\n",
       "                        </td>\n",
       "                    </tr>\n",
       "                    <tr>\n",
       "                        <td style=\"text-align: left;\">\n",
       "                            <strong>Nanny: </strong> tcp://127.0.0.1:34129\n",
       "                        </td>\n",
       "                        <td style=\"text-align: left;\"></td>\n",
       "                    </tr>\n",
       "                    <tr>\n",
       "                        <td colspan=\"2\" style=\"text-align: left;\">\n",
       "                            <strong>Local directory: </strong> /mnt/c/Users/TBGPEA-Sean/git_repos/cper_pdog_uas/dask-worker-space/worker-o4bfaqqy\n",
       "                        </td>\n",
       "                    </tr>\n",
       "\n",
       "                    \n",
       "\n",
       "                    \n",
       "\n",
       "                </table>\n",
       "            </details>\n",
       "            </div>\n",
       "        </div>\n",
       "        \n",
       "        <div style=\"margin-bottom: 20px;\">\n",
       "            <div style=\"width: 24px; height: 24px; background-color: #DBF5FF; border: 3px solid #4CC9FF; border-radius: 5px; position: absolute;\"> </div>\n",
       "            <div style=\"margin-left: 48px;\">\n",
       "            <details>\n",
       "                <summary>\n",
       "                    <h4 style=\"margin-bottom: 0px; display: inline;\">Worker: 5</h4>\n",
       "                </summary>\n",
       "                <table style=\"width: 100%; text-align: left;\">\n",
       "                    <tr>\n",
       "                        <td style=\"text-align: left;\">\n",
       "                            <strong>Comm: </strong> tcp://127.0.0.1:45521\n",
       "                        </td>\n",
       "                        <td style=\"text-align: left;\">\n",
       "                            <strong>Total threads: </strong> 2\n",
       "                        </td>\n",
       "                    </tr>\n",
       "                    <tr>\n",
       "                        <td style=\"text-align: left;\">\n",
       "                            <strong>Dashboard: </strong> <a href=\"http://127.0.0.1:40817/status\" target=\"_blank\">http://127.0.0.1:40817/status</a>\n",
       "                        </td>\n",
       "                        <td style=\"text-align: left;\">\n",
       "                            <strong>Memory: </strong> 1.94 GiB\n",
       "                        </td>\n",
       "                    </tr>\n",
       "                    <tr>\n",
       "                        <td style=\"text-align: left;\">\n",
       "                            <strong>Nanny: </strong> tcp://127.0.0.1:33517\n",
       "                        </td>\n",
       "                        <td style=\"text-align: left;\"></td>\n",
       "                    </tr>\n",
       "                    <tr>\n",
       "                        <td colspan=\"2\" style=\"text-align: left;\">\n",
       "                            <strong>Local directory: </strong> /mnt/c/Users/TBGPEA-Sean/git_repos/cper_pdog_uas/dask-worker-space/worker-2dc1zcwt\n",
       "                        </td>\n",
       "                    </tr>\n",
       "\n",
       "                    \n",
       "\n",
       "                    \n",
       "\n",
       "                </table>\n",
       "            </details>\n",
       "            </div>\n",
       "        </div>\n",
       "        \n",
       "        <div style=\"margin-bottom: 20px;\">\n",
       "            <div style=\"width: 24px; height: 24px; background-color: #DBF5FF; border: 3px solid #4CC9FF; border-radius: 5px; position: absolute;\"> </div>\n",
       "            <div style=\"margin-left: 48px;\">\n",
       "            <details>\n",
       "                <summary>\n",
       "                    <h4 style=\"margin-bottom: 0px; display: inline;\">Worker: 6</h4>\n",
       "                </summary>\n",
       "                <table style=\"width: 100%; text-align: left;\">\n",
       "                    <tr>\n",
       "                        <td style=\"text-align: left;\">\n",
       "                            <strong>Comm: </strong> tcp://127.0.0.1:41093\n",
       "                        </td>\n",
       "                        <td style=\"text-align: left;\">\n",
       "                            <strong>Total threads: </strong> 2\n",
       "                        </td>\n",
       "                    </tr>\n",
       "                    <tr>\n",
       "                        <td style=\"text-align: left;\">\n",
       "                            <strong>Dashboard: </strong> <a href=\"http://127.0.0.1:37785/status\" target=\"_blank\">http://127.0.0.1:37785/status</a>\n",
       "                        </td>\n",
       "                        <td style=\"text-align: left;\">\n",
       "                            <strong>Memory: </strong> 1.94 GiB\n",
       "                        </td>\n",
       "                    </tr>\n",
       "                    <tr>\n",
       "                        <td style=\"text-align: left;\">\n",
       "                            <strong>Nanny: </strong> tcp://127.0.0.1:35911\n",
       "                        </td>\n",
       "                        <td style=\"text-align: left;\"></td>\n",
       "                    </tr>\n",
       "                    <tr>\n",
       "                        <td colspan=\"2\" style=\"text-align: left;\">\n",
       "                            <strong>Local directory: </strong> /mnt/c/Users/TBGPEA-Sean/git_repos/cper_pdog_uas/dask-worker-space/worker-gfd8uk3_\n",
       "                        </td>\n",
       "                    </tr>\n",
       "\n",
       "                    \n",
       "\n",
       "                    \n",
       "\n",
       "                </table>\n",
       "            </details>\n",
       "            </div>\n",
       "        </div>\n",
       "        \n",
       "        <div style=\"margin-bottom: 20px;\">\n",
       "            <div style=\"width: 24px; height: 24px; background-color: #DBF5FF; border: 3px solid #4CC9FF; border-radius: 5px; position: absolute;\"> </div>\n",
       "            <div style=\"margin-left: 48px;\">\n",
       "            <details>\n",
       "                <summary>\n",
       "                    <h4 style=\"margin-bottom: 0px; display: inline;\">Worker: 7</h4>\n",
       "                </summary>\n",
       "                <table style=\"width: 100%; text-align: left;\">\n",
       "                    <tr>\n",
       "                        <td style=\"text-align: left;\">\n",
       "                            <strong>Comm: </strong> tcp://127.0.0.1:38613\n",
       "                        </td>\n",
       "                        <td style=\"text-align: left;\">\n",
       "                            <strong>Total threads: </strong> 2\n",
       "                        </td>\n",
       "                    </tr>\n",
       "                    <tr>\n",
       "                        <td style=\"text-align: left;\">\n",
       "                            <strong>Dashboard: </strong> <a href=\"http://127.0.0.1:35979/status\" target=\"_blank\">http://127.0.0.1:35979/status</a>\n",
       "                        </td>\n",
       "                        <td style=\"text-align: left;\">\n",
       "                            <strong>Memory: </strong> 1.94 GiB\n",
       "                        </td>\n",
       "                    </tr>\n",
       "                    <tr>\n",
       "                        <td style=\"text-align: left;\">\n",
       "                            <strong>Nanny: </strong> tcp://127.0.0.1:38115\n",
       "                        </td>\n",
       "                        <td style=\"text-align: left;\"></td>\n",
       "                    </tr>\n",
       "                    <tr>\n",
       "                        <td colspan=\"2\" style=\"text-align: left;\">\n",
       "                            <strong>Local directory: </strong> /mnt/c/Users/TBGPEA-Sean/git_repos/cper_pdog_uas/dask-worker-space/worker-txfty1oo\n",
       "                        </td>\n",
       "                    </tr>\n",
       "\n",
       "                    \n",
       "\n",
       "                    \n",
       "\n",
       "                </table>\n",
       "            </details>\n",
       "            </div>\n",
       "        </div>\n",
       "        \n",
       "\n",
       "    </details>\n",
       "</div>\n",
       "\n",
       "        </details>\n",
       "    </div>\n",
       "</div>\n",
       "            </details>\n",
       "        \n",
       "\n",
       "    </div>\n",
       "</div>"
      ],
      "text/plain": [
       "<Client: 'tcp://127.0.0.1:40689' processes=8 threads=16, memory=15.49 GiB>"
      ]
     },
     "metadata": {},
     "output_type": "display_data"
    }
   ],
   "source": [
    "cluster = LocalCluster(n_workers=8, threads_per_worker=2, processes=True)\n",
    "client = Client(cluster)\n",
    "client.amm.start()\n",
    "display(client)"
   ]
  },
  {
   "cell_type": "code",
   "execution_count": 7,
   "id": "8f525e70-71fa-4741-985d-96ff430aeb82",
   "metadata": {},
   "outputs": [],
   "source": [
    "# create function to normalize all data in range 0-1\n",
    "def normalize_fn(image, image_suffix, stats_dict):\n",
    "    if image_suffix in stats_dict.keys():\n",
    "        min_tmp = stats_dict[image_suffix]['min']\n",
    "        max_tmp = stats_dict[image_suffix]['max']\n",
    "    else:\n",
    "        # normalize to individual image if min/max stats not specified in dictionary\n",
    "        min_tmp = np.min(image)\n",
    "        max_tmp = np.max(image)\n",
    "    return (image - min_tmp) / (max_tmp - min_tmp)\n",
    "\n",
    "def calc_tpi(dtm, inner_r, outer_r, interpolate=True, values=True, bounds=(-2.0, 3.0), fillna=None):\n",
    "    cellsize_x, cellsize_y = convolution.calc_cellsize(dtm)\n",
    "    kernel = convolution.annulus_kernel(cellsize_x, cellsize_y, outer_r, inner_r)\n",
    "    tpi = dtm - focal.apply(dtm, kernel)\n",
    "    tpi = tpi.rio.write_nodata(-9999.)\n",
    "    tpi = tpi.where((tpi > bounds[0]) & (tpi < bounds[1]))\n",
    "    if interpolate:\n",
    "        if tpi.isnull().any().values:\n",
    "            tpi = tpi.rio.interpolate_na(method='nearest')\n",
    "    if fillna is not None:\n",
    "        tpi = tpi.fillna(fillna)\n",
    "    if values:\n",
    "        return tpi.values\n",
    "    else:\n",
    "        return tpi\n",
    "\n",
    "def calc_ndvi(ms, interpolate=True, values=True, fillna=None):\n",
    "    ndvi = (ms.sel(band=4).astype('float32') - ms.sel(band=3).astype('float32'))\\\n",
    "            / (ms.sel(band=4).astype('float32') + ms.sel(band=3).astype('float32'))\n",
    "    ndvi = ndvi.rio.write_nodata(-9999.)\n",
    "    ndvi = ndvi.where(ndvi != -9999.)\n",
    "    if interpolate:\n",
    "        if ndvi.isnull().any().values:\n",
    "            ndvi = ndvi.rio.interpolate_na(method='nearest')\n",
    "    if fillna is not None:\n",
    "        ndvi = ndvi.fillna(fillna)\n",
    "    if values:\n",
    "        return ndvi.values\n",
    "    else:\n",
    "        return ndvi"
   ]
  },
  {
   "cell_type": "code",
   "execution_count": 8,
   "id": "a1f35503-1a23-405a-b4db-0ccd6bf58e62",
   "metadata": {},
   "outputs": [],
   "source": [
    "from collections import namedtuple\n",
    "from operator import mul\n",
    "\n",
    "try:\n",
    "    reduce = reduce\n",
    "except NameError:\n",
    "    from functools import reduce # py3k\n",
    "\n",
    "Info = namedtuple('Info', 'start height')\n",
    "\n",
    "def max_size(mat, value=0):\n",
    "    \"\"\"Find height, width of the largest rectangle containing all `value`'s.\n",
    "    For each row solve \"Largest Rectangle in a Histrogram\" problem [1]:\n",
    "    [1]: http://blog.csdn.net/arbuckle/archive/2006/05/06/710988.aspx\n",
    "    \"\"\"\n",
    "    it = iter(mat)\n",
    "    hist = [(el==value) for el in next(it, [])]\n",
    "    max_size = max_rectangle_size(hist)\n",
    "    for row in it:\n",
    "        hist = [(1+h) if el == value else 0 for h, el in zip(hist, row)]\n",
    "        max_size = max(max_size, max_rectangle_size(hist), key=area)\n",
    "    return max_size\n",
    "\n",
    "def max_rectangle_size(histogram):\n",
    "    \"\"\"Find height, width of the largest rectangle that fits entirely under\n",
    "    the histogram.\n",
    "    >>> f = max_rectangle_size\n",
    "    >>> f([5,3,1])\n",
    "    (3, 2)\n",
    "    >>> f([1,3,5])\n",
    "    (3, 2)\n",
    "    >>> f([3,1,5])\n",
    "    (5, 1)\n",
    "    >>> f([4,8,3,2,0])\n",
    "    (3, 3)\n",
    "    >>> f([4,8,3,1,1,0])\n",
    "    (3, 3)\n",
    "    >>> f([1,2,1])\n",
    "    (1, 3)\n",
    "    Algorithm is \"Linear search using a stack of incomplete subproblems\" [1].\n",
    "    [1]: http://blog.csdn.net/arbuckle/archive/2006/05/06/710988.aspx\n",
    "    \"\"\"\n",
    "    stack = []\n",
    "    top = lambda: stack[-1]\n",
    "    max_size = (0, 0) # height, width of the largest rectangle\n",
    "    pos = 0 # current position in the histogram\n",
    "    for pos, height in enumerate(histogram):\n",
    "        start = pos # position where rectangle starts\n",
    "        while True:\n",
    "            if not stack or height > top().height:\n",
    "                stack.append(Info(start, height)) # push\n",
    "            elif stack and height < top().height:\n",
    "                max_size = max(max_size, (top().height, (pos - top().start)),\n",
    "                               key=area)\n",
    "                start, _ = stack.pop()\n",
    "                continue\n",
    "            break # height == top().height goes here\n",
    "\n",
    "    pos += 1\n",
    "    for start, height in stack:\n",
    "        max_size = max(max_size, (height, (pos - start)), key=area)\n",
    "\n",
    "    return max_size\n",
    "\n",
    "def area(size):\n",
    "    return reduce(mul, size)"
   ]
  },
  {
   "cell_type": "code",
   "execution_count": 9,
   "id": "8e63c3c8-46cd-4c0b-adda-d02fd9219f5e",
   "metadata": {},
   "outputs": [],
   "source": [
    "outDIR = './cnn_pred_results/'\n",
    "if not os.path.exists(outDIR):\n",
    "    os.mkdir(outDIR)"
   ]
  },
  {
   "cell_type": "code",
   "execution_count": 10,
   "id": "ef26cdc0-afc6-4b9e-9f92-36793028623f",
   "metadata": {},
   "outputs": [],
   "source": [
    "size_dict = {\n",
    "    2: {'tile_size': 256,\n",
    "        'buff_size': 64},\n",
    "    5: {'tile_size': 192,\n",
    "        'buff_size': 48},\n",
    "    10: {'tile_size': 128,\n",
    "         'buff_size': 32},\n",
    "    15: {'tile_size': 96,\n",
    "         'buff_size': 16},\n",
    "    30: {'tile_size': 64,\n",
    "         'buff_size': 16}\n",
    "}"
   ]
  },
  {
   "cell_type": "code",
   "execution_count": 11,
   "id": "67df3061-2ae6-445d-8a2f-2224a273dcfa",
   "metadata": {},
   "outputs": [],
   "source": [
    "past_subset = None\n",
    "#past_subset = ['5W', '29-30', '22W']\n",
    "\n",
    "baseDIR = '/mnt/d/'\n",
    "\n",
    "img_f_dict = {\n",
    "    '5W': {\n",
    "        'rgb': [os.path.join(baseDIR, '202109/outputs/202109_5W_RGB/CPER_202109_5W_RGB_ortho.tif')],\n",
    "        'ms': [os.path.join(baseDIR, '202109/outputs/202109_5W_MS/CPER_202109_5W_MS_ortho.tif')],\n",
    "        'dsm': [os.path.join(baseDIR, '202109/outputs/202109_5W_RGB/CPER_202109_5W_RGB_dsm.tif')]\n",
    "    },\n",
    "    '29-30': {\n",
    "        'rgb': [os.path.join(baseDIR, '202109/outputs/202109_29_30_RGB/CPER_202109_29_30_RGB_ortho.tif')],\n",
    "        'ms': [os.path.join(baseDIR, '202109/outputs/202109_29_30_MS/CPER_202109_29_30_North_MS_ortho.tif'),\n",
    "              os.path.join(baseDIR, '202109/outputs/202109_29_30_MS/CPER_202109_29_30_South_MS_ortho.tif')],\n",
    "        'dsm': [os.path.join(baseDIR, '202109/outputs/202109_29_30_RGB/CPER_202109_29_30_RGB_DSM.tif')]\n",
    "    },\n",
    "    '22W': {\n",
    "        'rgb': [os.path.join(baseDIR, '202109/outputs/202109_22EW/CPER_202109_22EW_Flight1_RGB_ortho.tif'),\n",
    "               os.path.join(baseDIR, '202109/outputs/202109_22EW/CPER_202109_22EW_Flight2_RGB_ortho.tif')],\n",
    "        'ms': [os.path.join(baseDIR, '202109/outputs/202109_22EW/CPER_202109_22EW_Flight1_MS_ortho.tif'),\n",
    "               os.path.join(baseDIR, '202109/outputs/202109_22EW/CPER_202109_22EW_Flight2_MS_ortho.tif')],\n",
    "        'dsm': [os.path.join(baseDIR, '202109/outputs/202109_22EW/CPER_202109_22EW_Flight1_RGB_DSM.tif'),\n",
    "                os.path.join(baseDIR, '202109/outputs/202109_22EW/CPER_202109_22EW_Flight2_RGB_DSM.tif')]\n",
    "    },\n",
    "    '22E': {\n",
    "        'rgb': [os.path.join(baseDIR, '202109/outputs/202109_22EW/CPER_202109_22EW_Flight1_RGB_ortho.tif'),\n",
    "               os.path.join(baseDIR, '202109/outputs/202109_22EW/CPER_202109_22EW_Flight2_RGB_ortho.tif'),\n",
    "               os.path.join(baseDIR, '202109/outputs/202109_22EW/CPER_202109_22EW_Flight3_RGB_ortho.tif')],\n",
    "        'ms': [os.path.join(baseDIR, '202109/outputs/202109_22EW/CPER_202109_22EW_Flight1_MS_ortho.tif'),\n",
    "               os.path.join(baseDIR, '202109/outputs/202109_22EW/CPER_202109_22EW_Flight2_MS_ortho.tif')],\n",
    "        'dsm': [os.path.join(baseDIR, '202109/outputs/202109_22EW/CPER_202109_22EW_Flight1_RGB_DSM.tif'),\n",
    "               os.path.join(baseDIR, '202109/outputs/202109_22EW/CPER_202109_22EW_Flight2_RGB_DSM.tif'),\n",
    "               os.path.join(baseDIR, '202109/outputs/202109_22EW/CPER_202109_22EW_Flight3_RGB_DSM.tif')]\n",
    "    },\n",
    "    'CN': {\n",
    "        'rgb': [os.path.join(baseDIR, '202109/outputs/202109_CN_RGB/Orthos/CPER_CN_Flight2_202109_RGB_ortho.tif'),\n",
    "               os.path.join(baseDIR, '202109/outputs/202109_CN_RGB/Orthos/CPER_CN_Flight3_202109_RGB_ortho.tif'),\n",
    "               os.path.join(baseDIR, '202109/outputs/202109_CN_RGB/Orthos/CPER_CN_Flight4_202109_RGB_ortho.tif'),\n",
    "               os.path.join(baseDIR, '202109/outputs/202109_CN_RGB/Orthos/CPER_CN_Flight5_202109_RGB_ortho.tif')],\n",
    "        'ms': [os.path.join(baseDIR, '202109/outputs/202109_CN_MS/CPER_202109_CN_Flight2_MS_ortho.tif'),\n",
    "              os.path.join(baseDIR, '202109/outputs/202109_CN_MS/CPER_202109_CN_Flight3_MS_ortho.tif'),\n",
    "              os.path.join(baseDIR, '202109/outputs/202109_CN_MS/CPER_202109_CN_Flight4_MS_ortho.tif'),],\n",
    "        'dsm': [os.path.join(baseDIR, '202109/outputs/202109_CN_RGB/DSMs/CPER_CN_Flight2_202109_RGB_DSM.tif'),\n",
    "               os.path.join(baseDIR, '202109/outputs/202109_CN_RGB/DSMs/CPER_CN_Flight3_202109_RGB_DSM.tif'),\n",
    "               os.path.join(baseDIR, '202109/outputs/202109_CN_RGB/DSMs/CPER_CN_Flight4_202109_RGB_DSM.tif'),\n",
    "               os.path.join(baseDIR, '202109/outputs/202109_CN_RGB/DSMs/CPER_CN_Flight5_202109_RGB_DSM.tif')]\n",
    "    }\n",
    "}\n",
    "\n",
    "if past_subset is not None:\n",
    "    img_f_dict_tmp = img_f_dict.copy()\n",
    "    img_f_dict = {}\n",
    "    for k in img_f_dict_tmp:\n",
    "         if k in past_subset:\n",
    "                img_f_dict[k] = img_f_dict_tmp[k]\n",
    "\n",
    "cper_f = '/mnt/c/Users/TBGPEA-Sean/Desktop/Pdogs_UAS/cper_pdog_pastures_2017_clip.shp'"
   ]
  },
  {
   "cell_type": "code",
   "execution_count": 12,
   "id": "d75f0f45-d52c-48f8-853b-7404abd75ec1",
   "metadata": {},
   "outputs": [],
   "source": [
    "full_buff_size = 10\n",
    "full_tile_size = 150\n",
    "tile_size = size_dict[res_fnl]['tile_size']\n",
    "buff_size = size_dict[res_fnl]['buff_size']\n",
    "chunk_size = 250\n",
    "buff_size_m = np.ceil(buff_size * res_fnl * 0.01)"
   ]
  },
  {
   "cell_type": "code",
   "execution_count": 13,
   "id": "001cb02e-10b7-4fd3-bc0d-10832aff67aa",
   "metadata": {},
   "outputs": [],
   "source": [
    "# load best saved checkpoint\n",
    "if res_fnl == 2:\n",
    "    best_model = torch.load('./cnn_results_' + model_fnl + '_' + str(res_fnl) + 'cm/best_model_' + '_'.join(inputs_fnl) + '.pth')\n",
    "else:\n",
    "    best_model = torch.load('./cnn_results_' + model_fnl + '_' + str(res_fnl) + 'cm/best_model_' + '_'.join(inputs_fnl) + '_' + str(res_fnl) + 'cm.pth')\n",
    "\n",
    "if DEVICE == 'cpu':\n",
    "    best_model = best_model.cpu()\n",
    "best_model.eval()\n",
    "\n",
    "# load the image stats from the training data\n",
    "df_image_stats = pd.read_csv('./_utils/image_stats_2cm.csv').set_index('stat')\n",
    "\n",
    "# convert image stats dictionary to dataframe\n",
    "image_stats = {i: {'min': df_image_stats.loc['min', i],\n",
    "                   'max': df_image_stats.loc['max', i]} for i in df_image_stats.columns}"
   ]
  },
  {
   "cell_type": "code",
   "execution_count": 14,
   "id": "d5e43d7a-2fa6-4585-a712-7144e6a41d92",
   "metadata": {
    "scrolled": true,
    "tags": []
   },
   "outputs": [
    {
     "name": "stderr",
     "output_type": "stream",
     "text": [
      "  0%|                                                                                             | 0/5 [00:00<?, ?it/s]"
     ]
    },
    {
     "name": "stdout",
     "output_type": "stream",
     "text": [
      "\n",
      "\n",
      "----------\n",
      "Pasture: 5W\n",
      "running row: 1 of 11\n"
     ]
    },
    {
     "name": "stderr",
     "output_type": "stream",
     "text": [
      "\n",
      "  0%|                                                                                             | 0/6 [00:00<?, ?it/s]\u001b[A\n",
      " 17%|██████████████▏                                                                      | 1/6 [00:16<01:20, 16.19s/it]\u001b[A\n",
      " 33%|████████████████████████████▎                                                        | 2/6 [00:19<00:34,  8.58s/it]\u001b[A\n",
      " 50%|██████████████████████████████████████████▌                                          | 3/6 [00:22<00:18,  6.23s/it]\u001b[A\n",
      " 67%|████████████████████████████████████████████████████████▋                            | 4/6 [00:26<00:10,  5.28s/it]\u001b[A\n",
      " 83%|██████████████████████████████████████████████████████████████████████▊              | 5/6 [00:30<00:04,  4.84s/it]\u001b[A\n",
      "100%|█████████████████████████████████████████████████████████████████████████████████████| 6/6 [00:35<00:00,  5.88s/it]\u001b[A\n"
     ]
    },
    {
     "name": "stdout",
     "output_type": "stream",
     "text": [
      "running row: 2 of 11\n"
     ]
    },
    {
     "name": "stderr",
     "output_type": "stream",
     "text": [
      "\n",
      "  0%|                                                                                             | 0/6 [00:00<?, ?it/s]\u001b[A\n",
      " 17%|██████████████▏                                                                      | 1/6 [00:04<00:20,  4.14s/it]\u001b[A\n",
      " 33%|████████████████████████████▎                                                        | 2/6 [00:08<00:18,  4.53s/it]\u001b[A\n",
      " 50%|██████████████████████████████████████████▌                                          | 3/6 [00:13<00:14,  4.69s/it]\u001b[A\n",
      " 67%|████████████████████████████████████████████████████████▋                            | 4/6 [00:19<00:10,  5.13s/it]\u001b[A\n",
      " 83%|██████████████████████████████████████████████████████████████████████▊              | 5/6 [00:28<00:06,  6.39s/it]\u001b[A\n",
      "100%|█████████████████████████████████████████████████████████████████████████████████████| 6/6 [00:33<00:00,  5.66s/it]\u001b[A\n"
     ]
    },
    {
     "name": "stdout",
     "output_type": "stream",
     "text": [
      "running row: 3 of 11\n"
     ]
    },
    {
     "name": "stderr",
     "output_type": "stream",
     "text": [
      "\n",
      "  0%|                                                                                             | 0/6 [00:00<?, ?it/s]\u001b[A\n",
      " 17%|██████████████▏                                                                      | 1/6 [00:07<00:37,  7.48s/it]\u001b[A\n",
      " 33%|████████████████████████████▎                                                        | 2/6 [00:13<00:26,  6.60s/it]\u001b[A\n",
      " 50%|██████████████████████████████████████████▌                                          | 3/6 [00:22<00:23,  7.71s/it]\u001b[A\n",
      " 67%|████████████████████████████████████████████████████████▋                            | 4/6 [00:42<00:25, 12.55s/it]\u001b[A\n",
      " 83%|██████████████████████████████████████████████████████████████████████▊              | 5/6 [00:55<00:12, 12.61s/it]\u001b[A\n",
      "100%|█████████████████████████████████████████████████████████████████████████████████████| 6/6 [01:02<00:00, 10.43s/it]\u001b[A\n"
     ]
    },
    {
     "name": "stdout",
     "output_type": "stream",
     "text": [
      "running row: 4 of 11\n"
     ]
    },
    {
     "name": "stderr",
     "output_type": "stream",
     "text": [
      "\n",
      "  0%|                                                                                             | 0/6 [00:00<?, ?it/s]\u001b[A\n",
      " 17%|██████████████▏                                                                      | 1/6 [00:07<00:36,  7.31s/it]\u001b[A\n",
      " 33%|████████████████████████████▎                                                        | 2/6 [00:14<00:28,  7.09s/it]\u001b[A\n",
      " 50%|██████████████████████████████████████████▌                                          | 3/6 [00:21<00:21,  7.03s/it]\u001b[A\n",
      " 67%|████████████████████████████████████████████████████████▋                            | 4/6 [00:29<00:15,  7.55s/it]\u001b[A\n",
      " 83%|██████████████████████████████████████████████████████████████████████▊              | 5/6 [00:37<00:07,  7.71s/it]\u001b[A\n",
      "100%|█████████████████████████████████████████████████████████████████████████████████████| 6/6 [00:45<00:00,  7.62s/it]\u001b[A\n"
     ]
    },
    {
     "name": "stdout",
     "output_type": "stream",
     "text": [
      "running row: 5 of 11\n"
     ]
    },
    {
     "name": "stderr",
     "output_type": "stream",
     "text": [
      "\n",
      "  0%|                                                                                             | 0/6 [00:00<?, ?it/s]\u001b[A\n",
      " 17%|██████████████▏                                                                      | 1/6 [00:08<00:41,  8.37s/it]\u001b[A\n",
      " 33%|████████████████████████████▎                                                        | 2/6 [00:16<00:32,  8.24s/it]\u001b[A\n",
      " 50%|██████████████████████████████████████████▌                                          | 3/6 [00:24<00:24,  8.25s/it]\u001b[A\n",
      " 67%|████████████████████████████████████████████████████████▋                            | 4/6 [00:32<00:16,  8.17s/it]\u001b[A\n",
      " 83%|██████████████████████████████████████████████████████████████████████▊              | 5/6 [00:41<00:08,  8.26s/it]\u001b[A\n",
      "100%|█████████████████████████████████████████████████████████████████████████████████████| 6/6 [00:50<00:00,  8.39s/it]\u001b[A\n"
     ]
    },
    {
     "name": "stdout",
     "output_type": "stream",
     "text": [
      "running row: 6 of 11\n"
     ]
    },
    {
     "name": "stderr",
     "output_type": "stream",
     "text": [
      "\n",
      "  0%|                                                                                             | 0/6 [00:00<?, ?it/s]\u001b[A\n",
      " 17%|██████████████▏                                                                      | 1/6 [00:20<01:44, 20.92s/it]\u001b[A\n",
      " 33%|████████████████████████████▎                                                        | 2/6 [00:33<01:03, 15.80s/it]\u001b[A\n",
      " 50%|██████████████████████████████████████████▌                                          | 3/6 [00:41<00:36, 12.24s/it]\u001b[A\n",
      " 67%|████████████████████████████████████████████████████████▋                            | 4/6 [00:49<00:21, 10.53s/it]\u001b[A\n",
      " 83%|██████████████████████████████████████████████████████████████████████▊              | 5/6 [00:57<00:09,  9.77s/it]\u001b[A\n",
      "100%|█████████████████████████████████████████████████████████████████████████████████████| 6/6 [01:07<00:00, 11.17s/it]\u001b[A\n"
     ]
    },
    {
     "name": "stdout",
     "output_type": "stream",
     "text": [
      "running row: 7 of 11\n"
     ]
    },
    {
     "name": "stderr",
     "output_type": "stream",
     "text": [
      "\n",
      "  0%|                                                                                             | 0/6 [00:00<?, ?it/s]\u001b[A\n",
      " 17%|██████████████▏                                                                      | 1/6 [00:10<00:50, 10.15s/it]\u001b[A\n",
      " 33%|████████████████████████████▎                                                        | 2/6 [00:19<00:38,  9.69s/it]\u001b[A\n",
      " 50%|██████████████████████████████████████████▌                                          | 3/6 [00:28<00:28,  9.59s/it]\u001b[A\n",
      " 67%|████████████████████████████████████████████████████████▋                            | 4/6 [00:37<00:18,  9.27s/it]\u001b[A\n",
      " 83%|██████████████████████████████████████████████████████████████████████▊              | 5/6 [00:47<00:09,  9.42s/it]\u001b[A\n",
      "100%|█████████████████████████████████████████████████████████████████████████████████████| 6/6 [00:56<00:00,  9.35s/it]\u001b[A\n"
     ]
    },
    {
     "name": "stdout",
     "output_type": "stream",
     "text": [
      "running row: 8 of 11\n"
     ]
    },
    {
     "name": "stderr",
     "output_type": "stream",
     "text": [
      "\n",
      "  0%|                                                                                             | 0/6 [00:00<?, ?it/s]\u001b[A\n",
      " 17%|██████████████▏                                                                      | 1/6 [00:08<00:44,  8.86s/it]\u001b[A\n",
      " 33%|████████████████████████████▎                                                        | 2/6 [00:18<00:36,  9.18s/it]\u001b[A\n",
      " 50%|██████████████████████████████████████████▌                                          | 3/6 [00:27<00:27,  9.30s/it]\u001b[A\n",
      " 67%|████████████████████████████████████████████████████████▋                            | 4/6 [00:49<00:28, 14.04s/it]\u001b[A\n",
      " 83%|██████████████████████████████████████████████████████████████████████▊              | 5/6 [01:02<00:13, 13.94s/it]\u001b[A\n",
      "100%|█████████████████████████████████████████████████████████████████████████████████████| 6/6 [01:12<00:00, 12.04s/it]\u001b[A\n"
     ]
    },
    {
     "name": "stdout",
     "output_type": "stream",
     "text": [
      "running row: 9 of 11\n"
     ]
    },
    {
     "name": "stderr",
     "output_type": "stream",
     "text": [
      "\n",
      "  0%|                                                                                             | 0/6 [00:00<?, ?it/s]\u001b[A\n",
      " 17%|██████████████▏                                                                      | 1/6 [00:09<00:46,  9.20s/it]\u001b[A\n",
      " 33%|████████████████████████████▎                                                        | 2/6 [00:18<00:36,  9.08s/it]\u001b[A\n",
      " 50%|██████████████████████████████████████████▌                                          | 3/6 [00:27<00:27,  9.30s/it]\u001b[A\n",
      " 67%|████████████████████████████████████████████████████████▋                            | 4/6 [00:37<00:18,  9.41s/it]\u001b[A\n",
      " 83%|██████████████████████████████████████████████████████████████████████▊              | 5/6 [00:46<00:09,  9.44s/it]\u001b[A\n",
      "100%|█████████████████████████████████████████████████████████████████████████████████████| 6/6 [00:57<00:00,  9.59s/it]\u001b[A\n"
     ]
    },
    {
     "name": "stdout",
     "output_type": "stream",
     "text": [
      "running row: 10 of 11\n"
     ]
    },
    {
     "name": "stderr",
     "output_type": "stream",
     "text": [
      "\n",
      "  0%|                                                                                             | 0/6 [00:00<?, ?it/s]\u001b[A\n",
      " 17%|██████████████▏                                                                      | 1/6 [00:10<00:53, 10.61s/it]\u001b[A\n",
      " 33%|████████████████████████████▎                                                        | 2/6 [00:21<00:43, 10.76s/it]\u001b[A\n",
      " 50%|██████████████████████████████████████████▌                                          | 3/6 [00:31<00:31, 10.38s/it]\u001b[A\n",
      " 67%|████████████████████████████████████████████████████████▋                            | 4/6 [00:40<00:20, 10.06s/it]\u001b[A\n",
      " 83%|██████████████████████████████████████████████████████████████████████▊              | 5/6 [00:50<00:10, 10.05s/it]\u001b[A\n",
      "100%|█████████████████████████████████████████████████████████████████████████████████████| 6/6 [01:01<00:00, 10.18s/it]\u001b[A\n"
     ]
    },
    {
     "name": "stdout",
     "output_type": "stream",
     "text": [
      "running row: 11 of 11\n"
     ]
    },
    {
     "name": "stderr",
     "output_type": "stream",
     "text": [
      "\n",
      "  0%|                                                                                             | 0/6 [00:00<?, ?it/s]\u001b[Adistributed.nanny - WARNING - Worker exceeded 95% memory budget. Restarting\n",
      "distributed.nanny - WARNING - Worker exceeded 95% memory budget. Restarting\n",
      "distributed.client - ERROR - Restart timed out after 9.00 seconds\n",
      "\n",
      " 17%|██████████████▏                                                                      | 1/6 [00:28<02:24, 28.84s/it]\u001b[A\n",
      " 33%|████████████████████████████▎                                                        | 2/6 [00:44<01:24, 21.21s/it]\u001b[A\n",
      " 50%|██████████████████████████████████████████▌                                          | 3/6 [00:54<00:47, 15.91s/it]\u001b[A\n",
      " 67%|████████████████████████████████████████████████████████▋                            | 4/6 [01:03<00:26, 13.39s/it]\u001b[A\n",
      " 83%|██████████████████████████████████████████████████████████████████████▊              | 5/6 [01:12<00:11, 11.86s/it]\u001b[A\n",
      "100%|█████████████████████████████████████████████████████████████████████████████████████| 6/6 [01:22<00:00, 13.76s/it]\u001b[A\n"
     ]
    },
    {
     "name": "stdout",
     "output_type": "stream",
     "text": [
      "Pasture-group finished!\n"
     ]
    },
    {
     "name": "stderr",
     "output_type": "stream",
     "text": [
      " 20%|████████████████▊                                                                   | 1/5 [10:36<42:25, 636.38s/it]"
     ]
    },
    {
     "name": "stdout",
     "output_type": "stream",
     "text": [
      "\n",
      "\n",
      "----------\n",
      "Pasture: 29-30\n",
      "running row: 1 of 11\n"
     ]
    },
    {
     "name": "stderr",
     "output_type": "stream",
     "text": [
      "\n",
      "  0%|                                                                                            | 0/17 [00:00<?, ?it/s]\u001b[A\n",
      "  6%|████▉                                                                               | 1/17 [00:07<01:56,  7.31s/it]\u001b[A\n",
      " 12%|█████████▉                                                                          | 2/17 [00:09<01:05,  4.35s/it]\u001b[A\n",
      " 18%|██████████████▊                                                                     | 3/17 [00:11<00:46,  3.36s/it]\u001b[A\n",
      " 24%|███████████████████▊                                                                | 4/17 [00:13<00:37,  2.85s/it]\u001b[A\n",
      " 29%|████████████████████████▋                                                           | 5/17 [00:15<00:31,  2.58s/it]\u001b[A\n",
      " 35%|█████████████████████████████▋                                                      | 6/17 [00:18<00:28,  2.57s/it]\u001b[A\n",
      " 41%|██████████████████████████████████▌                                                 | 7/17 [00:21<00:26,  2.63s/it]\u001b[A\n",
      " 47%|███████████████████████████████████████▌                                            | 8/17 [00:24<00:25,  2.83s/it]\u001b[A\n",
      " 53%|████████████████████████████████████████████▍                                       | 9/17 [00:27<00:23,  2.90s/it]\u001b[A\n",
      " 59%|████████████████████████████████████████████████▊                                  | 10/17 [00:30<00:20,  2.98s/it]\u001b[A\n",
      " 65%|█████████████████████████████████████████████████████▋                             | 11/17 [00:33<00:18,  3.03s/it]\u001b[A\n",
      " 71%|██████████████████████████████████████████████████████████▌                        | 12/17 [00:37<00:15,  3.11s/it]\u001b[A\n",
      " 76%|███████████████████████████████████████████████████████████████▍                   | 13/17 [00:40<00:13,  3.31s/it]\u001b[A\n",
      " 82%|████████████████████████████████████████████████████████████████████▎              | 14/17 [00:44<00:10,  3.38s/it]\u001b[A\n",
      " 88%|█████████████████████████████████████████████████████████████████████████▏         | 15/17 [00:49<00:07,  3.93s/it]\u001b[Adistributed.nanny - WARNING - Worker exceeded 95% memory budget. Restarting\n",
      "distributed.nanny - WARNING - Worker exceeded 95% memory budget. Restarting\n",
      "distributed.client - ERROR - Restart timed out after 9.00 seconds\n",
      "\n",
      " 94%|██████████████████████████████████████████████████████████████████████████████     | 16/17 [01:11<00:09,  9.35s/it]\u001b[A\n",
      "100%|███████████████████████████████████████████████████████████████████████████████████| 17/17 [01:20<00:00,  4.73s/it]\u001b[A\n"
     ]
    },
    {
     "name": "stdout",
     "output_type": "stream",
     "text": [
      "running row: 2 of 11\n"
     ]
    },
    {
     "name": "stderr",
     "output_type": "stream",
     "text": [
      "\n",
      "  0%|                                                                                            | 0/17 [00:00<?, ?it/s]\u001b[A\n",
      "  6%|████▉                                                                               | 1/17 [00:03<00:51,  3.21s/it]\u001b[A\n",
      " 12%|█████████▉                                                                          | 2/17 [00:06<00:48,  3.24s/it]\u001b[A\n",
      " 18%|██████████████▊                                                                     | 3/17 [00:09<00:42,  3.03s/it]\u001b[A\n",
      " 24%|███████████████████▊                                                                | 4/17 [00:12<00:39,  3.06s/it]\u001b[A\n",
      " 29%|████████████████████████▋                                                           | 5/17 [00:15<00:36,  3.03s/it]\u001b[A\n",
      " 35%|█████████████████████████████▋                                                      | 6/17 [00:18<00:33,  3.08s/it]\u001b[A\n",
      " 41%|██████████████████████████████████▌                                                 | 7/17 [00:22<00:35,  3.51s/it]\u001b[A\n",
      " 47%|███████████████████████████████████████▌                                            | 8/17 [00:27<00:33,  3.75s/it]\u001b[A\n",
      " 53%|████████████████████████████████████████████▍                                       | 9/17 [00:31<00:31,  3.89s/it]\u001b[A\n",
      " 59%|████████████████████████████████████████████████▊                                  | 10/17 [00:35<00:27,  3.86s/it]\u001b[A\n",
      " 65%|█████████████████████████████████████████████████████▋                             | 11/17 [00:39<00:23,  3.92s/it]\u001b[A\n",
      " 71%|██████████████████████████████████████████████████████████▌                        | 12/17 [00:43<00:19,  3.96s/it]\u001b[A\n",
      " 76%|███████████████████████████████████████████████████████████████▍                   | 13/17 [00:46<00:15,  3.84s/it]\u001b[Adistributed.nanny - WARNING - Worker exceeded 95% memory budget. Restarting\n",
      "distributed.client - ERROR - Restart timed out after 9.00 seconds\n",
      "\n",
      " 82%|████████████████████████████████████████████████████████████████████▎              | 14/17 [01:09<00:28,  9.53s/it]\u001b[A\n",
      " 88%|█████████████████████████████████████████████████████████████████████████▏         | 15/17 [01:19<00:19,  9.82s/it]\u001b[A\n",
      " 94%|██████████████████████████████████████████████████████████████████████████████     | 16/17 [01:24<00:08,  8.10s/it]\u001b[A\n",
      "100%|███████████████████████████████████████████████████████████████████████████████████| 17/17 [01:29<00:00,  5.25s/it]\u001b[A\n"
     ]
    },
    {
     "name": "stdout",
     "output_type": "stream",
     "text": [
      "running row: 3 of 11\n"
     ]
    },
    {
     "name": "stderr",
     "output_type": "stream",
     "text": [
      "\n",
      "  0%|                                                                                            | 0/17 [00:00<?, ?it/s]\u001b[A\n",
      "  6%|████▉                                                                               | 1/17 [00:04<01:18,  4.88s/it]\u001b[A\n",
      " 12%|█████████▉                                                                          | 2/17 [00:09<01:08,  4.59s/it]\u001b[A\n",
      " 18%|██████████████▊                                                                     | 3/17 [00:13<01:02,  4.48s/it]\u001b[A\n",
      " 24%|███████████████████▊                                                                | 4/17 [00:17<00:57,  4.43s/it]\u001b[A\n",
      " 29%|████████████████████████▋                                                           | 5/17 [00:21<00:50,  4.21s/it]\u001b[A\n",
      " 35%|█████████████████████████████▋                                                      | 6/17 [00:26<00:46,  4.25s/it]\u001b[A\n",
      " 41%|██████████████████████████████████▌                                                 | 7/17 [00:30<00:44,  4.43s/it]\u001b[A\n",
      " 47%|███████████████████████████████████████▌                                            | 8/17 [00:34<00:37,  4.18s/it]\u001b[A\n",
      " 53%|████████████████████████████████████████████▍                                       | 9/17 [00:39<00:34,  4.27s/it]\u001b[A\n",
      " 59%|████████████████████████████████████████████████▊                                  | 10/17 [00:43<00:31,  4.44s/it]\u001b[A\n",
      " 65%|█████████████████████████████████████████████████████▋                             | 11/17 [00:48<00:26,  4.49s/it]\u001b[Adistributed.nanny - WARNING - Worker exceeded 95% memory budget. Restarting\n",
      "distributed.client - ERROR - Restart timed out after 9.00 seconds\n",
      "\n",
      " 71%|██████████████████████████████████████████████████████████▌                        | 12/17 [01:11<00:50, 10.15s/it]\u001b[A\n",
      " 76%|███████████████████████████████████████████████████████████████▍                   | 13/17 [01:21<00:39,  9.98s/it]\u001b[A\n",
      " 82%|████████████████████████████████████████████████████████████████████▎              | 14/17 [01:24<00:24,  8.07s/it]\u001b[A\n",
      " 88%|█████████████████████████████████████████████████████████████████████████▏         | 15/17 [01:28<00:13,  6.73s/it]\u001b[A\n",
      " 94%|██████████████████████████████████████████████████████████████████████████████     | 16/17 [01:32<00:05,  5.81s/it]\u001b[A\n",
      "100%|███████████████████████████████████████████████████████████████████████████████████| 17/17 [01:35<00:00,  5.65s/it]\u001b[A\n"
     ]
    },
    {
     "name": "stdout",
     "output_type": "stream",
     "text": [
      "running row: 4 of 11\n"
     ]
    },
    {
     "name": "stderr",
     "output_type": "stream",
     "text": [
      "\n",
      "  0%|                                                                                            | 0/17 [00:00<?, ?it/s]\u001b[A\n",
      "  6%|████▉                                                                               | 1/17 [00:04<01:08,  4.29s/it]\u001b[A\n",
      " 12%|█████████▉                                                                          | 2/17 [00:09<01:09,  4.64s/it]\u001b[A\n",
      " 18%|██████████████▊                                                                     | 3/17 [00:14<01:08,  4.91s/it]\u001b[A\n",
      " 24%|███████████████████▊                                                                | 4/17 [00:19<01:03,  4.91s/it]\u001b[A\n",
      " 29%|████████████████████████▋                                                           | 5/17 [00:24<00:59,  4.96s/it]\u001b[A\n",
      " 35%|█████████████████████████████▋                                                      | 6/17 [00:29<00:54,  4.97s/it]\u001b[A\n",
      " 41%|██████████████████████████████████▌                                                 | 7/17 [00:33<00:47,  4.80s/it]\u001b[A\n",
      " 47%|███████████████████████████████████████▌                                            | 8/17 [00:37<00:41,  4.57s/it]\u001b[A\n",
      " 53%|████████████████████████████████████████████▍                                       | 9/17 [00:42<00:36,  4.54s/it]\u001b[A\n",
      " 59%|████████████████████████████████████████████████▊                                  | 10/17 [00:59<00:59,  8.54s/it]\u001b[A\n",
      " 65%|█████████████████████████████████████████████████████▋                             | 11/17 [01:08<00:52,  8.72s/it]\u001b[A\n",
      " 71%|██████████████████████████████████████████████████████████▌                        | 12/17 [01:14<00:38,  7.67s/it]\u001b[A\n",
      " 76%|███████████████████████████████████████████████████████████████▍                   | 13/17 [01:19<00:28,  7.03s/it]\u001b[A\n",
      " 82%|████████████████████████████████████████████████████████████████████▎              | 14/17 [01:25<00:20,  6.71s/it]\u001b[A\n",
      " 88%|█████████████████████████████████████████████████████████████████████████▏         | 15/17 [01:31<00:13,  6.52s/it]\u001b[A\n",
      " 94%|██████████████████████████████████████████████████████████████████████████████     | 16/17 [01:37<00:06,  6.17s/it]\u001b[A\n",
      "100%|███████████████████████████████████████████████████████████████████████████████████| 17/17 [01:42<00:00,  6.03s/it]\u001b[A\n"
     ]
    },
    {
     "name": "stdout",
     "output_type": "stream",
     "text": [
      "running row: 5 of 11\n"
     ]
    },
    {
     "name": "stderr",
     "output_type": "stream",
     "text": [
      "\n",
      "  0%|                                                                                            | 0/17 [00:00<?, ?it/s]\u001b[A\n",
      "  6%|████▉                                                                               | 1/17 [00:05<01:26,  5.38s/it]\u001b[A\n",
      " 12%|█████████▉                                                                          | 2/17 [00:10<01:15,  5.04s/it]\u001b[A\n",
      " 18%|██████████████▊                                                                     | 3/17 [00:14<01:07,  4.79s/it]\u001b[A\n",
      " 24%|███████████████████▊                                                                | 4/17 [00:20<01:05,  5.04s/it]\u001b[A\n",
      " 29%|████████████████████████▋                                                           | 5/17 [00:25<01:02,  5.17s/it]\u001b[A\n",
      " 35%|█████████████████████████████▋                                                      | 6/17 [00:30<00:56,  5.11s/it]\u001b[A\n",
      " 41%|██████████████████████████████████▌                                                 | 7/17 [00:35<00:49,  4.95s/it]\u001b[A\n",
      " 47%|███████████████████████████████████████▌                                            | 8/17 [00:52<01:19,  8.89s/it]\u001b[Adistributed.utils_perf - WARNING - full garbage collections took 14% CPU time recently (threshold: 10%)\n",
      "\n",
      " 53%|████████████████████████████████████████████▍                                       | 9/17 [01:01<01:12,  9.09s/it]\u001b[Adistributed.utils_perf - WARNING - full garbage collections took 14% CPU time recently (threshold: 10%)\n",
      "\n",
      " 59%|████████████████████████████████████████████████▊                                  | 10/17 [01:06<00:54,  7.78s/it]\u001b[Adistributed.utils_perf - WARNING - full garbage collections took 14% CPU time recently (threshold: 10%)\n",
      "\n",
      " 65%|█████████████████████████████████████████████████████▋                             | 11/17 [01:11<00:41,  6.91s/it]\u001b[Adistributed.utils_perf - WARNING - full garbage collections took 13% CPU time recently (threshold: 10%)\n",
      "\n",
      " 71%|██████████████████████████████████████████████████████████▌                        | 12/17 [01:18<00:33,  6.79s/it]\u001b[Adistributed.utils_perf - WARNING - full garbage collections took 13% CPU time recently (threshold: 10%)\n",
      "\n",
      " 76%|███████████████████████████████████████████████████████████████▍                   | 13/17 [01:24<00:26,  6.51s/it]\u001b[Adistributed.utils_perf - WARNING - full garbage collections took 13% CPU time recently (threshold: 10%)\n",
      "\n",
      " 82%|████████████████████████████████████████████████████████████████████▎              | 14/17 [01:29<00:18,  6.14s/it]\u001b[Adistributed.utils_perf - WARNING - full garbage collections took 13% CPU time recently (threshold: 10%)\n",
      "\n",
      " 88%|█████████████████████████████████████████████████████████████████████████▏         | 15/17 [01:34<00:11,  5.84s/it]\u001b[Adistributed.utils_perf - WARNING - full garbage collections took 13% CPU time recently (threshold: 10%)\n",
      "\n",
      " 94%|██████████████████████████████████████████████████████████████████████████████     | 16/17 [01:40<00:06,  6.02s/it]\u001b[Adistributed.utils_perf - WARNING - full garbage collections took 13% CPU time recently (threshold: 10%)\n",
      "\n",
      "100%|███████████████████████████████████████████████████████████████████████████████████| 17/17 [01:46<00:00,  6.25s/it]\u001b[A\n"
     ]
    },
    {
     "name": "stdout",
     "output_type": "stream",
     "text": [
      "running row: 6 of 11\n"
     ]
    },
    {
     "name": "stderr",
     "output_type": "stream",
     "text": [
      "\n",
      "  0%|                                                                                            | 0/17 [00:00<?, ?it/s]\u001b[Adistributed.utils_perf - WARNING - full garbage collections took 13% CPU time recently (threshold: 10%)\n",
      "\n",
      "  6%|████▉                                                                               | 1/17 [00:05<01:27,  5.47s/it]\u001b[Adistributed.utils_perf - WARNING - full garbage collections took 13% CPU time recently (threshold: 10%)\n",
      "\n",
      " 12%|█████████▉                                                                          | 2/17 [00:10<01:18,  5.23s/it]\u001b[Adistributed.utils_perf - WARNING - full garbage collections took 13% CPU time recently (threshold: 10%)\n",
      "\n",
      " 18%|██████████████▊                                                                     | 3/17 [00:15<01:13,  5.27s/it]\u001b[Adistributed.utils_perf - WARNING - full garbage collections took 13% CPU time recently (threshold: 10%)\n",
      "\n",
      " 24%|███████████████████▊                                                                | 4/17 [00:21<01:08,  5.30s/it]\u001b[Adistributed.utils_perf - WARNING - full garbage collections took 13% CPU time recently (threshold: 10%)\n",
      "\n",
      " 29%|████████████████████████▋                                                           | 5/17 [00:27<01:06,  5.54s/it]\u001b[Adistributed.utils_perf - WARNING - full garbage collections took 13% CPU time recently (threshold: 10%)\n",
      "\n",
      " 35%|█████████████████████████████▋                                                      | 6/17 [00:44<01:46,  9.65s/it]\u001b[Adistributed.utils_perf - WARNING - full garbage collections took 13% CPU time recently (threshold: 10%)\n",
      "\n",
      " 41%|██████████████████████████████████▌                                                 | 7/17 [00:54<01:37,  9.75s/it]\u001b[Adistributed.utils_perf - WARNING - full garbage collections took 13% CPU time recently (threshold: 10%)\n",
      "\n",
      " 47%|███████████████████████████████████████▌                                            | 8/17 [00:59<01:13,  8.21s/it]\u001b[Adistributed.utils_perf - WARNING - full garbage collections took 13% CPU time recently (threshold: 10%)\n",
      "\n",
      " 53%|████████████████████████████████████████████▍                                       | 9/17 [01:04<00:58,  7.31s/it]\u001b[Adistributed.utils_perf - WARNING - full garbage collections took 13% CPU time recently (threshold: 10%)\n",
      "\n",
      " 59%|████████████████████████████████████████████████▊                                  | 10/17 [01:10<00:47,  6.78s/it]\u001b[Adistributed.utils_perf - WARNING - full garbage collections took 13% CPU time recently (threshold: 10%)\n",
      "\n",
      " 65%|█████████████████████████████████████████████████████▋                             | 11/17 [01:17<00:40,  6.71s/it]\u001b[Adistributed.utils_perf - WARNING - full garbage collections took 13% CPU time recently (threshold: 10%)\n",
      "\n",
      " 71%|██████████████████████████████████████████████████████████▌                        | 12/17 [01:23<00:32,  6.54s/it]\u001b[Adistributed.utils_perf - WARNING - full garbage collections took 13% CPU time recently (threshold: 10%)\n",
      "\n",
      " 76%|███████████████████████████████████████████████████████████████▍                   | 13/17 [01:28<00:24,  6.22s/it]\u001b[Adistributed.utils_perf - WARNING - full garbage collections took 13% CPU time recently (threshold: 10%)\n",
      "\n",
      " 82%|████████████████████████████████████████████████████████████████████▎              | 14/17 [01:34<00:18,  6.08s/it]\u001b[Adistributed.utils_perf - WARNING - full garbage collections took 13% CPU time recently (threshold: 10%)\n",
      "\n",
      " 88%|█████████████████████████████████████████████████████████████████████████▏         | 15/17 [01:40<00:12,  6.14s/it]\u001b[Adistributed.utils_perf - WARNING - full garbage collections took 13% CPU time recently (threshold: 10%)\n",
      "\n",
      " 94%|██████████████████████████████████████████████████████████████████████████████     | 16/17 [01:46<00:06,  6.05s/it]\u001b[Adistributed.utils_perf - WARNING - full garbage collections took 13% CPU time recently (threshold: 10%)\n",
      "\n",
      "100%|███████████████████████████████████████████████████████████████████████████████████| 17/17 [01:52<00:00,  6.60s/it]\u001b[A\n"
     ]
    },
    {
     "name": "stdout",
     "output_type": "stream",
     "text": [
      "running row: 7 of 11\n"
     ]
    },
    {
     "name": "stderr",
     "output_type": "stream",
     "text": [
      "\n",
      "  0%|                                                                                            | 0/17 [00:00<?, ?it/s]\u001b[Adistributed.utils_perf - WARNING - full garbage collections took 13% CPU time recently (threshold: 10%)\n",
      "\n",
      "  6%|████▉                                                                               | 1/17 [00:05<01:30,  5.63s/it]\u001b[Adistributed.utils_perf - WARNING - full garbage collections took 13% CPU time recently (threshold: 10%)\n",
      "\n",
      " 12%|█████████▉                                                                          | 2/17 [00:11<01:24,  5.65s/it]\u001b[Adistributed.utils_perf - WARNING - full garbage collections took 13% CPU time recently (threshold: 10%)\n",
      "\n",
      " 18%|██████████████▊                                                                     | 3/17 [00:17<01:25,  6.12s/it]\u001b[Adistributed.utils_perf - WARNING - full garbage collections took 13% CPU time recently (threshold: 10%)\n",
      "distributed.nanny - WARNING - Worker exceeded 95% memory budget. Restarting\n",
      "distributed.client - ERROR - Restart timed out after 9.00 seconds\n",
      "\n",
      " 24%|███████████████████▊                                                                | 4/17 [00:42<02:56, 13.55s/it]\u001b[A\n",
      " 29%|████████████████████████▋                                                           | 5/17 [00:53<02:31, 12.65s/it]\u001b[A\n",
      " 35%|█████████████████████████████▋                                                      | 6/17 [00:59<01:51, 10.12s/it]\u001b[A\n",
      " 41%|██████████████████████████████████▌                                                 | 7/17 [01:04<01:25,  8.58s/it]\u001b[A\n",
      " 47%|███████████████████████████████████████▌                                            | 8/17 [01:09<01:07,  7.50s/it]\u001b[A\n",
      " 53%|████████████████████████████████████████████▍                                       | 9/17 [01:15<00:54,  6.84s/it]\u001b[A\n",
      " 59%|████████████████████████████████████████████████▊                                  | 10/17 [01:20<00:44,  6.34s/it]\u001b[A\n",
      " 65%|█████████████████████████████████████████████████████▋                             | 11/17 [01:25<00:36,  6.01s/it]\u001b[A\n",
      " 71%|██████████████████████████████████████████████████████████▌                        | 12/17 [01:32<00:31,  6.39s/it]\u001b[A\n",
      " 76%|███████████████████████████████████████████████████████████████▍                   | 13/17 [01:39<00:25,  6.41s/it]\u001b[A\n",
      " 82%|████████████████████████████████████████████████████████████████████▎              | 14/17 [01:45<00:18,  6.23s/it]\u001b[A\n",
      " 88%|█████████████████████████████████████████████████████████████████████████▏         | 15/17 [01:51<00:12,  6.11s/it]\u001b[A\n",
      " 94%|██████████████████████████████████████████████████████████████████████████████     | 16/17 [01:57<00:06,  6.07s/it]\u001b[A\n",
      "100%|███████████████████████████████████████████████████████████████████████████████████| 17/17 [02:02<00:00,  7.22s/it]\u001b[A\n"
     ]
    },
    {
     "name": "stdout",
     "output_type": "stream",
     "text": [
      "running row: 8 of 11\n"
     ]
    },
    {
     "name": "stderr",
     "output_type": "stream",
     "text": [
      "\n",
      "  0%|                                                                                            | 0/17 [00:00<?, ?it/s]\u001b[A\n",
      "  6%|████▉                                                                               | 1/17 [00:06<01:38,  6.13s/it]\u001b[A\n",
      " 12%|█████████▉                                                                          | 2/17 [00:24<03:17, 13.19s/it]\u001b[A\n",
      " 18%|██████████████▊                                                                     | 3/17 [00:34<02:46, 11.90s/it]\u001b[A\n",
      " 24%|███████████████████▊                                                                | 4/17 [00:40<02:03,  9.52s/it]\u001b[A\n",
      " 29%|████████████████████████▋                                                           | 5/17 [00:46<01:37,  8.15s/it]\u001b[A\n",
      " 35%|█████████████████████████████▋                                                      | 6/17 [00:51<01:19,  7.26s/it]\u001b[A\n",
      " 41%|██████████████████████████████████▌                                                 | 7/17 [00:58<01:11,  7.16s/it]\u001b[A\n",
      " 47%|███████████████████████████████████████▌                                            | 8/17 [01:05<01:02,  6.98s/it]\u001b[A\n",
      " 53%|████████████████████████████████████████████▍                                       | 9/17 [01:11<00:53,  6.63s/it]\u001b[A\n",
      " 59%|████████████████████████████████████████████████▊                                  | 10/17 [01:17<00:45,  6.46s/it]\u001b[A\n",
      " 65%|█████████████████████████████████████████████████████▋                             | 11/17 [01:23<00:38,  6.40s/it]\u001b[A\n",
      " 71%|██████████████████████████████████████████████████████████▌                        | 12/17 [01:29<00:31,  6.27s/it]\u001b[A\n",
      " 76%|███████████████████████████████████████████████████████████████▍                   | 13/17 [01:36<00:25,  6.42s/it]\u001b[A\n",
      " 82%|████████████████████████████████████████████████████████████████████▎              | 14/17 [01:42<00:18,  6.32s/it]\u001b[A\n",
      " 88%|█████████████████████████████████████████████████████████████████████████▏         | 15/17 [01:48<00:12,  6.41s/it]\u001b[A\n",
      " 94%|██████████████████████████████████████████████████████████████████████████████     | 16/17 [01:54<00:06,  6.28s/it]\u001b[Adistributed.nanny - WARNING - Worker exceeded 95% memory budget. Restarting\n",
      "distributed.client - ERROR - Restart timed out after 9.00 seconds\n",
      "\n",
      "100%|███████████████████████████████████████████████████████████████████████████████████| 17/17 [02:20<00:00,  8.24s/it]\u001b[A\n"
     ]
    },
    {
     "name": "stdout",
     "output_type": "stream",
     "text": [
      "running row: 9 of 11\n"
     ]
    },
    {
     "name": "stderr",
     "output_type": "stream",
     "text": [
      "\n",
      "  0%|                                                                                            | 0/17 [00:00<?, ?it/s]\u001b[A\n",
      "  6%|████▉                                                                               | 1/17 [00:12<03:20, 12.56s/it]\u001b[A\n",
      " 12%|█████████▉                                                                          | 2/17 [00:18<02:08,  8.54s/it]\u001b[A\n",
      " 18%|██████████████▊                                                                     | 3/17 [00:24<01:41,  7.28s/it]\u001b[A\n",
      " 24%|███████████████████▊                                                                | 4/17 [00:29<01:27,  6.74s/it]\u001b[A\n",
      " 29%|████████████████████████▋                                                           | 5/17 [00:35<01:17,  6.47s/it]\u001b[A\n",
      " 35%|█████████████████████████████▋                                                      | 6/17 [00:41<01:08,  6.25s/it]\u001b[A\n",
      " 41%|██████████████████████████████████▌                                                 | 7/17 [00:47<01:00,  6.03s/it]\u001b[A\n",
      " 47%|███████████████████████████████████████▌                                            | 8/17 [00:53<00:53,  5.98s/it]\u001b[A\n",
      " 53%|████████████████████████████████████████████▍                                       | 9/17 [01:00<00:50,  6.25s/it]\u001b[A\n",
      " 59%|████████████████████████████████████████████████▊                                  | 10/17 [01:07<00:46,  6.69s/it]\u001b[A\n",
      " 65%|█████████████████████████████████████████████████████▋                             | 11/17 [01:14<00:39,  6.58s/it]\u001b[A\n",
      " 71%|██████████████████████████████████████████████████████████▌                        | 12/17 [01:20<00:32,  6.44s/it]\u001b[A\n",
      " 76%|███████████████████████████████████████████████████████████████▍                   | 13/17 [01:26<00:26,  6.53s/it]\u001b[A\n",
      " 82%|████████████████████████████████████████████████████████████████████▎              | 14/17 [01:33<00:19,  6.54s/it]\u001b[Adistributed.nanny - WARNING - Worker exceeded 95% memory budget. Restarting\n",
      "distributed.client - ERROR - Restart timed out after 9.00 seconds\n",
      "\n",
      " 88%|█████████████████████████████████████████████████████████████████████████▏         | 15/17 [01:59<00:24, 12.35s/it]\u001b[A\n",
      " 94%|██████████████████████████████████████████████████████████████████████████████     | 16/17 [02:11<00:12, 12.29s/it]\u001b[A\n",
      "100%|███████████████████████████████████████████████████████████████████████████████████| 17/17 [02:17<00:00,  8.09s/it]\u001b[A\n"
     ]
    },
    {
     "name": "stdout",
     "output_type": "stream",
     "text": [
      "running row: 10 of 11\n"
     ]
    },
    {
     "name": "stderr",
     "output_type": "stream",
     "text": [
      "\n",
      "  0%|                                                                                            | 0/17 [00:00<?, ?it/s]\u001b[A\n",
      "  6%|████▉                                                                               | 1/17 [00:06<01:46,  6.66s/it]\u001b[A\n",
      " 12%|█████████▉                                                                          | 2/17 [00:12<01:34,  6.31s/it]\u001b[A\n",
      " 18%|██████████████▊                                                                     | 3/17 [00:18<01:27,  6.21s/it]\u001b[A\n",
      " 24%|███████████████████▊                                                                | 4/17 [00:25<01:21,  6.25s/it]\u001b[A\n",
      " 29%|████████████████████████▋                                                           | 5/17 [00:31<01:14,  6.20s/it]\u001b[A\n",
      " 35%|█████████████████████████████▋                                                      | 6/17 [00:37<01:07,  6.18s/it]\u001b[A\n",
      " 41%|██████████████████████████████████▌                                                 | 7/17 [00:43<01:01,  6.10s/it]\u001b[A\n",
      " 47%|███████████████████████████████████████▌                                            | 8/17 [00:51<01:00,  6.68s/it]\u001b[A\n",
      " 53%|████████████████████████████████████████████▍                                       | 9/17 [00:58<00:54,  6.82s/it]\u001b[A\n",
      " 59%|████████████████████████████████████████████████▊                                  | 10/17 [01:05<00:47,  6.82s/it]\u001b[A\n",
      " 65%|█████████████████████████████████████████████████████▋                             | 11/17 [01:11<00:40,  6.78s/it]\u001b[A\n",
      " 71%|██████████████████████████████████████████████████████████▌                        | 12/17 [01:18<00:33,  6.75s/it]\u001b[Adistributed.nanny - WARNING - Worker exceeded 95% memory budget. Restarting\n",
      "distributed.client - ERROR - Restart timed out after 9.00 seconds\n",
      "\n",
      " 76%|███████████████████████████████████████████████████████████████▍                   | 13/17 [01:44<00:49, 12.46s/it]\u001b[A\n",
      " 82%|████████████████████████████████████████████████████████████████████▎              | 14/17 [01:56<00:37, 12.43s/it]\u001b[A\n",
      " 88%|█████████████████████████████████████████████████████████████████████████▏         | 15/17 [02:02<00:21, 10.61s/it]\u001b[A\n",
      " 94%|██████████████████████████████████████████████████████████████████████████████     | 16/17 [02:09<00:09,  9.37s/it]\u001b[A\n",
      "100%|███████████████████████████████████████████████████████████████████████████████████| 17/17 [02:16<00:00,  8.01s/it]\u001b[A\n"
     ]
    },
    {
     "name": "stdout",
     "output_type": "stream",
     "text": [
      "running row: 11 of 11\n"
     ]
    },
    {
     "name": "stderr",
     "output_type": "stream",
     "text": [
      "\n",
      "  0%|                                                                                            | 0/17 [00:00<?, ?it/s]\u001b[A\n",
      "  6%|████▉                                                                               | 1/17 [00:07<01:53,  7.12s/it]\u001b[A\n",
      " 12%|█████████▉                                                                          | 2/17 [00:13<01:42,  6.83s/it]\u001b[A\n",
      " 18%|██████████████▊                                                                     | 3/17 [00:20<01:34,  6.72s/it]\u001b[A\n",
      " 24%|███████████████████▊                                                                | 4/17 [00:27<01:27,  6.71s/it]\u001b[A\n",
      " 29%|████████████████████████▋                                                           | 5/17 [00:33<01:19,  6.65s/it]\u001b[A\n",
      " 35%|█████████████████████████████▋                                                      | 6/17 [00:41<01:17,  7.07s/it]\u001b[A\n",
      " 41%|██████████████████████████████████▌                                                 | 7/17 [00:49<01:12,  7.27s/it]\u001b[A\n",
      " 47%|███████████████████████████████████████▌                                            | 8/17 [00:55<01:03,  7.10s/it]\u001b[A\n",
      " 53%|████████████████████████████████████████████▍                                       | 9/17 [01:02<00:55,  6.98s/it]\u001b[A\n",
      " 59%|████████████████████████████████████████████████▊                                  | 10/17 [01:09<00:48,  6.96s/it]\u001b[A\n",
      " 65%|█████████████████████████████████████████████████████▋                             | 11/17 [01:28<01:03, 10.60s/it]\u001b[A\n",
      " 71%|██████████████████████████████████████████████████████████▌                        | 12/17 [01:40<00:55, 11.11s/it]\u001b[A\n",
      " 76%|███████████████████████████████████████████████████████████████▍                   | 13/17 [01:47<00:39,  9.78s/it]\u001b[A\n",
      " 82%|████████████████████████████████████████████████████████████████████▎              | 14/17 [01:54<00:26,  8.89s/it]\u001b[A\n",
      " 88%|█████████████████████████████████████████████████████████████████████████▏         | 15/17 [02:01<00:16,  8.31s/it]\u001b[A\n",
      " 94%|██████████████████████████████████████████████████████████████████████████████     | 16/17 [02:08<00:07,  7.89s/it]\u001b[A\n",
      "100%|███████████████████████████████████████████████████████████████████████████████████| 17/17 [02:14<00:00,  7.93s/it]\u001b[A\n"
     ]
    },
    {
     "name": "stdout",
     "output_type": "stream",
     "text": [
      "Pasture-group finished!\n"
     ]
    },
    {
     "name": "stderr",
     "output_type": "stream",
     "text": [
      " 40%|█████████████████████████████████▏                                                 | 2/5 [31:46<50:26, 1008.95s/it]"
     ]
    },
    {
     "name": "stdout",
     "output_type": "stream",
     "text": [
      "\n",
      "\n",
      "----------\n",
      "Pasture: 22W\n",
      "running row: 1 of 11\n"
     ]
    },
    {
     "name": "stderr",
     "output_type": "stream",
     "text": [
      "\n",
      "  0%|                                                                                             | 0/6 [00:00<?, ?it/s]\u001b[A\n",
      " 17%|██████████████▏                                                                      | 1/6 [00:10<00:54, 10.96s/it]\u001b[A\n",
      " 33%|████████████████████████████▎                                                        | 2/6 [00:15<00:27,  6.96s/it]\u001b[A\n",
      " 50%|██████████████████████████████████████████▌                                          | 3/6 [00:19<00:17,  5.95s/it]\u001b[A\n",
      " 67%|████████████████████████████████████████████████████████▋                            | 4/6 [00:24<00:10,  5.33s/it]\u001b[A\n",
      " 83%|██████████████████████████████████████████████████████████████████████▊              | 5/6 [00:28<00:05,  5.08s/it]\u001b[A\n",
      "100%|█████████████████████████████████████████████████████████████████████████████████████| 6/6 [00:33<00:00,  5.59s/it]\u001b[A\n"
     ]
    },
    {
     "name": "stdout",
     "output_type": "stream",
     "text": [
      "running row: 2 of 11\n"
     ]
    },
    {
     "name": "stderr",
     "output_type": "stream",
     "text": [
      "\n",
      "  0%|                                                                                             | 0/6 [00:00<?, ?it/s]\u001b[A\n",
      " 17%|██████████████▏                                                                      | 1/6 [00:05<00:29,  5.91s/it]\u001b[A\n",
      " 33%|████████████████████████████▎                                                        | 2/6 [00:12<00:25,  6.49s/it]\u001b[A\n",
      " 50%|██████████████████████████████████████████▌                                          | 3/6 [00:18<00:18,  6.04s/it]\u001b[Adistributed.utils_perf - WARNING - full garbage collections took 15% CPU time recently (threshold: 10%)\n",
      "\n",
      " 67%|████████████████████████████████████████████████████████▋                            | 4/6 [00:24<00:12,  6.14s/it]\u001b[Adistributed.utils_perf - WARNING - full garbage collections took 15% CPU time recently (threshold: 10%)\n",
      "\n",
      " 83%|██████████████████████████████████████████████████████████████████████▊              | 5/6 [00:30<00:06,  6.03s/it]\u001b[Adistributed.utils_perf - WARNING - full garbage collections took 15% CPU time recently (threshold: 10%)\n",
      "\n",
      "100%|█████████████████████████████████████████████████████████████████████████████████████| 6/6 [00:36<00:00,  6.07s/it]\u001b[A\n"
     ]
    },
    {
     "name": "stdout",
     "output_type": "stream",
     "text": [
      "running row: 3 of 11\n"
     ]
    },
    {
     "name": "stderr",
     "output_type": "stream",
     "text": [
      "\n",
      "  0%|                                                                                             | 0/6 [00:00<?, ?it/s]\u001b[Adistributed.utils_perf - WARNING - full garbage collections took 15% CPU time recently (threshold: 10%)\n",
      "\n",
      " 17%|██████████████▏                                                                      | 1/6 [00:06<00:32,  6.49s/it]\u001b[Adistributed.utils_perf - WARNING - full garbage collections took 15% CPU time recently (threshold: 10%)\n",
      "\n",
      " 33%|████████████████████████████▎                                                        | 2/6 [00:12<00:23,  5.99s/it]\u001b[Adistributed.utils_perf - WARNING - full garbage collections took 15% CPU time recently (threshold: 10%)\n",
      "\n",
      " 50%|██████████████████████████████████████████▌                                          | 3/6 [00:18<00:18,  6.15s/it]\u001b[Adistributed.utils_perf - WARNING - full garbage collections took 15% CPU time recently (threshold: 10%)\n",
      "distributed.nanny - WARNING - Worker exceeded 95% memory budget. Restarting\n",
      "distributed.client - ERROR - Restart timed out after 9.00 seconds\n",
      "\n",
      " 67%|████████████████████████████████████████████████████████▋                            | 4/6 [00:44<00:28, 14.08s/it]\u001b[A\n",
      " 83%|██████████████████████████████████████████████████████████████████████▊              | 5/6 [00:58<00:13, 13.82s/it]\u001b[A\n",
      "100%|█████████████████████████████████████████████████████████████████████████████████████| 6/6 [01:04<00:00, 10.73s/it]\u001b[A\n"
     ]
    },
    {
     "name": "stdout",
     "output_type": "stream",
     "text": [
      "running row: 4 of 11\n"
     ]
    },
    {
     "name": "stderr",
     "output_type": "stream",
     "text": [
      "\n",
      "  0%|                                                                                             | 0/6 [00:00<?, ?it/s]\u001b[A\n",
      " 17%|██████████████▏                                                                      | 1/6 [00:06<00:30,  6.07s/it]\u001b[A\n",
      " 33%|████████████████████████████▎                                                        | 2/6 [00:12<00:24,  6.06s/it]\u001b[A\n",
      " 50%|██████████████████████████████████████████▌                                          | 3/6 [00:18<00:18,  6.11s/it]\u001b[A\n",
      " 67%|████████████████████████████████████████████████████████▋                            | 4/6 [00:24<00:12,  6.13s/it]\u001b[A\n",
      " 83%|██████████████████████████████████████████████████████████████████████▊              | 5/6 [00:31<00:06,  6.33s/it]\u001b[A\n",
      "100%|█████████████████████████████████████████████████████████████████████████████████████| 6/6 [00:37<00:00,  6.27s/it]\u001b[A\n"
     ]
    },
    {
     "name": "stdout",
     "output_type": "stream",
     "text": [
      "running row: 5 of 11\n"
     ]
    },
    {
     "name": "stderr",
     "output_type": "stream",
     "text": [
      "\n",
      "  0%|                                                                                             | 0/6 [00:00<?, ?it/s]\u001b[A\n",
      " 17%|██████████████▏                                                                      | 1/6 [00:06<00:31,  6.25s/it]\u001b[A\n",
      " 33%|████████████████████████████▎                                                        | 2/6 [00:12<00:25,  6.39s/it]\u001b[A\n",
      " 50%|██████████████████████████████████████████▌                                          | 3/6 [00:19<00:19,  6.56s/it]\u001b[A\n",
      " 67%|████████████████████████████████████████████████████████▋                            | 4/6 [00:26<00:13,  6.86s/it]\u001b[A\n",
      " 83%|██████████████████████████████████████████████████████████████████████▊              | 5/6 [00:34<00:07,  7.06s/it]\u001b[A\n",
      "100%|█████████████████████████████████████████████████████████████████████████████████████| 6/6 [00:41<00:00,  6.91s/it]\u001b[A\n"
     ]
    },
    {
     "name": "stdout",
     "output_type": "stream",
     "text": [
      "running row: 6 of 11\n"
     ]
    },
    {
     "name": "stderr",
     "output_type": "stream",
     "text": [
      "\n",
      "  0%|                                                                                             | 0/6 [00:00<?, ?it/s]\u001b[Adistributed.nanny - WARNING - Worker exceeded 95% memory budget. Restarting\n",
      "distributed.client - ERROR - Restart timed out after 9.00 seconds\n",
      "\n",
      " 17%|██████████████▏                                                                      | 1/6 [00:26<02:12, 26.56s/it]\u001b[A\n",
      " 33%|████████████████████████████▎                                                        | 2/6 [00:41<01:19, 20.00s/it]\u001b[A\n",
      " 50%|██████████████████████████████████████████▌                                          | 3/6 [00:50<00:44, 14.75s/it]\u001b[A\n",
      " 67%|████████████████████████████████████████████████████████▋                            | 4/6 [00:58<00:24, 12.22s/it]\u001b[A\n",
      " 83%|██████████████████████████████████████████████████████████████████████▊              | 5/6 [01:07<00:10, 10.86s/it]\u001b[A\n",
      "100%|█████████████████████████████████████████████████████████████████████████████████████| 6/6 [01:16<00:00, 12.68s/it]\u001b[A\n"
     ]
    },
    {
     "name": "stdout",
     "output_type": "stream",
     "text": [
      "running row: 7 of 11\n"
     ]
    },
    {
     "name": "stderr",
     "output_type": "stream",
     "text": [
      "\n",
      "  0%|                                                                                             | 0/6 [00:00<?, ?it/s]\u001b[A\n",
      " 17%|██████████████▏                                                                      | 1/6 [00:09<00:45,  9.12s/it]\u001b[A\n",
      " 33%|████████████████████████████▎                                                        | 2/6 [00:18<00:36,  9.14s/it]\u001b[A\n",
      " 50%|██████████████████████████████████████████▌                                          | 3/6 [00:27<00:27,  9.18s/it]\u001b[A\n",
      " 67%|████████████████████████████████████████████████████████▋                            | 4/6 [00:36<00:18,  9.16s/it]\u001b[A\n",
      " 83%|██████████████████████████████████████████████████████████████████████▊              | 5/6 [00:45<00:09,  9.19s/it]\u001b[A\n",
      "100%|█████████████████████████████████████████████████████████████████████████████████████| 6/6 [00:55<00:00,  9.23s/it]\u001b[A\n"
     ]
    },
    {
     "name": "stdout",
     "output_type": "stream",
     "text": [
      "running row: 8 of 11\n"
     ]
    },
    {
     "name": "stderr",
     "output_type": "stream",
     "text": [
      "\n",
      "  0%|                                                                                             | 0/6 [00:00<?, ?it/s]\u001b[A\n",
      " 17%|██████████████▏                                                                      | 1/6 [00:09<00:48,  9.63s/it]\u001b[A\n",
      " 33%|████████████████████████████▎                                                        | 2/6 [00:19<00:38,  9.56s/it]\u001b[A\n",
      " 50%|██████████████████████████████████████████▌                                          | 3/6 [00:28<00:28,  9.56s/it]\u001b[AException in thread AsyncProcess Dask Worker process (from Nanny) watch process join:\n",
      "Traceback (most recent call last):\n",
      "  File \"/home/spkearney/miniconda3/envs/py_seg_env/lib/python3.9/threading.py\", line 980, in _bootstrap_inner\n",
      "    self.run()\n",
      "  File \"/home/spkearney/miniconda3/envs/py_seg_env/lib/python3.9/threading.py\", line 917, in run\n",
      "    self._target(*self._args, **self._kwargs)\n",
      "  File \"/home/spkearney/miniconda3/envs/py_seg_env/lib/python3.9/site-packages/distributed/process.py\", line 218, in _watch_process\n",
      "    assert exitcode is not None\n",
      "AssertionError\n",
      "distributed.nanny - WARNING - Worker exceeded 95% memory budget. Restarting\n",
      "distributed.nanny - WARNING - Worker process still alive after 1.5999996185302736 seconds, killing\n",
      "distributed.client - ERROR - Restart timed out after 9.00 seconds\n",
      "\n",
      " 67%|████████████████████████████████████████████████████████▋                            | 4/6 [00:58<00:34, 17.43s/it]\u001b[A\n",
      " 83%|██████████████████████████████████████████████████████████████████████▊              | 5/6 [01:15<00:17, 17.31s/it]\u001b[A\n",
      "100%|█████████████████████████████████████████████████████████████████████████████████████| 6/6 [01:25<00:00, 14.30s/it]\u001b[A\n"
     ]
    },
    {
     "name": "stdout",
     "output_type": "stream",
     "text": [
      "running row: 9 of 11\n"
     ]
    },
    {
     "name": "stderr",
     "output_type": "stream",
     "text": [
      "\n",
      "  0%|                                                                                             | 0/6 [00:00<?, ?it/s]\u001b[A\n",
      " 17%|██████████████▏                                                                      | 1/6 [00:10<00:53, 10.61s/it]\u001b[A\n",
      " 33%|████████████████████████████▎                                                        | 2/6 [00:21<00:42, 10.52s/it]\u001b[A\n",
      " 50%|██████████████████████████████████████████▌                                          | 3/6 [00:32<00:33, 11.16s/it]\u001b[A\n",
      " 67%|████████████████████████████████████████████████████████▋                            | 4/6 [00:43<00:21, 10.95s/it]\u001b[A\n",
      " 83%|██████████████████████████████████████████████████████████████████████▊              | 5/6 [00:54<00:10, 10.93s/it]\u001b[A\n",
      "100%|█████████████████████████████████████████████████████████████████████████████████████| 6/6 [01:05<00:00, 10.96s/it]\u001b[A\n"
     ]
    },
    {
     "name": "stdout",
     "output_type": "stream",
     "text": [
      "running row: 10 of 11\n"
     ]
    },
    {
     "name": "stderr",
     "output_type": "stream",
     "text": [
      "\n",
      "  0%|                                                                                             | 0/6 [00:00<?, ?it/s]\u001b[A\n",
      " 17%|██████████████▏                                                                      | 1/6 [00:12<01:02, 12.49s/it]\u001b[A\n",
      " 33%|████████████████████████████▎                                                        | 2/6 [00:24<00:49, 12.42s/it]\u001b[A\n",
      " 50%|██████████████████████████████████████████▌                                          | 3/6 [00:37<00:37, 12.40s/it]\u001b[A\n",
      " 67%|████████████████████████████████████████████████████████▋                            | 4/6 [00:49<00:24, 12.41s/it]\u001b[A\n",
      " 83%|██████████████████████████████████████████████████████████████████████▊              | 5/6 [01:02<00:12, 12.44s/it]\u001b[A\n",
      "100%|█████████████████████████████████████████████████████████████████████████████████████| 6/6 [01:15<00:00, 12.53s/it]\u001b[A\n"
     ]
    },
    {
     "name": "stdout",
     "output_type": "stream",
     "text": [
      "running row: 11 of 11\n"
     ]
    },
    {
     "name": "stderr",
     "output_type": "stream",
     "text": [
      "\n",
      "  0%|                                                                                             | 0/6 [00:00<?, ?it/s]\u001b[A\n",
      " 17%|██████████████▏                                                                      | 1/6 [00:25<02:05, 25.01s/it]\u001b[A\n",
      " 33%|████████████████████████████▎                                                        | 2/6 [00:42<01:22, 20.50s/it]\u001b[A\n",
      " 50%|██████████████████████████████████████████▌                                          | 3/6 [00:55<00:50, 16.99s/it]\u001b[A\n",
      " 67%|████████████████████████████████████████████████████████▋                            | 4/6 [01:07<00:30, 15.24s/it]\u001b[A\n",
      " 83%|██████████████████████████████████████████████████████████████████████▊              | 5/6 [01:20<00:14, 14.30s/it]\u001b[A\n",
      "100%|█████████████████████████████████████████████████████████████████████████████████████| 6/6 [01:33<00:00, 15.59s/it]\u001b[A\n"
     ]
    },
    {
     "name": "stdout",
     "output_type": "stream",
     "text": [
      "Pasture-group finished!\n"
     ]
    },
    {
     "name": "stderr",
     "output_type": "stream",
     "text": [
      " 60%|██████████████████████████████████████████████████▍                                 | 3/5 [43:03<28:34, 857.35s/it]"
     ]
    },
    {
     "name": "stdout",
     "output_type": "stream",
     "text": [
      "\n",
      "\n",
      "----------\n",
      "Pasture: 22E\n",
      "running row: 1 of 11\n"
     ]
    },
    {
     "name": "stderr",
     "output_type": "stream",
     "text": [
      "\n",
      "  0%|                                                                                             | 0/6 [00:00<?, ?it/s]\u001b[A\n",
      " 17%|██████████████▏                                                                      | 1/6 [00:10<00:50, 10.04s/it]\u001b[A\n",
      " 33%|████████████████████████████▎                                                        | 2/6 [00:14<00:26,  6.73s/it]\u001b[A\n",
      " 50%|██████████████████████████████████████████▌                                          | 3/6 [00:18<00:16,  5.52s/it]\u001b[A\n",
      " 67%|████████████████████████████████████████████████████████▋                            | 4/6 [00:23<00:10,  5.34s/it]\u001b[A\n",
      " 83%|██████████████████████████████████████████████████████████████████████▊              | 5/6 [00:28<00:05,  5.25s/it]\u001b[A\n",
      "100%|█████████████████████████████████████████████████████████████████████████████████████| 6/6 [00:34<00:00,  5.70s/it]\u001b[A\n"
     ]
    },
    {
     "name": "stdout",
     "output_type": "stream",
     "text": [
      "running row: 2 of 11\n"
     ]
    },
    {
     "name": "stderr",
     "output_type": "stream",
     "text": [
      "\n",
      "  0%|                                                                                             | 0/6 [00:00<?, ?it/s]\u001b[A\n",
      " 17%|██████████████▏                                                                      | 1/6 [00:04<00:23,  4.71s/it]\u001b[A\n",
      " 33%|████████████████████████████▎                                                        | 2/6 [00:09<00:19,  4.84s/it]\u001b[A\n",
      " 50%|██████████████████████████████████████████▌                                          | 3/6 [00:14<00:14,  4.99s/it]\u001b[A\n",
      " 67%|████████████████████████████████████████████████████████▋                            | 4/6 [00:20<00:10,  5.45s/it]\u001b[Adistributed.utils_perf - WARNING - full garbage collections took 12% CPU time recently (threshold: 10%)\n",
      "\n",
      " 83%|██████████████████████████████████████████████████████████████████████▊              | 5/6 [00:26<00:05,  5.58s/it]\u001b[Adistributed.utils_perf - WARNING - full garbage collections took 12% CPU time recently (threshold: 10%)\n",
      "\n",
      "100%|█████████████████████████████████████████████████████████████████████████████████████| 6/6 [00:33<00:00,  5.58s/it]\u001b[A\n"
     ]
    },
    {
     "name": "stdout",
     "output_type": "stream",
     "text": [
      "running row: 3 of 11\n"
     ]
    },
    {
     "name": "stderr",
     "output_type": "stream",
     "text": [
      "\n",
      "  0%|                                                                                             | 0/6 [00:00<?, ?it/s]\u001b[Adistributed.utils_perf - WARNING - full garbage collections took 13% CPU time recently (threshold: 10%)\n",
      "\n",
      " 17%|██████████████▏                                                                      | 1/6 [00:05<00:28,  5.76s/it]\u001b[Adistributed.utils_perf - WARNING - full garbage collections took 13% CPU time recently (threshold: 10%)\n",
      "\n",
      " 33%|████████████████████████████▎                                                        | 2/6 [00:11<00:23,  5.82s/it]\u001b[Adistributed.utils_perf - WARNING - full garbage collections took 13% CPU time recently (threshold: 10%)\n",
      "\n",
      " 50%|██████████████████████████████████████████▌                                          | 3/6 [00:17<00:17,  5.81s/it]\u001b[Adistributed.utils_perf - WARNING - full garbage collections took 13% CPU time recently (threshold: 10%)\n",
      "distributed.nanny - WARNING - Worker exceeded 95% memory budget. Restarting\n",
      "distributed.client - ERROR - Restart timed out after 9.00 seconds\n",
      "\n",
      " 67%|████████████████████████████████████████████████████████▋                            | 4/6 [00:43<00:27, 13.83s/it]\u001b[A\n",
      " 83%|██████████████████████████████████████████████████████████████████████▊              | 5/6 [00:57<00:13, 13.71s/it]\u001b[A\n",
      "100%|█████████████████████████████████████████████████████████████████████████████████████| 6/6 [01:03<00:00, 10.61s/it]\u001b[A\n"
     ]
    },
    {
     "name": "stdout",
     "output_type": "stream",
     "text": [
      "running row: 4 of 11\n"
     ]
    },
    {
     "name": "stderr",
     "output_type": "stream",
     "text": [
      "\n",
      "  0%|                                                                                             | 0/6 [00:00<?, ?it/s]\u001b[A\n",
      " 17%|██████████████▏                                                                      | 1/6 [00:04<00:24,  4.81s/it]\u001b[A\n",
      " 33%|████████████████████████████▎                                                        | 2/6 [00:09<00:19,  5.00s/it]\u001b[A\n",
      " 50%|██████████████████████████████████████████▌                                          | 3/6 [00:15<00:15,  5.10s/it]\u001b[A\n",
      " 67%|████████████████████████████████████████████████████████▋                            | 4/6 [00:21<00:11,  5.58s/it]\u001b[A\n",
      " 83%|██████████████████████████████████████████████████████████████████████▊              | 5/6 [00:27<00:05,  5.62s/it]\u001b[A\n",
      "100%|█████████████████████████████████████████████████████████████████████████████████████| 6/6 [00:33<00:00,  5.52s/it]\u001b[A\n"
     ]
    },
    {
     "name": "stdout",
     "output_type": "stream",
     "text": [
      "running row: 5 of 11\n"
     ]
    },
    {
     "name": "stderr",
     "output_type": "stream",
     "text": [
      "\n",
      "  0%|                                                                                             | 0/6 [00:00<?, ?it/s]\u001b[A\n",
      " 17%|██████████████▏                                                                      | 1/6 [00:05<00:27,  5.60s/it]\u001b[A\n",
      " 33%|████████████████████████████▎                                                        | 2/6 [00:11<00:22,  5.71s/it]\u001b[A\n",
      " 50%|██████████████████████████████████████████▌                                          | 3/6 [00:17<00:17,  5.86s/it]\u001b[A\n",
      " 67%|████████████████████████████████████████████████████████▋                            | 4/6 [00:23<00:11,  5.89s/it]\u001b[A\n",
      " 83%|██████████████████████████████████████████████████████████████████████▊              | 5/6 [00:29<00:06,  6.09s/it]\u001b[A\n",
      "100%|█████████████████████████████████████████████████████████████████████████████████████| 6/6 [00:35<00:00,  5.90s/it]\u001b[A\n"
     ]
    },
    {
     "name": "stdout",
     "output_type": "stream",
     "text": [
      "running row: 6 of 11\n"
     ]
    },
    {
     "name": "stderr",
     "output_type": "stream",
     "text": [
      "\n",
      "  0%|                                                                                             | 0/6 [00:00<?, ?it/s]\u001b[A\n",
      " 17%|██████████████▏                                                                      | 1/6 [00:18<01:30, 18.13s/it]\u001b[A\n",
      " 33%|████████████████████████████▎                                                        | 2/6 [00:30<00:58, 14.66s/it]\u001b[A\n",
      " 50%|██████████████████████████████████████████▌                                          | 3/6 [00:36<00:32, 10.94s/it]\u001b[A\n",
      " 67%|████████████████████████████████████████████████████████▋                            | 4/6 [00:43<00:18,  9.04s/it]\u001b[A\n",
      " 83%|██████████████████████████████████████████████████████████████████████▊              | 5/6 [00:49<00:07,  7.98s/it]\u001b[A\n",
      "100%|█████████████████████████████████████████████████████████████████████████████████████| 6/6 [00:55<00:00,  9.23s/it]\u001b[A\n"
     ]
    },
    {
     "name": "stdout",
     "output_type": "stream",
     "text": [
      "running row: 7 of 11\n"
     ]
    },
    {
     "name": "stderr",
     "output_type": "stream",
     "text": [
      "\n",
      "  0%|                                                                                             | 0/6 [00:00<?, ?it/s]\u001b[A\n",
      " 17%|██████████████▏                                                                      | 1/6 [00:07<00:35,  7.00s/it]\u001b[A\n",
      " 33%|████████████████████████████▎                                                        | 2/6 [00:13<00:27,  6.94s/it]\u001b[A\n",
      " 50%|██████████████████████████████████████████▌                                          | 3/6 [00:20<00:20,  6.76s/it]\u001b[A\n",
      " 67%|████████████████████████████████████████████████████████▋                            | 4/6 [00:26<00:13,  6.61s/it]\u001b[A\n",
      " 83%|██████████████████████████████████████████████████████████████████████▊              | 5/6 [00:33<00:06,  6.53s/it]\u001b[A\n",
      "100%|█████████████████████████████████████████████████████████████████████████████████████| 6/6 [00:39<00:00,  6.59s/it]\u001b[A\n"
     ]
    },
    {
     "name": "stdout",
     "output_type": "stream",
     "text": [
      "running row: 8 of 11\n"
     ]
    },
    {
     "name": "stderr",
     "output_type": "stream",
     "text": [
      "\n",
      "  0%|                                                                                             | 0/6 [00:00<?, ?it/s]\u001b[A\n",
      " 17%|██████████████▏                                                                      | 1/6 [00:07<00:35,  7.12s/it]\u001b[A\n",
      " 33%|████████████████████████████▎                                                        | 2/6 [00:14<00:28,  7.20s/it]\u001b[A\n",
      " 50%|██████████████████████████████████████████▌                                          | 3/6 [00:21<00:21,  7.07s/it]\u001b[A\n",
      " 67%|████████████████████████████████████████████████████████▋                            | 4/6 [00:40<00:23, 11.79s/it]\u001b[Adistributed.utils_perf - WARNING - full garbage collections took 18% CPU time recently (threshold: 10%)\n",
      "\n",
      " 83%|██████████████████████████████████████████████████████████████████████▊              | 5/6 [00:52<00:11, 11.98s/it]\u001b[Adistributed.utils_perf - WARNING - full garbage collections took 18% CPU time recently (threshold: 10%)\n",
      "\n",
      "100%|█████████████████████████████████████████████████████████████████████████████████████| 6/6 [00:59<00:00,  9.98s/it]\u001b[A\n"
     ]
    },
    {
     "name": "stdout",
     "output_type": "stream",
     "text": [
      "running row: 9 of 11\n"
     ]
    },
    {
     "name": "stderr",
     "output_type": "stream",
     "text": [
      "\n",
      "  0%|                                                                                             | 0/6 [00:00<?, ?it/s]\u001b[Adistributed.utils_perf - WARNING - full garbage collections took 18% CPU time recently (threshold: 10%)\n",
      "\n",
      " 17%|██████████████▏                                                                      | 1/6 [00:07<00:38,  7.73s/it]\u001b[Adistributed.utils_perf - WARNING - full garbage collections took 18% CPU time recently (threshold: 10%)\n",
      "\n",
      " 33%|████████████████████████████▎                                                        | 2/6 [00:15<00:32,  8.01s/it]\u001b[Adistributed.utils_perf - WARNING - full garbage collections took 18% CPU time recently (threshold: 10%)\n",
      "\n",
      " 50%|██████████████████████████████████████████▌                                          | 3/6 [00:22<00:22,  7.57s/it]\u001b[Adistributed.utils_perf - WARNING - full garbage collections took 18% CPU time recently (threshold: 10%)\n",
      "\n",
      " 67%|████████████████████████████████████████████████████████▋                            | 4/6 [00:29<00:14,  7.35s/it]\u001b[Adistributed.utils_perf - WARNING - full garbage collections took 18% CPU time recently (threshold: 10%)\n",
      "\n",
      " 83%|██████████████████████████████████████████████████████████████████████▊              | 5/6 [00:37<00:07,  7.36s/it]\u001b[Adistributed.utils_perf - WARNING - full garbage collections took 18% CPU time recently (threshold: 10%)\n",
      "\n",
      "100%|█████████████████████████████████████████████████████████████████████████████████████| 6/6 [00:44<00:00,  7.42s/it]\u001b[A\n"
     ]
    },
    {
     "name": "stdout",
     "output_type": "stream",
     "text": [
      "running row: 10 of 11\n"
     ]
    },
    {
     "name": "stderr",
     "output_type": "stream",
     "text": [
      "\n",
      "  0%|                                                                                             | 0/6 [00:00<?, ?it/s]\u001b[Adistributed.utils_perf - WARNING - full garbage collections took 18% CPU time recently (threshold: 10%)\n",
      "\n",
      " 17%|██████████████▏                                                                      | 1/6 [00:07<00:39,  7.96s/it]\u001b[Adistributed.utils_perf - WARNING - full garbage collections took 18% CPU time recently (threshold: 10%)\n",
      "\n",
      " 33%|████████████████████████████▎                                                        | 2/6 [00:15<00:31,  7.98s/it]\u001b[Adistributed.utils_perf - WARNING - full garbage collections took 18% CPU time recently (threshold: 10%)\n",
      "\n",
      " 50%|██████████████████████████████████████████▌                                          | 3/6 [00:23<00:23,  7.94s/it]\u001b[Adistributed.utils_perf - WARNING - full garbage collections took 18% CPU time recently (threshold: 10%)\n",
      "\n",
      " 67%|████████████████████████████████████████████████████████▋                            | 4/6 [00:31<00:15,  7.81s/it]\u001b[Adistributed.utils_perf - WARNING - full garbage collections took 18% CPU time recently (threshold: 10%)\n",
      "\n",
      " 83%|██████████████████████████████████████████████████████████████████████▊              | 5/6 [00:39<00:07,  7.78s/it]\u001b[Adistributed.utils_perf - WARNING - full garbage collections took 18% CPU time recently (threshold: 10%)\n",
      "\n",
      "100%|█████████████████████████████████████████████████████████████████████████████████████| 6/6 [00:47<00:00,  7.84s/it]\u001b[A\n"
     ]
    },
    {
     "name": "stdout",
     "output_type": "stream",
     "text": [
      "running row: 11 of 11\n"
     ]
    },
    {
     "name": "stderr",
     "output_type": "stream",
     "text": [
      "\n",
      "  0%|                                                                                             | 0/6 [00:00<?, ?it/s]\u001b[Adistributed.utils_perf - WARNING - full garbage collections took 18% CPU time recently (threshold: 10%)\n",
      "\n",
      " 17%|██████████████▏                                                                      | 1/6 [00:20<01:40, 20.01s/it]\u001b[Adistributed.utils_perf - WARNING - full garbage collections took 18% CPU time recently (threshold: 10%)\n",
      "\n",
      " 33%|████████████████████████████▎                                                        | 2/6 [00:33<01:05, 16.33s/it]\u001b[Adistributed.utils_perf - WARNING - full garbage collections took 18% CPU time recently (threshold: 10%)\n",
      "\n",
      " 50%|██████████████████████████████████████████▌                                          | 3/6 [00:41<00:37, 12.53s/it]\u001b[Adistributed.utils_perf - WARNING - full garbage collections took 18% CPU time recently (threshold: 10%)\n",
      "\n",
      " 67%|████████████████████████████████████████████████████████▋                            | 4/6 [00:49<00:21, 10.74s/it]\u001b[Adistributed.utils_perf - WARNING - full garbage collections took 18% CPU time recently (threshold: 10%)\n",
      "\n",
      " 83%|██████████████████████████████████████████████████████████████████████▊              | 5/6 [00:57<00:09,  9.76s/it]\u001b[Adistributed.utils_perf - WARNING - full garbage collections took 17% CPU time recently (threshold: 10%)\n",
      "\n",
      "100%|█████████████████████████████████████████████████████████████████████████████████████| 6/6 [01:06<00:00, 11.08s/it]\u001b[A\n"
     ]
    },
    {
     "name": "stdout",
     "output_type": "stream",
     "text": [
      "Pasture-group finished!\n"
     ]
    },
    {
     "name": "stderr",
     "output_type": "stream",
     "text": [
      " 80%|███████████████████████████████████████████████████████████████████▏                | 4/5 [51:47<12:05, 725.98s/it]"
     ]
    },
    {
     "name": "stdout",
     "output_type": "stream",
     "text": [
      "\n",
      "\n",
      "----------\n",
      "Pasture: CN\n",
      "running row: 1 of 17\n"
     ]
    },
    {
     "name": "stderr",
     "output_type": "stream",
     "text": [
      "\n",
      "  0%|                                                                                            | 0/12 [00:00<?, ?it/s]\u001b[Adistributed.utils_perf - WARNING - full garbage collections took 17% CPU time recently (threshold: 10%)\n",
      "\n",
      "  8%|███████                                                                             | 1/12 [00:08<01:35,  8.72s/it]\u001b[Adistributed.utils_perf - WARNING - full garbage collections took 18% CPU time recently (threshold: 10%)\n",
      "\n",
      " 17%|██████████████                                                                      | 2/12 [00:11<00:51,  5.19s/it]\u001b[Adistributed.utils_perf - WARNING - full garbage collections took 18% CPU time recently (threshold: 10%)\n",
      "\n",
      " 25%|█████████████████████                                                               | 3/12 [00:14<00:37,  4.12s/it]\u001b[Adistributed.utils_perf - WARNING - full garbage collections took 18% CPU time recently (threshold: 10%)\n",
      "\n",
      " 33%|████████████████████████████                                                        | 4/12 [00:16<00:28,  3.55s/it]\u001b[Adistributed.utils_perf - WARNING - full garbage collections took 18% CPU time recently (threshold: 10%)\n",
      "\n",
      " 42%|███████████████████████████████████                                                 | 5/12 [00:19<00:22,  3.27s/it]\u001b[Adistributed.utils_perf - WARNING - full garbage collections took 19% CPU time recently (threshold: 10%)\n",
      "\n",
      " 50%|██████████████████████████████████████████                                          | 6/12 [00:22<00:18,  3.07s/it]\u001b[Adistributed.utils_perf - WARNING - full garbage collections took 19% CPU time recently (threshold: 10%)\n",
      "\n",
      " 58%|█████████████████████████████████████████████████                                   | 7/12 [00:25<00:14,  2.96s/it]\u001b[Adistributed.utils_perf - WARNING - full garbage collections took 19% CPU time recently (threshold: 10%)\n",
      "\n",
      " 67%|████████████████████████████████████████████████████████                            | 8/12 [00:27<00:11,  2.91s/it]\u001b[Adistributed.utils_perf - WARNING - full garbage collections took 19% CPU time recently (threshold: 10%)\n",
      "\n",
      " 75%|███████████████████████████████████████████████████████████████                     | 9/12 [00:30<00:08,  2.87s/it]\u001b[Adistributed.utils_perf - WARNING - full garbage collections took 20% CPU time recently (threshold: 10%)\n",
      "\n",
      " 83%|█████████████████████████████████████████████████████████████████████▏             | 10/12 [00:33<00:05,  2.86s/it]\u001b[Adistributed.utils_perf - WARNING - full garbage collections took 20% CPU time recently (threshold: 10%)\n",
      "\n",
      " 92%|████████████████████████████████████████████████████████████████████████████       | 11/12 [00:36<00:02,  2.83s/it]\u001b[Adistributed.utils_perf - WARNING - full garbage collections took 20% CPU time recently (threshold: 10%)\n",
      "\n",
      "100%|███████████████████████████████████████████████████████████████████████████████████| 12/12 [00:40<00:00,  3.34s/it]\u001b[A\n"
     ]
    },
    {
     "name": "stdout",
     "output_type": "stream",
     "text": [
      "running row: 2 of 17\n"
     ]
    },
    {
     "name": "stderr",
     "output_type": "stream",
     "text": [
      "\n",
      "  0%|                                                                                            | 0/12 [00:00<?, ?it/s]\u001b[Adistributed.utils_perf - WARNING - full garbage collections took 21% CPU time recently (threshold: 10%)\n",
      "\n",
      "  8%|███████                                                                             | 1/12 [00:04<00:46,  4.26s/it]\u001b[Adistributed.utils_perf - WARNING - full garbage collections took 21% CPU time recently (threshold: 10%)\n",
      "\n",
      " 17%|██████████████                                                                      | 2/12 [00:08<00:40,  4.09s/it]\u001b[Adistributed.utils_perf - WARNING - full garbage collections took 21% CPU time recently (threshold: 10%)\n",
      "\n",
      " 25%|█████████████████████                                                               | 3/12 [00:12<00:36,  4.09s/it]\u001b[Adistributed.utils_perf - WARNING - full garbage collections took 21% CPU time recently (threshold: 10%)\n",
      "\n",
      " 33%|████████████████████████████                                                        | 4/12 [00:29<01:13,  9.21s/it]\u001b[Adistributed.utils_perf - WARNING - full garbage collections took 21% CPU time recently (threshold: 10%)\n",
      "\n",
      " 42%|███████████████████████████████████                                                 | 5/12 [00:38<01:03,  9.10s/it]\u001b[Adistributed.utils_perf - WARNING - full garbage collections took 22% CPU time recently (threshold: 10%)\n",
      "\n",
      " 50%|██████████████████████████████████████████                                          | 6/12 [00:41<00:42,  7.11s/it]\u001b[Adistributed.utils_perf - WARNING - full garbage collections took 22% CPU time recently (threshold: 10%)\n",
      "\n",
      " 58%|█████████████████████████████████████████████████                                   | 7/12 [00:44<00:29,  5.83s/it]\u001b[Adistributed.utils_perf - WARNING - full garbage collections took 22% CPU time recently (threshold: 10%)\n",
      "\n",
      " 67%|████████████████████████████████████████████████████████                            | 8/12 [00:47<00:19,  4.98s/it]\u001b[Adistributed.utils_perf - WARNING - full garbage collections took 23% CPU time recently (threshold: 10%)\n",
      "\n",
      " 75%|███████████████████████████████████████████████████████████████                     | 9/12 [00:51<00:13,  4.40s/it]\u001b[Adistributed.utils_perf - WARNING - full garbage collections took 23% CPU time recently (threshold: 10%)\n",
      "\n",
      " 83%|█████████████████████████████████████████████████████████████████████▏             | 10/12 [00:54<00:08,  4.05s/it]\u001b[Adistributed.utils_perf - WARNING - full garbage collections took 23% CPU time recently (threshold: 10%)\n",
      "\n",
      " 92%|████████████████████████████████████████████████████████████████████████████       | 11/12 [00:58<00:03,  3.97s/it]\u001b[Adistributed.utils_perf - WARNING - full garbage collections took 24% CPU time recently (threshold: 10%)\n",
      "\n",
      "100%|███████████████████████████████████████████████████████████████████████████████████| 12/12 [01:02<00:00,  5.21s/it]\u001b[A\n"
     ]
    },
    {
     "name": "stdout",
     "output_type": "stream",
     "text": [
      "running row: 3 of 17\n"
     ]
    },
    {
     "name": "stderr",
     "output_type": "stream",
     "text": [
      "\n",
      "  0%|                                                                                            | 0/12 [00:00<?, ?it/s]\u001b[Adistributed.utils_perf - WARNING - full garbage collections took 24% CPU time recently (threshold: 10%)\n",
      "\n",
      "  8%|███████                                                                             | 1/12 [00:04<00:54,  4.94s/it]\u001b[Adistributed.utils_perf - WARNING - full garbage collections took 25% CPU time recently (threshold: 10%)\n",
      "\n",
      " 17%|██████████████                                                                      | 2/12 [00:08<00:41,  4.19s/it]\u001b[Adistributed.utils_perf - WARNING - full garbage collections took 25% CPU time recently (threshold: 10%)\n",
      "\n",
      " 25%|█████████████████████                                                               | 3/12 [00:12<00:35,  3.92s/it]\u001b[Adistributed.utils_perf - WARNING - full garbage collections took 25% CPU time recently (threshold: 10%)\n",
      "\n",
      " 33%|████████████████████████████                                                        | 4/12 [00:16<00:31,  3.91s/it]\u001b[Adistributed.utils_perf - WARNING - full garbage collections took 26% CPU time recently (threshold: 10%)\n",
      "\n",
      " 42%|███████████████████████████████████                                                 | 5/12 [00:20<00:27,  3.98s/it]\u001b[Adistributed.utils_perf - WARNING - full garbage collections took 26% CPU time recently (threshold: 10%)\n",
      "\n",
      " 50%|██████████████████████████████████████████                                          | 6/12 [00:23<00:23,  3.89s/it]\u001b[Adistributed.utils_perf - WARNING - full garbage collections took 26% CPU time recently (threshold: 10%)\n",
      "distributed.nanny - WARNING - Worker exceeded 95% memory budget. Restarting\n",
      "distributed.client - ERROR - Restart timed out after 9.00 seconds\n",
      "\n",
      " 58%|█████████████████████████████████████████████████                                   | 7/12 [00:46<00:50, 10.05s/it]\u001b[A\n",
      " 67%|████████████████████████████████████████████████████████                            | 8/12 [00:57<00:40, 10.20s/it]\u001b[A\n",
      " 75%|███████████████████████████████████████████████████████████████                     | 9/12 [01:00<00:24,  8.03s/it]\u001b[A\n",
      " 83%|█████████████████████████████████████████████████████████████████████▏             | 10/12 [01:03<00:13,  6.60s/it]\u001b[A\n",
      " 92%|████████████████████████████████████████████████████████████████████████████       | 11/12 [01:07<00:05,  5.63s/it]\u001b[A\n",
      "100%|███████████████████████████████████████████████████████████████████████████████████| 12/12 [01:11<00:00,  5.95s/it]\u001b[A\n"
     ]
    },
    {
     "name": "stdout",
     "output_type": "stream",
     "text": [
      "running row: 4 of 17\n"
     ]
    },
    {
     "name": "stderr",
     "output_type": "stream",
     "text": [
      "\n",
      "  0%|                                                                                            | 0/12 [00:00<?, ?it/s]\u001b[A\n",
      "  8%|███████                                                                             | 1/12 [00:03<00:41,  3.76s/it]\u001b[A\n",
      " 17%|██████████████                                                                      | 2/12 [00:07<00:35,  3.54s/it]\u001b[A\n",
      " 25%|█████████████████████                                                               | 3/12 [00:10<00:32,  3.56s/it]\u001b[A\n",
      " 33%|████████████████████████████                                                        | 4/12 [00:14<00:28,  3.51s/it]\u001b[A\n",
      " 42%|███████████████████████████████████                                                 | 5/12 [00:18<00:26,  3.81s/it]\u001b[A\n",
      " 50%|██████████████████████████████████████████                                          | 6/12 [00:22<00:22,  3.80s/it]\u001b[A\n",
      " 58%|█████████████████████████████████████████████████                                   | 7/12 [00:26<00:20,  4.05s/it]\u001b[A\n",
      " 67%|████████████████████████████████████████████████████████                            | 8/12 [00:31<00:16,  4.17s/it]\u001b[A\n",
      " 75%|███████████████████████████████████████████████████████████████                     | 9/12 [00:35<00:12,  4.33s/it]\u001b[Adistributed.nanny - WARNING - Worker exceeded 95% memory budget. Restarting\n",
      "distributed.client - ERROR - Restart timed out after 9.00 seconds\n",
      "\n",
      " 83%|█████████████████████████████████████████████████████████████████████▏             | 10/12 [00:59<00:20, 10.15s/it]\u001b[A\n",
      " 92%|████████████████████████████████████████████████████████████████████████████       | 11/12 [01:10<00:10, 10.46s/it]\u001b[A\n",
      "100%|███████████████████████████████████████████████████████████████████████████████████| 12/12 [01:14<00:00,  6.19s/it]\u001b[A\n"
     ]
    },
    {
     "name": "stdout",
     "output_type": "stream",
     "text": [
      "running row: 5 of 17\n"
     ]
    },
    {
     "name": "stderr",
     "output_type": "stream",
     "text": [
      "\n",
      "  0%|                                                                                            | 0/12 [00:00<?, ?it/s]\u001b[A\n",
      "  8%|███████                                                                             | 1/12 [00:04<00:49,  4.52s/it]\u001b[A\n",
      " 17%|██████████████                                                                      | 2/12 [00:08<00:40,  4.04s/it]\u001b[A\n",
      " 25%|█████████████████████                                                               | 3/12 [00:11<00:35,  3.90s/it]\u001b[A\n",
      " 33%|████████████████████████████                                                        | 4/12 [00:15<00:30,  3.86s/it]\u001b[A\n",
      " 42%|███████████████████████████████████                                                 | 5/12 [00:19<00:26,  3.82s/it]\u001b[A\n",
      " 50%|██████████████████████████████████████████                                          | 6/12 [00:23<00:22,  3.80s/it]\u001b[A\n",
      " 58%|█████████████████████████████████████████████████                                   | 7/12 [00:27<00:18,  3.80s/it]\u001b[A\n",
      " 67%|████████████████████████████████████████████████████████                            | 8/12 [00:30<00:15,  3.78s/it]\u001b[A\n",
      " 75%|███████████████████████████████████████████████████████████████                     | 9/12 [00:34<00:11,  3.73s/it]\u001b[A\n",
      " 83%|█████████████████████████████████████████████████████████████████████▏             | 10/12 [00:38<00:07,  3.69s/it]\u001b[A\n",
      " 92%|████████████████████████████████████████████████████████████████████████████       | 11/12 [00:42<00:03,  3.96s/it]\u001b[A\n",
      "100%|███████████████████████████████████████████████████████████████████████████████████| 12/12 [00:47<00:00,  3.94s/it]\u001b[A\n"
     ]
    },
    {
     "name": "stdout",
     "output_type": "stream",
     "text": [
      "running row: 6 of 17\n"
     ]
    },
    {
     "name": "stderr",
     "output_type": "stream",
     "text": [
      "\n",
      "  0%|                                                                                            | 0/12 [00:00<?, ?it/s]\u001b[A\n",
      "  8%|███████                                                                             | 1/12 [00:17<03:15, 17.79s/it]\u001b[A\n",
      " 17%|██████████████                                                                      | 2/12 [00:27<02:10, 13.04s/it]\u001b[A\n",
      " 25%|█████████████████████                                                               | 3/12 [00:31<01:21,  9.01s/it]\u001b[A\n",
      " 33%|████████████████████████████                                                        | 4/12 [00:35<00:56,  7.08s/it]\u001b[A\n",
      " 42%|███████████████████████████████████                                                 | 5/12 [00:39<00:41,  5.99s/it]\u001b[A\n",
      " 50%|██████████████████████████████████████████                                          | 6/12 [00:44<00:32,  5.36s/it]\u001b[A\n",
      " 58%|█████████████████████████████████████████████████                                   | 7/12 [00:48<00:24,  4.99s/it]\u001b[A\n",
      " 67%|████████████████████████████████████████████████████████                            | 8/12 [00:52<00:18,  4.72s/it]\u001b[A\n",
      " 75%|███████████████████████████████████████████████████████████████                     | 9/12 [00:56<00:13,  4.51s/it]\u001b[A\n",
      " 83%|█████████████████████████████████████████████████████████████████████▏             | 10/12 [01:01<00:09,  4.66s/it]\u001b[A\n",
      " 92%|████████████████████████████████████████████████████████████████████████████       | 11/12 [01:07<00:04,  4.93s/it]\u001b[A\n",
      "100%|███████████████████████████████████████████████████████████████████████████████████| 12/12 [01:12<00:00,  6.04s/it]\u001b[A\n"
     ]
    },
    {
     "name": "stdout",
     "output_type": "stream",
     "text": [
      "running row: 7 of 17\n"
     ]
    },
    {
     "name": "stderr",
     "output_type": "stream",
     "text": [
      "\n",
      "  0%|                                                                                            | 0/12 [00:00<?, ?it/s]\u001b[A\n",
      "  8%|███████                                                                             | 1/12 [00:05<00:55,  5.06s/it]\u001b[A\n",
      " 17%|██████████████                                                                      | 2/12 [00:09<00:48,  4.87s/it]\u001b[A\n",
      " 25%|█████████████████████                                                               | 3/12 [00:14<00:44,  4.98s/it]\u001b[A\n",
      " 33%|████████████████████████████                                                        | 4/12 [00:31<01:17,  9.68s/it]\u001b[Adistributed.utils_perf - WARNING - full garbage collections took 24% CPU time recently (threshold: 10%)\n",
      "\n",
      " 42%|███████████████████████████████████                                                 | 5/12 [00:42<01:09,  9.93s/it]\u001b[Adistributed.utils_perf - WARNING - full garbage collections took 24% CPU time recently (threshold: 10%)\n",
      "\n",
      " 50%|██████████████████████████████████████████                                          | 6/12 [00:46<00:48,  8.12s/it]\u001b[Adistributed.utils_perf - WARNING - full garbage collections took 25% CPU time recently (threshold: 10%)\n",
      "\n",
      " 58%|█████████████████████████████████████████████████                                   | 7/12 [00:51<00:34,  6.99s/it]\u001b[Adistributed.utils_perf - WARNING - full garbage collections took 25% CPU time recently (threshold: 10%)\n",
      "\n",
      " 67%|████████████████████████████████████████████████████████                            | 8/12 [00:56<00:24,  6.23s/it]\u001b[Adistributed.utils_perf - WARNING - full garbage collections took 25% CPU time recently (threshold: 10%)\n",
      "\n",
      " 75%|███████████████████████████████████████████████████████████████                     | 9/12 [01:00<00:17,  5.70s/it]\u001b[Adistributed.utils_perf - WARNING - full garbage collections took 25% CPU time recently (threshold: 10%)\n",
      "\n",
      " 83%|█████████████████████████████████████████████████████████████████████▏             | 10/12 [01:05<00:11,  5.61s/it]\u001b[Adistributed.utils_perf - WARNING - full garbage collections took 24% CPU time recently (threshold: 10%)\n",
      "\n",
      " 92%|████████████████████████████████████████████████████████████████████████████       | 11/12 [01:13<00:06,  6.05s/it]\u001b[Adistributed.utils_perf - WARNING - full garbage collections took 24% CPU time recently (threshold: 10%)\n",
      "\n",
      "100%|███████████████████████████████████████████████████████████████████████████████████| 12/12 [01:17<00:00,  6.48s/it]\u001b[A\n"
     ]
    },
    {
     "name": "stdout",
     "output_type": "stream",
     "text": [
      "running row: 8 of 17\n"
     ]
    },
    {
     "name": "stderr",
     "output_type": "stream",
     "text": [
      "\n",
      "  0%|                                                                                            | 0/12 [00:00<?, ?it/s]\u001b[Adistributed.utils_perf - WARNING - full garbage collections took 24% CPU time recently (threshold: 10%)\n",
      "\n",
      "  8%|███████                                                                             | 1/12 [00:05<01:02,  5.68s/it]\u001b[Adistributed.utils_perf - WARNING - full garbage collections took 24% CPU time recently (threshold: 10%)\n",
      "\n",
      " 17%|██████████████                                                                      | 2/12 [00:11<00:58,  5.85s/it]\u001b[Adistributed.utils_perf - WARNING - full garbage collections took 23% CPU time recently (threshold: 10%)\n",
      "\n",
      " 25%|█████████████████████                                                               | 3/12 [00:17<00:51,  5.77s/it]\u001b[Adistributed.utils_perf - WARNING - full garbage collections took 23% CPU time recently (threshold: 10%)\n",
      "\n",
      " 33%|████████████████████████████                                                        | 4/12 [00:22<00:45,  5.71s/it]\u001b[Adistributed.utils_perf - WARNING - full garbage collections took 23% CPU time recently (threshold: 10%)\n",
      "\n",
      " 42%|███████████████████████████████████                                                 | 5/12 [00:28<00:39,  5.71s/it]\u001b[Adistributed.utils_perf - WARNING - full garbage collections took 23% CPU time recently (threshold: 10%)\n",
      "\n",
      " 50%|██████████████████████████████████████████                                          | 6/12 [00:34<00:33,  5.60s/it]\u001b[Adistributed.utils_perf - WARNING - full garbage collections took 23% CPU time recently (threshold: 10%)\n",
      "\n",
      " 58%|█████████████████████████████████████████████████                                   | 7/12 [00:52<00:48,  9.64s/it]\u001b[Adistributed.utils_perf - WARNING - full garbage collections took 23% CPU time recently (threshold: 10%)\n",
      "\n",
      " 67%|████████████████████████████████████████████████████████                            | 8/12 [01:02<00:40, 10.03s/it]\u001b[Adistributed.utils_perf - WARNING - full garbage collections took 23% CPU time recently (threshold: 10%)\n",
      "\n",
      " 75%|███████████████████████████████████████████████████████████████                     | 9/12 [01:08<00:25,  8.56s/it]\u001b[Adistributed.utils_perf - WARNING - full garbage collections took 23% CPU time recently (threshold: 10%)\n",
      "\n",
      " 83%|█████████████████████████████████████████████████████████████████████▏             | 10/12 [01:13<00:15,  7.62s/it]\u001b[Adistributed.utils_perf - WARNING - full garbage collections took 23% CPU time recently (threshold: 10%)\n",
      "\n",
      " 92%|████████████████████████████████████████████████████████████████████████████       | 11/12 [01:19<00:06,  6.96s/it]\u001b[Adistributed.utils_perf - WARNING - full garbage collections took 23% CPU time recently (threshold: 10%)\n",
      "\n",
      "100%|███████████████████████████████████████████████████████████████████████████████████| 12/12 [01:24<00:00,  7.06s/it]\u001b[A\n"
     ]
    },
    {
     "name": "stdout",
     "output_type": "stream",
     "text": [
      "running row: 9 of 17\n"
     ]
    },
    {
     "name": "stderr",
     "output_type": "stream",
     "text": [
      "\n",
      "  0%|                                                                                            | 0/12 [00:00<?, ?it/s]\u001b[Adistributed.utils_perf - WARNING - full garbage collections took 23% CPU time recently (threshold: 10%)\n",
      "\n",
      "  8%|███████                                                                             | 1/12 [00:05<01:05,  5.96s/it]\u001b[Adistributed.utils_perf - WARNING - full garbage collections took 23% CPU time recently (threshold: 10%)\n",
      "\n",
      " 17%|██████████████                                                                      | 2/12 [00:11<00:59,  5.93s/it]\u001b[Adistributed.utils_perf - WARNING - full garbage collections took 22% CPU time recently (threshold: 10%)\n",
      "\n",
      " 25%|█████████████████████                                                               | 3/12 [00:17<00:52,  5.88s/it]\u001b[Adistributed.utils_perf - WARNING - full garbage collections took 22% CPU time recently (threshold: 10%)\n",
      "\n",
      " 33%|████████████████████████████                                                        | 4/12 [00:23<00:47,  5.98s/it]\u001b[Adistributed.utils_perf - WARNING - full garbage collections took 22% CPU time recently (threshold: 10%)\n",
      "\n",
      " 42%|███████████████████████████████████                                                 | 5/12 [00:30<00:43,  6.15s/it]\u001b[Adistributed.utils_perf - WARNING - full garbage collections took 22% CPU time recently (threshold: 10%)\n",
      "\n",
      " 50%|██████████████████████████████████████████                                          | 6/12 [00:37<00:39,  6.53s/it]\u001b[Adistributed.utils_perf - WARNING - full garbage collections took 22% CPU time recently (threshold: 10%)\n",
      "\n",
      " 58%|█████████████████████████████████████████████████                                   | 7/12 [00:43<00:32,  6.44s/it]\u001b[Adistributed.utils_perf - WARNING - full garbage collections took 22% CPU time recently (threshold: 10%)\n",
      "\n",
      " 67%|████████████████████████████████████████████████████████                            | 8/12 [00:49<00:25,  6.32s/it]\u001b[Adistributed.utils_perf - WARNING - full garbage collections took 22% CPU time recently (threshold: 10%)\n",
      "\n",
      " 75%|███████████████████████████████████████████████████████████████                     | 9/12 [00:56<00:19,  6.44s/it]\u001b[Adistributed.utils_perf - WARNING - full garbage collections took 22% CPU time recently (threshold: 10%)\n",
      "\n",
      " 83%|█████████████████████████████████████████████████████████████████████▏             | 10/12 [01:15<00:20, 10.15s/it]\u001b[Adistributed.utils_perf - WARNING - full garbage collections took 22% CPU time recently (threshold: 10%)\n",
      "\n",
      " 92%|████████████████████████████████████████████████████████████████████████████       | 11/12 [01:27<00:10, 10.96s/it]\u001b[Adistributed.utils_perf - WARNING - full garbage collections took 22% CPU time recently (threshold: 10%)\n",
      "\n",
      "100%|███████████████████████████████████████████████████████████████████████████████████| 12/12 [01:34<00:00,  7.85s/it]\u001b[A\n"
     ]
    },
    {
     "name": "stdout",
     "output_type": "stream",
     "text": [
      "running row: 10 of 17\n"
     ]
    },
    {
     "name": "stderr",
     "output_type": "stream",
     "text": [
      "\n",
      "  0%|                                                                                            | 0/12 [00:00<?, ?it/s]\u001b[Adistributed.utils_perf - WARNING - full garbage collections took 22% CPU time recently (threshold: 10%)\n",
      "\n",
      "  8%|███████                                                                             | 1/12 [00:06<01:14,  6.77s/it]\u001b[Adistributed.utils_perf - WARNING - full garbage collections took 22% CPU time recently (threshold: 10%)\n",
      "\n",
      " 17%|██████████████                                                                      | 2/12 [00:13<01:07,  6.71s/it]\u001b[Adistributed.utils_perf - WARNING - full garbage collections took 21% CPU time recently (threshold: 10%)\n",
      "\n",
      " 25%|█████████████████████                                                               | 3/12 [00:19<00:59,  6.59s/it]\u001b[Adistributed.utils_perf - WARNING - full garbage collections took 21% CPU time recently (threshold: 10%)\n",
      "\n",
      " 33%|████████████████████████████                                                        | 4/12 [00:26<00:54,  6.76s/it]\u001b[Adistributed.utils_perf - WARNING - full garbage collections took 21% CPU time recently (threshold: 10%)\n",
      "\n",
      " 42%|███████████████████████████████████                                                 | 5/12 [00:33<00:47,  6.85s/it]\u001b[Adistributed.utils_perf - WARNING - full garbage collections took 21% CPU time recently (threshold: 10%)\n",
      "\n",
      " 50%|██████████████████████████████████████████                                          | 6/12 [00:40<00:41,  6.92s/it]\u001b[Adistributed.utils_perf - WARNING - full garbage collections took 21% CPU time recently (threshold: 10%)\n",
      "\n",
      " 58%|█████████████████████████████████████████████████                                   | 7/12 [00:47<00:34,  6.90s/it]\u001b[Adistributed.utils_perf - WARNING - full garbage collections took 21% CPU time recently (threshold: 10%)\n",
      "\n",
      " 67%|████████████████████████████████████████████████████████                            | 8/12 [00:54<00:27,  6.84s/it]\u001b[Adistributed.utils_perf - WARNING - full garbage collections took 21% CPU time recently (threshold: 10%)\n",
      "\n",
      " 75%|███████████████████████████████████████████████████████████████                     | 9/12 [01:01<00:20,  6.85s/it]\u001b[Adistributed.utils_perf - WARNING - full garbage collections took 21% CPU time recently (threshold: 10%)\n",
      "\n",
      " 83%|█████████████████████████████████████████████████████████████████████▏             | 10/12 [01:08<00:13,  6.93s/it]\u001b[Adistributed.utils_perf - WARNING - full garbage collections took 21% CPU time recently (threshold: 10%)\n",
      "\n",
      " 92%|████████████████████████████████████████████████████████████████████████████       | 11/12 [01:15<00:06,  6.95s/it]\u001b[Adistributed.utils_perf - WARNING - full garbage collections took 21% CPU time recently (threshold: 10%)\n",
      "\n",
      "100%|███████████████████████████████████████████████████████████████████████████████████| 12/12 [01:22<00:00,  6.90s/it]\u001b[A\n"
     ]
    },
    {
     "name": "stdout",
     "output_type": "stream",
     "text": [
      "running row: 11 of 17\n"
     ]
    },
    {
     "name": "stderr",
     "output_type": "stream",
     "text": [
      "\n",
      "  0%|                                                                                            | 0/12 [00:00<?, ?it/s]\u001b[Adistributed.utils_perf - WARNING - full garbage collections took 21% CPU time recently (threshold: 10%)\n",
      "\n",
      "  8%|███████                                                                             | 1/12 [00:20<03:45, 20.53s/it]\u001b[Adistributed.utils_perf - WARNING - full garbage collections took 20% CPU time recently (threshold: 10%)\n",
      "\n",
      " 17%|██████████████                                                                      | 2/12 [00:33<02:43, 16.36s/it]\u001b[Adistributed.utils_perf - WARNING - full garbage collections took 20% CPU time recently (threshold: 10%)\n",
      "\n",
      " 25%|█████████████████████                                                               | 3/12 [00:43<01:57, 13.11s/it]\u001b[Adistributed.utils_perf - WARNING - full garbage collections took 20% CPU time recently (threshold: 10%)\n",
      "\n",
      " 33%|████████████████████████████                                                        | 4/12 [00:51<01:30, 11.25s/it]\u001b[Adistributed.utils_perf - WARNING - full garbage collections took 20% CPU time recently (threshold: 10%)\n",
      "\n",
      " 42%|███████████████████████████████████                                                 | 5/12 [01:00<01:11, 10.26s/it]\u001b[Adistributed.utils_perf - WARNING - full garbage collections took 19% CPU time recently (threshold: 10%)\n",
      "\n",
      " 50%|██████████████████████████████████████████                                          | 6/12 [01:08<00:57,  9.60s/it]\u001b[Adistributed.utils_perf - WARNING - full garbage collections took 19% CPU time recently (threshold: 10%)\n",
      "\n",
      " 58%|█████████████████████████████████████████████████                                   | 7/12 [01:16<00:46,  9.24s/it]\u001b[Adistributed.utils_perf - WARNING - full garbage collections took 19% CPU time recently (threshold: 10%)\n",
      "\n",
      " 67%|████████████████████████████████████████████████████████                            | 8/12 [01:25<00:35,  8.90s/it]\u001b[Adistributed.utils_perf - WARNING - full garbage collections took 19% CPU time recently (threshold: 10%)\n",
      "\n",
      " 75%|███████████████████████████████████████████████████████████████                     | 9/12 [01:33<00:26,  8.80s/it]\u001b[Adistributed.utils_perf - WARNING - full garbage collections took 19% CPU time recently (threshold: 10%)\n",
      "\n",
      " 83%|█████████████████████████████████████████████████████████████████████▏             | 10/12 [01:42<00:17,  8.88s/it]\u001b[Adistributed.utils_perf - WARNING - full garbage collections took 19% CPU time recently (threshold: 10%)\n",
      "\n",
      " 92%|████████████████████████████████████████████████████████████████████████████       | 11/12 [01:51<00:08,  8.87s/it]\u001b[Adistributed.utils_perf - WARNING - full garbage collections took 19% CPU time recently (threshold: 10%)\n",
      "\n",
      "100%|███████████████████████████████████████████████████████████████████████████████████| 12/12 [01:59<00:00,  9.98s/it]\u001b[A\n"
     ]
    },
    {
     "name": "stdout",
     "output_type": "stream",
     "text": [
      "running row: 12 of 17\n"
     ]
    },
    {
     "name": "stderr",
     "output_type": "stream",
     "text": [
      "\n",
      "  0%|                                                                                            | 0/12 [00:00<?, ?it/s]\u001b[Adistributed.utils_perf - WARNING - full garbage collections took 19% CPU time recently (threshold: 10%)\n",
      "\n",
      "  8%|███████                                                                             | 1/12 [00:09<01:45,  9.58s/it]\u001b[Adistributed.utils_perf - WARNING - full garbage collections took 18% CPU time recently (threshold: 10%)\n",
      "\n",
      " 17%|██████████████                                                                      | 2/12 [00:19<01:35,  9.53s/it]\u001b[Adistributed.utils_perf - WARNING - full garbage collections took 18% CPU time recently (threshold: 10%)\n",
      "\n",
      " 25%|█████████████████████                                                               | 3/12 [00:28<01:25,  9.50s/it]\u001b[Adistributed.utils_perf - WARNING - full garbage collections took 18% CPU time recently (threshold: 10%)\n",
      "\n",
      " 33%|████████████████████████████                                                        | 4/12 [00:49<01:53, 14.22s/it]\u001b[Adistributed.utils_perf - WARNING - full garbage collections took 18% CPU time recently (threshold: 10%)\n",
      "\n",
      " 42%|███████████████████████████████████                                                 | 5/12 [01:05<01:42, 14.59s/it]\u001b[Adistributed.utils_perf - WARNING - full garbage collections took 18% CPU time recently (threshold: 10%)\n",
      "\n",
      " 50%|██████████████████████████████████████████                                          | 6/12 [01:16<01:20, 13.39s/it]\u001b[Adistributed.utils_perf - WARNING - full garbage collections took 18% CPU time recently (threshold: 10%)\n",
      "\n",
      " 58%|█████████████████████████████████████████████████                                   | 7/12 [01:26<01:01, 12.22s/it]\u001b[Adistributed.utils_perf - WARNING - full garbage collections took 17% CPU time recently (threshold: 10%)\n",
      "\n",
      " 67%|████████████████████████████████████████████████████████                            | 8/12 [01:35<00:45, 11.46s/it]\u001b[Adistributed.utils_perf - WARNING - full garbage collections took 17% CPU time recently (threshold: 10%)\n",
      "\n",
      " 75%|███████████████████████████████████████████████████████████████                     | 9/12 [01:45<00:32, 10.95s/it]\u001b[Adistributed.utils_perf - WARNING - full garbage collections took 17% CPU time recently (threshold: 10%)\n",
      "\n",
      " 83%|█████████████████████████████████████████████████████████████████████▏             | 10/12 [01:56<00:21, 10.74s/it]\u001b[Adistributed.utils_perf - WARNING - full garbage collections took 17% CPU time recently (threshold: 10%)\n",
      "\n",
      " 92%|████████████████████████████████████████████████████████████████████████████       | 11/12 [02:05<00:10, 10.48s/it]\u001b[Adistributed.utils_perf - WARNING - full garbage collections took 17% CPU time recently (threshold: 10%)\n",
      "\n",
      "100%|███████████████████████████████████████████████████████████████████████████████████| 12/12 [02:15<00:00, 11.30s/it]\u001b[A\n"
     ]
    },
    {
     "name": "stdout",
     "output_type": "stream",
     "text": [
      "running row: 13 of 17\n"
     ]
    },
    {
     "name": "stderr",
     "output_type": "stream",
     "text": [
      "\n",
      "  0%|                                                                                            | 0/12 [00:00<?, ?it/s]\u001b[Adistributed.utils_perf - WARNING - full garbage collections took 17% CPU time recently (threshold: 10%)\n",
      "\n",
      "  8%|███████                                                                             | 1/12 [00:11<02:03, 11.24s/it]\u001b[Adistributed.utils_perf - WARNING - full garbage collections took 17% CPU time recently (threshold: 10%)\n",
      "\n",
      " 17%|██████████████                                                                      | 2/12 [00:22<01:53, 11.35s/it]\u001b[Adistributed.utils_perf - WARNING - full garbage collections took 17% CPU time recently (threshold: 10%)\n",
      "\n",
      " 25%|█████████████████████                                                               | 3/12 [00:33<01:38, 10.96s/it]\u001b[Adistributed.utils_perf - WARNING - full garbage collections took 16% CPU time recently (threshold: 10%)\n",
      "\n",
      " 33%|████████████████████████████                                                        | 4/12 [00:43<01:26, 10.84s/it]\u001b[Adistributed.utils_perf - WARNING - full garbage collections took 16% CPU time recently (threshold: 10%)\n",
      "\n",
      " 42%|███████████████████████████████████                                                 | 5/12 [00:55<01:16, 11.00s/it]\u001b[Adistributed.utils_perf - WARNING - full garbage collections took 16% CPU time recently (threshold: 10%)\n",
      "\n",
      " 50%|██████████████████████████████████████████                                          | 6/12 [01:06<01:06, 11.06s/it]\u001b[Adistributed.utils_perf - WARNING - full garbage collections took 16% CPU time recently (threshold: 10%)\n",
      "\n",
      " 58%|█████████████████████████████████████████████████                                   | 7/12 [01:29<01:14, 14.89s/it]\u001b[Adistributed.utils_perf - WARNING - full garbage collections took 16% CPU time recently (threshold: 10%)\n",
      "\n",
      " 67%|████████████████████████████████████████████████████████                            | 8/12 [01:45<01:01, 15.45s/it]\u001b[Adistributed.utils_perf - WARNING - full garbage collections took 16% CPU time recently (threshold: 10%)\n",
      "\n",
      " 75%|███████████████████████████████████████████████████████████████                     | 9/12 [01:57<00:43, 14.40s/it]\u001b[Adistributed.utils_perf - WARNING - full garbage collections took 16% CPU time recently (threshold: 10%)\n",
      "\n",
      " 83%|█████████████████████████████████████████████████████████████████████▏             | 10/12 [02:10<00:27, 13.95s/it]\u001b[Adistributed.utils_perf - WARNING - full garbage collections took 16% CPU time recently (threshold: 10%)\n",
      "\n",
      " 92%|████████████████████████████████████████████████████████████████████████████       | 11/12 [02:23<00:13, 13.48s/it]\u001b[Adistributed.utils_perf - WARNING - full garbage collections took 16% CPU time recently (threshold: 10%)\n",
      "\n",
      "100%|███████████████████████████████████████████████████████████████████████████████████| 12/12 [02:34<00:00, 12.89s/it]\u001b[A\n"
     ]
    },
    {
     "name": "stdout",
     "output_type": "stream",
     "text": [
      "running row: 14 of 17\n"
     ]
    },
    {
     "name": "stderr",
     "output_type": "stream",
     "text": [
      "\n",
      "  0%|                                                                                            | 0/12 [00:00<?, ?it/s]\u001b[Adistributed.utils_perf - WARNING - full garbage collections took 15% CPU time recently (threshold: 10%)\n",
      "\n",
      "  8%|███████                                                                             | 1/12 [00:13<02:26, 13.32s/it]\u001b[Adistributed.utils_perf - WARNING - full garbage collections took 15% CPU time recently (threshold: 10%)\n",
      "\n",
      " 17%|██████████████                                                                      | 2/12 [00:25<02:06, 12.68s/it]\u001b[Adistributed.utils_perf - WARNING - full garbage collections took 15% CPU time recently (threshold: 10%)\n",
      "\n",
      " 25%|█████████████████████                                                               | 3/12 [00:39<01:57, 13.07s/it]\u001b[Adistributed.utils_perf - WARNING - full garbage collections took 15% CPU time recently (threshold: 10%)\n",
      "\n",
      " 33%|████████████████████████████                                                        | 4/12 [00:51<01:43, 12.95s/it]\u001b[Adistributed.utils_perf - WARNING - full garbage collections took 14% CPU time recently (threshold: 10%)\n",
      "\n",
      " 42%|███████████████████████████████████                                                 | 5/12 [01:04<01:30, 12.87s/it]\u001b[Adistributed.utils_perf - WARNING - full garbage collections took 14% CPU time recently (threshold: 10%)\n",
      "\n",
      " 50%|██████████████████████████████████████████                                          | 6/12 [01:17<01:17, 12.93s/it]\u001b[Adistributed.utils_perf - WARNING - full garbage collections took 14% CPU time recently (threshold: 10%)\n",
      "\n",
      " 58%|█████████████████████████████████████████████████                                   | 7/12 [01:30<01:04, 12.89s/it]\u001b[Adistributed.utils_perf - WARNING - full garbage collections took 14% CPU time recently (threshold: 10%)\n",
      "\n",
      " 67%|████████████████████████████████████████████████████████                            | 8/12 [01:43<00:51, 12.80s/it]\u001b[Adistributed.utils_perf - WARNING - full garbage collections took 14% CPU time recently (threshold: 10%)\n",
      "\n",
      " 75%|███████████████████████████████████████████████████████████████                     | 9/12 [01:56<00:38, 12.85s/it]\u001b[Adistributed.utils_perf - WARNING - full garbage collections took 14% CPU time recently (threshold: 10%)\n",
      "\n",
      " 83%|█████████████████████████████████████████████████████████████████████▏             | 10/12 [02:21<00:33, 16.68s/it]\u001b[Adistributed.utils_perf - WARNING - full garbage collections took 14% CPU time recently (threshold: 10%)\n",
      "\n",
      " 92%|████████████████████████████████████████████████████████████████████████████       | 11/12 [02:39<00:17, 17.06s/it]\u001b[Adistributed.utils_perf - WARNING - full garbage collections took 14% CPU time recently (threshold: 10%)\n",
      "\n",
      "100%|███████████████████████████████████████████████████████████████████████████████████| 12/12 [02:52<00:00, 14.34s/it]\u001b[A\n"
     ]
    },
    {
     "name": "stdout",
     "output_type": "stream",
     "text": [
      "running row: 15 of 17\n"
     ]
    },
    {
     "name": "stderr",
     "output_type": "stream",
     "text": [
      "\n",
      "  0%|                                                                                            | 0/12 [00:00<?, ?it/s]\u001b[Adistributed.utils_perf - WARNING - full garbage collections took 14% CPU time recently (threshold: 10%)\n",
      "\n",
      "  8%|███████                                                                             | 1/12 [00:13<02:27, 13.43s/it]\u001b[Adistributed.utils_perf - WARNING - full garbage collections took 13% CPU time recently (threshold: 10%)\n",
      "\n",
      " 17%|██████████████                                                                      | 2/12 [00:26<02:14, 13.46s/it]\u001b[Adistributed.utils_perf - WARNING - full garbage collections took 13% CPU time recently (threshold: 10%)\n",
      "\n",
      " 25%|█████████████████████                                                               | 3/12 [00:40<02:02, 13.61s/it]\u001b[Adistributed.utils_perf - WARNING - full garbage collections took 13% CPU time recently (threshold: 10%)\n",
      "\n",
      " 33%|████████████████████████████                                                        | 4/12 [00:54<01:49, 13.73s/it]\u001b[Adistributed.utils_perf - WARNING - full garbage collections took 13% CPU time recently (threshold: 10%)\n",
      "\n",
      " 42%|███████████████████████████████████                                                 | 5/12 [01:08<01:35, 13.70s/it]\u001b[Adistributed.utils_perf - WARNING - full garbage collections took 13% CPU time recently (threshold: 10%)\n",
      "\n",
      " 50%|██████████████████████████████████████████                                          | 6/12 [01:22<01:22, 13.75s/it]\u001b[Adistributed.utils_perf - WARNING - full garbage collections took 13% CPU time recently (threshold: 10%)\n",
      "\n",
      " 58%|█████████████████████████████████████████████████                                   | 7/12 [01:35<01:08, 13.69s/it]\u001b[Adistributed.utils_perf - WARNING - full garbage collections took 13% CPU time recently (threshold: 10%)\n",
      "\n",
      " 67%|████████████████████████████████████████████████████████                            | 8/12 [01:49<00:54, 13.70s/it]\u001b[Adistributed.utils_perf - WARNING - full garbage collections took 13% CPU time recently (threshold: 10%)\n",
      "\n",
      " 75%|███████████████████████████████████████████████████████████████                     | 9/12 [02:03<00:41, 13.76s/it]\u001b[Adistributed.utils_perf - WARNING - full garbage collections took 13% CPU time recently (threshold: 10%)\n",
      "\n",
      " 83%|█████████████████████████████████████████████████████████████████████▏             | 10/12 [02:17<00:27, 13.99s/it]\u001b[Adistributed.utils_perf - WARNING - full garbage collections took 12% CPU time recently (threshold: 10%)\n",
      "\n",
      " 92%|████████████████████████████████████████████████████████████████████████████       | 11/12 [02:31<00:13, 14.00s/it]\u001b[Adistributed.utils_perf - WARNING - full garbage collections took 12% CPU time recently (threshold: 10%)\n",
      "\n",
      "100%|███████████████████████████████████████████████████████████████████████████████████| 12/12 [02:45<00:00, 13.79s/it]\u001b[A\n"
     ]
    },
    {
     "name": "stdout",
     "output_type": "stream",
     "text": [
      "running row: 16 of 17\n"
     ]
    },
    {
     "name": "stderr",
     "output_type": "stream",
     "text": [
      "\n",
      "  0%|                                                                                            | 0/12 [00:00<?, ?it/s]\u001b[Adistributed.utils_perf - WARNING - full garbage collections took 12% CPU time recently (threshold: 10%)\n",
      "distributed.nanny - WARNING - Worker exceeded 95% memory budget. Restarting\n",
      "distributed.client - ERROR - Restart timed out after 9.00 seconds\n",
      "\n",
      "  8%|███████                                                                             | 1/12 [00:33<06:12, 33.90s/it]\u001b[A\n",
      " 17%|██████████████                                                                      | 2/12 [00:56<04:33, 27.37s/it]\u001b[A\n",
      " 25%|█████████████████████                                                               | 3/12 [01:11<03:13, 21.53s/it]\u001b[A\n",
      " 33%|████████████████████████████                                                        | 4/12 [01:25<02:30, 18.82s/it]\u001b[A\n",
      " 42%|███████████████████████████████████                                                 | 5/12 [01:40<02:00, 17.23s/it]\u001b[A\n",
      " 50%|██████████████████████████████████████████                                          | 6/12 [01:54<01:37, 16.31s/it]\u001b[A\n",
      " 58%|█████████████████████████████████████████████████                                   | 7/12 [02:09<01:18, 15.72s/it]\u001b[A\n",
      " 67%|████████████████████████████████████████████████████████                            | 8/12 [02:23<01:01, 15.27s/it]\u001b[A\n",
      " 75%|███████████████████████████████████████████████████████████████                     | 9/12 [02:38<00:45, 15.06s/it]\u001b[A\n",
      " 83%|█████████████████████████████████████████████████████████████████████▏             | 10/12 [02:54<00:30, 15.31s/it]\u001b[A\n",
      " 92%|████████████████████████████████████████████████████████████████████████████       | 11/12 [03:09<00:15, 15.24s/it]\u001b[A\n",
      "100%|███████████████████████████████████████████████████████████████████████████████████| 12/12 [03:24<00:00, 17.00s/it]\u001b[A\n"
     ]
    },
    {
     "name": "stdout",
     "output_type": "stream",
     "text": [
      "running row: 17 of 17\n"
     ]
    },
    {
     "name": "stderr",
     "output_type": "stream",
     "text": [
      "\n",
      "  0%|                                                                                            | 0/12 [00:00<?, ?it/s]\u001b[A\n",
      "  8%|███████                                                                             | 1/12 [00:15<02:51, 15.58s/it]\u001b[A\n",
      " 17%|██████████████                                                                      | 2/12 [00:31<02:35, 15.58s/it]\u001b[A\n",
      " 25%|█████████████████████                                                               | 3/12 [00:46<02:21, 15.70s/it]\u001b[A\n",
      " 33%|████████████████████████████                                                        | 4/12 [01:14<02:42, 20.31s/it]\u001b[A\n",
      " 42%|███████████████████████████████████                                                 | 5/12 [01:34<02:22, 20.33s/it]\u001b[A\n",
      " 50%|██████████████████████████████████████████                                          | 6/12 [01:50<01:52, 18.68s/it]\u001b[A\n",
      " 58%|█████████████████████████████████████████████████                                   | 7/12 [02:06<01:28, 17.74s/it]\u001b[A\n",
      " 67%|████████████████████████████████████████████████████████                            | 8/12 [02:21<01:07, 17.00s/it]\u001b[A\n",
      " 75%|███████████████████████████████████████████████████████████████                     | 9/12 [02:37<00:49, 16.60s/it]\u001b[A\n",
      " 83%|█████████████████████████████████████████████████████████████████████▏             | 10/12 [02:53<00:32, 16.47s/it]\u001b[A\n",
      " 92%|████████████████████████████████████████████████████████████████████████████       | 11/12 [03:08<00:16, 16.13s/it]\u001b[A\n",
      "100%|███████████████████████████████████████████████████████████████████████████████████| 12/12 [03:24<00:00, 17.00s/it]\u001b[A\n"
     ]
    },
    {
     "name": "stdout",
     "output_type": "stream",
     "text": [
      "Pasture-group finished!\n"
     ]
    },
    {
     "name": "stderr",
     "output_type": "stream",
     "text": [
      "100%|██████████████████████████████████████████████████████████████████████████████████| 5/5 [1:23:02<00:00, 996.58s/it]\n"
     ]
    }
   ],
   "source": [
    "cper_gdf = gpd.read_file(cper_f)\n",
    "\n",
    "for pasture in tqdm(img_f_dict):\n",
    "    print('\\n\\n----------\\nPasture: ' + pasture)\n",
    "\n",
    "    # get the bounding box of the pasture\n",
    "    past_bbox = cper_gdf[cper_gdf['Past_Name_'] == pasture].buffer(\n",
    "        full_buff_size).bounds.apply(lambda x: int(x))\n",
    "\n",
    "    total_bounds = {'xmin': past_bbox['minx'],\n",
    "                    'xmax': past_bbox['maxx'],\n",
    "                    'ymin': past_bbox['miny'],\n",
    "                    'ymax': past_bbox['maxy']}\n",
    "\n",
    "    n_row_tiles = int(np.ceil((total_bounds['ymax'] - total_bounds['ymin'])/full_tile_size))\n",
    "    n_col_tiles = int(np.ceil((total_bounds['xmax'] - total_bounds['xmin'])/full_tile_size))\n",
    "\n",
    "    outSHP = os.path.join(outDIR, 'burrow_pts_pred_' + '_'.join([pasture] + inputs_fnl + [str(res_fnl)]) + 'cm.shp')\n",
    "    if os.path.exists(outSHP):\n",
    "        gdf_out = gpd.read_file(outSHP)\n",
    "        r_ct_pred = len(gdf_out)\n",
    "        rc_completed = gdf_out.apply(lambda x: '_'.join([str(x.tile_row), str(x.tile_col)]), axis=1).unique()\n",
    "    elif os.path.exists(re.sub('.shp', '.csv', outSHP)):\n",
    "        gdf_out = pd.read_csv(re.sub('.shp', '.csv', outSHP))\n",
    "        r_ct_pred = len(gdf_out)\n",
    "        rc_completed = gdf_out.apply(lambda x: '_'.join([str(x.tile_row), str(x.tile_col)]), axis=1).unique()\n",
    "    else:\n",
    "        r_ct_pred = 0\n",
    "        gdf_out = gpd.GeoDataFrame()\n",
    "        rc_completed = []\n",
    "    tile_ct = 0\n",
    "    for full_r in range(n_row_tiles):\n",
    "        print('running row: ' + str(full_r + 1) + ' of ' + str(n_row_tiles))\n",
    "        for full_c in tqdm(range(n_col_tiles)):\n",
    "            if len(client.cluster.workers) < 8:\n",
    "                client.shutdown()\n",
    "                client.close()\n",
    "                cluster = LocalCluster(n_workers=8, threads_per_worker=2, processes=True)\n",
    "                client = Client(cluster)\n",
    "                client.amm.start()\n",
    "            if '_'.join([str(full_r), str(full_c)]) in rc_completed:\n",
    "                #print('skipping row/column combination, already in shapefile!')\n",
    "                continue\n",
    "            else:\n",
    "                try:\n",
    "                    t0=time.time()\n",
    "\n",
    "                    ll_tile = [full_c * full_tile_size + total_bounds['xmin'],\n",
    "                               full_r * full_tile_size + total_bounds['ymin']]\n",
    "                    ul_tile = [ll_tile[0], ll_tile[1] + full_tile_size]\n",
    "                    ur_tile = [x + full_tile_size for x in ll_tile]\n",
    "                    lr_tile = [ll_tile[0] + full_tile_size, ll_tile[1]]\n",
    "                    tile_poly = Polygon([ll_tile, ul_tile, ur_tile, lr_tile])\n",
    "\n",
    "                    ll = [full_c * full_tile_size + total_bounds['xmin'] - buff_size_m,\n",
    "                          full_r * full_tile_size + total_bounds['ymin'] - buff_size_m]\n",
    "                    ul = [ll[0], ll[1] + full_tile_size + (buff_size_m * 2.0)]\n",
    "                    ur = [x + full_tile_size + (buff_size_m * 2.0) for x in ll]\n",
    "                    lr = [ll[0] + full_tile_size + (buff_size_m * 2.0), ll[1]]\n",
    "\n",
    "                    image_dict = {}\n",
    "                    newsize_r = int(round((ul[1] - ll[1]) / (res_fnl * 0.01), 0))\n",
    "                    newsize_c = int(round((lr[0] - ll[0]) / (res_fnl * 0.01), 0))\n",
    "                    if 'rgb' in inputs_fnl:\n",
    "                        #print('getting RGB')\n",
    "                        t1=time.time()\n",
    "\n",
    "                        rgb_xr_list = []\n",
    "                        #print('creating RGB list')\n",
    "                        for rgb_f in img_f_dict[pasture]['rgb']:\n",
    "                            with riox.open_rasterio(rgb_f, masked=True, cache=False) as rgb_src:\n",
    "                                rgb_xr_list.append(rgb_src.sel(band=slice(0, 3),\n",
    "                                                               x=slice(ll[0], lr[0]),\n",
    "                                                               y=slice(ul[1], ll[1]), \n",
    "                                                               drop=True).load())\n",
    "                        #print('masking')\n",
    "                        rgb_xr_list = [x for x in rgb_xr_list if not any([s == 0 for s in x.shape])]\n",
    "                        rgb_xr_list = [x.where(x != 255) for x in rgb_xr_list if not x.where(x != 255).isnull().all().values]\n",
    "                        rgb_null_ct = [x.isnull().sum().values.item() for x in rgb_xr_list]\n",
    "                        rgb_nonull_mask = [x==0 for x in rgb_null_ct]\n",
    "                        if any(rgb_nonull_mask):\n",
    "                            rgb_xr_list = [rgb_xr_list[np.argsort(rgb_null_ct)[0]]]\n",
    "                        else:\n",
    "                            rgb_xr_list = [rgb_xr_list[i] for i in np.argsort(rgb_null_ct)]\n",
    "                        #print('writing nodata')\n",
    "                        rgb_xr_list = [x.rio.write_nodata(-9999.) for x in rgb_xr_list]\n",
    "\n",
    "                        #print('merging')\n",
    "                        rgb_xr = merge_arrays(rgb_xr_list,\n",
    "                                              bounds=(ll[0], ll[1], lr[0], ur[1]), \n",
    "                                              res=res_fnl*0.01, \n",
    "                                              crs=rio.CRS.from_epsg(32613),\n",
    "                                              method='first',\n",
    "                                              nodata=-9999.)\n",
    "                        #print('masking')\n",
    "                        rgb_xr = rgb_xr.where(rgb_xr != -9999.)\n",
    "                        image_dict['rgb'] = rgb_xr.values\n",
    "                        del rgb_xr, rgb_xr_list\n",
    "                        #rgb_xr.close()\n",
    "                        t2=time.time()\n",
    "                        #print('... completed in', round(t2 - t1, 1), 'secs')\n",
    "                    if 'dsm' in inputs_fnl or 'tpi' in inputs_fnl:\n",
    "                        t1 = time.time()\n",
    "                        #print('getting DSM')\n",
    "                        dsm_xr_list = []\n",
    "                        for dsm_f in img_f_dict[pasture]['dsm']:\n",
    "                            with riox.open_rasterio(dsm_f, masked=True, cache=False) as dsm_src:\n",
    "                                dsm_xr_list.append(dsm_src.sel(x=slice(ll[0], lr[0]),\n",
    "                                                               y=slice(ul[1], ll[1]), \n",
    "                                                               drop=True).load())\n",
    "\n",
    "                        dsm_xr_list = [x for x in dsm_xr_list if not any([s == 0 for s in x.shape])]\n",
    "                        dsm_xr_list = [x.where(x > 0).squeeze() for x in dsm_xr_list if not x.where(x > 0).isnull().all().values]\n",
    "                        dsm_null_ct = [x.isnull().sum().values.item() for x in dsm_xr_list]\n",
    "                        dsm_nonull_mask = [x==0 for x in dsm_null_ct]\n",
    "                        if any(dsm_nonull_mask):\n",
    "                            dsm_xr_list = [dsm_xr_list[np.argsort(dsm_null_ct)[0]]]\n",
    "                        else:\n",
    "                            dsm_xr_list = [dsm_xr_list[i] for i in np.argsort(dsm_null_ct)]\n",
    "                        dsm_xr_list = [x.rio.write_nodata(-9999.) for x in dsm_xr_list]\n",
    "\n",
    "                        dsm_xr = merge_arrays(dsm_xr_list,\n",
    "                                              bounds=(ll[0], ll[1], lr[0], ur[1]), \n",
    "                                              res=res_fnl*0.01, \n",
    "                                              crs=rio.CRS.from_epsg(32613),\n",
    "                                              method='first',\n",
    "                                              nodata=-9999.)\n",
    "\n",
    "                        dsm_xr = dsm_xr.where(dsm_xr != -9999.)\n",
    "\n",
    "                        if 'dsm' in inputs_fnl:\n",
    "                            image_dict['dsm'] = dsm_xr.values\n",
    "                        #dsm_xr.close()\n",
    "                        t2=time.time()\n",
    "                        #print('... completed in', round(t2 - t1, 1), 'secs')\n",
    "                    if 'tpi' in inputs_fnl: \n",
    "                        t1 = time.time()\n",
    "                        #print('computing TPI')\n",
    "                        # prepare an annulus kernel with a ring at a distance from 5-10 cells away from focal point\n",
    "                        outer_radius = \"0.75m\"\n",
    "                        inner_radius = \"0.25m\"\n",
    "                        image_dict['tpi'] = calc_tpi(dsm_xr.chunk({'x': chunk_size,\n",
    "                                                                   'y': chunk_size}), \n",
    "                                                     inner_r=inner_radius, \n",
    "                                                     outer_r=outer_radius, \n",
    "                                                     interpolate=False,\n",
    "                                                     values=True)\n",
    "                        del dsm_xr, dsm_xr_list\n",
    "                        #dsm_xr.close()\n",
    "                        t2=time.time()\n",
    "                        #print('... completed in', round(t2 - t1, 1), 'secs')\n",
    "                    if 'ndvi' in inputs_fnl:\n",
    "                        t1 = time.time()\n",
    "                        #print('computing NDVI')\n",
    "                        ms_xr_list = []\n",
    "                        for ms_f in img_f_dict[pasture]['ms']:\n",
    "                            with riox.open_rasterio(ms_f, masked=True, cache=False) as ms_src:\n",
    "                                ms_xr_list.append(ms_src.sel(band=[4, 3],\n",
    "                                                               x=slice(ll[0], lr[0]),\n",
    "                                                               y=slice(ul[1], ll[1]), \n",
    "                                                               drop=True).load())\n",
    "\n",
    "                        ms_xr_list = [x for x in ms_xr_list if not any([s == 0 for s in x.shape])]\n",
    "                        ms_xr_list = [x.where(x != 65535) for x in ms_xr_list if not x.where(x != 65535).isnull().all().values]\n",
    "                        ms_null_ct = [x.isnull().sum().values.item() for x in ms_xr_list]\n",
    "                        ms_nonull_mask = [x==0 for x in ms_null_ct]\n",
    "                        if any(ms_nonull_mask):\n",
    "                            ms_xr_list = [ms_xr_list[np.argsort(ms_null_ct)[0]]]\n",
    "                        else:\n",
    "                            ms_xr_list = [ms_xr_list[i] for i in np.argsort(ms_null_ct)]\n",
    "                        ms_xr_list = [x.rio.write_nodata(-9999.) for x in ms_xr_list]\n",
    "\n",
    "                        ms_xr = merge_arrays(ms_xr_list,\n",
    "                                              bounds=(ll[0], ll[1], lr[0], ur[1]), \n",
    "                                              res=res_fnl*0.01, \n",
    "                                              crs=rio.CRS.from_epsg(32613),\n",
    "                                              method='first',\n",
    "                                              nodata=-9999.)\n",
    "\n",
    "                        ms_xr = ms_xr.where(ms_xr != -9999.)\n",
    "                        image_dict['ndvi'] = calc_ndvi(ms_xr, values=True, interpolate=False)\n",
    "                        del ms_xr, ms_xr_list\n",
    "                        #ms_xr.close()\n",
    "                        t2=time.time()\n",
    "                        #print('... completed in', round(t2 - t1, 1), 'secs')\n",
    "\n",
    "                    if 'rgb' in image_dict:\n",
    "                        tshape = image_dict['rgb'].shape[1:]\n",
    "                    else:\n",
    "                        tshape = image_dict[inputs_fnl[0]].shape\n",
    "\n",
    "                    n_row_chunks = int(np.ceil(tshape[0]/tile_size))\n",
    "                    n_col_chunks = int(np.ceil(tshape[1]/tile_size))\n",
    "\n",
    "                    pr_mask = np.empty(tshape)\n",
    "                    t1 = time.time()\n",
    "                    #print('predicting binary burrow image')\n",
    "                    for r in range(n_row_chunks):\n",
    "                        if (r + 1) * tile_size > tshape[0]:\n",
    "                            r_min = tshape[0] - tile_size\n",
    "                            r_max = tshape[0]\n",
    "                            r_max_comp = tshape[0]\n",
    "                        elif (r + 1) * tile_size + buff_size > tshape[0]:\n",
    "                            r_min = r * tile_size\n",
    "                            r_max = (r + 1) * tile_size\n",
    "                            r_max_comp = r_max\n",
    "                        else:\n",
    "                            r_min = r * tile_size\n",
    "                            r_max = (r + 1) * tile_size\n",
    "                            r_max_comp = r_max + buff_size\n",
    "                        for c in range(n_col_chunks):\n",
    "                            image_sub_dict = {}\n",
    "                            if (c + 1) * tile_size > tshape[1]:\n",
    "                                c_min = tshape[1] - tile_size\n",
    "                                c_max = tshape[1]\n",
    "                                c_max_comp = tshape[1]\n",
    "                            elif (c + 1) * tile_size + buff_size > tshape[1]:\n",
    "                                c_min = c * tile_size\n",
    "                                c_max = (c + 1) * tile_size\n",
    "                                c_max_comp = c_max\n",
    "                            else:\n",
    "                                c_min = c * tile_size\n",
    "                                c_max = (c + 1) * tile_size\n",
    "                                c_max_comp = c_max + buff_size\n",
    "                            for k in image_dict:\n",
    "                                if k == 'rgb':\n",
    "                                    image_sub_dict[k] = image_dict[k][:,\n",
    "                                                                      slice(max(0, r_min-buff_size), r_max_comp),\n",
    "                                                                      slice(max(0, c_min-buff_size), c_max_comp)].astype('float32')\n",
    "                                else:\n",
    "                                    image_sub_dict[k] = image_dict[k][slice(max(0, r_min-buff_size), r_max_comp),\n",
    "                                                                      slice(max(0, c_min-buff_size), c_max_comp)].astype('float32')\n",
    "                                if len(image_sub_dict[k].shape) == 2:\n",
    "                                    image_sub_dict[k] = np.expand_dims(image_sub_dict[k], 0)\n",
    "                                if np.all(np.isnan(image_sub_dict[k])):\n",
    "                                    continue\n",
    "                                elif np.any(np.isnan(image_sub_dict[k])):\n",
    "                                    for i in range(image_sub_dict[k].shape[0]):\n",
    "                                        if np.any(np.isnan(image_sub_dict[k][i, :, :])):\n",
    "                                            data = image_sub_dict[k][i, :, :].copy()\n",
    "                                            mask = np.where(~np.isnan(data))\n",
    "                                            interp = NearestNDInterpolator(np.transpose(mask), data[mask])\n",
    "                                            image_sub_dict[k][i, :, :] = interp(*np.indices(data.shape))\n",
    "                                            del data, mask, interp\n",
    "    \n",
    "                            if np.any([np.all(np.isnan(image_sub_dict[k])) for k in image_sub_dict]):\n",
    "                                pr_mask[r_min:r_max, c_min:c_max] = np.nan\n",
    "                                continue\n",
    "                            else:\n",
    "                                if preprocess:\n",
    "                                    for i in image_sub_dict:\n",
    "                                        image_sub_dict[i] = normalize_fn(image_sub_dict[i], i, image_stats)\n",
    "                                image_list = [image_sub_dict[i] for i in inputs_fnl]\n",
    "                                image_out = np.concatenate(image_list, axis=0)\n",
    "                                x_tensor = torch.from_numpy(image_out).to(DEVICE).unsqueeze(0)\n",
    "                                if type(best_model) == nn.DataParallel:\n",
    "                                    pred_tmp = best_model.module.predict(x_tensor).cpu().detach().numpy().squeeze() >= prob_thresh\n",
    "                                    buff_r_min = buff_size * int(r_min-buff_size > 0)\n",
    "                                    buff_r_max = buff_size * int(r_max+buff_size <= tshape[0])\n",
    "                                    buff_c_min = buff_size * int(c_min-buff_size > 0)\n",
    "                                    buff_c_max = buff_size * int(c_max+buff_size <= tshape[1])\n",
    "                                    if pred_tmp.shape[1] > tile_size:\n",
    "                                        pr_mask[r_min:r_max, c_min:c_max] = pred_tmp[buff_r_min:pred_tmp.shape[0]-buff_r_max,\n",
    "                                                                                     buff_c_min:pred_tmp.shape[1]-buff_c_max]\n",
    "                                    else:\n",
    "                                        pr_mask[r_min:r_max, c_min:c_max] = pred_tmp\n",
    "                                else:\n",
    "                                    pred_tmp = best_model.predict(x_tensor).cpu().detach().numpy().squeeze() >= prob_thresh\n",
    "                                    buff_r_min = buff_size * int(r_min-buff_size > 0)\n",
    "                                    buff_r_max = buff_size * int(r_max+buff_size <= tshape[0])\n",
    "                                    buff_c_min = buff_size * int(c_min-buff_size > 0)\n",
    "                                    buff_c_max = buff_size * int(c_max+buff_size <= tshape[1])\n",
    "                                    if pred_tmp.shape[1] > tile_size:\n",
    "                                        pr_mask[r_min:r_max, c_min:c_max] = pred_tmp[buff_r_min:pred_tmp.shape[0]-buff_r_max,\n",
    "                                                                                     buff_c_min:pred_tmp.shape[1]-buff_c_max]\n",
    "                                    else:\n",
    "                                        pr_mask[r_min:r_max, c_min:c_max] = pred_tmp\n",
    "                    t2=time.time()\n",
    "                    #print('... completed in', round(t2 - t1, 1), 'secs')\n",
    "                    t1 = time.time()\n",
    "                    #print('getting burrow locations')\n",
    "                    if np.all(pr_mask == 0):\n",
    "                        gdf_tmp = gpd.GeoDataFrame(data=pd.DataFrame({'area': ''}, index=[r_ct_pred]))\n",
    "                        gdf_tmp['tile_row'] = full_r\n",
    "                        gdf_tmp['tile_col'] =  full_c\n",
    "                        gdf_tmp['tile_size'] = full_tile_size\n",
    "                        gdf_out = pd.concat([gdf_out, gdf_tmp])\n",
    "                        del gdf_tmp\n",
    "                        r_ct_pred += 1\n",
    "                    else:\n",
    "                        pr_labels = label(pr_mask)\n",
    "                        pr_regions = regionprops(pr_labels)\n",
    "                        pr_regions = [r for r in pr_regions if (r.area*(res_fnl/100)**2 > 0.05) & (r.area*(res_fnl/100)**2 < 5.0)]\n",
    "                        if len(pr_regions) == 0:\n",
    "                            #print('no burrow locations found!')\n",
    "                            gdf_tmp = gpd.GeoDataFrame(data=pd.DataFrame({'area': ''}, index=[r_ct_pred]))\n",
    "                            gdf_tmp['tile_row'] = full_r\n",
    "                            gdf_tmp['tile_col'] =  full_c\n",
    "                            gdf_tmp['tile_size'] = full_tile_size\n",
    "                            gdf_out = pd.concat([gdf_out, gdf_tmp])\n",
    "                            del gdf_tmp\n",
    "                            r_ct_pred += 1\n",
    "                        else:\n",
    "                            r_ct_tile = 0\n",
    "                            for r in pr_regions:\n",
    "                                gdf_tmp = gpd.GeoDataFrame(data=pd.DataFrame({'area': r.area}, \n",
    "                                                                             index=[r_ct_pred]), \n",
    "                                                           geometry=[Point([ll[0] + r.centroid[1]*(res_fnl*0.01),\n",
    "                                                                            ul[1] - r.centroid[0]*(res_fnl*0.01)])], \n",
    "                                                           crs='EPSG:32613')\n",
    "                                if gdf_tmp.geometry.within(tile_poly).values[0]:\n",
    "                                    gdf_tmp['tile_row'] = full_r\n",
    "                                    gdf_tmp['tile_col'] =  full_c\n",
    "                                    gdf_tmp['tile_size'] = full_tile_size\n",
    "                                    gdf_out = pd.concat([gdf_out, gdf_tmp])\n",
    "                                    r_ct_tile += 1\n",
    "                                if type(gdf_out) is pd.core.frame.DataFrame:\n",
    "                                    gdf_out = gpd.GeoDataFrame(gdf_out, geometry = gdf_out['geometry'])\n",
    "                                del gdf_tmp\n",
    "                                r_ct_pred += 1\n",
    "                            if r_ct_tile == 0:\n",
    "                                gdf_tmp = gpd.GeoDataFrame(data=pd.DataFrame({'area': ''}, index=[r_ct_pred]))\n",
    "                                gdf_tmp['tile_row'] = full_r\n",
    "                                gdf_tmp['tile_col'] =  full_c\n",
    "                                gdf_tmp['tile_size'] = full_tile_size\n",
    "                                gdf_out = pd.concat([gdf_out, gdf_tmp])\n",
    "                                del gdf_tmp\n",
    "                                r_ct_pred += 1\n",
    "                        t2=time.time()\n",
    "                        #print('... completed in', round(t2 - t1, 1), 'secs')\n",
    "                    if type(gdf_out) is pd.core.frame.DataFrame:\n",
    "                        gdf_out.to_csv(re.sub('.shp', '.csv', outSHP), index=False)\n",
    "                    else:\n",
    "                        gdf_out.to_file(outSHP)\n",
    "                    try:\n",
    "                        del pr_mask, pred_tmp, pr_labels, pr_regions, image_dict, image_sub_dict, image_list, image_out\n",
    "                    except NameError:\n",
    "                        pass\n",
    "                    gc.collect()\n",
    "                    client.run(gc.collect)\n",
    "                    client.run(trim_memory)\n",
    "                    if (tile_ct > 0) & (tile_ct % 15 == 0):\n",
    "                        try:\n",
    "                            client.restart(timeout=9)\n",
    "                            time.sleep(10)\n",
    "                        except TimeoutError:\n",
    "                            client.shutdown()\n",
    "                            client.close()\n",
    "                            cluster = LocalCluster(n_workers=8, threads_per_worker=2, processes=True)\n",
    "                            client = Client(cluster)\n",
    "                            client.amm.start()\n",
    "\n",
    "                    #client.restart()\n",
    "                except NoDataInBounds:\n",
    "                    gdf_tmp = gpd.GeoDataFrame(data=pd.DataFrame({'area': ''}, index=[r_ct_pred]))\n",
    "                    gdf_tmp['tile_row'] = full_r\n",
    "                    gdf_tmp['tile_col'] =  full_c\n",
    "                    gdf_tmp['tile_size'] = full_tile_size\n",
    "                    gdf_out = pd.concat([gdf_out, gdf_tmp])\n",
    "                    del gdf_tmp\n",
    "                    r_ct_pred += 1\n",
    "                    if type(gdf_out) is pd.core.frame.DataFrame:\n",
    "                        gdf_out.to_csv(re.sub('.shp', '.csv', outSHP), index=False)\n",
    "                    else:\n",
    "                        gdf_out.to_file(outSHP)\n",
    "                    continue\n",
    "                    #print('No data in bounds. Skipping row/column.')\n",
    "            tile_ct += 1\n",
    "        #if not '_'.join([str(full_r), str(full_c)]) in rc_completed:\n",
    "    print('Pasture-group finished!')\n",
    "    try:\n",
    "        client.restart(timeout=9)\n",
    "        time.sleep(10)\n",
    "    except TimeoutError:\n",
    "        client.shutdown()\n",
    "        client.close()\n",
    "        cluster = LocalCluster(n_workers=8, threads_per_worker=2, processes=True)\n",
    "        client = Client(cluster)\n",
    "        client.amm.start()\n"
   ]
  },
  {
   "cell_type": "code",
   "execution_count": null,
   "id": "68a0aa95-9252-47d2-8282-5852faa70c8c",
   "metadata": {},
   "outputs": [],
   "source": []
  },
  {
   "cell_type": "code",
   "execution_count": null,
   "id": "f9de82b0-308d-4ba7-b1b9-c107dabc7a50",
   "metadata": {},
   "outputs": [],
   "source": []
  }
 ],
 "metadata": {
  "kernelspec": {
   "display_name": "Python 3 (ipykernel)",
   "language": "python",
   "name": "python3"
  },
  "language_info": {
   "codemirror_mode": {
    "name": "ipython",
    "version": 3
   },
   "file_extension": ".py",
   "mimetype": "text/x-python",
   "name": "python",
   "nbconvert_exporter": "python",
   "pygments_lexer": "ipython3",
   "version": "3.9.13"
  }
 },
 "nbformat": 4,
 "nbformat_minor": 5
}
