{
 "cells": [
  {
   "cell_type": "code",
   "execution_count": 1,
   "id": "9e2bd11b-adb7-44d3-a1a9-137a83606ab5",
   "metadata": {},
   "outputs": [],
   "source": [
    "from shapely.geometry import Polygon, Point\n",
    "import itertools\n",
    "import geopandas as gpd\n",
    "import pandas as pd\n",
    "import rasterio as rio\n",
    "from rasterio.features import rasterize\n",
    "from rasterio import mask\n",
    "from rasterio.plot import show\n",
    "from rasterio.enums import Resampling\n",
    "import matplotlib.pyplot as plt\n",
    "from skimage.measure import label, regionprops\n",
    "import torch.nn as nn\n",
    "import numpy as np\n",
    "import shapely.wkt as wkt\n",
    "import torch\n",
    "import segmentation_models_pytorch as smp\n",
    "from segmentation_models_pytorch import utils\n",
    "from tqdm import tqdm\n",
    "from skimage.measure import label, regionprops\n",
    "import os\n",
    "import dask\n",
    "import time\n",
    "import gc\n",
    "import re\n",
    "from rioxarray.exceptions import NoDataInBounds\n",
    "from rioxarray.merge import merge_arrays\n",
    "from scipy.interpolate import NearestNDInterpolator"
   ]
  },
  {
   "cell_type": "code",
   "execution_count": 2,
   "id": "aa0f21d8-4da6-493f-8aef-c6deed579977",
   "metadata": {},
   "outputs": [
    {
     "data": {
      "text/plain": [
       "<dask.config.set at 0x7f8234382d90>"
      ]
     },
     "execution_count": 2,
     "metadata": {},
     "output_type": "execute_result"
    }
   ],
   "source": [
    "import distributed\n",
    "dask.config.set({\"distributed.nanny.environ.MALLOC_TRIM_THRESHOLD_\": 0})\n",
    "dask.config.set(scheduler='processes')"
   ]
  },
  {
   "cell_type": "code",
   "execution_count": 3,
   "id": "2e85d291-0187-49a8-8933-6b50f0dad9a5",
   "metadata": {},
   "outputs": [
    {
     "name": "stdout",
     "output_type": "stream",
     "text": [
      "0\n"
     ]
    }
   ],
   "source": [
    "import ctypes\n",
    "\n",
    "def trim_memory() -> int:\n",
    "    libc = ctypes.CDLL(\"libc.so.6\")\n",
    "    return libc.malloc_trim(0)\n",
    "\n",
    "os.environ[\"MALLOC_TRIM_THRESHOLD_\"] = str(dask.config.get(\"distributed.nanny.environ.MALLOC_TRIM_THRESHOLD_\"))\n",
    "\n",
    "print(os.environ[\"MALLOC_TRIM_THRESHOLD_\"])\n",
    "\n",
    "#os.environ[\"MALLOC_TRIM_THRESHOLD_\"] = '0'"
   ]
  },
  {
   "cell_type": "code",
   "execution_count": 4,
   "id": "ea00fa48-5d5e-4a18-a5f5-a5f4c338d448",
   "metadata": {},
   "outputs": [],
   "source": [
    "import xarray as xr\n",
    "import rioxarray as riox\n",
    "from xrspatial import convolution, focal, hillshade\n",
    "from skimage.transform import resize\n",
    "from dask.distributed import LocalCluster, Client"
   ]
  },
  {
   "cell_type": "code",
   "execution_count": 5,
   "id": "464c6224-dea0-47b1-80eb-45b6b6a4df16",
   "metadata": {},
   "outputs": [],
   "source": [
    "ENCODER = 'resnet34'\n",
    "ENCODER_WEIGHTS = 'imagenet'\n",
    "CLASSES = ['burrow']\n",
    "ACTIVATION = 'sigmoid' # could be None for logits or 'softmax2d' for multiclass segmentation\n",
    "DEVICE = 'cuda' #'cuda'# 'cpu'# \n",
    "model_fnl = 'deeplabplus'\n",
    "res_fnl = 15\n",
    "inputs_fnl = ['rgb', 'tpi'] \n",
    "preprocess = True\n",
    "prob_thresh = 0.5"
   ]
  },
  {
   "cell_type": "code",
   "execution_count": 6,
   "id": "f0d6c4e7-b288-4279-826d-39975e5db58c",
   "metadata": {},
   "outputs": [
    {
     "name": "stderr",
     "output_type": "stream",
     "text": [
      "/home/spkearney/miniconda3/envs/py_seg_env/lib/python3.9/site-packages/distributed/node.py:180: UserWarning: Port 8787 is already in use.\n",
      "Perhaps you already have a cluster running?\n",
      "Hosting the HTTP server on port 39353 instead\n",
      "  warnings.warn(\n"
     ]
    },
    {
     "data": {
      "text/html": [
       "<div>\n",
       "    <div style=\"width: 24px; height: 24px; background-color: #e1e1e1; border: 3px solid #9D9D9D; border-radius: 5px; position: absolute;\"> </div>\n",
       "    <div style=\"margin-left: 48px;\">\n",
       "        <h3 style=\"margin-bottom: 0px;\">Client</h3>\n",
       "        <p style=\"color: #9D9D9D; margin-bottom: 0px;\">Client-ddd91cf3-6571-11ed-bfb6-00155dc00384</p>\n",
       "        <table style=\"width: 100%; text-align: left;\">\n",
       "\n",
       "        <tr>\n",
       "        \n",
       "            <td style=\"text-align: left;\"><strong>Connection method:</strong> Cluster object</td>\n",
       "            <td style=\"text-align: left;\"><strong>Cluster type:</strong> distributed.LocalCluster</td>\n",
       "        \n",
       "        </tr>\n",
       "\n",
       "        \n",
       "            <tr>\n",
       "                <td style=\"text-align: left;\">\n",
       "                    <strong>Dashboard: </strong> <a href=\"http://127.0.0.1:39353/status\" target=\"_blank\">http://127.0.0.1:39353/status</a>\n",
       "                </td>\n",
       "                <td style=\"text-align: left;\"></td>\n",
       "            </tr>\n",
       "        \n",
       "\n",
       "        </table>\n",
       "\n",
       "        \n",
       "            <details>\n",
       "            <summary style=\"margin-bottom: 20px;\"><h3 style=\"display: inline;\">Cluster Info</h3></summary>\n",
       "            <div class=\"jp-RenderedHTMLCommon jp-RenderedHTML jp-mod-trusted jp-OutputArea-output\">\n",
       "    <div style=\"width: 24px; height: 24px; background-color: #e1e1e1; border: 3px solid #9D9D9D; border-radius: 5px; position: absolute;\">\n",
       "    </div>\n",
       "    <div style=\"margin-left: 48px;\">\n",
       "        <h3 style=\"margin-bottom: 0px; margin-top: 0px;\">LocalCluster</h3>\n",
       "        <p style=\"color: #9D9D9D; margin-bottom: 0px;\">0072bd52</p>\n",
       "        <table style=\"width: 100%; text-align: left;\">\n",
       "            <tr>\n",
       "                <td style=\"text-align: left;\">\n",
       "                    <strong>Dashboard:</strong> <a href=\"http://127.0.0.1:39353/status\" target=\"_blank\">http://127.0.0.1:39353/status</a>\n",
       "                </td>\n",
       "                <td style=\"text-align: left;\">\n",
       "                    <strong>Workers:</strong> 8\n",
       "                </td>\n",
       "            </tr>\n",
       "            <tr>\n",
       "                <td style=\"text-align: left;\">\n",
       "                    <strong>Total threads:</strong> 16\n",
       "                </td>\n",
       "                <td style=\"text-align: left;\">\n",
       "                    <strong>Total memory:</strong> 15.49 GiB\n",
       "                </td>\n",
       "            </tr>\n",
       "            \n",
       "            <tr>\n",
       "    <td style=\"text-align: left;\"><strong>Status:</strong> running</td>\n",
       "    <td style=\"text-align: left;\"><strong>Using processes:</strong> True</td>\n",
       "</tr>\n",
       "\n",
       "            \n",
       "        </table>\n",
       "\n",
       "        <details>\n",
       "            <summary style=\"margin-bottom: 20px;\">\n",
       "                <h3 style=\"display: inline;\">Scheduler Info</h3>\n",
       "            </summary>\n",
       "\n",
       "            <div style=\"\">\n",
       "    <div>\n",
       "        <div style=\"width: 24px; height: 24px; background-color: #FFF7E5; border: 3px solid #FF6132; border-radius: 5px; position: absolute;\"> </div>\n",
       "        <div style=\"margin-left: 48px;\">\n",
       "            <h3 style=\"margin-bottom: 0px;\">Scheduler</h3>\n",
       "            <p style=\"color: #9D9D9D; margin-bottom: 0px;\">Scheduler-9fdb8755-b36c-4d6f-bcbe-4e46217dc3d7</p>\n",
       "            <table style=\"width: 100%; text-align: left;\">\n",
       "                <tr>\n",
       "                    <td style=\"text-align: left;\">\n",
       "                        <strong>Comm:</strong> tcp://127.0.0.1:40873\n",
       "                    </td>\n",
       "                    <td style=\"text-align: left;\">\n",
       "                        <strong>Workers:</strong> 8\n",
       "                    </td>\n",
       "                </tr>\n",
       "                <tr>\n",
       "                    <td style=\"text-align: left;\">\n",
       "                        <strong>Dashboard:</strong> <a href=\"http://127.0.0.1:39353/status\" target=\"_blank\">http://127.0.0.1:39353/status</a>\n",
       "                    </td>\n",
       "                    <td style=\"text-align: left;\">\n",
       "                        <strong>Total threads:</strong> 16\n",
       "                    </td>\n",
       "                </tr>\n",
       "                <tr>\n",
       "                    <td style=\"text-align: left;\">\n",
       "                        <strong>Started:</strong> Just now\n",
       "                    </td>\n",
       "                    <td style=\"text-align: left;\">\n",
       "                        <strong>Total memory:</strong> 15.49 GiB\n",
       "                    </td>\n",
       "                </tr>\n",
       "            </table>\n",
       "        </div>\n",
       "    </div>\n",
       "\n",
       "    <details style=\"margin-left: 48px;\">\n",
       "        <summary style=\"margin-bottom: 20px;\">\n",
       "            <h3 style=\"display: inline;\">Workers</h3>\n",
       "        </summary>\n",
       "\n",
       "        \n",
       "        <div style=\"margin-bottom: 20px;\">\n",
       "            <div style=\"width: 24px; height: 24px; background-color: #DBF5FF; border: 3px solid #4CC9FF; border-radius: 5px; position: absolute;\"> </div>\n",
       "            <div style=\"margin-left: 48px;\">\n",
       "            <details>\n",
       "                <summary>\n",
       "                    <h4 style=\"margin-bottom: 0px; display: inline;\">Worker: 0</h4>\n",
       "                </summary>\n",
       "                <table style=\"width: 100%; text-align: left;\">\n",
       "                    <tr>\n",
       "                        <td style=\"text-align: left;\">\n",
       "                            <strong>Comm: </strong> tcp://127.0.0.1:35509\n",
       "                        </td>\n",
       "                        <td style=\"text-align: left;\">\n",
       "                            <strong>Total threads: </strong> 2\n",
       "                        </td>\n",
       "                    </tr>\n",
       "                    <tr>\n",
       "                        <td style=\"text-align: left;\">\n",
       "                            <strong>Dashboard: </strong> <a href=\"http://127.0.0.1:35573/status\" target=\"_blank\">http://127.0.0.1:35573/status</a>\n",
       "                        </td>\n",
       "                        <td style=\"text-align: left;\">\n",
       "                            <strong>Memory: </strong> 1.94 GiB\n",
       "                        </td>\n",
       "                    </tr>\n",
       "                    <tr>\n",
       "                        <td style=\"text-align: left;\">\n",
       "                            <strong>Nanny: </strong> tcp://127.0.0.1:44147\n",
       "                        </td>\n",
       "                        <td style=\"text-align: left;\"></td>\n",
       "                    </tr>\n",
       "                    <tr>\n",
       "                        <td colspan=\"2\" style=\"text-align: left;\">\n",
       "                            <strong>Local directory: </strong> /mnt/c/Users/TBGPEA-Sean/git_repos/cper_pdog_uas/dask-worker-space/worker-hcmkva1y\n",
       "                        </td>\n",
       "                    </tr>\n",
       "\n",
       "                    \n",
       "\n",
       "                    \n",
       "\n",
       "                </table>\n",
       "            </details>\n",
       "            </div>\n",
       "        </div>\n",
       "        \n",
       "        <div style=\"margin-bottom: 20px;\">\n",
       "            <div style=\"width: 24px; height: 24px; background-color: #DBF5FF; border: 3px solid #4CC9FF; border-radius: 5px; position: absolute;\"> </div>\n",
       "            <div style=\"margin-left: 48px;\">\n",
       "            <details>\n",
       "                <summary>\n",
       "                    <h4 style=\"margin-bottom: 0px; display: inline;\">Worker: 1</h4>\n",
       "                </summary>\n",
       "                <table style=\"width: 100%; text-align: left;\">\n",
       "                    <tr>\n",
       "                        <td style=\"text-align: left;\">\n",
       "                            <strong>Comm: </strong> tcp://127.0.0.1:46159\n",
       "                        </td>\n",
       "                        <td style=\"text-align: left;\">\n",
       "                            <strong>Total threads: </strong> 2\n",
       "                        </td>\n",
       "                    </tr>\n",
       "                    <tr>\n",
       "                        <td style=\"text-align: left;\">\n",
       "                            <strong>Dashboard: </strong> <a href=\"http://127.0.0.1:38047/status\" target=\"_blank\">http://127.0.0.1:38047/status</a>\n",
       "                        </td>\n",
       "                        <td style=\"text-align: left;\">\n",
       "                            <strong>Memory: </strong> 1.94 GiB\n",
       "                        </td>\n",
       "                    </tr>\n",
       "                    <tr>\n",
       "                        <td style=\"text-align: left;\">\n",
       "                            <strong>Nanny: </strong> tcp://127.0.0.1:42343\n",
       "                        </td>\n",
       "                        <td style=\"text-align: left;\"></td>\n",
       "                    </tr>\n",
       "                    <tr>\n",
       "                        <td colspan=\"2\" style=\"text-align: left;\">\n",
       "                            <strong>Local directory: </strong> /mnt/c/Users/TBGPEA-Sean/git_repos/cper_pdog_uas/dask-worker-space/worker-5_ozis23\n",
       "                        </td>\n",
       "                    </tr>\n",
       "\n",
       "                    \n",
       "\n",
       "                    \n",
       "\n",
       "                </table>\n",
       "            </details>\n",
       "            </div>\n",
       "        </div>\n",
       "        \n",
       "        <div style=\"margin-bottom: 20px;\">\n",
       "            <div style=\"width: 24px; height: 24px; background-color: #DBF5FF; border: 3px solid #4CC9FF; border-radius: 5px; position: absolute;\"> </div>\n",
       "            <div style=\"margin-left: 48px;\">\n",
       "            <details>\n",
       "                <summary>\n",
       "                    <h4 style=\"margin-bottom: 0px; display: inline;\">Worker: 2</h4>\n",
       "                </summary>\n",
       "                <table style=\"width: 100%; text-align: left;\">\n",
       "                    <tr>\n",
       "                        <td style=\"text-align: left;\">\n",
       "                            <strong>Comm: </strong> tcp://127.0.0.1:40067\n",
       "                        </td>\n",
       "                        <td style=\"text-align: left;\">\n",
       "                            <strong>Total threads: </strong> 2\n",
       "                        </td>\n",
       "                    </tr>\n",
       "                    <tr>\n",
       "                        <td style=\"text-align: left;\">\n",
       "                            <strong>Dashboard: </strong> <a href=\"http://127.0.0.1:35881/status\" target=\"_blank\">http://127.0.0.1:35881/status</a>\n",
       "                        </td>\n",
       "                        <td style=\"text-align: left;\">\n",
       "                            <strong>Memory: </strong> 1.94 GiB\n",
       "                        </td>\n",
       "                    </tr>\n",
       "                    <tr>\n",
       "                        <td style=\"text-align: left;\">\n",
       "                            <strong>Nanny: </strong> tcp://127.0.0.1:43821\n",
       "                        </td>\n",
       "                        <td style=\"text-align: left;\"></td>\n",
       "                    </tr>\n",
       "                    <tr>\n",
       "                        <td colspan=\"2\" style=\"text-align: left;\">\n",
       "                            <strong>Local directory: </strong> /mnt/c/Users/TBGPEA-Sean/git_repos/cper_pdog_uas/dask-worker-space/worker-993gdaib\n",
       "                        </td>\n",
       "                    </tr>\n",
       "\n",
       "                    \n",
       "\n",
       "                    \n",
       "\n",
       "                </table>\n",
       "            </details>\n",
       "            </div>\n",
       "        </div>\n",
       "        \n",
       "        <div style=\"margin-bottom: 20px;\">\n",
       "            <div style=\"width: 24px; height: 24px; background-color: #DBF5FF; border: 3px solid #4CC9FF; border-radius: 5px; position: absolute;\"> </div>\n",
       "            <div style=\"margin-left: 48px;\">\n",
       "            <details>\n",
       "                <summary>\n",
       "                    <h4 style=\"margin-bottom: 0px; display: inline;\">Worker: 3</h4>\n",
       "                </summary>\n",
       "                <table style=\"width: 100%; text-align: left;\">\n",
       "                    <tr>\n",
       "                        <td style=\"text-align: left;\">\n",
       "                            <strong>Comm: </strong> tcp://127.0.0.1:46311\n",
       "                        </td>\n",
       "                        <td style=\"text-align: left;\">\n",
       "                            <strong>Total threads: </strong> 2\n",
       "                        </td>\n",
       "                    </tr>\n",
       "                    <tr>\n",
       "                        <td style=\"text-align: left;\">\n",
       "                            <strong>Dashboard: </strong> <a href=\"http://127.0.0.1:35763/status\" target=\"_blank\">http://127.0.0.1:35763/status</a>\n",
       "                        </td>\n",
       "                        <td style=\"text-align: left;\">\n",
       "                            <strong>Memory: </strong> 1.94 GiB\n",
       "                        </td>\n",
       "                    </tr>\n",
       "                    <tr>\n",
       "                        <td style=\"text-align: left;\">\n",
       "                            <strong>Nanny: </strong> tcp://127.0.0.1:43675\n",
       "                        </td>\n",
       "                        <td style=\"text-align: left;\"></td>\n",
       "                    </tr>\n",
       "                    <tr>\n",
       "                        <td colspan=\"2\" style=\"text-align: left;\">\n",
       "                            <strong>Local directory: </strong> /mnt/c/Users/TBGPEA-Sean/git_repos/cper_pdog_uas/dask-worker-space/worker-i_grs989\n",
       "                        </td>\n",
       "                    </tr>\n",
       "\n",
       "                    \n",
       "\n",
       "                    \n",
       "\n",
       "                </table>\n",
       "            </details>\n",
       "            </div>\n",
       "        </div>\n",
       "        \n",
       "        <div style=\"margin-bottom: 20px;\">\n",
       "            <div style=\"width: 24px; height: 24px; background-color: #DBF5FF; border: 3px solid #4CC9FF; border-radius: 5px; position: absolute;\"> </div>\n",
       "            <div style=\"margin-left: 48px;\">\n",
       "            <details>\n",
       "                <summary>\n",
       "                    <h4 style=\"margin-bottom: 0px; display: inline;\">Worker: 4</h4>\n",
       "                </summary>\n",
       "                <table style=\"width: 100%; text-align: left;\">\n",
       "                    <tr>\n",
       "                        <td style=\"text-align: left;\">\n",
       "                            <strong>Comm: </strong> tcp://127.0.0.1:37497\n",
       "                        </td>\n",
       "                        <td style=\"text-align: left;\">\n",
       "                            <strong>Total threads: </strong> 2\n",
       "                        </td>\n",
       "                    </tr>\n",
       "                    <tr>\n",
       "                        <td style=\"text-align: left;\">\n",
       "                            <strong>Dashboard: </strong> <a href=\"http://127.0.0.1:43891/status\" target=\"_blank\">http://127.0.0.1:43891/status</a>\n",
       "                        </td>\n",
       "                        <td style=\"text-align: left;\">\n",
       "                            <strong>Memory: </strong> 1.94 GiB\n",
       "                        </td>\n",
       "                    </tr>\n",
       "                    <tr>\n",
       "                        <td style=\"text-align: left;\">\n",
       "                            <strong>Nanny: </strong> tcp://127.0.0.1:38807\n",
       "                        </td>\n",
       "                        <td style=\"text-align: left;\"></td>\n",
       "                    </tr>\n",
       "                    <tr>\n",
       "                        <td colspan=\"2\" style=\"text-align: left;\">\n",
       "                            <strong>Local directory: </strong> /mnt/c/Users/TBGPEA-Sean/git_repos/cper_pdog_uas/dask-worker-space/worker-_dtfijut\n",
       "                        </td>\n",
       "                    </tr>\n",
       "\n",
       "                    \n",
       "\n",
       "                    \n",
       "\n",
       "                </table>\n",
       "            </details>\n",
       "            </div>\n",
       "        </div>\n",
       "        \n",
       "        <div style=\"margin-bottom: 20px;\">\n",
       "            <div style=\"width: 24px; height: 24px; background-color: #DBF5FF; border: 3px solid #4CC9FF; border-radius: 5px; position: absolute;\"> </div>\n",
       "            <div style=\"margin-left: 48px;\">\n",
       "            <details>\n",
       "                <summary>\n",
       "                    <h4 style=\"margin-bottom: 0px; display: inline;\">Worker: 5</h4>\n",
       "                </summary>\n",
       "                <table style=\"width: 100%; text-align: left;\">\n",
       "                    <tr>\n",
       "                        <td style=\"text-align: left;\">\n",
       "                            <strong>Comm: </strong> tcp://127.0.0.1:32813\n",
       "                        </td>\n",
       "                        <td style=\"text-align: left;\">\n",
       "                            <strong>Total threads: </strong> 2\n",
       "                        </td>\n",
       "                    </tr>\n",
       "                    <tr>\n",
       "                        <td style=\"text-align: left;\">\n",
       "                            <strong>Dashboard: </strong> <a href=\"http://127.0.0.1:36099/status\" target=\"_blank\">http://127.0.0.1:36099/status</a>\n",
       "                        </td>\n",
       "                        <td style=\"text-align: left;\">\n",
       "                            <strong>Memory: </strong> 1.94 GiB\n",
       "                        </td>\n",
       "                    </tr>\n",
       "                    <tr>\n",
       "                        <td style=\"text-align: left;\">\n",
       "                            <strong>Nanny: </strong> tcp://127.0.0.1:43685\n",
       "                        </td>\n",
       "                        <td style=\"text-align: left;\"></td>\n",
       "                    </tr>\n",
       "                    <tr>\n",
       "                        <td colspan=\"2\" style=\"text-align: left;\">\n",
       "                            <strong>Local directory: </strong> /mnt/c/Users/TBGPEA-Sean/git_repos/cper_pdog_uas/dask-worker-space/worker-2alk_cm8\n",
       "                        </td>\n",
       "                    </tr>\n",
       "\n",
       "                    \n",
       "\n",
       "                    \n",
       "\n",
       "                </table>\n",
       "            </details>\n",
       "            </div>\n",
       "        </div>\n",
       "        \n",
       "        <div style=\"margin-bottom: 20px;\">\n",
       "            <div style=\"width: 24px; height: 24px; background-color: #DBF5FF; border: 3px solid #4CC9FF; border-radius: 5px; position: absolute;\"> </div>\n",
       "            <div style=\"margin-left: 48px;\">\n",
       "            <details>\n",
       "                <summary>\n",
       "                    <h4 style=\"margin-bottom: 0px; display: inline;\">Worker: 6</h4>\n",
       "                </summary>\n",
       "                <table style=\"width: 100%; text-align: left;\">\n",
       "                    <tr>\n",
       "                        <td style=\"text-align: left;\">\n",
       "                            <strong>Comm: </strong> tcp://127.0.0.1:42205\n",
       "                        </td>\n",
       "                        <td style=\"text-align: left;\">\n",
       "                            <strong>Total threads: </strong> 2\n",
       "                        </td>\n",
       "                    </tr>\n",
       "                    <tr>\n",
       "                        <td style=\"text-align: left;\">\n",
       "                            <strong>Dashboard: </strong> <a href=\"http://127.0.0.1:45169/status\" target=\"_blank\">http://127.0.0.1:45169/status</a>\n",
       "                        </td>\n",
       "                        <td style=\"text-align: left;\">\n",
       "                            <strong>Memory: </strong> 1.94 GiB\n",
       "                        </td>\n",
       "                    </tr>\n",
       "                    <tr>\n",
       "                        <td style=\"text-align: left;\">\n",
       "                            <strong>Nanny: </strong> tcp://127.0.0.1:45175\n",
       "                        </td>\n",
       "                        <td style=\"text-align: left;\"></td>\n",
       "                    </tr>\n",
       "                    <tr>\n",
       "                        <td colspan=\"2\" style=\"text-align: left;\">\n",
       "                            <strong>Local directory: </strong> /mnt/c/Users/TBGPEA-Sean/git_repos/cper_pdog_uas/dask-worker-space/worker-jj_2fzfe\n",
       "                        </td>\n",
       "                    </tr>\n",
       "\n",
       "                    \n",
       "\n",
       "                    \n",
       "\n",
       "                </table>\n",
       "            </details>\n",
       "            </div>\n",
       "        </div>\n",
       "        \n",
       "        <div style=\"margin-bottom: 20px;\">\n",
       "            <div style=\"width: 24px; height: 24px; background-color: #DBF5FF; border: 3px solid #4CC9FF; border-radius: 5px; position: absolute;\"> </div>\n",
       "            <div style=\"margin-left: 48px;\">\n",
       "            <details>\n",
       "                <summary>\n",
       "                    <h4 style=\"margin-bottom: 0px; display: inline;\">Worker: 7</h4>\n",
       "                </summary>\n",
       "                <table style=\"width: 100%; text-align: left;\">\n",
       "                    <tr>\n",
       "                        <td style=\"text-align: left;\">\n",
       "                            <strong>Comm: </strong> tcp://127.0.0.1:44163\n",
       "                        </td>\n",
       "                        <td style=\"text-align: left;\">\n",
       "                            <strong>Total threads: </strong> 2\n",
       "                        </td>\n",
       "                    </tr>\n",
       "                    <tr>\n",
       "                        <td style=\"text-align: left;\">\n",
       "                            <strong>Dashboard: </strong> <a href=\"http://127.0.0.1:37499/status\" target=\"_blank\">http://127.0.0.1:37499/status</a>\n",
       "                        </td>\n",
       "                        <td style=\"text-align: left;\">\n",
       "                            <strong>Memory: </strong> 1.94 GiB\n",
       "                        </td>\n",
       "                    </tr>\n",
       "                    <tr>\n",
       "                        <td style=\"text-align: left;\">\n",
       "                            <strong>Nanny: </strong> tcp://127.0.0.1:35065\n",
       "                        </td>\n",
       "                        <td style=\"text-align: left;\"></td>\n",
       "                    </tr>\n",
       "                    <tr>\n",
       "                        <td colspan=\"2\" style=\"text-align: left;\">\n",
       "                            <strong>Local directory: </strong> /mnt/c/Users/TBGPEA-Sean/git_repos/cper_pdog_uas/dask-worker-space/worker-3tstvyts\n",
       "                        </td>\n",
       "                    </tr>\n",
       "\n",
       "                    \n",
       "\n",
       "                    \n",
       "\n",
       "                </table>\n",
       "            </details>\n",
       "            </div>\n",
       "        </div>\n",
       "        \n",
       "\n",
       "    </details>\n",
       "</div>\n",
       "\n",
       "        </details>\n",
       "    </div>\n",
       "</div>\n",
       "            </details>\n",
       "        \n",
       "\n",
       "    </div>\n",
       "</div>"
      ],
      "text/plain": [
       "<Client: 'tcp://127.0.0.1:40873' processes=8 threads=16, memory=15.49 GiB>"
      ]
     },
     "metadata": {},
     "output_type": "display_data"
    }
   ],
   "source": [
    "cluster = LocalCluster(n_workers=8, threads_per_worker=2, processes=True)\n",
    "client = Client(cluster)\n",
    "client.amm.start()\n",
    "display(client)"
   ]
  },
  {
   "cell_type": "code",
   "execution_count": 7,
   "id": "8f525e70-71fa-4741-985d-96ff430aeb82",
   "metadata": {},
   "outputs": [],
   "source": [
    "# create function to normalize all data in range 0-1\n",
    "def normalize_fn(image, image_suffix, stats_dict):\n",
    "    if image_suffix in stats_dict.keys():\n",
    "        min_tmp = stats_dict[image_suffix]['min']\n",
    "        max_tmp = stats_dict[image_suffix]['max']\n",
    "    else:\n",
    "        # normalize to individual image if min/max stats not specified in dictionary\n",
    "        min_tmp = np.min(image)\n",
    "        max_tmp = np.max(image)\n",
    "    return (image - min_tmp) / (max_tmp - min_tmp)\n",
    "\n",
    "def calc_tpi(dtm, inner_r, outer_r, interpolate=True, values=True, bounds=(-2.0, 3.0), fillna=None):\n",
    "    cellsize_x, cellsize_y = convolution.calc_cellsize(dtm)\n",
    "    kernel = convolution.annulus_kernel(cellsize_x, cellsize_y, outer_r, inner_r)\n",
    "    tpi = dtm - focal.apply(dtm, kernel)\n",
    "    tpi = tpi.rio.write_nodata(-9999.)\n",
    "    tpi = tpi.where((tpi > bounds[0]) & (tpi < bounds[1]))\n",
    "    if interpolate:\n",
    "        if tpi.isnull().any().values:\n",
    "            tpi = tpi.rio.interpolate_na(method='nearest')\n",
    "    if fillna is not None:\n",
    "        tpi = tpi.fillna(fillna)\n",
    "    if values:\n",
    "        return tpi.values\n",
    "    else:\n",
    "        return tpi\n",
    "\n",
    "def calc_ndvi(ms, interpolate=True, values=True, fillna=None):\n",
    "    ndvi = (ms.sel(band=4).astype('float32') - ms.sel(band=3).astype('float32'))\\\n",
    "            / (ms.sel(band=4).astype('float32') + ms.sel(band=3).astype('float32'))\n",
    "    ndvi = ndvi.rio.write_nodata(-9999.)\n",
    "    ndvi = ndvi.where(ndvi != -9999.)\n",
    "    if interpolate:\n",
    "        if ndvi.isnull().any().values:\n",
    "            ndvi = ndvi.rio.interpolate_na(method='nearest')\n",
    "    if fillna is not None:\n",
    "        ndvi = ndvi.fillna(fillna)\n",
    "    if values:\n",
    "        return ndvi.values\n",
    "    else:\n",
    "        return ndvi"
   ]
  },
  {
   "cell_type": "code",
   "execution_count": 8,
   "id": "a1f35503-1a23-405a-b4db-0ccd6bf58e62",
   "metadata": {},
   "outputs": [],
   "source": [
    "from collections import namedtuple\n",
    "from operator import mul\n",
    "\n",
    "try:\n",
    "    reduce = reduce\n",
    "except NameError:\n",
    "    from functools import reduce # py3k\n",
    "\n",
    "Info = namedtuple('Info', 'start height')\n",
    "\n",
    "def max_size(mat, value=0):\n",
    "    \"\"\"Find height, width of the largest rectangle containing all `value`'s.\n",
    "    For each row solve \"Largest Rectangle in a Histrogram\" problem [1]:\n",
    "    [1]: http://blog.csdn.net/arbuckle/archive/2006/05/06/710988.aspx\n",
    "    \"\"\"\n",
    "    it = iter(mat)\n",
    "    hist = [(el==value) for el in next(it, [])]\n",
    "    max_size = max_rectangle_size(hist)\n",
    "    for row in it:\n",
    "        hist = [(1+h) if el == value else 0 for h, el in zip(hist, row)]\n",
    "        max_size = max(max_size, max_rectangle_size(hist), key=area)\n",
    "    return max_size\n",
    "\n",
    "def max_rectangle_size(histogram):\n",
    "    \"\"\"Find height, width of the largest rectangle that fits entirely under\n",
    "    the histogram.\n",
    "    >>> f = max_rectangle_size\n",
    "    >>> f([5,3,1])\n",
    "    (3, 2)\n",
    "    >>> f([1,3,5])\n",
    "    (3, 2)\n",
    "    >>> f([3,1,5])\n",
    "    (5, 1)\n",
    "    >>> f([4,8,3,2,0])\n",
    "    (3, 3)\n",
    "    >>> f([4,8,3,1,1,0])\n",
    "    (3, 3)\n",
    "    >>> f([1,2,1])\n",
    "    (1, 3)\n",
    "    Algorithm is \"Linear search using a stack of incomplete subproblems\" [1].\n",
    "    [1]: http://blog.csdn.net/arbuckle/archive/2006/05/06/710988.aspx\n",
    "    \"\"\"\n",
    "    stack = []\n",
    "    top = lambda: stack[-1]\n",
    "    max_size = (0, 0) # height, width of the largest rectangle\n",
    "    pos = 0 # current position in the histogram\n",
    "    for pos, height in enumerate(histogram):\n",
    "        start = pos # position where rectangle starts\n",
    "        while True:\n",
    "            if not stack or height > top().height:\n",
    "                stack.append(Info(start, height)) # push\n",
    "            elif stack and height < top().height:\n",
    "                max_size = max(max_size, (top().height, (pos - top().start)),\n",
    "                               key=area)\n",
    "                start, _ = stack.pop()\n",
    "                continue\n",
    "            break # height == top().height goes here\n",
    "\n",
    "    pos += 1\n",
    "    for start, height in stack:\n",
    "        max_size = max(max_size, (height, (pos - start)), key=area)\n",
    "\n",
    "    return max_size\n",
    "\n",
    "def area(size):\n",
    "    return reduce(mul, size)"
   ]
  },
  {
   "cell_type": "code",
   "execution_count": 9,
   "id": "8e63c3c8-46cd-4c0b-adda-d02fd9219f5e",
   "metadata": {},
   "outputs": [],
   "source": [
    "outDIR = './cnn_pred_results/'\n",
    "if not os.path.exists(outDIR):\n",
    "    os.mkdir(outDIR)"
   ]
  },
  {
   "cell_type": "code",
   "execution_count": 10,
   "id": "ef26cdc0-afc6-4b9e-9f92-36793028623f",
   "metadata": {},
   "outputs": [],
   "source": [
    "size_dict = {\n",
    "    2: {'tile_size': 256,\n",
    "        'buff_size': 64},\n",
    "    5: {'tile_size': 192,\n",
    "        'buff_size': 48},\n",
    "    10: {'tile_size': 128,\n",
    "         'buff_size': 32},\n",
    "    15: {'tile_size': 96,\n",
    "         'buff_size': 16},\n",
    "    30: {'tile_size': 64,\n",
    "         'buff_size': 16}\n",
    "}"
   ]
  },
  {
   "cell_type": "code",
   "execution_count": 11,
   "id": "67df3061-2ae6-445d-8a2f-2224a273dcfa",
   "metadata": {},
   "outputs": [],
   "source": [
    "past_subset = None\n",
    "#past_subset = ['5W', '29-30', '22W']\n",
    "\n",
    "baseDIR = '/mnt/d/'\n",
    "\n",
    "img_f_dict = {\n",
    "    '5W': {\n",
    "        'rgb': [os.path.join(baseDIR, '202109/outputs/202109_5W_RGB/CPER_202109_5W_RGB_ortho.tif')],\n",
    "        'ms': [os.path.join(baseDIR, '202109/outputs/202109_5W_MS/CPER_202109_5W_MS_ortho.tif')],\n",
    "        'dsm': [os.path.join(baseDIR, '202109/outputs/202109_5W_RGB/CPER_202109_5W_RGB_dsm.tif')]\n",
    "    },\n",
    "    '29-30': {\n",
    "        'rgb': [os.path.join(baseDIR, '202109/outputs/202109_29_30_RGB/CPER_202109_29_30_RGB_ortho.tif')],\n",
    "        'ms': [os.path.join(baseDIR, '202109/outputs/202109_29_30_MS/CPER_202109_29_30_North_MS_ortho.tif'),\n",
    "              os.path.join(baseDIR, '202109/outputs/202109_29_30_MS/CPER_202109_29_30_South_MS_ortho.tif')],\n",
    "        'dsm': [os.path.join(baseDIR, '202109/outputs/202109_29_30_RGB/CPER_202109_29_30_RGB_DSM.tif')]\n",
    "    },\n",
    "    '22W': {\n",
    "        'rgb': [os.path.join(baseDIR, '202109/outputs/202109_22EW/CPER_202109_22EW_Flight1_RGB_ortho.tif'),\n",
    "               os.path.join(baseDIR, '202109/outputs/202109_22EW/CPER_202109_22EW_Flight2_RGB_ortho.tif')],\n",
    "        'ms': [os.path.join(baseDIR, '202109/outputs/202109_22EW/CPER_202109_22EW_Flight1_MS_ortho.tif'),\n",
    "               os.path.join(baseDIR, '202109/outputs/202109_22EW/CPER_202109_22EW_Flight2_MS_ortho.tif')],\n",
    "        'dsm': [os.path.join(baseDIR, '202109/outputs/202109_22EW/CPER_202109_22EW_Flight1_RGB_DSM.tif'),\n",
    "                os.path.join(baseDIR, '202109/outputs/202109_22EW/CPER_202109_22EW_Flight2_RGB_DSM.tif')]\n",
    "    },\n",
    "    '22E': {\n",
    "        'rgb': [os.path.join(baseDIR, '202109/outputs/202109_22EW/CPER_202109_22EW_Flight1_RGB_ortho.tif'),\n",
    "               os.path.join(baseDIR, '202109/outputs/202109_22EW/CPER_202109_22EW_Flight2_RGB_ortho.tif'),\n",
    "               os.path.join(baseDIR, '202109/outputs/202109_22EW/CPER_202109_22EW_Flight3_RGB_ortho.tif')],\n",
    "        'ms': [os.path.join(baseDIR, '202109/outputs/202109_22EW/CPER_202109_22EW_Flight1_MS_ortho.tif'),\n",
    "               os.path.join(baseDIR, '202109/outputs/202109_22EW/CPER_202109_22EW_Flight2_MS_ortho.tif')],\n",
    "        'dsm': [os.path.join(baseDIR, '202109/outputs/202109_22EW/CPER_202109_22EW_Flight1_RGB_DSM.tif'),\n",
    "               os.path.join(baseDIR, '202109/outputs/202109_22EW/CPER_202109_22EW_Flight2_RGB_DSM.tif'),\n",
    "               os.path.join(baseDIR, '202109/outputs/202109_22EW/CPER_202109_22EW_Flight3_RGB_DSM.tif')]\n",
    "    },\n",
    "    'CN': {\n",
    "        'rgb': [os.path.join(baseDIR, '202109/outputs/202109_CN_RGB/Orthos/CPER_CN_Flight2_202109_RGB_ortho.tif'),\n",
    "               os.path.join(baseDIR, '202109/outputs/202109_CN_RGB/Orthos/CPER_CN_Flight3_202109_RGB_ortho.tif'),\n",
    "               os.path.join(baseDIR, '202109/outputs/202109_CN_RGB/Orthos/CPER_CN_Flight4_202109_RGB_ortho.tif'),\n",
    "               os.path.join(baseDIR, '202109/outputs/202109_CN_RGB/Orthos/CPER_CN_Flight5_202109_RGB_ortho.tif')],\n",
    "        'ms': [os.path.join(baseDIR, '202109/outputs/202109_CN_MS/CPER_202109_CN_Flight2_MS_ortho.tif'),\n",
    "              os.path.join(baseDIR, '202109/outputs/202109_CN_MS/CPER_202109_CN_Flight3_MS_ortho.tif'),\n",
    "              os.path.join(baseDIR, '202109/outputs/202109_CN_MS/CPER_202109_CN_Flight4_MS_ortho.tif'),],\n",
    "        'dsm': [os.path.join(baseDIR, '202109/outputs/202109_CN_RGB/DSMs/CPER_CN_Flight2_202109_RGB_DSM.tif'),\n",
    "               os.path.join(baseDIR, '202109/outputs/202109_CN_RGB/DSMs/CPER_CN_Flight3_202109_RGB_DSM.tif'),\n",
    "               os.path.join(baseDIR, '202109/outputs/202109_CN_RGB/DSMs/CPER_CN_Flight4_202109_RGB_DSM.tif'),\n",
    "               os.path.join(baseDIR, '202109/outputs/202109_CN_RGB/DSMs/CPER_CN_Flight5_202109_RGB_DSM.tif')]\n",
    "    }\n",
    "}\n",
    "\n",
    "if past_subset is not None:\n",
    "    img_f_dict_tmp = img_f_dict.copy()\n",
    "    img_f_dict = {}\n",
    "    for k in img_f_dict_tmp:\n",
    "         if k in past_subset:\n",
    "                img_f_dict[k] = img_f_dict_tmp[k]\n",
    "\n",
    "cper_f = '/mnt/c/Users/TBGPEA-Sean/Desktop/Pdogs_UAS/cper_pdog_pastures_2017_clip.shp'"
   ]
  },
  {
   "cell_type": "code",
   "execution_count": 12,
   "id": "d75f0f45-d52c-48f8-853b-7404abd75ec1",
   "metadata": {},
   "outputs": [],
   "source": [
    "full_buff_size = 10\n",
    "full_tile_size = 150\n",
    "tile_size = size_dict[res_fnl]['tile_size']\n",
    "buff_size = size_dict[res_fnl]['buff_size']\n",
    "chunk_size = 250\n",
    "buff_size_m = np.ceil(buff_size * res_fnl * 0.01)"
   ]
  },
  {
   "cell_type": "code",
   "execution_count": 13,
   "id": "001cb02e-10b7-4fd3-bc0d-10832aff67aa",
   "metadata": {},
   "outputs": [],
   "source": [
    "# load best saved checkpoint\n",
    "if res_fnl == 2:\n",
    "    best_model = torch.load('./cnn_results_' + model_fnl + '_' + str(res_fnl) + 'cm/best_model_' + '_'.join(inputs_fnl) + '.pth')\n",
    "else:\n",
    "    best_model = torch.load('./cnn_results_' + model_fnl + '_' + str(res_fnl) + 'cm/best_model_' + '_'.join(inputs_fnl) + '_' + str(res_fnl) + 'cm.pth')\n",
    "\n",
    "if DEVICE == 'cpu':\n",
    "    best_model = best_model.cpu()\n",
    "best_model.eval()\n",
    "\n",
    "# load the image stats from the training data\n",
    "df_image_stats = pd.read_csv('./_utils/image_stats_2cm.csv').set_index('stat')\n",
    "\n",
    "# convert image stats dictionary to dataframe\n",
    "image_stats = {i: {'min': df_image_stats.loc['min', i],\n",
    "                   'max': df_image_stats.loc['max', i]} for i in df_image_stats.columns}"
   ]
  },
  {
   "cell_type": "code",
   "execution_count": 14,
   "id": "d5e43d7a-2fa6-4585-a712-7144e6a41d92",
   "metadata": {
    "scrolled": true,
    "tags": []
   },
   "outputs": [
    {
     "name": "stderr",
     "output_type": "stream",
     "text": [
      "  0%|                                                                                             | 0/5 [00:00<?, ?it/s]"
     ]
    },
    {
     "name": "stdout",
     "output_type": "stream",
     "text": [
      "\n",
      "\n",
      "----------\n",
      "Pasture: 5W\n",
      "running row: 1 of 11\n"
     ]
    },
    {
     "name": "stderr",
     "output_type": "stream",
     "text": [
      "\n",
      "100%|██████████████████████████████████████████████████████████████████████████████████| 6/6 [00:00<00:00, 42153.81it/s]\u001b[A\n"
     ]
    },
    {
     "name": "stdout",
     "output_type": "stream",
     "text": [
      "running row: 2 of 11\n"
     ]
    },
    {
     "name": "stderr",
     "output_type": "stream",
     "text": [
      "\n",
      "100%|██████████████████████████████████████████████████████████████████████████████████| 6/6 [00:00<00:00, 53658.47it/s]\u001b[A\n"
     ]
    },
    {
     "name": "stdout",
     "output_type": "stream",
     "text": [
      "running row: 3 of 11\n"
     ]
    },
    {
     "name": "stderr",
     "output_type": "stream",
     "text": [
      "\n",
      "100%|██████████████████████████████████████████████████████████████████████████████████| 6/6 [00:00<00:00, 46863.73it/s]\u001b[A\n"
     ]
    },
    {
     "name": "stdout",
     "output_type": "stream",
     "text": [
      "running row: 4 of 11\n"
     ]
    },
    {
     "name": "stderr",
     "output_type": "stream",
     "text": [
      "\n",
      "100%|██████████████████████████████████████████████████████████████████████████████████| 6/6 [00:00<00:00, 51150.05it/s]\u001b[A\n"
     ]
    },
    {
     "name": "stdout",
     "output_type": "stream",
     "text": [
      "running row: 5 of 11\n"
     ]
    },
    {
     "name": "stderr",
     "output_type": "stream",
     "text": [
      "\n",
      "100%|██████████████████████████████████████████████████████████████████████████████████| 6/6 [00:00<00:00, 55067.45it/s]\u001b[A\n"
     ]
    },
    {
     "name": "stdout",
     "output_type": "stream",
     "text": [
      "running row: 6 of 11\n"
     ]
    },
    {
     "name": "stderr",
     "output_type": "stream",
     "text": [
      "\n",
      "100%|██████████████████████████████████████████████████████████████████████████████████| 6/6 [00:00<00:00, 34615.99it/s]\u001b[A\n"
     ]
    },
    {
     "name": "stdout",
     "output_type": "stream",
     "text": [
      "running row: 7 of 11\n"
     ]
    },
    {
     "name": "stderr",
     "output_type": "stream",
     "text": [
      "\n",
      "100%|██████████████████████████████████████████████████████████████████████████████████| 6/6 [00:00<00:00, 56936.25it/s]\u001b[A\n"
     ]
    },
    {
     "name": "stdout",
     "output_type": "stream",
     "text": [
      "running row: 8 of 11\n"
     ]
    },
    {
     "name": "stderr",
     "output_type": "stream",
     "text": [
      "\n",
      "100%|██████████████████████████████████████████████████████████████████████████████████| 6/6 [00:00<00:00, 35394.97it/s]\u001b[A\n"
     ]
    },
    {
     "name": "stdout",
     "output_type": "stream",
     "text": [
      "running row: 9 of 11\n"
     ]
    },
    {
     "name": "stderr",
     "output_type": "stream",
     "text": [
      "\n",
      "100%|██████████████████████████████████████████████████████████████████████████████████| 6/6 [00:00<00:00, 48210.39it/s]\u001b[A\n"
     ]
    },
    {
     "name": "stdout",
     "output_type": "stream",
     "text": [
      "running row: 10 of 11\n"
     ]
    },
    {
     "name": "stderr",
     "output_type": "stream",
     "text": [
      "\n",
      "100%|██████████████████████████████████████████████████████████████████████████████████| 6/6 [00:00<00:00, 58389.38it/s]\u001b[A\n"
     ]
    },
    {
     "name": "stdout",
     "output_type": "stream",
     "text": [
      "running row: 11 of 11\n"
     ]
    },
    {
     "name": "stderr",
     "output_type": "stream",
     "text": [
      "\n",
      "100%|██████████████████████████████████████████████████████████████████████████████████| 6/6 [00:00<00:00, 67468.70it/s]\u001b[A"
     ]
    },
    {
     "name": "stdout",
     "output_type": "stream",
     "text": [
      "Pasture-group finished!\n"
     ]
    },
    {
     "name": "stderr",
     "output_type": "stream",
     "text": [
      "\n",
      " 20%|█████████████████                                                                    | 1/5 [00:11<00:46, 11.71s/it]"
     ]
    },
    {
     "name": "stdout",
     "output_type": "stream",
     "text": [
      "\n",
      "\n",
      "----------\n",
      "Pasture: 29-30\n",
      "running row: 1 of 11\n"
     ]
    },
    {
     "name": "stderr",
     "output_type": "stream",
     "text": [
      "\n",
      "100%|████████████████████████████████████████████████████████████████████████████████| 17/17 [00:00<00:00, 96879.30it/s]\u001b[A\n"
     ]
    },
    {
     "name": "stdout",
     "output_type": "stream",
     "text": [
      "running row: 2 of 11\n"
     ]
    },
    {
     "name": "stderr",
     "output_type": "stream",
     "text": [
      "\n",
      "100%|███████████████████████████████████████████████████████████████████████████████| 17/17 [00:00<00:00, 112111.90it/s]\u001b[A\n"
     ]
    },
    {
     "name": "stdout",
     "output_type": "stream",
     "text": [
      "running row: 3 of 11\n"
     ]
    },
    {
     "name": "stderr",
     "output_type": "stream",
     "text": [
      "\n",
      "100%|███████████████████████████████████████████████████████████████████████████████| 17/17 [00:00<00:00, 112111.90it/s]\u001b[A\n"
     ]
    },
    {
     "name": "stdout",
     "output_type": "stream",
     "text": [
      "running row: 4 of 11\n"
     ]
    },
    {
     "name": "stderr",
     "output_type": "stream",
     "text": [
      "\n",
      "100%|███████████████████████████████████████████████████████████████████████████████| 17/17 [00:00<00:00, 103337.92it/s]\u001b[A\n"
     ]
    },
    {
     "name": "stdout",
     "output_type": "stream",
     "text": [
      "running row: 5 of 11\n"
     ]
    },
    {
     "name": "stderr",
     "output_type": "stream",
     "text": [
      "\n",
      "100%|███████████████████████████████████████████████████████████████████████████████| 17/17 [00:00<00:00, 109026.25it/s]\u001b[A\n"
     ]
    },
    {
     "name": "stdout",
     "output_type": "stream",
     "text": [
      "running row: 6 of 11\n"
     ]
    },
    {
     "name": "stderr",
     "output_type": "stream",
     "text": [
      "\n",
      "100%|████████████████████████████████████████████████████████████████████████████████| 17/17 [00:00<00:00, 90716.50it/s]\u001b[A\n"
     ]
    },
    {
     "name": "stdout",
     "output_type": "stream",
     "text": [
      "running row: 7 of 11\n"
     ]
    },
    {
     "name": "stderr",
     "output_type": "stream",
     "text": [
      "\n",
      "100%|████████████████████████████████████████████████████████████████████████████████| 17/17 [00:00<00:00, 93819.96it/s]\u001b[A\n"
     ]
    },
    {
     "name": "stdout",
     "output_type": "stream",
     "text": [
      "running row: 8 of 11\n"
     ]
    },
    {
     "name": "stderr",
     "output_type": "stream",
     "text": [
      "\n",
      "100%|███████████████████████████████████████████████████████████████████████████████| 17/17 [00:00<00:00, 101282.91it/s]\u001b[A\n"
     ]
    },
    {
     "name": "stdout",
     "output_type": "stream",
     "text": [
      "running row: 9 of 11\n"
     ]
    },
    {
     "name": "stderr",
     "output_type": "stream",
     "text": [
      "\n",
      "100%|███████████████████████████████████████████████████████████████████████████████| 17/17 [00:00<00:00, 106901.30it/s]\u001b[A\n"
     ]
    },
    {
     "name": "stdout",
     "output_type": "stream",
     "text": [
      "running row: 10 of 11\n"
     ]
    },
    {
     "name": "stderr",
     "output_type": "stream",
     "text": [
      "\n",
      "100%|████████████████████████████████████████████████████████████████████████████████| 17/17 [00:00<00:00, 70249.43it/s]\u001b[A\n"
     ]
    },
    {
     "name": "stdout",
     "output_type": "stream",
     "text": [
      "running row: 11 of 11\n"
     ]
    },
    {
     "name": "stderr",
     "output_type": "stream",
     "text": [
      "\n",
      "100%|████████████████████████████████████████████████████████████████████████████████| 17/17 [00:00<00:00, 93696.67it/s]\u001b[A"
     ]
    },
    {
     "name": "stdout",
     "output_type": "stream",
     "text": [
      "Pasture-group finished!\n"
     ]
    },
    {
     "name": "stderr",
     "output_type": "stream",
     "text": [
      "\n",
      " 40%|██████████████████████████████████                                                   | 2/5 [00:23<00:34, 11.65s/it]"
     ]
    },
    {
     "name": "stdout",
     "output_type": "stream",
     "text": [
      "\n",
      "\n",
      "----------\n",
      "Pasture: 22W\n",
      "running row: 1 of 11\n"
     ]
    },
    {
     "name": "stderr",
     "output_type": "stream",
     "text": [
      "\n",
      "100%|██████████████████████████████████████████████████████████████████████████████████| 6/6 [00:00<00:00, 43166.08it/s]\u001b[A\n"
     ]
    },
    {
     "name": "stdout",
     "output_type": "stream",
     "text": [
      "running row: 2 of 11\n"
     ]
    },
    {
     "name": "stderr",
     "output_type": "stream",
     "text": [
      "\n",
      "100%|██████████████████████████████████████████████████████████████████████████████████| 6/6 [00:00<00:00, 46517.23it/s]\u001b[A\n"
     ]
    },
    {
     "name": "stdout",
     "output_type": "stream",
     "text": [
      "running row: 3 of 11\n"
     ]
    },
    {
     "name": "stderr",
     "output_type": "stream",
     "text": [
      "\n",
      "100%|██████████████████████████████████████████████████████████████████████████████████| 6/6 [00:00<00:00, 65879.12it/s]\u001b[A\n"
     ]
    },
    {
     "name": "stdout",
     "output_type": "stream",
     "text": [
      "running row: 4 of 11\n"
     ]
    },
    {
     "name": "stderr",
     "output_type": "stream",
     "text": [
      "\n",
      "100%|██████████████████████████████████████████████████████████████████████████████████| 6/6 [00:00<00:00, 61984.79it/s]\u001b[A\n"
     ]
    },
    {
     "name": "stdout",
     "output_type": "stream",
     "text": [
      "running row: 5 of 11\n"
     ]
    },
    {
     "name": "stderr",
     "output_type": "stream",
     "text": [
      "\n",
      "100%|██████████████████████████████████████████████████████████████████████████████████| 6/6 [00:00<00:00, 61984.79it/s]\u001b[A\n"
     ]
    },
    {
     "name": "stdout",
     "output_type": "stream",
     "text": [
      "running row: 6 of 11\n"
     ]
    },
    {
     "name": "stderr",
     "output_type": "stream",
     "text": [
      "\n",
      "100%|██████████████████████████████████████████████████████████████████████████████████| 6/6 [00:00<00:00, 44938.97it/s]\u001b[A\n"
     ]
    },
    {
     "name": "stdout",
     "output_type": "stream",
     "text": [
      "running row: 7 of 11\n"
     ]
    },
    {
     "name": "stderr",
     "output_type": "stream",
     "text": [
      "\n",
      "100%|██████████████████████████████████████████████████████████████████████████████████| 6/6 [00:00<00:00, 57985.77it/s]\u001b[A\n"
     ]
    },
    {
     "name": "stdout",
     "output_type": "stream",
     "text": [
      "running row: 8 of 11\n"
     ]
    },
    {
     "name": "stderr",
     "output_type": "stream",
     "text": [
      "\n",
      "100%|██████████████████████████████████████████████████████████████████████████████████| 6/6 [00:00<00:00, 63389.98it/s]\u001b[A\n"
     ]
    },
    {
     "name": "stdout",
     "output_type": "stream",
     "text": [
      "running row: 9 of 11\n"
     ]
    },
    {
     "name": "stderr",
     "output_type": "stream",
     "text": [
      "\n",
      "100%|██████████████████████████████████████████████████████████████████████████████████| 6/6 [00:00<00:00, 57985.77it/s]\u001b[A\n"
     ]
    },
    {
     "name": "stdout",
     "output_type": "stream",
     "text": [
      "running row: 10 of 11\n"
     ]
    },
    {
     "name": "stderr",
     "output_type": "stream",
     "text": [
      "\n",
      "100%|██████████████████████████████████████████████████████████████████████████████████| 6/6 [00:00<00:00, 61380.06it/s]\u001b[A\n"
     ]
    },
    {
     "name": "stdout",
     "output_type": "stream",
     "text": [
      "running row: 11 of 11\n"
     ]
    },
    {
     "name": "stderr",
     "output_type": "stream",
     "text": [
      "\n",
      "100%|██████████████████████████████████████████████████████████████████████████████████| 6/6 [00:00<00:00, 63550.06it/s]\u001b[A"
     ]
    },
    {
     "name": "stdout",
     "output_type": "stream",
     "text": [
      "Pasture-group finished!\n"
     ]
    },
    {
     "name": "stderr",
     "output_type": "stream",
     "text": [
      "\n",
      "distributed.nanny - WARNING - Worker exceeded 95% memory budget. Restarting\n",
      "distributed.client - ERROR - Restart timed out after 9.00 seconds\n",
      " 60%|███████████████████████████████████████████████████                                  | 3/5 [00:43<00:30, 15.36s/it]"
     ]
    },
    {
     "name": "stdout",
     "output_type": "stream",
     "text": [
      "\n",
      "\n",
      "----------\n",
      "Pasture: 22E\n",
      "running row: 1 of 11\n"
     ]
    },
    {
     "name": "stderr",
     "output_type": "stream",
     "text": [
      "\n",
      "  0%|                                                                                             | 0/6 [00:00<?, ?it/s]\u001b[A/home/spkearney/miniconda3/envs/py_seg_env/lib/python3.9/site-packages/distributed/node.py:180: UserWarning: Port 8787 is already in use.\n",
      "Perhaps you already have a cluster running?\n",
      "Hosting the HTTP server on port 34021 instead\n",
      "  warnings.warn(\n",
      "\n",
      "100%|█████████████████████████████████████████████████████████████████████████████████████| 6/6 [00:01<00:00,  4.09it/s]\u001b[A\n"
     ]
    },
    {
     "name": "stdout",
     "output_type": "stream",
     "text": [
      "running row: 2 of 11\n"
     ]
    },
    {
     "name": "stderr",
     "output_type": "stream",
     "text": [
      "\n",
      "100%|██████████████████████████████████████████████████████████████████████████████████| 6/6 [00:00<00:00, 65196.44it/s]\u001b[A\n"
     ]
    },
    {
     "name": "stdout",
     "output_type": "stream",
     "text": [
      "running row: 3 of 11\n"
     ]
    },
    {
     "name": "stderr",
     "output_type": "stream",
     "text": [
      "\n",
      "100%|██████████████████████████████████████████████████████████████████████████████████| 6/6 [00:00<00:00, 62137.84it/s]\u001b[A\n"
     ]
    },
    {
     "name": "stdout",
     "output_type": "stream",
     "text": [
      "running row: 4 of 11\n"
     ]
    },
    {
     "name": "stderr",
     "output_type": "stream",
     "text": [
      "\n",
      "100%|██████████████████████████████████████████████████████████████████████████████████| 6/6 [00:00<00:00, 55553.70it/s]\u001b[A\n"
     ]
    },
    {
     "name": "stdout",
     "output_type": "stream",
     "text": [
      "running row: 5 of 11\n"
     ]
    },
    {
     "name": "stderr",
     "output_type": "stream",
     "text": [
      "\n",
      "100%|██████████████████████████████████████████████████████████████████████████████████| 6/6 [00:00<00:00, 61680.94it/s]\u001b[A\n"
     ]
    },
    {
     "name": "stdout",
     "output_type": "stream",
     "text": [
      "running row: 6 of 11\n"
     ]
    },
    {
     "name": "stderr",
     "output_type": "stream",
     "text": [
      "\n",
      "100%|██████████████████████████████████████████████████████████████████████████████████| 6/6 [00:00<00:00, 61380.06it/s]\u001b[A\n"
     ]
    },
    {
     "name": "stdout",
     "output_type": "stream",
     "text": [
      "running row: 7 of 11\n"
     ]
    },
    {
     "name": "stderr",
     "output_type": "stream",
     "text": [
      "\n",
      "100%|██████████████████████████████████████████████████████████████████████████████████| 6/6 [00:00<00:00, 43464.29it/s]\u001b[A\n"
     ]
    },
    {
     "name": "stdout",
     "output_type": "stream",
     "text": [
      "running row: 8 of 11\n"
     ]
    },
    {
     "name": "stderr",
     "output_type": "stream",
     "text": [
      "\n",
      "100%|██████████████████████████████████████████████████████████████████████████████████| 6/6 [00:00<00:00, 62914.56it/s]\u001b[A\n"
     ]
    },
    {
     "name": "stdout",
     "output_type": "stream",
     "text": [
      "running row: 9 of 11\n"
     ]
    },
    {
     "name": "stderr",
     "output_type": "stream",
     "text": [
      "\n",
      "100%|██████████████████████████████████████████████████████████████████████████████████| 6/6 [00:00<00:00, 67108.86it/s]\u001b[A\n"
     ]
    },
    {
     "name": "stdout",
     "output_type": "stream",
     "text": [
      "running row: 10 of 11\n"
     ]
    },
    {
     "name": "stderr",
     "output_type": "stream",
     "text": [
      "\n",
      "100%|██████████████████████████████████████████████████████████████████████████████████| 6/6 [00:00<00:00, 69518.85it/s]\u001b[A\n"
     ]
    },
    {
     "name": "stdout",
     "output_type": "stream",
     "text": [
      "running row: 11 of 11\n"
     ]
    },
    {
     "name": "stderr",
     "output_type": "stream",
     "text": [
      "\n",
      "100%|██████████████████████████████████████████████████████████████████████████████████| 6/6 [00:00<00:00, 52980.68it/s]\u001b[A\n"
     ]
    },
    {
     "name": "stdout",
     "output_type": "stream",
     "text": [
      "Pasture-group finished!\n"
     ]
    },
    {
     "name": "stderr",
     "output_type": "stream",
     "text": [
      "distributed.nanny - WARNING - Worker exceeded 95% memory budget. Restarting\n",
      "distributed.client - ERROR - Restart timed out after 9.00 seconds\n",
      " 80%|████████████████████████████████████████████████████████████████████                 | 4/5 [01:04<00:17, 17.58s/it]"
     ]
    },
    {
     "name": "stdout",
     "output_type": "stream",
     "text": [
      "\n",
      "\n",
      "----------\n",
      "Pasture: CN\n",
      "running row: 1 of 17\n"
     ]
    },
    {
     "name": "stderr",
     "output_type": "stream",
     "text": [
      "\n",
      "  0%|                                                                                            | 0/12 [00:00<?, ?it/s]\u001b[A/home/spkearney/miniconda3/envs/py_seg_env/lib/python3.9/site-packages/distributed/node.py:180: UserWarning: Port 8787 is already in use.\n",
      "Perhaps you already have a cluster running?\n",
      "Hosting the HTTP server on port 41897 instead\n",
      "  warnings.warn(\n",
      "\n",
      "100%|███████████████████████████████████████████████████████████████████████████████████| 12/12 [00:01<00:00,  9.32it/s]\u001b[A\n"
     ]
    },
    {
     "name": "stdout",
     "output_type": "stream",
     "text": [
      "running row: 2 of 17\n"
     ]
    },
    {
     "name": "stderr",
     "output_type": "stream",
     "text": [
      "\n",
      "100%|████████████████████████████████████████████████████████████████████████████████| 12/12 [00:00<00:00, 84591.01it/s]\u001b[A\n"
     ]
    },
    {
     "name": "stdout",
     "output_type": "stream",
     "text": [
      "running row: 3 of 17\n"
     ]
    },
    {
     "name": "stderr",
     "output_type": "stream",
     "text": [
      "\n",
      "100%|████████████████████████████████████████████████████████████████████████████████| 12/12 [00:00<00:00, 94077.85it/s]\u001b[A\n"
     ]
    },
    {
     "name": "stdout",
     "output_type": "stream",
     "text": [
      "running row: 4 of 17\n"
     ]
    },
    {
     "name": "stderr",
     "output_type": "stream",
     "text": [
      "\n",
      "100%|████████████████████████████████████████████████████████████████████████████████| 12/12 [00:00<00:00, 84307.62it/s]\u001b[A\n"
     ]
    },
    {
     "name": "stdout",
     "output_type": "stream",
     "text": [
      "running row: 5 of 17\n"
     ]
    },
    {
     "name": "stderr",
     "output_type": "stream",
     "text": [
      "\n",
      "100%|████████████████████████████████████████████████████████████████████████████████| 12/12 [00:00<00:00, 88768.34it/s]\u001b[A\n"
     ]
    },
    {
     "name": "stdout",
     "output_type": "stream",
     "text": [
      "running row: 6 of 17\n"
     ]
    },
    {
     "name": "stderr",
     "output_type": "stream",
     "text": [
      "\n",
      "100%|████████████████████████████████████████████████████████████████████████████████| 12/12 [00:00<00:00, 67108.86it/s]\u001b[A\n"
     ]
    },
    {
     "name": "stdout",
     "output_type": "stream",
     "text": [
      "running row: 7 of 17\n"
     ]
    },
    {
     "name": "stderr",
     "output_type": "stream",
     "text": [
      "\n",
      "100%|████████████████████████████████████████████████████████████████████████████████| 12/12 [00:00<00:00, 86480.49it/s]\u001b[A\n"
     ]
    },
    {
     "name": "stdout",
     "output_type": "stream",
     "text": [
      "running row: 8 of 17\n"
     ]
    },
    {
     "name": "stderr",
     "output_type": "stream",
     "text": [
      "\n",
      "100%|████████████████████████████████████████████████████████████████████████████████| 12/12 [00:00<00:00, 66930.38it/s]\u001b[A\n"
     ]
    },
    {
     "name": "stdout",
     "output_type": "stream",
     "text": [
      "running row: 9 of 17\n"
     ]
    },
    {
     "name": "stderr",
     "output_type": "stream",
     "text": [
      "\n",
      "100%|████████████████████████████████████████████████████████████████████████████████| 12/12 [00:00<00:00, 64860.37it/s]\u001b[A\n"
     ]
    },
    {
     "name": "stdout",
     "output_type": "stream",
     "text": [
      "running row: 10 of 17\n"
     ]
    },
    {
     "name": "stderr",
     "output_type": "stream",
     "text": [
      "\n",
      "100%|████████████████████████████████████████████████████████████████████████████████| 12/12 [00:00<00:00, 77314.36it/s]\u001b[A\n"
     ]
    },
    {
     "name": "stdout",
     "output_type": "stream",
     "text": [
      "running row: 11 of 17\n"
     ]
    },
    {
     "name": "stderr",
     "output_type": "stream",
     "text": [
      "\n",
      "  0%|                                                                                            | 0/12 [00:00<?, ?it/s]\u001b[A\n",
      " 83%|█████████████████████████████████████████████████████████████████████▏             | 10/12 [00:38<00:07,  3.88s/it]\u001b[A\n",
      " 92%|████████████████████████████████████████████████████████████████████████████       | 11/12 [01:05<00:06,  6.77s/it]\u001b[A\n",
      "100%|███████████████████████████████████████████████████████████████████████████████████| 12/12 [01:24<00:00,  7.01s/it]\u001b[A\n"
     ]
    },
    {
     "name": "stdout",
     "output_type": "stream",
     "text": [
      "running row: 12 of 17\n"
     ]
    },
    {
     "name": "stderr",
     "output_type": "stream",
     "text": [
      "\n",
      "  0%|                                                                                            | 0/12 [00:00<?, ?it/s]\u001b[A\n",
      "  8%|███████                                                                             | 1/12 [00:18<03:21, 18.33s/it]\u001b[A\n",
      " 17%|██████████████                                                                      | 2/12 [00:35<02:58, 17.83s/it]\u001b[A\n",
      " 25%|█████████████████████                                                               | 3/12 [00:52<02:36, 17.34s/it]\u001b[A\n",
      " 33%|████████████████████████████                                                        | 4/12 [01:10<02:19, 17.49s/it]\u001b[A\n",
      " 42%|███████████████████████████████████                                                 | 5/12 [01:27<02:02, 17.53s/it]\u001b[A\n",
      " 50%|██████████████████████████████████████████                                          | 6/12 [01:47<01:48, 18.07s/it]\u001b[A\n",
      " 58%|█████████████████████████████████████████████████                                   | 7/12 [02:05<01:30, 18.10s/it]\u001b[A\n",
      " 67%|████████████████████████████████████████████████████████                            | 8/12 [02:23<01:12, 18.18s/it]\u001b[A\n",
      " 75%|███████████████████████████████████████████████████████████████                     | 9/12 [02:41<00:54, 18.16s/it]\u001b[A\n",
      " 83%|█████████████████████████████████████████████████████████████████████▏             | 10/12 [03:10<00:42, 21.43s/it]\u001b[A\n",
      " 92%|████████████████████████████████████████████████████████████████████████████       | 11/12 [03:30<00:20, 20.92s/it]\u001b[A\n",
      "100%|███████████████████████████████████████████████████████████████████████████████████| 12/12 [03:44<00:00, 18.70s/it]\u001b[A\n"
     ]
    },
    {
     "name": "stdout",
     "output_type": "stream",
     "text": [
      "running row: 13 of 17\n"
     ]
    },
    {
     "name": "stderr",
     "output_type": "stream",
     "text": [
      "\n",
      "  0%|                                                                                            | 0/12 [00:00<?, ?it/s]\u001b[A\n",
      "  8%|███████                                                                             | 1/12 [00:29<05:25, 29.57s/it]\u001b[A\n",
      " 17%|██████████████                                                                      | 2/12 [00:51<04:13, 25.36s/it]\u001b[A\n",
      " 25%|█████████████████████                                                               | 3/12 [01:09<03:14, 21.61s/it]\u001b[A\n",
      " 33%|████████████████████████████                                                        | 4/12 [01:26<02:37, 19.75s/it]\u001b[A\n",
      " 42%|███████████████████████████████████                                                 | 5/12 [01:43<02:12, 18.96s/it]\u001b[A\n",
      " 50%|██████████████████████████████████████████                                          | 6/12 [02:00<01:50, 18.35s/it]\u001b[A\n",
      " 58%|█████████████████████████████████████████████████                                   | 7/12 [02:18<01:30, 18.08s/it]\u001b[A\n",
      " 67%|████████████████████████████████████████████████████████                            | 8/12 [02:35<01:11, 17.90s/it]\u001b[A\n",
      " 75%|███████████████████████████████████████████████████████████████                     | 9/12 [02:54<00:54, 18.20s/it]\u001b[A\n",
      " 83%|█████████████████████████████████████████████████████████████████████▏             | 10/12 [03:24<00:43, 21.65s/it]\u001b[A\n",
      " 92%|████████████████████████████████████████████████████████████████████████████       | 11/12 [03:43<00:20, 20.92s/it]\u001b[A\n",
      "100%|███████████████████████████████████████████████████████████████████████████████████| 12/12 [03:59<00:00, 19.93s/it]\u001b[A\n"
     ]
    },
    {
     "name": "stdout",
     "output_type": "stream",
     "text": [
      "running row: 14 of 17\n"
     ]
    },
    {
     "name": "stderr",
     "output_type": "stream",
     "text": [
      "\n",
      "  0%|                                                                                            | 0/12 [00:00<?, ?it/s]\u001b[A\n",
      "  8%|███████                                                                             | 1/12 [00:18<03:20, 18.25s/it]\u001b[A\n",
      " 17%|██████████████                                                                      | 2/12 [00:34<02:52, 17.26s/it]\u001b[A\n",
      " 25%|█████████████████████                                                               | 3/12 [00:52<02:35, 17.32s/it]\u001b[A\n",
      " 33%|████████████████████████████                                                        | 4/12 [01:21<02:55, 21.97s/it]\u001b[A\n",
      " 42%|███████████████████████████████████                                                 | 5/12 [01:43<02:33, 21.95s/it]\u001b[A\n",
      " 50%|██████████████████████████████████████████                                          | 6/12 [02:01<02:03, 20.55s/it]\u001b[A\n",
      " 58%|█████████████████████████████████████████████████                                   | 7/12 [02:18<01:38, 19.60s/it]\u001b[A\n",
      " 67%|████████████████████████████████████████████████████████                            | 8/12 [02:36<01:15, 18.89s/it]\u001b[A\n",
      " 75%|███████████████████████████████████████████████████████████████                     | 9/12 [02:55<00:56, 18.99s/it]\u001b[A\n",
      " 83%|█████████████████████████████████████████████████████████████████████▏             | 10/12 [03:23<00:43, 21.89s/it]\u001b[A\n",
      " 92%|████████████████████████████████████████████████████████████████████████████       | 11/12 [03:41<00:20, 20.78s/it]\u001b[A\n",
      "100%|███████████████████████████████████████████████████████████████████████████████████| 12/12 [03:57<00:00, 19.77s/it]\u001b[A\n"
     ]
    },
    {
     "name": "stdout",
     "output_type": "stream",
     "text": [
      "running row: 15 of 17\n"
     ]
    },
    {
     "name": "stderr",
     "output_type": "stream",
     "text": [
      "\n",
      "  0%|                                                                                            | 0/12 [00:00<?, ?it/s]\u001b[A\n",
      "  8%|███████                                                                             | 1/12 [00:18<03:19, 18.11s/it]\u001b[A\n",
      " 17%|██████████████                                                                      | 2/12 [00:35<02:56, 17.63s/it]\u001b[A\n",
      " 25%|█████████████████████                                                               | 3/12 [00:52<02:37, 17.53s/it]\u001b[A\n",
      " 33%|████████████████████████████                                                        | 4/12 [01:10<02:20, 17.52s/it]\u001b[A\n",
      " 42%|███████████████████████████████████                                                 | 5/12 [01:28<02:04, 17.81s/it]\u001b[A\n",
      " 50%|██████████████████████████████████████████                                          | 6/12 [01:47<01:48, 18.08s/it]\u001b[A\n",
      " 58%|█████████████████████████████████████████████████                                   | 7/12 [02:17<01:49, 21.98s/it]\u001b[A\n",
      " 67%|████████████████████████████████████████████████████████                            | 8/12 [02:38<01:27, 21.89s/it]\u001b[A\n",
      " 75%|███████████████████████████████████████████████████████████████                     | 9/12 [02:57<01:02, 20.76s/it]\u001b[A\n",
      " 83%|█████████████████████████████████████████████████████████████████████▏             | 10/12 [03:25<00:46, 23.19s/it]\u001b[A\n",
      " 92%|████████████████████████████████████████████████████████████████████████████       | 11/12 [03:45<00:22, 22.24s/it]\u001b[A\n",
      "100%|███████████████████████████████████████████████████████████████████████████████████| 12/12 [04:01<00:00, 20.15s/it]\u001b[A\n"
     ]
    },
    {
     "name": "stdout",
     "output_type": "stream",
     "text": [
      "running row: 16 of 17\n"
     ]
    },
    {
     "name": "stderr",
     "output_type": "stream",
     "text": [
      "\n",
      "  0%|                                                                                            | 0/12 [00:00<?, ?it/s]\u001b[A\n",
      "  8%|███████                                                                             | 1/12 [00:18<03:23, 18.46s/it]\u001b[A\n",
      " 17%|██████████████                                                                      | 2/12 [00:36<03:01, 18.13s/it]\u001b[A\n",
      " 25%|█████████████████████                                                               | 3/12 [00:54<02:42, 18.00s/it]\u001b[A\n",
      " 33%|████████████████████████████                                                        | 4/12 [01:13<02:26, 18.37s/it]\u001b[A\n",
      " 42%|███████████████████████████████████                                                 | 5/12 [01:31<02:08, 18.32s/it]\u001b[A\n",
      " 50%|██████████████████████████████████████████                                          | 6/12 [01:50<01:50, 18.47s/it]\u001b[A\n",
      " 58%|█████████████████████████████████████████████████                                   | 7/12 [02:09<01:33, 18.75s/it]\u001b[A\n",
      " 67%|████████████████████████████████████████████████████████                            | 8/12 [02:28<01:15, 18.97s/it]\u001b[A\n",
      " 75%|███████████████████████████████████████████████████████████████                     | 9/12 [02:48<00:57, 19.05s/it]\u001b[Adistributed.nanny - WARNING - Worker exceeded 95% memory budget. Restarting\n",
      "distributed.client - ERROR - Restart timed out after 9.00 seconds\n",
      "\n",
      " 83%|█████████████████████████████████████████████████████████████████████▏             | 10/12 [03:36<00:56, 28.13s/it]\u001b[A/home/spkearney/miniconda3/envs/py_seg_env/lib/python3.9/site-packages/distributed/node.py:180: UserWarning: Port 8787 is already in use.\n",
      "Perhaps you already have a cluster running?\n",
      "Hosting the HTTP server on port 41581 instead\n",
      "  warnings.warn(\n",
      "\n",
      " 92%|████████████████████████████████████████████████████████████████████████████       | 11/12 [04:02<00:27, 27.46s/it]\u001b[A\n",
      "100%|███████████████████████████████████████████████████████████████████████████████████| 12/12 [04:18<00:00, 21.55s/it]\u001b[A\n"
     ]
    },
    {
     "name": "stdout",
     "output_type": "stream",
     "text": [
      "running row: 17 of 17\n"
     ]
    },
    {
     "name": "stderr",
     "output_type": "stream",
     "text": [
      "\n",
      "  0%|                                                                                            | 0/12 [00:00<?, ?it/s]\u001b[A\n",
      "  8%|███████                                                                             | 1/12 [00:18<03:26, 18.78s/it]\u001b[A\n",
      " 17%|██████████████                                                                      | 2/12 [00:37<03:07, 18.78s/it]\u001b[A\n",
      " 25%|█████████████████████                                                               | 3/12 [00:56<02:49, 18.78s/it]\u001b[A\n",
      " 33%|████████████████████████████                                                        | 4/12 [01:14<02:29, 18.63s/it]\u001b[A\n",
      " 42%|███████████████████████████████████                                                 | 5/12 [01:34<02:12, 18.90s/it]\u001b[A\n",
      " 50%|██████████████████████████████████████████                                          | 6/12 [01:53<01:54, 19.01s/it]\u001b[A\n",
      " 58%|█████████████████████████████████████████████████                                   | 7/12 [02:12<01:34, 18.91s/it]\u001b[A\n",
      " 67%|████████████████████████████████████████████████████████                            | 8/12 [02:30<01:15, 18.90s/it]\u001b[A\n",
      " 75%|███████████████████████████████████████████████████████████████                     | 9/12 [02:51<00:58, 19.46s/it]\u001b[A\n",
      " 83%|█████████████████████████████████████████████████████████████████████▏             | 10/12 [03:22<00:45, 22.93s/it]\u001b[A\n",
      " 92%|████████████████████████████████████████████████████████████████████████████       | 11/12 [03:42<00:22, 22.12s/it]\u001b[A\n",
      "100%|███████████████████████████████████████████████████████████████████████████████████| 12/12 [03:59<00:00, 19.98s/it]\u001b[A\n"
     ]
    },
    {
     "name": "stdout",
     "output_type": "stream",
     "text": [
      "Pasture-group finished!\n"
     ]
    },
    {
     "name": "stderr",
     "output_type": "stream",
     "text": [
      "distributed.nanny - WARNING - Worker exceeded 95% memory budget. Restarting\n",
      "distributed.client - ERROR - Restart timed out after 9.00 seconds\n",
      "100%|████████████████████████████████████████████████████████████████████████████████████| 5/5 [26:49<00:00, 321.96s/it]\n"
     ]
    }
   ],
   "source": [
    "cper_gdf = gpd.read_file(cper_f)\n",
    "\n",
    "for pasture in tqdm(img_f_dict):\n",
    "    print('\\n\\n----------\\nPasture: ' + pasture)\n",
    "\n",
    "    # get the bounding box of the pasture\n",
    "    past_bbox = cper_gdf[cper_gdf['Past_Name_'] == pasture].buffer(\n",
    "        full_buff_size).bounds.apply(lambda x: int(x))\n",
    "\n",
    "    total_bounds = {'xmin': past_bbox['minx'],\n",
    "                    'xmax': past_bbox['maxx'],\n",
    "                    'ymin': past_bbox['miny'],\n",
    "                    'ymax': past_bbox['maxy']}\n",
    "\n",
    "    n_row_tiles = int(np.ceil((total_bounds['ymax'] - total_bounds['ymin'])/full_tile_size))\n",
    "    n_col_tiles = int(np.ceil((total_bounds['xmax'] - total_bounds['xmin'])/full_tile_size))\n",
    "\n",
    "    outSHP = os.path.join(outDIR, 'burrow_pts_pred_' + '_'.join([pasture] + inputs_fnl + [str(res_fnl)]) + 'cm.shp')\n",
    "    if os.path.exists(outSHP):\n",
    "        gdf_out = gpd.read_file(outSHP)\n",
    "        r_ct_pred = len(gdf_out)\n",
    "        rc_completed = gdf_out.apply(lambda x: '_'.join([str(x.tile_row), str(x.tile_col)]), axis=1).unique()\n",
    "    elif os.path.exists(re.sub('.shp', '.csv', outSHP)):\n",
    "        gdf_out = pd.read_csv(re.sub('.shp', '.csv', outSHP))\n",
    "        r_ct_pred = len(gdf_out)\n",
    "        rc_completed = gdf_out.apply(lambda x: '_'.join([str(x.tile_row), str(x.tile_col)]), axis=1).unique()\n",
    "    else:\n",
    "        r_ct_pred = 0\n",
    "        gdf_out = gpd.GeoDataFrame()\n",
    "        rc_completed = []\n",
    "    tile_ct = 0\n",
    "    for full_r in range(n_row_tiles):\n",
    "        print('running row: ' + str(full_r + 1) + ' of ' + str(n_row_tiles))\n",
    "        for full_c in tqdm(range(n_col_tiles)):\n",
    "            if len(client.cluster.workers) < 8:\n",
    "                client.shutdown()\n",
    "                client.close()\n",
    "                cluster = LocalCluster(n_workers=8, threads_per_worker=2, processes=True)\n",
    "                client = Client(cluster)\n",
    "                client.amm.start()\n",
    "            if '_'.join([str(full_r), str(full_c)]) in rc_completed:\n",
    "                #print('skipping row/column combination, already in shapefile!')\n",
    "                continue\n",
    "            else:\n",
    "                try:\n",
    "                    t0=time.time()\n",
    "\n",
    "                    ll_tile = [full_c * full_tile_size + total_bounds['xmin'],\n",
    "                               full_r * full_tile_size + total_bounds['ymin']]\n",
    "                    ul_tile = [ll_tile[0], ll_tile[1] + full_tile_size]\n",
    "                    ur_tile = [x + full_tile_size for x in ll_tile]\n",
    "                    lr_tile = [ll_tile[0] + full_tile_size, ll_tile[1]]\n",
    "                    tile_poly = Polygon([ll_tile, ul_tile, ur_tile, lr_tile])\n",
    "\n",
    "                    ll = [full_c * full_tile_size + total_bounds['xmin'] - buff_size_m,\n",
    "                          full_r * full_tile_size + total_bounds['ymin'] - buff_size_m]\n",
    "                    ul = [ll[0], ll[1] + full_tile_size + (buff_size_m * 2.0)]\n",
    "                    ur = [x + full_tile_size + (buff_size_m * 2.0) for x in ll]\n",
    "                    lr = [ll[0] + full_tile_size + (buff_size_m * 2.0), ll[1]]\n",
    "\n",
    "                    image_dict = {}\n",
    "                    newsize_r = int(round((ul[1] - ll[1]) / (res_fnl * 0.01), 0))\n",
    "                    newsize_c = int(round((lr[0] - ll[0]) / (res_fnl * 0.01), 0))\n",
    "                    if 'rgb' in inputs_fnl:\n",
    "                        #print('getting RGB')\n",
    "                        t1=time.time()\n",
    "\n",
    "                        rgb_xr_list = []\n",
    "                        #print('creating RGB list')\n",
    "                        for rgb_f in img_f_dict[pasture]['rgb']:\n",
    "                            with riox.open_rasterio(rgb_f, masked=True, cache=False) as rgb_src:\n",
    "                                rgb_xr_list.append(rgb_src.sel(band=slice(0, 3),\n",
    "                                                               x=slice(ll[0], lr[0]),\n",
    "                                                               y=slice(ul[1], ll[1]), \n",
    "                                                               drop=True).load())\n",
    "                        #print('masking')\n",
    "                        rgb_xr_list = [x for x in rgb_xr_list if not any([s == 0 for s in x.shape])]\n",
    "                        rgb_xr_list = [x.where(x != 255) for x in rgb_xr_list if not x.where(x != 255).isnull().all().values]\n",
    "                        rgb_null_ct = [x.isnull().sum().values.item() for x in rgb_xr_list]\n",
    "                        rgb_nonull_mask = [x==0 for x in rgb_null_ct]\n",
    "                        if any(rgb_nonull_mask):\n",
    "                            rgb_xr_list = [rgb_xr_list[np.argsort(rgb_null_ct)[0]]]\n",
    "                        else:\n",
    "                            rgb_xr_list = [rgb_xr_list[i] for i in np.argsort(rgb_null_ct)]\n",
    "                        #print('writing nodata')\n",
    "                        rgb_xr_list = [x.rio.write_nodata(-9999.) for x in rgb_xr_list]\n",
    "\n",
    "                        #print('merging')\n",
    "                        rgb_xr = merge_arrays(rgb_xr_list,\n",
    "                                              bounds=(ll[0], ll[1], lr[0], ur[1]), \n",
    "                                              res=res_fnl*0.01, \n",
    "                                              crs=rio.CRS.from_epsg(32613),\n",
    "                                              method='first',\n",
    "                                              nodata=-9999.)\n",
    "                        #print('masking')\n",
    "                        rgb_xr = rgb_xr.where(rgb_xr != -9999.)\n",
    "                        image_dict['rgb'] = rgb_xr.values\n",
    "                        del rgb_xr, rgb_xr_list\n",
    "                        #rgb_xr.close()\n",
    "                        t2=time.time()\n",
    "                        #print('... completed in', round(t2 - t1, 1), 'secs')\n",
    "                    if 'dsm' in inputs_fnl or 'tpi' in inputs_fnl:\n",
    "                        t1 = time.time()\n",
    "                        #print('getting DSM')\n",
    "                        dsm_xr_list = []\n",
    "                        for dsm_f in img_f_dict[pasture]['dsm']:\n",
    "                            with riox.open_rasterio(dsm_f, masked=True, cache=False) as dsm_src:\n",
    "                                dsm_xr_list.append(dsm_src.sel(x=slice(ll[0], lr[0]),\n",
    "                                                               y=slice(ul[1], ll[1]), \n",
    "                                                               drop=True).load())\n",
    "\n",
    "                        dsm_xr_list = [x for x in dsm_xr_list if not any([s == 0 for s in x.shape])]\n",
    "                        dsm_xr_list = [x.where(x > 0).squeeze() for x in dsm_xr_list if not x.where(x > 0).isnull().all().values]\n",
    "                        dsm_null_ct = [x.isnull().sum().values.item() for x in dsm_xr_list]\n",
    "                        dsm_nonull_mask = [x==0 for x in dsm_null_ct]\n",
    "                        if any(dsm_nonull_mask):\n",
    "                            dsm_xr_list = [dsm_xr_list[np.argsort(dsm_null_ct)[0]]]\n",
    "                        else:\n",
    "                            dsm_xr_list = [dsm_xr_list[i] for i in np.argsort(dsm_null_ct)]\n",
    "                        dsm_xr_list = [x.rio.write_nodata(-9999.) for x in dsm_xr_list]\n",
    "\n",
    "                        dsm_xr = merge_arrays(dsm_xr_list,\n",
    "                                              bounds=(ll[0], ll[1], lr[0], ur[1]), \n",
    "                                              res=res_fnl*0.01, \n",
    "                                              crs=rio.CRS.from_epsg(32613),\n",
    "                                              method='first',\n",
    "                                              nodata=-9999.)\n",
    "\n",
    "                        dsm_xr = dsm_xr.where(dsm_xr != -9999.)\n",
    "\n",
    "                        if 'dsm' in inputs_fnl:\n",
    "                            image_dict['dsm'] = dsm_xr.values\n",
    "                        #dsm_xr.close()\n",
    "                        t2=time.time()\n",
    "                        #print('... completed in', round(t2 - t1, 1), 'secs')\n",
    "                    if 'tpi' in inputs_fnl: \n",
    "                        t1 = time.time()\n",
    "                        #print('computing TPI')\n",
    "                        # prepare an annulus kernel with a ring at a distance from 5-10 cells away from focal point\n",
    "                        outer_radius = \"0.75m\"\n",
    "                        inner_radius = \"0.25m\"\n",
    "                        image_dict['tpi'] = calc_tpi(dsm_xr.chunk({'x': chunk_size,\n",
    "                                                                   'y': chunk_size}), \n",
    "                                                     inner_r=inner_radius, \n",
    "                                                     outer_r=outer_radius, \n",
    "                                                     interpolate=False,\n",
    "                                                     values=True)\n",
    "                        del dsm_xr, dsm_xr_list\n",
    "                        #dsm_xr.close()\n",
    "                        t2=time.time()\n",
    "                        #print('... completed in', round(t2 - t1, 1), 'secs')\n",
    "                    if 'ndvi' in inputs_fnl:\n",
    "                        t1 = time.time()\n",
    "                        #print('computing NDVI')\n",
    "                        ms_xr_list = []\n",
    "                        for ms_f in img_f_dict[pasture]['ms']:\n",
    "                            with riox.open_rasterio(ms_f, masked=True, cache=False) as ms_src:\n",
    "                                ms_xr_list.append(ms_src.sel(band=[4, 3],\n",
    "                                                               x=slice(ll[0], lr[0]),\n",
    "                                                               y=slice(ul[1], ll[1]), \n",
    "                                                               drop=True).load())\n",
    "\n",
    "                        ms_xr_list = [x for x in ms_xr_list if not any([s == 0 for s in x.shape])]\n",
    "                        ms_xr_list = [x.where(x != 65535) for x in ms_xr_list if not x.where(x != 65535).isnull().all().values]\n",
    "                        ms_null_ct = [x.isnull().sum().values.item() for x in ms_xr_list]\n",
    "                        ms_nonull_mask = [x==0 for x in ms_null_ct]\n",
    "                        if any(ms_nonull_mask):\n",
    "                            ms_xr_list = [ms_xr_list[np.argsort(ms_null_ct)[0]]]\n",
    "                        else:\n",
    "                            ms_xr_list = [ms_xr_list[i] for i in np.argsort(ms_null_ct)]\n",
    "                        ms_xr_list = [x.rio.write_nodata(-9999.) for x in ms_xr_list]\n",
    "\n",
    "                        ms_xr = merge_arrays(ms_xr_list,\n",
    "                                              bounds=(ll[0], ll[1], lr[0], ur[1]), \n",
    "                                              res=res_fnl*0.01, \n",
    "                                              crs=rio.CRS.from_epsg(32613),\n",
    "                                              method='first',\n",
    "                                              nodata=-9999.)\n",
    "\n",
    "                        ms_xr = ms_xr.where(ms_xr != -9999.)\n",
    "                        image_dict['ndvi'] = calc_ndvi(ms_xr, values=True, interpolate=False)\n",
    "                        del ms_xr, ms_xr_list\n",
    "                        #ms_xr.close()\n",
    "                        t2=time.time()\n",
    "                        #print('... completed in', round(t2 - t1, 1), 'secs')\n",
    "\n",
    "                    if 'rgb' in image_dict:\n",
    "                        tshape = image_dict['rgb'].shape[1:]\n",
    "                    else:\n",
    "                        tshape = image_dict[inputs_fnl[0]].shape\n",
    "\n",
    "                    n_row_chunks = int(np.ceil(tshape[0]/tile_size))\n",
    "                    n_col_chunks = int(np.ceil(tshape[1]/tile_size))\n",
    "\n",
    "                    pr_mask = np.empty(tshape)\n",
    "                    t1 = time.time()\n",
    "                    #print('predicting binary burrow image')\n",
    "                    for r in range(n_row_chunks):\n",
    "                        if (r + 1) * tile_size > tshape[0]:\n",
    "                            r_min = tshape[0] - tile_size\n",
    "                            r_max = tshape[0]\n",
    "                            r_max_comp = tshape[0]\n",
    "                        elif (r + 1) * tile_size + buff_size > tshape[0]:\n",
    "                            r_min = r * tile_size\n",
    "                            r_max = (r + 1) * tile_size\n",
    "                            r_max_comp = r_max\n",
    "                        else:\n",
    "                            r_min = r * tile_size\n",
    "                            r_max = (r + 1) * tile_size\n",
    "                            r_max_comp = r_max + buff_size\n",
    "                        for c in range(n_col_chunks):\n",
    "                            image_sub_dict = {}\n",
    "                            if (c + 1) * tile_size > tshape[1]:\n",
    "                                c_min = tshape[1] - tile_size\n",
    "                                c_max = tshape[1]\n",
    "                                c_max_comp = tshape[1]\n",
    "                            elif (c + 1) * tile_size + buff_size > tshape[1]:\n",
    "                                c_min = c * tile_size\n",
    "                                c_max = (c + 1) * tile_size\n",
    "                                c_max_comp = c_max\n",
    "                            else:\n",
    "                                c_min = c * tile_size\n",
    "                                c_max = (c + 1) * tile_size\n",
    "                                c_max_comp = c_max + buff_size\n",
    "                            for k in image_dict:\n",
    "                                if k == 'rgb':\n",
    "                                    image_sub_dict[k] = image_dict[k][:,\n",
    "                                                                      slice(max(0, r_min-buff_size), r_max_comp),\n",
    "                                                                      slice(max(0, c_min-buff_size), c_max_comp)].astype('float32')\n",
    "                                else:\n",
    "                                    image_sub_dict[k] = image_dict[k][slice(max(0, r_min-buff_size), r_max_comp),\n",
    "                                                                      slice(max(0, c_min-buff_size), c_max_comp)].astype('float32')\n",
    "                                if len(image_sub_dict[k].shape) == 2:\n",
    "                                    image_sub_dict[k] = np.expand_dims(image_sub_dict[k], 0)\n",
    "                                if np.all(np.isnan(image_sub_dict[k])):\n",
    "                                    continue\n",
    "                                elif np.any(np.isnan(image_sub_dict[k])):\n",
    "                                    for i in range(image_sub_dict[k].shape[0]):\n",
    "                                        if np.any(np.isnan(image_sub_dict[k][i, :, :])):\n",
    "                                            data = image_sub_dict[k][i, :, :].copy()\n",
    "                                            mask = np.where(~np.isnan(data))\n",
    "                                            interp = NearestNDInterpolator(np.transpose(mask), data[mask])\n",
    "                                            image_sub_dict[k][i, :, :] = interp(*np.indices(data.shape))\n",
    "                                            del data, mask, interp\n",
    "    \n",
    "                            if np.any([np.all(np.isnan(image_sub_dict[k])) for k in image_sub_dict]):\n",
    "                                pr_mask[r_min:r_max, c_min:c_max] = np.nan\n",
    "                                continue\n",
    "                            else:\n",
    "                                if preprocess:\n",
    "                                    for i in image_sub_dict:\n",
    "                                        image_sub_dict[i] = normalize_fn(image_sub_dict[i], i, image_stats)\n",
    "                                image_list = [image_sub_dict[i] for i in inputs_fnl]\n",
    "                                image_out = np.concatenate(image_list, axis=0)\n",
    "                                x_tensor = torch.from_numpy(image_out).to(DEVICE).unsqueeze(0)\n",
    "                                if type(best_model) == nn.DataParallel:\n",
    "                                    pred_tmp = best_model.module.predict(x_tensor).cpu().detach().numpy().squeeze() >= prob_thresh\n",
    "                                    buff_r_min = buff_size * int(r_min-buff_size > 0)\n",
    "                                    buff_r_max = buff_size * int(r_max+buff_size <= tshape[0])\n",
    "                                    buff_c_min = buff_size * int(c_min-buff_size > 0)\n",
    "                                    buff_c_max = buff_size * int(c_max+buff_size <= tshape[1])\n",
    "                                    if pred_tmp.shape[1] > tile_size:\n",
    "                                        pr_mask[r_min:r_max, c_min:c_max] = pred_tmp[buff_r_min:pred_tmp.shape[0]-buff_r_max,\n",
    "                                                                                     buff_c_min:pred_tmp.shape[1]-buff_c_max]\n",
    "                                    else:\n",
    "                                        pr_mask[r_min:r_max, c_min:c_max] = pred_tmp\n",
    "                                else:\n",
    "                                    pred_tmp = best_model.predict(x_tensor).cpu().detach().numpy().squeeze() >= prob_thresh\n",
    "                                    buff_r_min = buff_size * int(r_min-buff_size > 0)\n",
    "                                    buff_r_max = buff_size * int(r_max+buff_size <= tshape[0])\n",
    "                                    buff_c_min = buff_size * int(c_min-buff_size > 0)\n",
    "                                    buff_c_max = buff_size * int(c_max+buff_size <= tshape[1])\n",
    "                                    if pred_tmp.shape[1] > tile_size:\n",
    "                                        pr_mask[r_min:r_max, c_min:c_max] = pred_tmp[buff_r_min:pred_tmp.shape[0]-buff_r_max,\n",
    "                                                                                     buff_c_min:pred_tmp.shape[1]-buff_c_max]\n",
    "                                    else:\n",
    "                                        pr_mask[r_min:r_max, c_min:c_max] = pred_tmp\n",
    "                    t2=time.time()\n",
    "                    #print('... completed in', round(t2 - t1, 1), 'secs')\n",
    "                    t1 = time.time()\n",
    "                    #print('getting burrow locations')\n",
    "                    if np.all(pr_mask == 0):\n",
    "                        gdf_tmp = gpd.GeoDataFrame(data=pd.DataFrame({'area': ''}, index=[r_ct_pred]))\n",
    "                        gdf_tmp['tile_row'] = full_r\n",
    "                        gdf_tmp['tile_col'] =  full_c\n",
    "                        gdf_tmp['tile_size'] = full_tile_size\n",
    "                        gdf_out = pd.concat([gdf_out, gdf_tmp])\n",
    "                        del gdf_tmp\n",
    "                        r_ct_pred += 1\n",
    "                    else:\n",
    "                        pr_labels = label(pr_mask)\n",
    "                        pr_regions = regionprops(pr_labels)\n",
    "                        pr_regions = [r for r in pr_regions if (r.area*(res_fnl/100)**2 > 0.05) & (r.area*(res_fnl/100)**2 < 5.0)]\n",
    "                        if len(pr_regions) == 0:\n",
    "                            #print('no burrow locations found!')\n",
    "                            gdf_tmp = gpd.GeoDataFrame(data=pd.DataFrame({'area': ''}, index=[r_ct_pred]))\n",
    "                            gdf_tmp['tile_row'] = full_r\n",
    "                            gdf_tmp['tile_col'] =  full_c\n",
    "                            gdf_tmp['tile_size'] = full_tile_size\n",
    "                            gdf_out = pd.concat([gdf_out, gdf_tmp])\n",
    "                            del gdf_tmp\n",
    "                            r_ct_pred += 1\n",
    "                        else:\n",
    "                            r_ct_tile = 0\n",
    "                            for r in pr_regions:\n",
    "                                gdf_tmp = gpd.GeoDataFrame(data=pd.DataFrame({'area': r.area}, \n",
    "                                                                             index=[r_ct_pred]), \n",
    "                                                           geometry=[Point([ll[0] + r.centroid[1]*(res_fnl*0.01),\n",
    "                                                                            ul[1] - r.centroid[0]*(res_fnl*0.01)])], \n",
    "                                                           crs='EPSG:32613')\n",
    "                                if gdf_tmp.geometry.within(tile_poly).values[0]:\n",
    "                                    gdf_tmp['tile_row'] = full_r\n",
    "                                    gdf_tmp['tile_col'] =  full_c\n",
    "                                    gdf_tmp['tile_size'] = full_tile_size\n",
    "                                    gdf_out = pd.concat([gdf_out, gdf_tmp])\n",
    "                                    r_ct_tile += 1\n",
    "                                if type(gdf_out) is pd.core.frame.DataFrame:\n",
    "                                    gdf_out = gpd.GeoDataFrame(gdf_out, geometry = gdf_out['geometry'])\n",
    "                                del gdf_tmp\n",
    "                                r_ct_pred += 1\n",
    "                            if r_ct_tile == 0:\n",
    "                                gdf_tmp = gpd.GeoDataFrame(data=pd.DataFrame({'area': ''}, index=[r_ct_pred]))\n",
    "                                gdf_tmp['tile_row'] = full_r\n",
    "                                gdf_tmp['tile_col'] =  full_c\n",
    "                                gdf_tmp['tile_size'] = full_tile_size\n",
    "                                gdf_out = pd.concat([gdf_out, gdf_tmp])\n",
    "                                del gdf_tmp\n",
    "                                r_ct_pred += 1\n",
    "                        t2=time.time()\n",
    "                        #print('... completed in', round(t2 - t1, 1), 'secs')\n",
    "                    if type(gdf_out) is pd.core.frame.DataFrame:\n",
    "                        gdf_out.to_csv(re.sub('.shp', '.csv', outSHP), index=False)\n",
    "                    else:\n",
    "                        gdf_out.to_file(outSHP)\n",
    "                    try:\n",
    "                        del pr_mask, pred_tmp, pr_labels, pr_regions, image_dict, image_sub_dict, image_list, image_out\n",
    "                    except NameError:\n",
    "                        pass\n",
    "                    gc.collect()\n",
    "                    client.run(gc.collect)\n",
    "                    client.run(trim_memory)\n",
    "                    if (tile_ct > 0) & (tile_ct % 15 == 0):\n",
    "                        try:\n",
    "                            client.restart(timeout=9)\n",
    "                            time.sleep(10)\n",
    "                        except TimeoutError:\n",
    "                            client.shutdown()\n",
    "                            client.close()\n",
    "                            cluster = LocalCluster(n_workers=8, threads_per_worker=2, processes=True)\n",
    "                            client = Client(cluster)\n",
    "                            client.amm.start()\n",
    "\n",
    "                    #client.restart()\n",
    "                except NoDataInBounds:\n",
    "                    gdf_tmp = gpd.GeoDataFrame(data=pd.DataFrame({'area': ''}, index=[r_ct_pred]))\n",
    "                    gdf_tmp['tile_row'] = full_r\n",
    "                    gdf_tmp['tile_col'] =  full_c\n",
    "                    gdf_tmp['tile_size'] = full_tile_size\n",
    "                    gdf_out = pd.concat([gdf_out, gdf_tmp])\n",
    "                    del gdf_tmp\n",
    "                    r_ct_pred += 1\n",
    "                    if type(gdf_out) is pd.core.frame.DataFrame:\n",
    "                        gdf_out.to_csv(re.sub('.shp', '.csv', outSHP), index=False)\n",
    "                    else:\n",
    "                        gdf_out.to_file(outSHP)\n",
    "                    continue\n",
    "                    #print('No data in bounds. Skipping row/column.')\n",
    "            tile_ct += 1\n",
    "        #if not '_'.join([str(full_r), str(full_c)]) in rc_completed:\n",
    "    print('Pasture-group finished!')\n",
    "    try:\n",
    "        client.restart(timeout=9)\n",
    "        time.sleep(10)\n",
    "    except TimeoutError:\n",
    "        client.shutdown()\n",
    "        client.close()\n",
    "        cluster = LocalCluster(n_workers=8, threads_per_worker=2, processes=True)\n",
    "        client = Client(cluster)\n",
    "        client.amm.start()\n"
   ]
  },
  {
   "cell_type": "code",
   "execution_count": null,
   "id": "68a0aa95-9252-47d2-8282-5852faa70c8c",
   "metadata": {},
   "outputs": [],
   "source": []
  },
  {
   "cell_type": "code",
   "execution_count": null,
   "id": "f9de82b0-308d-4ba7-b1b9-c107dabc7a50",
   "metadata": {},
   "outputs": [],
   "source": []
  }
 ],
 "metadata": {
  "kernelspec": {
   "display_name": "Python 3 (ipykernel)",
   "language": "python",
   "name": "python3"
  },
  "language_info": {
   "codemirror_mode": {
    "name": "ipython",
    "version": 3
   },
   "file_extension": ".py",
   "mimetype": "text/x-python",
   "name": "python",
   "nbconvert_exporter": "python",
   "pygments_lexer": "ipython3",
   "version": "3.9.13"
  }
 },
 "nbformat": 4,
 "nbformat_minor": 5
}
