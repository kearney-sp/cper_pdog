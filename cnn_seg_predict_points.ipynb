{
 "cells": [
  {
   "cell_type": "code",
   "execution_count": 1,
   "id": "9e2bd11b-adb7-44d3-a1a9-137a83606ab5",
   "metadata": {},
   "outputs": [],
   "source": [
    "from shapely.geometry import Polygon, Point\n",
    "import itertools\n",
    "import geopandas as gpd\n",
    "import pandas as pd\n",
    "import rasterio as rio\n",
    "from rasterio.features import rasterize\n",
    "from rasterio import mask\n",
    "from rasterio.plot import show\n",
    "from rasterio.enums import Resampling\n",
    "import matplotlib.pyplot as plt\n",
    "from skimage.measure import label, regionprops\n",
    "import torch.nn as nn\n",
    "import numpy as np\n",
    "import shapely.wkt as wkt\n",
    "import torch\n",
    "import segmentation_models_pytorch as smp\n",
    "from segmentation_models_pytorch import utils\n",
    "from tqdm import tqdm\n",
    "from skimage.measure import label, regionprops\n",
    "import os\n",
    "import dask\n",
    "import time\n",
    "import gc\n",
    "import re\n",
    "from rioxarray.exceptions import NoDataInBounds\n",
    "from rioxarray.merge import merge_arrays\n",
    "from scipy.interpolate import NearestNDInterpolator"
   ]
  },
  {
   "cell_type": "code",
   "execution_count": 2,
   "id": "aa0f21d8-4da6-493f-8aef-c6deed579977",
   "metadata": {},
   "outputs": [
    {
     "data": {
      "text/plain": [
       "<dask.config.set at 0x7f80b81cc5b0>"
      ]
     },
     "execution_count": 2,
     "metadata": {},
     "output_type": "execute_result"
    }
   ],
   "source": [
    "import distributed\n",
    "dask.config.set({\"distributed.nanny.environ.MALLOC_TRIM_THRESHOLD_\": 0})\n",
    "dask.config.set(scheduler='processes')"
   ]
  },
  {
   "cell_type": "code",
   "execution_count": 3,
   "id": "2e85d291-0187-49a8-8933-6b50f0dad9a5",
   "metadata": {},
   "outputs": [
    {
     "name": "stdout",
     "output_type": "stream",
     "text": [
      "0\n"
     ]
    }
   ],
   "source": [
    "import ctypes\n",
    "\n",
    "def trim_memory() -> int:\n",
    "    libc = ctypes.CDLL(\"libc.so.6\")\n",
    "    return libc.malloc_trim(0)\n",
    "\n",
    "os.environ[\"MALLOC_TRIM_THRESHOLD_\"] = str(dask.config.get(\"distributed.nanny.environ.MALLOC_TRIM_THRESHOLD_\"))\n",
    "\n",
    "print(os.environ[\"MALLOC_TRIM_THRESHOLD_\"])\n",
    "\n",
    "#os.environ[\"MALLOC_TRIM_THRESHOLD_\"] = '0'"
   ]
  },
  {
   "cell_type": "code",
   "execution_count": 4,
   "id": "ea00fa48-5d5e-4a18-a5f5-a5f4c338d448",
   "metadata": {},
   "outputs": [],
   "source": [
    "import xarray as xr\n",
    "import rioxarray as riox\n",
    "from xrspatial import convolution, focal, hillshade\n",
    "from skimage.transform import resize\n",
    "from dask.distributed import LocalCluster, Client"
   ]
  },
  {
   "cell_type": "code",
   "execution_count": 5,
   "id": "f0d6c4e7-b288-4279-826d-39975e5db58c",
   "metadata": {},
   "outputs": [
    {
     "name": "stderr",
     "output_type": "stream",
     "text": [
      "/home/spkearney/miniconda3/envs/py_seg_env/lib/python3.9/site-packages/distributed/node.py:180: UserWarning: Port 8787 is already in use.\n",
      "Perhaps you already have a cluster running?\n",
      "Hosting the HTTP server on port 35537 instead\n",
      "  warnings.warn(\n"
     ]
    },
    {
     "data": {
      "text/html": [
       "<div>\n",
       "    <div style=\"width: 24px; height: 24px; background-color: #e1e1e1; border: 3px solid #9D9D9D; border-radius: 5px; position: absolute;\"> </div>\n",
       "    <div style=\"margin-left: 48px;\">\n",
       "        <h3 style=\"margin-bottom: 0px;\">Client</h3>\n",
       "        <p style=\"color: #9D9D9D; margin-bottom: 0px;\">Client-eb711548-4b1e-11ed-8327-00155dfb4fed</p>\n",
       "        <table style=\"width: 100%; text-align: left;\">\n",
       "\n",
       "        <tr>\n",
       "        \n",
       "            <td style=\"text-align: left;\"><strong>Connection method:</strong> Cluster object</td>\n",
       "            <td style=\"text-align: left;\"><strong>Cluster type:</strong> distributed.LocalCluster</td>\n",
       "        \n",
       "        </tr>\n",
       "\n",
       "        \n",
       "            <tr>\n",
       "                <td style=\"text-align: left;\">\n",
       "                    <strong>Dashboard: </strong> <a href=\"http://127.0.0.1:35537/status\" target=\"_blank\">http://127.0.0.1:35537/status</a>\n",
       "                </td>\n",
       "                <td style=\"text-align: left;\"></td>\n",
       "            </tr>\n",
       "        \n",
       "\n",
       "        </table>\n",
       "\n",
       "        \n",
       "            <details>\n",
       "            <summary style=\"margin-bottom: 20px;\"><h3 style=\"display: inline;\">Cluster Info</h3></summary>\n",
       "            <div class=\"jp-RenderedHTMLCommon jp-RenderedHTML jp-mod-trusted jp-OutputArea-output\">\n",
       "    <div style=\"width: 24px; height: 24px; background-color: #e1e1e1; border: 3px solid #9D9D9D; border-radius: 5px; position: absolute;\">\n",
       "    </div>\n",
       "    <div style=\"margin-left: 48px;\">\n",
       "        <h3 style=\"margin-bottom: 0px; margin-top: 0px;\">LocalCluster</h3>\n",
       "        <p style=\"color: #9D9D9D; margin-bottom: 0px;\">d942d49e</p>\n",
       "        <table style=\"width: 100%; text-align: left;\">\n",
       "            <tr>\n",
       "                <td style=\"text-align: left;\">\n",
       "                    <strong>Dashboard:</strong> <a href=\"http://127.0.0.1:35537/status\" target=\"_blank\">http://127.0.0.1:35537/status</a>\n",
       "                </td>\n",
       "                <td style=\"text-align: left;\">\n",
       "                    <strong>Workers:</strong> 8\n",
       "                </td>\n",
       "            </tr>\n",
       "            <tr>\n",
       "                <td style=\"text-align: left;\">\n",
       "                    <strong>Total threads:</strong> 16\n",
       "                </td>\n",
       "                <td style=\"text-align: left;\">\n",
       "                    <strong>Total memory:</strong> 15.49 GiB\n",
       "                </td>\n",
       "            </tr>\n",
       "            \n",
       "            <tr>\n",
       "    <td style=\"text-align: left;\"><strong>Status:</strong> running</td>\n",
       "    <td style=\"text-align: left;\"><strong>Using processes:</strong> True</td>\n",
       "</tr>\n",
       "\n",
       "            \n",
       "        </table>\n",
       "\n",
       "        <details>\n",
       "            <summary style=\"margin-bottom: 20px;\">\n",
       "                <h3 style=\"display: inline;\">Scheduler Info</h3>\n",
       "            </summary>\n",
       "\n",
       "            <div style=\"\">\n",
       "    <div>\n",
       "        <div style=\"width: 24px; height: 24px; background-color: #FFF7E5; border: 3px solid #FF6132; border-radius: 5px; position: absolute;\"> </div>\n",
       "        <div style=\"margin-left: 48px;\">\n",
       "            <h3 style=\"margin-bottom: 0px;\">Scheduler</h3>\n",
       "            <p style=\"color: #9D9D9D; margin-bottom: 0px;\">Scheduler-5299ffc5-43ae-42f6-b213-8e6811850940</p>\n",
       "            <table style=\"width: 100%; text-align: left;\">\n",
       "                <tr>\n",
       "                    <td style=\"text-align: left;\">\n",
       "                        <strong>Comm:</strong> tcp://127.0.0.1:39883\n",
       "                    </td>\n",
       "                    <td style=\"text-align: left;\">\n",
       "                        <strong>Workers:</strong> 8\n",
       "                    </td>\n",
       "                </tr>\n",
       "                <tr>\n",
       "                    <td style=\"text-align: left;\">\n",
       "                        <strong>Dashboard:</strong> <a href=\"http://127.0.0.1:35537/status\" target=\"_blank\">http://127.0.0.1:35537/status</a>\n",
       "                    </td>\n",
       "                    <td style=\"text-align: left;\">\n",
       "                        <strong>Total threads:</strong> 16\n",
       "                    </td>\n",
       "                </tr>\n",
       "                <tr>\n",
       "                    <td style=\"text-align: left;\">\n",
       "                        <strong>Started:</strong> Just now\n",
       "                    </td>\n",
       "                    <td style=\"text-align: left;\">\n",
       "                        <strong>Total memory:</strong> 15.49 GiB\n",
       "                    </td>\n",
       "                </tr>\n",
       "            </table>\n",
       "        </div>\n",
       "    </div>\n",
       "\n",
       "    <details style=\"margin-left: 48px;\">\n",
       "        <summary style=\"margin-bottom: 20px;\">\n",
       "            <h3 style=\"display: inline;\">Workers</h3>\n",
       "        </summary>\n",
       "\n",
       "        \n",
       "        <div style=\"margin-bottom: 20px;\">\n",
       "            <div style=\"width: 24px; height: 24px; background-color: #DBF5FF; border: 3px solid #4CC9FF; border-radius: 5px; position: absolute;\"> </div>\n",
       "            <div style=\"margin-left: 48px;\">\n",
       "            <details>\n",
       "                <summary>\n",
       "                    <h4 style=\"margin-bottom: 0px; display: inline;\">Worker: 0</h4>\n",
       "                </summary>\n",
       "                <table style=\"width: 100%; text-align: left;\">\n",
       "                    <tr>\n",
       "                        <td style=\"text-align: left;\">\n",
       "                            <strong>Comm: </strong> tcp://127.0.0.1:45779\n",
       "                        </td>\n",
       "                        <td style=\"text-align: left;\">\n",
       "                            <strong>Total threads: </strong> 2\n",
       "                        </td>\n",
       "                    </tr>\n",
       "                    <tr>\n",
       "                        <td style=\"text-align: left;\">\n",
       "                            <strong>Dashboard: </strong> <a href=\"http://127.0.0.1:39221/status\" target=\"_blank\">http://127.0.0.1:39221/status</a>\n",
       "                        </td>\n",
       "                        <td style=\"text-align: left;\">\n",
       "                            <strong>Memory: </strong> 1.94 GiB\n",
       "                        </td>\n",
       "                    </tr>\n",
       "                    <tr>\n",
       "                        <td style=\"text-align: left;\">\n",
       "                            <strong>Nanny: </strong> tcp://127.0.0.1:34803\n",
       "                        </td>\n",
       "                        <td style=\"text-align: left;\"></td>\n",
       "                    </tr>\n",
       "                    <tr>\n",
       "                        <td colspan=\"2\" style=\"text-align: left;\">\n",
       "                            <strong>Local directory: </strong> /mnt/c/Users/TBGPEA-Sean/git_repos/cper_pdog_uas/dask-worker-space/worker-sj0otu3n\n",
       "                        </td>\n",
       "                    </tr>\n",
       "\n",
       "                    \n",
       "\n",
       "                    \n",
       "\n",
       "                </table>\n",
       "            </details>\n",
       "            </div>\n",
       "        </div>\n",
       "        \n",
       "        <div style=\"margin-bottom: 20px;\">\n",
       "            <div style=\"width: 24px; height: 24px; background-color: #DBF5FF; border: 3px solid #4CC9FF; border-radius: 5px; position: absolute;\"> </div>\n",
       "            <div style=\"margin-left: 48px;\">\n",
       "            <details>\n",
       "                <summary>\n",
       "                    <h4 style=\"margin-bottom: 0px; display: inline;\">Worker: 1</h4>\n",
       "                </summary>\n",
       "                <table style=\"width: 100%; text-align: left;\">\n",
       "                    <tr>\n",
       "                        <td style=\"text-align: left;\">\n",
       "                            <strong>Comm: </strong> tcp://127.0.0.1:34811\n",
       "                        </td>\n",
       "                        <td style=\"text-align: left;\">\n",
       "                            <strong>Total threads: </strong> 2\n",
       "                        </td>\n",
       "                    </tr>\n",
       "                    <tr>\n",
       "                        <td style=\"text-align: left;\">\n",
       "                            <strong>Dashboard: </strong> <a href=\"http://127.0.0.1:34191/status\" target=\"_blank\">http://127.0.0.1:34191/status</a>\n",
       "                        </td>\n",
       "                        <td style=\"text-align: left;\">\n",
       "                            <strong>Memory: </strong> 1.94 GiB\n",
       "                        </td>\n",
       "                    </tr>\n",
       "                    <tr>\n",
       "                        <td style=\"text-align: left;\">\n",
       "                            <strong>Nanny: </strong> tcp://127.0.0.1:41797\n",
       "                        </td>\n",
       "                        <td style=\"text-align: left;\"></td>\n",
       "                    </tr>\n",
       "                    <tr>\n",
       "                        <td colspan=\"2\" style=\"text-align: left;\">\n",
       "                            <strong>Local directory: </strong> /mnt/c/Users/TBGPEA-Sean/git_repos/cper_pdog_uas/dask-worker-space/worker-bqdsdzbo\n",
       "                        </td>\n",
       "                    </tr>\n",
       "\n",
       "                    \n",
       "\n",
       "                    \n",
       "\n",
       "                </table>\n",
       "            </details>\n",
       "            </div>\n",
       "        </div>\n",
       "        \n",
       "        <div style=\"margin-bottom: 20px;\">\n",
       "            <div style=\"width: 24px; height: 24px; background-color: #DBF5FF; border: 3px solid #4CC9FF; border-radius: 5px; position: absolute;\"> </div>\n",
       "            <div style=\"margin-left: 48px;\">\n",
       "            <details>\n",
       "                <summary>\n",
       "                    <h4 style=\"margin-bottom: 0px; display: inline;\">Worker: 2</h4>\n",
       "                </summary>\n",
       "                <table style=\"width: 100%; text-align: left;\">\n",
       "                    <tr>\n",
       "                        <td style=\"text-align: left;\">\n",
       "                            <strong>Comm: </strong> tcp://127.0.0.1:43917\n",
       "                        </td>\n",
       "                        <td style=\"text-align: left;\">\n",
       "                            <strong>Total threads: </strong> 2\n",
       "                        </td>\n",
       "                    </tr>\n",
       "                    <tr>\n",
       "                        <td style=\"text-align: left;\">\n",
       "                            <strong>Dashboard: </strong> <a href=\"http://127.0.0.1:39483/status\" target=\"_blank\">http://127.0.0.1:39483/status</a>\n",
       "                        </td>\n",
       "                        <td style=\"text-align: left;\">\n",
       "                            <strong>Memory: </strong> 1.94 GiB\n",
       "                        </td>\n",
       "                    </tr>\n",
       "                    <tr>\n",
       "                        <td style=\"text-align: left;\">\n",
       "                            <strong>Nanny: </strong> tcp://127.0.0.1:34213\n",
       "                        </td>\n",
       "                        <td style=\"text-align: left;\"></td>\n",
       "                    </tr>\n",
       "                    <tr>\n",
       "                        <td colspan=\"2\" style=\"text-align: left;\">\n",
       "                            <strong>Local directory: </strong> /mnt/c/Users/TBGPEA-Sean/git_repos/cper_pdog_uas/dask-worker-space/worker-v197f4tu\n",
       "                        </td>\n",
       "                    </tr>\n",
       "\n",
       "                    \n",
       "\n",
       "                    \n",
       "\n",
       "                </table>\n",
       "            </details>\n",
       "            </div>\n",
       "        </div>\n",
       "        \n",
       "        <div style=\"margin-bottom: 20px;\">\n",
       "            <div style=\"width: 24px; height: 24px; background-color: #DBF5FF; border: 3px solid #4CC9FF; border-radius: 5px; position: absolute;\"> </div>\n",
       "            <div style=\"margin-left: 48px;\">\n",
       "            <details>\n",
       "                <summary>\n",
       "                    <h4 style=\"margin-bottom: 0px; display: inline;\">Worker: 3</h4>\n",
       "                </summary>\n",
       "                <table style=\"width: 100%; text-align: left;\">\n",
       "                    <tr>\n",
       "                        <td style=\"text-align: left;\">\n",
       "                            <strong>Comm: </strong> tcp://127.0.0.1:38319\n",
       "                        </td>\n",
       "                        <td style=\"text-align: left;\">\n",
       "                            <strong>Total threads: </strong> 2\n",
       "                        </td>\n",
       "                    </tr>\n",
       "                    <tr>\n",
       "                        <td style=\"text-align: left;\">\n",
       "                            <strong>Dashboard: </strong> <a href=\"http://127.0.0.1:46185/status\" target=\"_blank\">http://127.0.0.1:46185/status</a>\n",
       "                        </td>\n",
       "                        <td style=\"text-align: left;\">\n",
       "                            <strong>Memory: </strong> 1.94 GiB\n",
       "                        </td>\n",
       "                    </tr>\n",
       "                    <tr>\n",
       "                        <td style=\"text-align: left;\">\n",
       "                            <strong>Nanny: </strong> tcp://127.0.0.1:41437\n",
       "                        </td>\n",
       "                        <td style=\"text-align: left;\"></td>\n",
       "                    </tr>\n",
       "                    <tr>\n",
       "                        <td colspan=\"2\" style=\"text-align: left;\">\n",
       "                            <strong>Local directory: </strong> /mnt/c/Users/TBGPEA-Sean/git_repos/cper_pdog_uas/dask-worker-space/worker-nd0or_5o\n",
       "                        </td>\n",
       "                    </tr>\n",
       "\n",
       "                    \n",
       "\n",
       "                    \n",
       "\n",
       "                </table>\n",
       "            </details>\n",
       "            </div>\n",
       "        </div>\n",
       "        \n",
       "        <div style=\"margin-bottom: 20px;\">\n",
       "            <div style=\"width: 24px; height: 24px; background-color: #DBF5FF; border: 3px solid #4CC9FF; border-radius: 5px; position: absolute;\"> </div>\n",
       "            <div style=\"margin-left: 48px;\">\n",
       "            <details>\n",
       "                <summary>\n",
       "                    <h4 style=\"margin-bottom: 0px; display: inline;\">Worker: 4</h4>\n",
       "                </summary>\n",
       "                <table style=\"width: 100%; text-align: left;\">\n",
       "                    <tr>\n",
       "                        <td style=\"text-align: left;\">\n",
       "                            <strong>Comm: </strong> tcp://127.0.0.1:43831\n",
       "                        </td>\n",
       "                        <td style=\"text-align: left;\">\n",
       "                            <strong>Total threads: </strong> 2\n",
       "                        </td>\n",
       "                    </tr>\n",
       "                    <tr>\n",
       "                        <td style=\"text-align: left;\">\n",
       "                            <strong>Dashboard: </strong> <a href=\"http://127.0.0.1:36837/status\" target=\"_blank\">http://127.0.0.1:36837/status</a>\n",
       "                        </td>\n",
       "                        <td style=\"text-align: left;\">\n",
       "                            <strong>Memory: </strong> 1.94 GiB\n",
       "                        </td>\n",
       "                    </tr>\n",
       "                    <tr>\n",
       "                        <td style=\"text-align: left;\">\n",
       "                            <strong>Nanny: </strong> tcp://127.0.0.1:39215\n",
       "                        </td>\n",
       "                        <td style=\"text-align: left;\"></td>\n",
       "                    </tr>\n",
       "                    <tr>\n",
       "                        <td colspan=\"2\" style=\"text-align: left;\">\n",
       "                            <strong>Local directory: </strong> /mnt/c/Users/TBGPEA-Sean/git_repos/cper_pdog_uas/dask-worker-space/worker-r1adgphf\n",
       "                        </td>\n",
       "                    </tr>\n",
       "\n",
       "                    \n",
       "\n",
       "                    \n",
       "\n",
       "                </table>\n",
       "            </details>\n",
       "            </div>\n",
       "        </div>\n",
       "        \n",
       "        <div style=\"margin-bottom: 20px;\">\n",
       "            <div style=\"width: 24px; height: 24px; background-color: #DBF5FF; border: 3px solid #4CC9FF; border-radius: 5px; position: absolute;\"> </div>\n",
       "            <div style=\"margin-left: 48px;\">\n",
       "            <details>\n",
       "                <summary>\n",
       "                    <h4 style=\"margin-bottom: 0px; display: inline;\">Worker: 5</h4>\n",
       "                </summary>\n",
       "                <table style=\"width: 100%; text-align: left;\">\n",
       "                    <tr>\n",
       "                        <td style=\"text-align: left;\">\n",
       "                            <strong>Comm: </strong> tcp://127.0.0.1:42429\n",
       "                        </td>\n",
       "                        <td style=\"text-align: left;\">\n",
       "                            <strong>Total threads: </strong> 2\n",
       "                        </td>\n",
       "                    </tr>\n",
       "                    <tr>\n",
       "                        <td style=\"text-align: left;\">\n",
       "                            <strong>Dashboard: </strong> <a href=\"http://127.0.0.1:34005/status\" target=\"_blank\">http://127.0.0.1:34005/status</a>\n",
       "                        </td>\n",
       "                        <td style=\"text-align: left;\">\n",
       "                            <strong>Memory: </strong> 1.94 GiB\n",
       "                        </td>\n",
       "                    </tr>\n",
       "                    <tr>\n",
       "                        <td style=\"text-align: left;\">\n",
       "                            <strong>Nanny: </strong> tcp://127.0.0.1:39569\n",
       "                        </td>\n",
       "                        <td style=\"text-align: left;\"></td>\n",
       "                    </tr>\n",
       "                    <tr>\n",
       "                        <td colspan=\"2\" style=\"text-align: left;\">\n",
       "                            <strong>Local directory: </strong> /mnt/c/Users/TBGPEA-Sean/git_repos/cper_pdog_uas/dask-worker-space/worker-ikmrw5d_\n",
       "                        </td>\n",
       "                    </tr>\n",
       "\n",
       "                    \n",
       "\n",
       "                    \n",
       "\n",
       "                </table>\n",
       "            </details>\n",
       "            </div>\n",
       "        </div>\n",
       "        \n",
       "        <div style=\"margin-bottom: 20px;\">\n",
       "            <div style=\"width: 24px; height: 24px; background-color: #DBF5FF; border: 3px solid #4CC9FF; border-radius: 5px; position: absolute;\"> </div>\n",
       "            <div style=\"margin-left: 48px;\">\n",
       "            <details>\n",
       "                <summary>\n",
       "                    <h4 style=\"margin-bottom: 0px; display: inline;\">Worker: 6</h4>\n",
       "                </summary>\n",
       "                <table style=\"width: 100%; text-align: left;\">\n",
       "                    <tr>\n",
       "                        <td style=\"text-align: left;\">\n",
       "                            <strong>Comm: </strong> tcp://127.0.0.1:42889\n",
       "                        </td>\n",
       "                        <td style=\"text-align: left;\">\n",
       "                            <strong>Total threads: </strong> 2\n",
       "                        </td>\n",
       "                    </tr>\n",
       "                    <tr>\n",
       "                        <td style=\"text-align: left;\">\n",
       "                            <strong>Dashboard: </strong> <a href=\"http://127.0.0.1:44691/status\" target=\"_blank\">http://127.0.0.1:44691/status</a>\n",
       "                        </td>\n",
       "                        <td style=\"text-align: left;\">\n",
       "                            <strong>Memory: </strong> 1.94 GiB\n",
       "                        </td>\n",
       "                    </tr>\n",
       "                    <tr>\n",
       "                        <td style=\"text-align: left;\">\n",
       "                            <strong>Nanny: </strong> tcp://127.0.0.1:35189\n",
       "                        </td>\n",
       "                        <td style=\"text-align: left;\"></td>\n",
       "                    </tr>\n",
       "                    <tr>\n",
       "                        <td colspan=\"2\" style=\"text-align: left;\">\n",
       "                            <strong>Local directory: </strong> /mnt/c/Users/TBGPEA-Sean/git_repos/cper_pdog_uas/dask-worker-space/worker-tpozgb6m\n",
       "                        </td>\n",
       "                    </tr>\n",
       "\n",
       "                    \n",
       "\n",
       "                    \n",
       "\n",
       "                </table>\n",
       "            </details>\n",
       "            </div>\n",
       "        </div>\n",
       "        \n",
       "        <div style=\"margin-bottom: 20px;\">\n",
       "            <div style=\"width: 24px; height: 24px; background-color: #DBF5FF; border: 3px solid #4CC9FF; border-radius: 5px; position: absolute;\"> </div>\n",
       "            <div style=\"margin-left: 48px;\">\n",
       "            <details>\n",
       "                <summary>\n",
       "                    <h4 style=\"margin-bottom: 0px; display: inline;\">Worker: 7</h4>\n",
       "                </summary>\n",
       "                <table style=\"width: 100%; text-align: left;\">\n",
       "                    <tr>\n",
       "                        <td style=\"text-align: left;\">\n",
       "                            <strong>Comm: </strong> tcp://127.0.0.1:37691\n",
       "                        </td>\n",
       "                        <td style=\"text-align: left;\">\n",
       "                            <strong>Total threads: </strong> 2\n",
       "                        </td>\n",
       "                    </tr>\n",
       "                    <tr>\n",
       "                        <td style=\"text-align: left;\">\n",
       "                            <strong>Dashboard: </strong> <a href=\"http://127.0.0.1:45531/status\" target=\"_blank\">http://127.0.0.1:45531/status</a>\n",
       "                        </td>\n",
       "                        <td style=\"text-align: left;\">\n",
       "                            <strong>Memory: </strong> 1.94 GiB\n",
       "                        </td>\n",
       "                    </tr>\n",
       "                    <tr>\n",
       "                        <td style=\"text-align: left;\">\n",
       "                            <strong>Nanny: </strong> tcp://127.0.0.1:37169\n",
       "                        </td>\n",
       "                        <td style=\"text-align: left;\"></td>\n",
       "                    </tr>\n",
       "                    <tr>\n",
       "                        <td colspan=\"2\" style=\"text-align: left;\">\n",
       "                            <strong>Local directory: </strong> /mnt/c/Users/TBGPEA-Sean/git_repos/cper_pdog_uas/dask-worker-space/worker-f8l9j5jg\n",
       "                        </td>\n",
       "                    </tr>\n",
       "\n",
       "                    \n",
       "\n",
       "                    \n",
       "\n",
       "                </table>\n",
       "            </details>\n",
       "            </div>\n",
       "        </div>\n",
       "        \n",
       "\n",
       "    </details>\n",
       "</div>\n",
       "\n",
       "        </details>\n",
       "    </div>\n",
       "</div>\n",
       "            </details>\n",
       "        \n",
       "\n",
       "    </div>\n",
       "</div>"
      ],
      "text/plain": [
       "<Client: 'tcp://127.0.0.1:39883' processes=8 threads=16, memory=15.49 GiB>"
      ]
     },
     "metadata": {},
     "output_type": "display_data"
    }
   ],
   "source": [
    "cluster = LocalCluster(n_workers=8, threads_per_worker=2, processes=True)\n",
    "client = Client(cluster)\n",
    "client.amm.start()\n",
    "display(client)"
   ]
  },
  {
   "cell_type": "code",
   "execution_count": 6,
   "id": "8f525e70-71fa-4741-985d-96ff430aeb82",
   "metadata": {},
   "outputs": [],
   "source": [
    "# create function to normalize all data in range 0-1\n",
    "def normalize_fn(image, image_suffix, stats_dict):\n",
    "    if image_suffix in stats_dict.keys():\n",
    "        min_tmp = stats_dict[image_suffix]['min']\n",
    "        max_tmp = stats_dict[image_suffix]['max']\n",
    "    else:\n",
    "        # normalize to individual image if min/max stats not specified in dictionary\n",
    "        min_tmp = np.min(image)\n",
    "        max_tmp = np.max(image)\n",
    "    return (image - min_tmp) / (max_tmp - min_tmp)\n",
    "\n",
    "def calc_tpi(dtm, inner_r, outer_r, interpolate=True, values=True, bounds=(-2.0, 3.0), fillna=None):\n",
    "    cellsize_x, cellsize_y = convolution.calc_cellsize(dtm)\n",
    "    kernel = convolution.annulus_kernel(cellsize_x, cellsize_y, outer_r, inner_r)\n",
    "    tpi = dtm - focal.apply(dtm, kernel)\n",
    "    tpi = tpi.rio.write_nodata(-9999.)\n",
    "    tpi = tpi.where((tpi > bounds[0]) & (tpi < bounds[1]))\n",
    "    if interpolate:\n",
    "        if tpi.isnull().any().values:\n",
    "            tpi = tpi.rio.interpolate_na(method='nearest')\n",
    "    if fillna is not None:\n",
    "        tpi = tpi.fillna(fillna)\n",
    "    if values:\n",
    "        return tpi.values\n",
    "    else:\n",
    "        return tpi\n",
    "\n",
    "def calc_ndvi(ms, interpolate=True, values=True, fillna=None):\n",
    "    ndvi = (ms.sel(band=4).astype('float32') - ms.sel(band=3).astype('float32'))\\\n",
    "            / (ms.sel(band=4).astype('float32') + ms.sel(band=3).astype('float32'))\n",
    "    ndvi = ndvi.rio.write_nodata(-9999.)\n",
    "    ndvi = ndvi.where(ndvi != -9999.)\n",
    "    if interpolate:\n",
    "        if ndvi.isnull().any().values:\n",
    "            ndvi = ndvi.rio.interpolate_na(method='nearest')\n",
    "    if fillna is not None:\n",
    "        ndvi = ndvi.fillna(fillna)\n",
    "    if values:\n",
    "        return ndvi.values\n",
    "    else:\n",
    "        return ndvi"
   ]
  },
  {
   "cell_type": "code",
   "execution_count": 7,
   "id": "a1f35503-1a23-405a-b4db-0ccd6bf58e62",
   "metadata": {},
   "outputs": [],
   "source": [
    "from collections import namedtuple\n",
    "from operator import mul\n",
    "\n",
    "try:\n",
    "    reduce = reduce\n",
    "except NameError:\n",
    "    from functools import reduce # py3k\n",
    "\n",
    "Info = namedtuple('Info', 'start height')\n",
    "\n",
    "def max_size(mat, value=0):\n",
    "    \"\"\"Find height, width of the largest rectangle containing all `value`'s.\n",
    "    For each row solve \"Largest Rectangle in a Histrogram\" problem [1]:\n",
    "    [1]: http://blog.csdn.net/arbuckle/archive/2006/05/06/710988.aspx\n",
    "    \"\"\"\n",
    "    it = iter(mat)\n",
    "    hist = [(el==value) for el in next(it, [])]\n",
    "    max_size = max_rectangle_size(hist)\n",
    "    for row in it:\n",
    "        hist = [(1+h) if el == value else 0 for h, el in zip(hist, row)]\n",
    "        max_size = max(max_size, max_rectangle_size(hist), key=area)\n",
    "    return max_size\n",
    "\n",
    "def max_rectangle_size(histogram):\n",
    "    \"\"\"Find height, width of the largest rectangle that fits entirely under\n",
    "    the histogram.\n",
    "    >>> f = max_rectangle_size\n",
    "    >>> f([5,3,1])\n",
    "    (3, 2)\n",
    "    >>> f([1,3,5])\n",
    "    (3, 2)\n",
    "    >>> f([3,1,5])\n",
    "    (5, 1)\n",
    "    >>> f([4,8,3,2,0])\n",
    "    (3, 3)\n",
    "    >>> f([4,8,3,1,1,0])\n",
    "    (3, 3)\n",
    "    >>> f([1,2,1])\n",
    "    (1, 3)\n",
    "    Algorithm is \"Linear search using a stack of incomplete subproblems\" [1].\n",
    "    [1]: http://blog.csdn.net/arbuckle/archive/2006/05/06/710988.aspx\n",
    "    \"\"\"\n",
    "    stack = []\n",
    "    top = lambda: stack[-1]\n",
    "    max_size = (0, 0) # height, width of the largest rectangle\n",
    "    pos = 0 # current position in the histogram\n",
    "    for pos, height in enumerate(histogram):\n",
    "        start = pos # position where rectangle starts\n",
    "        while True:\n",
    "            if not stack or height > top().height:\n",
    "                stack.append(Info(start, height)) # push\n",
    "            elif stack and height < top().height:\n",
    "                max_size = max(max_size, (top().height, (pos - top().start)),\n",
    "                               key=area)\n",
    "                start, _ = stack.pop()\n",
    "                continue\n",
    "            break # height == top().height goes here\n",
    "\n",
    "    pos += 1\n",
    "    for start, height in stack:\n",
    "        max_size = max(max_size, (height, (pos - start)), key=area)\n",
    "\n",
    "    return max_size\n",
    "\n",
    "def area(size):\n",
    "    return reduce(mul, size)"
   ]
  },
  {
   "cell_type": "code",
   "execution_count": 8,
   "id": "8e63c3c8-46cd-4c0b-adda-d02fd9219f5e",
   "metadata": {},
   "outputs": [],
   "source": [
    "outDIR = './cnn_pred_results/'\n",
    "if not os.path.exists(outDIR):\n",
    "    os.mkdir(outDIR)"
   ]
  },
  {
   "cell_type": "code",
   "execution_count": 9,
   "id": "464c6224-dea0-47b1-80eb-45b6b6a4df16",
   "metadata": {},
   "outputs": [],
   "source": [
    "ENCODER = 'resnet34'\n",
    "ENCODER_WEIGHTS = 'imagenet'\n",
    "CLASSES = ['burrow']\n",
    "ACTIVATION = 'sigmoid' # could be None for logits or 'softmax2d' for multiclass segmentation\n",
    "DEVICE = 'cuda' #'cuda'# 'cpu'# \n",
    "model_fnl = 'deeplabplus'\n",
    "res_fnl = 5\n",
    "inputs_fnl = ['rgb'] \n",
    "preprocess = True\n",
    "prob_thresh = 0.5"
   ]
  },
  {
   "cell_type": "code",
   "execution_count": 10,
   "id": "ef26cdc0-afc6-4b9e-9f92-36793028623f",
   "metadata": {},
   "outputs": [],
   "source": [
    "size_dict = {\n",
    "    2: {'tile_size': 256,\n",
    "        'buff_size': 64},\n",
    "    5: {'tile_size': 192,\n",
    "        'buff_size': 48},\n",
    "    10: {'tile_size': 128,\n",
    "         'buff_size': 32},\n",
    "    15: {'tile_size': 96,\n",
    "         'buff_size': 16},\n",
    "    30: {'tile_size': 64,\n",
    "         'buff_size': 16}\n",
    "}"
   ]
  },
  {
   "cell_type": "code",
   "execution_count": 11,
   "id": "67df3061-2ae6-445d-8a2f-2224a273dcfa",
   "metadata": {},
   "outputs": [],
   "source": [
    "past_subset = None\n",
    "#past_subset = ['22W']\n",
    "\n",
    "baseDIR = '/mnt/d/'\n",
    "\n",
    "img_f_dict = {\n",
    "    '5W': {\n",
    "        'rgb': [os.path.join(baseDIR, '202109/outputs/202109_5W_RGB/CPER_202109_5W_RGB_ortho.tif')],\n",
    "        'ms': [os.path.join(baseDIR, '202109/outputs/202109_5W_MS/CPER_202109_5W_MS_ortho.tif')],\n",
    "        'dsm': [os.path.join(baseDIR, '202109/outputs/202109_5W_RGB/CPER_202109_5W_RGB_dsm.tif')]\n",
    "    },\n",
    "    '29-30': {\n",
    "        'rgb': [os.path.join(baseDIR, '202109/outputs/202109_29_30_RGB/CPER_202109_29_30_RGB_ortho.tif')],\n",
    "        'ms': [os.path.join(baseDIR, '202109/outputs/202109_29_30_MS/CPER_202109_29_30_North_MS_ortho.tif'),\n",
    "              os.path.join(baseDIR, '202109/outputs/202109_29_30_MS/CPER_202109_29_30_South_MS_ortho.tif')],\n",
    "        'dsm': [os.path.join(baseDIR, '202109/outputs/202109_29_30_RGB/CPER_202109_29_30_RGB_DSM.tif')]\n",
    "    },\n",
    "    '22W': {\n",
    "        'rgb': [os.path.join(baseDIR, '202109/outputs/202109_22EW/CPER_202109_22EW_Flight1_RGB_ortho.tif'),\n",
    "               os.path.join(baseDIR, '202109/outputs/202109_22EW/CPER_202109_22EW_Flight2_RGB_ortho.tif')],\n",
    "        'ms': [os.path.join(baseDIR, '202109/outputs/202109_22EW/CPER_202109_22EW_Flight1_MS_ortho.tif'),\n",
    "               os.path.join(baseDIR, '202109/outputs/202109_22EW/CPER_202109_22EW_Flight2_MS_ortho.tif')],\n",
    "        'dsm': [os.path.join(baseDIR, '202109/outputs/202109_22EW/CPER_202109_22EW_Flight1_RGB_DSM.tif'),\n",
    "                os.path.join(baseDIR, '202109/outputs/202109_22EW/CPER_202109_22EW_Flight2_RGB_DSM.tif')]\n",
    "    },\n",
    "    '22E': {\n",
    "        'rgb': [os.path.join(baseDIR, '202109/outputs/202109_22EW/CPER_202109_22EW_Flight1_RGB_ortho.tif'),\n",
    "               os.path.join(baseDIR, '202109/outputs/202109_22EW/CPER_202109_22EW_Flight2_RGB_ortho.tif'),\n",
    "               os.path.join(baseDIR, '202109/outputs/202109_22EW/CPER_202109_22EW_Flight3_RGB_ortho.tif')],\n",
    "        'ms': [os.path.join(baseDIR, '202109/outputs/202109_22EW/CPER_202109_22EW_Flight1_MS_ortho.tif'),\n",
    "               os.path.join(baseDIR, '202109/outputs/202109_22EW/CPER_202109_22EW_Flight2_MS_ortho.tif')],\n",
    "        'dsm': [os.path.join(baseDIR, '202109/outputs/202109_22EW/CPER_202109_22EW_Flight1_RGB_DSM.tif'),\n",
    "               os.path.join(baseDIR, '202109/outputs/202109_22EW/CPER_202109_22EW_Flight2_RGB_DSM.tif'),\n",
    "               os.path.join(baseDIR, '202109/outputs/202109_22EW/CPER_202109_22EW_Flight3_RGB_DSM.tif')]\n",
    "    },\n",
    "    'CN': {\n",
    "        'rgb': [os.path.join(baseDIR, '202109/outputs/202109_CN_RGB/Orthos/CPER_CN_Flight2_202109_RGB_ortho.tif'),\n",
    "               os.path.join(baseDIR, '202109/outputs/202109_CN_RGB/Orthos/CPER_CN_Flight3_202109_RGB_ortho.tif'),\n",
    "               os.path.join(baseDIR, '202109/outputs/202109_CN_RGB/Orthos/CPER_CN_Flight4_202109_RGB_ortho.tif'),\n",
    "               os.path.join(baseDIR, '202109/outputs/202109_CN_RGB/Orthos/CPER_CN_Flight5_202109_RGB_ortho.tif')],\n",
    "        'ms': [os.path.join(baseDIR, '202109/outputs/202109_CN_MS/CPER_202109_CN_Flight2_MS_ortho.tif'),\n",
    "              os.path.join(baseDIR, '202109/outputs/202109_CN_MS/CPER_202109_CN_Flight3_MS_ortho.tif'),\n",
    "              os.path.join(baseDIR, '202109/outputs/202109_CN_MS/CPER_202109_CN_Flight4_MS_ortho.tif'),],\n",
    "        'dsm': [os.path.join(baseDIR, '202109/outputs/202109_CN_RGB/DSMs/CPER_CN_Flight2_202109_RGB_DSM.tif'),\n",
    "               os.path.join(baseDIR, '202109/outputs/202109_CN_RGB/DSMs/CPER_CN_Flight3_202109_RGB_DSM.tif'),\n",
    "               os.path.join(baseDIR, '202109/outputs/202109_CN_RGB/DSMs/CPER_CN_Flight4_202109_RGB_DSM.tif'),\n",
    "               os.path.join(baseDIR, '202109/outputs/202109_CN_RGB/DSMs/CPER_CN_Flight5_202109_RGB_DSM.tif')]\n",
    "    }\n",
    "}\n",
    "\n",
    "if past_subset is not None:\n",
    "    img_f_dict_tmp = img_f_dict.copy()\n",
    "    img_f_dict = {}\n",
    "    for k in img_f_dict_tmp:\n",
    "         if k in past_subset:\n",
    "                img_f_dict[k] = img_f_dict_tmp[k]\n",
    "\n",
    "cper_f = '/mnt/c/Users/TBGPEA-Sean/Desktop/Pdogs_UAS/cper_pdog_pastures_2017_clip.shp'"
   ]
  },
  {
   "cell_type": "code",
   "execution_count": 12,
   "id": "d75f0f45-d52c-48f8-853b-7404abd75ec1",
   "metadata": {},
   "outputs": [],
   "source": [
    "full_buff_size = 10\n",
    "full_tile_size = 150\n",
    "tile_size = size_dict[res_fnl]['tile_size']\n",
    "buff_size = size_dict[res_fnl]['buff_size']\n",
    "chunk_size = 250\n",
    "buff_size_m = np.ceil(buff_size * res_fnl * 0.01)"
   ]
  },
  {
   "cell_type": "code",
   "execution_count": 13,
   "id": "001cb02e-10b7-4fd3-bc0d-10832aff67aa",
   "metadata": {},
   "outputs": [],
   "source": [
    "# load best saved checkpoint\n",
    "if res_fnl == 2:\n",
    "    best_model = torch.load('./cnn_results_' + model_fnl + '_' + str(res_fnl) + 'cm/best_model_' + '_'.join(inputs_fnl) + '.pth')\n",
    "else:\n",
    "    best_model = torch.load('./cnn_results_' + model_fnl + '_' + str(res_fnl) + 'cm/best_model_' + '_'.join(inputs_fnl) + '_' + str(res_fnl) + 'cm.pth')\n",
    "\n",
    "if DEVICE == 'cpu':\n",
    "    best_model = best_model.cpu()\n",
    "best_model.eval()\n",
    "\n",
    "# load the image stats from the training data\n",
    "df_image_stats = pd.read_csv('./_utils/image_stats_2cm.csv').set_index('stat')\n",
    "\n",
    "# convert image stats dictionary to dataframe\n",
    "image_stats = {i: {'min': df_image_stats.loc['min', i],\n",
    "                   'max': df_image_stats.loc['max', i]} for i in df_image_stats.columns}"
   ]
  },
  {
   "cell_type": "code",
   "execution_count": 15,
   "id": "d5e43d7a-2fa6-4585-a712-7144e6a41d92",
   "metadata": {
    "scrolled": true,
    "tags": []
   },
   "outputs": [
    {
     "name": "stderr",
     "output_type": "stream",
     "text": [
      "  0%|                                                                                             | 0/5 [00:00<?, ?it/s]"
     ]
    },
    {
     "name": "stdout",
     "output_type": "stream",
     "text": [
      "\n",
      "\n",
      "----------\n",
      "Pasture: 5W\n",
      "running row: 1 of 11\n"
     ]
    },
    {
     "name": "stderr",
     "output_type": "stream",
     "text": [
      "\n",
      "  0%|                                                                                             | 0/6 [00:00<?, ?it/s]\u001b[A\n",
      " 17%|██████████████▏                                                                      | 1/6 [00:16<01:24, 16.99s/it]\u001b[A\n",
      " 33%|████████████████████████████▎                                                        | 2/6 [00:30<00:59, 14.93s/it]\u001b[A\n",
      " 50%|██████████████████████████████████████████▌                                          | 3/6 [00:43<00:42, 14.13s/it]\u001b[A\n",
      " 67%|████████████████████████████████████████████████████████▋                            | 4/6 [00:58<00:28, 14.40s/it]\u001b[A\n",
      " 83%|██████████████████████████████████████████████████████████████████████▊              | 5/6 [01:14<00:14, 14.83s/it]\u001b[A\n",
      "100%|█████████████████████████████████████████████████████████████████████████████████████| 6/6 [01:28<00:00, 14.73s/it]\u001b[A\n"
     ]
    },
    {
     "name": "stdout",
     "output_type": "stream",
     "text": [
      "running row: 2 of 11\n"
     ]
    },
    {
     "name": "stderr",
     "output_type": "stream",
     "text": [
      "\n",
      "  0%|                                                                                             | 0/6 [00:00<?, ?it/s]\u001b[A\n",
      " 17%|██████████████▏                                                                      | 1/6 [00:12<01:04, 12.99s/it]\u001b[A\n",
      " 33%|████████████████████████████▎                                                        | 2/6 [00:27<00:55, 13.84s/it]\u001b[A\n",
      " 50%|██████████████████████████████████████████▌                                          | 3/6 [00:41<00:41, 13.82s/it]\u001b[A\n",
      " 67%|████████████████████████████████████████████████████████▋                            | 4/6 [00:57<00:29, 14.83s/it]\u001b[A\n",
      " 83%|██████████████████████████████████████████████████████████████████████▊              | 5/6 [01:12<00:14, 14.96s/it]\u001b[A\n",
      "100%|█████████████████████████████████████████████████████████████████████████████████████| 6/6 [01:29<00:00, 14.91s/it]\u001b[A\n"
     ]
    },
    {
     "name": "stdout",
     "output_type": "stream",
     "text": [
      "running row: 3 of 11\n"
     ]
    },
    {
     "name": "stderr",
     "output_type": "stream",
     "text": [
      "\n",
      "  0%|                                                                                             | 0/6 [00:00<?, ?it/s]\u001b[A\n",
      " 17%|██████████████▏                                                                      | 1/6 [00:15<01:15, 15.07s/it]\u001b[A\n",
      " 33%|████████████████████████████▎                                                        | 2/6 [00:30<01:01, 15.47s/it]\u001b[A\n",
      " 50%|██████████████████████████████████████████▌                                          | 3/6 [00:45<00:45, 15.20s/it]\u001b[Adistributed.diskutils - INFO - Found stale lock file and directory '/mnt/c/Users/TBGPEA-Sean/git_repos/cper_pdog_uas/dask-worker-space/worker-6pzbokj2', purging\n",
      "distributed.diskutils - INFO - Found stale lock file and directory '/mnt/c/Users/TBGPEA-Sean/git_repos/cper_pdog_uas/dask-worker-space/worker-70r_iuje', purging\n",
      "distributed.diskutils - INFO - Found stale lock file and directory '/mnt/c/Users/TBGPEA-Sean/git_repos/cper_pdog_uas/dask-worker-space/worker-gruxpjrg', purging\n",
      "distributed.diskutils - INFO - Found stale lock file and directory '/mnt/c/Users/TBGPEA-Sean/git_repos/cper_pdog_uas/dask-worker-space/worker-n85e507o', purging\n",
      "distributed.diskutils - INFO - Found stale lock file and directory '/mnt/c/Users/TBGPEA-Sean/git_repos/cper_pdog_uas/dask-worker-space/worker-qk9y3ei5', purging\n",
      "distributed.diskutils - INFO - Found stale lock file and directory '/mnt/c/Users/TBGPEA-Sean/git_repos/cper_pdog_uas/dask-worker-space/worker-sl_apko_', purging\n",
      "distributed.diskutils - INFO - Found stale lock file and directory '/mnt/c/Users/TBGPEA-Sean/git_repos/cper_pdog_uas/dask-worker-space/worker-uzfibb77', purging\n",
      "distributed.diskutils - INFO - Found stale lock file and directory '/mnt/c/Users/TBGPEA-Sean/git_repos/cper_pdog_uas/dask-worker-space/worker-yeqmgf8o', purging\n",
      "\n",
      " 67%|████████████████████████████████████████████████████████▋                            | 4/6 [01:13<00:40, 20.37s/it]\u001b[A\n",
      " 83%|██████████████████████████████████████████████████████████████████████▊              | 5/6 [01:29<00:18, 18.51s/it]\u001b[A\n",
      "100%|█████████████████████████████████████████████████████████████████████████████████████| 6/6 [01:46<00:00, 17.67s/it]\u001b[A\n"
     ]
    },
    {
     "name": "stdout",
     "output_type": "stream",
     "text": [
      "running row: 4 of 11\n"
     ]
    },
    {
     "name": "stderr",
     "output_type": "stream",
     "text": [
      "\n",
      "  0%|                                                                                             | 0/6 [00:00<?, ?it/s]\u001b[A\n",
      " 17%|██████████████▏                                                                      | 1/6 [00:16<01:22, 16.43s/it]\u001b[A\n",
      " 33%|████████████████████████████▎                                                        | 2/6 [00:32<01:03, 15.97s/it]\u001b[A\n",
      " 50%|██████████████████████████████████████████▌                                          | 3/6 [00:47<00:47, 15.88s/it]\u001b[A\n",
      " 67%|████████████████████████████████████████████████████████▋                            | 4/6 [01:04<00:32, 16.21s/it]\u001b[A\n",
      " 83%|██████████████████████████████████████████████████████████████████████▊              | 5/6 [01:22<00:16, 16.85s/it]\u001b[A\n",
      "100%|█████████████████████████████████████████████████████████████████████████████████████| 6/6 [01:39<00:00, 16.60s/it]\u001b[A\n"
     ]
    },
    {
     "name": "stdout",
     "output_type": "stream",
     "text": [
      "running row: 5 of 11\n"
     ]
    },
    {
     "name": "stderr",
     "output_type": "stream",
     "text": [
      "\n",
      "  0%|                                                                                             | 0/6 [00:00<?, ?it/s]\u001b[A\n",
      " 17%|██████████████▏                                                                      | 1/6 [00:16<01:24, 16.85s/it]\u001b[A\n",
      " 33%|████████████████████████████▎                                                        | 2/6 [00:32<01:05, 16.34s/it]\u001b[A\n",
      " 50%|██████████████████████████████████████████▌                                          | 3/6 [00:49<00:49, 16.45s/it]\u001b[A\n",
      " 67%|████████████████████████████████████████████████████████▋                            | 4/6 [01:06<00:33, 16.61s/it]\u001b[A\n",
      " 83%|██████████████████████████████████████████████████████████████████████▊              | 5/6 [01:23<00:16, 16.97s/it]\u001b[A\n",
      "100%|█████████████████████████████████████████████████████████████████████████████████████| 6/6 [01:41<00:00, 16.95s/it]\u001b[A\n"
     ]
    },
    {
     "name": "stdout",
     "output_type": "stream",
     "text": [
      "running row: 6 of 11\n"
     ]
    },
    {
     "name": "stderr",
     "output_type": "stream",
     "text": [
      "\n",
      "  0%|                                                                                             | 0/6 [00:00<?, ?it/s]\u001b[AException in thread AsyncProcess Dask Worker process (from Nanny) watch process join:\n",
      "Traceback (most recent call last):\n",
      "  File \"/home/spkearney/miniconda3/envs/py_seg_env/lib/python3.9/threading.py\", line 980, in _bootstrap_inner\n",
      "    self.run()\n",
      "  File \"/home/spkearney/miniconda3/envs/py_seg_env/lib/python3.9/threading.py\", line 917, in run\n",
      "    self._target(*self._args, **self._kwargs)\n",
      "  File \"/home/spkearney/miniconda3/envs/py_seg_env/lib/python3.9/site-packages/distributed/process.py\", line 218, in _watch_process\n",
      "    assert exitcode is not None\n",
      "AssertionError\n",
      "distributed.nanny - WARNING - Worker exceeded 95% memory budget. Restarting\n",
      "distributed.nanny - WARNING - Worker process still alive after 1.5999996185302736 seconds, killing\n",
      "distributed.client - ERROR - Restart timed out after 9.00 seconds\n",
      "\n",
      " 17%|██████████████▏                                                                      | 1/6 [00:34<02:54, 34.89s/it]\u001b[A\n",
      " 33%|████████████████████████████▎                                                        | 2/6 [00:53<01:40, 25.17s/it]\u001b[A\n",
      " 50%|██████████████████████████████████████████▌                                          | 3/6 [01:09<01:02, 20.94s/it]\u001b[A\n",
      " 67%|████████████████████████████████████████████████████████▋                            | 4/6 [01:26<00:39, 19.62s/it]\u001b[A\n",
      " 83%|██████████████████████████████████████████████████████████████████████▊              | 5/6 [01:45<00:19, 19.30s/it]\u001b[A\n",
      "100%|█████████████████████████████████████████████████████████████████████████████████████| 6/6 [02:03<00:00, 20.58s/it]\u001b[A\n"
     ]
    },
    {
     "name": "stdout",
     "output_type": "stream",
     "text": [
      "running row: 7 of 11\n"
     ]
    },
    {
     "name": "stderr",
     "output_type": "stream",
     "text": [
      "\n",
      "  0%|                                                                                             | 0/6 [00:00<?, ?it/s]\u001b[A\n",
      " 17%|██████████████▏                                                                      | 1/6 [00:18<01:34, 18.98s/it]\u001b[A\n",
      " 33%|████████████████████████████▎                                                        | 2/6 [00:36<01:11, 17.99s/it]\u001b[A\n",
      " 50%|██████████████████████████████████████████▌                                          | 3/6 [00:52<00:51, 17.18s/it]\u001b[A\n",
      " 67%|████████████████████████████████████████████████████████▋                            | 4/6 [01:10<00:35, 17.56s/it]\u001b[A\n",
      " 83%|██████████████████████████████████████████████████████████████████████▊              | 5/6 [01:28<00:17, 17.79s/it]\u001b[A\n",
      "100%|█████████████████████████████████████████████████████████████████████████████████████| 6/6 [01:48<00:00, 18.01s/it]\u001b[A\n"
     ]
    },
    {
     "name": "stdout",
     "output_type": "stream",
     "text": [
      "running row: 8 of 11\n"
     ]
    },
    {
     "name": "stderr",
     "output_type": "stream",
     "text": [
      "\n",
      "  0%|                                                                                             | 0/6 [00:00<?, ?it/s]\u001b[A\n",
      " 17%|██████████████▏                                                                      | 1/6 [00:18<01:31, 18.20s/it]\u001b[A\n",
      " 33%|████████████████████████████▎                                                        | 2/6 [00:37<01:14, 18.61s/it]\u001b[A\n",
      " 50%|██████████████████████████████████████████▌                                          | 3/6 [00:54<00:54, 18.17s/it]\u001b[Adistributed.nanny - WARNING - Worker exceeded 95% memory budget. Restarting\n",
      "distributed.client - ERROR - Restart timed out after 9.00 seconds\n",
      "\n",
      " 67%|████████████████████████████████████████████████████████▋                            | 4/6 [01:32<00:51, 25.97s/it]\u001b[A\n",
      " 83%|██████████████████████████████████████████████████████████████████████▊              | 5/6 [01:53<00:24, 24.09s/it]\u001b[A\n",
      "100%|█████████████████████████████████████████████████████████████████████████████████████| 6/6 [02:11<00:00, 21.95s/it]\u001b[A\n"
     ]
    },
    {
     "name": "stdout",
     "output_type": "stream",
     "text": [
      "running row: 9 of 11\n"
     ]
    },
    {
     "name": "stderr",
     "output_type": "stream",
     "text": [
      "\n",
      "  0%|                                                                                             | 0/6 [00:00<?, ?it/s]\u001b[A\n",
      " 17%|██████████████▏                                                                      | 1/6 [00:18<01:30, 18.10s/it]\u001b[A\n",
      " 33%|████████████████████████████▎                                                        | 2/6 [00:35<01:11, 17.90s/it]\u001b[A\n",
      " 50%|██████████████████████████████████████████▌                                          | 3/6 [00:57<00:58, 19.45s/it]\u001b[A\n",
      " 67%|████████████████████████████████████████████████████████▋                            | 4/6 [01:16<00:38, 19.40s/it]\u001b[A\n",
      " 83%|██████████████████████████████████████████████████████████████████████▊              | 5/6 [01:36<00:19, 19.47s/it]\u001b[A\n",
      "100%|█████████████████████████████████████████████████████████████████████████████████████| 6/6 [01:57<00:00, 19.62s/it]\u001b[A\n"
     ]
    },
    {
     "name": "stdout",
     "output_type": "stream",
     "text": [
      "running row: 10 of 11\n"
     ]
    },
    {
     "name": "stderr",
     "output_type": "stream",
     "text": [
      "\n",
      "  0%|                                                                                             | 0/6 [00:00<?, ?it/s]\u001b[A\n",
      " 17%|██████████████▏                                                                      | 1/6 [00:18<01:34, 18.94s/it]\u001b[A\n",
      " 33%|████████████████████████████▎                                                        | 2/6 [00:38<01:16, 19.23s/it]\u001b[A\n",
      " 50%|██████████████████████████████████████████▌                                          | 3/6 [00:57<00:57, 19.24s/it]\u001b[A\n",
      " 67%|████████████████████████████████████████████████████████▋                            | 4/6 [01:17<00:38, 19.30s/it]\u001b[A\n",
      " 83%|██████████████████████████████████████████████████████████████████████▊              | 5/6 [01:35<00:19, 19.05s/it]\u001b[A\n",
      "100%|█████████████████████████████████████████████████████████████████████████████████████| 6/6 [01:56<00:00, 19.39s/it]\u001b[A\n"
     ]
    },
    {
     "name": "stdout",
     "output_type": "stream",
     "text": [
      "running row: 11 of 11\n"
     ]
    },
    {
     "name": "stderr",
     "output_type": "stream",
     "text": [
      "\n",
      "  0%|                                                                                             | 0/6 [00:00<?, ?it/s]\u001b[A\n",
      " 17%|██████████████▏                                                                      | 1/6 [00:30<02:34, 30.88s/it]\u001b[A\n",
      " 33%|████████████████████████████▎                                                        | 2/6 [00:50<01:36, 24.17s/it]\u001b[A\n",
      " 50%|██████████████████████████████████████████▌                                          | 3/6 [01:09<01:05, 21.72s/it]\u001b[A\n",
      " 67%|████████████████████████████████████████████████████████▋                            | 4/6 [01:30<00:42, 21.41s/it]\u001b[A\n",
      " 83%|██████████████████████████████████████████████████████████████████████▊              | 5/6 [01:48<00:20, 20.39s/it]\u001b[A\n",
      "100%|█████████████████████████████████████████████████████████████████████████████████████| 6/6 [02:09<00:00, 21.53s/it]\u001b[A\n"
     ]
    },
    {
     "name": "stdout",
     "output_type": "stream",
     "text": [
      "Pasture-group finished!\n"
     ]
    },
    {
     "name": "stderr",
     "output_type": "stream",
     "text": [
      " 20%|████████████████▏                                                                | 1/5 [20:22<1:21:31, 1222.92s/it]"
     ]
    },
    {
     "name": "stdout",
     "output_type": "stream",
     "text": [
      "\n",
      "\n",
      "----------\n",
      "Pasture: 29-30\n",
      "running row: 1 of 11\n"
     ]
    },
    {
     "name": "stderr",
     "output_type": "stream",
     "text": [
      "\n",
      "  0%|                                                                                            | 0/17 [00:00<?, ?it/s]\u001b[A\n",
      "  6%|████▉                                                                               | 1/17 [00:15<04:03, 15.20s/it]\u001b[A\n",
      " 12%|█████████▉                                                                          | 2/17 [00:29<03:41, 14.80s/it]\u001b[A\n",
      " 18%|██████████████▊                                                                     | 3/17 [00:40<03:03, 13.10s/it]\u001b[A\n",
      " 24%|███████████████████▊                                                                | 4/17 [00:52<02:44, 12.62s/it]\u001b[A\n",
      " 29%|████████████████████████▋                                                           | 5/17 [01:05<02:30, 12.53s/it]\u001b[A\n",
      " 35%|█████████████████████████████▋                                                      | 6/17 [01:18<02:22, 12.97s/it]\u001b[A\n",
      " 41%|██████████████████████████████████▌                                                 | 7/17 [01:30<02:06, 12.62s/it]\u001b[A\n",
      " 47%|███████████████████████████████████████▌                                            | 8/17 [01:43<01:53, 12.63s/it]\u001b[A\n",
      " 53%|████████████████████████████████████████████▍                                       | 9/17 [01:56<01:42, 12.79s/it]\u001b[A\n",
      " 59%|████████████████████████████████████████████████▊                                  | 10/17 [02:08<01:28, 12.59s/it]\u001b[A\n",
      " 65%|█████████████████████████████████████████████████████▋                             | 11/17 [02:21<01:16, 12.77s/it]\u001b[A\n",
      " 71%|██████████████████████████████████████████████████████████▌                        | 12/17 [02:34<01:03, 12.65s/it]\u001b[A\n",
      " 76%|███████████████████████████████████████████████████████████████▍                   | 13/17 [02:46<00:49, 12.46s/it]\u001b[A\n",
      " 82%|████████████████████████████████████████████████████████████████████▎              | 14/17 [02:58<00:36, 12.32s/it]\u001b[A\n",
      " 88%|█████████████████████████████████████████████████████████████████████████▏         | 15/17 [03:10<00:24, 12.15s/it]\u001b[A\n",
      " 94%|██████████████████████████████████████████████████████████████████████████████     | 16/17 [03:34<00:15, 15.81s/it]\u001b[A\n",
      "100%|███████████████████████████████████████████████████████████████████████████████████| 17/17 [03:51<00:00, 13.62s/it]\u001b[A\n"
     ]
    },
    {
     "name": "stdout",
     "output_type": "stream",
     "text": [
      "running row: 2 of 11\n"
     ]
    },
    {
     "name": "stderr",
     "output_type": "stream",
     "text": [
      "\n",
      "  0%|                                                                                            | 0/17 [00:00<?, ?it/s]\u001b[A\n",
      "  6%|████▉                                                                               | 1/17 [00:11<03:11, 11.96s/it]\u001b[A\n",
      " 12%|█████████▉                                                                          | 2/17 [00:23<02:52, 11.53s/it]\u001b[A\n",
      " 18%|██████████████▊                                                                     | 3/17 [00:34<02:37, 11.24s/it]\u001b[A\n",
      " 24%|███████████████████▊                                                                | 4/17 [00:45<02:24, 11.14s/it]\u001b[A\n",
      " 29%|████████████████████████▋                                                           | 5/17 [00:55<02:12, 11.01s/it]\u001b[A\n",
      " 35%|█████████████████████████████▋                                                      | 6/17 [01:07<02:05, 11.37s/it]\u001b[A\n",
      " 41%|██████████████████████████████████▌                                                 | 7/17 [01:19<01:53, 11.35s/it]\u001b[A\n",
      " 47%|███████████████████████████████████████▌                                            | 8/17 [01:32<01:48, 12.01s/it]\u001b[A\n",
      " 53%|████████████████████████████████████████████▍                                       | 9/17 [01:43<01:33, 11.73s/it]\u001b[A\n",
      " 59%|████████████████████████████████████████████████▊                                  | 10/17 [01:55<01:21, 11.59s/it]\u001b[A\n",
      " 65%|█████████████████████████████████████████████████████▋                             | 11/17 [02:07<01:11, 11.90s/it]\u001b[A\n",
      " 71%|██████████████████████████████████████████████████████████▌                        | 12/17 [02:21<01:01, 12.37s/it]\u001b[A\n",
      " 76%|███████████████████████████████████████████████████████████████▍                   | 13/17 [02:32<00:48, 12.24s/it]\u001b[Adistributed.nanny - WARNING - Worker exceeded 95% memory budget. Restarting\n",
      "distributed.client - ERROR - Restart timed out after 9.00 seconds\n",
      "\n",
      " 82%|████████████████████████████████████████████████████████████████████▎              | 14/17 [03:03<00:53, 17.77s/it]\u001b[A\n",
      " 88%|█████████████████████████████████████████████████████████████████████████▏         | 15/17 [03:16<00:32, 16.17s/it]\u001b[A\n",
      " 94%|██████████████████████████████████████████████████████████████████████████████     | 16/17 [03:26<00:14, 14.59s/it]\u001b[A\n",
      "100%|███████████████████████████████████████████████████████████████████████████████████| 17/17 [03:46<00:00, 13.30s/it]\u001b[A\n"
     ]
    },
    {
     "name": "stdout",
     "output_type": "stream",
     "text": [
      "running row: 3 of 11\n"
     ]
    },
    {
     "name": "stderr",
     "output_type": "stream",
     "text": [
      "\n",
      "  0%|                                                                                            | 0/17 [00:00<?, ?it/s]\u001b[A\n",
      "  6%|████▉                                                                               | 1/17 [00:12<03:14, 12.17s/it]\u001b[A\n",
      " 12%|█████████▉                                                                          | 2/17 [00:23<02:55, 11.71s/it]\u001b[A\n",
      " 18%|██████████████▊                                                                     | 3/17 [00:35<02:45, 11.83s/it]\u001b[A\n",
      " 24%|███████████████████▊                                                                | 4/17 [00:47<02:33, 11.78s/it]\u001b[A\n",
      " 29%|████████████████████████▋                                                           | 5/17 [00:58<02:20, 11.71s/it]\u001b[A\n",
      " 35%|█████████████████████████████▋                                                      | 6/17 [01:10<02:08, 11.65s/it]\u001b[A\n",
      " 41%|██████████████████████████████████▌                                                 | 7/17 [01:24<02:03, 12.39s/it]\u001b[A\n",
      " 47%|███████████████████████████████████████▌                                            | 8/17 [01:37<01:52, 12.54s/it]\u001b[A\n",
      " 53%|████████████████████████████████████████████▍                                       | 9/17 [01:49<01:39, 12.42s/it]\u001b[A\n",
      " 59%|████████████████████████████████████████████████▊                                  | 10/17 [02:01<01:26, 12.31s/it]\u001b[A\n",
      " 65%|█████████████████████████████████████████████████████▋                             | 11/17 [02:14<01:15, 12.55s/it]\u001b[Adistributed.nanny - WARNING - Worker exceeded 95% memory budget. Restarting\n",
      "distributed.nanny - WARNING - Worker exceeded 95% memory budget. Restarting\n",
      "distributed.client - ERROR - Restart timed out after 9.00 seconds\n",
      "\n",
      " 71%|██████████████████████████████████████████████████████████▌                        | 12/17 [02:46<01:33, 18.61s/it]\u001b[A\n",
      " 76%|███████████████████████████████████████████████████████████████▍                   | 13/17 [03:00<01:08, 17.10s/it]\u001b[A\n",
      " 82%|████████████████████████████████████████████████████████████████████▎              | 14/17 [03:13<00:47, 15.86s/it]\u001b[A\n",
      " 88%|█████████████████████████████████████████████████████████████████████████▏         | 15/17 [03:26<00:29, 14.85s/it]\u001b[A\n",
      " 94%|██████████████████████████████████████████████████████████████████████████████     | 16/17 [03:38<00:14, 14.13s/it]\u001b[A\n",
      "100%|███████████████████████████████████████████████████████████████████████████████████| 17/17 [03:59<00:00, 14.09s/it]\u001b[A\n"
     ]
    },
    {
     "name": "stdout",
     "output_type": "stream",
     "text": [
      "running row: 4 of 11\n"
     ]
    },
    {
     "name": "stderr",
     "output_type": "stream",
     "text": [
      "\n",
      "  0%|                                                                                            | 0/17 [00:00<?, ?it/s]\u001b[A\n",
      "  6%|████▉                                                                               | 1/17 [00:13<03:36, 13.51s/it]\u001b[A\n",
      " 12%|█████████▉                                                                          | 2/17 [00:26<03:14, 12.99s/it]\u001b[A\n",
      " 18%|██████████████▊                                                                     | 3/17 [00:38<02:57, 12.67s/it]\u001b[A\n",
      " 24%|███████████████████▊                                                                | 4/17 [00:50<02:43, 12.54s/it]\u001b[A\n",
      " 29%|████████████████████████▋                                                           | 5/17 [01:04<02:33, 12.83s/it]\u001b[A\n",
      " 35%|█████████████████████████████▋                                                      | 6/17 [01:17<02:23, 13.05s/it]\u001b[A\n",
      " 41%|██████████████████████████████████▌                                                 | 7/17 [01:30<02:09, 12.93s/it]\u001b[A\n",
      " 47%|███████████████████████████████████████▌                                            | 8/17 [01:43<01:55, 12.87s/it]\u001b[A\n",
      " 53%|████████████████████████████████████████████▍                                       | 9/17 [01:55<01:41, 12.74s/it]\u001b[Adistributed.nanny - WARNING - Worker exceeded 95% memory budget. Restarting\n",
      "distributed.client - ERROR - Restart timed out after 9.00 seconds\n",
      "\n",
      " 59%|████████████████████████████████████████████████▊                                  | 10/17 [02:27<02:10, 18.59s/it]\u001b[A\n",
      " 65%|█████████████████████████████████████████████████████▋                             | 11/17 [02:40<01:41, 16.95s/it]\u001b[A\n",
      " 71%|██████████████████████████████████████████████████████████▌                        | 12/17 [02:52<01:17, 15.50s/it]\u001b[A\n",
      " 76%|███████████████████████████████████████████████████████████████▍                   | 13/17 [03:04<00:58, 14.54s/it]\u001b[A\n",
      " 82%|████████████████████████████████████████████████████████████████████▎              | 14/17 [03:17<00:42, 14.02s/it]\u001b[A\n",
      " 88%|█████████████████████████████████████████████████████████████████████████▏         | 15/17 [03:30<00:27, 13.50s/it]\u001b[A\n",
      " 94%|██████████████████████████████████████████████████████████████████████████████     | 16/17 [03:42<00:13, 13.19s/it]\u001b[A\n",
      "100%|███████████████████████████████████████████████████████████████████████████████████| 17/17 [04:01<00:00, 14.18s/it]\u001b[A\n"
     ]
    },
    {
     "name": "stdout",
     "output_type": "stream",
     "text": [
      "running row: 5 of 11\n"
     ]
    },
    {
     "name": "stderr",
     "output_type": "stream",
     "text": [
      "\n",
      "  0%|                                                                                            | 0/17 [00:00<?, ?it/s]\u001b[A\n",
      "  6%|████▉                                                                               | 1/17 [00:13<03:34, 13.39s/it]\u001b[A\n",
      " 12%|█████████▉                                                                          | 2/17 [00:26<03:15, 13.00s/it]\u001b[A\n",
      " 18%|██████████████▊                                                                     | 3/17 [00:38<03:00, 12.89s/it]\u001b[A\n",
      " 24%|███████████████████▊                                                                | 4/17 [00:51<02:47, 12.90s/it]\u001b[A\n",
      " 29%|████████████████████████▋                                                           | 5/17 [01:05<02:39, 13.29s/it]\u001b[A\n",
      " 35%|█████████████████████████████▋                                                      | 6/17 [01:19<02:26, 13.29s/it]\u001b[A\n",
      " 41%|██████████████████████████████████▌                                                 | 7/17 [01:32<02:12, 13.24s/it]\u001b[Adistributed.nanny - WARNING - Worker exceeded 95% memory budget. Restarting\n",
      "distributed.client - ERROR - Restart timed out after 9.00 seconds\n",
      "\n",
      " 47%|███████████████████████████████████████▌                                            | 8/17 [02:04<02:54, 19.37s/it]\u001b[A\n",
      " 53%|████████████████████████████████████████████▍                                       | 9/17 [02:18<02:22, 17.78s/it]\u001b[A\n",
      " 59%|████████████████████████████████████████████████▊                                  | 10/17 [02:32<01:54, 16.41s/it]\u001b[A\n",
      " 65%|█████████████████████████████████████████████████████▋                             | 11/17 [02:45<01:32, 15.34s/it]\u001b[A\n",
      " 71%|██████████████████████████████████████████████████████████▌                        | 12/17 [02:58<01:12, 14.56s/it]\u001b[A\n",
      " 76%|███████████████████████████████████████████████████████████████▍                   | 13/17 [03:13<00:59, 14.80s/it]\u001b[A\n",
      " 82%|████████████████████████████████████████████████████████████████████▎              | 14/17 [03:26<00:42, 14.22s/it]\u001b[A\n",
      " 88%|█████████████████████████████████████████████████████████████████████████▏         | 15/17 [03:39<00:28, 14.07s/it]\u001b[A\n",
      " 94%|██████████████████████████████████████████████████████████████████████████████     | 16/17 [03:53<00:13, 13.96s/it]\u001b[A\n",
      "100%|███████████████████████████████████████████████████████████████████████████████████| 17/17 [04:14<00:00, 14.99s/it]\u001b[A\n"
     ]
    },
    {
     "name": "stdout",
     "output_type": "stream",
     "text": [
      "running row: 6 of 11\n"
     ]
    },
    {
     "name": "stderr",
     "output_type": "stream",
     "text": [
      "\n",
      "  0%|                                                                                            | 0/17 [00:00<?, ?it/s]\u001b[A\n",
      "  6%|████▉                                                                               | 1/17 [00:14<03:47, 14.23s/it]\u001b[A\n",
      " 12%|█████████▉                                                                          | 2/17 [00:27<03:26, 13.77s/it]\u001b[A\n",
      " 18%|██████████████▊                                                                     | 3/17 [00:40<03:08, 13.48s/it]\u001b[A\n",
      " 24%|███████████████████▊                                                                | 4/17 [00:55<03:03, 14.12s/it]\u001b[A\n",
      " 29%|████████████████████████▋                                                           | 5/17 [01:09<02:45, 13.79s/it]\u001b[A\n",
      " 35%|█████████████████████████████▋                                                      | 6/17 [01:34<03:15, 17.77s/it]\u001b[A\n",
      " 41%|██████████████████████████████████▌                                                 | 7/17 [01:47<02:43, 16.32s/it]\u001b[A\n",
      " 47%|███████████████████████████████████████▌                                            | 8/17 [02:01<02:19, 15.45s/it]\u001b[A\n",
      " 53%|████████████████████████████████████████████▍                                       | 9/17 [02:15<01:59, 14.95s/it]\u001b[A\n",
      " 59%|████████████████████████████████████████████████▊                                  | 10/17 [02:28<01:41, 14.47s/it]\u001b[A\n",
      " 65%|█████████████████████████████████████████████████████▋                             | 11/17 [02:42<01:25, 14.33s/it]\u001b[A\n",
      " 71%|██████████████████████████████████████████████████████████▌                        | 12/17 [02:56<01:11, 14.22s/it]\u001b[A\n",
      " 76%|███████████████████████████████████████████████████████████████▍                   | 13/17 [03:11<00:57, 14.45s/it]\u001b[A\n",
      " 82%|████████████████████████████████████████████████████████████████████▎              | 14/17 [03:26<00:43, 14.51s/it]\u001b[A\n",
      " 88%|█████████████████████████████████████████████████████████████████████████▏         | 15/17 [03:40<00:29, 14.51s/it]\u001b[A\n",
      " 94%|██████████████████████████████████████████████████████████████████████████████     | 16/17 [03:54<00:14, 14.20s/it]\u001b[A\n",
      "100%|███████████████████████████████████████████████████████████████████████████████████| 17/17 [04:13<00:00, 14.92s/it]\u001b[A\n"
     ]
    },
    {
     "name": "stdout",
     "output_type": "stream",
     "text": [
      "running row: 7 of 11\n"
     ]
    },
    {
     "name": "stderr",
     "output_type": "stream",
     "text": [
      "\n",
      "  0%|                                                                                            | 0/17 [00:00<?, ?it/s]\u001b[A\n",
      "  6%|████▉                                                                               | 1/17 [00:14<03:47, 14.23s/it]\u001b[A\n",
      " 12%|█████████▉                                                                          | 2/17 [00:28<03:30, 14.05s/it]\u001b[A\n",
      " 18%|██████████████▊                                                                     | 3/17 [00:42<03:17, 14.12s/it]\u001b[Adistributed.nanny - WARNING - Worker exceeded 95% memory budget. Restarting\n",
      "distributed.nanny - WARNING - Worker exceeded 95% memory budget. Restarting\n",
      "distributed.client - ERROR - Restart timed out after 9.00 seconds\n",
      "\n",
      " 24%|███████████████████▊                                                                | 4/17 [01:15<04:39, 21.52s/it]\u001b[A\n",
      " 29%|████████████████████████▋                                                           | 5/17 [01:30<03:53, 19.45s/it]\u001b[A\n",
      " 35%|█████████████████████████████▋                                                      | 6/17 [01:45<03:13, 17.63s/it]\u001b[A\n",
      " 41%|██████████████████████████████████▌                                                 | 7/17 [01:59<02:45, 16.59s/it]\u001b[A\n",
      " 47%|███████████████████████████████████████▌                                            | 8/17 [02:13<02:22, 15.85s/it]\u001b[A\n",
      " 53%|████████████████████████████████████████████▍                                       | 9/17 [02:28<02:03, 15.44s/it]\u001b[A\n",
      " 59%|████████████████████████████████████████████████▊                                  | 10/17 [02:42<01:45, 15.02s/it]\u001b[A\n",
      " 65%|█████████████████████████████████████████████████████▋                             | 11/17 [02:57<01:30, 15.06s/it]\u001b[A\n",
      " 71%|██████████████████████████████████████████████████████████▌                        | 12/17 [03:12<01:14, 14.95s/it]\u001b[A\n",
      " 76%|███████████████████████████████████████████████████████████████▍                   | 13/17 [03:26<00:59, 14.81s/it]\u001b[A\n",
      " 82%|████████████████████████████████████████████████████████████████████▎              | 14/17 [03:41<00:44, 14.76s/it]\u001b[A\n",
      " 88%|█████████████████████████████████████████████████████████████████████████▏         | 15/17 [03:56<00:29, 14.88s/it]\u001b[A\n",
      " 94%|██████████████████████████████████████████████████████████████████████████████     | 16/17 [04:11<00:14, 14.86s/it]\u001b[A\n",
      "100%|███████████████████████████████████████████████████████████████████████████████████| 17/17 [04:33<00:00, 16.08s/it]\u001b[A\n"
     ]
    },
    {
     "name": "stdout",
     "output_type": "stream",
     "text": [
      "running row: 8 of 11\n"
     ]
    },
    {
     "name": "stderr",
     "output_type": "stream",
     "text": [
      "\n",
      "  0%|                                                                                            | 0/17 [00:00<?, ?it/s]\u001b[A\n",
      "  6%|████▉                                                                               | 1/17 [00:16<04:19, 16.22s/it]\u001b[A\n",
      " 12%|█████████▉                                                                          | 2/17 [00:42<05:35, 22.40s/it]\u001b[A\n",
      " 18%|██████████████▊                                                                     | 3/17 [00:58<04:26, 19.06s/it]\u001b[A\n",
      " 24%|███████████████████▊                                                                | 4/17 [01:13<03:47, 17.52s/it]\u001b[A\n",
      " 29%|████████████████████████▋                                                           | 5/17 [01:28<03:21, 16.82s/it]\u001b[A\n",
      " 35%|█████████████████████████████▋                                                      | 6/17 [01:44<03:01, 16.52s/it]\u001b[A\n",
      " 41%|██████████████████████████████████▌                                                 | 7/17 [02:00<02:42, 16.29s/it]\u001b[A\n",
      " 47%|███████████████████████████████████████▌                                            | 8/17 [02:17<02:27, 16.36s/it]\u001b[A\n",
      " 53%|████████████████████████████████████████████▍                                       | 9/17 [02:33<02:10, 16.26s/it]\u001b[A\n",
      " 59%|████████████████████████████████████████████████▊                                  | 10/17 [02:48<01:51, 15.95s/it]\u001b[A\n",
      " 65%|█████████████████████████████████████████████████████▋                             | 11/17 [03:04<01:35, 15.89s/it]\u001b[A\n",
      " 71%|██████████████████████████████████████████████████████████▌                        | 12/17 [03:19<01:18, 15.75s/it]\u001b[A\n",
      " 76%|███████████████████████████████████████████████████████████████▍                   | 13/17 [03:35<01:02, 15.74s/it]\u001b[A\n",
      " 82%|████████████████████████████████████████████████████████████████████▎              | 14/17 [03:50<00:47, 15.72s/it]\u001b[A\n",
      " 88%|█████████████████████████████████████████████████████████████████████████▏         | 15/17 [04:06<00:31, 15.66s/it]\u001b[A\n",
      " 94%|██████████████████████████████████████████████████████████████████████████████     | 16/17 [04:21<00:15, 15.62s/it]\u001b[Adistributed.nanny - WARNING - Worker exceeded 95% memory budget. Restarting\n",
      "distributed.client - ERROR - Restart timed out after 9.00 seconds\n",
      "\n",
      "100%|███████████████████████████████████████████████████████████████████████████████████| 17/17 [05:04<00:00, 17.91s/it]\u001b[A\n"
     ]
    },
    {
     "name": "stdout",
     "output_type": "stream",
     "text": [
      "running row: 9 of 11\n"
     ]
    },
    {
     "name": "stderr",
     "output_type": "stream",
     "text": [
      "\n",
      "  0%|                                                                                            | 0/17 [00:00<?, ?it/s]\u001b[A\n",
      "  6%|████▉                                                                               | 1/17 [00:22<05:59, 22.46s/it]\u001b[A\n",
      " 12%|█████████▉                                                                          | 2/17 [00:39<04:52, 19.48s/it]\u001b[A\n",
      " 18%|██████████████▊                                                                     | 3/17 [00:56<04:16, 18.31s/it]\u001b[A\n",
      " 24%|███████████████████▊                                                                | 4/17 [01:14<03:56, 18.22s/it]\u001b[A\n",
      " 29%|████████████████████████▋                                                           | 5/17 [01:32<03:35, 17.95s/it]\u001b[A\n",
      " 35%|█████████████████████████████▋                                                      | 6/17 [01:50<03:17, 17.95s/it]\u001b[A\n",
      " 41%|██████████████████████████████████▌                                                 | 7/17 [02:07<02:57, 17.75s/it]\u001b[A\n",
      " 47%|███████████████████████████████████████▌                                            | 8/17 [02:25<02:41, 17.95s/it]\u001b[A\n",
      " 53%|████████████████████████████████████████████▍                                       | 9/17 [02:43<02:23, 17.94s/it]\u001b[A\n",
      " 59%|████████████████████████████████████████████████▊                                  | 10/17 [03:01<02:05, 17.96s/it]\u001b[A\n",
      " 65%|█████████████████████████████████████████████████████▋                             | 11/17 [03:19<01:47, 17.88s/it]\u001b[A\n",
      " 71%|██████████████████████████████████████████████████████████▌                        | 12/17 [03:36<01:28, 17.67s/it]\u001b[A\n",
      " 76%|███████████████████████████████████████████████████████████████▍                   | 13/17 [03:53<01:09, 17.49s/it]\u001b[A\n",
      " 82%|████████████████████████████████████████████████████████████████████▎              | 14/17 [04:11<00:52, 17.44s/it]\u001b[Adistributed.nanny - WARNING - Worker exceeded 95% memory budget. Restarting\n",
      "distributed.client - ERROR - Restart timed out after 9.00 seconds\n",
      "\n",
      " 88%|█████████████████████████████████████████████████████████████████████████▏         | 15/17 [04:47<00:46, 23.12s/it]\u001b[A\n",
      " 94%|██████████████████████████████████████████████████████████████████████████████     | 16/17 [05:06<00:22, 22.03s/it]\u001b[A\n",
      "100%|███████████████████████████████████████████████████████████████████████████████████| 17/17 [05:31<00:00, 19.52s/it]\u001b[A\n"
     ]
    },
    {
     "name": "stdout",
     "output_type": "stream",
     "text": [
      "running row: 10 of 11\n"
     ]
    },
    {
     "name": "stderr",
     "output_type": "stream",
     "text": [
      "\n",
      "  0%|                                                                                            | 0/17 [00:00<?, ?it/s]\u001b[A\n",
      "  6%|████▉                                                                               | 1/17 [00:18<04:54, 18.42s/it]\u001b[A\n",
      " 12%|█████████▉                                                                          | 2/17 [00:36<04:31, 18.12s/it]\u001b[A\n",
      " 18%|██████████████▊                                                                     | 3/17 [00:54<04:11, 17.98s/it]\u001b[A\n",
      " 24%|███████████████████▊                                                                | 4/17 [01:12<03:54, 18.07s/it]\u001b[A\n",
      " 29%|████████████████████████▋                                                           | 5/17 [01:30<03:36, 18.04s/it]\u001b[A\n",
      " 35%|█████████████████████████████▋                                                      | 6/17 [01:49<03:22, 18.44s/it]\u001b[A\n",
      " 41%|██████████████████████████████████▌                                                 | 7/17 [02:08<03:06, 18.63s/it]\u001b[A\n",
      " 47%|███████████████████████████████████████▌                                            | 8/17 [02:27<02:47, 18.60s/it]\u001b[A\n",
      " 53%|████████████████████████████████████████████▍                                       | 9/17 [02:45<02:28, 18.57s/it]\u001b[A\n",
      " 59%|████████████████████████████████████████████████▊                                  | 10/17 [03:04<02:11, 18.73s/it]\u001b[A\n",
      " 65%|█████████████████████████████████████████████████████▋                             | 11/17 [03:24<01:54, 19.01s/it]\u001b[A\n",
      " 71%|██████████████████████████████████████████████████████████▌                        | 12/17 [03:52<01:48, 21.79s/it]\u001b[Adistributed.nanny - WARNING - Worker exceeded 95% memory budget. Restarting\n",
      "distributed.client - ERROR - Restart timed out after 9.00 seconds\n",
      "\n",
      " 76%|███████████████████████████████████████████████████████████████▍                   | 13/17 [04:31<01:47, 26.94s/it]\u001b[A\n",
      " 82%|████████████████████████████████████████████████████████████████████▎              | 14/17 [04:52<01:15, 25.32s/it]\u001b[A\n",
      " 88%|█████████████████████████████████████████████████████████████████████████▏         | 15/17 [05:12<00:47, 23.55s/it]\u001b[A\n",
      " 94%|██████████████████████████████████████████████████████████████████████████████     | 16/17 [05:32<00:22, 22.57s/it]\u001b[A\n",
      "100%|███████████████████████████████████████████████████████████████████████████████████| 17/17 [05:58<00:00, 21.07s/it]\u001b[A\n"
     ]
    },
    {
     "name": "stdout",
     "output_type": "stream",
     "text": [
      "running row: 11 of 11\n"
     ]
    },
    {
     "name": "stderr",
     "output_type": "stream",
     "text": [
      "\n",
      "  0%|                                                                                            | 0/17 [00:00<?, ?it/s]\u001b[A\n",
      "  6%|████▉                                                                               | 1/17 [00:21<05:46, 21.67s/it]\u001b[A\n",
      " 12%|█████████▉                                                                          | 2/17 [00:43<05:29, 21.98s/it]\u001b[A\n",
      " 18%|██████████████▊                                                                     | 3/17 [01:05<05:04, 21.74s/it]\u001b[A\n",
      " 24%|███████████████████▊                                                                | 4/17 [01:24<04:31, 20.87s/it]\u001b[A\n",
      " 29%|████████████████████████▋                                                           | 5/17 [01:44<04:04, 20.34s/it]\u001b[A\n",
      " 35%|█████████████████████████████▋                                                      | 6/17 [02:03<03:39, 20.00s/it]\u001b[A\n",
      " 41%|██████████████████████████████████▌                                                 | 7/17 [02:21<03:12, 19.22s/it]\u001b[A\n",
      " 47%|███████████████████████████████████████▌                                            | 8/17 [02:40<02:52, 19.13s/it]\u001b[A\n",
      " 53%|████████████████████████████████████████████▍                                       | 9/17 [02:58<02:31, 18.93s/it]\u001b[A\n",
      " 59%|████████████████████████████████████████████████▊                                  | 10/17 [03:17<02:13, 19.06s/it]\u001b[Adistributed.nanny - WARNING - Worker exceeded 95% memory budget. Restarting\n",
      "distributed.client - ERROR - Restart timed out after 9.00 seconds\n",
      "\n",
      " 65%|█████████████████████████████████████████████████████▋                             | 11/17 [03:56<02:29, 24.88s/it]\u001b[A\n",
      " 71%|██████████████████████████████████████████████████████████▌                        | 12/17 [04:17<01:58, 23.68s/it]\u001b[A\n",
      " 76%|███████████████████████████████████████████████████████████████▍                   | 13/17 [04:35<01:28, 22.07s/it]\u001b[A\n",
      " 82%|████████████████████████████████████████████████████████████████████▎              | 14/17 [04:54<01:03, 21.12s/it]\u001b[A\n",
      " 88%|█████████████████████████████████████████████████████████████████████████▏         | 15/17 [05:14<00:41, 20.80s/it]\u001b[A\n",
      " 94%|██████████████████████████████████████████████████████████████████████████████     | 16/17 [05:33<00:20, 20.42s/it]\u001b[A\n",
      "100%|███████████████████████████████████████████████████████████████████████████████████| 17/17 [05:59<00:00, 21.12s/it]\u001b[A\n"
     ]
    },
    {
     "name": "stdout",
     "output_type": "stream",
     "text": [
      "Pasture-group finished!\n"
     ]
    },
    {
     "name": "stderr",
     "output_type": "stream",
     "text": [
      " 40%|███████████████████████████████▌                                               | 2/5 [1:11:47<1:55:54, 2318.07s/it]"
     ]
    },
    {
     "name": "stdout",
     "output_type": "stream",
     "text": [
      "\n",
      "\n",
      "----------\n",
      "Pasture: 22W\n",
      "running row: 1 of 11\n"
     ]
    },
    {
     "name": "stderr",
     "output_type": "stream",
     "text": [
      "\n",
      "  0%|                                                                                             | 0/6 [00:00<?, ?it/s]\u001b[A\n",
      " 17%|██████████████▏                                                                      | 1/6 [01:18<06:32, 78.42s/it]\u001b[A\n",
      " 33%|████████████████████████████▎                                                        | 2/6 [02:09<04:08, 62.16s/it]\u001b[A\n",
      " 50%|██████████████████████████████████████████▌                                          | 3/6 [03:01<02:52, 57.45s/it]\u001b[A\n",
      " 67%|████████████████████████████████████████████████████████▋                            | 4/6 [03:55<01:52, 56.11s/it]\u001b[A\n",
      " 83%|██████████████████████████████████████████████████████████████████████▊              | 5/6 [04:47<00:54, 54.71s/it]\u001b[A\n",
      "100%|█████████████████████████████████████████████████████████████████████████████████████| 6/6 [05:40<00:00, 56.83s/it]\u001b[A\n"
     ]
    },
    {
     "name": "stdout",
     "output_type": "stream",
     "text": [
      "running row: 2 of 11\n"
     ]
    },
    {
     "name": "stderr",
     "output_type": "stream",
     "text": [
      "\n",
      "  0%|                                                                                             | 0/6 [00:00<?, ?it/s]\u001b[A\n",
      " 17%|██████████████▏                                                                      | 1/6 [01:28<07:22, 88.59s/it]\u001b[A\n",
      " 33%|████████████████████████████▎                                                        | 2/6 [02:22<04:32, 68.22s/it]\u001b[A\n",
      " 50%|██████████████████████████████████████████▌                                          | 3/6 [03:21<03:11, 63.80s/it]\u001b[A\n",
      " 67%|████████████████████████████████████████████████████████▋                            | 4/6 [04:18<02:02, 61.17s/it]\u001b[A\n",
      " 83%|██████████████████████████████████████████████████████████████████████▊              | 5/6 [05:12<00:58, 58.80s/it]\u001b[A\n",
      "100%|█████████████████████████████████████████████████████████████████████████████████████| 6/6 [06:10<00:00, 61.78s/it]\u001b[A\n"
     ]
    },
    {
     "name": "stdout",
     "output_type": "stream",
     "text": [
      "running row: 3 of 11\n"
     ]
    },
    {
     "name": "stderr",
     "output_type": "stream",
     "text": [
      "\n",
      "  0%|                                                                                             | 0/6 [00:00<?, ?it/s]\u001b[A\n",
      " 17%|██████████████▏                                                                      | 1/6 [01:29<07:29, 89.97s/it]\u001b[A\n",
      " 33%|████████████████████████████▎                                                        | 2/6 [02:31<04:53, 73.38s/it]\u001b[A\n",
      " 50%|██████████████████████████████████████████▌                                          | 3/6 [03:36<03:28, 69.36s/it]\u001b[Adistributed.nanny - WARNING - Worker exceeded 95% memory budget. Restarting\n",
      "distributed.client - ERROR - Restart timed out after 9.00 seconds\n",
      "\n",
      " 67%|████████████████████████████████████████████████████████▋                            | 4/6 [04:54<02:25, 72.79s/it]\u001b[A\n",
      " 83%|██████████████████████████████████████████████████████████████████████▊              | 5/6 [05:53<01:07, 67.84s/it]\u001b[A\n",
      "100%|█████████████████████████████████████████████████████████████████████████████████████| 6/6 [06:52<00:00, 68.73s/it]\u001b[A\n"
     ]
    },
    {
     "name": "stdout",
     "output_type": "stream",
     "text": [
      "running row: 4 of 11\n"
     ]
    },
    {
     "name": "stderr",
     "output_type": "stream",
     "text": [
      "\n",
      "  0%|                                                                                             | 0/6 [00:00<?, ?it/s]\u001b[A\n",
      " 17%|██████████████▏                                                                      | 1/6 [00:42<03:31, 42.31s/it]\u001b[A\n",
      " 33%|████████████████████████████▎                                                        | 2/6 [01:13<02:22, 35.71s/it]\u001b[A\n",
      " 50%|██████████████████████████████████████████▌                                          | 3/6 [01:42<01:38, 32.84s/it]\u001b[A\n",
      " 67%|████████████████████████████████████████████████████████▋                            | 4/6 [02:12<01:03, 31.61s/it]\u001b[A\n",
      " 83%|██████████████████████████████████████████████████████████████████████▊              | 5/6 [02:41<00:30, 30.78s/it]\u001b[A\n",
      "100%|█████████████████████████████████████████████████████████████████████████████████████| 6/6 [03:12<00:00, 32.12s/it]\u001b[A\n"
     ]
    },
    {
     "name": "stdout",
     "output_type": "stream",
     "text": [
      "running row: 5 of 11\n"
     ]
    },
    {
     "name": "stderr",
     "output_type": "stream",
     "text": [
      "\n",
      "  0%|                                                                                             | 0/6 [00:00<?, ?it/s]\u001b[A\n",
      " 17%|██████████████▏                                                                      | 1/6 [00:18<01:32, 18.53s/it]\u001b[A\n",
      " 33%|████████████████████████████▎                                                        | 2/6 [00:36<01:11, 17.95s/it]\u001b[A\n",
      " 50%|██████████████████████████████████████████▌                                          | 3/6 [00:53<00:52, 17.61s/it]\u001b[A\n",
      " 67%|████████████████████████████████████████████████████████▋                            | 4/6 [01:13<00:37, 18.53s/it]\u001b[A\n",
      " 83%|██████████████████████████████████████████████████████████████████████▊              | 5/6 [01:32<00:18, 18.89s/it]\u001b[A\n",
      "100%|█████████████████████████████████████████████████████████████████████████████████████| 6/6 [01:51<00:00, 18.51s/it]\u001b[A\n"
     ]
    },
    {
     "name": "stdout",
     "output_type": "stream",
     "text": [
      "running row: 6 of 11\n"
     ]
    },
    {
     "name": "stderr",
     "output_type": "stream",
     "text": [
      "\n",
      "  0%|                                                                                             | 0/6 [00:00<?, ?it/s]\u001b[A\n",
      " 17%|██████████████▏                                                                      | 1/6 [00:31<02:39, 31.96s/it]\u001b[A\n",
      " 33%|████████████████████████████▎                                                        | 2/6 [00:50<01:37, 24.26s/it]\u001b[A\n",
      " 50%|██████████████████████████████████████████▌                                          | 3/6 [01:09<01:05, 21.80s/it]\u001b[A\n",
      " 67%|████████████████████████████████████████████████████████▋                            | 4/6 [01:28<00:41, 20.51s/it]\u001b[A\n",
      " 83%|██████████████████████████████████████████████████████████████████████▊              | 5/6 [01:46<00:19, 19.87s/it]\u001b[A\n",
      "100%|█████████████████████████████████████████████████████████████████████████████████████| 6/6 [02:06<00:00, 21.05s/it]\u001b[A\n"
     ]
    },
    {
     "name": "stdout",
     "output_type": "stream",
     "text": [
      "running row: 7 of 11\n"
     ]
    },
    {
     "name": "stderr",
     "output_type": "stream",
     "text": [
      "\n",
      "  0%|                                                                                             | 0/6 [00:00<?, ?it/s]\u001b[A\n",
      " 17%|██████████████▏                                                                      | 1/6 [00:20<01:44, 20.92s/it]\u001b[A\n",
      " 33%|████████████████████████████▎                                                        | 2/6 [00:41<01:21, 20.49s/it]\u001b[A\n",
      " 50%|██████████████████████████████████████████▌                                          | 3/6 [01:00<00:59, 19.93s/it]\u001b[A\n",
      " 67%|████████████████████████████████████████████████████████▋                            | 4/6 [01:20<00:40, 20.10s/it]\u001b[A\n",
      " 83%|██████████████████████████████████████████████████████████████████████▊              | 5/6 [01:40<00:19, 19.98s/it]\u001b[A\n",
      "100%|█████████████████████████████████████████████████████████████████████████████████████| 6/6 [02:00<00:00, 20.16s/it]\u001b[A\n"
     ]
    },
    {
     "name": "stdout",
     "output_type": "stream",
     "text": [
      "running row: 8 of 11\n"
     ]
    },
    {
     "name": "stderr",
     "output_type": "stream",
     "text": [
      "\n",
      "  0%|                                                                                             | 0/6 [00:00<?, ?it/s]\u001b[A\n",
      " 17%|██████████████▏                                                                      | 1/6 [00:21<01:49, 21.91s/it]\u001b[A\n",
      " 33%|████████████████████████████▎                                                        | 2/6 [00:44<01:28, 22.07s/it]\u001b[A\n",
      " 50%|██████████████████████████████████████████▌                                          | 3/6 [01:04<01:03, 21.13s/it]\u001b[Adistributed.nanny - WARNING - Worker exceeded 95% memory budget. Restarting\n",
      "distributed.client - ERROR - Restart timed out after 9.00 seconds\n",
      "\n",
      " 67%|████████████████████████████████████████████████████████▋                            | 4/6 [01:44<00:57, 28.57s/it]\u001b[A\n",
      " 83%|██████████████████████████████████████████████████████████████████████▊              | 5/6 [02:09<00:27, 27.52s/it]\u001b[A\n",
      "100%|█████████████████████████████████████████████████████████████████████████████████████| 6/6 [02:31<00:00, 25.28s/it]\u001b[A\n"
     ]
    },
    {
     "name": "stdout",
     "output_type": "stream",
     "text": [
      "running row: 9 of 11\n"
     ]
    },
    {
     "name": "stderr",
     "output_type": "stream",
     "text": [
      "\n",
      "  0%|                                                                                             | 0/6 [00:00<?, ?it/s]\u001b[A\n",
      " 17%|██████████████▏                                                                      | 1/6 [00:25<02:06, 25.30s/it]\u001b[A\n",
      " 33%|████████████████████████████▎                                                        | 2/6 [00:48<01:35, 23.92s/it]\u001b[A\n",
      " 50%|██████████████████████████████████████████▌                                          | 3/6 [01:10<01:08, 22.93s/it]\u001b[A\n",
      " 67%|████████████████████████████████████████████████████████▋                            | 4/6 [01:32<00:45, 22.63s/it]\u001b[A\n",
      " 83%|██████████████████████████████████████████████████████████████████████▊              | 5/6 [01:55<00:22, 22.85s/it]\u001b[A\n",
      "100%|█████████████████████████████████████████████████████████████████████████████████████| 6/6 [02:18<00:00, 23.01s/it]\u001b[A\n"
     ]
    },
    {
     "name": "stdout",
     "output_type": "stream",
     "text": [
      "running row: 10 of 11\n"
     ]
    },
    {
     "name": "stderr",
     "output_type": "stream",
     "text": [
      "\n",
      "  0%|                                                                                             | 0/6 [00:00<?, ?it/s]\u001b[A\n",
      " 17%|██████████████▏                                                                      | 1/6 [00:24<02:02, 24.57s/it]\u001b[A\n",
      " 33%|████████████████████████████▎                                                        | 2/6 [00:46<01:31, 22.85s/it]\u001b[A\n",
      " 50%|██████████████████████████████████████████▌                                          | 3/6 [01:07<01:07, 22.36s/it]\u001b[A\n",
      " 67%|████████████████████████████████████████████████████████▋                            | 4/6 [01:31<00:45, 22.62s/it]\u001b[A\n",
      " 83%|██████████████████████████████████████████████████████████████████████▊              | 5/6 [01:52<00:22, 22.38s/it]\u001b[A\n",
      "100%|█████████████████████████████████████████████████████████████████████████████████████| 6/6 [02:16<00:00, 22.71s/it]\u001b[A\n"
     ]
    },
    {
     "name": "stdout",
     "output_type": "stream",
     "text": [
      "running row: 11 of 11\n"
     ]
    },
    {
     "name": "stderr",
     "output_type": "stream",
     "text": [
      "\n",
      "  0%|                                                                                             | 0/6 [00:00<?, ?it/s]\u001b[A\n",
      " 17%|██████████████▏                                                                      | 1/6 [00:34<02:54, 34.87s/it]\u001b[A\n",
      " 33%|████████████████████████████▎                                                        | 2/6 [00:59<01:56, 29.09s/it]\u001b[A\n",
      " 50%|██████████████████████████████████████████▌                                          | 3/6 [01:24<01:20, 26.84s/it]\u001b[A\n",
      " 67%|████████████████████████████████████████████████████████▋                            | 4/6 [01:47<00:51, 25.66s/it]\u001b[A\n",
      " 83%|██████████████████████████████████████████████████████████████████████▊              | 5/6 [02:12<00:25, 25.17s/it]\u001b[A\n",
      "100%|█████████████████████████████████████████████████████████████████████████████████████| 6/6 [02:35<00:00, 25.97s/it]\u001b[A\n"
     ]
    },
    {
     "name": "stdout",
     "output_type": "stream",
     "text": [
      "Pasture-group finished!\n"
     ]
    },
    {
     "name": "stderr",
     "output_type": "stream",
     "text": [
      " 60%|███████████████████████████████████████████████▍                               | 3/5 [1:49:36<1:16:30, 2295.41s/it]"
     ]
    },
    {
     "name": "stdout",
     "output_type": "stream",
     "text": [
      "\n",
      "\n",
      "----------\n",
      "Pasture: 22E\n",
      "running row: 1 of 11\n"
     ]
    },
    {
     "name": "stderr",
     "output_type": "stream",
     "text": [
      "\n",
      "  0%|                                                                                             | 0/6 [00:00<?, ?it/s]\u001b[A\n",
      " 17%|██████████████▏                                                                      | 1/6 [01:12<06:01, 72.21s/it]\u001b[A\n",
      " 33%|████████████████████████████▎                                                        | 2/6 [01:57<03:46, 56.51s/it]\u001b[A\n",
      " 50%|██████████████████████████████████████████▌                                          | 3/6 [02:44<02:35, 51.91s/it]\u001b[A\n",
      " 67%|████████████████████████████████████████████████████████▋                            | 4/6 [03:50<01:55, 57.56s/it]\u001b[A\n",
      " 83%|██████████████████████████████████████████████████████████████████████▊              | 5/6 [04:54<00:59, 59.99s/it]\u001b[A\n",
      "100%|█████████████████████████████████████████████████████████████████████████████████████| 6/6 [06:10<00:00, 61.72s/it]\u001b[A\n"
     ]
    },
    {
     "name": "stdout",
     "output_type": "stream",
     "text": [
      "running row: 2 of 11\n"
     ]
    },
    {
     "name": "stderr",
     "output_type": "stream",
     "text": [
      "\n",
      "  0%|                                                                                             | 0/6 [00:00<?, ?it/s]\u001b[A\n",
      " 17%|██████████████▏                                                                      | 1/6 [01:22<06:51, 82.28s/it]\u001b[A\n",
      " 33%|████████████████████████████▎                                                        | 2/6 [02:14<04:19, 64.78s/it]\u001b[A\n",
      " 50%|██████████████████████████████████████████▌                                          | 3/6 [03:10<03:01, 60.64s/it]\u001b[A\n",
      " 67%|████████████████████████████████████████████████████████▋                            | 4/6 [04:46<02:29, 74.71s/it]\u001b[A\n",
      " 83%|██████████████████████████████████████████████████████████████████████▊              | 5/6 [06:07<01:17, 77.03s/it]\u001b[A\n",
      "100%|█████████████████████████████████████████████████████████████████████████████████████| 6/6 [07:26<00:00, 74.48s/it]\u001b[A\n"
     ]
    },
    {
     "name": "stdout",
     "output_type": "stream",
     "text": [
      "running row: 3 of 11\n"
     ]
    },
    {
     "name": "stderr",
     "output_type": "stream",
     "text": [
      "\n",
      "  0%|                                                                                             | 0/6 [00:00<?, ?it/s]\u001b[A\n",
      " 17%|██████████████▏                                                                      | 1/6 [01:25<07:05, 85.09s/it]\u001b[A\n",
      " 33%|████████████████████████████▎                                                        | 2/6 [02:23<04:37, 69.25s/it]\u001b[A\n",
      " 50%|██████████████████████████████████████████▌                                          | 3/6 [03:22<03:13, 64.65s/it]\u001b[Adistributed.nanny - WARNING - Worker exceeded 95% memory budget. Restarting\n",
      "distributed.client - ERROR - Restart timed out after 9.00 seconds\n",
      "\n",
      " 67%|████████████████████████████████████████████████████████▋                            | 4/6 [04:59<02:35, 77.51s/it]\u001b[A\n",
      " 83%|██████████████████████████████████████████████████████████████████████▊              | 5/6 [06:17<01:17, 77.71s/it]\u001b[A\n",
      "100%|█████████████████████████████████████████████████████████████████████████████████████| 6/6 [07:37<00:00, 76.25s/it]\u001b[A\n"
     ]
    },
    {
     "name": "stdout",
     "output_type": "stream",
     "text": [
      "running row: 4 of 11\n"
     ]
    },
    {
     "name": "stderr",
     "output_type": "stream",
     "text": [
      "\n",
      "  0%|                                                                                             | 0/6 [00:00<?, ?it/s]\u001b[A\n",
      " 17%|██████████████▏                                                                      | 1/6 [00:33<02:49, 33.93s/it]\u001b[A\n",
      " 33%|████████████████████████████▎                                                        | 2/6 [01:01<01:59, 29.92s/it]\u001b[A\n",
      " 50%|██████████████████████████████████████████▌                                          | 3/6 [01:28<01:25, 28.65s/it]\u001b[A\n",
      " 67%|████████████████████████████████████████████████████████▋                            | 4/6 [02:03<01:02, 31.30s/it]\u001b[A\n",
      " 83%|██████████████████████████████████████████████████████████████████████▊              | 5/6 [02:36<00:31, 31.87s/it]\u001b[A\n",
      "100%|█████████████████████████████████████████████████████████████████████████████████████| 6/6 [03:17<00:00, 32.84s/it]\u001b[A\n"
     ]
    },
    {
     "name": "stdout",
     "output_type": "stream",
     "text": [
      "running row: 5 of 11\n"
     ]
    },
    {
     "name": "stderr",
     "output_type": "stream",
     "text": [
      "\n",
      "  0%|                                                                                             | 0/6 [00:00<?, ?it/s]\u001b[A\n",
      " 17%|██████████████▏                                                                      | 1/6 [00:18<01:30, 18.10s/it]\u001b[A\n",
      " 33%|████████████████████████████▎                                                        | 2/6 [00:38<01:17, 19.33s/it]\u001b[A\n",
      " 50%|██████████████████████████████████████████▌                                          | 3/6 [00:57<00:57, 19.26s/it]\u001b[A\n",
      " 67%|████████████████████████████████████████████████████████▋                            | 4/6 [01:16<00:38, 19.30s/it]\u001b[A\n",
      " 83%|██████████████████████████████████████████████████████████████████████▊              | 5/6 [01:37<00:19, 19.89s/it]\u001b[A\n",
      "100%|█████████████████████████████████████████████████████████████████████████████████████| 6/6 [02:03<00:00, 20.51s/it]\u001b[A\n"
     ]
    },
    {
     "name": "stdout",
     "output_type": "stream",
     "text": [
      "running row: 6 of 11\n"
     ]
    },
    {
     "name": "stderr",
     "output_type": "stream",
     "text": [
      "\n",
      "  0%|                                                                                             | 0/6 [00:00<?, ?it/s]\u001b[Adistributed.nanny - WARNING - Worker exceeded 95% memory budget. Restarting\n",
      "distributed.nanny - WARNING - Worker exceeded 95% memory budget. Restarting\n",
      "distributed.client - ERROR - Restart timed out after 9.00 seconds\n",
      "\n",
      " 17%|██████████████▏                                                                      | 1/6 [00:38<03:14, 38.91s/it]\u001b[A\n",
      " 33%|████████████████████████████▎                                                        | 2/6 [00:59<01:51, 27.97s/it]\u001b[A\n",
      " 50%|██████████████████████████████████████████▌                                          | 3/6 [01:18<01:12, 24.06s/it]\u001b[A\n",
      " 67%|████████████████████████████████████████████████████████▋                            | 4/6 [01:38<00:45, 22.59s/it]\u001b[A\n",
      " 83%|██████████████████████████████████████████████████████████████████████▊              | 5/6 [01:59<00:21, 21.79s/it]\u001b[A\n",
      "100%|█████████████████████████████████████████████████████████████████████████████████████| 6/6 [02:29<00:00, 24.86s/it]\u001b[A\n"
     ]
    },
    {
     "name": "stdout",
     "output_type": "stream",
     "text": [
      "running row: 7 of 11\n"
     ]
    },
    {
     "name": "stderr",
     "output_type": "stream",
     "text": [
      "\n",
      "  0%|                                                                                             | 0/6 [00:00<?, ?it/s]\u001b[A\n",
      " 17%|██████████████▏                                                                      | 1/6 [00:19<01:38, 19.68s/it]\u001b[A\n",
      " 33%|████████████████████████████▎                                                        | 2/6 [00:39<01:19, 19.97s/it]\u001b[A\n",
      " 50%|██████████████████████████████████████████▌                                          | 3/6 [01:00<01:01, 20.51s/it]\u001b[A\n",
      " 67%|████████████████████████████████████████████████████████▋                            | 4/6 [01:21<00:41, 20.63s/it]\u001b[A\n",
      " 83%|██████████████████████████████████████████████████████████████████████▊              | 5/6 [01:40<00:20, 20.05s/it]\u001b[A\n",
      "100%|█████████████████████████████████████████████████████████████████████████████████████| 6/6 [02:10<00:00, 21.76s/it]\u001b[A\n"
     ]
    },
    {
     "name": "stdout",
     "output_type": "stream",
     "text": [
      "running row: 8 of 11\n"
     ]
    },
    {
     "name": "stderr",
     "output_type": "stream",
     "text": [
      "\n",
      "  0%|                                                                                             | 0/6 [00:00<?, ?it/s]\u001b[A\n",
      " 17%|██████████████▏                                                                      | 1/6 [00:20<01:44, 20.85s/it]\u001b[A\n",
      " 33%|████████████████████████████▎                                                        | 2/6 [00:42<01:24, 21.15s/it]\u001b[A\n",
      " 50%|██████████████████████████████████████████▌                                          | 3/6 [01:02<01:01, 20.56s/it]\u001b[Adistributed.nanny - WARNING - Worker exceeded 95% memory budget. Restarting\n",
      "distributed.client - ERROR - Restart timed out after 9.00 seconds\n",
      "\n",
      " 67%|████████████████████████████████████████████████████████▋                            | 4/6 [01:42<00:56, 28.32s/it]\u001b[A\n",
      " 83%|██████████████████████████████████████████████████████████████████████▊              | 5/6 [02:03<00:25, 25.74s/it]\u001b[A\n",
      "100%|█████████████████████████████████████████████████████████████████████████████████████| 6/6 [02:31<00:00, 25.18s/it]\u001b[A\n"
     ]
    },
    {
     "name": "stdout",
     "output_type": "stream",
     "text": [
      "running row: 9 of 11\n"
     ]
    },
    {
     "name": "stderr",
     "output_type": "stream",
     "text": [
      "\n",
      "  0%|                                                                                             | 0/6 [00:00<?, ?it/s]\u001b[A\n",
      " 17%|██████████████▏                                                                      | 1/6 [00:20<01:43, 20.68s/it]\u001b[A\n",
      " 33%|████████████████████████████▎                                                        | 2/6 [00:44<01:30, 22.54s/it]\u001b[A\n",
      " 50%|██████████████████████████████████████████▌                                          | 3/6 [01:02<01:01, 20.49s/it]\u001b[A\n",
      " 67%|████████████████████████████████████████████████████████▋                            | 4/6 [01:21<00:40, 20.04s/it]\u001b[A\n",
      " 83%|██████████████████████████████████████████████████████████████████████▊              | 5/6 [01:41<00:19, 19.99s/it]\u001b[A\n",
      "100%|█████████████████████████████████████████████████████████████████████████████████████| 6/6 [02:06<00:00, 21.15s/it]\u001b[A\n"
     ]
    },
    {
     "name": "stdout",
     "output_type": "stream",
     "text": [
      "running row: 10 of 11\n"
     ]
    },
    {
     "name": "stderr",
     "output_type": "stream",
     "text": [
      "\n",
      "  0%|                                                                                             | 0/6 [00:00<?, ?it/s]\u001b[A\n",
      " 17%|██████████████▏                                                                      | 1/6 [00:22<01:53, 22.63s/it]\u001b[A\n",
      " 33%|████████████████████████████▎                                                        | 2/6 [00:45<01:30, 22.55s/it]\u001b[A\n",
      " 50%|██████████████████████████████████████████▌                                          | 3/6 [01:04<01:03, 21.26s/it]\u001b[A\n",
      " 67%|████████████████████████████████████████████████████████▋                            | 4/6 [01:25<00:41, 20.96s/it]\u001b[A\n",
      " 83%|██████████████████████████████████████████████████████████████████████▊              | 5/6 [01:46<00:21, 21.15s/it]\u001b[A\n",
      "100%|█████████████████████████████████████████████████████████████████████████████████████| 6/6 [02:19<00:00, 23.18s/it]\u001b[A\n"
     ]
    },
    {
     "name": "stdout",
     "output_type": "stream",
     "text": [
      "running row: 11 of 11\n"
     ]
    },
    {
     "name": "stderr",
     "output_type": "stream",
     "text": [
      "\n",
      "  0%|                                                                                             | 0/6 [00:00<?, ?it/s]\u001b[A\n",
      " 17%|██████████████▏                                                                      | 1/6 [00:32<02:44, 32.84s/it]\u001b[A\n",
      " 33%|████████████████████████████▎                                                        | 2/6 [00:52<01:41, 25.36s/it]\u001b[A\n",
      " 50%|██████████████████████████████████████████▌                                          | 3/6 [01:12<01:08, 22.88s/it]\u001b[A\n",
      " 67%|████████████████████████████████████████████████████████▋                            | 4/6 [01:33<00:44, 22.08s/it]\u001b[A\n",
      " 83%|██████████████████████████████████████████████████████████████████████▊              | 5/6 [01:57<00:22, 22.52s/it]\u001b[A\n",
      "100%|█████████████████████████████████████████████████████████████████████████████████████| 6/6 [02:27<00:00, 24.59s/it]\u001b[A\n"
     ]
    },
    {
     "name": "stdout",
     "output_type": "stream",
     "text": [
      "Pasture-group finished!\n"
     ]
    },
    {
     "name": "stderr",
     "output_type": "stream",
     "text": [
      "distributed.nanny - WARNING - Worker exceeded 95% memory budget. Restarting\n",
      "distributed.client - ERROR - Restart timed out after 9.00 seconds\n",
      " 80%|████████████████████████████████████████████████████████████████▊                | 4/5 [2:30:34<39:19, 2359.69s/it]"
     ]
    },
    {
     "name": "stdout",
     "output_type": "stream",
     "text": [
      "\n",
      "\n",
      "----------\n",
      "Pasture: CN\n",
      "running row: 1 of 17\n"
     ]
    },
    {
     "name": "stderr",
     "output_type": "stream",
     "text": [
      "\n",
      "  0%|                                                                                            | 0/12 [00:00<?, ?it/s]\u001b[A\n",
      "  8%|███████                                                                             | 1/12 [00:16<03:06, 16.95s/it]\u001b[A\n",
      " 17%|██████████████                                                                      | 2/12 [00:32<02:44, 16.41s/it]\u001b[A\n",
      " 25%|█████████████████████                                                               | 3/12 [00:51<02:35, 17.23s/it]\u001b[A\n",
      " 33%|████████████████████████████                                                        | 4/12 [01:08<02:18, 17.30s/it]\u001b[A\n",
      " 42%|███████████████████████████████████                                                 | 5/12 [01:26<02:03, 17.64s/it]\u001b[A\n",
      " 50%|██████████████████████████████████████████                                          | 6/12 [01:49<01:55, 19.33s/it]\u001b[A\n",
      " 58%|█████████████████████████████████████████████████                                   | 7/12 [02:08<01:35, 19.14s/it]\u001b[A\n",
      " 67%|████████████████████████████████████████████████████████                            | 8/12 [02:25<01:13, 18.44s/it]\u001b[A\n",
      " 75%|███████████████████████████████████████████████████████████████                     | 9/12 [02:42<00:54, 18.00s/it]\u001b[A\n",
      " 83%|█████████████████████████████████████████████████████████████████████▏             | 10/12 [02:59<00:35, 17.82s/it]\u001b[A\n",
      " 92%|████████████████████████████████████████████████████████████████████████████       | 11/12 [03:17<00:17, 17.75s/it]\u001b[A\n",
      "100%|███████████████████████████████████████████████████████████████████████████████████| 12/12 [03:57<00:00, 19.79s/it]\u001b[A\n"
     ]
    },
    {
     "name": "stdout",
     "output_type": "stream",
     "text": [
      "running row: 2 of 17\n"
     ]
    },
    {
     "name": "stderr",
     "output_type": "stream",
     "text": [
      "\n",
      "  0%|                                                                                            | 0/12 [00:00<?, ?it/s]\u001b[A\n",
      "  8%|███████                                                                             | 1/12 [00:18<03:21, 18.28s/it]\u001b[A\n",
      " 17%|██████████████                                                                      | 2/12 [00:35<02:58, 17.80s/it]\u001b[A\n",
      " 25%|█████████████████████                                                               | 3/12 [00:55<02:48, 18.77s/it]\u001b[A\n",
      " 33%|████████████████████████████                                                        | 4/12 [01:26<03:08, 23.51s/it]\u001b[A\n",
      " 42%|███████████████████████████████████                                                 | 5/12 [01:42<02:26, 20.91s/it]\u001b[A\n",
      " 50%|██████████████████████████████████████████                                          | 6/12 [01:59<01:56, 19.45s/it]\u001b[A\n",
      " 58%|█████████████████████████████████████████████████                                   | 7/12 [02:16<01:33, 18.62s/it]\u001b[A\n",
      " 67%|████████████████████████████████████████████████████████                            | 8/12 [02:33<01:12, 18.23s/it]\u001b[A\n",
      " 75%|███████████████████████████████████████████████████████████████                     | 9/12 [02:53<00:55, 18.60s/it]\u001b[A\n",
      " 83%|█████████████████████████████████████████████████████████████████████▏             | 10/12 [03:08<00:35, 17.72s/it]\u001b[A\n",
      " 92%|████████████████████████████████████████████████████████████████████████████       | 11/12 [03:26<00:17, 17.67s/it]\u001b[A\n",
      "100%|███████████████████████████████████████████████████████████████████████████████████| 12/12 [03:56<00:00, 19.73s/it]\u001b[A\n"
     ]
    },
    {
     "name": "stdout",
     "output_type": "stream",
     "text": [
      "running row: 3 of 17\n"
     ]
    },
    {
     "name": "stderr",
     "output_type": "stream",
     "text": [
      "\n",
      "  0%|                                                                                            | 0/12 [00:00<?, ?it/s]\u001b[A\n",
      "  8%|███████                                                                             | 1/12 [00:18<03:27, 18.87s/it]\u001b[A\n",
      " 17%|██████████████                                                                      | 2/12 [00:37<03:09, 18.92s/it]\u001b[A\n",
      " 25%|█████████████████████                                                               | 3/12 [00:56<02:48, 18.76s/it]\u001b[A\n",
      " 33%|████████████████████████████                                                        | 4/12 [01:14<02:28, 18.60s/it]\u001b[A\n",
      " 42%|███████████████████████████████████                                                 | 5/12 [01:31<02:05, 17.89s/it]\u001b[A\n",
      " 50%|██████████████████████████████████████████                                          | 6/12 [01:48<01:46, 17.69s/it]\u001b[A\n",
      " 58%|█████████████████████████████████████████████████                                   | 7/12 [02:18<01:48, 21.61s/it]\u001b[A\n",
      " 67%|████████████████████████████████████████████████████████                            | 8/12 [02:36<01:22, 20.63s/it]\u001b[A\n",
      " 75%|███████████████████████████████████████████████████████████████                     | 9/12 [02:55<01:00, 20.05s/it]\u001b[A\n",
      " 83%|█████████████████████████████████████████████████████████████████████▏             | 10/12 [03:14<00:39, 19.54s/it]\u001b[A\n",
      " 92%|████████████████████████████████████████████████████████████████████████████       | 11/12 [03:34<00:19, 19.68s/it]\u001b[A\n",
      "100%|███████████████████████████████████████████████████████████████████████████████████| 12/12 [04:15<00:00, 21.31s/it]\u001b[A\n"
     ]
    },
    {
     "name": "stdout",
     "output_type": "stream",
     "text": [
      "running row: 4 of 17\n"
     ]
    },
    {
     "name": "stderr",
     "output_type": "stream",
     "text": [
      "\n",
      "  0%|                                                                                            | 0/12 [00:00<?, ?it/s]\u001b[A\n",
      "  8%|███████                                                                             | 1/12 [00:25<04:45, 25.98s/it]\u001b[A\n",
      " 17%|██████████████                                                                      | 2/12 [00:51<04:15, 25.57s/it]\u001b[A\n",
      " 25%|█████████████████████                                                               | 3/12 [01:17<03:52, 25.81s/it]\u001b[A\n",
      " 33%|████████████████████████████                                                        | 4/12 [01:43<03:26, 25.84s/it]\u001b[A\n",
      " 42%|███████████████████████████████████                                                 | 5/12 [02:07<02:56, 25.23s/it]\u001b[A\n",
      " 50%|██████████████████████████████████████████                                          | 6/12 [02:33<02:32, 25.48s/it]\u001b[A\n",
      " 58%|█████████████████████████████████████████████████                                   | 7/12 [02:59<02:09, 25.81s/it]\u001b[A\n",
      " 67%|████████████████████████████████████████████████████████                            | 8/12 [03:24<01:41, 25.39s/it]\u001b[A\n",
      " 75%|███████████████████████████████████████████████████████████████                     | 9/12 [04:01<01:26, 28.96s/it]\u001b[A\n",
      " 83%|█████████████████████████████████████████████████████████████████████▏             | 10/12 [04:44<01:06, 33.34s/it]\u001b[A\n",
      " 92%|████████████████████████████████████████████████████████████████████████████       | 11/12 [05:20<00:34, 34.30s/it]\u001b[A\n",
      "100%|███████████████████████████████████████████████████████████████████████████████████| 12/12 [06:09<00:00, 30.82s/it]\u001b[A\n"
     ]
    },
    {
     "name": "stdout",
     "output_type": "stream",
     "text": [
      "running row: 5 of 17\n"
     ]
    },
    {
     "name": "stderr",
     "output_type": "stream",
     "text": [
      "\n",
      "  0%|                                                                                            | 0/12 [00:00<?, ?it/s]\u001b[A\n",
      "  8%|███████                                                                             | 1/12 [00:22<04:03, 22.09s/it]\u001b[A\n",
      " 17%|██████████████                                                                      | 2/12 [00:44<03:40, 22.08s/it]\u001b[A\n",
      " 25%|█████████████████████                                                               | 3/12 [01:06<03:18, 22.10s/it]\u001b[A\n",
      " 33%|████████████████████████████                                                        | 4/12 [01:30<03:04, 23.08s/it]\u001b[A\n",
      " 42%|███████████████████████████████████                                                 | 5/12 [01:57<02:51, 24.50s/it]\u001b[A\n",
      " 50%|██████████████████████████████████████████                                          | 6/12 [02:21<02:24, 24.05s/it]\u001b[A\n",
      " 58%|█████████████████████████████████████████████████                                   | 7/12 [02:44<01:59, 23.87s/it]\u001b[A\n",
      " 67%|████████████████████████████████████████████████████████                            | 8/12 [03:09<01:36, 24.08s/it]\u001b[A\n",
      " 75%|███████████████████████████████████████████████████████████████                     | 9/12 [03:32<01:11, 23.93s/it]\u001b[A\n",
      " 83%|█████████████████████████████████████████████████████████████████████▏             | 10/12 [03:55<00:46, 23.46s/it]\u001b[A\n",
      " 92%|████████████████████████████████████████████████████████████████████████████       | 11/12 [04:15<00:22, 22.63s/it]\u001b[A\n",
      "100%|███████████████████████████████████████████████████████████████████████████████████| 12/12 [04:42<00:00, 23.52s/it]\u001b[A\n"
     ]
    },
    {
     "name": "stdout",
     "output_type": "stream",
     "text": [
      "running row: 6 of 17\n"
     ]
    },
    {
     "name": "stderr",
     "output_type": "stream",
     "text": [
      "\n",
      "  0%|                                                                                            | 0/12 [00:00<?, ?it/s]\u001b[A\n",
      "  8%|███████                                                                             | 1/12 [00:31<05:41, 31.02s/it]\u001b[A\n",
      " 17%|██████████████                                                                      | 2/12 [00:48<03:50, 23.03s/it]\u001b[A\n",
      " 25%|█████████████████████                                                               | 3/12 [01:06<03:08, 20.94s/it]\u001b[A\n",
      " 33%|████████████████████████████                                                        | 4/12 [01:27<02:47, 20.92s/it]\u001b[A\n",
      " 42%|███████████████████████████████████                                                 | 5/12 [01:48<02:24, 20.68s/it]\u001b[A\n",
      " 50%|██████████████████████████████████████████                                          | 6/12 [02:07<02:00, 20.16s/it]\u001b[A\n",
      " 58%|█████████████████████████████████████████████████                                   | 7/12 [02:27<01:41, 20.22s/it]\u001b[A\n",
      " 67%|████████████████████████████████████████████████████████                            | 8/12 [02:47<01:20, 20.23s/it]\u001b[A\n",
      " 75%|███████████████████████████████████████████████████████████████                     | 9/12 [03:09<01:01, 20.55s/it]\u001b[A\n",
      " 83%|█████████████████████████████████████████████████████████████████████▏             | 10/12 [03:29<00:40, 20.39s/it]\u001b[A\n",
      " 92%|████████████████████████████████████████████████████████████████████████████       | 11/12 [03:50<00:20, 20.61s/it]\u001b[A\n",
      "100%|███████████████████████████████████████████████████████████████████████████████████| 12/12 [04:17<00:00, 21.44s/it]\u001b[A\n"
     ]
    },
    {
     "name": "stdout",
     "output_type": "stream",
     "text": [
      "running row: 7 of 17\n"
     ]
    },
    {
     "name": "stderr",
     "output_type": "stream",
     "text": [
      "\n",
      "  0%|                                                                                            | 0/12 [00:00<?, ?it/s]\u001b[A\n",
      "  8%|███████                                                                             | 1/12 [00:20<03:40, 20.05s/it]\u001b[A\n",
      " 17%|██████████████                                                                      | 2/12 [00:42<03:34, 21.48s/it]\u001b[A\n",
      " 25%|█████████████████████                                                               | 3/12 [01:00<02:59, 19.98s/it]\u001b[Adistributed.nanny - WARNING - Worker exceeded 95% memory budget. Restarting\n",
      "distributed.client - ERROR - Restart timed out after 9.00 seconds\n",
      "\n",
      " 33%|████████████████████████████                                                        | 4/12 [01:40<03:42, 27.76s/it]\u001b[A\n",
      " 42%|███████████████████████████████████                                                 | 5/12 [01:58<02:49, 24.27s/it]\u001b[A\n",
      " 50%|██████████████████████████████████████████                                          | 6/12 [02:15<02:10, 21.72s/it]\u001b[A\n",
      " 58%|█████████████████████████████████████████████████                                   | 7/12 [02:33<01:43, 20.69s/it]\u001b[A\n",
      " 67%|████████████████████████████████████████████████████████                            | 8/12 [02:54<01:22, 20.68s/it]\u001b[A\n",
      " 75%|███████████████████████████████████████████████████████████████                     | 9/12 [03:14<01:01, 20.62s/it]\u001b[A\n",
      " 83%|█████████████████████████████████████████████████████████████████████▏             | 10/12 [03:33<00:39, 20.00s/it]\u001b[A\n",
      " 92%|████████████████████████████████████████████████████████████████████████████       | 11/12 [03:53<00:19, 19.84s/it]\u001b[A\n",
      "100%|███████████████████████████████████████████████████████████████████████████████████| 12/12 [04:15<00:00, 21.33s/it]\u001b[A\n"
     ]
    },
    {
     "name": "stdout",
     "output_type": "stream",
     "text": [
      "running row: 8 of 17\n"
     ]
    },
    {
     "name": "stderr",
     "output_type": "stream",
     "text": [
      "\n",
      "  0%|                                                                                            | 0/12 [00:00<?, ?it/s]\u001b[A\n",
      "  8%|███████                                                                             | 1/12 [00:19<03:39, 19.92s/it]\u001b[A\n",
      " 17%|██████████████                                                                      | 2/12 [00:41<03:30, 21.03s/it]\u001b[A\n",
      " 25%|█████████████████████                                                               | 3/12 [01:01<03:05, 20.64s/it]\u001b[A\n",
      " 33%|████████████████████████████                                                        | 4/12 [01:24<02:49, 21.24s/it]\u001b[A\n",
      " 42%|███████████████████████████████████                                                 | 5/12 [01:44<02:26, 20.96s/it]\u001b[A\n",
      " 50%|██████████████████████████████████████████                                          | 6/12 [02:04<02:03, 20.64s/it]\u001b[Adistributed.nanny - WARNING - Worker exceeded 95% memory budget. Restarting\n",
      "distributed.nanny - WARNING - Worker exceeded 95% memory budget. Restarting\n",
      "distributed.client - ERROR - Restart timed out after 9.00 seconds\n",
      "\n",
      " 58%|█████████████████████████████████████████████████                                   | 7/12 [02:44<02:15, 27.02s/it]\u001b[A\n",
      " 67%|████████████████████████████████████████████████████████                            | 8/12 [03:04<01:38, 24.60s/it]\u001b[A\n",
      " 75%|███████████████████████████████████████████████████████████████                     | 9/12 [03:22<01:07, 22.59s/it]\u001b[A\n",
      " 83%|█████████████████████████████████████████████████████████████████████▏             | 10/12 [03:44<00:44, 22.42s/it]\u001b[A\n",
      " 92%|████████████████████████████████████████████████████████████████████████████       | 11/12 [04:01<00:20, 20.85s/it]\u001b[A\n",
      "100%|███████████████████████████████████████████████████████████████████████████████████| 12/12 [04:24<00:00, 22.07s/it]\u001b[A\n"
     ]
    },
    {
     "name": "stdout",
     "output_type": "stream",
     "text": [
      "running row: 9 of 17\n"
     ]
    },
    {
     "name": "stderr",
     "output_type": "stream",
     "text": [
      "\n",
      "  0%|                                                                                            | 0/12 [00:00<?, ?it/s]\u001b[A\n",
      "  8%|███████                                                                             | 1/12 [00:17<03:13, 17.58s/it]\u001b[A\n",
      " 17%|██████████████                                                                      | 2/12 [00:37<03:10, 19.06s/it]\u001b[A\n",
      " 25%|█████████████████████                                                               | 3/12 [00:57<02:53, 19.29s/it]\u001b[A\n",
      " 33%|████████████████████████████                                                        | 4/12 [01:16<02:35, 19.46s/it]\u001b[A\n",
      " 42%|███████████████████████████████████                                                 | 5/12 [01:39<02:23, 20.46s/it]\u001b[A\n",
      " 50%|██████████████████████████████████████████                                          | 6/12 [02:00<02:04, 20.74s/it]\u001b[A\n",
      " 58%|█████████████████████████████████████████████████                                   | 7/12 [02:18<01:40, 20.01s/it]\u001b[A\n",
      " 67%|████████████████████████████████████████████████████████                            | 8/12 [02:40<01:21, 20.41s/it]\u001b[A\n",
      " 75%|███████████████████████████████████████████████████████████████                     | 9/12 [03:00<01:01, 20.48s/it]\u001b[A\n",
      " 83%|█████████████████████████████████████████████████████████████████████▏             | 10/12 [03:32<00:47, 23.97s/it]\u001b[A\n",
      " 92%|████████████████████████████████████████████████████████████████████████████       | 11/12 [03:49<00:21, 21.79s/it]\u001b[A\n",
      "100%|███████████████████████████████████████████████████████████████████████████████████| 12/12 [04:13<00:00, 21.13s/it]\u001b[A\n"
     ]
    },
    {
     "name": "stdout",
     "output_type": "stream",
     "text": [
      "running row: 10 of 17\n"
     ]
    },
    {
     "name": "stderr",
     "output_type": "stream",
     "text": [
      "\n",
      "  0%|                                                                                            | 0/12 [00:00<?, ?it/s]\u001b[A\n",
      "  8%|███████                                                                             | 1/12 [00:22<04:09, 22.69s/it]\u001b[A\n",
      " 17%|██████████████                                                                      | 2/12 [00:47<03:57, 23.75s/it]\u001b[A\n",
      " 25%|█████████████████████                                                               | 3/12 [01:10<03:32, 23.56s/it]\u001b[A\n",
      " 33%|████████████████████████████                                                        | 4/12 [01:35<03:12, 24.05s/it]\u001b[A\n",
      " 42%|███████████████████████████████████                                                 | 5/12 [01:59<02:47, 24.00s/it]\u001b[A\n",
      " 50%|██████████████████████████████████████████                                          | 6/12 [02:24<02:26, 24.42s/it]\u001b[A\n",
      " 58%|█████████████████████████████████████████████████                                   | 7/12 [02:48<02:02, 24.42s/it]\u001b[A\n",
      " 67%|████████████████████████████████████████████████████████                            | 8/12 [03:14<01:39, 24.78s/it]\u001b[A\n",
      " 75%|███████████████████████████████████████████████████████████████                     | 9/12 [03:40<01:15, 25.22s/it]\u001b[A\n",
      " 83%|█████████████████████████████████████████████████████████████████████▏             | 10/12 [04:06<00:50, 25.47s/it]\u001b[A\n",
      " 92%|████████████████████████████████████████████████████████████████████████████       | 11/12 [04:30<00:24, 24.83s/it]\u001b[A\n",
      "100%|███████████████████████████████████████████████████████████████████████████████████| 12/12 [05:01<00:00, 25.15s/it]\u001b[A\n"
     ]
    },
    {
     "name": "stdout",
     "output_type": "stream",
     "text": [
      "running row: 11 of 17\n"
     ]
    },
    {
     "name": "stderr",
     "output_type": "stream",
     "text": [
      "\n",
      "  0%|                                                                                            | 0/12 [00:00<?, ?it/s]\u001b[Adistributed.nanny - WARNING - Worker exceeded 95% memory budget. Restarting\n",
      "distributed.client - ERROR - Restart timed out after 9.00 seconds\n",
      "\n",
      "  8%|███████                                                                             | 1/12 [00:47<08:45, 47.81s/it]\u001b[A\n",
      " 17%|██████████████                                                                      | 2/12 [01:18<06:18, 37.85s/it]\u001b[A\n",
      " 25%|█████████████████████                                                               | 3/12 [01:50<05:15, 35.06s/it]\u001b[A\n",
      " 33%|████████████████████████████                                                        | 4/12 [02:23<04:34, 34.29s/it]\u001b[A\n",
      " 42%|███████████████████████████████████                                                 | 5/12 [02:57<03:59, 34.28s/it]\u001b[A\n",
      " 50%|██████████████████████████████████████████                                          | 6/12 [03:33<03:27, 34.65s/it]\u001b[A\n",
      " 58%|█████████████████████████████████████████████████                                   | 7/12 [04:04<02:48, 33.65s/it]\u001b[A\n",
      " 67%|████████████████████████████████████████████████████████                            | 8/12 [04:38<02:14, 33.58s/it]\u001b[A\n",
      " 75%|███████████████████████████████████████████████████████████████                     | 9/12 [05:11<01:40, 33.54s/it]\u001b[A\n",
      " 83%|█████████████████████████████████████████████████████████████████████▏             | 10/12 [06:19<01:28, 44.25s/it]\u001b[A\n",
      " 92%|████████████████████████████████████████████████████████████████████████████       | 11/12 [06:54<00:41, 41.22s/it]\u001b[A\n",
      "100%|███████████████████████████████████████████████████████████████████████████████████| 12/12 [07:27<00:00, 37.32s/it]\u001b[A\n"
     ]
    },
    {
     "name": "stdout",
     "output_type": "stream",
     "text": [
      "running row: 12 of 17\n"
     ]
    },
    {
     "name": "stderr",
     "output_type": "stream",
     "text": [
      "\n",
      "  0%|                                                                                            | 0/12 [00:00<?, ?it/s]\u001b[A\n",
      "  8%|███████                                                                             | 1/12 [00:21<03:59, 21.79s/it]\u001b[A\n",
      " 17%|██████████████                                                                      | 2/12 [00:45<03:50, 23.08s/it]\u001b[A\n",
      " 25%|█████████████████████                                                               | 3/12 [01:09<03:28, 23.17s/it]\u001b[A\n",
      " 33%|████████████████████████████                                                        | 4/12 [01:45<03:47, 28.38s/it]\u001b[A\n",
      " 42%|███████████████████████████████████                                                 | 5/12 [02:09<03:06, 26.68s/it]\u001b[A\n",
      " 50%|██████████████████████████████████████████                                          | 6/12 [02:34<02:37, 26.20s/it]\u001b[A\n",
      " 58%|█████████████████████████████████████████████████                                   | 7/12 [02:57<02:06, 25.21s/it]\u001b[A\n",
      " 67%|████████████████████████████████████████████████████████                            | 8/12 [03:25<01:43, 25.95s/it]\u001b[A\n",
      " 75%|███████████████████████████████████████████████████████████████                     | 9/12 [03:49<01:16, 25.37s/it]\u001b[A\n",
      " 83%|█████████████████████████████████████████████████████████████████████▏             | 10/12 [04:33<01:02, 31.38s/it]\u001b[A\n",
      " 92%|████████████████████████████████████████████████████████████████████████████       | 11/12 [04:59<00:29, 29.58s/it]\u001b[A\n",
      "100%|███████████████████████████████████████████████████████████████████████████████████| 12/12 [05:25<00:00, 27.08s/it]\u001b[A\n"
     ]
    },
    {
     "name": "stdout",
     "output_type": "stream",
     "text": [
      "running row: 13 of 17\n"
     ]
    },
    {
     "name": "stderr",
     "output_type": "stream",
     "text": [
      "\n",
      "  0%|                                                                                            | 0/12 [00:00<?, ?it/s]\u001b[A\n",
      "  8%|███████                                                                             | 1/12 [00:22<04:05, 22.29s/it]\u001b[A\n",
      " 17%|██████████████                                                                      | 2/12 [00:45<03:45, 22.60s/it]\u001b[A\n",
      " 25%|█████████████████████                                                               | 3/12 [01:08<03:25, 22.86s/it]\u001b[A\n",
      " 33%|████████████████████████████                                                        | 4/12 [01:33<03:09, 23.66s/it]\u001b[A\n",
      " 42%|███████████████████████████████████                                                 | 5/12 [01:58<02:50, 24.35s/it]\u001b[A\n",
      " 50%|██████████████████████████████████████████                                          | 6/12 [02:25<02:30, 25.09s/it]\u001b[A\n",
      " 58%|█████████████████████████████████████████████████                                   | 7/12 [03:02<02:25, 29.17s/it]\u001b[A\n",
      " 67%|████████████████████████████████████████████████████████                            | 8/12 [03:27<01:50, 27.67s/it]\u001b[A\n",
      " 75%|███████████████████████████████████████████████████████████████                     | 9/12 [03:49<01:17, 25.96s/it]\u001b[A\n",
      " 83%|█████████████████████████████████████████████████████████████████████▏             | 10/12 [04:32<01:02, 31.27s/it]\u001b[A\n",
      " 92%|████████████████████████████████████████████████████████████████████████████       | 11/12 [04:59<00:29, 29.79s/it]\u001b[A\n",
      "100%|███████████████████████████████████████████████████████████████████████████████████| 12/12 [05:25<00:00, 27.17s/it]\u001b[A\n"
     ]
    },
    {
     "name": "stdout",
     "output_type": "stream",
     "text": [
      "running row: 14 of 17\n"
     ]
    },
    {
     "name": "stderr",
     "output_type": "stream",
     "text": [
      "\n",
      "  0%|                                                                                            | 0/12 [00:00<?, ?it/s]\u001b[A\n",
      "  8%|███████                                                                             | 1/12 [00:22<04:06, 22.37s/it]\u001b[A\n",
      " 17%|██████████████                                                                      | 2/12 [00:45<03:46, 22.65s/it]\u001b[A\n",
      " 25%|█████████████████████                                                               | 3/12 [01:13<03:45, 25.00s/it]\u001b[A\n",
      " 33%|████████████████████████████                                                        | 4/12 [01:37<03:18, 24.80s/it]\u001b[A\n",
      " 42%|███████████████████████████████████                                                 | 5/12 [02:03<02:57, 25.35s/it]\u001b[A\n",
      " 50%|██████████████████████████████████████████                                          | 6/12 [02:26<02:27, 24.60s/it]\u001b[A\n",
      " 58%|█████████████████████████████████████████████████                                   | 7/12 [02:50<02:01, 24.28s/it]\u001b[A\n",
      " 67%|████████████████████████████████████████████████████████                            | 8/12 [03:16<01:39, 24.77s/it]\u001b[A\n",
      " 75%|███████████████████████████████████████████████████████████████                     | 9/12 [03:44<01:17, 25.68s/it]\u001b[A\n",
      " 83%|█████████████████████████████████████████████████████████████████████▏             | 10/12 [04:49<01:15, 37.84s/it]\u001b[A\n",
      " 92%|████████████████████████████████████████████████████████████████████████████       | 11/12 [05:12<00:33, 33.47s/it]\u001b[A\n",
      "100%|███████████████████████████████████████████████████████████████████████████████████| 12/12 [05:39<00:00, 28.33s/it]\u001b[A\n"
     ]
    },
    {
     "name": "stdout",
     "output_type": "stream",
     "text": [
      "running row: 15 of 17\n"
     ]
    },
    {
     "name": "stderr",
     "output_type": "stream",
     "text": [
      "\n",
      "  0%|                                                                                            | 0/12 [00:00<?, ?it/s]\u001b[A\n",
      "  8%|███████                                                                             | 1/12 [00:23<04:17, 23.37s/it]\u001b[A\n",
      " 17%|██████████████                                                                      | 2/12 [00:48<04:03, 24.30s/it]\u001b[A\n",
      " 25%|█████████████████████                                                               | 3/12 [01:12<03:40, 24.46s/it]\u001b[A\n",
      " 33%|████████████████████████████                                                        | 4/12 [01:39<03:21, 25.24s/it]\u001b[A\n",
      " 42%|███████████████████████████████████                                                 | 5/12 [02:05<02:58, 25.52s/it]\u001b[A\n",
      " 50%|██████████████████████████████████████████                                          | 6/12 [02:32<02:36, 26.02s/it]\u001b[A\n",
      " 58%|█████████████████████████████████████████████████                                   | 7/12 [02:55<02:04, 24.97s/it]\u001b[A\n",
      " 67%|████████████████████████████████████████████████████████                            | 8/12 [03:18<01:37, 24.41s/it]\u001b[A\n",
      " 75%|███████████████████████████████████████████████████████████████                     | 9/12 [03:44<01:14, 24.80s/it]\u001b[A\n",
      " 83%|█████████████████████████████████████████████████████████████████████▏             | 10/12 [04:34<01:05, 32.60s/it]\u001b[A\n",
      " 92%|████████████████████████████████████████████████████████████████████████████       | 11/12 [04:59<00:30, 30.28s/it]\u001b[A\n",
      "100%|███████████████████████████████████████████████████████████████████████████████████| 12/12 [05:26<00:00, 27.21s/it]\u001b[A\n"
     ]
    },
    {
     "name": "stdout",
     "output_type": "stream",
     "text": [
      "running row: 16 of 17\n"
     ]
    },
    {
     "name": "stderr",
     "output_type": "stream",
     "text": [
      "\n",
      "  0%|                                                                                            | 0/12 [00:00<?, ?it/s]\u001b[A\n",
      "  8%|███████                                                                             | 1/12 [00:37<06:53, 37.62s/it]\u001b[A\n",
      " 17%|██████████████                                                                      | 2/12 [01:00<04:51, 29.13s/it]\u001b[A\n",
      " 25%|█████████████████████                                                               | 3/12 [01:29<04:21, 29.09s/it]\u001b[A\n",
      " 33%|████████████████████████████                                                        | 4/12 [02:00<03:58, 29.80s/it]\u001b[A\n",
      " 42%|███████████████████████████████████                                                 | 5/12 [02:28<03:22, 28.99s/it]\u001b[A\n",
      " 50%|██████████████████████████████████████████                                          | 6/12 [02:56<02:51, 28.66s/it]\u001b[A\n",
      " 58%|█████████████████████████████████████████████████                                   | 7/12 [03:22<02:19, 27.91s/it]\u001b[A\n",
      " 67%|████████████████████████████████████████████████████████                            | 8/12 [03:47<01:48, 27.06s/it]\u001b[A\n",
      " 75%|███████████████████████████████████████████████████████████████                     | 9/12 [04:13<01:20, 26.75s/it]\u001b[A\n",
      " 83%|█████████████████████████████████████████████████████████████████████▏             | 10/12 [05:03<01:07, 33.81s/it]\u001b[A\n",
      " 92%|████████████████████████████████████████████████████████████████████████████       | 11/12 [05:32<00:32, 32.35s/it]\u001b[A\n",
      "100%|███████████████████████████████████████████████████████████████████████████████████| 12/12 [06:01<00:00, 30.12s/it]\u001b[A\n"
     ]
    },
    {
     "name": "stdout",
     "output_type": "stream",
     "text": [
      "running row: 17 of 17\n"
     ]
    },
    {
     "name": "stderr",
     "output_type": "stream",
     "text": [
      "\n",
      "  0%|                                                                                            | 0/12 [00:00<?, ?it/s]\u001b[A\n",
      "  8%|███████                                                                             | 1/12 [00:25<04:35, 25.07s/it]\u001b[A\n",
      " 17%|██████████████                                                                      | 2/12 [00:49<04:04, 24.49s/it]\u001b[A\n",
      " 25%|█████████████████████                                                               | 3/12 [01:17<03:54, 26.05s/it]\u001b[A\n",
      " 33%|████████████████████████████                                                        | 4/12 [01:54<04:04, 30.52s/it]\u001b[A\n",
      " 42%|███████████████████████████████████                                                 | 5/12 [02:21<03:24, 29.28s/it]\u001b[A\n",
      " 50%|██████████████████████████████████████████                                          | 6/12 [02:51<02:57, 29.52s/it]\u001b[A\n",
      " 58%|█████████████████████████████████████████████████                                   | 7/12 [03:20<02:26, 29.22s/it]\u001b[A\n",
      " 67%|████████████████████████████████████████████████████████                            | 8/12 [03:45<01:52, 28.14s/it]\u001b[A\n",
      " 75%|███████████████████████████████████████████████████████████████                     | 9/12 [04:14<01:24, 28.16s/it]\u001b[A\n",
      " 83%|█████████████████████████████████████████████████████████████████████▏             | 10/12 [05:06<01:11, 35.52s/it]\u001b[A\n",
      " 92%|████████████████████████████████████████████████████████████████████████████       | 11/12 [05:34<00:33, 33.40s/it]\u001b[A\n",
      "100%|███████████████████████████████████████████████████████████████████████████████████| 12/12 [06:09<00:00, 30.78s/it]\u001b[A\n"
     ]
    },
    {
     "name": "stdout",
     "output_type": "stream",
     "text": [
      "Pasture-group finished!\n"
     ]
    },
    {
     "name": "stderr",
     "output_type": "stream",
     "text": [
      "100%|█████████████████████████████████████████████████████████████████████████████████| 5/5 [3:57:37<00:00, 2851.54s/it]\n"
     ]
    }
   ],
   "source": [
    "cper_gdf = gpd.read_file(cper_f)\n",
    "\n",
    "for pasture in tqdm(img_f_dict):\n",
    "    print('\\n\\n----------\\nPasture: ' + pasture)\n",
    "\n",
    "    # get the bounding box of the pasture\n",
    "    past_bbox = cper_gdf[cper_gdf['Past_Name_'] == pasture].buffer(\n",
    "        full_buff_size).bounds.apply(lambda x: int(x))\n",
    "\n",
    "    total_bounds = {'xmin': past_bbox['minx'],\n",
    "                    'xmax': past_bbox['maxx'],\n",
    "                    'ymin': past_bbox['miny'],\n",
    "                    'ymax': past_bbox['maxy']}\n",
    "\n",
    "    n_row_tiles = int(np.ceil((total_bounds['ymax'] - total_bounds['ymin'])/full_tile_size))\n",
    "    n_col_tiles = int(np.ceil((total_bounds['xmax'] - total_bounds['xmin'])/full_tile_size))\n",
    "\n",
    "    outSHP = os.path.join(outDIR, 'burrow_pts_pred_' + '_'.join([pasture] + inputs_fnl + [str(res_fnl)]) + 'cm.shp')\n",
    "    if os.path.exists(outSHP):\n",
    "        gdf_out = gpd.read_file(outSHP)\n",
    "        r_ct_pred = len(gdf_out)\n",
    "        rc_completed = gdf_out.apply(lambda x: '_'.join([str(x.tile_row), str(x.tile_col)]), axis=1).unique()\n",
    "    elif os.path.exists(re.sub('.shp', '.csv', outSHP)):\n",
    "        gdf_out = pd.read_csv(re.sub('.shp', '.csv', outSHP))\n",
    "        r_ct_pred = len(gdf_out)\n",
    "        rc_completed = gdf_out.apply(lambda x: '_'.join([str(x.tile_row), str(x.tile_col)]), axis=1).unique()\n",
    "    else:\n",
    "        r_ct_pred = 0\n",
    "        gdf_out = gpd.GeoDataFrame()\n",
    "        rc_completed = []\n",
    "    tile_ct = 0\n",
    "    for full_r in range(n_row_tiles):\n",
    "        print('running row: ' + str(full_r + 1) + ' of ' + str(n_row_tiles))\n",
    "        for full_c in tqdm(range(n_col_tiles)):\n",
    "            if len(client.cluster.workers) < 8:\n",
    "                client.shutdown()\n",
    "                client.close()\n",
    "                cluster = LocalCluster(n_workers=8, threads_per_worker=2, processes=True)\n",
    "                client = Client(cluster)\n",
    "                client.amm.start()\n",
    "            if '_'.join([str(full_r), str(full_c)]) in rc_completed:\n",
    "                #print('skipping row/column combination, already in shapefile!')\n",
    "                continue\n",
    "            else:\n",
    "                try:\n",
    "                    t0=time.time()\n",
    "\n",
    "                    ll_tile = [full_c * full_tile_size + total_bounds['xmin'],\n",
    "                               full_r * full_tile_size + total_bounds['ymin']]\n",
    "                    ul_tile = [ll_tile[0], ll_tile[1] + full_tile_size]\n",
    "                    ur_tile = [x + full_tile_size for x in ll_tile]\n",
    "                    lr_tile = [ll_tile[0] + full_tile_size, ll_tile[1]]\n",
    "                    tile_poly = Polygon([ll_tile, ul_tile, ur_tile, lr_tile])\n",
    "\n",
    "                    ll = [full_c * full_tile_size + total_bounds['xmin'] - buff_size_m,\n",
    "                          full_r * full_tile_size + total_bounds['ymin'] - buff_size_m]\n",
    "                    ul = [ll[0], ll[1] + full_tile_size + (buff_size_m * 2.0)]\n",
    "                    ur = [x + full_tile_size + (buff_size_m * 2.0) for x in ll]\n",
    "                    lr = [ll[0] + full_tile_size + (buff_size_m * 2.0), ll[1]]\n",
    "\n",
    "                    image_dict = {}\n",
    "                    newsize_r = int(round((ul[1] - ll[1]) / (res_fnl * 0.01), 0))\n",
    "                    newsize_c = int(round((lr[0] - ll[0]) / (res_fnl * 0.01), 0))\n",
    "                    if 'rgb' in inputs_fnl:\n",
    "                        #print('getting RGB')\n",
    "                        t1=time.time()\n",
    "\n",
    "                        rgb_xr_list = []\n",
    "                        #print('creating RGB list')\n",
    "                        for rgb_f in img_f_dict[pasture]['rgb']:\n",
    "                            with riox.open_rasterio(rgb_f, masked=True, cache=False) as rgb_src:\n",
    "                                rgb_xr_list.append(rgb_src.sel(band=slice(0, 3),\n",
    "                                                               x=slice(ll[0], lr[0]),\n",
    "                                                               y=slice(ul[1], ll[1]), \n",
    "                                                               drop=True).load())\n",
    "                        #print('masking')\n",
    "                        rgb_xr_list = [x for x in rgb_xr_list if not any([s == 0 for s in x.shape])]\n",
    "                        rgb_xr_list = [x.where(x != 255) for x in rgb_xr_list if not x.where(x != 255).isnull().all().values]\n",
    "                        rgb_null_ct = [x.isnull().sum().values.item() for x in rgb_xr_list]\n",
    "                        rgb_nonull_mask = [x==0 for x in rgb_null_ct]\n",
    "                        if any(rgb_nonull_mask):\n",
    "                            rgb_xr_list = [rgb_xr_list[np.argsort(rgb_null_ct)[0]]]\n",
    "                        else:\n",
    "                            rgb_xr_list = [rgb_xr_list[i] for i in np.argsort(rgb_null_ct)]\n",
    "                        #print('writing nodata')\n",
    "                        rgb_xr_list = [x.rio.write_nodata(-9999.) for x in rgb_xr_list]\n",
    "\n",
    "                        #print('merging')\n",
    "                        rgb_xr = merge_arrays(rgb_xr_list,\n",
    "                                              bounds=(ll[0], ll[1], lr[0], ur[1]), \n",
    "                                              res=res_fnl*0.01, \n",
    "                                              crs=rio.CRS.from_epsg(32613),\n",
    "                                              method='first',\n",
    "                                              nodata=-9999.)\n",
    "                        #print('masking')\n",
    "                        rgb_xr = rgb_xr.where(rgb_xr != -9999.)\n",
    "                        image_dict['rgb'] = rgb_xr.values\n",
    "                        del rgb_xr, rgb_xr_list\n",
    "                        #rgb_xr.close()\n",
    "                        t2=time.time()\n",
    "                        #print('... completed in', round(t2 - t1, 1), 'secs')\n",
    "                    if 'dsm' in inputs_fnl or 'tpi' in inputs_fnl:\n",
    "                        t1 = time.time()\n",
    "                        #print('getting DSM')\n",
    "                        dsm_xr_list = []\n",
    "                        for dsm_f in img_f_dict[pasture]['dsm']:\n",
    "                            with riox.open_rasterio(dsm_f, masked=True, cache=False) as dsm_src:\n",
    "                                dsm_xr_list.append(dsm_src.sel(x=slice(ll[0], lr[0]),\n",
    "                                                               y=slice(ul[1], ll[1]), \n",
    "                                                               drop=True).load())\n",
    "\n",
    "                        dsm_xr_list = [x for x in dsm_xr_list if not any([s == 0 for s in x.shape])]\n",
    "                        dsm_xr_list = [x.where(x > 0).squeeze() for x in dsm_xr_list if not x.where(x > 0).isnull().all().values]\n",
    "                        dsm_null_ct = [x.isnull().sum().values.item() for x in dsm_xr_list]\n",
    "                        dsm_nonull_mask = [x==0 for x in dsm_null_ct]\n",
    "                        if any(dsm_nonull_mask):\n",
    "                            dsm_xr_list = [dsm_xr_list[np.argsort(dsm_null_ct)[0]]]\n",
    "                        else:\n",
    "                            dsm_xr_list = [dsm_xr_list[i] for i in np.argsort(dsm_null_ct)]\n",
    "                        dsm_xr_list = [x.rio.write_nodata(-9999.) for x in dsm_xr_list]\n",
    "\n",
    "                        dsm_xr = merge_arrays(dsm_xr_list,\n",
    "                                              bounds=(ll[0], ll[1], lr[0], ur[1]), \n",
    "                                              res=res_fnl*0.01, \n",
    "                                              crs=rio.CRS.from_epsg(32613),\n",
    "                                              method='first',\n",
    "                                              nodata=-9999.)\n",
    "\n",
    "                        dsm_xr = dsm_xr.where(dsm_xr != -9999.)\n",
    "\n",
    "                        if 'dsm' in inputs_fnl:\n",
    "                            image_dict['dsm'] = dsm_xr.values\n",
    "                        #dsm_xr.close()\n",
    "                        t2=time.time()\n",
    "                        #print('... completed in', round(t2 - t1, 1), 'secs')\n",
    "                    if 'tpi' in inputs_fnl: \n",
    "                        t1 = time.time()\n",
    "                        #print('computing TPI')\n",
    "                        # prepare an annulus kernel with a ring at a distance from 5-10 cells away from focal point\n",
    "                        outer_radius = \"0.75m\"\n",
    "                        inner_radius = \"0.25m\"\n",
    "                        image_dict['tpi'] = calc_tpi(dsm_xr.chunk({'x': chunk_size,\n",
    "                                                                   'y': chunk_size}), \n",
    "                                                     inner_r=inner_radius, \n",
    "                                                     outer_r=outer_radius, \n",
    "                                                     interpolate=False,\n",
    "                                                     values=True)\n",
    "                        del dsm_xr, dsm_xr_list\n",
    "                        #dsm_xr.close()\n",
    "                        t2=time.time()\n",
    "                        #print('... completed in', round(t2 - t1, 1), 'secs')\n",
    "                    if 'ndvi' in inputs_fnl:\n",
    "                        t1 = time.time()\n",
    "                        #print('computing NDVI')\n",
    "                        ms_xr_list = []\n",
    "                        for ms_f in img_f_dict[pasture]['ms']:\n",
    "                            with riox.open_rasterio(ms_f, masked=True, cache=False) as ms_src:\n",
    "                                ms_xr_list.append(ms_src.sel(band=[4, 3],\n",
    "                                                               x=slice(ll[0], lr[0]),\n",
    "                                                               y=slice(ul[1], ll[1]), \n",
    "                                                               drop=True).load())\n",
    "\n",
    "                        ms_xr_list = [x for x in ms_xr_list if not any([s == 0 for s in x.shape])]\n",
    "                        ms_xr_list = [x.where(x != 65535) for x in ms_xr_list if not x.where(x != 65535).isnull().all().values]\n",
    "                        ms_null_ct = [x.isnull().sum().values.item() for x in ms_xr_list]\n",
    "                        ms_nonull_mask = [x==0 for x in ms_null_ct]\n",
    "                        if any(ms_nonull_mask):\n",
    "                            ms_xr_list = [ms_xr_list[np.argsort(ms_null_ct)[0]]]\n",
    "                        else:\n",
    "                            ms_xr_list = [ms_xr_list[i] for i in np.argsort(ms_null_ct)]\n",
    "                        ms_xr_list = [x.rio.write_nodata(-9999.) for x in ms_xr_list]\n",
    "\n",
    "                        ms_xr = merge_arrays(ms_xr_list,\n",
    "                                              bounds=(ll[0], ll[1], lr[0], ur[1]), \n",
    "                                              res=res_fnl*0.01, \n",
    "                                              crs=rio.CRS.from_epsg(32613),\n",
    "                                              method='first',\n",
    "                                              nodata=-9999.)\n",
    "\n",
    "                        ms_xr = ms_xr.where(ms_xr != -9999.)\n",
    "                        image_dict['ndvi'] = calc_ndvi(ms_xr, values=True, interpolate=False)\n",
    "                        del ms_xr, ms_xr_list\n",
    "                        #ms_xr.close()\n",
    "                        t2=time.time()\n",
    "                        #print('... completed in', round(t2 - t1, 1), 'secs')\n",
    "\n",
    "                    if 'rgb' in image_dict:\n",
    "                        tshape = image_dict['rgb'].shape[1:]\n",
    "                    else:\n",
    "                        tshape = image_dict[inputs_fnl[0]].shape\n",
    "\n",
    "                    n_row_chunks = int(np.ceil(tshape[0]/tile_size))\n",
    "                    n_col_chunks = int(np.ceil(tshape[1]/tile_size))\n",
    "\n",
    "                    pr_mask = np.empty(tshape)\n",
    "                    t1 = time.time()\n",
    "                    #print('predicting binary burrow image')\n",
    "                    for r in range(n_row_chunks):\n",
    "                        if (r + 1) * tile_size > tshape[0]:\n",
    "                            r_min = tshape[0] - tile_size\n",
    "                            r_max = tshape[0]\n",
    "                            r_max_comp = tshape[0]\n",
    "                        elif (r + 1) * tile_size + buff_size > tshape[0]:\n",
    "                            r_min = r * tile_size\n",
    "                            r_max = (r + 1) * tile_size\n",
    "                            r_max_comp = r_max\n",
    "                        else:\n",
    "                            r_min = r * tile_size\n",
    "                            r_max = (r + 1) * tile_size\n",
    "                            r_max_comp = r_max + buff_size\n",
    "                        for c in range(n_col_chunks):\n",
    "                            image_sub_dict = {}\n",
    "                            if (c + 1) * tile_size > tshape[1]:\n",
    "                                c_min = tshape[1] - tile_size\n",
    "                                c_max = tshape[1]\n",
    "                                c_max_comp = tshape[1]\n",
    "                            elif (c + 1) * tile_size + buff_size > tshape[1]:\n",
    "                                c_min = c * tile_size\n",
    "                                c_max = (c + 1) * tile_size\n",
    "                                c_max_comp = c_max\n",
    "                            else:\n",
    "                                c_min = c * tile_size\n",
    "                                c_max = (c + 1) * tile_size\n",
    "                                c_max_comp = c_max + buff_size\n",
    "                            for k in image_dict:\n",
    "                                if k == 'rgb':\n",
    "                                    image_sub_dict[k] = image_dict[k][:,\n",
    "                                                                      slice(max(0, r_min-buff_size), r_max_comp),\n",
    "                                                                      slice(max(0, c_min-buff_size), c_max_comp)].astype('float32')\n",
    "                                else:\n",
    "                                    image_sub_dict[k] = image_dict[k][slice(max(0, r_min-buff_size), r_max_comp),\n",
    "                                                                      slice(max(0, c_min-buff_size), c_max_comp)].astype('float32')\n",
    "                                if len(image_sub_dict[k].shape) == 2:\n",
    "                                    image_sub_dict[k] = np.expand_dims(image_sub_dict[k], 0)\n",
    "                                if np.all(np.isnan(image_sub_dict[k])):\n",
    "                                    continue\n",
    "                                elif np.any(np.isnan(image_sub_dict[k])):\n",
    "                                    for i in range(image_sub_dict[k].shape[0]):\n",
    "                                        if np.any(np.isnan(image_sub_dict[k][i, :, :])):\n",
    "                                            data = image_sub_dict[k][i, :, :].copy()\n",
    "                                            mask = np.where(~np.isnan(data))\n",
    "                                            interp = NearestNDInterpolator(np.transpose(mask), data[mask])\n",
    "                                            image_sub_dict[k][i, :, :] = interp(*np.indices(data.shape))\n",
    "                                            del data, mask, interp\n",
    "    \n",
    "                            if np.any([np.all(np.isnan(image_sub_dict[k])) for k in image_sub_dict]):\n",
    "                                pr_mask[r_min:r_max, c_min:c_max] = np.nan\n",
    "                                continue\n",
    "                            else:\n",
    "                                if preprocess:\n",
    "                                    for i in image_sub_dict:\n",
    "                                        image_sub_dict[i] = normalize_fn(image_sub_dict[i], i, image_stats)\n",
    "                                image_list = [image_sub_dict[i] for i in inputs_fnl]\n",
    "                                image_out = np.concatenate(image_list, axis=0)\n",
    "                                x_tensor = torch.from_numpy(image_out).to(DEVICE).unsqueeze(0)\n",
    "                                if type(best_model) == nn.DataParallel:\n",
    "                                    pred_tmp = best_model.module.predict(x_tensor).cpu().detach().numpy().squeeze() >= prob_thresh\n",
    "                                    buff_r_min = buff_size * int(r_min-buff_size > 0)\n",
    "                                    buff_r_max = buff_size * int(r_max+buff_size <= tshape[0])\n",
    "                                    buff_c_min = buff_size * int(c_min-buff_size > 0)\n",
    "                                    buff_c_max = buff_size * int(c_max+buff_size <= tshape[1])\n",
    "                                    if pred_tmp.shape[1] > tile_size:\n",
    "                                        pr_mask[r_min:r_max, c_min:c_max] = pred_tmp[buff_r_min:pred_tmp.shape[0]-buff_r_max,\n",
    "                                                                                     buff_c_min:pred_tmp.shape[1]-buff_c_max]\n",
    "                                    else:\n",
    "                                        pr_mask[r_min:r_max, c_min:c_max] = pred_tmp\n",
    "                                else:\n",
    "                                    pred_tmp = best_model.predict(x_tensor).cpu().detach().numpy().squeeze() >= prob_thresh\n",
    "                                    buff_r_min = buff_size * int(r_min-buff_size > 0)\n",
    "                                    buff_r_max = buff_size * int(r_max+buff_size <= tshape[0])\n",
    "                                    buff_c_min = buff_size * int(c_min-buff_size > 0)\n",
    "                                    buff_c_max = buff_size * int(c_max+buff_size <= tshape[1])\n",
    "                                    if pred_tmp.shape[1] > tile_size:\n",
    "                                        pr_mask[r_min:r_max, c_min:c_max] = pred_tmp[buff_r_min:pred_tmp.shape[0]-buff_r_max,\n",
    "                                                                                     buff_c_min:pred_tmp.shape[1]-buff_c_max]\n",
    "                                    else:\n",
    "                                        pr_mask[r_min:r_max, c_min:c_max] = pred_tmp\n",
    "                    t2=time.time()\n",
    "                    #print('... completed in', round(t2 - t1, 1), 'secs')\n",
    "                    t1 = time.time()\n",
    "                    #print('getting burrow locations')\n",
    "                    if np.all(pr_mask == 0):\n",
    "                        gdf_tmp = gpd.GeoDataFrame(data=pd.DataFrame({'area': ''}, index=[r_ct_pred]))\n",
    "                        gdf_tmp['tile_row'] = full_r\n",
    "                        gdf_tmp['tile_col'] =  full_c\n",
    "                        gdf_tmp['tile_size'] = full_tile_size\n",
    "                        gdf_out = pd.concat([gdf_out, gdf_tmp])\n",
    "                        del gdf_tmp\n",
    "                        r_ct_pred += 1\n",
    "                    else:\n",
    "                        pr_labels = label(pr_mask)\n",
    "                        pr_regions = regionprops(pr_labels)\n",
    "                        pr_regions = [r for r in pr_regions if (r.area*(res_fnl/100)**2 > 0.05) & (r.area*(res_fnl/100)**2 < 5.0)]\n",
    "                        if len(pr_regions) == 0:\n",
    "                            #print('no burrow locations found!')\n",
    "                            gdf_tmp = gpd.GeoDataFrame(data=pd.DataFrame({'area': ''}, index=[r_ct_pred]))\n",
    "                            gdf_tmp['tile_row'] = full_r\n",
    "                            gdf_tmp['tile_col'] =  full_c\n",
    "                            gdf_tmp['tile_size'] = full_tile_size\n",
    "                            gdf_out = pd.concat([gdf_out, gdf_tmp])\n",
    "                            del gdf_tmp\n",
    "                            r_ct_pred += 1\n",
    "                        else:\n",
    "                            r_ct_tile = 0\n",
    "                            for r in pr_regions:\n",
    "                                gdf_tmp = gpd.GeoDataFrame(data=pd.DataFrame({'area': r.area}, \n",
    "                                                                             index=[r_ct_pred]), \n",
    "                                                           geometry=[Point([ll[0] + r.centroid[1]*(res_fnl*0.01),\n",
    "                                                                            ul[1] - r.centroid[0]*(res_fnl*0.01)])], \n",
    "                                                           crs='EPSG:32613')\n",
    "                                if gdf_tmp.geometry.within(tile_poly).values[0]:\n",
    "                                    gdf_tmp['tile_row'] = full_r\n",
    "                                    gdf_tmp['tile_col'] =  full_c\n",
    "                                    gdf_tmp['tile_size'] = full_tile_size\n",
    "                                    gdf_out = pd.concat([gdf_out, gdf_tmp])\n",
    "                                    r_ct_tile += 1\n",
    "                                if type(gdf_out) is pd.core.frame.DataFrame:\n",
    "                                    gdf_out = gpd.GeoDataFrame(gdf_out, geometry = gdf_out['geometry'])\n",
    "                                del gdf_tmp\n",
    "                                r_ct_pred += 1\n",
    "                            if r_ct_tile == 0:\n",
    "                                gdf_tmp = gpd.GeoDataFrame(data=pd.DataFrame({'area': ''}, index=[r_ct_pred]))\n",
    "                                gdf_tmp['tile_row'] = full_r\n",
    "                                gdf_tmp['tile_col'] =  full_c\n",
    "                                gdf_tmp['tile_size'] = full_tile_size\n",
    "                                gdf_out = pd.concat([gdf_out, gdf_tmp])\n",
    "                                del gdf_tmp\n",
    "                                r_ct_pred += 1\n",
    "                        t2=time.time()\n",
    "                        #print('... completed in', round(t2 - t1, 1), 'secs')\n",
    "                    if type(gdf_out) is pd.core.frame.DataFrame:\n",
    "                        gdf_out.to_csv(re.sub('.shp', '.csv', outSHP), index=False)\n",
    "                    else:\n",
    "                        gdf_out.to_file(outSHP)\n",
    "                    try:\n",
    "                        del pr_mask, pred_tmp, pr_labels, pr_regions, image_dict, image_sub_dict, image_list, image_out\n",
    "                    except NameError:\n",
    "                        pass\n",
    "                    gc.collect()\n",
    "                    client.run(gc.collect)\n",
    "                    client.run(trim_memory)\n",
    "                    if (tile_ct > 0) & (tile_ct % 15 == 0):\n",
    "                        try:\n",
    "                            client.restart(timeout=9)\n",
    "                            time.sleep(10)\n",
    "                        except TimeoutError:\n",
    "                            client.shutdown()\n",
    "                            client.close()\n",
    "                            cluster = LocalCluster(n_workers=8, threads_per_worker=2, processes=True)\n",
    "                            client = Client(cluster)\n",
    "                            client.amm.start()\n",
    "\n",
    "                    #client.restart()\n",
    "                except NoDataInBounds:\n",
    "                    gdf_tmp = gpd.GeoDataFrame(data=pd.DataFrame({'area': ''}, index=[r_ct_pred]))\n",
    "                    gdf_tmp['tile_row'] = full_r\n",
    "                    gdf_tmp['tile_col'] =  full_c\n",
    "                    gdf_tmp['tile_size'] = full_tile_size\n",
    "                    gdf_out = pd.concat([gdf_out, gdf_tmp])\n",
    "                    del gdf_tmp\n",
    "                    r_ct_pred += 1\n",
    "                    if type(gdf_out) is pd.core.frame.DataFrame:\n",
    "                        gdf_out.to_csv(re.sub('.shp', '.csv', outSHP), index=False)\n",
    "                    else:\n",
    "                        gdf_out.to_file(outSHP)\n",
    "                    continue\n",
    "                    #print('No data in bounds. Skipping row/column.')\n",
    "            tile_ct += 1\n",
    "        #if not '_'.join([str(full_r), str(full_c)]) in rc_completed:\n",
    "    print('Pasture-group finished!')\n",
    "    try:\n",
    "        client.restart(timeout=9)\n",
    "        time.sleep(10)\n",
    "    except TimeoutError:\n",
    "        client.shutdown()\n",
    "        client.close()\n",
    "        cluster = LocalCluster(n_workers=8, threads_per_worker=2, processes=True)\n",
    "        client = Client(cluster)\n",
    "        client.amm.start()\n"
   ]
  },
  {
   "cell_type": "code",
   "execution_count": null,
   "id": "68a0aa95-9252-47d2-8282-5852faa70c8c",
   "metadata": {},
   "outputs": [],
   "source": []
  }
 ],
 "metadata": {
  "kernelspec": {
   "display_name": "Python 3 (ipykernel)",
   "language": "python",
   "name": "python3"
  },
  "language_info": {
   "codemirror_mode": {
    "name": "ipython",
    "version": 3
   },
   "file_extension": ".py",
   "mimetype": "text/x-python",
   "name": "python",
   "nbconvert_exporter": "python",
   "pygments_lexer": "ipython3",
   "version": "3.9.13"
  }
 },
 "nbformat": 4,
 "nbformat_minor": 5
}
