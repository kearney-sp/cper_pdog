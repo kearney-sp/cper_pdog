{
 "cells": [
  {
   "cell_type": "code",
   "execution_count": 1,
   "id": "9e2bd11b-adb7-44d3-a1a9-137a83606ab5",
   "metadata": {},
   "outputs": [],
   "source": [
    "from shapely.geometry import Polygon, Point\n",
    "import itertools\n",
    "import geopandas as gpd\n",
    "import pandas as pd\n",
    "import rasterio as rio\n",
    "from rasterio.features import rasterize\n",
    "from rasterio import mask\n",
    "from rasterio.plot import show\n",
    "from rasterio.enums import Resampling\n",
    "import matplotlib.pyplot as plt\n",
    "from skimage.measure import label, regionprops\n",
    "import torch.nn as nn\n",
    "import numpy as np\n",
    "import shapely.wkt as wkt\n",
    "import torch\n",
    "import segmentation_models_pytorch as smp\n",
    "from segmentation_models_pytorch import utils\n",
    "from tqdm import tqdm\n",
    "from skimage.measure import label, regionprops\n",
    "import os\n",
    "import dask\n",
    "import time\n",
    "import gc\n",
    "import re\n",
    "from rioxarray.exceptions import NoDataInBounds\n",
    "from rioxarray.merge import merge_arrays\n",
    "from scipy.interpolate import NearestNDInterpolator"
   ]
  },
  {
   "cell_type": "code",
   "execution_count": 2,
   "id": "aa0f21d8-4da6-493f-8aef-c6deed579977",
   "metadata": {},
   "outputs": [
    {
     "data": {
      "text/plain": [
       "<dask.config.set at 0x7f74347a8d00>"
      ]
     },
     "execution_count": 2,
     "metadata": {},
     "output_type": "execute_result"
    }
   ],
   "source": [
    "import distributed\n",
    "dask.config.set({\"distributed.nanny.environ.MALLOC_TRIM_THRESHOLD_\": 0})\n",
    "dask.config.set(scheduler='processes')"
   ]
  },
  {
   "cell_type": "code",
   "execution_count": 3,
   "id": "2e85d291-0187-49a8-8933-6b50f0dad9a5",
   "metadata": {},
   "outputs": [
    {
     "name": "stdout",
     "output_type": "stream",
     "text": [
      "0\n"
     ]
    }
   ],
   "source": [
    "import ctypes\n",
    "\n",
    "def trim_memory() -> int:\n",
    "    libc = ctypes.CDLL(\"libc.so.6\")\n",
    "    return libc.malloc_trim(0)\n",
    "\n",
    "os.environ[\"MALLOC_TRIM_THRESHOLD_\"] = str(dask.config.get(\"distributed.nanny.environ.MALLOC_TRIM_THRESHOLD_\"))\n",
    "\n",
    "print(os.environ[\"MALLOC_TRIM_THRESHOLD_\"])\n",
    "\n",
    "#os.environ[\"MALLOC_TRIM_THRESHOLD_\"] = '0'"
   ]
  },
  {
   "cell_type": "code",
   "execution_count": 4,
   "id": "ea00fa48-5d5e-4a18-a5f5-a5f4c338d448",
   "metadata": {},
   "outputs": [],
   "source": [
    "import xarray as xr\n",
    "import rioxarray as riox\n",
    "from xrspatial import convolution, focal, hillshade\n",
    "from skimage.transform import resize\n",
    "from dask.distributed import LocalCluster, Client"
   ]
  },
  {
   "cell_type": "code",
   "execution_count": 5,
   "id": "f0d6c4e7-b288-4279-826d-39975e5db58c",
   "metadata": {},
   "outputs": [
    {
     "data": {
      "text/html": [
       "<div>\n",
       "    <div style=\"width: 24px; height: 24px; background-color: #e1e1e1; border: 3px solid #9D9D9D; border-radius: 5px; position: absolute;\"> </div>\n",
       "    <div style=\"margin-left: 48px;\">\n",
       "        <h3 style=\"margin-bottom: 0px;\">Client</h3>\n",
       "        <p style=\"color: #9D9D9D; margin-bottom: 0px;\">Client-eff43e2d-4679-11ed-9ae1-00155d70908c</p>\n",
       "        <table style=\"width: 100%; text-align: left;\">\n",
       "\n",
       "        <tr>\n",
       "        \n",
       "            <td style=\"text-align: left;\"><strong>Connection method:</strong> Cluster object</td>\n",
       "            <td style=\"text-align: left;\"><strong>Cluster type:</strong> distributed.LocalCluster</td>\n",
       "        \n",
       "        </tr>\n",
       "\n",
       "        \n",
       "            <tr>\n",
       "                <td style=\"text-align: left;\">\n",
       "                    <strong>Dashboard: </strong> <a href=\"http://127.0.0.1:8787/status\" target=\"_blank\">http://127.0.0.1:8787/status</a>\n",
       "                </td>\n",
       "                <td style=\"text-align: left;\"></td>\n",
       "            </tr>\n",
       "        \n",
       "\n",
       "        </table>\n",
       "\n",
       "        \n",
       "            <details>\n",
       "            <summary style=\"margin-bottom: 20px;\"><h3 style=\"display: inline;\">Cluster Info</h3></summary>\n",
       "            <div class=\"jp-RenderedHTMLCommon jp-RenderedHTML jp-mod-trusted jp-OutputArea-output\">\n",
       "    <div style=\"width: 24px; height: 24px; background-color: #e1e1e1; border: 3px solid #9D9D9D; border-radius: 5px; position: absolute;\">\n",
       "    </div>\n",
       "    <div style=\"margin-left: 48px;\">\n",
       "        <h3 style=\"margin-bottom: 0px; margin-top: 0px;\">LocalCluster</h3>\n",
       "        <p style=\"color: #9D9D9D; margin-bottom: 0px;\">60378d17</p>\n",
       "        <table style=\"width: 100%; text-align: left;\">\n",
       "            <tr>\n",
       "                <td style=\"text-align: left;\">\n",
       "                    <strong>Dashboard:</strong> <a href=\"http://127.0.0.1:8787/status\" target=\"_blank\">http://127.0.0.1:8787/status</a>\n",
       "                </td>\n",
       "                <td style=\"text-align: left;\">\n",
       "                    <strong>Workers:</strong> 8\n",
       "                </td>\n",
       "            </tr>\n",
       "            <tr>\n",
       "                <td style=\"text-align: left;\">\n",
       "                    <strong>Total threads:</strong> 16\n",
       "                </td>\n",
       "                <td style=\"text-align: left;\">\n",
       "                    <strong>Total memory:</strong> 15.49 GiB\n",
       "                </td>\n",
       "            </tr>\n",
       "            \n",
       "            <tr>\n",
       "    <td style=\"text-align: left;\"><strong>Status:</strong> running</td>\n",
       "    <td style=\"text-align: left;\"><strong>Using processes:</strong> True</td>\n",
       "</tr>\n",
       "\n",
       "            \n",
       "        </table>\n",
       "\n",
       "        <details>\n",
       "            <summary style=\"margin-bottom: 20px;\">\n",
       "                <h3 style=\"display: inline;\">Scheduler Info</h3>\n",
       "            </summary>\n",
       "\n",
       "            <div style=\"\">\n",
       "    <div>\n",
       "        <div style=\"width: 24px; height: 24px; background-color: #FFF7E5; border: 3px solid #FF6132; border-radius: 5px; position: absolute;\"> </div>\n",
       "        <div style=\"margin-left: 48px;\">\n",
       "            <h3 style=\"margin-bottom: 0px;\">Scheduler</h3>\n",
       "            <p style=\"color: #9D9D9D; margin-bottom: 0px;\">Scheduler-0e02ea4f-fb1e-4a5d-8876-4416c7c67bc7</p>\n",
       "            <table style=\"width: 100%; text-align: left;\">\n",
       "                <tr>\n",
       "                    <td style=\"text-align: left;\">\n",
       "                        <strong>Comm:</strong> tcp://127.0.0.1:34861\n",
       "                    </td>\n",
       "                    <td style=\"text-align: left;\">\n",
       "                        <strong>Workers:</strong> 8\n",
       "                    </td>\n",
       "                </tr>\n",
       "                <tr>\n",
       "                    <td style=\"text-align: left;\">\n",
       "                        <strong>Dashboard:</strong> <a href=\"http://127.0.0.1:8787/status\" target=\"_blank\">http://127.0.0.1:8787/status</a>\n",
       "                    </td>\n",
       "                    <td style=\"text-align: left;\">\n",
       "                        <strong>Total threads:</strong> 16\n",
       "                    </td>\n",
       "                </tr>\n",
       "                <tr>\n",
       "                    <td style=\"text-align: left;\">\n",
       "                        <strong>Started:</strong> Just now\n",
       "                    </td>\n",
       "                    <td style=\"text-align: left;\">\n",
       "                        <strong>Total memory:</strong> 15.49 GiB\n",
       "                    </td>\n",
       "                </tr>\n",
       "            </table>\n",
       "        </div>\n",
       "    </div>\n",
       "\n",
       "    <details style=\"margin-left: 48px;\">\n",
       "        <summary style=\"margin-bottom: 20px;\">\n",
       "            <h3 style=\"display: inline;\">Workers</h3>\n",
       "        </summary>\n",
       "\n",
       "        \n",
       "        <div style=\"margin-bottom: 20px;\">\n",
       "            <div style=\"width: 24px; height: 24px; background-color: #DBF5FF; border: 3px solid #4CC9FF; border-radius: 5px; position: absolute;\"> </div>\n",
       "            <div style=\"margin-left: 48px;\">\n",
       "            <details>\n",
       "                <summary>\n",
       "                    <h4 style=\"margin-bottom: 0px; display: inline;\">Worker: 0</h4>\n",
       "                </summary>\n",
       "                <table style=\"width: 100%; text-align: left;\">\n",
       "                    <tr>\n",
       "                        <td style=\"text-align: left;\">\n",
       "                            <strong>Comm: </strong> tcp://127.0.0.1:39587\n",
       "                        </td>\n",
       "                        <td style=\"text-align: left;\">\n",
       "                            <strong>Total threads: </strong> 2\n",
       "                        </td>\n",
       "                    </tr>\n",
       "                    <tr>\n",
       "                        <td style=\"text-align: left;\">\n",
       "                            <strong>Dashboard: </strong> <a href=\"http://127.0.0.1:37781/status\" target=\"_blank\">http://127.0.0.1:37781/status</a>\n",
       "                        </td>\n",
       "                        <td style=\"text-align: left;\">\n",
       "                            <strong>Memory: </strong> 1.94 GiB\n",
       "                        </td>\n",
       "                    </tr>\n",
       "                    <tr>\n",
       "                        <td style=\"text-align: left;\">\n",
       "                            <strong>Nanny: </strong> tcp://127.0.0.1:43255\n",
       "                        </td>\n",
       "                        <td style=\"text-align: left;\"></td>\n",
       "                    </tr>\n",
       "                    <tr>\n",
       "                        <td colspan=\"2\" style=\"text-align: left;\">\n",
       "                            <strong>Local directory: </strong> /mnt/c/Users/TBGPEA-Sean/git_repos/cper_pdog_uas/dask-worker-space/worker-gmwpq4iw\n",
       "                        </td>\n",
       "                    </tr>\n",
       "\n",
       "                    \n",
       "\n",
       "                    \n",
       "\n",
       "                </table>\n",
       "            </details>\n",
       "            </div>\n",
       "        </div>\n",
       "        \n",
       "        <div style=\"margin-bottom: 20px;\">\n",
       "            <div style=\"width: 24px; height: 24px; background-color: #DBF5FF; border: 3px solid #4CC9FF; border-radius: 5px; position: absolute;\"> </div>\n",
       "            <div style=\"margin-left: 48px;\">\n",
       "            <details>\n",
       "                <summary>\n",
       "                    <h4 style=\"margin-bottom: 0px; display: inline;\">Worker: 1</h4>\n",
       "                </summary>\n",
       "                <table style=\"width: 100%; text-align: left;\">\n",
       "                    <tr>\n",
       "                        <td style=\"text-align: left;\">\n",
       "                            <strong>Comm: </strong> tcp://127.0.0.1:41849\n",
       "                        </td>\n",
       "                        <td style=\"text-align: left;\">\n",
       "                            <strong>Total threads: </strong> 2\n",
       "                        </td>\n",
       "                    </tr>\n",
       "                    <tr>\n",
       "                        <td style=\"text-align: left;\">\n",
       "                            <strong>Dashboard: </strong> <a href=\"http://127.0.0.1:39295/status\" target=\"_blank\">http://127.0.0.1:39295/status</a>\n",
       "                        </td>\n",
       "                        <td style=\"text-align: left;\">\n",
       "                            <strong>Memory: </strong> 1.94 GiB\n",
       "                        </td>\n",
       "                    </tr>\n",
       "                    <tr>\n",
       "                        <td style=\"text-align: left;\">\n",
       "                            <strong>Nanny: </strong> tcp://127.0.0.1:37603\n",
       "                        </td>\n",
       "                        <td style=\"text-align: left;\"></td>\n",
       "                    </tr>\n",
       "                    <tr>\n",
       "                        <td colspan=\"2\" style=\"text-align: left;\">\n",
       "                            <strong>Local directory: </strong> /mnt/c/Users/TBGPEA-Sean/git_repos/cper_pdog_uas/dask-worker-space/worker-466jmqdz\n",
       "                        </td>\n",
       "                    </tr>\n",
       "\n",
       "                    \n",
       "\n",
       "                    \n",
       "\n",
       "                </table>\n",
       "            </details>\n",
       "            </div>\n",
       "        </div>\n",
       "        \n",
       "        <div style=\"margin-bottom: 20px;\">\n",
       "            <div style=\"width: 24px; height: 24px; background-color: #DBF5FF; border: 3px solid #4CC9FF; border-radius: 5px; position: absolute;\"> </div>\n",
       "            <div style=\"margin-left: 48px;\">\n",
       "            <details>\n",
       "                <summary>\n",
       "                    <h4 style=\"margin-bottom: 0px; display: inline;\">Worker: 2</h4>\n",
       "                </summary>\n",
       "                <table style=\"width: 100%; text-align: left;\">\n",
       "                    <tr>\n",
       "                        <td style=\"text-align: left;\">\n",
       "                            <strong>Comm: </strong> tcp://127.0.0.1:40741\n",
       "                        </td>\n",
       "                        <td style=\"text-align: left;\">\n",
       "                            <strong>Total threads: </strong> 2\n",
       "                        </td>\n",
       "                    </tr>\n",
       "                    <tr>\n",
       "                        <td style=\"text-align: left;\">\n",
       "                            <strong>Dashboard: </strong> <a href=\"http://127.0.0.1:35369/status\" target=\"_blank\">http://127.0.0.1:35369/status</a>\n",
       "                        </td>\n",
       "                        <td style=\"text-align: left;\">\n",
       "                            <strong>Memory: </strong> 1.94 GiB\n",
       "                        </td>\n",
       "                    </tr>\n",
       "                    <tr>\n",
       "                        <td style=\"text-align: left;\">\n",
       "                            <strong>Nanny: </strong> tcp://127.0.0.1:43343\n",
       "                        </td>\n",
       "                        <td style=\"text-align: left;\"></td>\n",
       "                    </tr>\n",
       "                    <tr>\n",
       "                        <td colspan=\"2\" style=\"text-align: left;\">\n",
       "                            <strong>Local directory: </strong> /mnt/c/Users/TBGPEA-Sean/git_repos/cper_pdog_uas/dask-worker-space/worker-_9qz5kpe\n",
       "                        </td>\n",
       "                    </tr>\n",
       "\n",
       "                    \n",
       "\n",
       "                    \n",
       "\n",
       "                </table>\n",
       "            </details>\n",
       "            </div>\n",
       "        </div>\n",
       "        \n",
       "        <div style=\"margin-bottom: 20px;\">\n",
       "            <div style=\"width: 24px; height: 24px; background-color: #DBF5FF; border: 3px solid #4CC9FF; border-radius: 5px; position: absolute;\"> </div>\n",
       "            <div style=\"margin-left: 48px;\">\n",
       "            <details>\n",
       "                <summary>\n",
       "                    <h4 style=\"margin-bottom: 0px; display: inline;\">Worker: 3</h4>\n",
       "                </summary>\n",
       "                <table style=\"width: 100%; text-align: left;\">\n",
       "                    <tr>\n",
       "                        <td style=\"text-align: left;\">\n",
       "                            <strong>Comm: </strong> tcp://127.0.0.1:34453\n",
       "                        </td>\n",
       "                        <td style=\"text-align: left;\">\n",
       "                            <strong>Total threads: </strong> 2\n",
       "                        </td>\n",
       "                    </tr>\n",
       "                    <tr>\n",
       "                        <td style=\"text-align: left;\">\n",
       "                            <strong>Dashboard: </strong> <a href=\"http://127.0.0.1:35167/status\" target=\"_blank\">http://127.0.0.1:35167/status</a>\n",
       "                        </td>\n",
       "                        <td style=\"text-align: left;\">\n",
       "                            <strong>Memory: </strong> 1.94 GiB\n",
       "                        </td>\n",
       "                    </tr>\n",
       "                    <tr>\n",
       "                        <td style=\"text-align: left;\">\n",
       "                            <strong>Nanny: </strong> tcp://127.0.0.1:44975\n",
       "                        </td>\n",
       "                        <td style=\"text-align: left;\"></td>\n",
       "                    </tr>\n",
       "                    <tr>\n",
       "                        <td colspan=\"2\" style=\"text-align: left;\">\n",
       "                            <strong>Local directory: </strong> /mnt/c/Users/TBGPEA-Sean/git_repos/cper_pdog_uas/dask-worker-space/worker-_txuu42r\n",
       "                        </td>\n",
       "                    </tr>\n",
       "\n",
       "                    \n",
       "\n",
       "                    \n",
       "\n",
       "                </table>\n",
       "            </details>\n",
       "            </div>\n",
       "        </div>\n",
       "        \n",
       "        <div style=\"margin-bottom: 20px;\">\n",
       "            <div style=\"width: 24px; height: 24px; background-color: #DBF5FF; border: 3px solid #4CC9FF; border-radius: 5px; position: absolute;\"> </div>\n",
       "            <div style=\"margin-left: 48px;\">\n",
       "            <details>\n",
       "                <summary>\n",
       "                    <h4 style=\"margin-bottom: 0px; display: inline;\">Worker: 4</h4>\n",
       "                </summary>\n",
       "                <table style=\"width: 100%; text-align: left;\">\n",
       "                    <tr>\n",
       "                        <td style=\"text-align: left;\">\n",
       "                            <strong>Comm: </strong> tcp://127.0.0.1:34031\n",
       "                        </td>\n",
       "                        <td style=\"text-align: left;\">\n",
       "                            <strong>Total threads: </strong> 2\n",
       "                        </td>\n",
       "                    </tr>\n",
       "                    <tr>\n",
       "                        <td style=\"text-align: left;\">\n",
       "                            <strong>Dashboard: </strong> <a href=\"http://127.0.0.1:36647/status\" target=\"_blank\">http://127.0.0.1:36647/status</a>\n",
       "                        </td>\n",
       "                        <td style=\"text-align: left;\">\n",
       "                            <strong>Memory: </strong> 1.94 GiB\n",
       "                        </td>\n",
       "                    </tr>\n",
       "                    <tr>\n",
       "                        <td style=\"text-align: left;\">\n",
       "                            <strong>Nanny: </strong> tcp://127.0.0.1:36847\n",
       "                        </td>\n",
       "                        <td style=\"text-align: left;\"></td>\n",
       "                    </tr>\n",
       "                    <tr>\n",
       "                        <td colspan=\"2\" style=\"text-align: left;\">\n",
       "                            <strong>Local directory: </strong> /mnt/c/Users/TBGPEA-Sean/git_repos/cper_pdog_uas/dask-worker-space/worker-44_iwsq2\n",
       "                        </td>\n",
       "                    </tr>\n",
       "\n",
       "                    \n",
       "\n",
       "                    \n",
       "\n",
       "                </table>\n",
       "            </details>\n",
       "            </div>\n",
       "        </div>\n",
       "        \n",
       "        <div style=\"margin-bottom: 20px;\">\n",
       "            <div style=\"width: 24px; height: 24px; background-color: #DBF5FF; border: 3px solid #4CC9FF; border-radius: 5px; position: absolute;\"> </div>\n",
       "            <div style=\"margin-left: 48px;\">\n",
       "            <details>\n",
       "                <summary>\n",
       "                    <h4 style=\"margin-bottom: 0px; display: inline;\">Worker: 5</h4>\n",
       "                </summary>\n",
       "                <table style=\"width: 100%; text-align: left;\">\n",
       "                    <tr>\n",
       "                        <td style=\"text-align: left;\">\n",
       "                            <strong>Comm: </strong> tcp://127.0.0.1:43465\n",
       "                        </td>\n",
       "                        <td style=\"text-align: left;\">\n",
       "                            <strong>Total threads: </strong> 2\n",
       "                        </td>\n",
       "                    </tr>\n",
       "                    <tr>\n",
       "                        <td style=\"text-align: left;\">\n",
       "                            <strong>Dashboard: </strong> <a href=\"http://127.0.0.1:46649/status\" target=\"_blank\">http://127.0.0.1:46649/status</a>\n",
       "                        </td>\n",
       "                        <td style=\"text-align: left;\">\n",
       "                            <strong>Memory: </strong> 1.94 GiB\n",
       "                        </td>\n",
       "                    </tr>\n",
       "                    <tr>\n",
       "                        <td style=\"text-align: left;\">\n",
       "                            <strong>Nanny: </strong> tcp://127.0.0.1:37379\n",
       "                        </td>\n",
       "                        <td style=\"text-align: left;\"></td>\n",
       "                    </tr>\n",
       "                    <tr>\n",
       "                        <td colspan=\"2\" style=\"text-align: left;\">\n",
       "                            <strong>Local directory: </strong> /mnt/c/Users/TBGPEA-Sean/git_repos/cper_pdog_uas/dask-worker-space/worker-cvi2rtct\n",
       "                        </td>\n",
       "                    </tr>\n",
       "\n",
       "                    \n",
       "\n",
       "                    \n",
       "\n",
       "                </table>\n",
       "            </details>\n",
       "            </div>\n",
       "        </div>\n",
       "        \n",
       "        <div style=\"margin-bottom: 20px;\">\n",
       "            <div style=\"width: 24px; height: 24px; background-color: #DBF5FF; border: 3px solid #4CC9FF; border-radius: 5px; position: absolute;\"> </div>\n",
       "            <div style=\"margin-left: 48px;\">\n",
       "            <details>\n",
       "                <summary>\n",
       "                    <h4 style=\"margin-bottom: 0px; display: inline;\">Worker: 6</h4>\n",
       "                </summary>\n",
       "                <table style=\"width: 100%; text-align: left;\">\n",
       "                    <tr>\n",
       "                        <td style=\"text-align: left;\">\n",
       "                            <strong>Comm: </strong> tcp://127.0.0.1:46565\n",
       "                        </td>\n",
       "                        <td style=\"text-align: left;\">\n",
       "                            <strong>Total threads: </strong> 2\n",
       "                        </td>\n",
       "                    </tr>\n",
       "                    <tr>\n",
       "                        <td style=\"text-align: left;\">\n",
       "                            <strong>Dashboard: </strong> <a href=\"http://127.0.0.1:39249/status\" target=\"_blank\">http://127.0.0.1:39249/status</a>\n",
       "                        </td>\n",
       "                        <td style=\"text-align: left;\">\n",
       "                            <strong>Memory: </strong> 1.94 GiB\n",
       "                        </td>\n",
       "                    </tr>\n",
       "                    <tr>\n",
       "                        <td style=\"text-align: left;\">\n",
       "                            <strong>Nanny: </strong> tcp://127.0.0.1:33121\n",
       "                        </td>\n",
       "                        <td style=\"text-align: left;\"></td>\n",
       "                    </tr>\n",
       "                    <tr>\n",
       "                        <td colspan=\"2\" style=\"text-align: left;\">\n",
       "                            <strong>Local directory: </strong> /mnt/c/Users/TBGPEA-Sean/git_repos/cper_pdog_uas/dask-worker-space/worker-7xm8z213\n",
       "                        </td>\n",
       "                    </tr>\n",
       "\n",
       "                    \n",
       "\n",
       "                    \n",
       "\n",
       "                </table>\n",
       "            </details>\n",
       "            </div>\n",
       "        </div>\n",
       "        \n",
       "        <div style=\"margin-bottom: 20px;\">\n",
       "            <div style=\"width: 24px; height: 24px; background-color: #DBF5FF; border: 3px solid #4CC9FF; border-radius: 5px; position: absolute;\"> </div>\n",
       "            <div style=\"margin-left: 48px;\">\n",
       "            <details>\n",
       "                <summary>\n",
       "                    <h4 style=\"margin-bottom: 0px; display: inline;\">Worker: 7</h4>\n",
       "                </summary>\n",
       "                <table style=\"width: 100%; text-align: left;\">\n",
       "                    <tr>\n",
       "                        <td style=\"text-align: left;\">\n",
       "                            <strong>Comm: </strong> tcp://127.0.0.1:40403\n",
       "                        </td>\n",
       "                        <td style=\"text-align: left;\">\n",
       "                            <strong>Total threads: </strong> 2\n",
       "                        </td>\n",
       "                    </tr>\n",
       "                    <tr>\n",
       "                        <td style=\"text-align: left;\">\n",
       "                            <strong>Dashboard: </strong> <a href=\"http://127.0.0.1:45761/status\" target=\"_blank\">http://127.0.0.1:45761/status</a>\n",
       "                        </td>\n",
       "                        <td style=\"text-align: left;\">\n",
       "                            <strong>Memory: </strong> 1.94 GiB\n",
       "                        </td>\n",
       "                    </tr>\n",
       "                    <tr>\n",
       "                        <td style=\"text-align: left;\">\n",
       "                            <strong>Nanny: </strong> tcp://127.0.0.1:39203\n",
       "                        </td>\n",
       "                        <td style=\"text-align: left;\"></td>\n",
       "                    </tr>\n",
       "                    <tr>\n",
       "                        <td colspan=\"2\" style=\"text-align: left;\">\n",
       "                            <strong>Local directory: </strong> /mnt/c/Users/TBGPEA-Sean/git_repos/cper_pdog_uas/dask-worker-space/worker-zs9o7f_0\n",
       "                        </td>\n",
       "                    </tr>\n",
       "\n",
       "                    \n",
       "\n",
       "                    \n",
       "\n",
       "                </table>\n",
       "            </details>\n",
       "            </div>\n",
       "        </div>\n",
       "        \n",
       "\n",
       "    </details>\n",
       "</div>\n",
       "\n",
       "        </details>\n",
       "    </div>\n",
       "</div>\n",
       "            </details>\n",
       "        \n",
       "\n",
       "    </div>\n",
       "</div>"
      ],
      "text/plain": [
       "<Client: 'tcp://127.0.0.1:34861' processes=8 threads=16, memory=15.49 GiB>"
      ]
     },
     "metadata": {},
     "output_type": "display_data"
    }
   ],
   "source": [
    "cluster = LocalCluster(n_workers=8, threads_per_worker=2, processes=True)\n",
    "client = Client(cluster)\n",
    "client.amm.start()\n",
    "display(client)"
   ]
  },
  {
   "cell_type": "code",
   "execution_count": 6,
   "id": "8f525e70-71fa-4741-985d-96ff430aeb82",
   "metadata": {},
   "outputs": [],
   "source": [
    "# create function to normalize all data in range 0-1\n",
    "def normalize_fn(image, image_suffix, stats_dict):\n",
    "    if image_suffix in stats_dict.keys():\n",
    "        min_tmp = stats_dict[image_suffix]['min']\n",
    "        max_tmp = stats_dict[image_suffix]['max']\n",
    "    else:\n",
    "        # normalize to individual image if min/max stats not specified in dictionary\n",
    "        min_tmp = np.min(image)\n",
    "        max_tmp = np.max(image)\n",
    "    return (image - min_tmp) / (max_tmp - min_tmp)\n",
    "\n",
    "def calc_tpi(dtm, inner_r, outer_r, interpolate=True, values=True, bounds=(-2.0, 3.0), fillna=None):\n",
    "    cellsize_x, cellsize_y = convolution.calc_cellsize(dtm)\n",
    "    kernel = convolution.annulus_kernel(cellsize_x, cellsize_y, outer_r, inner_r)\n",
    "    tpi = dtm - focal.apply(dtm, kernel)\n",
    "    tpi = tpi.rio.write_nodata(-9999.)\n",
    "    tpi = tpi.where((tpi > bounds[0]) & (tpi < bounds[1]))\n",
    "    if interpolate:\n",
    "        if tpi.isnull().any().values:\n",
    "            tpi = tpi.rio.interpolate_na(method='nearest')\n",
    "    if fillna is not None:\n",
    "        tpi = tpi.fillna(fillna)\n",
    "    if values:\n",
    "        return tpi.values\n",
    "    else:\n",
    "        return tpi\n",
    "\n",
    "def calc_ndvi(ms, interpolate=True, values=True, fillna=None):\n",
    "    ndvi = (ms.sel(band=4).astype('float32') - ms.sel(band=3).astype('float32'))\\\n",
    "            / (ms.sel(band=4).astype('float32') + ms.sel(band=3).astype('float32'))\n",
    "    ndvi = ndvi.rio.write_nodata(-9999.)\n",
    "    ndvi = ndvi.where(ndvi != -9999.)\n",
    "    if interpolate:\n",
    "        if ndvi.isnull().any().values:\n",
    "            ndvi = ndvi.rio.interpolate_na(method='nearest')\n",
    "    if fillna is not None:\n",
    "        ndvi = ndvi.fillna(fillna)\n",
    "    if values:\n",
    "        return ndvi.values\n",
    "    else:\n",
    "        return ndvi"
   ]
  },
  {
   "cell_type": "code",
   "execution_count": 7,
   "id": "a1f35503-1a23-405a-b4db-0ccd6bf58e62",
   "metadata": {},
   "outputs": [],
   "source": [
    "from collections import namedtuple\n",
    "from operator import mul\n",
    "\n",
    "try:\n",
    "    reduce = reduce\n",
    "except NameError:\n",
    "    from functools import reduce # py3k\n",
    "\n",
    "Info = namedtuple('Info', 'start height')\n",
    "\n",
    "def max_size(mat, value=0):\n",
    "    \"\"\"Find height, width of the largest rectangle containing all `value`'s.\n",
    "    For each row solve \"Largest Rectangle in a Histrogram\" problem [1]:\n",
    "    [1]: http://blog.csdn.net/arbuckle/archive/2006/05/06/710988.aspx\n",
    "    \"\"\"\n",
    "    it = iter(mat)\n",
    "    hist = [(el==value) for el in next(it, [])]\n",
    "    max_size = max_rectangle_size(hist)\n",
    "    for row in it:\n",
    "        hist = [(1+h) if el == value else 0 for h, el in zip(hist, row)]\n",
    "        max_size = max(max_size, max_rectangle_size(hist), key=area)\n",
    "    return max_size\n",
    "\n",
    "def max_rectangle_size(histogram):\n",
    "    \"\"\"Find height, width of the largest rectangle that fits entirely under\n",
    "    the histogram.\n",
    "    >>> f = max_rectangle_size\n",
    "    >>> f([5,3,1])\n",
    "    (3, 2)\n",
    "    >>> f([1,3,5])\n",
    "    (3, 2)\n",
    "    >>> f([3,1,5])\n",
    "    (5, 1)\n",
    "    >>> f([4,8,3,2,0])\n",
    "    (3, 3)\n",
    "    >>> f([4,8,3,1,1,0])\n",
    "    (3, 3)\n",
    "    >>> f([1,2,1])\n",
    "    (1, 3)\n",
    "    Algorithm is \"Linear search using a stack of incomplete subproblems\" [1].\n",
    "    [1]: http://blog.csdn.net/arbuckle/archive/2006/05/06/710988.aspx\n",
    "    \"\"\"\n",
    "    stack = []\n",
    "    top = lambda: stack[-1]\n",
    "    max_size = (0, 0) # height, width of the largest rectangle\n",
    "    pos = 0 # current position in the histogram\n",
    "    for pos, height in enumerate(histogram):\n",
    "        start = pos # position where rectangle starts\n",
    "        while True:\n",
    "            if not stack or height > top().height:\n",
    "                stack.append(Info(start, height)) # push\n",
    "            elif stack and height < top().height:\n",
    "                max_size = max(max_size, (top().height, (pos - top().start)),\n",
    "                               key=area)\n",
    "                start, _ = stack.pop()\n",
    "                continue\n",
    "            break # height == top().height goes here\n",
    "\n",
    "    pos += 1\n",
    "    for start, height in stack:\n",
    "        max_size = max(max_size, (height, (pos - start)), key=area)\n",
    "\n",
    "    return max_size\n",
    "\n",
    "def area(size):\n",
    "    return reduce(mul, size)"
   ]
  },
  {
   "cell_type": "code",
   "execution_count": 8,
   "id": "8e63c3c8-46cd-4c0b-adda-d02fd9219f5e",
   "metadata": {},
   "outputs": [],
   "source": [
    "outDIR = './cnn_pred_results/'\n",
    "if not os.path.exists(outDIR):\n",
    "    os.mkdir(outDIR)"
   ]
  },
  {
   "cell_type": "code",
   "execution_count": 9,
   "id": "464c6224-dea0-47b1-80eb-45b6b6a4df16",
   "metadata": {},
   "outputs": [],
   "source": [
    "ENCODER = 'resnet34'\n",
    "ENCODER_WEIGHTS = 'imagenet'\n",
    "CLASSES = ['burrow']\n",
    "ACTIVATION = 'sigmoid' # could be None for logits or 'softmax2d' for multiclass segmentation\n",
    "DEVICE = 'cuda' #'cuda'# 'cpu'# \n",
    "model_fnl = 'deeplabplus'\n",
    "res_fnl = 5\n",
    "inputs_fnl = ['rgb', 'tpi', 'ndvi'] \n",
    "preprocess = True\n",
    "prob_thresh = 0.5"
   ]
  },
  {
   "cell_type": "code",
   "execution_count": 10,
   "id": "ef26cdc0-afc6-4b9e-9f92-36793028623f",
   "metadata": {},
   "outputs": [],
   "source": [
    "size_dict = {\n",
    "    2: {'tile_size': 256,\n",
    "        'buff_size': 64},\n",
    "    5: {'tile_size': 192,\n",
    "        'buff_size': 48},\n",
    "    10: {'tile_size': 128,\n",
    "         'buff_size': 32},\n",
    "    15: {'tile_size': 96,\n",
    "         'buff_size': 16},\n",
    "    30: {'tile_size': 64,\n",
    "         'buff_size': 16}\n",
    "}"
   ]
  },
  {
   "cell_type": "code",
   "execution_count": 11,
   "id": "67df3061-2ae6-445d-8a2f-2224a273dcfa",
   "metadata": {},
   "outputs": [],
   "source": [
    "past_subset = None\n",
    "#past_subset = ['22W']\n",
    "\n",
    "baseDIR = '/mnt/d/'\n",
    "\n",
    "img_f_dict = {\n",
    "    '5W': {\n",
    "        'rgb': [os.path.join(baseDIR, '202109/outputs/202109_5W_RGB/CPER_202109_5W_RGB_ortho.tif')],\n",
    "        'ms': [os.path.join(baseDIR, '202109/outputs/202109_5W_MS/CPER_202109_5W_MS_ortho.tif')],\n",
    "        'dsm': [os.path.join(baseDIR, '202109/outputs/202109_5W_RGB/CPER_202109_5W_RGB_dsm.tif')]\n",
    "    },\n",
    "    '29-30': {\n",
    "        'rgb': [os.path.join(baseDIR, '202109/outputs/202109_29_30_RGB/CPER_202109_29_30_RGB_ortho.tif')],\n",
    "        'ms': [os.path.join(baseDIR, '202109/outputs/202109_29_30_MS/CPER_202109_29_30_North_MS_ortho.tif'),\n",
    "              os.path.join(baseDIR, '202109/outputs/202109_29_30_MS/CPER_202109_29_30_South_MS_ortho.tif')],\n",
    "        'dsm': [os.path.join(baseDIR, '202109/outputs/202109_29_30_RGB/CPER_202109_29_30_RGB_DSM.tif')]\n",
    "    },\n",
    "    '22W': {\n",
    "        'rgb': [os.path.join(baseDIR, '202109/outputs/202109_22EW/CPER_202109_22EW_Flight1_RGB_ortho.tif'),\n",
    "               os.path.join(baseDIR, '202109/outputs/202109_22EW/CPER_202109_22EW_Flight2_RGB_ortho.tif')],\n",
    "        'ms': [os.path.join(baseDIR, '202109/outputs/202109_22EW/CPER_202109_22EW_Flight1_MS_ortho.tif'),\n",
    "               os.path.join(baseDIR, '202109/outputs/202109_22EW/CPER_202109_22EW_Flight2_MS_ortho.tif')],\n",
    "        'dsm': [os.path.join(baseDIR, '202109/outputs/202109_22EW/CPER_202109_22EW_Flight1_RGB_DSM.tif'),\n",
    "                os.path.join(baseDIR, '202109/outputs/202109_22EW/CPER_202109_22EW_Flight2_RGB_DSM.tif')]\n",
    "    },\n",
    "    '22E': {\n",
    "        'rgb': [os.path.join(baseDIR, '202109/outputs/202109_22EW/CPER_202109_22EW_Flight1_RGB_ortho.tif'),\n",
    "               os.path.join(baseDIR, '202109/outputs/202109_22EW/CPER_202109_22EW_Flight2_RGB_ortho.tif'),\n",
    "               os.path.join(baseDIR, '202109/outputs/202109_22EW/CPER_202109_22EW_Flight3_RGB_ortho.tif')],\n",
    "        'ms': [os.path.join(baseDIR, '202109/outputs/202109_22EW/CPER_202109_22EW_Flight1_MS_ortho.tif'),\n",
    "               os.path.join(baseDIR, '202109/outputs/202109_22EW/CPER_202109_22EW_Flight2_MS_ortho.tif')],\n",
    "        'dsm': [os.path.join(baseDIR, '202109/outputs/202109_22EW/CPER_202109_22EW_Flight1_RGB_DSM.tif'),\n",
    "               os.path.join(baseDIR, '202109/outputs/202109_22EW/CPER_202109_22EW_Flight2_RGB_DSM.tif'),\n",
    "               os.path.join(baseDIR, '202109/outputs/202109_22EW/CPER_202109_22EW_Flight3_RGB_DSM.tif')]\n",
    "    },\n",
    "    'CN': {\n",
    "        'rgb': [os.path.join(baseDIR, '202109/outputs/202109_CN_RGB/Orthos/CPER_CN_Flight2_202109_RGB_ortho.tif'),\n",
    "               os.path.join(baseDIR, '202109/outputs/202109_CN_RGB/Orthos/CPER_CN_Flight3_202109_RGB_ortho.tif'),\n",
    "               os.path.join(baseDIR, '202109/outputs/202109_CN_RGB/Orthos/CPER_CN_Flight4_202109_RGB_ortho.tif'),\n",
    "               os.path.join(baseDIR, '202109/outputs/202109_CN_RGB/Orthos/CPER_CN_Flight5_202109_RGB_ortho.tif')],\n",
    "        'ms': [os.path.join(baseDIR, '202109/outputs/202109_CN_MS/CPER_202109_CN_Flight2_MS_ortho.tif'),\n",
    "              os.path.join(baseDIR, '202109/outputs/202109_CN_MS/CPER_202109_CN_Flight3_MS_ortho.tif'),\n",
    "              os.path.join(baseDIR, '202109/outputs/202109_CN_MS/CPER_202109_CN_Flight4_MS_ortho.tif'),],\n",
    "        'dsm': [os.path.join(baseDIR, '202109/outputs/202109_CN_RGB/DSMs/CPER_CN_Flight2_202109_RGB_DSM.tif'),\n",
    "               os.path.join(baseDIR, '202109/outputs/202109_CN_RGB/DSMs/CPER_CN_Flight3_202109_RGB_DSM.tif'),\n",
    "               os.path.join(baseDIR, '202109/outputs/202109_CN_RGB/DSMs/CPER_CN_Flight4_202109_RGB_DSM.tif'),\n",
    "               os.path.join(baseDIR, '202109/outputs/202109_CN_RGB/DSMs/CPER_CN_Flight5_202109_RGB_DSM.tif')]\n",
    "    }\n",
    "}\n",
    "\n",
    "if past_subset is not None:\n",
    "    img_f_dict_tmp = img_f_dict.copy()\n",
    "    img_f_dict = {}\n",
    "    for k in img_f_dict_tmp:\n",
    "         if k in past_subset:\n",
    "                img_f_dict[k] = img_f_dict_tmp[k]\n",
    "\n",
    "cper_f = '/mnt/c/Users/TBGPEA-Sean/Desktop/Pdogs_UAS/cper_pdog_pastures_2017_clip.shp'"
   ]
  },
  {
   "cell_type": "code",
   "execution_count": 12,
   "id": "d75f0f45-d52c-48f8-853b-7404abd75ec1",
   "metadata": {},
   "outputs": [],
   "source": [
    "full_buff_size = 10\n",
    "full_tile_size = 150\n",
    "tile_size = size_dict[res_fnl]['tile_size']\n",
    "buff_size = size_dict[res_fnl]['buff_size']\n",
    "chunk_size = 250\n",
    "buff_size_m = np.ceil(buff_size * res_fnl * 0.01)"
   ]
  },
  {
   "cell_type": "code",
   "execution_count": 13,
   "id": "001cb02e-10b7-4fd3-bc0d-10832aff67aa",
   "metadata": {},
   "outputs": [],
   "source": [
    "# load best saved checkpoint\n",
    "if res_fnl == 2:\n",
    "    best_model = torch.load('./cnn_results_' + model_fnl + '_' + str(res_fnl) + 'cm/best_model_' + '_'.join(inputs_fnl) + '.pth')\n",
    "else:\n",
    "    best_model = torch.load('./cnn_results_' + model_fnl + '_' + str(res_fnl) + 'cm/best_model_' + '_'.join(inputs_fnl) + '_' + str(res_fnl) + 'cm.pth')\n",
    "\n",
    "if DEVICE == 'cpu':\n",
    "    best_model = best_model.cpu()\n",
    "best_model.eval()\n",
    "\n",
    "# load the image stats from the training data\n",
    "df_image_stats = pd.read_csv('./_utils/image_stats_2cm.csv').set_index('stat')\n",
    "\n",
    "# convert image stats dictionary to dataframe\n",
    "image_stats = {i: {'min': df_image_stats.loc['min', i],\n",
    "                   'max': df_image_stats.loc['max', i]} for i in df_image_stats.columns}"
   ]
  },
  {
   "cell_type": "code",
   "execution_count": null,
   "id": "d5e43d7a-2fa6-4585-a712-7144e6a41d92",
   "metadata": {
    "scrolled": true,
    "tags": []
   },
   "outputs": [
    {
     "name": "stderr",
     "output_type": "stream",
     "text": [
      "  0%|                                                                                             | 0/5 [00:00<?, ?it/s]"
     ]
    },
    {
     "name": "stdout",
     "output_type": "stream",
     "text": [
      "\n",
      "\n",
      "----------\n",
      "Pasture: 5W\n",
      "running row: 1 of 11\n"
     ]
    },
    {
     "name": "stderr",
     "output_type": "stream",
     "text": [
      "\n",
      "  0%|                                                                                             | 0/6 [00:00<?, ?it/s]\u001b[A"
     ]
    },
    {
     "name": "stdout",
     "output_type": "stream",
     "text": [
      "getting RGB\n",
      "creating RGB list\n",
      "masking\n",
      "writing nodata\n",
      "merging\n",
      "masking\n",
      "... completed in 8.8 secs\n",
      "getting DSM\n",
      "... completed in 0.9 secs\n",
      "computing TPI\n",
      "... completed in 9.9 secs\n",
      "computing NDVI\n",
      "... completed in 1.9 secs\n",
      "predicting binary burrow image\n",
      "... completed in 8.2 secs\n",
      "getting burrow locations\n",
      "... completed in 0.7 secs\n"
     ]
    },
    {
     "name": "stderr",
     "output_type": "stream",
     "text": [
      "\n",
      " 17%|██████████████▏                                                                      | 1/6 [00:30<02:34, 30.81s/it]\u001b[A"
     ]
    },
    {
     "name": "stdout",
     "output_type": "stream",
     "text": [
      "getting RGB\n",
      "creating RGB list\n",
      "masking\n",
      "writing nodata\n",
      "merging\n",
      "masking\n",
      "... completed in 8.9 secs\n",
      "getting DSM\n",
      "... completed in 0.8 secs\n",
      "computing TPI\n",
      "... completed in 5.9 secs\n",
      "computing NDVI\n",
      "... completed in 1.5 secs\n",
      "predicting binary burrow image\n",
      "... completed in 7.2 secs\n",
      "getting burrow locations\n",
      "... completed in 0.7 secs\n"
     ]
    },
    {
     "name": "stderr",
     "output_type": "stream",
     "text": [
      "\n",
      " 33%|████████████████████████████▎                                                        | 2/6 [00:56<01:51, 27.77s/it]\u001b[A"
     ]
    },
    {
     "name": "stdout",
     "output_type": "stream",
     "text": [
      "getting RGB\n",
      "creating RGB list\n",
      "masking\n",
      "writing nodata\n",
      "merging\n",
      "masking\n",
      "... completed in 8.9 secs\n",
      "getting DSM\n",
      "... completed in 0.8 secs\n",
      "computing TPI\n",
      "... completed in 6.1 secs\n",
      "computing NDVI\n",
      "... completed in 1.5 secs\n",
      "predicting binary burrow image\n",
      "... completed in 6.1 secs\n",
      "getting burrow locations\n",
      "... completed in 0.8 secs\n"
     ]
    },
    {
     "name": "stderr",
     "output_type": "stream",
     "text": [
      "\n",
      " 50%|██████████████████████████████████████████▌                                          | 3/6 [01:21<01:19, 26.56s/it]\u001b[A"
     ]
    },
    {
     "name": "stdout",
     "output_type": "stream",
     "text": [
      "getting RGB\n",
      "creating RGB list\n",
      "masking\n",
      "writing nodata\n",
      "merging\n",
      "masking\n",
      "... completed in 9.6 secs\n",
      "getting DSM\n",
      "... completed in 0.8 secs\n",
      "computing TPI\n",
      "... completed in 5.8 secs\n",
      "computing NDVI\n",
      "... completed in 1.4 secs\n",
      "predicting binary burrow image\n",
      "... completed in 4.8 secs\n",
      "getting burrow locations\n",
      "... completed in 1.0 secs\n"
     ]
    },
    {
     "name": "stderr",
     "output_type": "stream",
     "text": [
      "\n",
      " 67%|████████████████████████████████████████████████████████▋                            | 4/6 [01:46<00:51, 25.77s/it]\u001b[A"
     ]
    },
    {
     "name": "stdout",
     "output_type": "stream",
     "text": [
      "getting RGB\n",
      "creating RGB list\n",
      "masking\n",
      "writing nodata\n",
      "merging\n",
      "masking\n",
      "... completed in 8.9 secs\n",
      "getting DSM\n",
      "... completed in 0.8 secs\n",
      "computing TPI\n",
      "... completed in 5.7 secs\n",
      "computing NDVI\n",
      "... completed in 1.4 secs\n",
      "predicting binary burrow image\n",
      "... completed in 4.8 secs\n",
      "getting burrow locations\n",
      "... completed in 0.8 secs\n"
     ]
    },
    {
     "name": "stderr",
     "output_type": "stream",
     "text": [
      "\n",
      " 83%|██████████████████████████████████████████████████████████████████████▊              | 5/6 [02:09<00:25, 25.08s/it]\u001b[A"
     ]
    },
    {
     "name": "stdout",
     "output_type": "stream",
     "text": [
      "getting RGB\n",
      "creating RGB list\n",
      "masking\n",
      "writing nodata\n",
      "merging\n",
      "masking\n",
      "... completed in 9.4 secs\n",
      "getting DSM\n",
      "... completed in 0.7 secs\n",
      "computing TPI\n",
      "... completed in 6.3 secs\n",
      "computing NDVI\n",
      "... completed in 1.6 secs\n",
      "predicting binary burrow image\n",
      "... completed in 9.6 secs\n",
      "getting burrow locations\n",
      "... completed in 0.8 secs\n"
     ]
    },
    {
     "name": "stderr",
     "output_type": "stream",
     "text": [
      "\n",
      "100%|█████████████████████████████████████████████████████████████████████████████████████| 6/6 [02:39<00:00, 26.67s/it]\u001b[A\n"
     ]
    },
    {
     "name": "stdout",
     "output_type": "stream",
     "text": [
      "running row: 2 of 11\n"
     ]
    },
    {
     "name": "stderr",
     "output_type": "stream",
     "text": [
      "\n",
      "  0%|                                                                                             | 0/6 [00:00<?, ?it/s]\u001b[A"
     ]
    },
    {
     "name": "stdout",
     "output_type": "stream",
     "text": [
      "getting RGB\n",
      "creating RGB list\n",
      "masking\n",
      "writing nodata\n",
      "merging\n",
      "masking\n",
      "... completed in 9.4 secs\n",
      "getting DSM\n",
      "... completed in 0.7 secs\n",
      "computing TPI\n",
      "... completed in 6.1 secs\n",
      "computing NDVI\n",
      "... completed in 1.7 secs\n",
      "predicting binary burrow image\n",
      "... completed in 4.4 secs\n",
      "getting burrow locations\n",
      "... completed in 0.5 secs\n"
     ]
    },
    {
     "name": "stderr",
     "output_type": "stream",
     "text": [
      "\n",
      " 17%|██████████████▏                                                                      | 1/6 [00:24<02:02, 24.50s/it]\u001b[A"
     ]
    },
    {
     "name": "stdout",
     "output_type": "stream",
     "text": [
      "getting RGB\n",
      "creating RGB list\n",
      "masking\n",
      "writing nodata\n",
      "merging\n",
      "masking\n",
      "... completed in 9.2 secs\n",
      "getting DSM\n",
      "... completed in 0.8 secs\n",
      "computing TPI\n",
      "... completed in 6.4 secs\n",
      "computing NDVI\n",
      "... completed in 1.3 secs\n",
      "predicting binary burrow image\n",
      "... completed in 7.7 secs\n",
      "getting burrow locations\n",
      "... completed in 1.1 secs\n"
     ]
    },
    {
     "name": "stderr",
     "output_type": "stream",
     "text": [
      "\n",
      " 33%|████████████████████████████▎                                                        | 2/6 [00:52<01:46, 26.75s/it]\u001b[A"
     ]
    },
    {
     "name": "stdout",
     "output_type": "stream",
     "text": [
      "getting RGB\n",
      "creating RGB list\n",
      "masking\n",
      "writing nodata\n",
      "merging\n",
      "masking\n",
      "... completed in 9.1 secs\n",
      "getting DSM\n",
      "... completed in 0.8 secs\n",
      "computing TPI\n",
      "... completed in 6.8 secs\n",
      "computing NDVI\n",
      "... completed in 1.4 secs\n",
      "predicting binary burrow image\n",
      "... completed in 6.5 secs\n",
      "getting burrow locations\n",
      "... completed in 0.8 secs\n"
     ]
    },
    {
     "name": "stderr",
     "output_type": "stream",
     "text": [
      "\n",
      " 50%|██████████████████████████████████████████▌                                          | 3/6 [01:20<01:21, 27.13s/it]\u001b[A"
     ]
    },
    {
     "name": "stdout",
     "output_type": "stream",
     "text": [
      "getting RGB\n",
      "creating RGB list\n",
      "masking\n",
      "writing nodata\n",
      "merging\n",
      "masking\n",
      "... completed in 11.0 secs\n",
      "getting DSM\n",
      "... completed in 0.9 secs\n",
      "computing TPI\n",
      "... completed in 6.3 secs\n",
      "computing NDVI\n",
      "... completed in 1.5 secs\n",
      "predicting binary burrow image\n",
      "... completed in 5.4 secs\n",
      "getting burrow locations\n",
      "... completed in 1.1 secs\n"
     ]
    },
    {
     "name": "stderr",
     "output_type": "stream",
     "text": [
      "\n",
      " 67%|████████████████████████████████████████████████████████▋                            | 4/6 [01:49<00:55, 27.75s/it]\u001b[A"
     ]
    },
    {
     "name": "stdout",
     "output_type": "stream",
     "text": [
      "getting RGB\n",
      "creating RGB list\n",
      "masking\n",
      "writing nodata\n",
      "merging\n",
      "masking\n",
      "... completed in 10.4 secs\n",
      "getting DSM\n",
      "... completed in 0.8 secs\n",
      "computing TPI\n",
      "... completed in 6.5 secs\n",
      "computing NDVI\n",
      "... completed in 1.4 secs\n",
      "predicting binary burrow image\n",
      "... completed in 4.7 secs\n",
      "getting burrow locations\n",
      "... completed in 1.0 secs\n"
     ]
    },
    {
     "name": "stderr",
     "output_type": "stream",
     "text": [
      "\n",
      " 83%|██████████████████████████████████████████████████████████████████████▊              | 5/6 [02:16<00:27, 27.55s/it]\u001b[A"
     ]
    },
    {
     "name": "stdout",
     "output_type": "stream",
     "text": [
      "getting RGB\n",
      "creating RGB list\n",
      "masking\n",
      "writing nodata\n",
      "merging\n",
      "masking\n",
      "... completed in 11.0 secs\n",
      "getting DSM\n",
      "... completed in 0.7 secs\n",
      "computing TPI\n",
      "... completed in 6.2 secs\n",
      "computing NDVI\n",
      "... completed in 1.5 secs\n",
      "predicting binary burrow image\n",
      "... completed in 7.9 secs\n",
      "getting burrow locations\n",
      "... completed in 0.9 secs\n"
     ]
    },
    {
     "name": "stderr",
     "output_type": "stream",
     "text": [
      "\n",
      "100%|█████████████████████████████████████████████████████████████████████████████████████| 6/6 [02:47<00:00, 27.88s/it]\u001b[A\n"
     ]
    },
    {
     "name": "stdout",
     "output_type": "stream",
     "text": [
      "running row: 3 of 11\n"
     ]
    },
    {
     "name": "stderr",
     "output_type": "stream",
     "text": [
      "\n",
      "  0%|                                                                                             | 0/6 [00:00<?, ?it/s]\u001b[A"
     ]
    },
    {
     "name": "stdout",
     "output_type": "stream",
     "text": [
      "getting RGB\n",
      "creating RGB list\n",
      "masking\n",
      "writing nodata\n",
      "merging\n",
      "masking\n",
      "... completed in 9.7 secs\n",
      "getting DSM\n",
      "... completed in 0.8 secs\n",
      "computing TPI\n",
      "... completed in 6.2 secs\n",
      "computing NDVI\n",
      "... completed in 1.8 secs\n",
      "predicting binary burrow image\n",
      "... completed in 3.2 secs\n",
      "getting burrow locations\n",
      "... completed in 0.4 secs\n"
     ]
    },
    {
     "name": "stderr",
     "output_type": "stream",
     "text": [
      "\n",
      " 17%|██████████████▏                                                                      | 1/6 [00:25<02:06, 25.24s/it]\u001b[A"
     ]
    },
    {
     "name": "stdout",
     "output_type": "stream",
     "text": [
      "getting RGB\n",
      "creating RGB list\n",
      "masking\n",
      "writing nodata\n",
      "merging\n",
      "masking\n",
      "... completed in 10.8 secs\n",
      "getting DSM\n",
      "... completed in 0.8 secs\n",
      "computing TPI\n",
      "... completed in 7.4 secs\n",
      "computing NDVI\n",
      "... completed in 1.6 secs\n",
      "predicting binary burrow image\n",
      "... completed in 6.3 secs\n",
      "getting burrow locations\n",
      "... completed in 0.4 secs\n"
     ]
    },
    {
     "name": "stderr",
     "output_type": "stream",
     "text": [
      "\n",
      " 33%|████████████████████████████▎                                                        | 2/6 [00:55<01:52, 28.17s/it]\u001b[A"
     ]
    },
    {
     "name": "stdout",
     "output_type": "stream",
     "text": [
      "getting RGB\n",
      "creating RGB list\n",
      "masking\n",
      "writing nodata\n",
      "merging\n",
      "masking\n",
      "... completed in 9.2 secs\n",
      "getting DSM\n",
      "... completed in 0.7 secs\n",
      "computing TPI\n",
      "... completed in 6.5 secs\n",
      "computing NDVI\n",
      "... completed in 2.0 secs\n",
      "predicting binary burrow image\n",
      "... completed in 5.1 secs\n",
      "getting burrow locations\n",
      "... completed in 0.7 secs\n"
     ]
    },
    {
     "name": "stderr",
     "output_type": "stream",
     "text": [
      "\n",
      " 50%|██████████████████████████████████████████▌                                          | 3/6 [01:22<01:23, 27.84s/it]\u001b[A"
     ]
    },
    {
     "name": "stdout",
     "output_type": "stream",
     "text": [
      "getting RGB\n",
      "creating RGB list\n",
      "masking\n",
      "writing nodata\n",
      "merging\n",
      "masking\n",
      "... completed in 10.2 secs\n",
      "getting DSM\n",
      "... completed in 0.8 secs\n",
      "computing TPI\n",
      "... completed in 7.0 secs\n",
      "computing NDVI\n",
      "... completed in 1.6 secs\n",
      "predicting binary burrow image\n",
      "... completed in 3.7 secs\n",
      "getting burrow locations\n",
      "... completed in 0.8 secs\n"
     ]
    },
    {
     "name": "stderr",
     "output_type": "stream",
     "text": [
      "distributed.nanny - WARNING - Worker exceeded 95% memory budget. Restarting\n",
      "distributed.client - ERROR - Restart timed out after 9.00 seconds\n",
      "\n",
      " 67%|████████████████████████████████████████████████████████▋                            | 4/6 [02:09<01:10, 35.30s/it]\u001b[A"
     ]
    },
    {
     "name": "stdout",
     "output_type": "stream",
     "text": [
      "getting RGB\n",
      "creating RGB list\n",
      "masking\n",
      "writing nodata\n",
      "merging\n",
      "masking\n",
      "... completed in 9.1 secs\n",
      "getting DSM\n",
      "... completed in 0.7 secs\n",
      "computing TPI\n",
      "... completed in 10.9 secs\n",
      "computing NDVI\n",
      "... completed in 1.5 secs\n",
      "predicting binary burrow image\n",
      "... completed in 3.7 secs\n",
      "getting burrow locations\n",
      "... completed in 1.3 secs\n"
     ]
    },
    {
     "name": "stderr",
     "output_type": "stream",
     "text": [
      "\n",
      " 83%|██████████████████████████████████████████████████████████████████████▊              | 5/6 [02:41<00:34, 34.21s/it]\u001b[A"
     ]
    },
    {
     "name": "stdout",
     "output_type": "stream",
     "text": [
      "getting RGB\n",
      "creating RGB list\n",
      "masking\n",
      "writing nodata\n",
      "merging\n",
      "masking\n",
      "... completed in 10.1 secs\n",
      "getting DSM\n",
      "... completed in 0.7 secs\n",
      "computing TPI\n",
      "... completed in 6.6 secs\n",
      "computing NDVI\n",
      "... completed in 1.8 secs\n",
      "predicting binary burrow image\n",
      "... completed in 6.9 secs\n",
      "getting burrow locations\n",
      "... completed in 1.1 secs\n"
     ]
    },
    {
     "name": "stderr",
     "output_type": "stream",
     "text": [
      "\n",
      "100%|█████████████████████████████████████████████████████████████████████████████████████| 6/6 [03:13<00:00, 32.20s/it]\u001b[A\n"
     ]
    },
    {
     "name": "stdout",
     "output_type": "stream",
     "text": [
      "running row: 4 of 11\n"
     ]
    },
    {
     "name": "stderr",
     "output_type": "stream",
     "text": [
      "\n",
      "  0%|                                                                                             | 0/6 [00:00<?, ?it/s]\u001b[A"
     ]
    },
    {
     "name": "stdout",
     "output_type": "stream",
     "text": [
      "getting RGB\n",
      "creating RGB list\n",
      "masking\n",
      "writing nodata\n",
      "merging\n",
      "masking\n",
      "... completed in 10.3 secs\n",
      "getting DSM\n",
      "... completed in 0.7 secs\n",
      "computing TPI\n",
      "... completed in 6.8 secs\n",
      "computing NDVI\n",
      "... completed in 1.9 secs\n",
      "predicting binary burrow image\n",
      "... completed in 3.7 secs\n",
      "getting burrow locations\n",
      "... completed in 0.3 secs\n"
     ]
    },
    {
     "name": "stderr",
     "output_type": "stream",
     "text": [
      "\n",
      " 17%|██████████████▏                                                                      | 1/6 [00:27<02:19, 27.90s/it]\u001b[A"
     ]
    },
    {
     "name": "stdout",
     "output_type": "stream",
     "text": [
      "getting RGB\n",
      "creating RGB list\n",
      "masking\n",
      "writing nodata\n",
      "merging\n",
      "masking\n",
      "... completed in 11.1 secs\n",
      "getting DSM\n",
      "... completed in 0.8 secs\n",
      "computing TPI\n",
      "... completed in 6.3 secs\n",
      "computing NDVI\n",
      "... completed in 1.9 secs\n",
      "predicting binary burrow image\n",
      "... completed in 7.5 secs\n",
      "getting burrow locations\n",
      "... completed in 0.2 secs\n"
     ]
    },
    {
     "name": "stderr",
     "output_type": "stream",
     "text": [
      "\n",
      " 33%|████████████████████████████▎                                                        | 2/6 [00:59<02:01, 30.28s/it]\u001b[A"
     ]
    },
    {
     "name": "stdout",
     "output_type": "stream",
     "text": [
      "getting RGB\n",
      "creating RGB list\n",
      "masking\n",
      "writing nodata\n",
      "merging\n",
      "masking\n",
      "... completed in 10.3 secs\n",
      "getting DSM\n",
      "... completed in 0.7 secs\n",
      "computing TPI\n",
      "... completed in 6.0 secs\n",
      "computing NDVI\n",
      "... completed in 1.8 secs\n",
      "predicting binary burrow image\n",
      "... completed in 5.1 secs\n",
      "getting burrow locations\n",
      "... completed in 0.3 secs\n"
     ]
    },
    {
     "name": "stderr",
     "output_type": "stream",
     "text": [
      "\n",
      " 50%|██████████████████████████████████████████▌                                          | 3/6 [01:27<01:27, 29.30s/it]\u001b[A"
     ]
    },
    {
     "name": "stdout",
     "output_type": "stream",
     "text": [
      "getting RGB\n",
      "creating RGB list\n",
      "masking\n",
      "writing nodata\n",
      "merging\n",
      "masking\n",
      "... completed in 11.0 secs\n",
      "getting DSM\n",
      "... completed in 0.7 secs\n",
      "computing TPI\n",
      "... completed in 5.9 secs\n",
      "computing NDVI\n",
      "... completed in 1.5 secs\n",
      "predicting binary burrow image\n",
      "... completed in 3.2 secs\n",
      "getting burrow locations\n",
      "... completed in 0.7 secs\n"
     ]
    },
    {
     "name": "stderr",
     "output_type": "stream",
     "text": [
      "\n",
      " 67%|████████████████████████████████████████████████████████▋                            | 4/6 [01:55<00:57, 28.56s/it]\u001b[A"
     ]
    },
    {
     "name": "stdout",
     "output_type": "stream",
     "text": [
      "getting RGB\n",
      "creating RGB list\n",
      "masking\n",
      "writing nodata\n",
      "merging\n",
      "masking\n",
      "... completed in 9.0 secs\n",
      "getting DSM\n",
      "... completed in 0.8 secs\n",
      "computing TPI\n",
      "... completed in 6.1 secs\n",
      "computing NDVI\n",
      "... completed in 1.4 secs\n",
      "predicting binary burrow image\n",
      "... completed in 3.9 secs\n",
      "getting burrow locations\n",
      "... completed in 0.7 secs\n"
     ]
    },
    {
     "name": "stderr",
     "output_type": "stream",
     "text": [
      "\n",
      " 83%|██████████████████████████████████████████████████████████████████████▊              | 5/6 [02:21<00:27, 27.79s/it]\u001b[A"
     ]
    },
    {
     "name": "stdout",
     "output_type": "stream",
     "text": [
      "getting RGB\n",
      "creating RGB list\n",
      "masking\n",
      "writing nodata\n",
      "merging\n",
      "masking\n",
      "... completed in 9.5 secs\n",
      "getting DSM\n",
      "... completed in 0.7 secs\n",
      "computing TPI\n",
      "... completed in 7.2 secs\n",
      "computing NDVI\n",
      "... completed in 1.7 secs\n",
      "predicting binary burrow image\n",
      "... completed in 6.2 secs\n",
      "getting burrow locations\n",
      "... completed in 0.9 secs\n"
     ]
    },
    {
     "name": "stderr",
     "output_type": "stream",
     "text": [
      "\n",
      "100%|█████████████████████████████████████████████████████████████████████████████████████| 6/6 [02:52<00:00, 28.77s/it]\u001b[A\n"
     ]
    },
    {
     "name": "stdout",
     "output_type": "stream",
     "text": [
      "running row: 5 of 11\n"
     ]
    },
    {
     "name": "stderr",
     "output_type": "stream",
     "text": [
      "\n",
      "  0%|                                                                                             | 0/6 [00:00<?, ?it/s]\u001b[A"
     ]
    },
    {
     "name": "stdout",
     "output_type": "stream",
     "text": [
      "getting RGB\n",
      "creating RGB list\n",
      "masking\n",
      "writing nodata\n",
      "merging\n",
      "masking\n",
      "... completed in 9.1 secs\n",
      "getting DSM\n",
      "... completed in 0.8 secs\n",
      "computing TPI\n",
      "... completed in 6.5 secs\n",
      "computing NDVI\n",
      "... completed in 1.7 secs\n",
      "predicting binary burrow image\n",
      "... completed in 5.4 secs\n",
      "getting burrow locations\n",
      "... completed in 0.2 secs\n"
     ]
    },
    {
     "name": "stderr",
     "output_type": "stream",
     "text": [
      "\n",
      " 17%|██████████████▏                                                                      | 1/6 [00:28<02:22, 28.45s/it]\u001b[A"
     ]
    },
    {
     "name": "stdout",
     "output_type": "stream",
     "text": [
      "getting RGB\n",
      "creating RGB list\n",
      "masking\n",
      "writing nodata\n",
      "merging\n",
      "masking\n",
      "... completed in 10.0 secs\n",
      "getting DSM\n",
      "... completed in 0.8 secs\n",
      "computing TPI\n",
      "... completed in 6.3 secs\n",
      "computing NDVI\n",
      "... completed in 1.6 secs\n",
      "predicting binary burrow image\n",
      "... completed in 8.0 secs\n",
      "getting burrow locations\n",
      "... completed in 0.2 secs\n"
     ]
    },
    {
     "name": "stderr",
     "output_type": "stream",
     "text": [
      "\n",
      " 33%|████████████████████████████▎                                                        | 2/6 [01:00<02:01, 30.48s/it]\u001b[A"
     ]
    },
    {
     "name": "stdout",
     "output_type": "stream",
     "text": [
      "getting RGB\n",
      "creating RGB list\n",
      "masking\n",
      "writing nodata\n",
      "merging\n",
      "masking\n",
      "... completed in 9.4 secs\n",
      "getting DSM\n",
      "... completed in 0.9 secs\n",
      "computing TPI\n",
      "... completed in 6.7 secs\n",
      "computing NDVI\n",
      "... completed in 1.4 secs\n",
      "predicting binary burrow image\n",
      "... completed in 6.9 secs\n",
      "getting burrow locations\n",
      "... completed in 0.2 secs\n"
     ]
    },
    {
     "name": "stderr",
     "output_type": "stream",
     "text": [
      "\n",
      " 50%|██████████████████████████████████████████▌                                          | 3/6 [01:30<01:31, 30.39s/it]\u001b[A"
     ]
    },
    {
     "name": "stdout",
     "output_type": "stream",
     "text": [
      "getting RGB\n",
      "creating RGB list\n",
      "masking\n",
      "writing nodata\n",
      "merging\n",
      "masking\n",
      "... completed in 10.0 secs\n",
      "getting DSM\n",
      "... completed in 0.8 secs\n",
      "computing TPI\n",
      "... completed in 6.5 secs\n",
      "computing NDVI\n",
      "... completed in 1.5 secs\n",
      "predicting binary burrow image\n",
      "... completed in 5.0 secs\n",
      "getting burrow locations\n",
      "... completed in 0.4 secs\n"
     ]
    },
    {
     "name": "stderr",
     "output_type": "stream",
     "text": [
      "\n",
      " 67%|████████████████████████████████████████████████████████▋                            | 4/6 [01:59<00:59, 29.89s/it]\u001b[A"
     ]
    },
    {
     "name": "stdout",
     "output_type": "stream",
     "text": [
      "getting RGB\n",
      "creating RGB list\n",
      "masking\n",
      "writing nodata\n",
      "merging\n",
      "masking\n",
      "... completed in 9.1 secs\n",
      "getting DSM\n",
      "... completed in 0.8 secs\n",
      "computing TPI\n",
      "... completed in 6.9 secs\n",
      "computing NDVI\n",
      "... completed in 1.6 secs\n",
      "predicting binary burrow image\n",
      "... completed in 5.3 secs\n",
      "getting burrow locations\n",
      "... completed in 0.7 secs\n"
     ]
    },
    {
     "name": "stderr",
     "output_type": "stream",
     "text": [
      "\n",
      " 83%|██████████████████████████████████████████████████████████████████████▊              | 5/6 [02:29<00:29, 29.80s/it]\u001b[A"
     ]
    },
    {
     "name": "stdout",
     "output_type": "stream",
     "text": [
      "getting RGB\n",
      "creating RGB list\n",
      "masking\n",
      "writing nodata\n",
      "merging\n",
      "masking\n",
      "... completed in 9.2 secs\n",
      "getting DSM\n",
      "... completed in 0.7 secs\n",
      "computing TPI\n",
      "... completed in 7.0 secs\n",
      "computing NDVI\n",
      "... completed in 1.7 secs\n",
      "predicting binary burrow image\n",
      "... completed in 8.5 secs\n",
      "getting burrow locations\n",
      "... completed in 1.2 secs\n"
     ]
    },
    {
     "name": "stderr",
     "output_type": "stream",
     "text": [
      "\n",
      "100%|█████████████████████████████████████████████████████████████████████████████████████| 6/6 [03:02<00:00, 30.49s/it]\u001b[A\n"
     ]
    },
    {
     "name": "stdout",
     "output_type": "stream",
     "text": [
      "running row: 6 of 11\n"
     ]
    },
    {
     "name": "stderr",
     "output_type": "stream",
     "text": [
      "\n",
      "  0%|                                                                                             | 0/6 [00:00<?, ?it/s]\u001b[A"
     ]
    },
    {
     "name": "stdout",
     "output_type": "stream",
     "text": [
      "getting RGB\n",
      "creating RGB list\n",
      "masking\n",
      "writing nodata\n",
      "merging\n",
      "masking\n",
      "... completed in 9.4 secs\n",
      "getting DSM\n",
      "... completed in 0.9 secs\n",
      "computing TPI\n",
      "... completed in 6.7 secs\n",
      "computing NDVI\n",
      "... completed in 1.9 secs\n",
      "predicting binary burrow image\n",
      "... completed in 3.5 secs\n",
      "getting burrow locations\n",
      "... completed in 0.2 secs\n"
     ]
    },
    {
     "name": "stderr",
     "output_type": "stream",
     "text": [
      "\n",
      " 17%|██████████████▏                                                                      | 1/6 [00:40<03:20, 40.01s/it]\u001b[A"
     ]
    },
    {
     "name": "stdout",
     "output_type": "stream",
     "text": [
      "getting RGB\n",
      "creating RGB list\n",
      "masking\n",
      "writing nodata\n",
      "merging\n",
      "masking\n",
      "... completed in 9.5 secs\n",
      "getting DSM\n",
      "... completed in 0.8 secs\n",
      "computing TPI\n",
      "... completed in 10.7 secs\n",
      "computing NDVI\n",
      "... completed in 1.5 secs\n",
      "predicting binary burrow image\n",
      "... completed in 6.9 secs\n",
      "getting burrow locations\n",
      "... completed in 0.2 secs\n"
     ]
    },
    {
     "name": "stderr",
     "output_type": "stream",
     "text": [
      "\n",
      " 33%|████████████████████████████▎                                                        | 2/6 [01:14<02:27, 36.91s/it]\u001b[A"
     ]
    },
    {
     "name": "stdout",
     "output_type": "stream",
     "text": [
      "getting RGB\n",
      "creating RGB list\n",
      "masking\n",
      "writing nodata\n",
      "merging\n",
      "masking\n",
      "... completed in 9.1 secs\n",
      "getting DSM\n",
      "... completed in 0.8 secs\n",
      "computing TPI\n",
      "... completed in 6.9 secs\n",
      "computing NDVI\n",
      "... completed in 1.9 secs\n",
      "predicting binary burrow image\n",
      "... completed in 5.9 secs\n",
      "getting burrow locations\n",
      "... completed in 0.3 secs\n"
     ]
    },
    {
     "name": "stderr",
     "output_type": "stream",
     "text": [
      "\n",
      " 50%|██████████████████████████████████████████▌                                          | 3/6 [01:44<01:41, 33.67s/it]\u001b[A"
     ]
    },
    {
     "name": "stdout",
     "output_type": "stream",
     "text": [
      "getting RGB\n",
      "creating RGB list\n",
      "masking\n",
      "writing nodata\n",
      "merging\n",
      "masking\n",
      "... completed in 9.6 secs\n",
      "getting DSM\n",
      "... completed in 0.9 secs\n",
      "computing TPI\n",
      "... completed in 7.2 secs\n",
      "computing NDVI\n",
      "... completed in 1.6 secs\n",
      "predicting binary burrow image\n",
      "... completed in 3.9 secs\n",
      "getting burrow locations\n",
      "... completed in 0.3 secs\n"
     ]
    },
    {
     "name": "stderr",
     "output_type": "stream",
     "text": [
      "\n",
      " 67%|████████████████████████████████████████████████████████▋                            | 4/6 [02:13<01:03, 31.84s/it]\u001b[A"
     ]
    },
    {
     "name": "stdout",
     "output_type": "stream",
     "text": [
      "getting RGB\n",
      "creating RGB list\n",
      "masking\n",
      "writing nodata\n",
      "merging\n",
      "masking\n",
      "... completed in 9.4 secs\n",
      "getting DSM\n",
      "... completed in 0.7 secs\n",
      "computing TPI\n",
      "... completed in 7.0 secs\n",
      "computing NDVI\n",
      "... completed in 1.9 secs\n",
      "predicting binary burrow image\n",
      "... completed in 4.2 secs\n",
      "getting burrow locations\n",
      "... completed in 0.5 secs\n"
     ]
    },
    {
     "name": "stderr",
     "output_type": "stream",
     "text": [
      "\n",
      " 83%|██████████████████████████████████████████████████████████████████████▊              | 5/6 [02:42<00:30, 30.76s/it]\u001b[A"
     ]
    },
    {
     "name": "stdout",
     "output_type": "stream",
     "text": [
      "getting RGB\n",
      "creating RGB list\n",
      "masking\n",
      "writing nodata\n",
      "merging\n",
      "masking\n",
      "... completed in 9.8 secs\n",
      "getting DSM\n",
      "... completed in 0.8 secs\n",
      "computing TPI\n",
      "... completed in 6.2 secs\n",
      "computing NDVI\n",
      "... completed in 1.5 secs\n",
      "predicting binary burrow image\n",
      "... completed in 6.8 secs\n",
      "getting burrow locations\n",
      "... completed in 0.6 secs\n"
     ]
    },
    {
     "name": "stderr",
     "output_type": "stream",
     "text": [
      "\n",
      "100%|█████████████████████████████████████████████████████████████████████████████████████| 6/6 [03:13<00:00, 32.27s/it]\u001b[A\n"
     ]
    },
    {
     "name": "stdout",
     "output_type": "stream",
     "text": [
      "running row: 7 of 11\n"
     ]
    },
    {
     "name": "stderr",
     "output_type": "stream",
     "text": [
      "\n",
      "  0%|                                                                                             | 0/6 [00:00<?, ?it/s]\u001b[A"
     ]
    },
    {
     "name": "stdout",
     "output_type": "stream",
     "text": [
      "getting RGB\n",
      "creating RGB list\n",
      "masking\n",
      "writing nodata\n",
      "merging\n",
      "masking\n",
      "... completed in 9.5 secs\n",
      "getting DSM\n",
      "... completed in 0.9 secs\n",
      "computing TPI\n",
      "... completed in 5.9 secs\n",
      "computing NDVI\n",
      "... completed in 1.8 secs\n",
      "predicting binary burrow image\n",
      "... completed in 5.0 secs\n",
      "getting burrow locations\n",
      "... completed in 0.1 secs\n"
     ]
    },
    {
     "name": "stderr",
     "output_type": "stream",
     "text": [
      "\n",
      " 17%|██████████████▏                                                                      | 1/6 [00:28<02:24, 28.98s/it]\u001b[A"
     ]
    },
    {
     "name": "stdout",
     "output_type": "stream",
     "text": [
      "getting RGB\n",
      "creating RGB list\n",
      "masking\n",
      "writing nodata\n",
      "merging\n",
      "masking\n",
      "... completed in 9.6 secs\n",
      "getting DSM\n",
      "... completed in 0.9 secs\n",
      "computing TPI\n",
      "... completed in 6.0 secs\n",
      "computing NDVI\n",
      "... completed in 1.9 secs\n",
      "predicting binary burrow image\n",
      "... completed in 7.8 secs\n",
      "getting burrow locations\n",
      "... completed in 0.2 secs\n"
     ]
    },
    {
     "name": "stderr",
     "output_type": "stream",
     "text": [
      "\n",
      " 33%|████████████████████████████▎                                                        | 2/6 [01:00<02:02, 30.50s/it]\u001b[A"
     ]
    },
    {
     "name": "stdout",
     "output_type": "stream",
     "text": [
      "getting RGB\n",
      "creating RGB list\n",
      "masking\n",
      "writing nodata\n",
      "merging\n",
      "masking\n",
      "... completed in 8.9 secs\n",
      "getting DSM\n",
      "... completed in 0.8 secs\n",
      "computing TPI\n",
      "... completed in 6.4 secs\n",
      "computing NDVI\n",
      "... completed in 1.7 secs\n",
      "predicting binary burrow image\n",
      "... completed in 5.8 secs\n",
      "getting burrow locations\n",
      "... completed in 0.2 secs\n"
     ]
    },
    {
     "name": "stderr",
     "output_type": "stream",
     "text": [
      "\n",
      " 50%|██████████████████████████████████████████▌                                          | 3/6 [01:30<01:30, 30.03s/it]\u001b[A"
     ]
    },
    {
     "name": "stdout",
     "output_type": "stream",
     "text": [
      "getting RGB\n",
      "creating RGB list\n",
      "masking\n",
      "writing nodata\n",
      "merging\n",
      "masking\n",
      "... completed in 9.0 secs\n",
      "getting DSM\n",
      "... completed in 0.8 secs\n",
      "computing TPI\n",
      "... completed in 6.4 secs\n",
      "computing NDVI\n",
      "... completed in 1.6 secs\n",
      "predicting binary burrow image\n",
      "... completed in 4.8 secs\n",
      "getting burrow locations\n",
      "... completed in 0.6 secs\n"
     ]
    },
    {
     "name": "stderr",
     "output_type": "stream",
     "text": [
      "\n",
      " 67%|████████████████████████████████████████████████████████▋                            | 4/6 [01:59<00:59, 29.70s/it]\u001b[A"
     ]
    },
    {
     "name": "stdout",
     "output_type": "stream",
     "text": [
      "getting RGB\n",
      "creating RGB list\n",
      "masking\n",
      "writing nodata\n",
      "merging\n",
      "masking\n",
      "... completed in 9.0 secs\n",
      "getting DSM\n",
      "... completed in 0.8 secs\n",
      "computing TPI\n",
      "... completed in 5.9 secs\n",
      "computing NDVI\n",
      "... completed in 1.6 secs\n",
      "predicting binary burrow image\n",
      "... completed in 4.2 secs\n",
      "getting burrow locations\n",
      "... completed in 0.7 secs\n"
     ]
    },
    {
     "name": "stderr",
     "output_type": "stream",
     "text": [
      "\n",
      " 83%|██████████████████████████████████████████████████████████████████████▊              | 5/6 [02:27<00:29, 29.23s/it]\u001b[A"
     ]
    },
    {
     "name": "stdout",
     "output_type": "stream",
     "text": [
      "getting RGB\n",
      "creating RGB list\n",
      "masking\n",
      "writing nodata\n",
      "merging\n",
      "masking\n",
      "... completed in 9.2 secs\n",
      "getting DSM\n",
      "... completed in 0.7 secs\n",
      "computing TPI\n",
      "... completed in 5.8 secs\n",
      "computing NDVI\n",
      "... completed in 1.9 secs\n",
      "predicting binary burrow image\n",
      "... completed in 6.9 secs\n",
      "getting burrow locations\n",
      "... completed in 0.4 secs\n"
     ]
    },
    {
     "name": "stderr",
     "output_type": "stream",
     "text": [
      "\n",
      "100%|█████████████████████████████████████████████████████████████████████████████████████| 6/6 [02:58<00:00, 29.72s/it]\u001b[A\n"
     ]
    },
    {
     "name": "stdout",
     "output_type": "stream",
     "text": [
      "running row: 8 of 11\n"
     ]
    },
    {
     "name": "stderr",
     "output_type": "stream",
     "text": [
      "\n",
      "  0%|                                                                                             | 0/6 [00:00<?, ?it/s]\u001b[A"
     ]
    },
    {
     "name": "stdout",
     "output_type": "stream",
     "text": [
      "getting RGB\n",
      "creating RGB list\n",
      "masking\n",
      "writing nodata\n",
      "merging\n",
      "masking\n",
      "... completed in 9.0 secs\n",
      "getting DSM\n",
      "... completed in 0.8 secs\n",
      "computing TPI\n",
      "... completed in 5.8 secs\n",
      "computing NDVI\n",
      "... completed in 1.8 secs\n",
      "predicting binary burrow image\n",
      "... completed in 5.0 secs\n",
      "getting burrow locations\n",
      "... completed in 0.1 secs\n"
     ]
    },
    {
     "name": "stderr",
     "output_type": "stream",
     "text": [
      "\n",
      " 17%|██████████████▏                                                                      | 1/6 [00:28<02:22, 28.56s/it]\u001b[A"
     ]
    },
    {
     "name": "stdout",
     "output_type": "stream",
     "text": [
      "getting RGB\n",
      "creating RGB list\n",
      "masking\n",
      "writing nodata\n",
      "merging\n",
      "masking\n",
      "... completed in 9.6 secs\n",
      "getting DSM\n",
      "... completed in 0.8 secs\n",
      "computing TPI\n",
      "... completed in 5.9 secs\n",
      "computing NDVI\n",
      "... completed in 1.4 secs\n",
      "predicting binary burrow image\n",
      "... completed in 9.2 secs\n",
      "getting burrow locations\n",
      "... completed in 0.5 secs\n"
     ]
    },
    {
     "name": "stderr",
     "output_type": "stream",
     "text": [
      "\n",
      " 33%|████████████████████████████▎                                                        | 2/6 [01:01<02:05, 31.36s/it]\u001b[A"
     ]
    },
    {
     "name": "stdout",
     "output_type": "stream",
     "text": [
      "getting RGB\n",
      "creating RGB list\n",
      "masking\n",
      "writing nodata\n",
      "merging\n",
      "masking\n",
      "... completed in 9.0 secs\n",
      "getting DSM\n",
      "... completed in 0.8 secs\n",
      "computing TPI\n",
      "... completed in 5.5 secs\n",
      "computing NDVI\n",
      "... completed in 1.4 secs\n",
      "predicting binary burrow image\n",
      "... completed in 6.7 secs\n",
      "getting burrow locations\n",
      "... completed in 0.5 secs\n"
     ]
    },
    {
     "name": "stderr",
     "output_type": "stream",
     "text": [
      "\n",
      " 50%|██████████████████████████████████████████▌                                          | 3/6 [01:32<01:32, 30.83s/it]\u001b[A"
     ]
    },
    {
     "name": "stdout",
     "output_type": "stream",
     "text": [
      "getting RGB\n",
      "creating RGB list\n",
      "masking\n",
      "writing nodata\n",
      "merging\n",
      "masking\n",
      "... completed in 9.7 secs\n",
      "getting DSM\n",
      "... completed in 0.9 secs\n",
      "computing TPI\n",
      "... completed in 5.9 secs\n",
      "computing NDVI\n",
      "... completed in 1.5 secs\n",
      "predicting binary burrow image\n",
      "... completed in 8.0 secs\n",
      "getting burrow locations\n",
      "... completed in 0.6 secs\n"
     ]
    },
    {
     "name": "stderr",
     "output_type": "stream",
     "text": [
      "\n",
      " 67%|████████████████████████████████████████████████████████▋                            | 4/6 [02:16<01:12, 36.39s/it]\u001b[A"
     ]
    },
    {
     "name": "stdout",
     "output_type": "stream",
     "text": [
      "getting RGB\n",
      "creating RGB list\n",
      "masking\n",
      "writing nodata\n",
      "merging\n",
      "masking\n",
      "... completed in 8.7 secs\n",
      "getting DSM\n",
      "... completed in 0.8 secs\n",
      "computing TPI\n",
      "... completed in 10.2 secs\n",
      "computing NDVI\n",
      "... completed in 1.4 secs\n",
      "predicting binary burrow image\n",
      "... completed in 6.3 secs\n",
      "getting burrow locations\n",
      "... completed in 0.6 secs\n"
     ]
    },
    {
     "name": "stderr",
     "output_type": "stream",
     "text": [
      "\n",
      " 83%|██████████████████████████████████████████████████████████████████████▊              | 5/6 [02:51<00:35, 35.65s/it]\u001b[A"
     ]
    },
    {
     "name": "stdout",
     "output_type": "stream",
     "text": [
      "getting RGB\n",
      "creating RGB list\n",
      "masking\n",
      "writing nodata\n",
      "merging\n",
      "masking\n",
      "... completed in 9.4 secs\n",
      "getting DSM\n",
      "... completed in 0.8 secs\n",
      "computing TPI\n",
      "... completed in 6.5 secs\n",
      "computing NDVI\n",
      "... completed in 1.8 secs\n",
      "predicting binary burrow image\n",
      "... completed in 9.0 secs\n",
      "getting burrow locations\n",
      "... completed in 0.6 secs\n"
     ]
    },
    {
     "name": "stderr",
     "output_type": "stream",
     "text": [
      "\n",
      "100%|█████████████████████████████████████████████████████████████████████████████████████| 6/6 [03:25<00:00, 34.33s/it]\u001b[A\n"
     ]
    },
    {
     "name": "stdout",
     "output_type": "stream",
     "text": [
      "running row: 9 of 11\n"
     ]
    },
    {
     "name": "stderr",
     "output_type": "stream",
     "text": [
      "\n",
      "  0%|                                                                                             | 0/6 [00:00<?, ?it/s]\u001b[A"
     ]
    },
    {
     "name": "stdout",
     "output_type": "stream",
     "text": [
      "getting RGB\n",
      "creating RGB list\n",
      "masking\n",
      "writing nodata\n",
      "merging\n",
      "masking\n",
      "... completed in 9.4 secs\n",
      "getting DSM\n",
      "... completed in 0.8 secs\n",
      "computing TPI\n",
      "... completed in 5.7 secs\n",
      "computing NDVI\n",
      "... completed in 1.9 secs\n",
      "predicting binary burrow image\n",
      "... completed in 5.8 secs\n",
      "getting burrow locations\n",
      "... completed in 0.1 secs\n"
     ]
    },
    {
     "name": "stderr",
     "output_type": "stream",
     "text": [
      "\n",
      " 17%|██████████████▏                                                                      | 1/6 [00:30<02:30, 30.19s/it]\u001b[A"
     ]
    },
    {
     "name": "stdout",
     "output_type": "stream",
     "text": [
      "getting RGB\n",
      "creating RGB list\n",
      "masking\n",
      "writing nodata\n",
      "merging\n",
      "masking\n",
      "... completed in 8.8 secs\n",
      "getting DSM\n",
      "... completed in 0.8 secs\n",
      "computing TPI\n",
      "... completed in 5.9 secs\n",
      "computing NDVI\n",
      "... completed in 1.5 secs\n",
      "predicting binary burrow image\n",
      "... completed in 8.7 secs\n",
      "getting burrow locations\n",
      "... completed in 0.3 secs\n"
     ]
    },
    {
     "name": "stderr",
     "output_type": "stream",
     "text": [
      "\n",
      " 33%|████████████████████████████▎                                                        | 2/6 [01:02<02:06, 31.66s/it]\u001b[A"
     ]
    },
    {
     "name": "stdout",
     "output_type": "stream",
     "text": [
      "getting RGB\n",
      "creating RGB list\n",
      "masking\n",
      "writing nodata\n",
      "merging\n",
      "masking\n",
      "... completed in 8.8 secs\n",
      "getting DSM\n",
      "... completed in 0.8 secs\n",
      "computing TPI\n",
      "... completed in 6.0 secs\n",
      "computing NDVI\n",
      "... completed in 1.4 secs\n",
      "predicting binary burrow image\n",
      "... completed in 7.5 secs\n",
      "getting burrow locations\n",
      "... completed in 0.8 secs\n"
     ]
    },
    {
     "name": "stderr",
     "output_type": "stream",
     "text": [
      "\n",
      " 50%|██████████████████████████████████████████▌                                          | 3/6 [01:34<01:35, 31.79s/it]\u001b[A"
     ]
    },
    {
     "name": "stdout",
     "output_type": "stream",
     "text": [
      "getting RGB\n",
      "creating RGB list\n",
      "masking\n",
      "writing nodata\n",
      "merging\n",
      "masking\n",
      "... completed in 8.8 secs\n",
      "getting DSM\n",
      "... completed in 0.8 secs\n",
      "computing TPI\n",
      "... completed in 6.5 secs\n",
      "computing NDVI\n",
      "... completed in 1.5 secs\n",
      "predicting binary burrow image\n",
      "... completed in 5.5 secs\n",
      "getting burrow locations\n",
      "... completed in 0.6 secs\n"
     ]
    },
    {
     "name": "stderr",
     "output_type": "stream",
     "text": [
      "\n",
      " 67%|████████████████████████████████████████████████████████▋                            | 4/6 [02:05<01:03, 31.51s/it]\u001b[A"
     ]
    },
    {
     "name": "stdout",
     "output_type": "stream",
     "text": [
      "getting RGB\n",
      "creating RGB list\n",
      "masking\n",
      "writing nodata\n",
      "merging\n",
      "masking\n",
      "... completed in 9.1 secs\n",
      "getting DSM\n",
      "... completed in 0.8 secs\n",
      "computing TPI\n",
      "... completed in 6.2 secs\n",
      "computing NDVI\n",
      "... completed in 1.6 secs\n",
      "predicting binary burrow image\n",
      "... completed in 4.9 secs\n",
      "getting burrow locations\n",
      "... completed in 0.8 secs\n"
     ]
    },
    {
     "name": "stderr",
     "output_type": "stream",
     "text": [
      "\n",
      " 83%|██████████████████████████████████████████████████████████████████████▊              | 5/6 [02:36<00:31, 31.03s/it]\u001b[A"
     ]
    },
    {
     "name": "stdout",
     "output_type": "stream",
     "text": [
      "getting RGB\n",
      "creating RGB list\n",
      "masking\n",
      "writing nodata\n",
      "merging\n",
      "masking\n",
      "... completed in 9.7 secs\n",
      "getting DSM\n",
      "... completed in 0.8 secs\n",
      "computing TPI\n",
      "... completed in 6.2 secs\n",
      "computing NDVI\n",
      "... completed in 1.5 secs\n",
      "predicting binary burrow image\n",
      "... completed in 8.4 secs\n",
      "getting burrow locations\n",
      "... completed in 0.7 secs\n"
     ]
    },
    {
     "name": "stderr",
     "output_type": "stream",
     "text": [
      "\n",
      "100%|█████████████████████████████████████████████████████████████████████████████████████| 6/6 [03:10<00:00, 31.76s/it]\u001b[A\n"
     ]
    },
    {
     "name": "stdout",
     "output_type": "stream",
     "text": [
      "running row: 10 of 11\n"
     ]
    },
    {
     "name": "stderr",
     "output_type": "stream",
     "text": [
      "\n",
      "  0%|                                                                                             | 0/6 [00:00<?, ?it/s]\u001b[A"
     ]
    },
    {
     "name": "stdout",
     "output_type": "stream",
     "text": [
      "getting RGB\n",
      "creating RGB list\n",
      "masking\n",
      "writing nodata\n",
      "merging\n",
      "masking\n",
      "... completed in 8.9 secs\n",
      "getting DSM\n",
      "... completed in 0.8 secs\n",
      "computing TPI\n",
      "... completed in 5.8 secs\n",
      "computing NDVI\n",
      "... completed in 1.8 secs\n",
      "predicting binary burrow image\n",
      "... completed in 4.1 secs\n",
      "getting burrow locations\n",
      "... completed in 0.1 secs\n"
     ]
    },
    {
     "name": "stderr",
     "output_type": "stream",
     "text": [
      "\n",
      " 17%|██████████████▏                                                                      | 1/6 [00:28<02:24, 28.91s/it]\u001b[A"
     ]
    },
    {
     "name": "stdout",
     "output_type": "stream",
     "text": [
      "getting RGB\n",
      "creating RGB list\n",
      "masking\n",
      "writing nodata\n",
      "merging\n",
      "masking\n",
      "... completed in 10.3 secs\n",
      "getting DSM\n",
      "... completed in 0.8 secs\n",
      "computing TPI\n",
      "... completed in 6.2 secs\n",
      "computing NDVI\n",
      "... completed in 1.6 secs\n",
      "predicting binary burrow image\n",
      "... completed in 7.6 secs\n",
      "getting burrow locations\n",
      "... completed in 0.2 secs\n"
     ]
    },
    {
     "name": "stderr",
     "output_type": "stream",
     "text": [
      "\n",
      " 33%|████████████████████████████▎                                                        | 2/6 [01:02<02:07, 31.91s/it]\u001b[A"
     ]
    },
    {
     "name": "stdout",
     "output_type": "stream",
     "text": [
      "getting RGB\n",
      "creating RGB list\n",
      "masking\n",
      "writing nodata\n",
      "merging\n",
      "masking\n",
      "... completed in 9.4 secs\n",
      "getting DSM\n",
      "... completed in 0.8 secs\n",
      "computing TPI\n",
      "... completed in 5.7 secs\n",
      "computing NDVI\n",
      "... completed in 1.6 secs\n",
      "predicting binary burrow image\n",
      "... completed in 6.3 secs\n",
      "getting burrow locations\n",
      "... completed in 0.4 secs\n"
     ]
    },
    {
     "name": "stderr",
     "output_type": "stream",
     "text": [
      "\n",
      " 50%|██████████████████████████████████████████▌                                          | 3/6 [01:34<01:35, 31.89s/it]\u001b[A"
     ]
    },
    {
     "name": "stdout",
     "output_type": "stream",
     "text": [
      "getting RGB\n",
      "creating RGB list\n",
      "masking\n",
      "writing nodata\n",
      "merging\n",
      "masking\n",
      "... completed in 9.9 secs\n",
      "getting DSM\n",
      "... completed in 0.8 secs\n",
      "computing TPI\n",
      "... completed in 6.2 secs\n",
      "computing NDVI\n",
      "... completed in 1.4 secs\n",
      "predicting binary burrow image\n",
      "... completed in 4.9 secs\n",
      "getting burrow locations\n",
      "... completed in 0.3 secs\n"
     ]
    },
    {
     "name": "stderr",
     "output_type": "stream",
     "text": [
      "\n",
      " 67%|████████████████████████████████████████████████████████▋                            | 4/6 [02:06<01:03, 31.67s/it]\u001b[A"
     ]
    },
    {
     "name": "stdout",
     "output_type": "stream",
     "text": [
      "getting RGB\n",
      "creating RGB list\n",
      "masking\n",
      "writing nodata\n",
      "merging\n",
      "masking\n",
      "... completed in 9.5 secs\n",
      "getting DSM\n",
      "... completed in 0.8 secs\n",
      "computing TPI\n",
      "... completed in 5.8 secs\n",
      "computing NDVI\n",
      "... completed in 1.6 secs\n",
      "predicting binary burrow image\n",
      "... completed in 4.7 secs\n",
      "getting burrow locations\n",
      "... completed in 0.4 secs\n"
     ]
    },
    {
     "name": "stderr",
     "output_type": "stream",
     "text": [
      "\n",
      " 83%|██████████████████████████████████████████████████████████████████████▊              | 5/6 [02:36<00:31, 31.33s/it]\u001b[A"
     ]
    },
    {
     "name": "stdout",
     "output_type": "stream",
     "text": [
      "getting RGB\n",
      "creating RGB list\n",
      "masking\n",
      "writing nodata\n",
      "merging\n",
      "masking\n",
      "... completed in 9.9 secs\n",
      "getting DSM\n",
      "... completed in 0.7 secs\n",
      "computing TPI\n",
      "... completed in 6.2 secs\n",
      "computing NDVI\n",
      "... completed in 1.8 secs\n",
      "predicting binary burrow image\n",
      "... completed in 7.9 secs\n",
      "getting burrow locations\n",
      "... completed in 0.5 secs\n"
     ]
    },
    {
     "name": "stderr",
     "output_type": "stream",
     "text": [
      "\n",
      "100%|█████████████████████████████████████████████████████████████████████████████████████| 6/6 [03:11<00:00, 31.91s/it]\u001b[A\n"
     ]
    },
    {
     "name": "stdout",
     "output_type": "stream",
     "text": [
      "running row: 11 of 11\n"
     ]
    },
    {
     "name": "stderr",
     "output_type": "stream",
     "text": [
      "\n",
      "  0%|                                                                                             | 0/6 [00:00<?, ?it/s]\u001b[A"
     ]
    },
    {
     "name": "stdout",
     "output_type": "stream",
     "text": [
      "getting RGB\n",
      "creating RGB list\n",
      "masking\n",
      "writing nodata\n",
      "merging\n",
      "masking\n",
      "... completed in 8.7 secs\n",
      "getting DSM\n",
      "... completed in 0.8 secs\n",
      "computing TPI\n",
      "... completed in 6.2 secs\n",
      "computing NDVI\n",
      "... completed in 1.8 secs\n",
      "predicting binary burrow image\n",
      "... completed in 3.8 secs\n",
      "getting burrow locations\n",
      "... completed in 0.1 secs\n"
     ]
    },
    {
     "name": "stderr",
     "output_type": "stream",
     "text": [
      "\n",
      " 17%|██████████████▏                                                                      | 1/6 [00:41<03:27, 41.52s/it]\u001b[A"
     ]
    },
    {
     "name": "stdout",
     "output_type": "stream",
     "text": [
      "getting RGB\n",
      "creating RGB list\n",
      "masking\n",
      "writing nodata\n",
      "merging\n",
      "masking\n",
      "... completed in 9.0 secs\n",
      "getting DSM\n",
      "... completed in 0.7 secs\n",
      "computing TPI\n",
      "... completed in 10.5 secs\n",
      "computing NDVI\n",
      "... completed in 1.8 secs\n",
      "predicting binary burrow image\n",
      "... completed in 6.6 secs\n",
      "getting burrow locations\n",
      "... completed in 0.1 secs\n"
     ]
    },
    {
     "name": "stderr",
     "output_type": "stream",
     "text": [
      "\n",
      " 33%|████████████████████████████▎                                                        | 2/6 [01:18<02:35, 38.82s/it]\u001b[A"
     ]
    },
    {
     "name": "stdout",
     "output_type": "stream",
     "text": [
      "getting RGB\n",
      "creating RGB list\n",
      "masking\n",
      "writing nodata\n",
      "merging\n",
      "masking\n",
      "... completed in 8.9 secs\n",
      "getting DSM\n",
      "... completed in 0.8 secs\n",
      "computing TPI\n",
      "... completed in 6.3 secs\n",
      "computing NDVI\n",
      "... completed in 1.7 secs\n",
      "predicting binary burrow image\n",
      "... completed in 5.4 secs\n",
      "getting burrow locations\n",
      "... completed in 0.1 secs\n"
     ]
    },
    {
     "name": "stderr",
     "output_type": "stream",
     "text": [
      "\n",
      " 50%|██████████████████████████████████████████▌                                          | 3/6 [01:49<01:45, 35.22s/it]\u001b[A"
     ]
    },
    {
     "name": "stdout",
     "output_type": "stream",
     "text": [
      "getting RGB\n",
      "creating RGB list\n",
      "masking\n",
      "writing nodata\n",
      "merging\n",
      "masking\n",
      "... completed in 9.4 secs\n",
      "getting DSM\n",
      "... completed in 1.0 secs\n",
      "computing TPI\n",
      "... completed in 6.3 secs\n",
      "computing NDVI\n",
      "... completed in 1.5 secs\n",
      "predicting binary burrow image\n",
      "... completed in 5.8 secs\n",
      "getting burrow locations\n",
      "... completed in 0.1 secs\n"
     ]
    },
    {
     "name": "stderr",
     "output_type": "stream",
     "text": [
      "\n",
      " 67%|████████████████████████████████████████████████████████▋                            | 4/6 [02:21<01:07, 33.81s/it]\u001b[A"
     ]
    },
    {
     "name": "stdout",
     "output_type": "stream",
     "text": [
      "getting RGB\n",
      "creating RGB list\n",
      "masking\n",
      "writing nodata\n",
      "merging\n",
      "masking\n",
      "... completed in 9.0 secs\n",
      "getting DSM\n",
      "... completed in 0.7 secs\n",
      "computing TPI\n",
      "... completed in 6.1 secs\n",
      "computing NDVI\n",
      "... completed in 1.5 secs\n",
      "predicting binary burrow image\n",
      "... completed in 3.9 secs\n",
      "getting burrow locations\n",
      "... completed in 0.2 secs\n"
     ]
    },
    {
     "name": "stderr",
     "output_type": "stream",
     "text": [
      "\n",
      " 83%|██████████████████████████████████████████████████████████████████████▊              | 5/6 [02:50<00:32, 32.22s/it]\u001b[A"
     ]
    },
    {
     "name": "stdout",
     "output_type": "stream",
     "text": [
      "getting RGB\n",
      "creating RGB list\n",
      "masking\n",
      "writing nodata\n",
      "merging\n",
      "masking\n",
      "... completed in 9.6 secs\n",
      "getting DSM\n",
      "... completed in 0.7 secs\n",
      "computing TPI\n",
      "... completed in 6.5 secs\n",
      "computing NDVI\n",
      "... completed in 1.7 secs\n",
      "predicting binary burrow image\n",
      "... completed in 7.3 secs\n",
      "getting burrow locations\n",
      "... completed in 0.2 secs\n"
     ]
    },
    {
     "name": "stderr",
     "output_type": "stream",
     "text": [
      "\n",
      "100%|█████████████████████████████████████████████████████████████████████████████████████| 6/6 [03:24<00:00, 34.02s/it]\u001b[A\n"
     ]
    },
    {
     "name": "stdout",
     "output_type": "stream",
     "text": [
      "Pasture-group finished!\n"
     ]
    },
    {
     "name": "stderr",
     "output_type": "stream",
     "text": [
      " 20%|████████████████▏                                                                | 1/5 [34:11<2:16:47, 2051.82s/it]"
     ]
    },
    {
     "name": "stdout",
     "output_type": "stream",
     "text": [
      "\n",
      "\n",
      "----------\n",
      "Pasture: 29-30\n",
      "running row: 1 of 11\n"
     ]
    },
    {
     "name": "stderr",
     "output_type": "stream",
     "text": [
      "\n",
      "  0%|                                                                                            | 0/17 [00:00<?, ?it/s]\u001b[A"
     ]
    },
    {
     "name": "stdout",
     "output_type": "stream",
     "text": [
      "getting RGB\n",
      "creating RGB list\n",
      "masking\n",
      "writing nodata\n",
      "merging\n",
      "masking\n",
      "... completed in 7.9 secs\n",
      "getting DSM\n",
      "... completed in 1.1 secs\n",
      "computing TPI\n",
      "... completed in 10.3 secs\n",
      "computing NDVI\n",
      "... completed in 2.6 secs\n",
      "predicting binary burrow image\n",
      "... completed in 6.4 secs\n",
      "getting burrow locations\n",
      "... completed in 0.3 secs\n"
     ]
    },
    {
     "name": "stderr",
     "output_type": "stream",
     "text": [
      "\n",
      "  6%|████▉                                                                               | 1/17 [00:29<07:47, 29.24s/it]\u001b[A"
     ]
    },
    {
     "name": "stdout",
     "output_type": "stream",
     "text": [
      "getting RGB\n",
      "creating RGB list\n",
      "masking\n",
      "writing nodata\n",
      "merging\n",
      "masking\n",
      "... completed in 6.9 secs\n",
      "getting DSM\n",
      "... completed in 0.8 secs\n",
      "computing TPI\n",
      "... completed in 6.0 secs\n",
      "computing NDVI\n",
      "... completed in 2.5 secs\n",
      "predicting binary burrow image\n",
      "... completed in 6.3 secs\n",
      "getting burrow locations\n",
      "... completed in 0.6 secs\n"
     ]
    },
    {
     "name": "stderr",
     "output_type": "stream",
     "text": [
      "\n",
      " 12%|█████████▉                                                                          | 2/17 [00:53<06:31, 26.12s/it]\u001b[A"
     ]
    },
    {
     "name": "stdout",
     "output_type": "stream",
     "text": [
      "getting RGB\n",
      "creating RGB list\n",
      "masking\n",
      "writing nodata\n",
      "merging\n",
      "masking\n",
      "... completed in 7.2 secs\n",
      "getting DSM\n",
      "... completed in 0.8 secs\n",
      "computing TPI\n",
      "... completed in 5.8 secs\n",
      "computing NDVI\n",
      "... completed in 1.9 secs\n",
      "predicting binary burrow image\n",
      "... completed in 6.6 secs\n",
      "getting burrow locations\n",
      "... completed in 0.3 secs\n"
     ]
    },
    {
     "name": "stderr",
     "output_type": "stream",
     "text": [
      "\n",
      " 18%|██████████████▊                                                                     | 3/17 [01:16<05:49, 24.94s/it]\u001b[A"
     ]
    },
    {
     "name": "stdout",
     "output_type": "stream",
     "text": [
      "getting RGB\n",
      "creating RGB list\n",
      "masking\n",
      "writing nodata\n",
      "merging\n",
      "masking\n",
      "... completed in 7.3 secs\n",
      "getting DSM\n",
      "... completed in 0.7 secs\n",
      "computing TPI\n",
      "... completed in 6.1 secs\n",
      "computing NDVI\n",
      "... completed in 2.0 secs\n",
      "predicting binary burrow image\n",
      "... completed in 6.3 secs\n",
      "getting burrow locations\n",
      "... completed in 0.1 secs\n"
     ]
    },
    {
     "name": "stderr",
     "output_type": "stream",
     "text": [
      "\n",
      " 24%|███████████████████▊                                                                | 4/17 [01:40<05:16, 24.34s/it]\u001b[A"
     ]
    },
    {
     "name": "stdout",
     "output_type": "stream",
     "text": [
      "getting RGB\n",
      "creating RGB list\n",
      "masking\n",
      "writing nodata\n",
      "merging\n",
      "masking\n",
      "... completed in 7.3 secs\n",
      "getting DSM\n",
      "... completed in 1.0 secs\n",
      "computing TPI\n",
      "... completed in 6.2 secs\n",
      "computing NDVI\n",
      "... completed in 2.5 secs\n",
      "predicting binary burrow image\n",
      "... completed in 6.5 secs\n",
      "getting burrow locations\n"
     ]
    },
    {
     "name": "stderr",
     "output_type": "stream",
     "text": [
      "\n",
      " 29%|████████████████████████▋                                                           | 5/17 [02:04<04:52, 24.38s/it]\u001b[A"
     ]
    },
    {
     "name": "stdout",
     "output_type": "stream",
     "text": [
      "getting RGB\n",
      "creating RGB list\n",
      "masking\n",
      "writing nodata\n",
      "merging\n",
      "masking\n",
      "... completed in 6.9 secs\n",
      "getting DSM\n",
      "... completed in 0.7 secs\n",
      "computing TPI\n",
      "... completed in 6.2 secs\n",
      "computing NDVI\n",
      "... completed in 2.1 secs\n",
      "predicting binary burrow image\n",
      "... completed in 6.2 secs\n",
      "getting burrow locations\n"
     ]
    },
    {
     "name": "stderr",
     "output_type": "stream",
     "text": [
      "\n",
      " 35%|█████████████████████████████▋                                                      | 6/17 [02:27<04:22, 23.91s/it]\u001b[A"
     ]
    },
    {
     "name": "stdout",
     "output_type": "stream",
     "text": [
      "getting RGB\n",
      "creating RGB list\n",
      "masking\n",
      "writing nodata\n",
      "merging\n",
      "masking\n",
      "... completed in 7.6 secs\n",
      "getting DSM\n",
      "... completed in 0.7 secs\n",
      "computing TPI\n",
      "... completed in 6.2 secs\n",
      "computing NDVI\n",
      "... completed in 2.1 secs\n",
      "predicting binary burrow image\n",
      "... completed in 8.8 secs\n",
      "getting burrow locations\n",
      "... completed in 0.1 secs\n"
     ]
    },
    {
     "name": "stderr",
     "output_type": "stream",
     "text": [
      "\n",
      " 41%|██████████████████████████████████▌                                                 | 7/17 [02:53<04:07, 24.72s/it]\u001b[A"
     ]
    },
    {
     "name": "stdout",
     "output_type": "stream",
     "text": [
      "getting RGB\n",
      "creating RGB list\n",
      "masking\n",
      "writing nodata\n",
      "merging\n",
      "masking\n",
      "... completed in 7.2 secs\n",
      "getting DSM\n",
      "... completed in 0.7 secs\n",
      "computing TPI\n",
      "... completed in 6.0 secs\n",
      "computing NDVI\n",
      "... completed in 2.2 secs\n",
      "predicting binary burrow image\n",
      "... completed in 6.9 secs\n",
      "getting burrow locations\n",
      "... completed in 0.2 secs\n"
     ]
    },
    {
     "name": "stderr",
     "output_type": "stream",
     "text": [
      "\n",
      " 47%|███████████████████████████████████████▌                                            | 8/17 [03:18<03:40, 24.53s/it]\u001b[A"
     ]
    },
    {
     "name": "stdout",
     "output_type": "stream",
     "text": [
      "getting RGB\n",
      "creating RGB list\n",
      "masking\n",
      "writing nodata\n",
      "merging\n",
      "masking\n",
      "... completed in 7.3 secs\n",
      "getting DSM\n",
      "... completed in 0.7 secs\n",
      "computing TPI\n",
      "... completed in 6.2 secs\n",
      "computing NDVI\n",
      "... completed in 2.3 secs\n",
      "predicting binary burrow image\n",
      "... completed in 6.6 secs\n",
      "getting burrow locations\n",
      "... completed in 0.2 secs\n"
     ]
    },
    {
     "name": "stderr",
     "output_type": "stream",
     "text": [
      "\n",
      " 53%|████████████████████████████████████████████▍                                       | 9/17 [03:42<03:15, 24.45s/it]\u001b[A"
     ]
    },
    {
     "name": "stdout",
     "output_type": "stream",
     "text": [
      "getting RGB\n",
      "creating RGB list\n",
      "masking\n",
      "writing nodata\n",
      "merging\n",
      "masking\n",
      "... completed in 8.0 secs\n",
      "getting DSM\n",
      "... completed in 0.8 secs\n",
      "computing TPI\n",
      "... completed in 6.6 secs\n",
      "computing NDVI\n",
      "... completed in 2.5 secs\n",
      "predicting binary burrow image\n",
      "... completed in 6.5 secs\n",
      "getting burrow locations\n",
      "... completed in 0.2 secs\n"
     ]
    },
    {
     "name": "stderr",
     "output_type": "stream",
     "text": [
      "\n",
      " 59%|████████████████████████████████████████████████▊                                  | 10/17 [04:07<02:53, 24.80s/it]\u001b[A"
     ]
    },
    {
     "name": "stdout",
     "output_type": "stream",
     "text": [
      "getting RGB\n",
      "creating RGB list\n",
      "masking\n",
      "writing nodata\n",
      "merging\n",
      "masking\n",
      "... completed in 7.5 secs\n",
      "getting DSM\n",
      "... completed in 0.6 secs\n",
      "computing TPI\n",
      "... completed in 5.8 secs\n",
      "computing NDVI\n",
      "... completed in 1.9 secs\n",
      "predicting binary burrow image\n",
      "... completed in 6.7 secs\n",
      "getting burrow locations\n",
      "... completed in 0.4 secs\n"
     ]
    },
    {
     "name": "stderr",
     "output_type": "stream",
     "text": [
      "\n",
      " 65%|█████████████████████████████████████████████████████▋                             | 11/17 [04:31<02:27, 24.56s/it]\u001b[A"
     ]
    },
    {
     "name": "stdout",
     "output_type": "stream",
     "text": [
      "getting RGB\n",
      "creating RGB list\n",
      "masking\n",
      "writing nodata\n",
      "merging\n",
      "masking\n",
      "... completed in 7.1 secs\n",
      "getting DSM\n",
      "... completed in 0.7 secs\n",
      "computing TPI\n",
      "... completed in 6.0 secs\n",
      "computing NDVI\n",
      "... completed in 2.5 secs\n",
      "predicting binary burrow image\n",
      "... completed in 6.5 secs\n",
      "getting burrow locations\n",
      "... completed in 0.5 secs\n"
     ]
    },
    {
     "name": "stderr",
     "output_type": "stream",
     "text": [
      "\n",
      " 71%|██████████████████████████████████████████████████████████▌                        | 12/17 [04:56<02:02, 24.52s/it]\u001b[A"
     ]
    },
    {
     "name": "stdout",
     "output_type": "stream",
     "text": [
      "getting RGB\n",
      "creating RGB list\n",
      "masking\n",
      "writing nodata\n",
      "merging\n",
      "masking\n",
      "... completed in 7.1 secs\n",
      "getting DSM\n",
      "... completed in 0.9 secs\n",
      "computing TPI\n",
      "... completed in 5.9 secs\n",
      "computing NDVI\n",
      "... completed in 2.5 secs\n",
      "predicting binary burrow image\n",
      "... completed in 6.7 secs\n",
      "getting burrow locations\n",
      "... completed in 0.4 secs\n"
     ]
    },
    {
     "name": "stderr",
     "output_type": "stream",
     "text": [
      "\n",
      " 76%|███████████████████████████████████████████████████████████████▍                   | 13/17 [05:21<01:38, 24.58s/it]\u001b[A"
     ]
    },
    {
     "name": "stdout",
     "output_type": "stream",
     "text": [
      "getting RGB\n",
      "creating RGB list\n",
      "masking\n",
      "writing nodata\n",
      "merging\n",
      "masking\n",
      "... completed in 6.8 secs\n",
      "getting DSM\n",
      "... completed in 0.8 secs\n",
      "computing TPI\n",
      "... completed in 6.3 secs\n",
      "computing NDVI\n",
      "... completed in 2.5 secs\n",
      "predicting binary burrow image\n",
      "... completed in 6.5 secs\n",
      "getting burrow locations\n",
      "... completed in 0.1 secs\n"
     ]
    },
    {
     "name": "stderr",
     "output_type": "stream",
     "text": [
      "\n",
      " 82%|████████████████████████████████████████████████████████████████████▎              | 14/17 [05:45<01:13, 24.51s/it]\u001b[A"
     ]
    },
    {
     "name": "stdout",
     "output_type": "stream",
     "text": [
      "getting RGB\n",
      "creating RGB list\n",
      "masking\n",
      "writing nodata\n",
      "merging\n",
      "masking\n",
      "... completed in 7.3 secs\n",
      "getting DSM\n",
      "... completed in 0.7 secs\n",
      "computing TPI\n",
      "... completed in 6.0 secs\n",
      "computing NDVI\n",
      "... completed in 2.1 secs\n",
      "predicting binary burrow image\n",
      "... completed in 6.7 secs\n",
      "getting burrow locations\n"
     ]
    },
    {
     "name": "stderr",
     "output_type": "stream",
     "text": [
      "\n",
      " 88%|█████████████████████████████████████████████████████████████████████████▏         | 15/17 [06:09<00:48, 24.34s/it]\u001b[A"
     ]
    },
    {
     "name": "stdout",
     "output_type": "stream",
     "text": [
      "getting RGB\n",
      "creating RGB list\n",
      "masking\n",
      "writing nodata\n",
      "merging\n",
      "masking\n",
      "... completed in 7.0 secs\n",
      "getting DSM\n",
      "... completed in 0.8 secs\n",
      "computing TPI\n",
      "... completed in 5.9 secs\n",
      "computing NDVI\n",
      "... completed in 2.3 secs\n",
      "predicting binary burrow image\n",
      "... completed in 5.0 secs\n",
      "getting burrow locations\n",
      "... completed in 0.1 secs\n"
     ]
    },
    {
     "name": "stderr",
     "output_type": "stream",
     "text": [
      "distributed.nanny - WARNING - Worker exceeded 95% memory budget. Restarting\n",
      "distributed.client - ERROR - Restart timed out after 9.00 seconds\n",
      "\n",
      " 94%|██████████████████████████████████████████████████████████████████████████████     | 16/17 [06:50<00:29, 29.48s/it]\u001b[A"
     ]
    },
    {
     "name": "stdout",
     "output_type": "stream",
     "text": [
      "getting RGB\n",
      "creating RGB list\n",
      "masking\n",
      "writing nodata\n",
      "merging\n",
      "masking\n",
      "... completed in 6.1 secs\n",
      "getting DSM\n",
      "... completed in 0.7 secs\n",
      "computing TPI\n",
      "... completed in 10.3 secs\n",
      "computing NDVI\n",
      "... completed in 1.7 secs\n",
      "predicting binary burrow image\n",
      "... completed in 18.8 secs\n",
      "getting burrow locations\n",
      "... completed in 0.1 secs\n"
     ]
    },
    {
     "name": "stderr",
     "output_type": "stream",
     "text": [
      "\n",
      "100%|███████████████████████████████████████████████████████████████████████████████████| 17/17 [07:31<00:00, 26.54s/it]\u001b[A\n"
     ]
    },
    {
     "name": "stdout",
     "output_type": "stream",
     "text": [
      "running row: 2 of 11\n"
     ]
    },
    {
     "name": "stderr",
     "output_type": "stream",
     "text": [
      "\n",
      "  0%|                                                                                            | 0/17 [00:00<?, ?it/s]\u001b[A"
     ]
    },
    {
     "name": "stdout",
     "output_type": "stream",
     "text": [
      "getting RGB\n",
      "creating RGB list\n",
      "masking\n",
      "writing nodata\n",
      "merging\n",
      "masking\n",
      "... completed in 7.6 secs\n",
      "getting DSM\n",
      "... completed in 0.9 secs\n",
      "computing TPI\n",
      "... completed in 6.4 secs\n",
      "computing NDVI\n",
      "... completed in 2.5 secs\n",
      "predicting binary burrow image\n",
      "... completed in 5.0 secs\n",
      "getting burrow locations\n",
      "... completed in 0.7 secs\n"
     ]
    },
    {
     "name": "stderr",
     "output_type": "stream",
     "text": [
      "\n",
      "  6%|████▉                                                                               | 1/17 [00:24<06:30, 24.39s/it]\u001b[A"
     ]
    },
    {
     "name": "stdout",
     "output_type": "stream",
     "text": [
      "getting RGB\n",
      "creating RGB list\n",
      "masking\n",
      "writing nodata\n",
      "merging\n",
      "masking\n",
      "... completed in 7.0 secs\n",
      "getting DSM\n",
      "... completed in 0.7 secs\n",
      "computing TPI\n",
      "... completed in 6.0 secs\n",
      "computing NDVI\n",
      "... completed in 2.0 secs\n",
      "predicting binary burrow image\n",
      "... completed in 5.1 secs\n",
      "getting burrow locations\n",
      "... completed in 0.4 secs\n"
     ]
    },
    {
     "name": "stderr",
     "output_type": "stream",
     "text": [
      "\n",
      " 12%|█████████▉                                                                          | 2/17 [00:47<05:51, 23.46s/it]\u001b[A"
     ]
    },
    {
     "name": "stdout",
     "output_type": "stream",
     "text": [
      "getting RGB\n",
      "creating RGB list\n",
      "masking\n",
      "writing nodata\n",
      "merging\n",
      "masking\n",
      "... completed in 7.4 secs\n",
      "getting DSM\n",
      "... completed in 0.8 secs\n",
      "computing TPI\n",
      "... completed in 6.6 secs\n",
      "computing NDVI\n",
      "... completed in 1.7 secs\n",
      "predicting binary burrow image\n",
      "... completed in 5.1 secs\n",
      "getting burrow locations\n",
      "... completed in 0.2 secs\n"
     ]
    },
    {
     "name": "stderr",
     "output_type": "stream",
     "text": [
      "\n",
      " 18%|██████████████▊                                                                     | 3/17 [01:10<05:27, 23.37s/it]\u001b[A"
     ]
    },
    {
     "name": "stdout",
     "output_type": "stream",
     "text": [
      "getting RGB\n",
      "creating RGB list\n",
      "masking\n",
      "writing nodata\n",
      "merging\n",
      "masking\n",
      "... completed in 7.1 secs\n",
      "getting DSM\n",
      "... completed in 0.7 secs\n",
      "computing TPI\n",
      "... completed in 6.0 secs\n",
      "computing NDVI\n",
      "... completed in 2.2 secs\n",
      "predicting binary burrow image\n",
      "... completed in 5.1 secs\n",
      "getting burrow locations\n",
      "... completed in 0.5 secs\n"
     ]
    },
    {
     "name": "stderr",
     "output_type": "stream",
     "text": [
      "\n",
      " 24%|███████████████████▊                                                                | 4/17 [01:33<05:02, 23.30s/it]\u001b[A"
     ]
    },
    {
     "name": "stdout",
     "output_type": "stream",
     "text": [
      "getting RGB\n",
      "creating RGB list\n",
      "masking\n",
      "writing nodata\n",
      "merging\n",
      "masking\n",
      "... completed in 7.2 secs\n",
      "getting DSM\n",
      "... completed in 0.6 secs\n",
      "computing TPI\n",
      "... completed in 6.4 secs\n",
      "computing NDVI\n",
      "... completed in 2.0 secs\n",
      "predicting binary burrow image\n",
      "... completed in 5.0 secs\n",
      "getting burrow locations\n",
      "... completed in 0.1 secs\n"
     ]
    },
    {
     "name": "stderr",
     "output_type": "stream",
     "text": [
      "\n",
      " 29%|████████████████████████▋                                                           | 5/17 [01:56<04:37, 23.12s/it]\u001b[A"
     ]
    },
    {
     "name": "stdout",
     "output_type": "stream",
     "text": [
      "getting RGB\n",
      "creating RGB list\n",
      "masking\n",
      "writing nodata\n",
      "merging\n",
      "masking\n",
      "... completed in 7.2 secs\n",
      "getting DSM\n",
      "... completed in 0.7 secs\n",
      "computing TPI\n",
      "... completed in 6.0 secs\n",
      "computing NDVI\n",
      "... completed in 2.0 secs\n",
      "predicting binary burrow image\n",
      "... completed in 5.2 secs\n",
      "getting burrow locations\n",
      "... completed in 0.1 secs\n"
     ]
    },
    {
     "name": "stderr",
     "output_type": "stream",
     "text": [
      "\n",
      " 35%|█████████████████████████████▋                                                      | 6/17 [02:19<04:12, 22.99s/it]\u001b[A"
     ]
    },
    {
     "name": "stdout",
     "output_type": "stream",
     "text": [
      "getting RGB\n",
      "creating RGB list\n",
      "masking\n",
      "writing nodata\n",
      "merging\n",
      "masking\n",
      "... completed in 7.4 secs\n",
      "getting DSM\n",
      "... completed in 0.7 secs\n",
      "computing TPI\n",
      "... completed in 6.6 secs\n",
      "computing NDVI\n",
      "... completed in 1.9 secs\n",
      "predicting binary burrow image\n",
      "... completed in 5.1 secs\n",
      "getting burrow locations\n",
      "... completed in 0.1 secs\n"
     ]
    },
    {
     "name": "stderr",
     "output_type": "stream",
     "text": [
      "\n",
      " 41%|██████████████████████████████████▌                                                 | 7/17 [02:42<03:51, 23.11s/it]\u001b[A"
     ]
    },
    {
     "name": "stdout",
     "output_type": "stream",
     "text": [
      "getting RGB\n",
      "creating RGB list\n",
      "masking\n",
      "writing nodata\n",
      "merging\n",
      "masking\n",
      "... completed in 7.3 secs\n",
      "getting DSM\n",
      "... completed in 0.7 secs\n",
      "computing TPI\n",
      "... completed in 6.2 secs\n",
      "computing NDVI\n",
      "... completed in 2.1 secs\n",
      "predicting binary burrow image\n",
      "... completed in 5.2 secs\n",
      "getting burrow locations\n",
      "... completed in 0.2 secs\n"
     ]
    },
    {
     "name": "stderr",
     "output_type": "stream",
     "text": [
      "\n",
      " 47%|███████████████████████████████████████▌                                            | 8/17 [03:05<03:28, 23.20s/it]\u001b[A"
     ]
    },
    {
     "name": "stdout",
     "output_type": "stream",
     "text": [
      "getting RGB\n",
      "creating RGB list\n",
      "masking\n",
      "writing nodata\n",
      "merging\n",
      "masking\n",
      "... completed in 7.3 secs\n",
      "getting DSM\n",
      "... completed in 0.7 secs\n",
      "computing TPI\n",
      "... completed in 6.4 secs\n",
      "computing NDVI\n",
      "... completed in 1.9 secs\n",
      "predicting binary burrow image\n",
      "... completed in 4.9 secs\n",
      "getting burrow locations\n",
      "... completed in 0.3 secs\n"
     ]
    },
    {
     "name": "stderr",
     "output_type": "stream",
     "text": [
      "\n",
      " 53%|████████████████████████████████████████████▍                                       | 9/17 [03:29<03:06, 23.28s/it]\u001b[A"
     ]
    },
    {
     "name": "stdout",
     "output_type": "stream",
     "text": [
      "getting RGB\n",
      "creating RGB list\n",
      "masking\n",
      "writing nodata\n",
      "merging\n",
      "masking\n",
      "... completed in 6.8 secs\n",
      "getting DSM\n",
      "... completed in 0.7 secs\n",
      "computing TPI\n",
      "... completed in 6.0 secs\n",
      "computing NDVI\n",
      "... completed in 2.1 secs\n",
      "predicting binary burrow image\n",
      "... completed in 4.9 secs\n",
      "getting burrow locations\n",
      "... completed in 0.4 secs\n"
     ]
    },
    {
     "name": "stderr",
     "output_type": "stream",
     "text": [
      "\n",
      " 59%|████████████████████████████████████████████████▊                                  | 10/17 [03:52<02:41, 23.13s/it]\u001b[A"
     ]
    },
    {
     "name": "stdout",
     "output_type": "stream",
     "text": [
      "getting RGB\n",
      "creating RGB list\n",
      "masking\n",
      "writing nodata\n",
      "merging\n",
      "masking\n",
      "... completed in 6.7 secs\n",
      "getting DSM\n",
      "... completed in 0.7 secs\n",
      "computing TPI\n",
      "... completed in 6.2 secs\n",
      "computing NDVI\n",
      "... completed in 2.2 secs\n",
      "predicting binary burrow image\n",
      "... completed in 5.1 secs\n",
      "getting burrow locations\n",
      "... completed in 0.3 secs\n"
     ]
    },
    {
     "name": "stderr",
     "output_type": "stream",
     "text": [
      "\n",
      " 65%|█████████████████████████████████████████████████████▋                             | 11/17 [04:15<02:18, 23.09s/it]\u001b[A"
     ]
    },
    {
     "name": "stdout",
     "output_type": "stream",
     "text": [
      "getting RGB\n",
      "creating RGB list\n",
      "masking\n",
      "writing nodata\n",
      "merging\n",
      "masking\n",
      "... completed in 7.4 secs\n",
      "getting DSM\n",
      "... completed in 0.7 secs\n",
      "computing TPI\n",
      "... completed in 6.2 secs\n",
      "computing NDVI\n",
      "... completed in 2.3 secs\n",
      "predicting binary burrow image\n",
      "... completed in 5.0 secs\n",
      "getting burrow locations\n",
      "... completed in 0.4 secs\n"
     ]
    },
    {
     "name": "stderr",
     "output_type": "stream",
     "text": [
      "\n",
      " 71%|██████████████████████████████████████████████████████████▌                        | 12/17 [04:39<01:56, 23.36s/it]\u001b[A"
     ]
    },
    {
     "name": "stdout",
     "output_type": "stream",
     "text": [
      "getting RGB\n",
      "creating RGB list\n",
      "masking\n",
      "writing nodata\n",
      "merging\n",
      "masking\n",
      "... completed in 6.8 secs\n",
      "getting DSM\n",
      "... completed in 0.6 secs\n",
      "computing TPI\n",
      "... completed in 6.3 secs\n",
      "computing NDVI\n",
      "... completed in 1.8 secs\n",
      "predicting binary burrow image\n",
      "... completed in 4.9 secs\n",
      "getting burrow locations\n",
      "... completed in 0.2 secs\n"
     ]
    },
    {
     "name": "stderr",
     "output_type": "stream",
     "text": [
      "\n",
      " 76%|███████████████████████████████████████████████████████████████▍                   | 13/17 [05:01<01:32, 23.19s/it]\u001b[A"
     ]
    },
    {
     "name": "stdout",
     "output_type": "stream",
     "text": [
      "getting RGB\n",
      "creating RGB list\n",
      "masking\n",
      "writing nodata\n",
      "merging\n",
      "masking\n",
      "... completed in 7.1 secs\n",
      "getting DSM\n",
      "... completed in 0.7 secs\n",
      "computing TPI\n",
      "... completed in 6.0 secs\n",
      "computing NDVI\n",
      "... completed in 2.1 secs\n",
      "predicting binary burrow image\n",
      "... completed in 5.0 secs\n",
      "getting burrow locations\n",
      "... completed in 0.1 secs\n"
     ]
    },
    {
     "name": "stderr",
     "output_type": "stream",
     "text": [
      "distributed.nanny - WARNING - Worker exceeded 95% memory budget. Restarting\n",
      "distributed.client - ERROR - Restart timed out after 9.00 seconds\n",
      "\n",
      " 82%|████████████████████████████████████████████████████████████████████▎              | 14/17 [05:44<01:26, 28.95s/it]\u001b[A"
     ]
    },
    {
     "name": "stdout",
     "output_type": "stream",
     "text": [
      "getting RGB\n",
      "creating RGB list\n",
      "masking\n",
      "writing nodata\n",
      "merging\n",
      "masking\n",
      "... completed in 6.8 secs\n",
      "getting DSM\n",
      "... completed in 0.7 secs\n",
      "computing TPI\n",
      "... completed in 9.9 secs\n",
      "computing NDVI\n",
      "... completed in 1.7 secs\n",
      "predicting binary burrow image\n",
      "... completed in 5.0 secs\n",
      "getting burrow locations\n",
      "... completed in 0.1 secs\n"
     ]
    },
    {
     "name": "stderr",
     "output_type": "stream",
     "text": [
      "\n",
      " 88%|█████████████████████████████████████████████████████████████████████████▏         | 15/17 [06:11<00:57, 28.59s/it]\u001b[A"
     ]
    },
    {
     "name": "stdout",
     "output_type": "stream",
     "text": [
      "getting RGB\n",
      "creating RGB list\n",
      "masking\n",
      "writing nodata\n",
      "merging\n",
      "masking\n",
      "... completed in 6.8 secs\n",
      "getting DSM\n",
      "... completed in 0.6 secs\n",
      "computing TPI\n",
      "... completed in 6.3 secs\n",
      "computing NDVI\n",
      "... completed in 2.1 secs\n",
      "predicting binary burrow image\n",
      "... completed in 3.3 secs\n",
      "getting burrow locations\n",
      "... completed in 0.1 secs\n"
     ]
    },
    {
     "name": "stderr",
     "output_type": "stream",
     "text": [
      "\n",
      " 94%|██████████████████████████████████████████████████████████████████████████████     | 16/17 [06:33<00:26, 26.34s/it]\u001b[A"
     ]
    },
    {
     "name": "stdout",
     "output_type": "stream",
     "text": [
      "getting RGB\n",
      "creating RGB list\n",
      "masking\n",
      "writing nodata\n",
      "merging\n",
      "masking\n",
      "... completed in 6.4 secs\n",
      "getting DSM\n",
      "... completed in 0.7 secs\n",
      "computing TPI\n",
      "... completed in 6.1 secs\n",
      "computing NDVI\n",
      "... completed in 1.7 secs\n",
      "predicting binary burrow image\n",
      "... completed in 19.8 secs\n",
      "getting burrow locations\n",
      "... completed in 0.1 secs\n"
     ]
    },
    {
     "name": "stderr",
     "output_type": "stream",
     "text": [
      "\n",
      "100%|███████████████████████████████████████████████████████████████████████████████████| 17/17 [07:10<00:00, 25.29s/it]\u001b[A\n"
     ]
    },
    {
     "name": "stdout",
     "output_type": "stream",
     "text": [
      "running row: 3 of 11\n"
     ]
    },
    {
     "name": "stderr",
     "output_type": "stream",
     "text": [
      "\n",
      "  0%|                                                                                            | 0/17 [00:00<?, ?it/s]\u001b[A"
     ]
    },
    {
     "name": "stdout",
     "output_type": "stream",
     "text": [
      "getting RGB\n",
      "creating RGB list\n",
      "masking\n",
      "writing nodata\n",
      "merging\n",
      "masking\n",
      "... completed in 7.8 secs\n",
      "getting DSM\n",
      "... completed in 1.0 secs\n",
      "computing TPI\n",
      "... completed in 6.7 secs\n",
      "computing NDVI\n",
      "... completed in 2.2 secs\n",
      "predicting binary burrow image\n",
      "... completed in 6.5 secs\n",
      "getting burrow locations\n",
      "... completed in 0.3 secs\n"
     ]
    },
    {
     "name": "stderr",
     "output_type": "stream",
     "text": [
      "\n",
      "  6%|████▉                                                                               | 1/17 [00:26<07:07, 26.74s/it]\u001b[A"
     ]
    },
    {
     "name": "stdout",
     "output_type": "stream",
     "text": [
      "getting RGB\n",
      "creating RGB list\n",
      "masking\n",
      "writing nodata\n",
      "merging\n",
      "masking\n",
      "... completed in 7.3 secs\n",
      "getting DSM\n",
      "... completed in 0.7 secs\n",
      "computing TPI\n",
      "... completed in 6.7 secs\n",
      "computing NDVI\n",
      "... completed in 2.2 secs\n",
      "predicting binary burrow image\n",
      "... completed in 6.4 secs\n",
      "getting burrow locations\n",
      "... completed in 0.2 secs\n"
     ]
    },
    {
     "name": "stderr",
     "output_type": "stream",
     "text": [
      "\n",
      " 12%|█████████▉                                                                          | 2/17 [00:52<06:30, 26.06s/it]\u001b[A"
     ]
    },
    {
     "name": "stdout",
     "output_type": "stream",
     "text": [
      "getting RGB\n",
      "creating RGB list\n",
      "masking\n",
      "writing nodata\n",
      "merging\n",
      "masking\n",
      "... completed in 7.2 secs\n",
      "getting DSM\n",
      "... completed in 0.7 secs\n",
      "computing TPI\n",
      "... completed in 6.1 secs\n",
      "computing NDVI\n",
      "... completed in 2.0 secs\n",
      "predicting binary burrow image\n",
      "... completed in 6.7 secs\n",
      "getting burrow locations\n",
      "... completed in 0.3 secs\n"
     ]
    },
    {
     "name": "stderr",
     "output_type": "stream",
     "text": [
      "\n",
      " 18%|██████████████▊                                                                     | 3/17 [01:17<05:59, 25.68s/it]\u001b[A"
     ]
    },
    {
     "name": "stdout",
     "output_type": "stream",
     "text": [
      "getting RGB\n",
      "creating RGB list\n",
      "masking\n",
      "writing nodata\n",
      "merging\n",
      "masking\n",
      "... completed in 7.3 secs\n",
      "getting DSM\n",
      "... completed in 0.7 secs\n",
      "computing TPI\n",
      "... completed in 6.2 secs\n",
      "computing NDVI\n",
      "... completed in 1.9 secs\n",
      "predicting binary burrow image\n",
      "... completed in 6.5 secs\n",
      "getting burrow locations\n",
      "... completed in 0.4 secs\n"
     ]
    },
    {
     "name": "stderr",
     "output_type": "stream",
     "text": [
      "\n",
      " 24%|███████████████████▊                                                                | 4/17 [01:42<05:32, 25.58s/it]\u001b[A"
     ]
    },
    {
     "name": "stdout",
     "output_type": "stream",
     "text": [
      "getting RGB\n",
      "creating RGB list\n",
      "masking\n",
      "writing nodata\n",
      "merging\n",
      "masking\n",
      "... completed in 7.1 secs\n",
      "getting DSM\n",
      "... completed in 0.7 secs\n",
      "computing TPI\n",
      "... completed in 6.1 secs\n",
      "computing NDVI\n",
      "... completed in 2.1 secs\n",
      "predicting binary burrow image\n",
      "... completed in 6.6 secs\n",
      "getting burrow locations\n",
      "... completed in 0.1 secs\n"
     ]
    },
    {
     "name": "stderr",
     "output_type": "stream",
     "text": [
      "\n",
      " 29%|████████████████████████▋                                                           | 5/17 [02:07<05:04, 25.37s/it]\u001b[A"
     ]
    },
    {
     "name": "stdout",
     "output_type": "stream",
     "text": [
      "getting RGB\n",
      "creating RGB list\n",
      "masking\n",
      "writing nodata\n",
      "merging\n",
      "masking\n",
      "... completed in 6.9 secs\n",
      "getting DSM\n",
      "... completed in 0.7 secs\n",
      "computing TPI\n",
      "... completed in 6.1 secs\n",
      "computing NDVI\n",
      "... completed in 1.9 secs\n",
      "predicting binary burrow image\n",
      "... completed in 6.4 secs\n",
      "getting burrow locations\n",
      "... completed in 0.1 secs\n"
     ]
    },
    {
     "name": "stderr",
     "output_type": "stream",
     "text": [
      "\n",
      " 35%|█████████████████████████████▋                                                      | 6/17 [02:32<04:35, 25.03s/it]\u001b[A"
     ]
    },
    {
     "name": "stdout",
     "output_type": "stream",
     "text": [
      "getting RGB\n",
      "creating RGB list\n",
      "masking\n",
      "writing nodata\n",
      "merging\n",
      "masking\n",
      "... completed in 7.1 secs\n",
      "getting DSM\n",
      "... completed in 0.7 secs\n",
      "computing TPI\n",
      "... completed in 5.9 secs\n",
      "computing NDVI\n",
      "... completed in 1.8 secs\n",
      "predicting binary burrow image\n",
      "... completed in 6.5 secs\n",
      "getting burrow locations\n",
      "... completed in 0.1 secs\n"
     ]
    },
    {
     "name": "stderr",
     "output_type": "stream",
     "text": [
      "\n",
      " 41%|██████████████████████████████████▌                                                 | 7/17 [02:56<04:08, 24.87s/it]\u001b[A"
     ]
    },
    {
     "name": "stdout",
     "output_type": "stream",
     "text": [
      "getting RGB\n",
      "creating RGB list\n",
      "masking\n",
      "writing nodata\n",
      "merging\n",
      "masking\n",
      "... completed in 7.2 secs\n",
      "getting DSM\n",
      "... completed in 0.8 secs\n",
      "computing TPI\n",
      "... completed in 6.8 secs\n",
      "computing NDVI\n",
      "... completed in 2.0 secs\n",
      "predicting binary burrow image\n",
      "... completed in 6.6 secs\n",
      "getting burrow locations\n",
      "... completed in 0.2 secs\n"
     ]
    },
    {
     "name": "stderr",
     "output_type": "stream",
     "text": [
      "\n",
      " 47%|███████████████████████████████████████▌                                            | 8/17 [03:22<03:46, 25.22s/it]\u001b[A"
     ]
    },
    {
     "name": "stdout",
     "output_type": "stream",
     "text": [
      "getting RGB\n",
      "creating RGB list\n",
      "masking\n",
      "writing nodata\n",
      "merging\n",
      "masking\n",
      "... completed in 6.9 secs\n",
      "getting DSM\n",
      "... completed in 0.7 secs\n",
      "computing TPI\n",
      "... completed in 6.6 secs\n",
      "computing NDVI\n",
      "... completed in 1.8 secs\n",
      "predicting binary burrow image\n",
      "... completed in 6.6 secs\n",
      "getting burrow locations\n",
      "... completed in 0.4 secs\n"
     ]
    },
    {
     "name": "stderr",
     "output_type": "stream",
     "text": [
      "\n",
      " 53%|████████████████████████████████████████████▍                                       | 9/17 [03:48<03:22, 25.33s/it]\u001b[A"
     ]
    },
    {
     "name": "stdout",
     "output_type": "stream",
     "text": [
      "getting RGB\n",
      "creating RGB list\n",
      "masking\n",
      "writing nodata\n",
      "merging\n",
      "masking\n",
      "... completed in 7.0 secs\n",
      "getting DSM\n",
      "... completed in 0.7 secs\n",
      "computing TPI\n",
      "... completed in 6.3 secs\n",
      "computing NDVI\n",
      "... completed in 1.9 secs\n",
      "predicting binary burrow image\n",
      "... completed in 6.5 secs\n",
      "getting burrow locations\n",
      "... completed in 0.4 secs\n"
     ]
    },
    {
     "name": "stderr",
     "output_type": "stream",
     "text": [
      "\n",
      " 59%|████████████████████████████████████████████████▊                                  | 10/17 [04:13<02:57, 25.36s/it]\u001b[A"
     ]
    },
    {
     "name": "stdout",
     "output_type": "stream",
     "text": [
      "getting RGB\n",
      "creating RGB list\n",
      "masking\n",
      "writing nodata\n",
      "merging\n",
      "masking\n",
      "... completed in 7.4 secs\n",
      "getting DSM\n",
      "... completed in 0.7 secs\n",
      "computing TPI\n",
      "... completed in 6.3 secs\n",
      "computing NDVI\n",
      "... completed in 2.0 secs\n",
      "predicting binary burrow image\n",
      "... completed in 6.8 secs\n",
      "getting burrow locations\n",
      "... completed in 0.6 secs\n"
     ]
    },
    {
     "name": "stderr",
     "output_type": "stream",
     "text": [
      "\n",
      " 65%|█████████████████████████████████████████████████████▋                             | 11/17 [04:40<02:34, 25.71s/it]\u001b[A"
     ]
    },
    {
     "name": "stdout",
     "output_type": "stream",
     "text": [
      "getting RGB\n",
      "creating RGB list\n",
      "masking\n",
      "writing nodata\n",
      "merging\n",
      "masking\n",
      "... completed in 7.1 secs\n",
      "getting DSM\n",
      "... completed in 0.7 secs\n",
      "computing TPI\n",
      "... completed in 6.0 secs\n",
      "computing NDVI\n",
      "... completed in 1.9 secs\n",
      "predicting binary burrow image\n",
      "... completed in 6.6 secs\n",
      "getting burrow locations\n",
      "... completed in 0.6 secs\n"
     ]
    },
    {
     "name": "stderr",
     "output_type": "stream",
     "text": [
      "\n",
      " 71%|██████████████████████████████████████████████████████████▌                        | 12/17 [05:18<02:27, 29.41s/it]\u001b[A"
     ]
    },
    {
     "name": "stdout",
     "output_type": "stream",
     "text": [
      "getting RGB\n",
      "creating RGB list\n",
      "masking\n",
      "writing nodata\n",
      "merging\n",
      "masking\n",
      "... completed in 7.0 secs\n",
      "getting DSM\n",
      "... completed in 0.7 secs\n",
      "computing TPI\n",
      "... completed in 10.2 secs\n",
      "computing NDVI\n",
      "... completed in 1.9 secs\n",
      "predicting binary burrow image\n",
      "... completed in 6.9 secs\n",
      "getting burrow locations\n",
      "... completed in 0.2 secs\n"
     ]
    },
    {
     "name": "stderr",
     "output_type": "stream",
     "text": [
      "\n",
      " 76%|███████████████████████████████████████████████████████████████▍                   | 13/17 [05:47<01:58, 29.51s/it]\u001b[A"
     ]
    },
    {
     "name": "stdout",
     "output_type": "stream",
     "text": [
      "getting RGB\n",
      "creating RGB list\n",
      "masking\n",
      "writing nodata\n",
      "merging\n",
      "masking\n",
      "... completed in 7.0 secs\n",
      "getting DSM\n",
      "... completed in 0.7 secs\n",
      "computing TPI\n",
      "... completed in 6.3 secs\n",
      "computing NDVI\n",
      "... completed in 2.1 secs\n",
      "predicting binary burrow image\n",
      "... completed in 6.6 secs\n",
      "getting burrow locations\n",
      "... completed in 0.1 secs\n"
     ]
    },
    {
     "name": "stderr",
     "output_type": "stream",
     "text": [
      "\n",
      " 82%|████████████████████████████████████████████████████████████████████▎              | 14/17 [06:13<01:24, 28.33s/it]\u001b[A"
     ]
    },
    {
     "name": "stdout",
     "output_type": "stream",
     "text": [
      "getting RGB\n",
      "creating RGB list\n",
      "masking\n",
      "writing nodata\n",
      "merging\n",
      "masking\n",
      "... completed in 7.0 secs\n",
      "getting DSM\n",
      "... completed in 0.7 secs\n",
      "computing TPI\n",
      "... completed in 6.3 secs\n",
      "computing NDVI\n",
      "... completed in 2.0 secs\n",
      "predicting binary burrow image\n",
      "... completed in 6.6 secs\n",
      "getting burrow locations\n",
      "... completed in 0.1 secs\n"
     ]
    },
    {
     "name": "stderr",
     "output_type": "stream",
     "text": [
      "\n",
      " 88%|█████████████████████████████████████████████████████████████████████████▏         | 15/17 [06:39<00:54, 27.48s/it]\u001b[A"
     ]
    },
    {
     "name": "stdout",
     "output_type": "stream",
     "text": [
      "getting RGB\n",
      "creating RGB list\n",
      "masking\n",
      "writing nodata\n",
      "merging\n",
      "masking\n",
      "... completed in 7.0 secs\n",
      "getting DSM\n",
      "... completed in 0.7 secs\n",
      "computing TPI\n",
      "... completed in 7.0 secs\n",
      "computing NDVI\n",
      "... completed in 1.9 secs\n",
      "predicting binary burrow image\n",
      "... completed in 4.9 secs\n",
      "getting burrow locations\n",
      "... completed in 0.1 secs\n"
     ]
    },
    {
     "name": "stderr",
     "output_type": "stream",
     "text": [
      "\n",
      " 94%|██████████████████████████████████████████████████████████████████████████████     | 16/17 [07:03<00:26, 26.56s/it]\u001b[A"
     ]
    },
    {
     "name": "stdout",
     "output_type": "stream",
     "text": [
      "getting RGB\n",
      "creating RGB list\n",
      "masking\n",
      "writing nodata\n",
      "merging\n",
      "masking\n",
      "... completed in 6.2 secs\n",
      "getting DSM\n",
      "... completed in 0.7 secs\n",
      "computing TPI\n",
      "... completed in 6.6 secs\n",
      "computing NDVI\n",
      "... completed in 1.6 secs\n",
      "predicting binary burrow image\n",
      "... completed in 20.9 secs\n",
      "getting burrow locations\n",
      "... completed in 0.1 secs\n"
     ]
    },
    {
     "name": "stderr",
     "output_type": "stream",
     "text": [
      "\n",
      "100%|███████████████████████████████████████████████████████████████████████████████████| 17/17 [07:42<00:00, 27.20s/it]\u001b[A\n"
     ]
    },
    {
     "name": "stdout",
     "output_type": "stream",
     "text": [
      "running row: 4 of 11\n"
     ]
    },
    {
     "name": "stderr",
     "output_type": "stream",
     "text": [
      "\n",
      "  0%|                                                                                            | 0/17 [00:00<?, ?it/s]\u001b[A"
     ]
    },
    {
     "name": "stdout",
     "output_type": "stream",
     "text": [
      "getting RGB\n",
      "creating RGB list\n",
      "masking\n",
      "writing nodata\n",
      "merging\n",
      "masking\n",
      "... completed in 7.8 secs\n",
      "getting DSM\n",
      "... completed in 1.1 secs\n",
      "computing TPI\n",
      "... completed in 6.0 secs\n",
      "computing NDVI\n",
      "... completed in 2.7 secs\n",
      "predicting binary burrow image\n",
      "... completed in 5.0 secs\n",
      "getting burrow locations\n",
      "... completed in 0.4 secs\n"
     ]
    },
    {
     "name": "stderr",
     "output_type": "stream",
     "text": [
      "\n",
      "  6%|████▉                                                                               | 1/17 [00:25<06:55, 25.96s/it]\u001b[A"
     ]
    },
    {
     "name": "stdout",
     "output_type": "stream",
     "text": [
      "getting RGB\n",
      "creating RGB list\n",
      "masking\n",
      "writing nodata\n",
      "merging\n",
      "masking\n",
      "... completed in 7.5 secs\n",
      "getting DSM\n",
      "... completed in 0.8 secs\n",
      "computing TPI\n",
      "... completed in 6.4 secs\n",
      "computing NDVI\n",
      "... completed in 2.4 secs\n",
      "predicting binary burrow image\n",
      "... completed in 5.0 secs\n",
      "getting burrow locations\n",
      "... completed in 0.5 secs\n"
     ]
    },
    {
     "name": "stderr",
     "output_type": "stream",
     "text": [
      "\n",
      " 12%|█████████▉                                                                          | 2/17 [00:51<06:27, 25.80s/it]\u001b[A"
     ]
    },
    {
     "name": "stdout",
     "output_type": "stream",
     "text": [
      "getting RGB\n",
      "creating RGB list\n",
      "masking\n",
      "writing nodata\n",
      "merging\n",
      "masking\n",
      "... completed in 7.1 secs\n",
      "getting DSM\n",
      "... completed in 0.8 secs\n",
      "computing TPI\n",
      "... completed in 6.0 secs\n",
      "computing NDVI\n",
      "... completed in 2.4 secs\n",
      "predicting binary burrow image\n",
      "... completed in 4.9 secs\n",
      "getting burrow locations\n",
      "... completed in 0.2 secs\n"
     ]
    },
    {
     "name": "stderr",
     "output_type": "stream",
     "text": [
      "\n",
      " 18%|██████████████▊                                                                     | 3/17 [01:16<05:52, 25.21s/it]\u001b[A"
     ]
    },
    {
     "name": "stdout",
     "output_type": "stream",
     "text": [
      "getting RGB\n",
      "creating RGB list\n",
      "masking\n",
      "writing nodata\n",
      "merging\n",
      "masking\n",
      "... completed in 7.2 secs\n",
      "getting DSM\n",
      "... completed in 0.7 secs\n",
      "computing TPI\n",
      "... completed in 6.2 secs\n",
      "computing NDVI\n",
      "... completed in 2.1 secs\n",
      "predicting binary burrow image\n",
      "... completed in 5.0 secs\n",
      "getting burrow locations\n",
      "... completed in 0.1 secs\n"
     ]
    },
    {
     "name": "stderr",
     "output_type": "stream",
     "text": [
      "\n",
      " 24%|███████████████████▊                                                                | 4/17 [01:40<05:23, 24.92s/it]\u001b[A"
     ]
    },
    {
     "name": "stdout",
     "output_type": "stream",
     "text": [
      "getting RGB\n",
      "creating RGB list\n",
      "masking\n",
      "writing nodata\n",
      "merging\n",
      "masking\n",
      "... completed in 7.1 secs\n",
      "getting DSM\n",
      "... completed in 0.7 secs\n",
      "computing TPI\n",
      "... completed in 6.2 secs\n",
      "computing NDVI\n",
      "... completed in 2.3 secs\n",
      "predicting binary burrow image\n",
      "... completed in 6.9 secs\n",
      "getting burrow locations\n",
      "... completed in 0.1 secs\n"
     ]
    },
    {
     "name": "stderr",
     "output_type": "stream",
     "text": [
      "\n",
      " 29%|████████████████████████▋                                                           | 5/17 [02:06<05:05, 25.43s/it]\u001b[A"
     ]
    },
    {
     "name": "stdout",
     "output_type": "stream",
     "text": [
      "getting RGB\n",
      "creating RGB list\n",
      "masking\n",
      "writing nodata\n",
      "merging\n",
      "masking\n",
      "... completed in 7.2 secs\n",
      "getting DSM\n",
      "... completed in 0.7 secs\n",
      "computing TPI\n",
      "... completed in 6.1 secs\n",
      "computing NDVI\n",
      "... completed in 2.4 secs\n",
      "predicting binary burrow image\n",
      "... completed in 5.3 secs\n",
      "getting burrow locations\n",
      "... completed in 0.1 secs\n"
     ]
    },
    {
     "name": "stderr",
     "output_type": "stream",
     "text": [
      "\n",
      " 35%|█████████████████████████████▋                                                      | 6/17 [02:31<04:37, 25.24s/it]\u001b[A"
     ]
    },
    {
     "name": "stdout",
     "output_type": "stream",
     "text": [
      "getting RGB\n",
      "creating RGB list\n",
      "masking\n",
      "writing nodata\n",
      "merging\n",
      "masking\n",
      "... completed in 7.6 secs\n",
      "getting DSM\n",
      "... completed in 0.7 secs\n",
      "computing TPI\n",
      "... completed in 6.5 secs\n",
      "computing NDVI\n",
      "... completed in 2.0 secs\n",
      "predicting binary burrow image\n",
      "... completed in 5.3 secs\n",
      "getting burrow locations\n",
      "... completed in 0.1 secs\n"
     ]
    },
    {
     "name": "stderr",
     "output_type": "stream",
     "text": [
      "\n",
      " 41%|██████████████████████████████████▌                                                 | 7/17 [02:57<04:12, 25.24s/it]\u001b[A"
     ]
    },
    {
     "name": "stdout",
     "output_type": "stream",
     "text": [
      "getting RGB\n",
      "creating RGB list\n",
      "masking\n",
      "writing nodata\n",
      "merging\n",
      "masking\n",
      "... completed in 7.4 secs\n",
      "getting DSM\n",
      "... completed in 0.7 secs\n",
      "computing TPI\n",
      "... completed in 6.4 secs\n",
      "computing NDVI\n",
      "... completed in 2.1 secs\n",
      "predicting binary burrow image\n",
      "... completed in 5.0 secs\n",
      "getting burrow locations\n",
      "... completed in 0.2 secs\n"
     ]
    },
    {
     "name": "stderr",
     "output_type": "stream",
     "text": [
      "\n",
      " 47%|███████████████████████████████████████▌                                            | 8/17 [03:22<03:46, 25.16s/it]\u001b[A"
     ]
    },
    {
     "name": "stdout",
     "output_type": "stream",
     "text": [
      "getting RGB\n",
      "creating RGB list\n",
      "masking\n",
      "writing nodata\n",
      "merging\n",
      "masking\n",
      "... completed in 6.9 secs\n",
      "getting DSM\n",
      "... completed in 0.7 secs\n",
      "computing TPI\n",
      "... completed in 6.3 secs\n",
      "computing NDVI\n",
      "... completed in 2.3 secs\n",
      "predicting binary burrow image\n",
      "... completed in 6.5 secs\n",
      "getting burrow locations\n",
      "... completed in 0.4 secs\n"
     ]
    },
    {
     "name": "stderr",
     "output_type": "stream",
     "text": [
      "\n",
      " 53%|████████████████████████████████████████████▍                                       | 9/17 [03:48<03:23, 25.49s/it]\u001b[A"
     ]
    },
    {
     "name": "stdout",
     "output_type": "stream",
     "text": [
      "getting RGB\n",
      "creating RGB list\n",
      "masking\n",
      "writing nodata\n",
      "merging\n",
      "masking\n",
      "... completed in 6.9 secs\n",
      "getting DSM\n",
      "... completed in 0.7 secs\n",
      "computing TPI\n",
      "... completed in 6.2 secs\n",
      "computing NDVI\n",
      "... completed in 2.8 secs\n",
      "predicting binary burrow image\n",
      "... completed in 5.1 secs\n",
      "getting burrow locations\n",
      "... completed in 0.4 secs\n"
     ]
    },
    {
     "name": "stderr",
     "output_type": "stream",
     "text": [
      "\n",
      " 59%|████████████████████████████████████████████████▊                                  | 10/17 [04:25<03:23, 29.14s/it]\u001b[A"
     ]
    },
    {
     "name": "stdout",
     "output_type": "stream",
     "text": [
      "getting RGB\n",
      "creating RGB list\n",
      "masking\n",
      "writing nodata\n",
      "merging\n",
      "masking\n",
      "... completed in 7.0 secs\n",
      "getting DSM\n",
      "... completed in 0.7 secs\n",
      "computing TPI\n",
      "... completed in 10.5 secs\n",
      "computing NDVI\n",
      "... completed in 2.2 secs\n",
      "predicting binary burrow image\n",
      "... completed in 5.0 secs\n",
      "getting burrow locations\n",
      "... completed in 0.3 secs\n"
     ]
    },
    {
     "name": "stderr",
     "output_type": "stream",
     "text": [
      "\n",
      " 65%|█████████████████████████████████████████████████████▋                             | 11/17 [04:54<02:54, 29.06s/it]\u001b[A"
     ]
    },
    {
     "name": "stdout",
     "output_type": "stream",
     "text": [
      "getting RGB\n",
      "creating RGB list\n",
      "masking\n",
      "writing nodata\n",
      "merging\n",
      "masking\n",
      "... completed in 6.8 secs\n",
      "getting DSM\n",
      "... completed in 0.7 secs\n",
      "computing TPI\n",
      "... completed in 6.2 secs\n",
      "computing NDVI\n",
      "... completed in 2.2 secs\n",
      "predicting binary burrow image\n",
      "... completed in 6.1 secs\n",
      "getting burrow locations\n",
      "... completed in 0.5 secs\n"
     ]
    },
    {
     "name": "stderr",
     "output_type": "stream",
     "text": [
      "\n",
      " 71%|██████████████████████████████████████████████████████████▌                        | 12/17 [05:20<02:20, 28.07s/it]\u001b[A"
     ]
    },
    {
     "name": "stdout",
     "output_type": "stream",
     "text": [
      "getting RGB\n",
      "creating RGB list\n",
      "masking\n",
      "writing nodata\n",
      "merging\n",
      "masking\n",
      "... completed in 7.1 secs\n",
      "getting DSM\n",
      "... completed in 0.7 secs\n",
      "computing TPI\n",
      "... completed in 6.3 secs\n",
      "computing NDVI\n",
      "... completed in 2.4 secs\n",
      "predicting binary burrow image\n",
      "... completed in 5.3 secs\n",
      "getting burrow locations\n",
      "... completed in 0.1 secs\n"
     ]
    },
    {
     "name": "stderr",
     "output_type": "stream",
     "text": [
      "\n",
      " 76%|███████████████████████████████████████████████████████████████▍                   | 13/17 [05:45<01:48, 27.22s/it]\u001b[A"
     ]
    },
    {
     "name": "stdout",
     "output_type": "stream",
     "text": [
      "getting RGB\n",
      "creating RGB list\n",
      "masking\n",
      "writing nodata\n",
      "merging\n",
      "masking\n",
      "... completed in 7.4 secs\n",
      "getting DSM\n",
      "... completed in 0.7 secs\n",
      "computing TPI\n",
      "... completed in 6.6 secs\n",
      "computing NDVI\n",
      "... completed in 2.1 secs\n",
      "predicting binary burrow image\n",
      "... completed in 5.2 secs\n",
      "getting burrow locations\n",
      "... completed in 0.1 secs\n"
     ]
    },
    {
     "name": "stderr",
     "output_type": "stream",
     "text": [
      "\n",
      " 82%|████████████████████████████████████████████████████████████████████▎              | 14/17 [06:10<01:20, 26.68s/it]\u001b[A"
     ]
    },
    {
     "name": "stdout",
     "output_type": "stream",
     "text": [
      "getting RGB\n",
      "creating RGB list\n",
      "masking\n",
      "writing nodata\n",
      "merging\n",
      "masking\n",
      "... completed in 7.6 secs\n",
      "getting DSM\n",
      "... completed in 0.7 secs\n",
      "computing TPI\n",
      "... completed in 6.4 secs\n",
      "computing NDVI\n",
      "... completed in 2.0 secs\n",
      "predicting binary burrow image\n",
      "... completed in 4.9 secs\n",
      "getting burrow locations\n",
      "... completed in 0.1 secs\n"
     ]
    },
    {
     "name": "stderr",
     "output_type": "stream",
     "text": [
      "\n",
      " 88%|█████████████████████████████████████████████████████████████████████████▏         | 15/17 [06:36<00:52, 26.19s/it]\u001b[A"
     ]
    },
    {
     "name": "stdout",
     "output_type": "stream",
     "text": [
      "getting RGB\n",
      "creating RGB list\n",
      "masking\n",
      "writing nodata\n",
      "merging\n",
      "masking\n",
      "... completed in 6.8 secs\n",
      "getting DSM\n",
      "... completed in 0.8 secs\n",
      "computing TPI\n",
      "... completed in 5.8 secs\n",
      "computing NDVI\n",
      "... completed in 2.2 secs\n",
      "predicting binary burrow image\n",
      "... completed in 3.4 secs\n",
      "getting burrow locations\n",
      "... completed in 0.2 secs\n"
     ]
    },
    {
     "name": "stderr",
     "output_type": "stream",
     "text": [
      "\n",
      " 94%|██████████████████████████████████████████████████████████████████████████████     | 16/17 [06:58<00:25, 25.08s/it]\u001b[A"
     ]
    },
    {
     "name": "stdout",
     "output_type": "stream",
     "text": [
      "getting RGB\n",
      "creating RGB list\n",
      "masking\n",
      "writing nodata\n",
      "merging\n",
      "masking\n",
      "... completed in 6.0 secs\n",
      "getting DSM\n",
      "... completed in 0.7 secs\n",
      "computing TPI\n",
      "... completed in 6.1 secs\n",
      "computing NDVI\n",
      "... completed in 1.7 secs\n",
      "predicting binary burrow image\n",
      "... completed in 16.6 secs\n",
      "getting burrow locations\n",
      "... completed in 0.2 secs\n"
     ]
    },
    {
     "name": "stderr",
     "output_type": "stream",
     "text": [
      "\n",
      "100%|███████████████████████████████████████████████████████████████████████████████████| 17/17 [07:33<00:00, 26.66s/it]\u001b[A\n"
     ]
    },
    {
     "name": "stdout",
     "output_type": "stream",
     "text": [
      "running row: 5 of 11\n"
     ]
    },
    {
     "name": "stderr",
     "output_type": "stream",
     "text": [
      "\n",
      "  0%|                                                                                            | 0/17 [00:00<?, ?it/s]\u001b[A"
     ]
    },
    {
     "name": "stdout",
     "output_type": "stream",
     "text": [
      "getting RGB\n",
      "creating RGB list\n",
      "masking\n",
      "writing nodata\n",
      "merging\n",
      "masking\n",
      "... completed in 7.8 secs\n",
      "getting DSM\n",
      "... completed in 1.0 secs\n",
      "computing TPI\n",
      "... completed in 5.8 secs\n",
      "computing NDVI\n",
      "... completed in 2.9 secs\n",
      "predicting binary burrow image\n",
      "... completed in 8.4 secs\n",
      "getting burrow locations\n",
      "... completed in 0.2 secs\n"
     ]
    },
    {
     "name": "stderr",
     "output_type": "stream",
     "text": [
      "\n",
      "  6%|████▉                                                                               | 1/17 [00:29<07:52, 29.56s/it]\u001b[A"
     ]
    },
    {
     "name": "stdout",
     "output_type": "stream",
     "text": [
      "getting RGB\n",
      "creating RGB list\n",
      "masking\n",
      "writing nodata\n",
      "merging\n",
      "masking\n",
      "... completed in 7.0 secs\n",
      "getting DSM\n",
      "... completed in 0.7 secs\n",
      "computing TPI\n",
      "... completed in 5.7 secs\n",
      "computing NDVI\n",
      "... completed in 2.8 secs\n",
      "predicting binary burrow image\n",
      "... completed in 7.9 secs\n",
      "getting burrow locations\n",
      "... completed in 0.1 secs\n"
     ]
    },
    {
     "name": "stderr",
     "output_type": "stream",
     "text": [
      "\n",
      " 12%|█████████▉                                                                          | 2/17 [00:57<07:08, 28.55s/it]\u001b[A"
     ]
    },
    {
     "name": "stdout",
     "output_type": "stream",
     "text": [
      "getting RGB\n",
      "creating RGB list\n",
      "masking\n",
      "writing nodata\n",
      "merging\n",
      "masking\n",
      "... completed in 7.0 secs\n",
      "getting DSM\n",
      "... completed in 0.7 secs\n",
      "computing TPI\n",
      "... completed in 6.0 secs\n",
      "computing NDVI\n",
      "... completed in 2.2 secs\n",
      "predicting binary burrow image\n",
      "... completed in 8.3 secs\n",
      "getting burrow locations\n",
      "... completed in 0.1 secs\n"
     ]
    },
    {
     "name": "stderr",
     "output_type": "stream",
     "text": [
      "\n",
      " 18%|██████████████▊                                                                     | 3/17 [01:25<06:35, 28.22s/it]\u001b[A"
     ]
    },
    {
     "name": "stdout",
     "output_type": "stream",
     "text": [
      "getting RGB\n",
      "creating RGB list\n",
      "masking\n",
      "writing nodata\n",
      "merging\n",
      "masking\n",
      "... completed in 7.4 secs\n",
      "getting DSM\n",
      "... completed in 0.7 secs\n",
      "computing TPI\n",
      "... completed in 6.5 secs\n",
      "computing NDVI\n",
      "... completed in 2.7 secs\n",
      "predicting binary burrow image\n",
      "... completed in 8.1 secs\n",
      "getting burrow locations\n",
      "... completed in 0.1 secs\n"
     ]
    },
    {
     "name": "stderr",
     "output_type": "stream",
     "text": [
      "\n",
      " 24%|███████████████████▊                                                                | 4/17 [01:54<06:10, 28.52s/it]\u001b[A"
     ]
    },
    {
     "name": "stdout",
     "output_type": "stream",
     "text": [
      "getting RGB\n",
      "creating RGB list\n",
      "masking\n",
      "writing nodata\n",
      "merging\n",
      "masking\n",
      "... completed in 7.2 secs\n",
      "getting DSM\n",
      "... completed in 0.9 secs\n",
      "computing TPI\n",
      "... completed in 5.9 secs\n",
      "computing NDVI\n",
      "... completed in 2.5 secs\n",
      "predicting binary burrow image\n",
      "... completed in 8.3 secs\n",
      "getting burrow locations\n",
      "... completed in 0.1 secs\n"
     ]
    },
    {
     "name": "stderr",
     "output_type": "stream",
     "text": [
      "\n",
      " 29%|████████████████████████▋                                                           | 5/17 [02:22<05:42, 28.56s/it]\u001b[A"
     ]
    },
    {
     "name": "stdout",
     "output_type": "stream",
     "text": [
      "getting RGB\n",
      "creating RGB list\n",
      "masking\n",
      "writing nodata\n",
      "merging\n",
      "masking\n",
      "... completed in 7.3 secs\n",
      "getting DSM\n",
      "... completed in 0.7 secs\n",
      "computing TPI\n",
      "... completed in 6.4 secs\n",
      "computing NDVI\n",
      "... completed in 2.8 secs\n",
      "predicting binary burrow image\n",
      "... completed in 8.4 secs\n",
      "getting burrow locations\n",
      "... completed in 0.1 secs\n"
     ]
    },
    {
     "name": "stderr",
     "output_type": "stream",
     "text": [
      "\n",
      " 35%|█████████████████████████████▋                                                      | 6/17 [02:52<05:16, 28.78s/it]\u001b[A"
     ]
    },
    {
     "name": "stdout",
     "output_type": "stream",
     "text": [
      "getting RGB\n",
      "creating RGB list\n",
      "masking\n",
      "writing nodata\n",
      "merging\n",
      "masking\n",
      "... completed in 7.5 secs\n",
      "getting DSM\n",
      "... completed in 0.7 secs\n",
      "computing TPI\n",
      "... completed in 6.5 secs\n",
      "computing NDVI\n",
      "... completed in 2.0 secs\n",
      "predicting binary burrow image\n",
      "... completed in 8.2 secs\n",
      "getting burrow locations\n",
      "... completed in 0.2 secs\n"
     ]
    },
    {
     "name": "stderr",
     "output_type": "stream",
     "text": [
      "\n",
      " 41%|██████████████████████████████████▌                                                 | 7/17 [03:20<04:47, 28.74s/it]\u001b[A"
     ]
    },
    {
     "name": "stdout",
     "output_type": "stream",
     "text": [
      "getting RGB\n",
      "creating RGB list\n",
      "masking\n",
      "writing nodata\n",
      "merging\n",
      "masking\n",
      "... completed in 7.6 secs\n",
      "getting DSM\n",
      "... completed in 0.7 secs\n",
      "computing TPI\n",
      "... completed in 6.2 secs\n",
      "computing NDVI\n",
      "... completed in 2.7 secs\n",
      "predicting binary burrow image\n",
      "... completed in 8.2 secs\n",
      "getting burrow locations\n",
      "... completed in 0.2 secs\n"
     ]
    },
    {
     "name": "stderr",
     "output_type": "stream",
     "text": [
      "distributed.nanny - WARNING - Worker exceeded 95% memory budget. Restarting\n",
      "distributed.nanny - WARNING - Worker exceeded 95% memory budget. Restarting\n",
      "distributed.nanny - WARNING - Worker exceeded 95% memory budget. Restarting\n",
      "distributed.client - ERROR - Restart timed out after 9.00 seconds\n",
      "\n",
      " 47%|███████████████████████████████████████▌                                            | 8/17 [04:09<05:15, 35.00s/it]\u001b[A"
     ]
    },
    {
     "name": "stdout",
     "output_type": "stream",
     "text": [
      "getting RGB\n",
      "creating RGB list\n",
      "masking\n",
      "writing nodata\n",
      "merging\n",
      "masking\n",
      "... completed in 7.0 secs\n",
      "getting DSM\n",
      "... completed in 0.8 secs\n",
      "computing TPI\n",
      "... completed in 11.2 secs\n",
      "computing NDVI\n",
      "... completed in 2.5 secs\n",
      "predicting binary burrow image\n",
      "... completed in 8.2 secs\n",
      "getting burrow locations\n",
      "... completed in 0.5 secs\n"
     ]
    },
    {
     "name": "stderr",
     "output_type": "stream",
     "text": [
      "\n",
      " 53%|████████████████████████████████████████████▍                                       | 9/17 [04:44<04:40, 35.12s/it]\u001b[A"
     ]
    },
    {
     "name": "stdout",
     "output_type": "stream",
     "text": [
      "getting RGB\n",
      "creating RGB list\n",
      "masking\n",
      "writing nodata\n",
      "merging\n",
      "masking\n",
      "... completed in 6.9 secs\n",
      "getting DSM\n",
      "... completed in 0.7 secs\n",
      "computing TPI\n",
      "... completed in 6.7 secs\n",
      "computing NDVI\n",
      "... completed in 2.5 secs\n",
      "predicting binary burrow image\n",
      "... completed in 8.2 secs\n",
      "getting burrow locations\n",
      "... completed in 0.2 secs\n"
     ]
    },
    {
     "name": "stderr",
     "output_type": "stream",
     "text": [
      "\n",
      " 59%|████████████████████████████████████████████████▊                                  | 10/17 [05:13<03:52, 33.22s/it]\u001b[A"
     ]
    },
    {
     "name": "stdout",
     "output_type": "stream",
     "text": [
      "getting RGB\n",
      "creating RGB list\n",
      "masking\n",
      "writing nodata\n",
      "merging\n",
      "masking\n",
      "... completed in 6.8 secs\n",
      "getting DSM\n",
      "... completed in 0.7 secs\n",
      "computing TPI\n",
      "... completed in 7.3 secs\n",
      "computing NDVI\n",
      "... completed in 2.1 secs\n",
      "predicting binary burrow image\n",
      "... completed in 7.8 secs\n",
      "getting burrow locations\n",
      "... completed in 0.2 secs\n"
     ]
    },
    {
     "name": "stderr",
     "output_type": "stream",
     "text": [
      "\n",
      " 65%|█████████████████████████████████████████████████████▋                             | 11/17 [05:42<03:10, 31.79s/it]\u001b[A"
     ]
    },
    {
     "name": "stdout",
     "output_type": "stream",
     "text": [
      "getting RGB\n",
      "creating RGB list\n",
      "masking\n",
      "writing nodata\n",
      "merging\n",
      "masking\n",
      "... completed in 7.0 secs\n",
      "getting DSM\n",
      "... completed in 0.7 secs\n",
      "computing TPI\n",
      "... completed in 7.0 secs\n",
      "computing NDVI\n",
      "... completed in 2.7 secs\n",
      "predicting binary burrow image\n",
      "... completed in 7.9 secs\n",
      "getting burrow locations\n",
      "... completed in 0.1 secs\n"
     ]
    },
    {
     "name": "stderr",
     "output_type": "stream",
     "text": [
      "\n",
      " 71%|██████████████████████████████████████████████████████████▌                        | 12/17 [06:11<02:35, 31.01s/it]\u001b[A"
     ]
    },
    {
     "name": "stdout",
     "output_type": "stream",
     "text": [
      "getting RGB\n",
      "creating RGB list\n",
      "masking\n",
      "writing nodata\n",
      "merging\n",
      "masking\n",
      "... completed in 7.1 secs\n",
      "getting DSM\n",
      "... completed in 0.8 secs\n",
      "computing TPI\n",
      "... completed in 6.5 secs\n",
      "computing NDVI\n",
      "... completed in 2.6 secs\n",
      "predicting binary burrow image\n",
      "... completed in 7.7 secs\n",
      "getting burrow locations\n",
      "... completed in 0.1 secs\n"
     ]
    },
    {
     "name": "stderr",
     "output_type": "stream",
     "text": [
      "\n",
      " 76%|███████████████████████████████████████████████████████████████▍                   | 13/17 [06:39<02:01, 30.26s/it]\u001b[A"
     ]
    },
    {
     "name": "stdout",
     "output_type": "stream",
     "text": [
      "getting RGB\n",
      "creating RGB list\n",
      "masking\n",
      "writing nodata\n",
      "merging\n",
      "masking\n",
      "... completed in 7.1 secs\n",
      "getting DSM\n",
      "... completed in 0.7 secs\n",
      "computing TPI\n",
      "... completed in 6.8 secs\n",
      "computing NDVI\n",
      "... completed in 2.5 secs\n",
      "predicting binary burrow image\n",
      "... completed in 7.7 secs\n",
      "getting burrow locations\n",
      "... completed in 0.3 secs\n"
     ]
    },
    {
     "name": "stderr",
     "output_type": "stream",
     "text": [
      "\n",
      " 82%|████████████████████████████████████████████████████████████████████▎              | 14/17 [07:08<01:29, 29.79s/it]\u001b[A"
     ]
    },
    {
     "name": "stdout",
     "output_type": "stream",
     "text": [
      "getting RGB\n",
      "creating RGB list\n",
      "masking\n",
      "writing nodata\n",
      "merging\n",
      "masking\n",
      "... completed in 7.4 secs\n",
      "getting DSM\n",
      "... completed in 0.7 secs\n",
      "computing TPI\n",
      "... completed in 7.6 secs\n",
      "computing NDVI\n",
      "... completed in 2.0 secs\n",
      "predicting binary burrow image\n",
      "... completed in 7.7 secs\n",
      "getting burrow locations\n",
      "... completed in 0.2 secs\n"
     ]
    },
    {
     "name": "stderr",
     "output_type": "stream",
     "text": [
      "\n",
      " 88%|█████████████████████████████████████████████████████████████████████████▏         | 15/17 [07:38<00:59, 29.80s/it]\u001b[A"
     ]
    },
    {
     "name": "stdout",
     "output_type": "stream",
     "text": [
      "getting RGB\n",
      "creating RGB list\n",
      "masking\n",
      "writing nodata\n",
      "merging\n",
      "masking\n",
      "... completed in 7.4 secs\n",
      "getting DSM\n",
      "... completed in 0.7 secs\n",
      "computing TPI\n",
      "... completed in 7.0 secs\n",
      "computing NDVI\n",
      "... completed in 2.4 secs\n",
      "predicting binary burrow image\n",
      "... completed in 6.0 secs\n",
      "getting burrow locations\n",
      "... completed in 0.3 secs\n"
     ]
    },
    {
     "name": "stderr",
     "output_type": "stream",
     "text": [
      "\n",
      " 94%|██████████████████████████████████████████████████████████████████████████████     | 16/17 [08:06<00:29, 29.22s/it]\u001b[A"
     ]
    },
    {
     "name": "stdout",
     "output_type": "stream",
     "text": [
      "getting RGB\n",
      "creating RGB list\n",
      "masking\n",
      "writing nodata\n",
      "merging\n",
      "masking\n",
      "... completed in 5.4 secs\n",
      "getting DSM\n",
      "... completed in 0.9 secs\n",
      "computing TPI\n",
      "... completed in 6.7 secs\n",
      "computing NDVI\n",
      "... completed in 2.4 secs\n",
      "predicting binary burrow image\n",
      "... completed in 20.7 secs\n",
      "getting burrow locations\n",
      "... completed in 0.3 secs\n"
     ]
    },
    {
     "name": "stderr",
     "output_type": "stream",
     "text": [
      "\n",
      "100%|███████████████████████████████████████████████████████████████████████████████████| 17/17 [08:46<00:00, 30.97s/it]\u001b[A\n"
     ]
    },
    {
     "name": "stdout",
     "output_type": "stream",
     "text": [
      "running row: 6 of 11\n"
     ]
    },
    {
     "name": "stderr",
     "output_type": "stream",
     "text": [
      "\n",
      "  0%|                                                                                            | 0/17 [00:00<?, ?it/s]\u001b[A"
     ]
    },
    {
     "name": "stdout",
     "output_type": "stream",
     "text": [
      "getting RGB\n",
      "creating RGB list\n",
      "masking\n",
      "writing nodata\n",
      "merging\n",
      "masking\n",
      "... completed in 8.3 secs\n",
      "getting DSM\n",
      "... completed in 1.1 secs\n",
      "computing TPI\n",
      "... completed in 6.7 secs\n",
      "computing NDVI\n",
      "... completed in 3.1 secs\n",
      "predicting binary burrow image\n",
      "... completed in 2.9 secs\n",
      "getting burrow locations\n",
      "... completed in 0.1 secs\n"
     ]
    },
    {
     "name": "stderr",
     "output_type": "stream",
     "text": [
      "\n",
      "  6%|████▉                                                                               | 1/17 [00:26<07:03, 26.44s/it]\u001b[A"
     ]
    },
    {
     "name": "stdout",
     "output_type": "stream",
     "text": [
      "getting RGB\n",
      "creating RGB list\n",
      "masking\n",
      "writing nodata\n",
      "merging\n",
      "masking\n",
      "... completed in 7.5 secs\n",
      "getting DSM\n",
      "... completed in 0.8 secs\n",
      "computing TPI\n",
      "... completed in 6.2 secs\n",
      "computing NDVI\n",
      "... completed in 2.6 secs\n",
      "predicting binary burrow image\n",
      "... completed in 4.4 secs\n",
      "getting burrow locations\n",
      "... completed in 0.1 secs\n"
     ]
    },
    {
     "name": "stderr",
     "output_type": "stream",
     "text": [
      "\n",
      " 12%|█████████▉                                                                          | 2/17 [00:52<06:32, 26.15s/it]\u001b[A"
     ]
    },
    {
     "name": "stdout",
     "output_type": "stream",
     "text": [
      "getting RGB\n",
      "creating RGB list\n",
      "masking\n",
      "writing nodata\n",
      "merging\n",
      "masking\n",
      "... completed in 7.8 secs\n",
      "getting DSM\n",
      "... completed in 0.7 secs\n",
      "computing TPI\n",
      "... completed in 7.9 secs\n",
      "computing NDVI\n",
      "... completed in 2.6 secs\n",
      "predicting binary burrow image\n",
      "... completed in 2.8 secs\n",
      "getting burrow locations\n"
     ]
    },
    {
     "name": "stderr",
     "output_type": "stream",
     "text": [
      "\n",
      " 18%|██████████████▊                                                                     | 3/17 [01:18<06:05, 26.13s/it]\u001b[A"
     ]
    },
    {
     "name": "stdout",
     "output_type": "stream",
     "text": [
      "getting RGB\n",
      "creating RGB list\n",
      "masking\n",
      "writing nodata\n",
      "merging\n",
      "masking\n",
      "... completed in 7.5 secs\n",
      "getting DSM\n",
      "... completed in 0.7 secs\n",
      "computing TPI\n",
      "... completed in 8.6 secs\n",
      "computing NDVI\n",
      "... completed in 2.6 secs\n",
      "predicting binary burrow image\n",
      "... completed in 6.4 secs\n",
      "getting burrow locations\n"
     ]
    },
    {
     "name": "stderr",
     "output_type": "stream",
     "text": [
      "\n",
      " 24%|███████████████████▊                                                                | 4/17 [01:48<05:58, 27.61s/it]\u001b[A"
     ]
    },
    {
     "name": "stdout",
     "output_type": "stream",
     "text": [
      "getting RGB\n",
      "creating RGB list\n",
      "masking\n",
      "writing nodata\n",
      "merging\n",
      "masking\n",
      "... completed in 7.4 secs\n",
      "getting DSM\n",
      "... completed in 0.8 secs\n",
      "computing TPI\n",
      "... completed in 6.4 secs\n",
      "computing NDVI\n",
      "... completed in 3.0 secs\n",
      "predicting binary burrow image\n",
      "... completed in 4.4 secs\n",
      "getting burrow locations\n",
      "... completed in 0.1 secs\n"
     ]
    },
    {
     "name": "stderr",
     "output_type": "stream",
     "text": [
      "\n",
      " 29%|████████████████████████▋                                                           | 5/17 [02:14<05:24, 27.01s/it]\u001b[A"
     ]
    },
    {
     "name": "stdout",
     "output_type": "stream",
     "text": [
      "getting RGB\n",
      "creating RGB list\n",
      "masking\n",
      "writing nodata\n",
      "merging\n",
      "masking\n",
      "... completed in 7.3 secs\n",
      "getting DSM\n",
      "... completed in 0.7 secs\n",
      "computing TPI\n",
      "... completed in 7.0 secs\n",
      "computing NDVI\n",
      "... completed in 2.8 secs\n",
      "predicting binary burrow image\n",
      "... completed in 6.0 secs\n",
      "getting burrow locations\n",
      "... completed in 0.1 secs\n"
     ]
    },
    {
     "name": "stderr",
     "output_type": "stream",
     "text": [
      "\n",
      " 35%|█████████████████████████████▋                                                      | 6/17 [02:54<05:47, 31.59s/it]\u001b[A"
     ]
    },
    {
     "name": "stdout",
     "output_type": "stream",
     "text": [
      "getting RGB\n",
      "creating RGB list\n",
      "masking\n",
      "writing nodata\n",
      "merging\n",
      "masking\n",
      "... completed in 7.3 secs\n",
      "getting DSM\n",
      "... completed in 0.7 secs\n",
      "computing TPI\n",
      "... completed in 11.6 secs\n",
      "computing NDVI\n",
      "... completed in 2.4 secs\n",
      "predicting binary burrow image\n",
      "... completed in 4.4 secs\n",
      "getting burrow locations\n",
      "... completed in 0.2 secs\n"
     ]
    },
    {
     "name": "stderr",
     "output_type": "stream",
     "text": [
      "\n",
      " 41%|██████████████████████████████████▌                                                 | 7/17 [03:25<05:12, 31.29s/it]\u001b[A"
     ]
    },
    {
     "name": "stdout",
     "output_type": "stream",
     "text": [
      "getting RGB\n",
      "creating RGB list\n",
      "masking\n",
      "writing nodata\n",
      "merging\n",
      "masking\n",
      "... completed in 7.5 secs\n",
      "getting DSM\n",
      "... completed in 0.7 secs\n",
      "computing TPI\n",
      "... completed in 6.5 secs\n",
      "computing NDVI\n",
      "... completed in 2.8 secs\n",
      "predicting binary burrow image\n",
      "... completed in 6.0 secs\n",
      "getting burrow locations\n",
      "... completed in 0.3 secs\n"
     ]
    },
    {
     "name": "stderr",
     "output_type": "stream",
     "text": [
      "\n",
      " 47%|███████████████████████████████████████▌                                            | 8/17 [03:53<04:31, 30.20s/it]\u001b[A"
     ]
    },
    {
     "name": "stdout",
     "output_type": "stream",
     "text": [
      "getting RGB\n",
      "creating RGB list\n",
      "masking\n",
      "writing nodata\n",
      "merging\n",
      "masking\n",
      "... completed in 7.5 secs\n",
      "getting DSM\n",
      "... completed in 0.8 secs\n",
      "computing TPI\n",
      "... completed in 7.5 secs\n",
      "computing NDVI\n",
      "... completed in 2.7 secs\n",
      "predicting binary burrow image\n",
      "... completed in 3.1 secs\n",
      "getting burrow locations\n",
      "... completed in 0.4 secs\n"
     ]
    },
    {
     "name": "stderr",
     "output_type": "stream",
     "text": [
      "\n",
      " 53%|████████████████████████████████████████████▍                                       | 9/17 [04:19<03:51, 28.96s/it]\u001b[A"
     ]
    },
    {
     "name": "stdout",
     "output_type": "stream",
     "text": [
      "getting RGB\n",
      "creating RGB list\n",
      "masking\n",
      "writing nodata\n",
      "merging\n",
      "masking\n",
      "... completed in 7.7 secs\n",
      "getting DSM\n",
      "... completed in 0.8 secs\n",
      "computing TPI\n",
      "... completed in 8.4 secs\n",
      "computing NDVI\n",
      "... completed in 2.8 secs\n",
      "predicting binary burrow image\n",
      "... completed in 4.4 secs\n",
      "getting burrow locations\n",
      "... completed in 0.4 secs\n"
     ]
    },
    {
     "name": "stderr",
     "output_type": "stream",
     "text": [
      "\n",
      " 59%|████████████████████████████████████████████████▊                                  | 10/17 [04:48<03:22, 28.91s/it]\u001b[A"
     ]
    },
    {
     "name": "stdout",
     "output_type": "stream",
     "text": [
      "getting RGB\n",
      "creating RGB list\n",
      "masking\n",
      "writing nodata\n",
      "merging\n",
      "masking\n",
      "... completed in 7.2 secs\n",
      "getting DSM\n",
      "... completed in 0.7 secs\n",
      "computing TPI\n",
      "... completed in 7.1 secs\n",
      "computing NDVI\n",
      "... completed in 2.3 secs\n",
      "predicting binary burrow image\n",
      "... completed in 2.9 secs\n",
      "getting burrow locations\n",
      "... completed in 0.2 secs\n"
     ]
    },
    {
     "name": "stderr",
     "output_type": "stream",
     "text": [
      "\n",
      " 65%|█████████████████████████████████████████████████████▋                             | 11/17 [05:13<02:45, 27.66s/it]\u001b[A"
     ]
    },
    {
     "name": "stdout",
     "output_type": "stream",
     "text": [
      "getting RGB\n",
      "creating RGB list\n",
      "masking\n",
      "writing nodata\n",
      "merging\n",
      "masking\n",
      "... completed in 7.4 secs\n",
      "getting DSM\n",
      "... completed in 0.9 secs\n",
      "computing TPI\n",
      "... completed in 8.3 secs\n",
      "computing NDVI\n",
      "... completed in 2.5 secs\n",
      "predicting binary burrow image\n",
      "... completed in 4.5 secs\n",
      "getting burrow locations\n",
      "... completed in 0.2 secs\n"
     ]
    },
    {
     "name": "stderr",
     "output_type": "stream",
     "text": [
      "\n",
      " 71%|██████████████████████████████████████████████████████████▌                        | 12/17 [05:41<02:19, 27.80s/it]\u001b[A"
     ]
    },
    {
     "name": "stdout",
     "output_type": "stream",
     "text": [
      "getting RGB\n",
      "creating RGB list\n",
      "masking\n",
      "writing nodata\n",
      "merging\n",
      "masking\n",
      "... completed in 7.4 secs\n",
      "getting DSM\n",
      "... completed in 0.8 secs\n",
      "computing TPI\n",
      "... completed in 6.2 secs\n",
      "computing NDVI\n",
      "... completed in 2.7 secs\n",
      "predicting binary burrow image\n",
      "... completed in 2.8 secs\n",
      "getting burrow locations\n",
      "... completed in 0.3 secs\n"
     ]
    },
    {
     "name": "stderr",
     "output_type": "stream",
     "text": [
      "\n",
      " 76%|███████████████████████████████████████████████████████████████▍                   | 13/17 [06:05<01:46, 26.73s/it]\u001b[A"
     ]
    },
    {
     "name": "stdout",
     "output_type": "stream",
     "text": [
      "getting RGB\n",
      "creating RGB list\n",
      "masking\n",
      "writing nodata\n",
      "merging\n",
      "masking\n",
      "... completed in 7.1 secs\n",
      "getting DSM\n",
      "... completed in 0.8 secs\n",
      "computing TPI\n",
      "... completed in 8.4 secs\n",
      "computing NDVI\n",
      "... completed in 2.5 secs\n",
      "predicting binary burrow image\n",
      "... completed in 6.3 secs\n",
      "getting burrow locations\n",
      "... completed in 0.6 secs\n"
     ]
    },
    {
     "name": "stderr",
     "output_type": "stream",
     "text": [
      "\n",
      " 82%|████████████████████████████████████████████████████████████████████▎              | 14/17 [06:36<01:23, 27.85s/it]\u001b[A"
     ]
    },
    {
     "name": "stdout",
     "output_type": "stream",
     "text": [
      "getting RGB\n",
      "creating RGB list\n",
      "masking\n",
      "writing nodata\n",
      "merging\n",
      "masking\n",
      "... completed in 7.2 secs\n",
      "getting DSM\n",
      "... completed in 0.7 secs\n",
      "computing TPI\n",
      "... completed in 6.5 secs\n",
      "computing NDVI\n",
      "... completed in 2.6 secs\n",
      "predicting binary burrow image\n",
      "... completed in 4.6 secs\n",
      "getting burrow locations\n",
      "... completed in 0.5 secs\n"
     ]
    },
    {
     "name": "stderr",
     "output_type": "stream",
     "text": [
      "\n",
      " 88%|█████████████████████████████████████████████████████████████████████████▏         | 15/17 [07:02<00:54, 27.47s/it]\u001b[A"
     ]
    },
    {
     "name": "stdout",
     "output_type": "stream",
     "text": [
      "getting RGB\n",
      "creating RGB list\n",
      "masking\n",
      "writing nodata\n",
      "merging\n",
      "masking\n",
      "... completed in 7.6 secs\n",
      "getting DSM\n",
      "... completed in 1.0 secs\n",
      "computing TPI\n",
      "... completed in 7.5 secs\n",
      "computing NDVI\n",
      "... completed in 2.6 secs\n",
      "predicting binary burrow image\n",
      "... completed in 4.6 secs\n",
      "getting burrow locations\n",
      "... completed in 0.2 secs\n"
     ]
    },
    {
     "name": "stderr",
     "output_type": "stream",
     "text": [
      "\n",
      " 94%|██████████████████████████████████████████████████████████████████████████████     | 16/17 [07:30<00:27, 27.61s/it]\u001b[A"
     ]
    },
    {
     "name": "stdout",
     "output_type": "stream",
     "text": [
      "getting RGB\n",
      "creating RGB list\n",
      "masking\n",
      "writing nodata\n",
      "merging\n",
      "masking\n",
      "... completed in 5.6 secs\n",
      "getting DSM\n",
      "... completed in 1.0 secs\n",
      "computing TPI\n",
      "... completed in 5.7 secs\n",
      "computing NDVI\n",
      "... completed in 2.8 secs\n",
      "predicting binary burrow image\n",
      "... completed in 18.0 secs\n",
      "getting burrow locations\n",
      "... completed in 0.2 secs\n"
     ]
    },
    {
     "name": "stderr",
     "output_type": "stream",
     "text": [
      "\n",
      "100%|███████████████████████████████████████████████████████████████████████████████████| 17/17 [08:08<00:00, 28.73s/it]\u001b[A\n"
     ]
    },
    {
     "name": "stdout",
     "output_type": "stream",
     "text": [
      "running row: 7 of 11\n"
     ]
    },
    {
     "name": "stderr",
     "output_type": "stream",
     "text": [
      "\n",
      "  0%|                                                                                            | 0/17 [00:00<?, ?it/s]\u001b[A"
     ]
    },
    {
     "name": "stdout",
     "output_type": "stream",
     "text": [
      "getting RGB\n",
      "creating RGB list\n",
      "masking\n",
      "writing nodata\n",
      "merging\n",
      "masking\n",
      "... completed in 8.3 secs\n",
      "getting DSM\n",
      "... completed in 1.0 secs\n",
      "computing TPI\n",
      "... completed in 6.5 secs\n",
      "computing NDVI\n",
      "... completed in 2.4 secs\n",
      "predicting binary burrow image\n",
      "... completed in 6.0 secs\n",
      "getting burrow locations\n",
      "... completed in 0.1 secs\n"
     ]
    },
    {
     "name": "stderr",
     "output_type": "stream",
     "text": [
      "\n",
      "  6%|████▉                                                                               | 1/17 [00:28<07:40, 28.78s/it]\u001b[A"
     ]
    },
    {
     "name": "stdout",
     "output_type": "stream",
     "text": [
      "getting RGB\n",
      "creating RGB list\n",
      "masking\n",
      "writing nodata\n",
      "merging\n",
      "masking\n",
      "... completed in 7.4 secs\n",
      "getting DSM\n",
      "... completed in 0.7 secs\n",
      "computing TPI\n",
      "... completed in 8.6 secs\n",
      "computing NDVI\n",
      "... completed in 1.6 secs\n",
      "predicting binary burrow image\n",
      "... completed in 7.9 secs\n",
      "getting burrow locations\n",
      "... completed in 0.1 secs\n"
     ]
    },
    {
     "name": "stderr",
     "output_type": "stream",
     "text": [
      "\n",
      " 12%|█████████▉                                                                          | 2/17 [00:59<07:30, 30.03s/it]\u001b[A"
     ]
    },
    {
     "name": "stdout",
     "output_type": "stream",
     "text": [
      "getting RGB\n",
      "creating RGB list\n",
      "masking\n",
      "writing nodata\n",
      "merging\n",
      "masking\n",
      "... completed in 7.5 secs\n",
      "getting DSM\n",
      "... completed in 0.7 secs\n",
      "computing TPI\n",
      "... completed in 6.5 secs\n",
      "computing NDVI\n",
      "... completed in 1.6 secs\n",
      "predicting binary burrow image\n",
      "... completed in 7.2 secs\n",
      "getting burrow locations\n"
     ]
    },
    {
     "name": "stderr",
     "output_type": "stream",
     "text": [
      "\n",
      " 18%|██████████████▊                                                                     | 3/17 [01:27<06:47, 29.10s/it]\u001b[A"
     ]
    },
    {
     "name": "stdout",
     "output_type": "stream",
     "text": [
      "getting RGB\n",
      "creating RGB list\n",
      "masking\n",
      "writing nodata\n",
      "merging\n",
      "masking\n",
      "... completed in 7.4 secs\n",
      "getting DSM\n",
      "... completed in 0.8 secs\n",
      "computing TPI\n",
      "... completed in 7.1 secs\n",
      "computing NDVI\n",
      "... completed in 1.7 secs\n",
      "predicting binary burrow image\n",
      "... completed in 9.5 secs\n",
      "getting burrow locations\n",
      "... completed in 0.1 secs\n"
     ]
    },
    {
     "name": "stderr",
     "output_type": "stream",
     "text": [
      "distributed.nanny - WARNING - Worker exceeded 95% memory budget. Restarting\n",
      "distributed.client - ERROR - Restart timed out after 9.00 seconds\n",
      "\n",
      " 24%|███████████████████▊                                                                | 4/17 [02:17<08:06, 37.43s/it]\u001b[A"
     ]
    },
    {
     "name": "stdout",
     "output_type": "stream",
     "text": [
      "getting RGB\n",
      "creating RGB list\n",
      "masking\n",
      "writing nodata\n",
      "merging\n",
      "masking\n",
      "... completed in 7.7 secs\n",
      "getting DSM\n",
      "... completed in 0.8 secs\n",
      "computing TPI\n",
      "... completed in 10.8 secs\n",
      "computing NDVI\n",
      "... completed in 1.9 secs\n",
      "predicting binary burrow image\n",
      "... completed in 8.5 secs\n",
      "getting burrow locations\n",
      "... completed in 0.1 secs\n"
     ]
    },
    {
     "name": "stderr",
     "output_type": "stream",
     "text": [
      "\n",
      " 29%|████████████████████████▋                                                           | 5/17 [02:53<07:22, 36.87s/it]\u001b[A"
     ]
    },
    {
     "name": "stdout",
     "output_type": "stream",
     "text": [
      "getting RGB\n",
      "creating RGB list\n",
      "masking\n",
      "writing nodata\n",
      "merging\n",
      "masking\n",
      "... completed in 7.4 secs\n",
      "getting DSM\n",
      "... completed in 0.7 secs\n",
      "computing TPI\n",
      "... completed in 7.7 secs\n",
      "computing NDVI\n",
      "... completed in 2.1 secs\n",
      "predicting binary burrow image\n",
      "... completed in 9.6 secs\n",
      "getting burrow locations\n",
      "... completed in 0.1 secs\n"
     ]
    },
    {
     "name": "stderr",
     "output_type": "stream",
     "text": [
      "\n",
      " 35%|█████████████████████████████▋                                                      | 6/17 [03:25<06:27, 35.26s/it]\u001b[A"
     ]
    },
    {
     "name": "stdout",
     "output_type": "stream",
     "text": [
      "getting RGB\n",
      "creating RGB list\n",
      "masking\n",
      "writing nodata\n",
      "merging\n",
      "masking\n",
      "... completed in 7.4 secs\n",
      "getting DSM\n",
      "... completed in 0.8 secs\n",
      "computing TPI\n",
      "... completed in 6.6 secs\n",
      "computing NDVI\n",
      "... completed in 2.6 secs\n",
      "predicting binary burrow image\n",
      "... completed in 9.3 secs\n",
      "getting burrow locations\n",
      "... completed in 0.2 secs\n"
     ]
    },
    {
     "name": "stderr",
     "output_type": "stream",
     "text": [
      "\n",
      " 41%|██████████████████████████████████▌                                                 | 7/17 [03:58<05:44, 34.44s/it]\u001b[A"
     ]
    },
    {
     "name": "stdout",
     "output_type": "stream",
     "text": [
      "getting RGB\n",
      "creating RGB list\n",
      "masking\n",
      "writing nodata\n",
      "merging\n",
      "masking\n",
      "... completed in 7.6 secs\n",
      "getting DSM\n",
      "... completed in 1.0 secs\n",
      "computing TPI\n",
      "... completed in 7.2 secs\n",
      "computing NDVI\n",
      "... completed in 2.2 secs\n",
      "predicting binary burrow image\n",
      "... completed in 9.1 secs\n",
      "getting burrow locations\n",
      "... completed in 0.4 secs\n"
     ]
    },
    {
     "name": "stderr",
     "output_type": "stream",
     "text": [
      "\n",
      " 47%|███████████████████████████████████████▌                                            | 8/17 [04:30<05:03, 33.70s/it]\u001b[A"
     ]
    },
    {
     "name": "stdout",
     "output_type": "stream",
     "text": [
      "getting RGB\n",
      "creating RGB list\n",
      "masking\n",
      "writing nodata\n",
      "merging\n",
      "masking\n",
      "... completed in 7.4 secs\n",
      "getting DSM\n",
      "... completed in 0.7 secs\n",
      "computing TPI\n",
      "... completed in 7.2 secs\n",
      "computing NDVI\n",
      "... completed in 1.6 secs\n",
      "predicting binary burrow image\n",
      "... completed in 6.2 secs\n",
      "getting burrow locations\n",
      "... completed in 0.4 secs\n"
     ]
    },
    {
     "name": "stderr",
     "output_type": "stream",
     "text": [
      "\n",
      " 53%|████████████████████████████████████████████▍                                       | 9/17 [04:59<04:16, 32.11s/it]\u001b[A"
     ]
    },
    {
     "name": "stdout",
     "output_type": "stream",
     "text": [
      "getting RGB\n",
      "creating RGB list\n",
      "masking\n",
      "writing nodata\n",
      "merging\n",
      "masking\n",
      "... completed in 7.7 secs\n",
      "getting DSM\n",
      "... completed in 0.8 secs\n",
      "computing TPI\n",
      "... completed in 8.7 secs\n",
      "computing NDVI\n",
      "... completed in 1.7 secs\n",
      "predicting binary burrow image\n",
      "... completed in 7.6 secs\n",
      "getting burrow locations\n",
      "... completed in 0.5 secs\n"
     ]
    },
    {
     "name": "stderr",
     "output_type": "stream",
     "text": [
      "\n",
      " 59%|████████████████████████████████████████████████▊                                  | 10/17 [05:31<03:44, 32.06s/it]\u001b[A"
     ]
    },
    {
     "name": "stdout",
     "output_type": "stream",
     "text": [
      "getting RGB\n",
      "creating RGB list\n",
      "masking\n",
      "writing nodata\n",
      "merging\n",
      "masking\n",
      "... completed in 7.8 secs\n",
      "getting DSM\n",
      "... completed in 0.8 secs\n",
      "computing TPI\n",
      "... completed in 7.4 secs\n",
      "computing NDVI\n",
      "... completed in 1.5 secs\n",
      "predicting binary burrow image\n",
      "... completed in 6.1 secs\n",
      "getting burrow locations\n",
      "... completed in 0.2 secs\n"
     ]
    },
    {
     "name": "stderr",
     "output_type": "stream",
     "text": [
      "\n",
      " 65%|█████████████████████████████████████████████████████▋                             | 11/17 [06:00<03:06, 31.05s/it]\u001b[A"
     ]
    },
    {
     "name": "stdout",
     "output_type": "stream",
     "text": [
      "getting RGB\n",
      "creating RGB list\n",
      "masking\n",
      "writing nodata\n",
      "merging\n",
      "masking\n",
      "... completed in 7.3 secs\n",
      "getting DSM\n",
      "... completed in 0.7 secs\n",
      "computing TPI\n",
      "... completed in 8.0 secs\n",
      "computing NDVI\n",
      "... completed in 2.0 secs\n",
      "predicting binary burrow image\n",
      "... completed in 8.0 secs\n",
      "getting burrow locations\n",
      "... completed in 0.4 secs\n"
     ]
    },
    {
     "name": "stderr",
     "output_type": "stream",
     "text": [
      "\n",
      " 71%|██████████████████████████████████████████████████████████▌                        | 12/17 [06:31<02:35, 31.12s/it]\u001b[A"
     ]
    },
    {
     "name": "stdout",
     "output_type": "stream",
     "text": [
      "getting RGB\n",
      "creating RGB list\n",
      "masking\n",
      "writing nodata\n",
      "merging\n",
      "masking\n",
      "... completed in 7.5 secs\n",
      "getting DSM\n",
      "... completed in 0.8 secs\n",
      "computing TPI\n",
      "... completed in 6.2 secs\n",
      "computing NDVI\n",
      "... completed in 1.9 secs\n",
      "predicting binary burrow image\n",
      "... completed in 6.3 secs\n",
      "getting burrow locations\n",
      "... completed in 0.6 secs\n"
     ]
    }
   ],
   "source": [
    "cper_gdf = gpd.read_file(cper_f)\n",
    "\n",
    "for pasture in tqdm(img_f_dict):\n",
    "    print('\\n\\n----------\\nPasture: ' + pasture)\n",
    "\n",
    "    # get the bounding box of the pasture\n",
    "    past_bbox = cper_gdf[cper_gdf['Past_Name_'] == pasture].buffer(\n",
    "        full_buff_size).bounds.apply(lambda x: int(x))\n",
    "\n",
    "    total_bounds = {'xmin': past_bbox['minx'],\n",
    "                    'xmax': past_bbox['maxx'],\n",
    "                    'ymin': past_bbox['miny'],\n",
    "                    'ymax': past_bbox['maxy']}\n",
    "\n",
    "    n_row_tiles = int(np.ceil((total_bounds['ymax'] - total_bounds['ymin'])/full_tile_size))\n",
    "    n_col_tiles = int(np.ceil((total_bounds['xmax'] - total_bounds['xmin'])/full_tile_size))\n",
    "\n",
    "    outSHP = os.path.join(outDIR, 'burrow_pts_pred_' + '_'.join([pasture] + inputs_fnl + [str(res_fnl)]) + 'cm.shp')\n",
    "    if os.path.exists(outSHP):\n",
    "        gdf_out = gpd.read_file(outSHP)\n",
    "        r_ct_pred = len(gdf_out)\n",
    "        rc_completed = gdf_out.apply(lambda x: '_'.join([str(x.tile_row), str(x.tile_col)]), axis=1).unique()\n",
    "    elif os.path.exists(re.sub('.shp', '.csv', outSHP)):\n",
    "        gdf_out = pd.read_csv(re.sub('.shp', '.csv', outSHP))\n",
    "        r_ct_pred = len(gdf_out)\n",
    "        rc_completed = gdf_out.apply(lambda x: '_'.join([str(x.tile_row), str(x.tile_col)]), axis=1).unique()\n",
    "    else:\n",
    "        r_ct_pred = 0\n",
    "        gdf_out = gpd.GeoDataFrame()\n",
    "        rc_completed = []\n",
    "    tile_ct = 0\n",
    "    for full_r in range(n_row_tiles):\n",
    "        print('running row: ' + str(full_r + 1) + ' of ' + str(n_row_tiles))\n",
    "        for full_c in tqdm(range(n_col_tiles)):\n",
    "            if len(client.cluster.workers) < 8:\n",
    "                client.shutdown()\n",
    "                client.close()\n",
    "                cluster = LocalCluster(n_workers=8, threads_per_worker=2, processes=True)\n",
    "                client = Client(cluster)\n",
    "                client.amm.start()\n",
    "            if '_'.join([str(full_r), str(full_c)]) in rc_completed:\n",
    "                #print('skipping row/column combination, already in shapefile!')\n",
    "                continue\n",
    "            else:\n",
    "                try:\n",
    "                    t0=time.time()\n",
    "\n",
    "                    ll_tile = [full_c * full_tile_size + total_bounds['xmin'],\n",
    "                               full_r * full_tile_size + total_bounds['ymin']]\n",
    "                    ul_tile = [ll_tile[0], ll_tile[1] + full_tile_size]\n",
    "                    ur_tile = [x + full_tile_size for x in ll_tile]\n",
    "                    lr_tile = [ll_tile[0] + full_tile_size, ll_tile[1]]\n",
    "                    tile_poly = Polygon([ll_tile, ul_tile, ur_tile, lr_tile])\n",
    "\n",
    "                    ll = [full_c * full_tile_size + total_bounds['xmin'] - buff_size_m,\n",
    "                          full_r * full_tile_size + total_bounds['ymin'] - buff_size_m]\n",
    "                    ul = [ll[0], ll[1] + full_tile_size + (buff_size_m * 2.0)]\n",
    "                    ur = [x + full_tile_size + (buff_size_m * 2.0) for x in ll]\n",
    "                    lr = [ll[0] + full_tile_size + (buff_size_m * 2.0), ll[1]]\n",
    "\n",
    "                    image_dict = {}\n",
    "                    newsize_r = int(round((ul[1] - ll[1]) / (res_fnl * 0.01), 0))\n",
    "                    newsize_c = int(round((lr[0] - ll[0]) / (res_fnl * 0.01), 0))\n",
    "                    if 'rgb' in inputs_fnl:\n",
    "                        print('getting RGB')\n",
    "                        t1=time.time()\n",
    "\n",
    "                        rgb_xr_list = []\n",
    "                        print('creating RGB list')\n",
    "                        for rgb_f in img_f_dict[pasture]['rgb']:\n",
    "                            with riox.open_rasterio(rgb_f, masked=True, cache=False) as rgb_src:\n",
    "                                rgb_xr_list.append(rgb_src.sel(band=slice(0, 3),\n",
    "                                                               x=slice(ll[0], lr[0]),\n",
    "                                                               y=slice(ul[1], ll[1]), \n",
    "                                                               drop=True).load())\n",
    "                        print('masking')\n",
    "                        rgb_xr_list = [x for x in rgb_xr_list if not any([s == 0 for s in x.shape])]\n",
    "                        rgb_xr_list = [x.where(x != 255) for x in rgb_xr_list if not x.where(x != 255).isnull().all().values]\n",
    "                        rgb_null_ct = [x.isnull().sum().values.item() for x in rgb_xr_list]\n",
    "                        rgb_nonull_mask = [x==0 for x in rgb_null_ct]\n",
    "                        if any(rgb_nonull_mask):\n",
    "                            rgb_xr_list = [rgb_xr_list[np.argsort(rgb_null_ct)[0]]]\n",
    "                        else:\n",
    "                            rgb_xr_list = [rgb_xr_list[i] for i in np.argsort(rgb_null_ct)]\n",
    "                        print('writing nodata')\n",
    "                        rgb_xr_list = [x.rio.write_nodata(-9999.) for x in rgb_xr_list]\n",
    "\n",
    "                        print('merging')\n",
    "                        rgb_xr = merge_arrays(rgb_xr_list,\n",
    "                                              bounds=(ll[0], ll[1], lr[0], ur[1]), \n",
    "                                              res=res_fnl*0.01, \n",
    "                                              crs=rio.CRS.from_epsg(32613),\n",
    "                                              method='first',\n",
    "                                              nodata=-9999.)\n",
    "                        print('masking')\n",
    "                        rgb_xr = rgb_xr.where(rgb_xr != -9999.)\n",
    "                        image_dict['rgb'] = rgb_xr.values\n",
    "                        #rgb_xr.close()\n",
    "                        t2=time.time()\n",
    "                        print('... completed in', round(t2 - t1, 1), 'secs')\n",
    "                    if 'dsm' in inputs_fnl or 'tpi' in inputs_fnl:\n",
    "                        t1 = time.time()\n",
    "                        print('getting DSM')\n",
    "                        dsm_xr_list = []\n",
    "                        for dsm_f in img_f_dict[pasture]['dsm']:\n",
    "                            with riox.open_rasterio(dsm_f, masked=True, cache=False) as dsm_src:\n",
    "                                dsm_xr_list.append(dsm_src.sel(x=slice(ll[0], lr[0]),\n",
    "                                                               y=slice(ul[1], ll[1]), \n",
    "                                                               drop=True).load())\n",
    "\n",
    "                        dsm_xr_list = [x for x in dsm_xr_list if not any([s == 0 for s in x.shape])]\n",
    "                        dsm_xr_list = [x.where(x > 0).squeeze() for x in dsm_xr_list if not x.where(x > 0).isnull().all().values]\n",
    "                        dsm_null_ct = [x.isnull().sum().values.item() for x in dsm_xr_list]\n",
    "                        dsm_nonull_mask = [x==0 for x in dsm_null_ct]\n",
    "                        if any(dsm_nonull_mask):\n",
    "                            dsm_xr_list = [dsm_xr_list[np.argsort(dsm_null_ct)[0]]]\n",
    "                        else:\n",
    "                            dsm_xr_list = [dsm_xr_list[i] for i in np.argsort(dsm_null_ct)]\n",
    "                        dsm_xr_list = [x.rio.write_nodata(-9999.) for x in dsm_xr_list]\n",
    "\n",
    "                        dsm_xr = merge_arrays(dsm_xr_list,\n",
    "                                              bounds=(ll[0], ll[1], lr[0], ur[1]), \n",
    "                                              res=res_fnl*0.01, \n",
    "                                              crs=rio.CRS.from_epsg(32613),\n",
    "                                              method='first',\n",
    "                                              nodata=-9999.)\n",
    "\n",
    "                        dsm_xr = dsm_xr.where(dsm_xr != -9999.)\n",
    "\n",
    "                        if 'dsm' in inputs_fnl:\n",
    "                            image_dict['dsm'] = dsm_xr.values\n",
    "                        #dsm_xr.close()\n",
    "                        t2=time.time()\n",
    "                        print('... completed in', round(t2 - t1, 1), 'secs')\n",
    "                    if 'tpi' in inputs_fnl: \n",
    "                        t1 = time.time()\n",
    "                        print('computing TPI')\n",
    "                        # prepare an annulus kernel with a ring at a distance from 5-10 cells away from focal point\n",
    "                        outer_radius = \"0.75m\"\n",
    "                        inner_radius = \"0.25m\"\n",
    "                        image_dict['tpi'] = calc_tpi(dsm_xr.chunk({'x': chunk_size,\n",
    "                                                                   'y': chunk_size}), \n",
    "                                                     inner_r=inner_radius, \n",
    "                                                     outer_r=outer_radius, \n",
    "                                                     interpolate=False,\n",
    "                                                     values=True)\n",
    "                        #dsm_xr.close()\n",
    "                        t2=time.time()\n",
    "                        print('... completed in', round(t2 - t1, 1), 'secs')\n",
    "                    if 'ndvi' in inputs_fnl:\n",
    "                        t1 = time.time()\n",
    "                        print('computing NDVI')\n",
    "                        ms_xr_list = []\n",
    "                        for ms_f in img_f_dict[pasture]['ms']:\n",
    "                            with riox.open_rasterio(ms_f, masked=True, cache=False) as ms_src:\n",
    "                                ms_xr_list.append(ms_src.sel(band=[4, 3],\n",
    "                                                               x=slice(ll[0], lr[0]),\n",
    "                                                               y=slice(ul[1], ll[1]), \n",
    "                                                               drop=True).load())\n",
    "\n",
    "                        ms_xr_list = [x for x in ms_xr_list if not any([s == 0 for s in x.shape])]\n",
    "                        ms_xr_list = [x.where(x != 65535) for x in ms_xr_list if not x.where(x != 65535).isnull().all().values]\n",
    "                        ms_null_ct = [x.isnull().sum().values.item() for x in ms_xr_list]\n",
    "                        ms_nonull_mask = [x==0 for x in ms_null_ct]\n",
    "                        if any(ms_nonull_mask):\n",
    "                            ms_xr_list = [ms_xr_list[np.argsort(ms_null_ct)[0]]]\n",
    "                        else:\n",
    "                            ms_xr_list = [ms_xr_list[i] for i in np.argsort(ms_null_ct)]\n",
    "                        ms_xr_list = [x.rio.write_nodata(-9999.) for x in ms_xr_list]\n",
    "\n",
    "                        ms_xr = merge_arrays(ms_xr_list,\n",
    "                                              bounds=(ll[0], ll[1], lr[0], ur[1]), \n",
    "                                              res=res_fnl*0.01, \n",
    "                                              crs=rio.CRS.from_epsg(32613),\n",
    "                                              method='first',\n",
    "                                              nodata=-9999.)\n",
    "\n",
    "                        ms_xr = ms_xr.where(ms_xr != -9999.)\n",
    "                        image_dict['ndvi'] = calc_ndvi(ms_xr, values=True, interpolate=False)\n",
    "                        #ms_xr.close()\n",
    "                        t2=time.time()\n",
    "                        print('... completed in', round(t2 - t1, 1), 'secs')\n",
    "\n",
    "                    if 'rgb' in image_dict:\n",
    "                        tshape = image_dict['rgb'].shape[1:]\n",
    "                    else:\n",
    "                        tshape = image_dict[inputs_fnl[0]].shape\n",
    "\n",
    "                    n_row_chunks = int(np.ceil(tshape[0]/tile_size))\n",
    "                    n_col_chunks = int(np.ceil(tshape[1]/tile_size))\n",
    "\n",
    "                    pr_mask = np.empty(tshape)\n",
    "                    t1 = time.time()\n",
    "                    print('predicting binary burrow image')\n",
    "                    for r in range(n_row_chunks):\n",
    "                        if (r + 1) * tile_size > tshape[0]:\n",
    "                            r_min = tshape[0] - tile_size\n",
    "                            r_max = tshape[0]\n",
    "                            r_max_comp = tshape[0]\n",
    "                        elif (r + 1) * tile_size + buff_size > tshape[0]:\n",
    "                            r_min = r * tile_size\n",
    "                            r_max = (r + 1) * tile_size\n",
    "                            r_max_comp = r_max\n",
    "                        else:\n",
    "                            r_min = r * tile_size\n",
    "                            r_max = (r + 1) * tile_size\n",
    "                            r_max_comp = r_max + buff_size\n",
    "                        for c in range(n_col_chunks):\n",
    "                            image_sub_dict = {}\n",
    "                            if (c + 1) * tile_size > tshape[1]:\n",
    "                                c_min = tshape[1] - tile_size\n",
    "                                c_max = tshape[1]\n",
    "                                c_max_comp = tshape[1]\n",
    "                            elif (c + 1) * tile_size + buff_size > tshape[1]:\n",
    "                                c_min = c * tile_size\n",
    "                                c_max = (c + 1) * tile_size\n",
    "                                c_max_comp = c_max\n",
    "                            else:\n",
    "                                c_min = c * tile_size\n",
    "                                c_max = (c + 1) * tile_size\n",
    "                                c_max_comp = c_max + buff_size\n",
    "                            for k in image_dict:\n",
    "                                if k == 'rgb':\n",
    "                                    image_sub_dict[k] = image_dict[k][:,\n",
    "                                                                      slice(max(0, r_min-buff_size), r_max_comp),\n",
    "                                                                      slice(max(0, c_min-buff_size), c_max_comp)].astype('float32')\n",
    "                                else:\n",
    "                                    image_sub_dict[k] = image_dict[k][slice(max(0, r_min-buff_size), r_max_comp),\n",
    "                                                                      slice(max(0, c_min-buff_size), c_max_comp)].astype('float32')\n",
    "                                if len(image_sub_dict[k].shape) == 2:\n",
    "                                    image_sub_dict[k] = np.expand_dims(image_sub_dict[k], 0)\n",
    "                                if np.all(np.isnan(image_sub_dict[k])):\n",
    "                                    continue\n",
    "                                elif np.any(np.isnan(image_sub_dict[k])):\n",
    "                                    for i in range(image_sub_dict[k].shape[0]):\n",
    "                                        if np.any(np.isnan(image_sub_dict[k][i, :, :])):\n",
    "                                            data = image_sub_dict[k][i, :, :].copy()\n",
    "                                            mask = np.where(~np.isnan(data))\n",
    "                                            interp = NearestNDInterpolator(np.transpose(mask), data[mask])\n",
    "                                            image_sub_dict[k][i, :, :] = interp(*np.indices(data.shape))\n",
    "                                            del data, mask, interp\n",
    "    \n",
    "                            if np.any([np.all(np.isnan(image_sub_dict[k])) for k in image_sub_dict]):\n",
    "                                pr_mask[r_min:r_max, c_min:c_max] = np.nan\n",
    "                                continue\n",
    "                            else:\n",
    "                                if preprocess:\n",
    "                                    for i in image_sub_dict:\n",
    "                                        image_sub_dict[i] = normalize_fn(image_sub_dict[i], i, image_stats)\n",
    "                                image_list = [image_sub_dict[i] for i in inputs_fnl]\n",
    "                                image_out = np.concatenate(image_list, axis=0)\n",
    "                                x_tensor = torch.from_numpy(image_out).to(DEVICE).unsqueeze(0)\n",
    "                                if type(best_model) == nn.DataParallel:\n",
    "                                    pred_tmp = best_model.module.predict(x_tensor).cpu().detach().numpy().squeeze() >= prob_thresh\n",
    "                                    buff_r_min = buff_size * int(r_min-buff_size > 0)\n",
    "                                    buff_r_max = buff_size * int(r_max+buff_size <= tshape[0])\n",
    "                                    buff_c_min = buff_size * int(c_min-buff_size > 0)\n",
    "                                    buff_c_max = buff_size * int(c_max+buff_size <= tshape[1])\n",
    "                                    if pred_tmp.shape[1] > tile_size:\n",
    "                                        pr_mask[r_min:r_max, c_min:c_max] = pred_tmp[buff_r_min:pred_tmp.shape[0]-buff_r_max,\n",
    "                                                                                     buff_c_min:pred_tmp.shape[1]-buff_c_max]\n",
    "                                    else:\n",
    "                                        pr_mask[r_min:r_max, c_min:c_max] = pred_tmp\n",
    "                                else:\n",
    "                                    pred_tmp = best_model.predict(x_tensor).cpu().detach().numpy().squeeze() >= prob_thresh\n",
    "                                    buff_r_min = buff_size * int(r_min-buff_size > 0)\n",
    "                                    buff_r_max = buff_size * int(r_max+buff_size <= tshape[0])\n",
    "                                    buff_c_min = buff_size * int(c_min-buff_size > 0)\n",
    "                                    buff_c_max = buff_size * int(c_max+buff_size <= tshape[1])\n",
    "                                    if pred_tmp.shape[1] > tile_size:\n",
    "                                        pr_mask[r_min:r_max, c_min:c_max] = pred_tmp[buff_r_min:pred_tmp.shape[0]-buff_r_max,\n",
    "                                                                                     buff_c_min:pred_tmp.shape[1]-buff_c_max]\n",
    "                                    else:\n",
    "                                        pr_mask[r_min:r_max, c_min:c_max] = pred_tmp\n",
    "                    t2=time.time()\n",
    "                    print('... completed in', round(t2 - t1, 1), 'secs')\n",
    "                    t1 = time.time()\n",
    "                    print('getting burrow locations')\n",
    "                    if np.all(pr_mask == 0):\n",
    "                        gdf_tmp = gpd.GeoDataFrame(data=pd.DataFrame({'area': ''}, index=[r_ct_pred]))\n",
    "                        gdf_tmp['tile_row'] = full_r\n",
    "                        gdf_tmp['tile_col'] =  full_c\n",
    "                        gdf_tmp['tile_size'] = full_tile_size\n",
    "                        gdf_out = pd.concat([gdf_out, gdf_tmp])\n",
    "                        del gdf_tmp\n",
    "                        r_ct_pred += 1\n",
    "                    else:\n",
    "                        pr_labels = label(pr_mask)\n",
    "                        pr_regions = regionprops(pr_labels)\n",
    "                        pr_regions = [r for r in pr_regions if (r.area*(res_fnl/100)**2 > 0.05) & (r.area*(res_fnl/100)**2 < 5.0)]\n",
    "                        if len(pr_regions) == 0:\n",
    "                            #print('no burrow locations found!')\n",
    "                            gdf_tmp = gpd.GeoDataFrame(data=pd.DataFrame({'area': ''}, index=[r_ct_pred]))\n",
    "                            gdf_tmp['tile_row'] = full_r\n",
    "                            gdf_tmp['tile_col'] =  full_c\n",
    "                            gdf_tmp['tile_size'] = full_tile_size\n",
    "                            gdf_out = pd.concat([gdf_out, gdf_tmp])\n",
    "                            del gdf_tmp\n",
    "                            r_ct_pred += 1\n",
    "                        else:\n",
    "                            r_ct_tile = 0\n",
    "                            for r in pr_regions:\n",
    "                                gdf_tmp = gpd.GeoDataFrame(data=pd.DataFrame({'area': r.area}, \n",
    "                                                                             index=[r_ct_pred]), \n",
    "                                                           geometry=[Point([ll[0] + r.centroid[1]*(res_fnl*0.01),\n",
    "                                                                            ul[1] - r.centroid[0]*(res_fnl*0.01)])], \n",
    "                                                           crs='EPSG:32613')\n",
    "                                if gdf_tmp.geometry.within(tile_poly).values[0]:\n",
    "                                    gdf_tmp['tile_row'] = full_r\n",
    "                                    gdf_tmp['tile_col'] =  full_c\n",
    "                                    gdf_tmp['tile_size'] = full_tile_size\n",
    "                                    gdf_out = pd.concat([gdf_out, gdf_tmp])\n",
    "                                    r_ct_tile += 1\n",
    "                                if type(gdf_out) is pd.core.frame.DataFrame:\n",
    "                                    gdf_out = gpd.GeoDataFrame(gdf_out, geometry = gdf_out['geometry'])\n",
    "                                del gdf_tmp\n",
    "                                r_ct_pred += 1\n",
    "                            if r_ct_tile == 0:\n",
    "                                gdf_tmp = gpd.GeoDataFrame(data=pd.DataFrame({'area': ''}, index=[r_ct_pred]))\n",
    "                                gdf_tmp['tile_row'] = full_r\n",
    "                                gdf_tmp['tile_col'] =  full_c\n",
    "                                gdf_tmp['tile_size'] = full_tile_size\n",
    "                                gdf_out = pd.concat([gdf_out, gdf_tmp])\n",
    "                                del gdf_tmp\n",
    "                                r_ct_pred += 1\n",
    "                        t2=time.time()\n",
    "                        print('... completed in', round(t2 - t1, 1), 'secs')\n",
    "                    if type(gdf_out) is pd.core.frame.DataFrame:\n",
    "                        gdf_out.to_csv(re.sub('.shp', '.csv', outSHP), index=False)\n",
    "                    else:\n",
    "                        gdf_out.to_file(outSHP)\n",
    "                    try:\n",
    "                        del pr_mask, pred_tmp, pr_labels, pr_regions, image_dict, image_sub_dict, image_list, image_out\n",
    "                    except NameError:\n",
    "                        pass\n",
    "                    gc.collect()\n",
    "                    client.run(gc.collect)\n",
    "                    client.run(trim_memory)\n",
    "                    if (tile_ct > 0) & (tile_ct % 15 == 0):\n",
    "                        try:\n",
    "                            client.restart(timeout=9)\n",
    "                            time.sleep(10)\n",
    "                        except TimeoutError:\n",
    "                            client.shutdown()\n",
    "                            client.close()\n",
    "                            cluster = LocalCluster(n_workers=8, threads_per_worker=2, processes=True)\n",
    "                            client = Client(cluster)\n",
    "                            client.amm.start()\n",
    "\n",
    "                    #client.restart()\n",
    "                except NoDataInBounds:\n",
    "                    gdf_tmp = gpd.GeoDataFrame(data=pd.DataFrame({'area': ''}, index=[r_ct_pred]))\n",
    "                    gdf_tmp['tile_row'] = full_r\n",
    "                    gdf_tmp['tile_col'] =  full_c\n",
    "                    gdf_tmp['tile_size'] = full_tile_size\n",
    "                    gdf_out = pd.concat([gdf_out, gdf_tmp])\n",
    "                    del gdf_tmp\n",
    "                    r_ct_pred += 1\n",
    "                    if type(gdf_out) is pd.core.frame.DataFrame:\n",
    "                        gdf_out.to_csv(re.sub('.shp', '.csv', outSHP), index=False)\n",
    "                    else:\n",
    "                        gdf_out.to_file(outSHP)\n",
    "                    continue\n",
    "                    #print('No data in bounds. Skipping row/column.')\n",
    "            tile_ct += 1\n",
    "        #if not '_'.join([str(full_r), str(full_c)]) in rc_completed:\n",
    "    print('Pasture-group finished!')\n",
    "    try:\n",
    "        client.restart(timeout=9)\n",
    "        time.sleep(10)\n",
    "    except TimeoutError:\n",
    "        client.shutdown()\n",
    "        client.close()\n",
    "        cluster = LocalCluster(n_workers=8, threads_per_worker=2, processes=True)\n",
    "        client = Client(cluster)\n",
    "        client.amm.start()\n"
   ]
  },
  {
   "cell_type": "code",
   "execution_count": null,
   "id": "9b444bf4-507d-4884-ae27-32fe6c2c935d",
   "metadata": {},
   "outputs": [],
   "source": []
  },
  {
   "cell_type": "code",
   "execution_count": 70,
   "id": "0a04b81b-c26a-45cb-adf1-ed01bfe5e854",
   "metadata": {},
   "outputs": [
    {
     "name": "stdout",
     "output_type": "stream",
     "text": [
      "\n",
      "\n",
      "----------\n",
      "Pasture: 22W\n",
      "running row: 2 of 11\n",
      "getting RGB\n",
      "creating RGB list\n",
      "masking\n",
      "writing nodata\n",
      "merging\n",
      "masking\n",
      "... completed in 44.5 secs\n",
      "getting DSM\n",
      "... completed in 1.8 secs\n",
      "computing TPI\n",
      "... completed in 9.9 secs\n",
      "computing NDVI\n",
      "... completed in 2.3 secs\n",
      "predicting binary burrow image\n",
      "... completed in 5.9 secs\n",
      "getting burrow locations\n",
      "... completed in 0.4 secs\n",
      "Pasture-group finished!\n"
     ]
    },
    {
     "name": "stderr",
     "output_type": "stream",
     "text": [
      "distributed.nanny - WARNING - Worker exceeded 95% memory budget. Restarting\n",
      "distributed.client - ERROR - Restart timed out after 9.00 seconds\n"
     ]
    }
   ],
   "source": [
    "cper_gdf = gpd.read_file(cper_f)\n",
    "\n",
    "pasture = '22W'\n",
    "print('\\n\\n----------\\nPasture: ' + pasture)\n",
    "\n",
    "# get the bounding box of the pasture\n",
    "past_bbox = cper_gdf[cper_gdf['Past_Name_'] == pasture].buffer(\n",
    "    full_buff_size).bounds.apply(lambda x: int(x))\n",
    "\n",
    "total_bounds = {'xmin': past_bbox['minx'],\n",
    "                'xmax': past_bbox['maxx'],\n",
    "                'ymin': past_bbox['miny'],\n",
    "                'ymax': past_bbox['maxy']}\n",
    "\n",
    "n_row_tiles = int(np.ceil((total_bounds['ymax'] - total_bounds['ymin'])/full_tile_size))\n",
    "n_col_tiles = int(np.ceil((total_bounds['xmax'] - total_bounds['xmin'])/full_tile_size))\n",
    "\n",
    "outSHP = os.path.join(outDIR, 'burrow_pts_pred_' + '_'.join([pasture] + inputs_fnl + [str(res_fnl)]) + 'cm_test.shp')\n",
    "if os.path.exists(outSHP):\n",
    "    gdf_out = gpd.read_file(outSHP)\n",
    "    r_ct_pred = len(gdf_out)\n",
    "    rc_completed = gdf_out.apply(lambda x: '_'.join([str(x.tile_row), str(x.tile_col)]), axis=1).unique()\n",
    "elif os.path.exists(re.sub('.shp', '.csv', outSHP)):\n",
    "    gdf_out = pd.read_csv(re.sub('.shp', '.csv', outSHP))\n",
    "    r_ct_pred = len(gdf_out)\n",
    "    rc_completed = gdf_out.apply(lambda x: '_'.join([str(x.tile_row), str(x.tile_col)]), axis=1).unique()\n",
    "else:\n",
    "    r_ct_pred = 0\n",
    "    gdf_out = gpd.GeoDataFrame()\n",
    "    rc_completed = []\n",
    "tile_ct = 0\n",
    "full_r = 1\n",
    "print('running row: ' + str(full_r + 1) + ' of ' + str(n_row_tiles))\n",
    "full_c = 0\n",
    "if len(client.cluster.workers) < 8:\n",
    "    client.shutdown()\n",
    "    client.close()\n",
    "    cluster = LocalCluster(n_workers=8, threads_per_worker=2, processes=True)\n",
    "    client = Client(cluster)\n",
    "    client.amm.start()\n",
    "if '_'.join([str(full_r), str(full_c)]) in rc_completed:\n",
    "    print('skipping row/column combination, already in shapefile!')\n",
    "else:\n",
    "    try:\n",
    "        t0=time.time()\n",
    "\n",
    "        ll_tile = [full_c * full_tile_size + total_bounds['xmin'],\n",
    "                   full_r * full_tile_size + total_bounds['ymin']]\n",
    "        ul_tile = [ll_tile[0], ll_tile[1] + full_tile_size]\n",
    "        ur_tile = [x + full_tile_size for x in ll_tile]\n",
    "        lr_tile = [ll_tile[0] + full_tile_size, ll_tile[1]]\n",
    "        tile_poly = Polygon([ll_tile, ul_tile, ur_tile, lr_tile])\n",
    "\n",
    "        ll = [full_c * full_tile_size + total_bounds['xmin'] - buff_size_m,\n",
    "              full_r * full_tile_size + total_bounds['ymin'] - buff_size_m]\n",
    "        ul = [ll[0], ll[1] + full_tile_size + (buff_size_m * 2.0)]\n",
    "        ur = [x + full_tile_size + (buff_size_m * 2.0) for x in ll]\n",
    "        lr = [ll[0] + full_tile_size + (buff_size_m * 2.0), ll[1]]\n",
    "\n",
    "        image_dict = {}\n",
    "        newsize_r = int(round((ul[1] - ll[1]) / (res_fnl * 0.01), 0))\n",
    "        newsize_c = int(round((lr[0] - ll[0]) / (res_fnl * 0.01), 0))\n",
    "        if 'rgb' in inputs_fnl:\n",
    "            print('getting RGB')\n",
    "            t1=time.time()\n",
    "\n",
    "            rgb_xr_list = []\n",
    "            print('creating RGB list')\n",
    "            for rgb_f in img_f_dict[pasture]['rgb']:\n",
    "                with riox.open_rasterio(rgb_f, masked=True, cache=False) as rgb_src:\n",
    "                    rgb_xr_list.append(rgb_src.sel(band=slice(0, 3),\n",
    "                                                   x=slice(ll[0], lr[0]),\n",
    "                                                   y=slice(ul[1], ll[1]), \n",
    "                                                   drop=True).load())\n",
    "            print('masking')\n",
    "            rgb_xr_list = [x for x in rgb_xr_list if not any([s == 0 for s in x.shape])]\n",
    "            rgb_xr_list = [x.where(x != 255) for x in rgb_xr_list if not x.where(x != 255).isnull().all().values]\n",
    "            rgb_null_ct = [x.isnull().sum().values.item() for x in rgb_xr_list]\n",
    "            rgb_nonull_mask = [x==0 for x in rgb_null_ct]\n",
    "            if any(rgb_nonull_mask):\n",
    "                rgb_xr_list = [rgb_xr_list[np.argsort(rgb_null_ct)[0]]]\n",
    "            else:\n",
    "                rgb_xr_list = [rgb_xr_list[i] for i in np.argsort(rgb_null_ct)]\n",
    "            print('writing nodata')\n",
    "            rgb_xr_list = [x.rio.write_nodata(-9999.) for x in rgb_xr_list]\n",
    "\n",
    "            print('merging')\n",
    "            rgb_xr = merge_arrays(rgb_xr_list,\n",
    "                                  bounds=(ll[0], ll[1], lr[0], ur[1]), \n",
    "                                  res=res_fnl*0.01, \n",
    "                                  crs=rio.CRS.from_epsg(32613),\n",
    "                                  method='first',\n",
    "                                  nodata=-9999.)\n",
    "            print('masking')\n",
    "            rgb_xr = rgb_xr.where(rgb_xr != -9999.)\n",
    "            image_dict['rgb'] = rgb_xr.values\n",
    "            #rgb_xr.close()\n",
    "            t2=time.time()\n",
    "            print('... completed in', round(t2 - t1, 1), 'secs')\n",
    "        if 'dsm' in inputs_fnl or 'tpi' in inputs_fnl:\n",
    "            t1 = time.time()\n",
    "            print('getting DSM')\n",
    "            dsm_xr_list = []\n",
    "            for dsm_f in img_f_dict[pasture]['dsm']:\n",
    "                with riox.open_rasterio(dsm_f, masked=True, cache=False) as dsm_src:\n",
    "                    dsm_xr_list.append(dsm_src.sel(x=slice(ll[0], lr[0]),\n",
    "                                                   y=slice(ul[1], ll[1]), \n",
    "                                                   drop=True).load())\n",
    "\n",
    "            dsm_xr_list = [x for x in dsm_xr_list if not any([s == 0 for s in x.shape])]\n",
    "            dsm_xr_list = [x.where(x > 0).squeeze() for x in dsm_xr_list if not x.where(x > 0).isnull().all().values]\n",
    "            dsm_null_ct = [x.isnull().sum().values.item() for x in dsm_xr_list]\n",
    "            dsm_nonull_mask = [x==0 for x in dsm_null_ct]\n",
    "            if any(dsm_nonull_mask):\n",
    "                dsm_xr_list = [dsm_xr_list[np.argsort(dsm_null_ct)[0]]]\n",
    "            else:\n",
    "                dsm_xr_list = [dsm_xr_list[i] for i in np.argsort(dsm_null_ct)]\n",
    "            dsm_xr_list = [x.rio.write_nodata(-9999.) for x in dsm_xr_list]\n",
    "\n",
    "            dsm_xr = merge_arrays(dsm_xr_list,\n",
    "                                  bounds=(ll[0], ll[1], lr[0], ur[1]), \n",
    "                                  res=res_fnl*0.01, \n",
    "                                  crs=rio.CRS.from_epsg(32613),\n",
    "                                  method='first',\n",
    "                                  nodata=-9999.)\n",
    "            \n",
    "            dsm_xr = dsm_xr.where(dsm_xr != -9999.)\n",
    "            \n",
    "            if 'dsm' in inputs_fnl:\n",
    "                image_dict['dsm'] = dsm_xr.values\n",
    "            #dsm_xr.close()\n",
    "            t2=time.time()\n",
    "            print('... completed in', round(t2 - t1, 1), 'secs')\n",
    "        if 'tpi' in inputs_fnl: \n",
    "            t1 = time.time()\n",
    "            print('computing TPI')\n",
    "            # prepare an annulus kernel with a ring at a distance from 5-10 cells away from focal point\n",
    "            outer_radius = \"0.75m\"\n",
    "            inner_radius = \"0.25m\"\n",
    "            image_dict['tpi'] = calc_tpi(dsm_xr.chunk({'x': chunk_size,\n",
    "                                                       'y': chunk_size}), \n",
    "                                         inner_r=inner_radius, \n",
    "                                         outer_r=outer_radius, \n",
    "                                         interpolate=False,\n",
    "                                         values=True)\n",
    "            #dsm_xr.close()\n",
    "            t2=time.time()\n",
    "            print('... completed in', round(t2 - t1, 1), 'secs')\n",
    "        if 'ndvi' in inputs_fnl:\n",
    "            t1 = time.time()\n",
    "            print('computing NDVI')\n",
    "            ms_xr_list = []\n",
    "            for ms_f in img_f_dict[pasture]['ms']:\n",
    "                with riox.open_rasterio(ms_f, masked=True, cache=False) as ms_src:\n",
    "                    ms_xr_list.append(ms_src.sel(band=[4, 3],\n",
    "                                                   x=slice(ll[0], lr[0]),\n",
    "                                                   y=slice(ul[1], ll[1]), \n",
    "                                                   drop=True).load())\n",
    "\n",
    "            ms_xr_list = [x for x in ms_xr_list if not any([s == 0 for s in x.shape])]\n",
    "            ms_xr_list = [x.where(x != 65535) for x in ms_xr_list if not x.where(x != 65535).isnull().all().values]\n",
    "            ms_null_ct = [x.isnull().sum().values.item() for x in ms_xr_list]\n",
    "            ms_nonull_mask = [x==0 for x in ms_null_ct]\n",
    "            if any(ms_nonull_mask):\n",
    "                ms_xr_list = [ms_xr_list[np.argsort(ms_null_ct)[0]]]\n",
    "            else:\n",
    "                ms_xr_list = [ms_xr_list[i] for i in np.argsort(ms_null_ct)]\n",
    "            ms_xr_list = [x.rio.write_nodata(-9999.) for x in ms_xr_list]\n",
    "\n",
    "            ms_xr = merge_arrays(ms_xr_list,\n",
    "                                  bounds=(ll[0], ll[1], lr[0], ur[1]), \n",
    "                                  res=res_fnl*0.01, \n",
    "                                  crs=rio.CRS.from_epsg(32613),\n",
    "                                  method='first',\n",
    "                                  nodata=-9999.)\n",
    "            \n",
    "            ms_xr = ms_xr.where(ms_xr != -9999.)\n",
    "            image_dict['ndvi'] = calc_ndvi(ms_xr, values=True, interpolate=False)\n",
    "            #ms_xr.close()\n",
    "            t2=time.time()\n",
    "            print('... completed in', round(t2 - t1, 1), 'secs')\n",
    "\n",
    "        if 'rgb' in image_dict:\n",
    "            tshape = image_dict['rgb'].shape[1:]\n",
    "        else:\n",
    "            tshape = image_dict[inputs_fnl[0]].shape\n",
    "\n",
    "        n_row_chunks = int(np.ceil(tshape[0]/tile_size))\n",
    "        n_col_chunks = int(np.ceil(tshape[1]/tile_size))\n",
    "\n",
    "        pr_mask = np.empty(tshape)\n",
    "        t1 = time.time()\n",
    "        print('predicting binary burrow image')\n",
    "        for r in range(n_row_chunks):\n",
    "            if (r + 1) * tile_size > tshape[0]:\n",
    "                r_min = tshape[0] - tile_size\n",
    "                r_max = tshape[0]\n",
    "                r_max_comp = tshape[0]\n",
    "            elif (r + 1) * tile_size + buff_size > tshape[0]:\n",
    "                r_min = r * tile_size\n",
    "                r_max = (r + 1) * tile_size\n",
    "                r_max_comp = r_max\n",
    "            else:\n",
    "                r_min = r * tile_size\n",
    "                r_max = (r + 1) * tile_size\n",
    "                r_max_comp = r_max + buff_size\n",
    "            for c in range(n_col_chunks):\n",
    "                image_sub_dict = {}\n",
    "                if (c + 1) * tile_size > tshape[1]:\n",
    "                    c_min = tshape[1] - tile_size\n",
    "                    c_max = tshape[1]\n",
    "                    c_max_comp = tshape[1]\n",
    "                elif (c + 1) * tile_size + buff_size > tshape[1]:\n",
    "                    c_min = c * tile_size\n",
    "                    c_max = (c + 1) * tile_size\n",
    "                    c_max_comp = c_max\n",
    "                else:\n",
    "                    c_min = c * tile_size\n",
    "                    c_max = (c + 1) * tile_size\n",
    "                    c_max_comp = c_max + buff_size\n",
    "                for k in image_dict:\n",
    "                    if k == 'rgb':\n",
    "                        image_sub_dict[k] = image_dict[k][:,\n",
    "                                                          slice(max(0, r_min-buff_size), r_max_comp),\n",
    "                                                          slice(max(0, c_min-buff_size), c_max_comp)].astype('float32')\n",
    "                    else:\n",
    "                        image_sub_dict[k] = image_dict[k][slice(max(0, r_min-buff_size), r_max_comp),\n",
    "                                                          slice(max(0, c_min-buff_size), c_max_comp)].astype('float32')\n",
    "                    if len(image_sub_dict[k].shape) == 2:\n",
    "                        image_sub_dict[k] = np.expand_dims(image_sub_dict[k], 0)\n",
    "                    if np.all(np.isnan(image_sub_dict[k])):\n",
    "                        continue\n",
    "                    elif np.any(np.isnan(image_sub_dict[k])):\n",
    "                        for i in range(image_sub_dict[k].shape[0]):\n",
    "                            if np.any(np.isnan(image_sub_dict[k][i, :, :])):\n",
    "                                data = image_sub_dict[k][i, :, :].copy()\n",
    "                                mask = np.where(~np.isnan(data))\n",
    "                                interp = NearestNDInterpolator(np.transpose(mask), data[mask])\n",
    "                                image_sub_dict[k][i, :, :] = interp(*np.indices(data.shape))\n",
    "                                del data, mask, interp\n",
    "\n",
    "                if np.any([np.all(np.isnan(image_sub_dict[k])) for k in image_sub_dict]):\n",
    "                    pr_mask[r_min:r_max, c_min:c_max] = np.nan\n",
    "                    continue\n",
    "                else:\n",
    "                    if preprocess:\n",
    "                        for i in image_sub_dict:\n",
    "                            image_sub_dict[i] = normalize_fn(image_sub_dict[i], i, image_stats)\n",
    "                    image_list = [image_sub_dict[i] for i in inputs_fnl]\n",
    "                    image_out = np.concatenate(image_list, axis=0)\n",
    "                    x_tensor = torch.from_numpy(image_out).to(DEVICE).unsqueeze(0)\n",
    "                    if type(best_model) == nn.DataParallel:\n",
    "                        pred_tmp = best_model.module.predict(x_tensor).cpu().detach().numpy().squeeze() >= prob_thresh\n",
    "                        buff_r_min = buff_size * int(r_min-buff_size > 0)\n",
    "                        buff_r_max = buff_size * int(r_max+buff_size <= tshape[0])\n",
    "                        buff_c_min = buff_size * int(c_min-buff_size > 0)\n",
    "                        buff_c_max = buff_size * int(c_max+buff_size <= tshape[1])\n",
    "                        if pred_tmp.shape[1] > tile_size:\n",
    "                            pr_mask[r_min:r_max, c_min:c_max] = pred_tmp[buff_r_min:pred_tmp.shape[0]-buff_r_max,\n",
    "                                                                         buff_c_min:pred_tmp.shape[1]-buff_c_max]\n",
    "                        else:\n",
    "                            pr_mask[r_min:r_max, c_min:c_max] = pred_tmp\n",
    "                    else:\n",
    "                        pred_tmp = best_model.predict(x_tensor).cpu().detach().numpy().squeeze() >= prob_thresh\n",
    "                        buff_r_min = buff_size * int(r_min-buff_size > 0)\n",
    "                        buff_r_max = buff_size * int(r_max+buff_size <= tshape[0])\n",
    "                        buff_c_min = buff_size * int(c_min-buff_size > 0)\n",
    "                        buff_c_max = buff_size * int(c_max+buff_size <= tshape[1])\n",
    "                        if pred_tmp.shape[1] > tile_size:\n",
    "                            pr_mask[r_min:r_max, c_min:c_max] = pred_tmp[buff_r_min:pred_tmp.shape[0]-buff_r_max,\n",
    "                                                                         buff_c_min:pred_tmp.shape[1]-buff_c_max]\n",
    "                        else:\n",
    "                            pr_mask[r_min:r_max, c_min:c_max] = pred_tmp\n",
    "        t2=time.time()\n",
    "        print('... completed in', round(t2 - t1, 1), 'secs')\n",
    "        t1 = time.time()\n",
    "        print('getting burrow locations')\n",
    "        if np.all(pr_mask == 0):\n",
    "            gdf_tmp = gpd.GeoDataFrame(data=pd.DataFrame({'area': ''}, index=[r_ct_pred]))\n",
    "            gdf_tmp['tile_row'] = full_r\n",
    "            gdf_tmp['tile_col'] =  full_c\n",
    "            gdf_tmp['tile_size'] = full_tile_size\n",
    "            gdf_out = pd.concat([gdf_out, gdf_tmp])\n",
    "            del gdf_tmp\n",
    "            r_ct_pred += 1\n",
    "        else:\n",
    "            pr_labels = label(pr_mask)\n",
    "            pr_regions = regionprops(pr_labels)\n",
    "            pr_regions = [r for r in pr_regions if (r.area*(res_fnl/100)**2 > 0.05) & (r.area*(res_fnl/100)**2 < 5.0)]\n",
    "            if len(pr_regions) == 0:\n",
    "                #print('no burrow locations found!')\n",
    "                gdf_tmp = gpd.GeoDataFrame(data=pd.DataFrame({'area': ''}, index=[r_ct_pred]))\n",
    "                gdf_tmp['tile_row'] = full_r\n",
    "                gdf_tmp['tile_col'] =  full_c\n",
    "                gdf_tmp['tile_size'] = full_tile_size\n",
    "                gdf_out = pd.concat([gdf_out, gdf_tmp])\n",
    "                del gdf_tmp\n",
    "                r_ct_pred += 1\n",
    "            else:\n",
    "                r_ct_tile = 0\n",
    "                for r in pr_regions:\n",
    "                    gdf_tmp = gpd.GeoDataFrame(data=pd.DataFrame({'area': r.area}, \n",
    "                                                                 index=[r_ct_pred]), \n",
    "                                               geometry=[Point([ll[0] + r.centroid[1]*(res_fnl*0.01),\n",
    "                                                                ul[1] - r.centroid[0]*(res_fnl*0.01)])], \n",
    "                                               crs='EPSG:32613')\n",
    "                    if gdf_tmp.geometry.within(tile_poly).values[0]:\n",
    "                        gdf_tmp['tile_row'] = full_r\n",
    "                        gdf_tmp['tile_col'] =  full_c\n",
    "                        gdf_tmp['tile_size'] = full_tile_size\n",
    "                        gdf_out = pd.concat([gdf_out, gdf_tmp])\n",
    "                        r_ct_tile += 1\n",
    "                    if type(gdf_out) is pd.core.frame.DataFrame:\n",
    "                        gdf_out = gpd.GeoDataFrame(gdf_out, geometry = gdf_out['geometry'])\n",
    "                    del gdf_tmp\n",
    "                    r_ct_pred += 1\n",
    "                if r_ct_tile == 0:\n",
    "                    gdf_tmp = gpd.GeoDataFrame(data=pd.DataFrame({'area': ''}, index=[r_ct_pred]))\n",
    "                    gdf_tmp['tile_row'] = full_r\n",
    "                    gdf_tmp['tile_col'] =  full_c\n",
    "                    gdf_tmp['tile_size'] = full_tile_size\n",
    "                    gdf_out = pd.concat([gdf_out, gdf_tmp])\n",
    "                    del gdf_tmp\n",
    "                    r_ct_pred += 1\n",
    "            t2=time.time()\n",
    "            print('... completed in', round(t2 - t1, 1), 'secs')\n",
    "        if type(gdf_out) is pd.core.frame.DataFrame:\n",
    "            gdf_out.to_csv(re.sub('.shp', '.csv', outSHP), index=False)\n",
    "        else:\n",
    "            gdf_out.to_file(outSHP)\n",
    "        gc.collect()\n",
    "        client.run(gc.collect)\n",
    "        client.run(trim_memory)\n",
    "        if (tile_ct > 0) & (tile_ct % 15 == 0):\n",
    "            try:\n",
    "                client.restart(timeout=9)\n",
    "                time.sleep(10)\n",
    "            except TimeoutError:\n",
    "                client.shutdown()\n",
    "                client.close()\n",
    "                cluster = LocalCluster(n_workers=8, threads_per_worker=2, processes=True)\n",
    "                client = Client(cluster)\n",
    "                client.amm.start()\n",
    "\n",
    "        #client.restart()\n",
    "    except NoDataInBounds:\n",
    "        gdf_tmp = gpd.GeoDataFrame(data=pd.DataFrame({'area': ''}, index=[r_ct_pred]))\n",
    "        gdf_tmp['tile_row'] = full_r\n",
    "        gdf_tmp['tile_col'] =  full_c\n",
    "        gdf_tmp['tile_size'] = full_tile_size\n",
    "        gdf_out = pd.concat([gdf_out, gdf_tmp])\n",
    "        del gdf_tmp\n",
    "        r_ct_pred += 1\n",
    "        if type(gdf_out) is pd.core.frame.DataFrame:\n",
    "            gdf_out.to_csv(re.sub('.shp', '.csv', outSHP), index=False)\n",
    "        else:\n",
    "            gdf_out.to_file(outSHP)\n",
    "        print('No data in bounds. Skipping row/column.')\n",
    "tile_ct += 1\n",
    "#if not '_'.join([str(full_r), str(full_c)]) in rc_completed:\n",
    "print('Pasture-group finished!')\n",
    "try:\n",
    "    client.restart(timeout=9)\n",
    "    time.sleep(10)\n",
    "except TimeoutError:\n",
    "    client.shutdown()\n",
    "    client.close()\n",
    "    cluster = LocalCluster(n_workers=8, threads_per_worker=2, processes=True)\n",
    "    client = Client(cluster)\n",
    "    client.amm.start()\n"
   ]
  },
  {
   "cell_type": "code",
   "execution_count": 57,
   "id": "9cea2931-5115-4646-a3a5-5f5d514bcd88",
   "metadata": {},
   "outputs": [
    {
     "data": {
      "text/plain": [
       "0"
      ]
     },
     "execution_count": 57,
     "metadata": {},
     "output_type": "execute_result"
    }
   ],
   "source": [
    "dsm_nonull_mask = [x==0 for x in dsm_null_ct]\n",
    "np.argsort(dsm_null_ct)[dsm_nonull_mask][0]\n",
    "#[0]"
   ]
  },
  {
   "cell_type": "code",
   "execution_count": 63,
   "id": "58ab9c87-88b4-427c-b103-0df174b3ea9c",
   "metadata": {},
   "outputs": [
    {
     "data": {
      "text/plain": [
       "1"
      ]
     },
     "execution_count": 63,
     "metadata": {},
     "output_type": "execute_result"
    }
   ],
   "source": [
    "np.argsort(dsm_null_ct)[0]#[dsm_nonull_mask][0]"
   ]
  },
  {
   "cell_type": "code",
   "execution_count": 75,
   "id": "9aa6573c-77a7-44c4-91ff-7134341fc2e5",
   "metadata": {},
   "outputs": [
    {
     "data": {
      "image/png": "[encoded data removed]",
      "text/plain": [
       "<Figure size 640x480 with 1 Axes>"
      ]
     },
     "metadata": {},
     "output_type": "display_data"
    },
    {
     "data": {
      "text/plain": [
       "<AxesSubplot:>"
      ]
     },
     "execution_count": 75,
     "metadata": {},
     "output_type": "execute_result"
    }
   ],
   "source": [
    "show(image_dict['rgb'].astype('int'))"
   ]
  },
  {
   "cell_type": "code",
   "execution_count": null,
   "id": "b3124f44-dce2-4998-ab06-5ea0a9164317",
   "metadata": {},
   "outputs": [
    {
     "name": "stderr",
     "output_type": "stream",
     "text": [
      "Clipping input data to the valid range for imshow with RGB data ([0..1] for floats or [0..255] for integers).\n"
     ]
    }
   ],
   "source": [
    "show(rgb_xr_list[0].astype('int').values)"
   ]
  },
  {
   "cell_type": "code",
   "execution_count": 45,
   "id": "7315f78f-8494-47ae-984e-6f9e5041603b",
   "metadata": {},
   "outputs": [],
   "source": [
    "#rgb_xr_list[0].min()\n",
    "rgb_xr_list = [x.where(x != 255) for x in rgb_xr_list if not x.where(x != 255).isnull().all().values]\n",
    "rgb_null_ct = [x.isnull().sum().values.item() for x in rgb_xr_list]\n",
    "rgb_xr_list = [rgb_xr_list[i] for i in np.argsort(rgb_null_ct)]\n",
    "#rgb_xr_list[1].isnull().sum()\n",
    "#rgb_xr_list[0].fillna(0).astype('int').values\n",
    "#show(rgb_xr_list[1].astype('int').values)"
   ]
  },
  {
   "cell_type": "code",
   "execution_count": 48,
   "id": "b46fee38-5f2f-4a8b-8a49-624c572b4ef7",
   "metadata": {},
   "outputs": [
    {
     "data": {
      "text/plain": [
       "[276289770, 2]"
      ]
     },
     "execution_count": 48,
     "metadata": {},
     "output_type": "execute_result"
    }
   ],
   "source": [
    "rgb_null_ct"
   ]
  },
  {
   "cell_type": "code",
   "execution_count": 41,
   "id": "737d65a1-71c2-41a6-9179-9419e40cafdd",
   "metadata": {},
   "outputs": [
    {
     "data": {
      "text/plain": [
       "[0, 1]"
      ]
     },
     "execution_count": 41,
     "metadata": {},
     "output_type": "execute_result"
    }
   ],
   "source": [
    "list(np.argsort(rgb_null_ct))"
   ]
  },
  {
   "cell_type": "code",
   "execution_count": 31,
   "id": "88ec0986-a2b4-4511-bcea-c0037b8144cc",
   "metadata": {},
   "outputs": [
    {
     "data": {
      "text/html": [
       "<div><svg style=\"position: absolute; width: 0; height: 0; overflow: hidden\">\n",
       "<defs>\n",
       "<symbol id=\"icon-database\" viewBox=\"0 0 32 32\">\n",
       "<path d=\"M16 0c-8.837 0-16 2.239-16 5v4c0 2.761 7.163 5 16 5s16-2.239 16-5v-4c0-2.761-7.163-5-16-5z\"></path>\n",
       "<path d=\"M16 17c-8.837 0-16-2.239-16-5v6c0 2.761 7.163 5 16 5s16-2.239 16-5v-6c0 2.761-7.163 5-16 5z\"></path>\n",
       "<path d=\"M16 26c-8.837 0-16-2.239-16-5v6c0 2.761 7.163 5 16 5s16-2.239 16-5v-6c0 2.761-7.163 5-16 5z\"></path>\n",
       "</symbol>\n",
       "<symbol id=\"icon-file-text2\" viewBox=\"0 0 32 32\">\n",
       "<path d=\"M28.681 7.159c-0.694-0.947-1.662-2.053-2.724-3.116s-2.169-2.030-3.116-2.724c-1.612-1.182-2.393-1.319-2.841-1.319h-15.5c-1.378 0-2.5 1.121-2.5 2.5v27c0 1.378 1.122 2.5 2.5 2.5h23c1.378 0 2.5-1.122 2.5-2.5v-19.5c0-0.448-0.137-1.23-1.319-2.841zM24.543 5.457c0.959 0.959 1.712 1.825 2.268 2.543h-4.811v-4.811c0.718 0.556 1.584 1.309 2.543 2.268zM28 29.5c0 0.271-0.229 0.5-0.5 0.5h-23c-0.271 0-0.5-0.229-0.5-0.5v-27c0-0.271 0.229-0.5 0.5-0.5 0 0 15.499-0 15.5 0v7c0 0.552 0.448 1 1 1h7v19.5z\"></path>\n",
       "<path d=\"M23 26h-14c-0.552 0-1-0.448-1-1s0.448-1 1-1h14c0.552 0 1 0.448 1 1s-0.448 1-1 1z\"></path>\n",
       "<path d=\"M23 22h-14c-0.552 0-1-0.448-1-1s0.448-1 1-1h14c0.552 0 1 0.448 1 1s-0.448 1-1 1z\"></path>\n",
       "<path d=\"M23 18h-14c-0.552 0-1-0.448-1-1s0.448-1 1-1h14c0.552 0 1 0.448 1 1s-0.448 1-1 1z\"></path>\n",
       "</symbol>\n",
       "</defs>\n",
       "</svg>\n",
       "<style>/* CSS stylesheet for displaying xarray objects in jupyterlab.\n",
       " *\n",
       " */\n",
       "\n",
       ":root {\n",
       "  --xr-font-color0: var(--jp-content-font-color0, rgba(0, 0, 0, 1));\n",
       "  --xr-font-color2: var(--jp-content-font-color2, rgba(0, 0, 0, 0.54));\n",
       "  --xr-font-color3: var(--jp-content-font-color3, rgba(0, 0, 0, 0.38));\n",
       "  --xr-border-color: var(--jp-border-color2, #e0e0e0);\n",
       "  --xr-disabled-color: var(--jp-layout-color3, #bdbdbd);\n",
       "  --xr-background-color: var(--jp-layout-color0, white);\n",
       "  --xr-background-color-row-even: var(--jp-layout-color1, white);\n",
       "  --xr-background-color-row-odd: var(--jp-layout-color2, #eeeeee);\n",
       "}\n",
       "\n",
       "html[theme=dark],\n",
       "body[data-theme=dark],\n",
       "body.vscode-dark {\n",
       "  --xr-font-color0: rgba(255, 255, 255, 1);\n",
       "  --xr-font-color2: rgba(255, 255, 255, 0.54);\n",
       "  --xr-font-color3: rgba(255, 255, 255, 0.38);\n",
       "  --xr-border-color: #1F1F1F;\n",
       "  --xr-disabled-color: #515151;\n",
       "  --xr-background-color: #111111;\n",
       "  --xr-background-color-row-even: #111111;\n",
       "  --xr-background-color-row-odd: #313131;\n",
       "}\n",
       "\n",
       ".xr-wrap {\n",
       "  display: block !important;\n",
       "  min-width: 300px;\n",
       "  max-width: 700px;\n",
       "}\n",
       "\n",
       ".xr-text-repr-fallback {\n",
       "  /* fallback to plain text repr when CSS is not injected (untrusted notebook) */\n",
       "  display: none;\n",
       "}\n",
       "\n",
       ".xr-header {\n",
       "  padding-top: 6px;\n",
       "  padding-bottom: 6px;\n",
       "  margin-bottom: 4px;\n",
       "  border-bottom: solid 1px var(--xr-border-color);\n",
       "}\n",
       "\n",
       ".xr-header > div,\n",
       ".xr-header > ul {\n",
       "  display: inline;\n",
       "  margin-top: 0;\n",
       "  margin-bottom: 0;\n",
       "}\n",
       "\n",
       ".xr-obj-type,\n",
       ".xr-array-name {\n",
       "  margin-left: 2px;\n",
       "  margin-right: 10px;\n",
       "}\n",
       "\n",
       ".xr-obj-type {\n",
       "  color: var(--xr-font-color2);\n",
       "}\n",
       "\n",
       ".xr-sections {\n",
       "  padding-left: 0 !important;\n",
       "  display: grid;\n",
       "  grid-template-columns: 150px auto auto 1fr 20px 20px;\n",
       "}\n",
       "\n",
       ".xr-section-item {\n",
       "  display: contents;\n",
       "}\n",
       "\n",
       ".xr-section-item input {\n",
       "  display: none;\n",
       "}\n",
       "\n",
       ".xr-section-item input + label {\n",
       "  color: var(--xr-disabled-color);\n",
       "}\n",
       "\n",
       ".xr-section-item input:enabled + label {\n",
       "  cursor: pointer;\n",
       "  color: var(--xr-font-color2);\n",
       "}\n",
       "\n",
       ".xr-section-item input:enabled + label:hover {\n",
       "  color: var(--xr-font-color0);\n",
       "}\n",
       "\n",
       ".xr-section-summary {\n",
       "  grid-column: 1;\n",
       "  color: var(--xr-font-color2);\n",
       "  font-weight: 500;\n",
       "}\n",
       "\n",
       ".xr-section-summary > span {\n",
       "  display: inline-block;\n",
       "  padding-left: 0.5em;\n",
       "}\n",
       "\n",
       ".xr-section-summary-in:disabled + label {\n",
       "  color: var(--xr-font-color2);\n",
       "}\n",
       "\n",
       ".xr-section-summary-in + label:before {\n",
       "  display: inline-block;\n",
       "  content: '►';\n",
       "  font-size: 11px;\n",
       "  width: 15px;\n",
       "  text-align: center;\n",
       "}\n",
       "\n",
       ".xr-section-summary-in:disabled + label:before {\n",
       "  color: var(--xr-disabled-color);\n",
       "}\n",
       "\n",
       ".xr-section-summary-in:checked + label:before {\n",
       "  content: '▼';\n",
       "}\n",
       "\n",
       ".xr-section-summary-in:checked + label > span {\n",
       "  display: none;\n",
       "}\n",
       "\n",
       ".xr-section-summary,\n",
       ".xr-section-inline-details {\n",
       "  padding-top: 4px;\n",
       "  padding-bottom: 4px;\n",
       "}\n",
       "\n",
       ".xr-section-inline-details {\n",
       "  grid-column: 2 / -1;\n",
       "}\n",
       "\n",
       ".xr-section-details {\n",
       "  display: none;\n",
       "  grid-column: 1 / -1;\n",
       "  margin-bottom: 5px;\n",
       "}\n",
       "\n",
       ".xr-section-summary-in:checked ~ .xr-section-details {\n",
       "  display: contents;\n",
       "}\n",
       "\n",
       ".xr-array-wrap {\n",
       "  grid-column: 1 / -1;\n",
       "  display: grid;\n",
       "  grid-template-columns: 20px auto;\n",
       "}\n",
       "\n",
       ".xr-array-wrap > label {\n",
       "  grid-column: 1;\n",
       "  vertical-align: top;\n",
       "}\n",
       "\n",
       ".xr-preview {\n",
       "  color: var(--xr-font-color3);\n",
       "}\n",
       "\n",
       ".xr-array-preview,\n",
       ".xr-array-data {\n",
       "  padding: 0 5px !important;\n",
       "  grid-column: 2;\n",
       "}\n",
       "\n",
       ".xr-array-data,\n",
       ".xr-array-in:checked ~ .xr-array-preview {\n",
       "  display: none;\n",
       "}\n",
       "\n",
       ".xr-array-in:checked ~ .xr-array-data,\n",
       ".xr-array-preview {\n",
       "  display: inline-block;\n",
       "}\n",
       "\n",
       ".xr-dim-list {\n",
       "  display: inline-block !important;\n",
       "  list-style: none;\n",
       "  padding: 0 !important;\n",
       "  margin: 0;\n",
       "}\n",
       "\n",
       ".xr-dim-list li {\n",
       "  display: inline-block;\n",
       "  padding: 0;\n",
       "  margin: 0;\n",
       "}\n",
       "\n",
       ".xr-dim-list:before {\n",
       "  content: '(';\n",
       "}\n",
       "\n",
       ".xr-dim-list:after {\n",
       "  content: ')';\n",
       "}\n",
       "\n",
       ".xr-dim-list li:not(:last-child):after {\n",
       "  content: ',';\n",
       "  padding-right: 5px;\n",
       "}\n",
       "\n",
       ".xr-has-index {\n",
       "  font-weight: bold;\n",
       "}\n",
       "\n",
       ".xr-var-list,\n",
       ".xr-var-item {\n",
       "  display: contents;\n",
       "}\n",
       "\n",
       ".xr-var-item > div,\n",
       ".xr-var-item label,\n",
       ".xr-var-item > .xr-var-name span {\n",
       "  background-color: var(--xr-background-color-row-even);\n",
       "  margin-bottom: 0;\n",
       "}\n",
       "\n",
       ".xr-var-item > .xr-var-name:hover span {\n",
       "  padding-right: 5px;\n",
       "}\n",
       "\n",
       ".xr-var-list > li:nth-child(odd) > div,\n",
       ".xr-var-list > li:nth-child(odd) > label,\n",
       ".xr-var-list > li:nth-child(odd) > .xr-var-name span {\n",
       "  background-color: var(--xr-background-color-row-odd);\n",
       "}\n",
       "\n",
       ".xr-var-name {\n",
       "  grid-column: 1;\n",
       "}\n",
       "\n",
       ".xr-var-dims {\n",
       "  grid-column: 2;\n",
       "}\n",
       "\n",
       ".xr-var-dtype {\n",
       "  grid-column: 3;\n",
       "  text-align: right;\n",
       "  color: var(--xr-font-color2);\n",
       "}\n",
       "\n",
       ".xr-var-preview {\n",
       "  grid-column: 4;\n",
       "}\n",
       "\n",
       ".xr-var-name,\n",
       ".xr-var-dims,\n",
       ".xr-var-dtype,\n",
       ".xr-preview,\n",
       ".xr-attrs dt {\n",
       "  white-space: nowrap;\n",
       "  overflow: hidden;\n",
       "  text-overflow: ellipsis;\n",
       "  padding-right: 10px;\n",
       "}\n",
       "\n",
       ".xr-var-name:hover,\n",
       ".xr-var-dims:hover,\n",
       ".xr-var-dtype:hover,\n",
       ".xr-attrs dt:hover {\n",
       "  overflow: visible;\n",
       "  width: auto;\n",
       "  z-index: 1;\n",
       "}\n",
       "\n",
       ".xr-var-attrs,\n",
       ".xr-var-data {\n",
       "  display: none;\n",
       "  background-color: var(--xr-background-color) !important;\n",
       "  padding-bottom: 5px !important;\n",
       "}\n",
       "\n",
       ".xr-var-attrs-in:checked ~ .xr-var-attrs,\n",
       ".xr-var-data-in:checked ~ .xr-var-data {\n",
       "  display: block;\n",
       "}\n",
       "\n",
       ".xr-var-data > table {\n",
       "  float: right;\n",
       "}\n",
       "\n",
       ".xr-var-name span,\n",
       ".xr-var-data,\n",
       ".xr-attrs {\n",
       "  padding-left: 25px !important;\n",
       "}\n",
       "\n",
       ".xr-attrs,\n",
       ".xr-var-attrs,\n",
       ".xr-var-data {\n",
       "  grid-column: 1 / -1;\n",
       "}\n",
       "\n",
       "dl.xr-attrs {\n",
       "  padding: 0;\n",
       "  margin: 0;\n",
       "  display: grid;\n",
       "  grid-template-columns: 125px auto;\n",
       "}\n",
       "\n",
       ".xr-attrs dt,\n",
       ".xr-attrs dd {\n",
       "  padding: 0;\n",
       "  margin: 0;\n",
       "  float: left;\n",
       "  padding-right: 10px;\n",
       "  width: auto;\n",
       "}\n",
       "\n",
       ".xr-attrs dt {\n",
       "  font-weight: normal;\n",
       "  grid-column: 1;\n",
       "}\n",
       "\n",
       ".xr-attrs dt:hover span {\n",
       "  display: inline-block;\n",
       "  background: var(--xr-background-color);\n",
       "  padding-right: 10px;\n",
       "}\n",
       "\n",
       ".xr-attrs dd {\n",
       "  grid-column: 2;\n",
       "  white-space: pre-wrap;\n",
       "  word-break: break-all;\n",
       "}\n",
       "\n",
       ".xr-icon-database,\n",
       ".xr-icon-file-text2 {\n",
       "  display: inline-block;\n",
       "  vertical-align: middle;\n",
       "  width: 1em;\n",
       "  height: 1.5em !important;\n",
       "  stroke-width: 0;\n",
       "  stroke: currentColor;\n",
       "  fill: currentColor;\n",
       "}\n",
       "</style><pre class='xr-text-repr-fallback'>&lt;xarray.DataArray (band: 0, y: 0, x: 0)&gt;\n",
       "array([], shape=(0, 0, 0), dtype=float32)\n",
       "Coordinates:\n",
       "  * band         (band) int64 \n",
       "  * x            (x) float64 \n",
       "  * y            (y) float64 \n",
       "    spatial_ref  int64 0\n",
       "Attributes:\n",
       "    RepresentationType:      ATHEMATIC\n",
       "    STATISTICS_COVARIANCES:  1812.683693159008,1945.1232612883,2097.202912864...\n",
       "    STATISTICS_MAXIMUM:      255\n",
       "    STATISTICS_MEAN:         164.21227088156\n",
       "    STATISTICS_MINIMUM:      0\n",
       "    STATISTICS_SKIPFACTORX:  1\n",
       "    STATISTICS_SKIPFACTORY:  1\n",
       "    STATISTICS_STDDEV:       42.575623226901\n",
       "    scale_factor:            1.0\n",
       "    add_offset:              0.0</pre><div class='xr-wrap' style='display:none'><div class='xr-header'><div class='xr-obj-type'>xarray.DataArray</div><div class='xr-array-name'></div><ul class='xr-dim-list'><li><span class='xr-has-index'>band</span>: 0</li><li><span class='xr-has-index'>y</span>: 0</li><li><span class='xr-has-index'>x</span>: 0</li></ul></div><ul class='xr-sections'><li class='xr-section-item'><div class='xr-array-wrap'><input id='section-d1a57132-94c8-42c6-b433-22ac4022188a' class='xr-array-in' type='checkbox' checked><label for='section-d1a57132-94c8-42c6-b433-22ac4022188a' title='Show/hide data repr'><svg class='icon xr-icon-database'><use xlink:href='#icon-database'></use></svg></label><div class='xr-array-preview xr-preview'><span></span></div><div class='xr-array-data'><pre>array([], shape=(0, 0, 0), dtype=float32)</pre></div></div></li><li class='xr-section-item'><input id='section-e525a2aa-7ea3-444a-8ff2-739a50937da6' class='xr-section-summary-in' type='checkbox'  checked><label for='section-e525a2aa-7ea3-444a-8ff2-739a50937da6' class='xr-section-summary' >Coordinates: <span>(4)</span></label><div class='xr-section-inline-details'></div><div class='xr-section-details'><ul class='xr-var-list'><li class='xr-var-item'><div class='xr-var-name'><span class='xr-has-index'>band</span></div><div class='xr-var-dims'>(band)</div><div class='xr-var-dtype'>int64</div><div class='xr-var-preview xr-preview'></div><input id='attrs-ce16d6ad-5baa-47da-be20-63f30f40b9d7' class='xr-var-attrs-in' type='checkbox' disabled><label for='attrs-ce16d6ad-5baa-47da-be20-63f30f40b9d7' title='Show/Hide attributes'><svg class='icon xr-icon-file-text2'><use xlink:href='#icon-file-text2'></use></svg></label><input id='data-1d3499cb-ce74-474b-adc4-a38911901f5a' class='xr-var-data-in' type='checkbox'><label for='data-1d3499cb-ce74-474b-adc4-a38911901f5a' title='Show/Hide data repr'><svg class='icon xr-icon-database'><use xlink:href='#icon-database'></use></svg></label><div class='xr-var-attrs'><dl class='xr-attrs'></dl></div><div class='xr-var-data'><pre>array([], dtype=int64)</pre></div></li><li class='xr-var-item'><div class='xr-var-name'><span class='xr-has-index'>x</span></div><div class='xr-var-dims'>(x)</div><div class='xr-var-dtype'>float64</div><div class='xr-var-preview xr-preview'></div><input id='attrs-67fe00d0-b707-4f1e-b8d9-6d8d40aa6e69' class='xr-var-attrs-in' type='checkbox' disabled><label for='attrs-67fe00d0-b707-4f1e-b8d9-6d8d40aa6e69' title='Show/Hide attributes'><svg class='icon xr-icon-file-text2'><use xlink:href='#icon-file-text2'></use></svg></label><input id='data-7b14b9e0-caf9-4fd0-b82f-78c37596e7eb' class='xr-var-data-in' type='checkbox'><label for='data-7b14b9e0-caf9-4fd0-b82f-78c37596e7eb' title='Show/Hide data repr'><svg class='icon xr-icon-database'><use xlink:href='#icon-database'></use></svg></label><div class='xr-var-attrs'><dl class='xr-attrs'></dl></div><div class='xr-var-data'><pre>array([], dtype=float64)</pre></div></li><li class='xr-var-item'><div class='xr-var-name'><span class='xr-has-index'>y</span></div><div class='xr-var-dims'>(y)</div><div class='xr-var-dtype'>float64</div><div class='xr-var-preview xr-preview'></div><input id='attrs-ee2c7149-ec78-474c-b1a7-4654141170b9' class='xr-var-attrs-in' type='checkbox' disabled><label for='attrs-ee2c7149-ec78-474c-b1a7-4654141170b9' title='Show/Hide attributes'><svg class='icon xr-icon-file-text2'><use xlink:href='#icon-file-text2'></use></svg></label><input id='data-dc80f51d-8245-4bd7-b5b5-0f3dc74a18bd' class='xr-var-data-in' type='checkbox'><label for='data-dc80f51d-8245-4bd7-b5b5-0f3dc74a18bd' title='Show/Hide data repr'><svg class='icon xr-icon-database'><use xlink:href='#icon-database'></use></svg></label><div class='xr-var-attrs'><dl class='xr-attrs'></dl></div><div class='xr-var-data'><pre>array([], dtype=float64)</pre></div></li><li class='xr-var-item'><div class='xr-var-name'><span>spatial_ref</span></div><div class='xr-var-dims'>()</div><div class='xr-var-dtype'>int64</div><div class='xr-var-preview xr-preview'>0</div><input id='attrs-50d34463-9500-42c8-abe0-98a74a1f96a7' class='xr-var-attrs-in' type='checkbox' ><label for='attrs-50d34463-9500-42c8-abe0-98a74a1f96a7' title='Show/Hide attributes'><svg class='icon xr-icon-file-text2'><use xlink:href='#icon-file-text2'></use></svg></label><input id='data-24762654-deb7-4e11-8cab-a982cf82143a' class='xr-var-data-in' type='checkbox'><label for='data-24762654-deb7-4e11-8cab-a982cf82143a' title='Show/Hide data repr'><svg class='icon xr-icon-database'><use xlink:href='#icon-database'></use></svg></label><div class='xr-var-attrs'><dl class='xr-attrs'><dt><span>crs_wkt :</span></dt><dd>PROJCS[&quot;WGS_1984_UTM_Zone_13N&quot;,GEOGCS[&quot;WGS 84&quot;,DATUM[&quot;WGS_1984&quot;,SPHEROID[&quot;WGS 84&quot;,6378137,298.257223563,AUTHORITY[&quot;EPSG&quot;,&quot;7030&quot;]],AUTHORITY[&quot;EPSG&quot;,&quot;6326&quot;]],PRIMEM[&quot;Greenwich&quot;,0],UNIT[&quot;degree&quot;,0.0174532925199433,AUTHORITY[&quot;EPSG&quot;,&quot;9122&quot;]],AUTHORITY[&quot;EPSG&quot;,&quot;4326&quot;]],PROJECTION[&quot;Transverse_Mercator&quot;],PARAMETER[&quot;latitude_of_origin&quot;,0],PARAMETER[&quot;central_meridian&quot;,-105],PARAMETER[&quot;scale_factor&quot;,0.9996],PARAMETER[&quot;false_easting&quot;,500000],PARAMETER[&quot;false_northing&quot;,0],UNIT[&quot;metre&quot;,1,AUTHORITY[&quot;EPSG&quot;,&quot;9001&quot;]],AXIS[&quot;Easting&quot;,EAST],AXIS[&quot;Northing&quot;,NORTH],AUTHORITY[&quot;EPSG&quot;,&quot;32613&quot;]]</dd><dt><span>semi_major_axis :</span></dt><dd>6378137.0</dd><dt><span>semi_minor_axis :</span></dt><dd>6356752.314245179</dd><dt><span>inverse_flattening :</span></dt><dd>298.257223563</dd><dt><span>reference_ellipsoid_name :</span></dt><dd>WGS 84</dd><dt><span>longitude_of_prime_meridian :</span></dt><dd>0.0</dd><dt><span>prime_meridian_name :</span></dt><dd>Greenwich</dd><dt><span>geographic_crs_name :</span></dt><dd>WGS 84</dd><dt><span>horizontal_datum_name :</span></dt><dd>World Geodetic System 1984</dd><dt><span>projected_crs_name :</span></dt><dd>WGS_1984_UTM_Zone_13N</dd><dt><span>grid_mapping_name :</span></dt><dd>transverse_mercator</dd><dt><span>latitude_of_projection_origin :</span></dt><dd>0.0</dd><dt><span>longitude_of_central_meridian :</span></dt><dd>-105.0</dd><dt><span>false_easting :</span></dt><dd>500000.0</dd><dt><span>false_northing :</span></dt><dd>0.0</dd><dt><span>scale_factor_at_central_meridian :</span></dt><dd>0.9996</dd><dt><span>spatial_ref :</span></dt><dd>PROJCS[&quot;WGS_1984_UTM_Zone_13N&quot;,GEOGCS[&quot;WGS 84&quot;,DATUM[&quot;WGS_1984&quot;,SPHEROID[&quot;WGS 84&quot;,6378137,298.257223563,AUTHORITY[&quot;EPSG&quot;,&quot;7030&quot;]],AUTHORITY[&quot;EPSG&quot;,&quot;6326&quot;]],PRIMEM[&quot;Greenwich&quot;,0],UNIT[&quot;degree&quot;,0.0174532925199433,AUTHORITY[&quot;EPSG&quot;,&quot;9122&quot;]],AUTHORITY[&quot;EPSG&quot;,&quot;4326&quot;]],PROJECTION[&quot;Transverse_Mercator&quot;],PARAMETER[&quot;latitude_of_origin&quot;,0],PARAMETER[&quot;central_meridian&quot;,-105],PARAMETER[&quot;scale_factor&quot;,0.9996],PARAMETER[&quot;false_easting&quot;,500000],PARAMETER[&quot;false_northing&quot;,0],UNIT[&quot;metre&quot;,1,AUTHORITY[&quot;EPSG&quot;,&quot;9001&quot;]],AXIS[&quot;Easting&quot;,EAST],AXIS[&quot;Northing&quot;,NORTH],AUTHORITY[&quot;EPSG&quot;,&quot;32613&quot;]]</dd><dt><span>GeoTransform :</span></dt><dd>519058.63265377784 0.015027257370922075 0.0 4519648.131796103 0.0 -0.015027257370920389</dd></dl></div><div class='xr-var-data'><pre>array(0)</pre></div></li></ul></div></li><li class='xr-section-item'><input id='section-b48929f3-e716-4980-ab93-6dbb1691a870' class='xr-section-summary-in' type='checkbox'  ><label for='section-b48929f3-e716-4980-ab93-6dbb1691a870' class='xr-section-summary' >Attributes: <span>(10)</span></label><div class='xr-section-inline-details'></div><div class='xr-section-details'><dl class='xr-attrs'><dt><span>RepresentationType :</span></dt><dd>ATHEMATIC</dd><dt><span>STATISTICS_COVARIANCES :</span></dt><dd>1812.683693159008,1945.1232612883,2097.20291286473,-3330.958328481827</dd><dt><span>STATISTICS_MAXIMUM :</span></dt><dd>255</dd><dt><span>STATISTICS_MEAN :</span></dt><dd>164.21227088156</dd><dt><span>STATISTICS_MINIMUM :</span></dt><dd>0</dd><dt><span>STATISTICS_SKIPFACTORX :</span></dt><dd>1</dd><dt><span>STATISTICS_SKIPFACTORY :</span></dt><dd>1</dd><dt><span>STATISTICS_STDDEV :</span></dt><dd>42.575623226901</dd><dt><span>scale_factor :</span></dt><dd>1.0</dd><dt><span>add_offset :</span></dt><dd>0.0</dd></dl></div></li></ul></div></div>"
      ],
      "text/plain": [
       "<xarray.DataArray (band: 0, y: 0, x: 0)>\n",
       "array([], shape=(0, 0, 0), dtype=float32)\n",
       "Coordinates:\n",
       "  * band         (band) int64 \n",
       "  * x            (x) float64 \n",
       "  * y            (y) float64 \n",
       "    spatial_ref  int64 0\n",
       "Attributes:\n",
       "    RepresentationType:      ATHEMATIC\n",
       "    STATISTICS_COVARIANCES:  1812.683693159008,1945.1232612883,2097.202912864...\n",
       "    STATISTICS_MAXIMUM:      255\n",
       "    STATISTICS_MEAN:         164.21227088156\n",
       "    STATISTICS_MINIMUM:      0\n",
       "    STATISTICS_SKIPFACTORX:  1\n",
       "    STATISTICS_SKIPFACTORY:  1\n",
       "    STATISTICS_STDDEV:       42.575623226901\n",
       "    scale_factor:            1.0\n",
       "    add_offset:              0.0"
      ]
     },
     "execution_count": 31,
     "metadata": {},
     "output_type": "execute_result"
    }
   ],
   "source": [
    "test = rgb_xr_list[0].where(rgb_xr_list[1].isnull(), drop=True)\n",
    "test"
   ]
  },
  {
   "cell_type": "code",
   "execution_count": 62,
   "id": "4c13e1f8-1a6f-4bd9-81a1-af9cc884c6c1",
   "metadata": {},
   "outputs": [],
   "source": [
    "\n",
    "rgb_xr_list = []\n",
    "for rgb_f in img_f_dict[pasture]['rgb']:\n",
    "    with riox.open_rasterio(rgb_f, masked=True, cache=False) as rgb_src:\n",
    "        rgb_xr_list.append(rgb_src.sel(band=slice(0, 3),\n",
    "                                       x=slice(ll[0], lr[0]),\n",
    "                                       y=slice(ul[1], ll[1]), \n",
    "                                       drop=True).load())"
   ]
  },
  {
   "cell_type": "code",
   "execution_count": 64,
   "id": "01fa719e-9464-4ef7-88bd-75efdb0d1cf2",
   "metadata": {},
   "outputs": [],
   "source": [
    "#rgb_xr_list"
   ]
  },
  {
   "cell_type": "code",
   "execution_count": 59,
   "id": "95735e2b-c00d-4154-99b8-b4904d7dbc1a",
   "metadata": {},
   "outputs": [
    {
     "name": "stdout",
     "output_type": "stream",
     "text": [
      "CPU times: user 2 µs, sys: 0 ns, total: 2 µs\n",
      "Wall time: 4.77 µs\n"
     ]
    }
   ],
   "source": [
    "%time\n",
    "rgb_xr_list = [x for x in rgb_xr_list if not any([s == 0 for s in x.shape])]"
   ]
  },
  {
   "cell_type": "code",
   "execution_count": 65,
   "id": "2db957d3-557a-401e-aad6-6b53d2cc0c06",
   "metadata": {},
   "outputs": [
    {
     "name": "stdout",
     "output_type": "stream",
     "text": [
      "CPU times: user 2 µs, sys: 0 ns, total: 2 µs\n",
      "Wall time: 3.81 µs\n"
     ]
    },
    {
     "data": {
      "text/plain": [
       "array(False)"
      ]
     },
     "execution_count": 65,
     "metadata": {},
     "output_type": "execute_result"
    }
   ],
   "source": [
    "%time\n",
    "rgb_xr_list[1].where(rgb_xr_list[1] != 255).isnull().all().values"
   ]
  },
  {
   "cell_type": "code",
   "execution_count": 39,
   "id": "5303ba88-cc4e-47ce-b0c2-90d537df1dbc",
   "metadata": {},
   "outputs": [
    {
     "data": {
      "text/plain": [
       "[<xarray.DataArray (band: 3, y: 2096, x: 10381)>\n",
       " dask.array<xarray-<this-array>, shape=(3, 2096, 10381), dtype=float32, chunksize=(3, 250, 250), chunktype=numpy.ndarray>\n",
       " Coordinates:\n",
       "   * band         (band) int64 1 2 3\n",
       "   * x            (x) float64 5.192e+05 5.192e+05 ... 5.193e+05 5.193e+05\n",
       "   * y            (y) float64 4.518e+06 4.518e+06 ... 4.518e+06 4.518e+06\n",
       "     spatial_ref  int64 0\n",
       " Attributes:\n",
       "     RepresentationType:      ATHEMATIC\n",
       "     STATISTICS_COVARIANCES:  1812.683693159008,1945.1232612883,2097.202912864...\n",
       "     STATISTICS_MAXIMUM:      255\n",
       "     STATISTICS_MEAN:         164.21227088156\n",
       "     STATISTICS_MINIMUM:      0\n",
       "     STATISTICS_SKIPFACTORX:  1\n",
       "     STATISTICS_SKIPFACTORY:  1\n",
       "     STATISTICS_STDDEV:       42.575623226901\n",
       "     scale_factor:            1.0\n",
       "     add_offset:              0.0\n",
       "     _FillValue:              -9999.0,\n",
       " <xarray.DataArray (band: 3, y: 10598, x: 10598)>\n",
       " dask.array<xarray-<this-array>, shape=(3, 10598, 10598), dtype=float32, chunksize=(3, 250, 250), chunktype=numpy.ndarray>\n",
       " Coordinates:\n",
       "   * band         (band) int64 1 2 3\n",
       "   * x            (x) float64 5.192e+05 5.192e+05 ... 5.193e+05 5.193e+05\n",
       "   * y            (y) float64 4.518e+06 4.518e+06 ... 4.518e+06 4.518e+06\n",
       "     spatial_ref  int64 0\n",
       " Attributes:\n",
       "     RepresentationType:  ATHEMATIC\n",
       "     scale_factor:        1.0\n",
       "     add_offset:          0.0\n",
       "     _FillValue:          -9999.0]"
      ]
     },
     "execution_count": 39,
     "metadata": {},
     "output_type": "execute_result"
    }
   ],
   "source": [
    "%time\n",
    "rgb_xr_list = [x.where(x != 255, drop=True) for x in rgb_xr_list if not x.where(x != 255).isnull().all().values]"
   ]
  },
  {
   "cell_type": "code",
   "execution_count": null,
   "id": "55348215-0c44-4650-b720-e174386f9f9b",
   "metadata": {},
   "outputs": [],
   "source": [
    "show(image_dict['rgb'])"
   ]
  },
  {
   "cell_type": "code",
   "execution_count": null,
   "id": "8a528026-bd33-4234-884e-603239eb9b72",
   "metadata": {},
   "outputs": [],
   "source": [
    "show(pr_mask)"
   ]
  },
  {
   "cell_type": "code",
   "execution_count": 35,
   "id": "aabf3e6b-bef0-4e56-8368-77e03c3da955",
   "metadata": {},
   "outputs": [
    {
     "data": {
      "text/plain": [
       "<AxesSubplot:>"
      ]
     },
     "execution_count": 35,
     "metadata": {},
     "output_type": "execute_result"
    },
    {
     "data": {
      "image/png": "[encoded data removed]",
      "text/plain": [
       "<Figure size 640x480 with 1 Axes>"
      ]
     },
     "metadata": {},
     "output_type": "display_data"
    }
   ],
   "source": [
    "gdf_out.plot()"
   ]
  },
  {
   "cell_type": "code",
   "execution_count": null,
   "id": "758c5209-d09a-4677-9670-388c5721240a",
   "metadata": {},
   "outputs": [],
   "source": []
  }
 ],
 "metadata": {
  "kernelspec": {
   "display_name": "Python 3 (ipykernel)",
   "language": "python",
   "name": "python3"
  },
  "language_info": {
   "codemirror_mode": {
    "name": "ipython",
    "version": 3
   },
   "file_extension": ".py",
   "mimetype": "text/x-python",
   "name": "python",
   "nbconvert_exporter": "python",
   "pygments_lexer": "ipython3",
   "version": "3.9.13"
  }
 },
 "nbformat": 4,
 "nbformat_minor": 5
}
